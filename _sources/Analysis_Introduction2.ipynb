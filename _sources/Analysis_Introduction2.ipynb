{
 "cells": [
  {
   "attachments": {},
   "cell_type": "markdown",
   "metadata": {},
   "source": [
    "## Introduction\n",
    "\n",
    "This chapter showcases a series of analytical works conducted on various aspects of the unified datasets, with some case studies acting as an exploratory data analysis for workshops and publications.\n",
    "\n",
    "The following sections are included in this chapter:\n",
    "\n",
    "```{example}\n",
    "\n",
    "::::{grid}\n",
    ":gutter: 3\n",
    "\n",
    ":::{grid-item-card} [**Quantifying success: A journey into the Archibald Prize**](https://acd-engine.github.io/jupyterbook/Analysis_ArchibaldPrize.html)\n",
    "This case study explores the Archibald Prize, an annual portraiture competition held by the Art Gallery of New South Wales. The analysis focuses on the prize's history, the artists and subjects involved, and the artworks themselves.\n",
    ":::\n",
    "\n",
    ":::{grid-item-card} Two!\n",
    "Here's the second card.\n",
    ":::\n",
    "\n",
    ":::{grid-item-card} Three!\n",
    "Here's the third card.\n",
    ":::\n",
    "::::\n",
    "```\n",
    "\n",
    "- [**Quantifying success: A journey into the Archibald Prize**](https://acd-engine.github.io/jupyterbook/Analysis_ArchibaldPrize.html): This case study explores the Archibald Prize, an annual portraiture competition held by the Art Gallery of New South Wales. The analysis focuses on the prize's history, the artists and subjects involved, and the artworks themselves.\n",
    "\n",
    "- [**Beyond the Big Top: Exploring career trajectories at Circus Oz**](https://acd-engine.github.io/jupyterbook/Analysis_CircusOz.html): We provide an exploratory data analysis of the career trajectories of Circus Oz performers.\n",
    "\n",
    "- [**The DAAO 500**](https://acd-engine.github.io/jupyterbook/Analysis_DAAO500.html): Using a curated list of DAAO artists, we take a deep dive into the nuances of the DAAO with a focus on role types.\n",
    "\n",
    "- [**Natural language processing with DAAO**](https://acd-engine.github.io/jupyterbook/Analysis_DAAOVenues.html): Using exhibition biographies as input data, we explore the similarities and dissimilarities of DAAO venues over time.\n",
    "\n",
    "- [**DAQA: Preliminary Analysis**](https://acd-engine.github.io/jupyterbook/Analysis_DAQA_Part1.html): This case study explores the DAQA dataset, focusing on the educational affliations of architects.\n",
    "\n",
    "- [**DAQA: Extended Analysis**](https://acd-engine.github.io/jupyterbook/Analysis_DAQA_Part2.html): A continuation of the previous case study, we investigate DAQA data further with a set of specific questions in mind.\n",
    "\n",
    "\n",
    "<style>\n",
    "  a {\n",
    "    color: #1ea5a6 !important;\n",
    "  }\n",
    "</style>"
   ]
  }
 ],
 "metadata": {
  "kernelspec": {
   "display_name": "Python 3",
   "language": "python",
   "name": "python3"
  },
  "language_info": {
   "codemirror_mode": {
    "name": "ipython",
    "version": 3
   },
   "file_extension": ".py",
   "mimetype": "text/x-python",
   "name": "python",
   "nbconvert_exporter": "python",
   "pygments_lexer": "ipython3",
   "version": "3.9.13"
  },
  "orig_nbformat": 4,
  "vscode": {
   "interpreter": {
    "hash": "aee8b7b246df8f9039afb4144a1f6fd8d2ca17a180786b69acc140d282b71a49"
   }
  }
 },
 "nbformat": 4,
 "nbformat_minor": 2
}
