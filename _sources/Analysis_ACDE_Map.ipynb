{
 "cells": [
  {
   "cell_type": "markdown",
   "metadata": {},
   "source": [
    "# ACDE Map\n",
    "\n",
    "<style>\n",
    "  a {\n",
    "    color: #1ea5a6 !important;\n",
    "  }\n",
    "</style>\n",
    "\n",
    "In this notebook, we showcase the ACDE Map - a web-based interactive map that allows users to explore the ACDEA data in a visual and intuitive way. Instructions on how to use the application are provided below."
   ]
  },
  {
   "cell_type": "markdown",
   "metadata": {
    "tags": [
     "remove-cell"
    ]
   },
   "source": [
    "### Fetch data"
   ]
  },
  {
   "cell_type": "code",
   "execution_count": 1,
   "metadata": {
    "tags": [
     "remove-cell"
    ]
   },
   "outputs": [],
   "source": [
    "# for data mgmt\n",
    "import numpy as np\n",
    "from collections import Counter\n",
    "import requests, gzip, io, os, json, pandas as pd\n",
    "import ast\n",
    "\n",
    "import warnings\n",
    "warnings.filterwarnings(\"ignore\")\n",
    "\n",
    "# # provide folder_name which contains uncompressed data i.e., csv and jsonl files\n",
    "# # only need to change this if you have already donwloaded data\n",
    "# # otherwise data will be fetched from google drive\n",
    "# global folder_name\n",
    "# folder_name = 'data/local'\n",
    "\n",
    "# def fetch_small_data_from_github(fname):\n",
    "#     url = f\"https://raw.githubusercontent.com/acd-engine/jupyterbook/master/data/analysis/{fname}\"\n",
    "#     response = requests.get(url)\n",
    "#     rawdata = response.content.decode('utf-8')\n",
    "#     return pd.read_csv(io.StringIO(rawdata))\n",
    "\n",
    "# def fetch_date_suffix():\n",
    "#     url = f\"https://raw.githubusercontent.com/acd-engine/jupyterbook/master/data/analysis/date_suffix\"\n",
    "#     response = requests.get(url)\n",
    "#     rawdata = response.content.decode('utf-8')\n",
    "#     try: return rawdata[:12]\n",
    "#     except: return None\n",
    "\n",
    "# def check_if_csv_exists_in_folder(filename):\n",
    "#     try: return pd.read_csv(os.path.join(folder_name, filename), low_memory=False)\n",
    "#     except: return None\n",
    "\n",
    "# def fetch_data(filetype='csv', acdedata='organization'):\n",
    "#     filename = f'acde_{acdedata}_{fetch_date_suffix()}.{filetype}'\n",
    "\n",
    "#     # first check if the data exists in current directory\n",
    "#     data_from_path = check_if_csv_exists_in_folder(filename)\n",
    "#     if data_from_path is not None: return data_from_path\n",
    "\n",
    "#     urls = fetch_small_data_from_github('acde_data_gdrive_urls.csv')\n",
    "#     sharelink = urls[urls.data == acdedata][filetype].values[0]\n",
    "#     url = f'https://drive.google.com/u/0/uc?id={sharelink}&export=download&confirm=yes'\n",
    "\n",
    "#     response = requests.get(url)\n",
    "#     decompressed_data = gzip.decompress(response.content)\n",
    "#     decompressed_buffer = io.StringIO(decompressed_data.decode('utf-8'))\n",
    "\n",
    "#     try:\n",
    "#         if filetype == 'csv': df = pd.read_csv(decompressed_buffer, low_memory=False)\n",
    "#         else: df = [json.loads(jl) for jl in pd.read_json(decompressed_buffer, lines=True, orient='records')[0]]\n",
    "#         return pd.DataFrame(df)\n",
    "#     except: return None \n",
    "\n",
    "# acde_events = fetch_data(acdedata='event')\n",
    "# acde_works = fetch_data(acdedata='work')\n",
    "\n",
    "acde_events = pd.read_csv('acde_event_202307252224.csv') # 12 secs\n",
    "acde_works = pd.read_csv('acde_work_202307252224.csv')"
   ]
  },
  {
   "cell_type": "markdown",
   "metadata": {
    "tags": [
     "remove-cell"
    ]
   },
   "source": [
    "### Events (DAAO)"
   ]
  },
  {
   "cell_type": "code",
   "execution_count": 3,
   "metadata": {
    "tags": [
     "remove-cell"
    ]
   },
   "outputs": [
    {
     "data": {
      "text/plain": [
       "\"AusStage\"    124916\n",
       "\"DAAO\"         21838\n",
       "\"CircusOZ\"       480\n",
       "Name: data_source, dtype: int64"
      ]
     },
     "execution_count": 3,
     "metadata": {},
     "output_type": "execute_result"
    }
   ],
   "source": [
    "acde_events['data_source'].value_counts()"
   ]
  },
  {
   "cell_type": "code",
   "execution_count": 2,
   "metadata": {
    "tags": [
     "remove-cell"
    ]
   },
   "outputs": [
    {
     "data": {
      "text/plain": [
       "(136764, 32)"
      ]
     },
     "execution_count": 2,
     "metadata": {},
     "output_type": "execute_result"
    }
   ],
   "source": [
    "events_expanded = []  # Use a list to store the expanded rows\n",
    "\n",
    "relevant_columns = ['_id','data_source','coverage_ranges','types','title','ori_url', 'related_people']\n",
    "acde_events_reduced = acde_events[acde_events['coverage_ranges'].str.contains('geo_coord',na=False)][relevant_columns]\n",
    "\n",
    "# get start and end years - optimized version\n",
    "for idx, row in acde_events_reduced.iterrows(): # takes 8 min\n",
    "    this_locations = pd.json_normalize(ast.literal_eval(row['coverage_ranges']))\n",
    "    row_expanded = pd.DataFrame(index=range(len(this_locations)), columns=relevant_columns)\n",
    "\n",
    "    for idx2, row2 in this_locations.iterrows():\n",
    "        row_expanded.loc[idx2, row2.index] = row2.values\n",
    "\n",
    "    # Fill the remaining columns with the same values as the original row\n",
    "    row_expanded.fillna(row, inplace=True)\n",
    "\n",
    "    events_expanded.append(row_expanded)\n",
    "\n",
    "# Concatenate all the expanded rows into a final DataFrame\n",
    "events_expanded = pd.concat(events_expanded, ignore_index=True)\n",
    "events_expanded = events_expanded[(events_expanded['place.geo_coord.latitude'].notnull()) &\\\n",
    "                                    (events_expanded['place.geo_coord.longitude'].notnull())]\n",
    "events_expanded.shape"
   ]
  },
  {
   "cell_type": "markdown",
   "metadata": {
    "tags": [
     "remove-cell"
    ]
   },
   "source": [
    "### Works (DAQA, DAAO)"
   ]
  },
  {
   "cell_type": "code",
   "execution_count": 5,
   "metadata": {
    "tags": [
     "remove-cell"
    ]
   },
   "outputs": [
    {
     "data": {
      "text/plain": [
       "\"DAAO\"        23729\n",
       "\"AusStage\"    19972\n",
       "\"DAQA\"         2203\n",
       "Name: data_source, dtype: int64"
      ]
     },
     "execution_count": 5,
     "metadata": {},
     "output_type": "execute_result"
    }
   ],
   "source": [
    "acde_works['data_source'].value_counts()"
   ]
  },
  {
   "cell_type": "code",
   "execution_count": 3,
   "metadata": {
    "tags": [
     "remove-cell"
    ]
   },
   "outputs": [
    {
     "data": {
      "text/plain": [
       "(1447, 19)"
      ]
     },
     "execution_count": 3,
     "metadata": {},
     "output_type": "execute_result"
    }
   ],
   "source": [
    "works_expanded = []  # Use a list to store the expanded rows\n",
    "\n",
    "relevant_columns = ['_id','data_source','coverage_range','title','ori_url', 'typologies','related_people']\n",
    "acde_works_reduced = acde_works[acde_works['coverage_range'].str.contains('geo_coord',na=False)][relevant_columns]\n",
    "\n",
    "# get start and end years - optimized version\n",
    "for idx, row in acde_works_reduced.iterrows():\n",
    "    # if idx == 1000: break\n",
    "    this_locations = pd.json_normalize(ast.literal_eval(row['coverage_range']))\n",
    "    row_expanded = pd.DataFrame(index=range(len(this_locations)), columns=relevant_columns)\n",
    "\n",
    "    for idx2, row2 in this_locations.iterrows():\n",
    "        row_expanded.loc[idx2, row2.index] = row2.values\n",
    "\n",
    "    # Fill the remaining columns with the same values as the original row\n",
    "    row_expanded.fillna(row, inplace=True)\n",
    "    works_expanded.append(row_expanded)\n",
    "\n",
    "# Concatenate all the expanded rows into a final DataFrame\n",
    "works_expanded = pd.concat(works_expanded, ignore_index=True)\n",
    "works_expanded = works_expanded[(works_expanded['place.geo_coord.latitude'].notnull()) &\\\n",
    "                                (works_expanded['place.geo_coord.longitude'].notnull())]\n",
    "works_expanded.shape"
   ]
  },
  {
   "cell_type": "markdown",
   "metadata": {
    "tags": [
     "remove-cell"
    ]
   },
   "source": [
    "### Unify events and works and remove redundant fields"
   ]
  },
  {
   "cell_type": "code",
   "execution_count": 4,
   "metadata": {
    "tags": [
     "remove-cell"
    ]
   },
   "outputs": [],
   "source": [
    "geocoded_data = events_expanded.append(works_expanded).drop(['coverage_ranges', 'coverage_range'], axis=1)\n",
    "\n",
    "geocoded_data['title'] = geocoded_data['title'].apply(lambda x: ast.literal_eval(x) if type(x) == str else np.nan)\n",
    "geocoded_data['ori_url'] = geocoded_data['ori_url'].apply(lambda x: ast.literal_eval(x) if type(x) == str else np.nan)\n",
    "\n",
    "geocoded_data['place.display_name'] = np.where(geocoded_data['place.display_name'].notnull(), geocoded_data['place.display_name'], \n",
    "                                                np.where(geocoded_data['place.address.ori_address'].notnull(), \n",
    "                                                         geocoded_data['place.address.ori_address'], 'Unknown'))\n",
    "\n",
    "cols_to_keep = ['_id', 'data_source', 'types', 'typologies','title', 'ori_url', 'date_range.date_end.year',\n",
    "                'date_range.date_end.month','date_range.date_start.year', 'date_range.date_start.month',\n",
    "                'place.geo_coord.latitude','place.geo_coord.longitude','place.display_name', 'related_people']\n",
    "\n",
    "geocoded_data = geocoded_data[(geocoded_data['date_range.date_start.year'].notnull()) | (geocoded_data['date_range.date_end.year'].notnull())][cols_to_keep]\n",
    "\n",
    "# if date_range.date_start.month and date_range.date_end.month are null, then change both values to 1\n",
    "geocoded_data.loc[(geocoded_data['date_range.date_start.month'].isnull()) & (geocoded_data['date_range.date_end.month'].isnull()),\n",
    "                 ['date_range.date_start.month', 'date_range.date_end.month']] = (1,1)\n",
    "\n",
    "geocoded_data['date_range.date_start.month'] = np.where((geocoded_data['date_range.date_start.year'].notnull()) &\\\n",
    "                                                        (geocoded_data['date_range.date_end.year'].notnull()) &\\\n",
    "                                                        (geocoded_data['date_range.date_end.month'].notnull()) &\\\n",
    "                                                        (geocoded_data['date_range.date_start.month'].isnull()),\n",
    "                                                        geocoded_data['date_range.date_end.month'], geocoded_data['date_range.date_start.month'])\n",
    "\n",
    "\n",
    "geocoded_data['date_range.date_start.month'] = np.where((geocoded_data['date_range.date_start.year'].notnull()) &\\\n",
    "                                                        (geocoded_data['date_range.date_end.year'].notnull()) &\\\n",
    "                                                        (geocoded_data['date_range.date_end.month'].notnull()) &\\\n",
    "                                                        (geocoded_data['date_range.date_start.month'].isnull()),\n",
    "                                                        geocoded_data['date_range.date_end.month'], geocoded_data['date_range.date_start.month'])\n",
    "\n",
    "# correct month and year inaccuracies\n",
    "geocoded_data['date_range.date_start.month'] = np.where(geocoded_data['date_range.date_start.month'].isnull(), geocoded_data['date_range.date_end.month'], geocoded_data['date_range.date_start.month'])\n",
    "geocoded_data['date_range.date_end.month'] = np.where(geocoded_data['date_range.date_end.month'].isnull(), geocoded_data['date_range.date_start.month'], geocoded_data['date_range.date_end.month'])\n",
    "\n",
    "geocoded_data['date_range.date_start.year'] = np.where(geocoded_data['date_range.date_start.year'].isnull(), geocoded_data['date_range.date_end.year'], geocoded_data['date_range.date_start.year'])\n",
    "geocoded_data['date_range.date_end.year'] = np.where(geocoded_data['date_range.date_end.year'].isnull(), geocoded_data['date_range.date_start.year'], geocoded_data['date_range.date_end.year'])\n",
    "\n",
    "geocoded_data['date_range.date_start.year'] = geocoded_data['date_range.date_start.year'].astype(int)\n",
    "geocoded_data['date_range.date_start.month'] = geocoded_data['date_range.date_start.month'].astype(int)\n",
    "geocoded_data['date_range.date_end.year'] = geocoded_data['date_range.date_end.year'].astype(int)\n",
    "geocoded_data['date_range.date_end.month'] = geocoded_data['date_range.date_end.month'].astype(int)\n",
    "\n",
    "geocoded_data['date_range.date_end.year'] = np.where(geocoded_data['date_range.date_start.year'] > geocoded_data['date_range.date_end.year'], geocoded_data['date_range.date_start.year'], geocoded_data['date_range.date_end.year'])\n",
    "geocoded_data['date_range.date_end.month'] = np.where(geocoded_data['date_range.date_start.year'] > geocoded_data['date_range.date_end.year'], geocoded_data['date_range.date_start.month'], geocoded_data['date_range.date_end.month'])\n",
    "\n",
    "month_misaligned_cond = (geocoded_data['date_range.date_start.year'] == geocoded_data['date_range.date_end.year']) &\\\n",
    "                (geocoded_data['date_range.date_start.month'] > geocoded_data['date_range.date_end.month'])\n",
    "\n",
    "geocoded_data['date_range.date_end.month'] = np.where(month_misaligned_cond, geocoded_data['date_range.date_start.month'], geocoded_data['date_range.date_end.month'])"
   ]
  },
  {
   "cell_type": "markdown",
   "metadata": {
    "tags": [
     "remove-cell"
    ]
   },
   "source": [
    "### Clean categories"
   ]
  },
  {
   "cell_type": "markdown",
   "metadata": {
    "tags": [
     "remove-cell"
    ]
   },
   "source": [
    "#### Pre-process DAQA and DAAO data"
   ]
  },
  {
   "cell_type": "code",
   "execution_count": 5,
   "metadata": {
    "tags": [
     "remove-cell"
    ]
   },
   "outputs": [
    {
     "data": {
      "text/plain": [
       "Exhibition      18453\n",
       "Architecture     1005\n",
       "Other             139\n",
       "Festival           64\n",
       "Name: category, dtype: int64"
      ]
     },
     "execution_count": 5,
     "metadata": {},
     "output_type": "execute_result"
    }
   ],
   "source": [
    "daao_daqa_geocoded_data = geocoded_data[~geocoded_data['data_source'].str.contains('AusStage')]\n",
    "\n",
    "daao_daqa_geocoded_data['types'] = daao_daqa_geocoded_data['types']\\\n",
    "    .apply(lambda x: ast.literal_eval(x.replace('[{\"primary_type\": [','').replace(']}]','')) if type(x) == str else np.nan)\n",
    "daao_daqa_geocoded_data['typologies'] = daao_daqa_geocoded_data['typologies']\\\n",
    "    .apply(lambda x: ast.literal_eval(x.replace('[','').replace(']','')) if type(x) == str else np.nan)\n",
    "daao_daqa_geocoded_data['types'] = np.where(daao_daqa_geocoded_data['types'].notnull(), daao_daqa_geocoded_data['types'], daao_daqa_geocoded_data['typologies'])\n",
    "daao_daqa_geocoded_data.drop('typologies', axis=1, inplace=True)\n",
    "\n",
    "# all nan values are daao, so we can fillna with exhibition\n",
    "daao_daqa_geocoded_data['types'].fillna('exhibition', inplace=True)\n",
    "\n",
    "# clean categories\n",
    "daao_daqa_geocoded_data['category'] = np.where(daao_daqa_geocoded_data['ori_url'].str.contains('qldarch', na=False), 'Architecture', np.nan)\n",
    "daao_daqa_geocoded_data['category'] = np.where(daao_daqa_geocoded_data['types'].str.contains('other event|performance|recital|opening', na=False), 'Other', daao_daqa_geocoded_data['category'])\n",
    "daao_daqa_geocoded_data['category'] = np.where(daao_daqa_geocoded_data['types'].str.contains('exhibition', na=False), 'Exhibition', daao_daqa_geocoded_data['category'])\n",
    "daao_daqa_geocoded_data['category'] = np.where(daao_daqa_geocoded_data['types'].str.contains('festival', na=False), 'Festival', daao_daqa_geocoded_data['category'])\n",
    "\n",
    "festival_index = daao_daqa_geocoded_data[(daao_daqa_geocoded_data['category'] == 'nan')]['types'].apply(lambda x: 'festival' if 'festival' in str(x) else np.nan).to_frame()\n",
    "daao_daqa_geocoded_data['types'] = np.where(daao_daqa_geocoded_data.index.isin(festival_index[festival_index.types.notnull()].index), 'festival', daao_daqa_geocoded_data['types'])\n",
    "\n",
    "daao_daqa_geocoded_data['category'] = daao_daqa_geocoded_data['category'].apply(lambda x: 'Exhibition' if x == 'nan' else x)\n",
    "daao_daqa_geocoded_data['subcategory'] = np.where(daao_daqa_geocoded_data['category'] == 'Architecture', daao_daqa_geocoded_data['types'], daao_daqa_geocoded_data['category'])\n",
    "daao_daqa_geocoded_data.drop('types', axis=1, inplace=True)\n",
    "\n",
    "daao_daqa_geocoded_data['category'].value_counts()"
   ]
  },
  {
   "cell_type": "code",
   "execution_count": 6,
   "metadata": {
    "tags": [
     "remove-cell"
    ]
   },
   "outputs": [
    {
     "data": {
      "text/plain": [
       "Theatre - Spoken Word    64338\n",
       "Music Theatre            21426\n",
       "Music                    11049\n",
       "Dance                     9793\n",
       "Other                     8223\n",
       "Circus                    1673\n",
       "Exhibition                 446\n",
       "Festival                   427\n",
       "Name: category, dtype: int64"
      ]
     },
     "execution_count": 6,
     "metadata": {},
     "output_type": "execute_result"
    }
   ],
   "source": [
    "ausstage_geocoded_data = geocoded_data[geocoded_data['data_source'].str.contains('AusStage')]\n",
    "ausstage_geocoded_data.drop('typologies', axis=1, inplace=True)\n",
    "\n",
    "primary_type = []\n",
    "secondary_type = []\n",
    "\n",
    "for t in ausstage_geocoded_data['types']: # takes 1 min\n",
    "    if 'numberDouble' in t:\n",
    "        primary_type.append('Other'); secondary_type.append(None)\n",
    "        continue\n",
    "\n",
    "    primary_type.append(\", \".join(pd.json_normalize(json.loads(t))['primary_type'].unique()))\n",
    "\n",
    "    try: secondary_type.append(\", \".join(pd.json_normalize(json.loads(t))['secondary_type'].unique()))\n",
    "    except: secondary_type.append(None)\n",
    "\n",
    "ausstage_geocoded_data['category'] = primary_type\n",
    "ausstage_geocoded_data['subcategory'] = secondary_type\n",
    "\n",
    "ausstage_geocoded_data['category'] = np.where(ausstage_geocoded_data['subcategory'].str.contains('Festival', na=False), 'Festival', ausstage_geocoded_data['category'])\n",
    "ausstage_geocoded_data['category'] = np.where(ausstage_geocoded_data['subcategory'].str.contains('Circus', na=False), 'Circus', ausstage_geocoded_data['category'])\n",
    "ausstage_geocoded_data['category'] = np.where((ausstage_geocoded_data['category'] == 'Other') & (ausstage_geocoded_data['subcategory'].str.contains('Exhibition', na=False)), \n",
    "                                     'Exhibition', ausstage_geocoded_data['category'])\n",
    "\n",
    "ausstage_geocoded_data.drop('types', axis=1, inplace=True)\n",
    "ausstage_geocoded_data['category'].value_counts()"
   ]
  },
  {
   "cell_type": "code",
   "execution_count": 17,
   "metadata": {
    "tags": [
     "remove-cell"
    ]
   },
   "outputs": [
    {
     "data": {
      "text/plain": [
       "Theatre - Spoken Word    64338\n",
       "Music Theatre            21426\n",
       "Exhibition               18899\n",
       "Music                    11049\n",
       "Dance                     9793\n",
       "Other                     8362\n",
       "Circus                    1673\n",
       "Architecture              1005\n",
       "Festival                   491\n",
       "Name: category, dtype: int64"
      ]
     },
     "execution_count": 17,
     "metadata": {},
     "output_type": "execute_result"
    }
   ],
   "source": [
    "geocoded_data_categorised = daao_daqa_geocoded_data.append(ausstage_geocoded_data)\n",
    "geocoded_data_categorised['category'].value_counts()"
   ]
  },
  {
   "cell_type": "markdown",
   "metadata": {
    "tags": [
     "remove-cell"
    ]
   },
   "source": [
    "### Extract related people"
   ]
  },
  {
   "cell_type": "code",
   "execution_count": 11,
   "metadata": {
    "tags": [
     "remove-cell"
    ]
   },
   "outputs": [
    {
     "data": {
      "text/html": [
       "<div>\n",
       "<style scoped>\n",
       "    .dataframe tbody tr th:only-of-type {\n",
       "        vertical-align: middle;\n",
       "    }\n",
       "\n",
       "    .dataframe tbody tr th {\n",
       "        vertical-align: top;\n",
       "    }\n",
       "\n",
       "    .dataframe thead th {\n",
       "        text-align: right;\n",
       "    }\n",
       "</style>\n",
       "<table border=\"1\" class=\"dataframe\">\n",
       "  <thead>\n",
       "    <tr style=\"text-align: right;\">\n",
       "      <th></th>\n",
       "      <th>person</th>\n",
       "      <th>_id</th>\n",
       "    </tr>\n",
       "  </thead>\n",
       "  <tbody>\n",
       "    <tr>\n",
       "      <th>0</th>\n",
       "      <td>Anita Aarons</td>\n",
       "      <td>64581122d72f0e29f613ad80</td>\n",
       "    </tr>\n",
       "    <tr>\n",
       "      <th>0</th>\n",
       "      <td>Anita Aarons</td>\n",
       "      <td>64581122d72f0e29f613ad81</td>\n",
       "    </tr>\n",
       "    <tr>\n",
       "      <th>0</th>\n",
       "      <td>Inez M. Abbot</td>\n",
       "      <td>64581122d72f0e29f613ad82</td>\n",
       "    </tr>\n",
       "    <tr>\n",
       "      <th>0</th>\n",
       "      <td>L. B. Abercrombie</td>\n",
       "      <td>64581122d72f0e29f613ad83</td>\n",
       "    </tr>\n",
       "    <tr>\n",
       "      <th>0</th>\n",
       "      <td>Myra Felton</td>\n",
       "      <td>64581122d72f0e29f613ad85</td>\n",
       "    </tr>\n",
       "  </tbody>\n",
       "</table>\n",
       "</div>"
      ],
      "text/plain": [
       "              person                       _id\n",
       "0       Anita Aarons  64581122d72f0e29f613ad80\n",
       "0       Anita Aarons  64581122d72f0e29f613ad81\n",
       "0      Inez M. Abbot  64581122d72f0e29f613ad82\n",
       "0  L. B. Abercrombie  64581122d72f0e29f613ad83\n",
       "0        Myra Felton  64581122d72f0e29f613ad85"
      ]
     },
     "execution_count": 11,
     "metadata": {},
     "output_type": "execute_result"
    }
   ],
   "source": [
    "related_persons = []\n",
    "\n",
    "for idx, row in geocoded_data_categorised.iterrows(): # takes 4 mins\n",
    "    try:\n",
    "        this_person = pd.json_normalize(json.loads(row['related_people']))\n",
    "        [related_persons.append(row2[['relation_class','object.label','subject.curr_dbid.$oid']])\\\n",
    "            if 'RelatedPerson' in row2['relation_class'] \\\n",
    "            else related_persons.append(row2[['relation_class','subject.label','object.curr_dbid.$oid']])\\\n",
    "            for idx2, row2 in this_person.iterrows()]\n",
    "    except: continue\n",
    "\n",
    "related_persons = pd.DataFrame(related_persons)\n",
    "\n",
    "related_persons['person'] = np.where(related_persons['relation_class'].str.contains('RelatedPerson'), related_persons['object.label'], related_persons['subject.label'])\n",
    "related_persons['_id'] = np.where(related_persons['relation_class'].str.contains('RelatedPerson'), related_persons['subject.curr_dbid.$oid'], related_persons['object.curr_dbid.$oid'])\n",
    "\n",
    "related_persons = related_persons[['person','_id']]\n",
    "related_persons.head()"
   ]
  },
  {
   "cell_type": "code",
   "execution_count": 18,
   "metadata": {
    "tags": [
     "remove-cell"
    ]
   },
   "outputs": [
    {
     "data": {
      "text/html": [
       "<div>\n",
       "<style scoped>\n",
       "    .dataframe tbody tr th:only-of-type {\n",
       "        vertical-align: middle;\n",
       "    }\n",
       "\n",
       "    .dataframe tbody tr th {\n",
       "        vertical-align: top;\n",
       "    }\n",
       "\n",
       "    .dataframe thead th {\n",
       "        text-align: right;\n",
       "    }\n",
       "</style>\n",
       "<table border=\"1\" class=\"dataframe\">\n",
       "  <thead>\n",
       "    <tr style=\"text-align: right;\">\n",
       "      <th></th>\n",
       "      <th>0</th>\n",
       "      <th>1</th>\n",
       "      <th>2</th>\n",
       "    </tr>\n",
       "  </thead>\n",
       "  <tbody>\n",
       "    <tr>\n",
       "      <th>_id</th>\n",
       "      <td>64581122d72f0e29f613ad80</td>\n",
       "      <td>64581122d72f0e29f613ad81</td>\n",
       "      <td>64581122d72f0e29f613ad82</td>\n",
       "    </tr>\n",
       "    <tr>\n",
       "      <th>title</th>\n",
       "      <td>Expo</td>\n",
       "      <td>World Crafts Conference</td>\n",
       "      <td>Exhibition of water colors by Inez Abbott</td>\n",
       "    </tr>\n",
       "    <tr>\n",
       "      <th>ori_url</th>\n",
       "      <td>https://www.daao.org.au/bio/event/expo</td>\n",
       "      <td>https://www.daao.org.au/bio/event/world-crafts...</td>\n",
       "      <td>https://www.daao.org.au/bio/event/exhibition-o...</td>\n",
       "    </tr>\n",
       "    <tr>\n",
       "      <th>date_range.date_end.year</th>\n",
       "      <td>1967</td>\n",
       "      <td>1964</td>\n",
       "      <td>1939</td>\n",
       "    </tr>\n",
       "    <tr>\n",
       "      <th>date_range.date_end.month</th>\n",
       "      <td>1</td>\n",
       "      <td>1</td>\n",
       "      <td>11</td>\n",
       "    </tr>\n",
       "    <tr>\n",
       "      <th>date_range.date_start.year</th>\n",
       "      <td>1967</td>\n",
       "      <td>1964</td>\n",
       "      <td>1939</td>\n",
       "    </tr>\n",
       "    <tr>\n",
       "      <th>date_range.date_start.month</th>\n",
       "      <td>1</td>\n",
       "      <td>1</td>\n",
       "      <td>11</td>\n",
       "    </tr>\n",
       "    <tr>\n",
       "      <th>place.geo_coord.latitude</th>\n",
       "      <td>45.508889</td>\n",
       "      <td>40.714353</td>\n",
       "      <td>-37.813187</td>\n",
       "    </tr>\n",
       "    <tr>\n",
       "      <th>place.geo_coord.longitude</th>\n",
       "      <td>-73.554167</td>\n",
       "      <td>-74.005973</td>\n",
       "      <td>144.96298</td>\n",
       "    </tr>\n",
       "    <tr>\n",
       "      <th>place.display_name</th>\n",
       "      <td>Canadian pavillion, Montreal, Canada</td>\n",
       "      <td>New York, United States</td>\n",
       "      <td>Sedon Galleries, Melbourne, Victoria</td>\n",
       "    </tr>\n",
       "    <tr>\n",
       "      <th>category</th>\n",
       "      <td>Exhibition</td>\n",
       "      <td>Exhibition</td>\n",
       "      <td>Exhibition</td>\n",
       "    </tr>\n",
       "    <tr>\n",
       "      <th>subcategory</th>\n",
       "      <td>Exhibition</td>\n",
       "      <td>Exhibition</td>\n",
       "      <td>Exhibition</td>\n",
       "    </tr>\n",
       "  </tbody>\n",
       "</table>\n",
       "</div>"
      ],
      "text/plain": [
       "                                                                  0  \\\n",
       "_id                                        64581122d72f0e29f613ad80   \n",
       "title                                                          Expo   \n",
       "ori_url                      https://www.daao.org.au/bio/event/expo   \n",
       "date_range.date_end.year                                       1967   \n",
       "date_range.date_end.month                                         1   \n",
       "date_range.date_start.year                                     1967   \n",
       "date_range.date_start.month                                       1   \n",
       "place.geo_coord.latitude                                  45.508889   \n",
       "place.geo_coord.longitude                                -73.554167   \n",
       "place.display_name             Canadian pavillion, Montreal, Canada   \n",
       "category                                                 Exhibition   \n",
       "subcategory                                              Exhibition   \n",
       "\n",
       "                                                                             1  \\\n",
       "_id                                                   64581122d72f0e29f613ad81   \n",
       "title                                                  World Crafts Conference   \n",
       "ori_url                      https://www.daao.org.au/bio/event/world-crafts...   \n",
       "date_range.date_end.year                                                  1964   \n",
       "date_range.date_end.month                                                    1   \n",
       "date_range.date_start.year                                                1964   \n",
       "date_range.date_start.month                                                  1   \n",
       "place.geo_coord.latitude                                             40.714353   \n",
       "place.geo_coord.longitude                                           -74.005973   \n",
       "place.display_name                                     New York, United States   \n",
       "category                                                            Exhibition   \n",
       "subcategory                                                         Exhibition   \n",
       "\n",
       "                                                                             2  \n",
       "_id                                                   64581122d72f0e29f613ad82  \n",
       "title                                Exhibition of water colors by Inez Abbott  \n",
       "ori_url                      https://www.daao.org.au/bio/event/exhibition-o...  \n",
       "date_range.date_end.year                                                  1939  \n",
       "date_range.date_end.month                                                   11  \n",
       "date_range.date_start.year                                                1939  \n",
       "date_range.date_start.month                                                 11  \n",
       "place.geo_coord.latitude                                            -37.813187  \n",
       "place.geo_coord.longitude                                            144.96298  \n",
       "place.display_name                        Sedon Galleries, Melbourne, Victoria  \n",
       "category                                                            Exhibition  \n",
       "subcategory                                                         Exhibition  "
      ]
     },
     "execution_count": 18,
     "metadata": {},
     "output_type": "execute_result"
    }
   ],
   "source": [
    "geocoded_data_categorised['_id'] = geocoded_data_categorised['_id'].apply(lambda x: x.replace('{\"$oid\": \"','').replace('\"}',\"\"))\n",
    "geocoded_data_categorised.drop(['data_source','related_people'], axis=1, inplace=True)\n",
    "geocoded_data_categorised.head(3).T"
   ]
  },
  {
   "cell_type": "markdown",
   "metadata": {
    "tags": [
     "remove-cell"
    ]
   },
   "source": [
    "### Create binary indicator to see if the event occurred in Australia"
   ]
  },
  {
   "cell_type": "code",
   "execution_count": 19,
   "metadata": {
    "tags": [
     "remove-cell"
    ]
   },
   "outputs": [
    {
     "data": {
      "text/plain": [
       "(136715, 12)"
      ]
     },
     "execution_count": 19,
     "metadata": {},
     "output_type": "execute_result"
    }
   ],
   "source": [
    "longs = []\n",
    "lats = []\n",
    "\n",
    "for idx,row in geocoded_data_categorised.iterrows():\n",
    "    try: longs.append(pd.to_numeric(row['place.geo_coord.longitude']))\n",
    "    except: longs.append(None)\n",
    "\n",
    "    try: lats.append(pd.to_numeric(row['place.geo_coord.latitude']))\n",
    "    except: lats.append(None)\n",
    "\n",
    "geocoded_data_categorised['place.geo_coord.longitude'] = longs\n",
    "geocoded_data_categorised['place.geo_coord.latitude'] = lats\n",
    "\n",
    "geocoded_data_categorised = geocoded_data_categorised[geocoded_data_categorised['place.geo_coord.latitude'].notnull() &\\\n",
    "                                                        geocoded_data_categorised['place.geo_coord.longitude'].notnull()]\n",
    "\n",
    "# Define the valid range for longitude and latitude\n",
    "valid_longitude_range = (-180, 180); valid_latitude_range = (-90, 90)\n",
    "\n",
    "# Filter out rows with longitude outside the valid range\n",
    "geocoded_data_categorised = geocoded_data_categorised[(geocoded_data_categorised['place.geo_coord.longitude'] >= valid_longitude_range[0]) &\\\n",
    "    (geocoded_data_categorised['place.geo_coord.longitude'] <= valid_longitude_range[1])]\n",
    "\n",
    "# Filter out rows with latitude outside the valid range\n",
    "geocoded_data_categorised = geocoded_data_categorised[(geocoded_data_categorised['place.geo_coord.latitude'] >= valid_latitude_range[0]) &\\\n",
    "    (geocoded_data_categorised['place.geo_coord.latitude'] <= valid_latitude_range[1])]\n",
    "\n",
    "# Reset the DataFrame index after filtering\n",
    "geocoded_data_categorised = geocoded_data_categorised.reset_index(drop=True)\n",
    "geocoded_data_categorised.shape"
   ]
  },
  {
   "cell_type": "code",
   "execution_count": 20,
   "metadata": {
    "tags": [
     "remove-cell"
    ]
   },
   "outputs": [
    {
     "name": "stdout",
     "output_type": "stream",
     "text": [
      "Loading formatted geocoded file...\n"
     ]
    },
    {
     "data": {
      "text/html": [
       "<div>\n",
       "<style scoped>\n",
       "    .dataframe tbody tr th:only-of-type {\n",
       "        vertical-align: middle;\n",
       "    }\n",
       "\n",
       "    .dataframe tbody tr th {\n",
       "        vertical-align: top;\n",
       "    }\n",
       "\n",
       "    .dataframe thead th {\n",
       "        text-align: right;\n",
       "    }\n",
       "</style>\n",
       "<table border=\"1\" class=\"dataframe\">\n",
       "  <thead>\n",
       "    <tr style=\"text-align: right;\">\n",
       "      <th></th>\n",
       "      <th>lat</th>\n",
       "      <th>lon</th>\n",
       "      <th>name</th>\n",
       "      <th>admin1</th>\n",
       "      <th>admin2</th>\n",
       "      <th>cc</th>\n",
       "      <th>place.geo_coord.latitude</th>\n",
       "      <th>place.geo_coord.longitude</th>\n",
       "    </tr>\n",
       "  </thead>\n",
       "  <tbody>\n",
       "    <tr>\n",
       "      <th>0</th>\n",
       "      <td>-33.76604</td>\n",
       "      <td>151.16213</td>\n",
       "      <td>Killara</td>\n",
       "      <td>New South Wales</td>\n",
       "      <td>Ku-ring-gai</td>\n",
       "      <td>AU</td>\n",
       "      <td>-33.763331</td>\n",
       "      <td>151.155534</td>\n",
       "    </tr>\n",
       "    <tr>\n",
       "      <th>1</th>\n",
       "      <td>-34.086</td>\n",
       "      <td>150.78512</td>\n",
       "      <td>Glen Alpine</td>\n",
       "      <td>New South Wales</td>\n",
       "      <td>Campbelltown Municipality</td>\n",
       "      <td>AU</td>\n",
       "      <td>-34.069551</td>\n",
       "      <td>150.792157</td>\n",
       "    </tr>\n",
       "    <tr>\n",
       "      <th>2</th>\n",
       "      <td>-37.9</td>\n",
       "      <td>144.66667</td>\n",
       "      <td>Werribee</td>\n",
       "      <td>Victoria</td>\n",
       "      <td>Wyndham</td>\n",
       "      <td>AU</td>\n",
       "      <td>-37.883915</td>\n",
       "      <td>144.647691</td>\n",
       "    </tr>\n",
       "    <tr>\n",
       "      <th>3</th>\n",
       "      <td>51.68139</td>\n",
       "      <td>-2.35333</td>\n",
       "      <td>Dursley</td>\n",
       "      <td>England</td>\n",
       "      <td>Gloucestershire</td>\n",
       "      <td>GB</td>\n",
       "      <td>51.683653</td>\n",
       "      <td>-2.304888</td>\n",
       "    </tr>\n",
       "    <tr>\n",
       "      <th>4</th>\n",
       "      <td>-37.46667</td>\n",
       "      <td>145.23333</td>\n",
       "      <td>Kinglake West</td>\n",
       "      <td>Victoria</td>\n",
       "      <td>Murrindindi</td>\n",
       "      <td>AU</td>\n",
       "      <td>-37.322300</td>\n",
       "      <td>145.302930</td>\n",
       "    </tr>\n",
       "  </tbody>\n",
       "</table>\n",
       "</div>"
      ],
      "text/plain": [
       "         lat        lon           name           admin1  \\\n",
       "0  -33.76604  151.16213        Killara  New South Wales   \n",
       "1    -34.086  150.78512    Glen Alpine  New South Wales   \n",
       "2      -37.9  144.66667       Werribee         Victoria   \n",
       "3   51.68139   -2.35333        Dursley          England   \n",
       "4  -37.46667  145.23333  Kinglake West         Victoria   \n",
       "\n",
       "                      admin2  cc  place.geo_coord.latitude  \\\n",
       "0                Ku-ring-gai  AU                -33.763331   \n",
       "1  Campbelltown Municipality  AU                -34.069551   \n",
       "2                    Wyndham  AU                -37.883915   \n",
       "3            Gloucestershire  GB                 51.683653   \n",
       "4                Murrindindi  AU                -37.322300   \n",
       "\n",
       "   place.geo_coord.longitude  \n",
       "0                 151.155534  \n",
       "1                 150.792157  \n",
       "2                 144.647691  \n",
       "3                  -2.304888  \n",
       "4                 145.302930  "
      ]
     },
     "execution_count": 20,
     "metadata": {},
     "output_type": "execute_result"
    }
   ],
   "source": [
    "# !pip install reverse_geocoder\n",
    "import reverse_geocoder as rg\n",
    "unique_geocodes = set(zip(geocoded_data_categorised['place.geo_coord.latitude'], geocoded_data_categorised['place.geo_coord.longitude']))\n",
    "unique_geocodes_list = list(unique_geocodes)\n",
    "results = rg.search(unique_geocodes_list)\n",
    "results_df = pd.concat([pd.DataFrame(results),pd.DataFrame(unique_geocodes_list)], axis=1)\n",
    "results_df.rename(columns={0: 'place.geo_coord.latitude', 1: 'place.geo_coord.longitude'}, inplace=True)\n",
    "results_df.head()"
   ]
  },
  {
   "cell_type": "code",
   "execution_count": 29,
   "metadata": {
    "tags": [
     "remove-cell"
    ]
   },
   "outputs": [
    {
     "data": {
      "text/plain": [
       "AU    0.934952\n",
       "GB    0.034349\n",
       "NZ    0.008251\n",
       "US    0.006481\n",
       "FR    0.002202\n",
       "DE    0.001704\n",
       "CA    0.001178\n",
       "NL    0.001068\n",
       "JP    0.000966\n",
       "CN    0.000746\n",
       "Name: cc, dtype: float64"
      ]
     },
     "execution_count": 29,
     "metadata": {},
     "output_type": "execute_result"
    }
   ],
   "source": [
    "# geocoded_data_categorised = pd.merge(geocoded_data_categorised,results_df,on=['place.geo_coord.latitude', 'place.geo_coord.longitude'])\n",
    "# geocoded_data_categorised.drop(['lat','lon','name','admin1','admin2'], axis=1, inplace=True)\n",
    "\n",
    "# # WA error - fixes 470 rows\n",
    "# geocoded_data_categorised.loc[(round(geocoded_data_categorised['place.geo_coord.latitude'], 2) == 47.75),\n",
    "#                                 ['place.geo_coord.latitude', 'place.geo_coord.longitude']] = (31.9523, 115.8613)\n",
    "\n",
    "# geocoded_data_categorised.loc[geocoded_data_categorised['place.geo_coord.latitude'] == 31.9523, ['cc']] = ('AU')\n",
    "\n",
    "## save data\n",
    "## geocoded_data_categorised.drop_duplicates(subset=['_id']).to_csv('acde_map_geocoded_data.csv', index=False)\n",
    "## related_persons.drop_duplicates().to_csv('acde_map_related_persons.csv', index=False)\n",
    "\n",
    "geocoded_data_categorised['cc'].value_counts(normalize=True).head(10)"
   ]
  },
  {
   "cell_type": "markdown",
   "metadata": {},
   "source": [
    "## Temporal Mapping of Australian Cultural Activity\n",
    "\n",
    "**Instructions**\n",
    "1. Drag the slider to establish a start year for the animated spatio-temporal map.\n",
    "2. Uncheck cultural categories that you do not want to include in the map, otherwise leave as is.\n",
    "3. Press the play button and this will begin the animation. Each frame corresponds to one month. You can pause the animation at any time by pressing the pause button.\n",
    "4. You can zoom in/out, drag the map, and also click data points for more information.\n",
    "5. Once you have stopped the animation and landed on a month/year of interest, you can then press the `Generate network graph` button which will load a network graph displaying relationships across all organisations and participants for the selected month/year. This graph is made up of a sample of what is within the mapview. If you would like to fetch another sample for the same month/year, simply press the `Generate network graph` button again.\n",
    "6. If you want to produce a network graph for a different month/year, you will need to start the process again. First, you will need to press the `Clear map` button to remove all data points from the map. Next, you can make changes to the animation speed, start year or filter specific cultural categories. From here you will need to press the play button again to generate a new animation. The data that is presented in the mapview is the same data that is used to generate the network graph, therefore if you would like to generate a network graph of a specific cultural category or many, you need to make sure the corresponding cultural categories are checked.\n",
    "\n",
    "**Other Functionalities**\n",
    "- If you would like the animation to run faster, you can reduce the default speed value from 500 to 200. Be careful with this input as every time you modify the speed value, the slider will reset to the default start year (1900).\n",
    "- In its initial state, the animated map will keep data from previous months/years. If you would prefer to only see relevant data for each month/year, you can check the `Clear data after every month` checkbox.\n",
    "\n",
    "**Network Graph Legend**\n",
    "- Blue nodes represent organisations/venues.\n",
    "- Grey nodes represent participants.\n",
    "- Edges represent an occurence in the given time period - they are uniformally weighted. The colour of the edge corresponds with the cultural category of the participant's engagement with an organisation/venue.\n",
    "- The size of a participant node also corresponds with the number of participated events in the given time period. This frequency can be obtained by hovering over the node."
   ]
  },
  {
   "cell_type": "markdown",
   "metadata": {},
   "source": [
    "<iframe height=\"1950\" width=\"800\" frameborder=\"no\" src=\"https://jmunoz.shinyapps.io/acde-map/\"> </iframe>"
   ]
  }
 ],
 "metadata": {
  "kernelspec": {
   "display_name": "tf2",
   "language": "python",
   "name": "python3"
  },
  "language_info": {
   "codemirror_mode": {
    "name": "ipython",
    "version": 3
   },
   "file_extension": ".py",
   "mimetype": "text/x-python",
   "name": "python",
   "nbconvert_exporter": "python",
   "pygments_lexer": "ipython3",
   "version": "3.9.13"
  },
  "orig_nbformat": 4
 },
 "nbformat": 4,
 "nbformat_minor": 2
}
