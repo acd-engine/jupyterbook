{
 "cells": [
  {
   "cell_type": "markdown",
   "id": "393265af",
   "metadata": {
    "lines_to_next_cell": 0
   },
   "source": []
  },
  {
   "cell_type": "code",
   "execution_count": null,
   "id": "61e21037",
   "metadata": {
    "lines_to_next_cell": 0
   },
   "outputs": [],
   "source": [
    "library(ggplot2)\n",
    "\n",
    "\n",
    "df <- data.frame(\n",
    "  sex=factor(rep(c(\"F\", \"M\"), each=200)),\n",
    "  weight=round(c(rnorm(200, mean=55, sd=5), rnorm(200, mean=65, sd=5)))\n",
    ")\n",
    "\n",
    "head(df)\n",
    "\n",
    "# Basic histogram\n",
    "ggplot(df, aes(x=weight)) + geom_histogram()\n",
    "# Change the width of bins\n",
    "ggplot(df, aes(x=weight)) + geom_histogram(binwidth=1)\n",
    "# Change colors\n",
    "p<-ggplot(df, aes(x=weight)) + geom_histogram(color=\"black\", fill=\"white\")\n",
    "p"
   ]
  },
  {
   "cell_type": "markdown",
   "id": "84b42031",
   "metadata": {},
   "source": []
  }
 ],
 "metadata": {
  "jupytext": {
   "cell_metadata_filter": "-all",
   "main_language": "R",
   "notebook_metadata_filter": "-all"
  },
  "kernelspec": {
   "display_name": "Python 3.10.7 64-bit",
   "language": "python",
   "name": "python3"
  },
  "language_info": {
   "name": "python",
   "version": "3.10.7"
  },
  "vscode": {
   "interpreter": {
    "hash": "aee8b7b246df8f9039afb4144a1f6fd8d2ca17a180786b69acc140d282b71a49"
   }
  }
 },
 "nbformat": 4,
 "nbformat_minor": 5
}
