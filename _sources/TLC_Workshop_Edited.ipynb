{
 "cells": [
  {
   "cell_type": "markdown",
   "id": "f2099208",
   "metadata": {},
   "source": [
    "# TLC Workshop"
   ]
  },
  {
   "cell_type": "code",
   "execution_count": null,
   "id": "a83494ba",
   "metadata": {
    "tags": [
     "hide-input"
    ]
   },
   "outputs": [],
   "source": [
    "### import modules\n",
    "# for data/string manipulation\n",
    "import re\n",
    "import json\n",
    "import pandas as pd\n",
    "import numpy as np\n",
    "from datetime import datetime\n",
    "from collections import Counter\n",
    "\n",
    "# for plotting\n",
    "import seaborn as sns\n",
    "import matplotlib as mpl\n",
    "import matplotlib.pyplot as plt\n",
    "# import plotly.express as px\n",
    "# import sweetviz as sv\n",
    "# px.set_mapbox_access_token(\"pk.eyJ1Ijoia2FiaXJtYW5hbmRoYXIiLCJhIjoiY2w3ZTMxYWxpMDNtajN3bHZvbHJyYThueiJ9.DpnmOuQdHCWU_crpaEZqAg\")\n",
    "# import plotly.graph_objects as go\n",
    "\n",
    "import plotly.io as pio\n",
    "import plotly.express as px\n",
    "import plotly.offline as py\n",
    "\n",
    "# # for network graphs\n",
    "# import networkx as nx\n",
    "# from pyvis import network as net\n",
    "\n",
    "# optional\n",
    "import warnings\n",
    "warnings.filterwarnings('ignore')\n",
    "\n",
    "#### Fetch data\n",
    "#### Setlist fm data\n",
    "# scraped data collected. Scraping occured on the 7/10/22\n",
    "mel_df = pd.read_csv('data/melbourne_setlist_data.csv', index_col=0)\n",
    "\n",
    "# remove redundant venues\n",
    "mel_df = mel_df[mel_df.Venue != 'Unknown Venue, Melbourne, Australia']\n",
    "mel_df = mel_df[mel_df.Venue != \"Melbourne Hotel, Perth, Australia\"]\n",
    "\n",
    "# clean venue names\n",
    "mel_df['Venue'] = mel_df['Venue'].str.replace(r', Melbourne, Australia', '')\n",
    "\n",
    "# formalise date fields\n",
    "dates = mel_df['Day'].astype(str)+\"-\"+mel_df['Month'].astype(str)+\"-\"+mel_df['Year'].astype(str)\n",
    "mel_df['Date'] = dates.apply(lambda x: datetime.strptime(x,'%d-%b-%Y'))\n",
    "\n",
    "# add decade column\n",
    "mel_df['Decade'] = mel_df.Date.apply(lambda x: x.year // 10 * 10)\n",
    "\n",
    "# drop any duplicate occurences\n",
    "mel_df = mel_df.drop_duplicates(subset=['Date','Venue'], keep='first')\n",
    "\n",
    "# show first rows\n",
    "mel_df.head(5)\n",
    "\n",
    "# venues_final.columns\n",
    "\n",
    "# fix geocodes mistakes\n",
    "venues_final = pd.read_csv('data/ACDE Internship-Final.csv', encoding='latin-1', index_col=0).iloc[:,1:]\n",
    "\n",
    "new_lats = []\n",
    "new_longs = []\n",
    "\n",
    "for idx, ven in venues_final.iterrows():\n",
    "    if ven.is_problem == 'No geocodes found.':\n",
    "        new_lats.append(ven.Lat); new_longs.append(ven.Long)\n",
    "        \n",
    "    elif ven.is_problem == 'Same match for venue and address.':\n",
    "        new_lats.append(ven.latitude2); new_longs.append(ven.longitude2)\n",
    "        \n",
    "    elif ven.is_problem == 'Address match, but venue no match. Check for accuracy.':\n",
    "        new_lats.append(ven.latitude); new_longs.append(ven.longitude)\n",
    "        \n",
    "    elif ven.is_problem == 'Address match and venue match found but they conflict. Choose the most accurate.':\n",
    "        new_lats.append(ven.latitude2); new_longs.append(ven.longitude2)\n",
    "        \n",
    "    else: pass\n",
    "    \n",
    "venues_final['new_lats'] = new_lats\n",
    "venues_final['new_longs'] = new_longs\n",
    "venues_final = venues_final[~venues_final.new_lats.isnull()]\n",
    "\n",
    "venue_activity_complete = pd.read_csv('data/TLC_final_data.csv', index_col=0)\n",
    "venue_activity_complete = pd.merge(venue_activity_complete, \n",
    "                                   venues_final[['Venue','Side of River','new_lats','new_longs']], \n",
    "                                   on=['Venue'])\n",
    "\n",
    "venue_activity_complete.drop(['new_lats_x','new_longs_x'],axis=1, inplace=True)\n",
    "venue_activity_complete = venue_activity_complete.rename(columns={'new_lats_y': 'new_lats', 'new_longs_y': 'new_longs'})\n",
    "\n",
    "# DATA ENTRY error\n",
    "venue_activity_complete.loc[venue_activity_complete.Venue.str.contains('Iceland'),'suburb_nopc'] = 'Ringwood VIC'"
   ]
  },
  {
   "cell_type": "markdown",
   "id": "a883ae59",
   "metadata": {},
   "source": [
    "## Exploratory Data Analysis"
   ]
  },
  {
   "cell_type": "markdown",
   "id": "0d9fe7f4",
   "metadata": {},
   "source": [
    "### Temporal trends"
   ]
  },
  {
   "cell_type": "code",
   "execution_count": null,
   "id": "4e7a692a",
   "metadata": {
    "tags": [
     "hide-input"
    ]
   },
   "outputs": [],
   "source": [
    "# create a frequency table of venue occurences by year\n",
    "data_yearly = mel_df[['Year']]\\\n",
    ".value_counts()\\\n",
    ".reset_index()\\\n",
    ".groupby(['Year'])\\\n",
    ".sum()\\\n",
    ".reset_index()\n",
    "\n",
    "# clean column names\n",
    "data_yearly.columns = ['Year','Freq']\n",
    "\n",
    "# visualise data over time\n",
    "fig = px.line(data_yearly, \n",
    "              x=\"Year\", \n",
    "              y=\"Freq\",\n",
    "              title= f'Venue activity in Melbourne, Yearly, 1869-2022')\n",
    "\n",
    "fig.show()"
   ]
  },
  {
   "cell_type": "code",
   "execution_count": null,
   "id": "7c4092ff",
   "metadata": {
    "tags": [
     "hide-input"
    ],
    "code_folding": [
     0
    ],
    "scrolled": false
   },
   "outputs": [],
   "source": [
    "# create a frequency table of venue occurences by individual dates\n",
    "data_daily = mel_df[['Date']]\\\n",
    ".value_counts()\\\n",
    ".reset_index()\\\n",
    ".groupby(['Date'])\\\n",
    ".sum()\\\n",
    ".reset_index()\n",
    "\n",
    "# clean column names\n",
    "data_daily.columns = ['Date','Freq']\n",
    "\n",
    "# Get weekly count for last two years\n",
    "daily_placeholder = pd.DataFrame({'Date': pd.date_range('2020-01-01', \n",
    "                                                        data_daily.iloc[-1]['Date'])})\n",
    "data_daily = pd.merge(daily_placeholder, data_daily, on='Date', how='left')\n",
    "data_daily = data_daily.set_index('Date')\n",
    "data_daily = data_daily['Freq'].resample('D').sum() #.plot()\n",
    "data_daily = pd.DataFrame(data_daily).reset_index()\n",
    "\n",
    "# visualise data over time\n",
    "fig = px.line(data_daily, \n",
    "              x=\"Date\", \n",
    "              y=\"Freq\",\n",
    "              title= f'Venue activity in Melbourne, Daily, 2020-2022 <br><sup>Lockdowns highlighted in red</sup>')\n",
    "\n",
    "highlighting_params = {'line_width': 0, 'fillcolor': 'red', \n",
    "                       'opacity': 0.1, 'annotation_position':\"top right\",\n",
    "                       'annotation_textangle': 0}\n",
    "\n",
    "fig.add_vrect(x0='2020-03-30', x1='2020-05-12', **highlighting_params, annotation_text=\"1st\")\n",
    "fig.add_vrect(x0='2020-08-08', x1='2020-10-27', **highlighting_params, annotation_text=\"2nd\")\n",
    "fig.add_vrect(x0='2021-02-12', x1='2021-02-17', **highlighting_params, annotation_text=\"3rd\")\n",
    "fig.add_vrect(x0='2021-05-27', x1='2021-06-10', **highlighting_params, annotation_text=\"4th\")\n",
    "fig.add_vrect(x0='2021-07-15', x1='2021-07-27', **highlighting_params, annotation_text=\"5th\")\n",
    "fig.add_vrect(x0='2021-08-05', x1='2021-10-21', **highlighting_params, annotation_text=\"6th\")\n",
    "\n",
    "fig.show()\n",
    "# fig.write_image('COVID_MelbourneMusicScene.png' ,scale=5)\n",
    "\n",
    "# from IPython.display import Image\n",
    "# Image(filename='COVID_MelbourneMusicScene.png') "
   ]
  },
  {
   "cell_type": "code",
   "execution_count": null,
   "id": "e7c5077e",
   "metadata": {
    "tags": [
     "hide-input"
    ]},
   "outputs": [],
   "source": [
    "# create a frequency table of venue occurences by year\n",
    "data_yearly = venue_activity_complete[['Year']]\\\n",
    ".value_counts()\\\n",
    ".reset_index()\\\n",
    ".groupby(['Year'])\\\n",
    ".sum()\\\n",
    ".reset_index()\n",
    "\n",
    "# clean column names\n",
    "data_yearly.columns = ['Year','Freq']\n",
    "\n",
    "# visualise data over time\n",
    "fig = px.line(data_yearly, \n",
    "              x=\"Year\", \n",
    "              y=\"Freq\",\n",
    "              title= f'Venue activity in Melbourne, Yearly, 1974-2019')\n",
    "\n",
    "fig.show()"
   ]
  },
  {
   "cell_type": "markdown",
   "id": "b9bb33c2",
   "metadata": {
    "tags": [
     "hide-input"
    ]},
   "source": [
    "### Venue Frequency"
   ]
  },
  {
   "cell_type": "markdown",
   "id": "3b0d1df2",
   "metadata": {
    "tags": [
     "hide-input"
    ],
    "heading_collapsed": true
   },
   "source": [
    "#### Suburb level"
   ]
  },
  {
   "cell_type": "code",
   "execution_count": null,
   "id": "1052387d",
   "metadata": {
    "tags": [
     "hide-input"
    ],
    "hidden": true,
    "scrolled": false
   },
   "outputs": [],
   "source": [
    "venue_activity_complete['suburb_nopc'].value_counts().head(10).sort_values().plot(kind=\"barh\"); plt.show()"
   ]
  },
  {
   "cell_type": "code",
   "execution_count": null,
   "id": "6ecf542a",
   "metadata": {
    "tags": [
     "hide-input"
    ],
    "hidden": true
   },
   "outputs": [],
   "source": [
    "dfu = venue_activity_complete[venue_activity_complete.suburb_nopc\\\n",
    "                                .isin(venue_activity_complete['suburb_nopc'].\\\n",
    "                                      value_counts().head(10).index)]\n",
    "\n",
    "dfu = dfu[dfu.suburb_nopc != 'Melbourne VIC']\n",
    "\n",
    "# to get the dataframe in the correct shape, unstack the groupby result\n",
    "dfu = dfu.groupby(['Decade']).suburb_nopc.value_counts(normalize=True).unstack()\n",
    "\n",
    "# plot\n",
    "ax = dfu.plot(kind='line', figsize=(7, 5), xlabel='Decade', ylabel='Prop', rot=0, marker='.')\n",
    "ax.legend(title='', bbox_to_anchor=(1, 1), loc='upper left')\n",
    "plt.show()"
   ]
  },
  {
   "cell_type": "code",
   "execution_count": null,
   "id": "902eddf1",
   "metadata": {
    "tags": [
     "hide-input"
    ],
    "hidden": true
   },
   "outputs": [],
   "source": [
    "dfu = venue_activity_complete[venue_activity_complete.suburb_nopc\\\n",
    "                                .isin(venue_activity_complete['suburb_nopc'].\\\n",
    "                                      value_counts().head(6).index)]\n",
    "\n",
    "dfu = dfu[dfu.suburb_nopc != 'Melbourne VIC']\n",
    "\n",
    "# to get the dataframe in the correct shape, unstack the groupby result\n",
    "dfu = dfu.groupby(['Decade']).suburb_nopc.value_counts().unstack()\n",
    "\n",
    "# plot\n",
    "ax = dfu.plot(kind='bar', figsize=(7, 5), xlabel='Decade', ylabel='Freq', rot=0)\n",
    "ax.legend(title='', bbox_to_anchor=(1, 1), loc='upper left')\n",
    "plt.show()"
   ]
  },
  {
   "cell_type": "markdown",
   "id": "1616d018",
   "metadata": {
    "tags": [
     "hide-input"
    ],
    "heading_collapsed": true
   },
   "source": [
    "#### North or South of the river?"
   ]
  },
  {
   "cell_type": "code",
   "execution_count": null,
   "id": "6f3fe427",
   "metadata": {
    "tags": [
     "hide-input"
    ],
    "hidden": true
   },
   "outputs": [],
   "source": [
    "venue_activity_complete['Side of River'].value_counts(normalize=True).plot.pie(autopct='%1.1f%%')\n",
    "plt.show()"
   ]
  },
  {
   "cell_type": "code",
   "execution_count": null,
   "id": "e7cf6342",
   "metadata": {
    "tags": [
     "hide-input"
    ],
    "hidden": true,
    "scrolled": false
   },
   "outputs": [],
   "source": [
    "# to get the dataframe in the correct shape, unstack the groupby result\n",
    "dfu = venue_activity_complete.groupby(['Decade'])['Side of River'].value_counts(normalize=True).unstack()\n",
    "\n",
    "# plot\n",
    "ax = dfu.plot(kind='line', figsize=(7, 5), xlabel='Decade', ylabel='Prop', rot=0, marker='.')\n",
    "ax.legend(title='North or South River?', bbox_to_anchor=(1, 1), loc='upper left')\n",
    "plt.show()"
   ]
  },
  {
   "cell_type": "code",
   "execution_count": null,
   "id": "aa1d9f48",
   "metadata": {
    "tags": [
     "hide-input"
    ],
    "hidden": true
   },
   "outputs": [],
   "source": [
    "dfu = venue_activity_complete.groupby(['Decade'])['Side of River'].value_counts().unstack()\n",
    "\n",
    "# plot\n",
    "ax = dfu.plot(kind='bar', figsize=(7, 5), xlabel='Decade', ylabel='Freq', rot=0)\n",
    "ax.legend(title='North or South River?', bbox_to_anchor=(1, 1), loc='upper left')\n",
    "plt.show()"
   ]
  },
  {
   "cell_type": "markdown",
   "id": "f1d575f8",
   "metadata": {
    "tags": [
     "hide-input"
    ],
    "hidden": true
   },
   "source": [
    "Top venues by decade"
   ]
  },
  {
   "cell_type": "code",
   "execution_count": null,
   "id": "f5b6d64f",
   "metadata": {
    "tags": [
     "hide-input"
    ],
    "code_folding": [
     0
    ],
    "hidden": true
   },
   "outputs": [],
   "source": [
    "# create a frequency table of venue occurences by decade \n",
    "all_events = venue_activity_complete[['Venue','Decade']]\\\n",
    ".value_counts().reset_index()\\\n",
    ".groupby(['Venue','Decade'])\\\n",
    ".sum()\\\n",
    ".reset_index()\n",
    "\n",
    "# clean column names\n",
    "all_events.columns = ['Venue','Decade','Freq']\n",
    "\n",
    "# show first rows\n",
    "all_events.sort_values('Freq',ascending=False).head(10)"
   ]
  },
  {
   "cell_type": "markdown",
   "id": "11c71ce9",
   "metadata": {
    "tags": [
     "hide-input"
    ],
    "heading_collapsed": true
   },
   "source": [
    "#### 1970s"
   ]
  },
  {
   "cell_type": "code",
   "execution_count": null,
   "id": "76bada2e",
   "metadata": {
    "tags": [
     "hide-input"
    ],
    "hidden": true,
    "scrolled": false
   },
   "outputs": [],
   "source": [
    "top_venues = all_events[(all_events.Freq >= 1)]['Venue'].unique()\n",
    "active_in_1970s = all_events[(all_events.Decade == 1970) & (all_events.Freq > 40)]['Venue'].unique()\n",
    "top_venues_70s = list(set(top_venues) & set(active_in_1970s))\n",
    "\n",
    "top_in_state = all_events[all_events.Venue.isin(top_venues_70s)]\\\n",
    ".sort_values(['Decade','Venue'])\n",
    "\n",
    "fig = px.line(top_in_state.sort_values('Decade'), \n",
    "              x=\"Decade\", y=\"Freq\", color=\"Venue\",line_group=\"Venue\",\n",
    "              title= f'<b>Music venues active in 1970s (Melbourne):</b> Decades',\n",
    "              markers=True)\n",
    "\n",
    "fig.show()"
   ]
  },
  {
   "cell_type": "code",
   "execution_count": null,
   "id": "7873f502",
   "metadata": {
    "tags": [
     "hide-input"
    ],
    "hidden": true,
    "scrolled": false
   },
   "outputs": [],
   "source": [
    "all_events_yr = venue_activity_complete[venue_activity_complete.Venue.isin(active_in_1970s)][['Venue','Year']]\\\n",
    ".value_counts().reset_index().groupby(['Venue','Year']).sum().reset_index()\n",
    "all_events_yr.columns = ['Venue','Year','Freq']\n",
    "all_events_yr.Year = all_events_yr.Year.astype(int)\n",
    "all_events_yr = all_events_yr[(all_events_yr.Year > 1965) & (all_events_yr.Year < 1980)]\n",
    "\n",
    "fig = px.line(all_events_yr.sort_values('Year'), \n",
    "              x=\"Year\", y=\"Freq\", color=\"Venue\",line_group=\"Venue\",\n",
    "              title= f'<b>Music venues most active in 1970s (Melbourne):</b> Year',markers=True)\n",
    "fig.show()"
   ]
  },
  {
   "cell_type": "code",
   "execution_count": null,
   "id": "2ca50183",
   "metadata": {
    "tags": [
     "hide-input"
    ],
    "hidden": true
   },
   "outputs": [],
   "source": [
    "active_in_1970s = all_events[(all_events.Decade == 1970)]['Venue'].unique()\n",
    "all_events_yr = venue_activity_complete[venue_activity_complete.Venue.isin(active_in_1970s)][['Venue','Year']]\\\n",
    ".value_counts().reset_index().groupby(['Venue','Year']).sum().reset_index()\n",
    "all_events_yr.columns = ['Venue','Year','Freq']\n",
    "all_events_yr.Year = all_events_yr.Year.astype(int)\n",
    "all_events_yr = all_events_yr[(all_events_yr.Year > 1973) & (all_events_yr.Year < 1980) &\n",
    "                              (all_events_yr.Venue.isin(all_events_yr[all_events_yr.Freq > 5]['Venue'].unique()))]\n",
    "\n",
    "piv70s = all_events_yr.pivot(index='Venue', columns='Year', values='Freq').fillna(0)\n",
    "clipped = piv70s.clip(upper=1).sum(axis=1).reset_index()\n",
    "piv70s = piv70s[piv70s.index.isin(clipped[clipped[0] > 1].Venue)]\n",
    "\n",
    "change70s = piv70s.copy()\n",
    "# change70s['70-71'] = change70s[[1970,1971]].pct_change(axis=1)[1971]\n",
    "# change70s['71-72'] = change70s[[1971,1972]].pct_change(axis=1)[1972]\n",
    "# change70s['72-73'] = change70s[[1972,1973]].pct_change(axis=1)[1973]\n",
    "# change70s['73-74'] = change70s[[1973,1974]].pct_change(axis=1)[1974]\n",
    "change70s['74-75'] = change70s[[1974,1975]].pct_change(axis=1)[1975]\n",
    "change70s['75-76'] = change70s[[1975,1976]].pct_change(axis=1)[1976]\n",
    "change70s['76-77'] = change70s[[1976,1977]].pct_change(axis=1)[1977]\n",
    "change70s['77-78'] = change70s[[1977,1978]].pct_change(axis=1)[1978]\n",
    "change70s['78-79'] = change70s[[1978,1979]].pct_change(axis=1)[1979]\n",
    "change70s = change70s.drop([1974,1975,1976,1977,1978,1979],axis=1).unstack().reset_index()\n",
    "# change70s = change70s.drop([1970,1971,1972,1973,1974,1975,1976,1977,1978,1979],axis=1).unstack().reset_index()\n",
    "change70s = change70s[~change70s.isin([np.nan, np.inf, -np.inf]).any(1)]\n",
    "biggestmovers70s = change70s.sort_values(0, ascending=False).head(5)['Venue'].unique()\n",
    "\n",
    "fig, ax = plt.subplots(figsize=(10,10))\n",
    "ax = sns.heatmap(piv70s, annot=True)\n",
    "ax.set(xlabel=\"\", ylabel=\"\")\n",
    "plt.show()"
   ]
  },
  {
   "cell_type": "code",
   "execution_count": null,
   "id": "b552ca89",
   "metadata": {
    "tags": [
     "hide-input"
    ],
    "hidden": true
   },
   "outputs": [],
   "source": [
    "forheatmap = change70s[change70s['Venue'].isin(biggestmovers70s)].pivot(index='Venue', columns='Year', values=0).fillna(0)\n",
    "fig, ax = plt.subplots(figsize=(6,6))\n",
    "ax = sns.heatmap(forheatmap, annot=True)\n",
    "ax.set(xlabel=\"\", ylabel=\"\")\n",
    "plt.title('Largest YoY fluctuations fot venues in the 70s')\n",
    "plt.show()"
   ]
  },
  {
   "cell_type": "code",
   "execution_count": null,
   "id": "a9fb9476",
   "metadata": {
    "tags": [
     "hide-input"
    ],
    "hidden": true,
    "scrolled": false
   },
   "outputs": [],
   "source": [
    "all_events_yr = venue_activity_complete[venue_activity_complete.Venue.isin(biggestmovers70s)][['Venue','Year']]\\\n",
    ".value_counts().reset_index().groupby(['Venue','Year']).sum().reset_index()\n",
    "all_events_yr.columns = ['Venue','Year','Freq']\n",
    "all_events_yr.Year = all_events_yr.Year.astype(int)\n",
    "all_events_yr = all_events_yr[(all_events_yr.Year > 1970) & (all_events_yr.Year < 1985)]\n",
    "\n",
    "fig = px.line(all_events_yr.sort_values('Year'), \n",
    "              x=\"Year\", y=\"Freq\", color=\"Venue\",line_group=\"Venue\",\n",
    "              title= f'<b>Venues, Biggest Movers, 1970s (Melbourne):</b> Year',markers=True)\n",
    "fig.show()"
   ]
  },
  {
   "cell_type": "markdown",
   "id": "90a2a260",
   "metadata": {
    "tags": [
     "hide-input"
    ],
    "hidden": true
   },
   "source": [
    "Which band played at the Bananas the most times?"
   ]
  },
  {
   "cell_type": "code",
   "execution_count": null,
   "id": "2a5e1e8a",
   "metadata": {
    "tags": [
     "hide-input"
    ],
    "hidden": true
   },
   "outputs": [],
   "source": [
    "# Which band played at the Bananas the most times?\n",
    "venue_activity_complete[venue_activity_complete['Venue'].str.contains('Bananas')].Artist.value_counts().head(3)"
   ]
  },
  {
   "cell_type": "markdown",
   "id": "3a318487",
   "metadata": {
    "tags": [
     "hide-input"
    ],
    "hidden": true
   },
   "source": [
    "Which band played at the Hearts Nightclub (Polaris Inn) the most times?"
   ]
  },
  {
   "cell_type": "code",
   "execution_count": null,
   "id": "da6005c8",
   "metadata": {
    "tags": [
     "hide-input"
    ],
    "code_folding": [
     0
    ],
    "hidden": true
   },
   "outputs": [],
   "source": [
    "# Which band played at the Hearts Nightclub (Polaris Inn) the most times?\n",
    "venue_activity_complete[venue_activity_complete['Venue'].str.contains('Polaris Inn')].Artist.value_counts().head(3)"
   ]
  },
  {
   "cell_type": "markdown",
   "id": "afb04396",
   "metadata": {
    "tags": [
     "hide-input"
    ],
    "hidden": true
   },
   "source": [
    "Which venue did The Boys Next Door / The Birthday Party play most at? "
   ]
  },
  {
   "cell_type": "code",
   "execution_count": null,
   "id": "879c86a0",
   "metadata": {
    "tags": [
     "hide-input"
    ],
    "hidden": true,
    "scrolled": true
   },
   "outputs": [],
   "source": [
    "# Which venue did The Boys Next Door / The Birthday Party play most at? \n",
    "venue_activity_complete[(venue_activity_complete['Artist'].str.contains('The Boys Next Door')) |\n",
    "             (venue_activity_complete['Artist'].str.contains('The Birthday Party'))].Venue.value_counts().head(5)"
   ]
  },
  {
   "cell_type": "markdown",
   "id": "b05707f3",
   "metadata": {
    "tags": [
     "hide-input"
    ],
    "heading_collapsed": true
   },
   "source": [
    "#### 1980s"
   ]
  },
  {
   "cell_type": "code",
   "execution_count": null,
   "id": "5b8e6858",
   "metadata": {
    "tags": [
     "hide-input"
    ],
    "hidden": true,
    "scrolled": false
   },
   "outputs": [],
   "source": [
    "top_venues = all_events[(all_events.Freq >= 1)]['Venue'].unique()\n",
    "active_in_1980s = all_events[(all_events.Decade == 1980) & (all_events.Freq > 50)]['Venue'].unique()\n",
    "top_venues_80s = list(set(top_venues) & set(active_in_1980s))\n",
    "\n",
    "top_in_state = all_events[all_events.Venue.isin(top_venues_80s)].sort_values(['Decade','Venue'])\n",
    "top_in_state = top_in_state[top_in_state.Decade > 1969]\n",
    "\n",
    "fig = px.line(top_in_state.sort_values('Decade'), \n",
    "              x=\"Decade\", y=\"Freq\", color=\"Venue\",line_group=\"Venue\",\n",
    "              title= f'<b>Music venues active in 1980s (Melbourne):</b> Music',markers=True)\n",
    "\n",
    "fig.show()"
   ]
  },
  {
   "cell_type": "code",
   "execution_count": null,
   "id": "c1e741a2",
   "metadata": {
    "tags": [
     "hide-input"
    ],
    "hidden": true
   },
   "outputs": [],
   "source": [
    "all_setlists = venue_activity_complete\n",
    "all_events_yr = all_setlists[all_setlists.Venue.isin(active_in_1980s)][['Venue','Year']]\\\n",
    ".value_counts().reset_index().groupby(['Venue','Year']).sum().reset_index()\n",
    "all_events_yr.columns = ['Venue','Year','Freq']\n",
    "all_events_yr.Year = all_events_yr.Year.astype(int)\n",
    "all_events_yr = all_events_yr[(all_events_yr.Year > 1975) & (all_events_yr.Year < 1990)]\n",
    "\n",
    "fig = px.line(all_events_yr.sort_values('Year'), \n",
    "              x=\"Year\", y=\"Freq\", color=\"Venue\",line_group=\"Venue\",\n",
    "              title= f'<b>Music venues active in 1980s (Melbourne):</b> Year',markers=True)\n",
    "fig.show()"
   ]
  },
  {
   "cell_type": "code",
   "execution_count": null,
   "id": "acb0851c",
   "metadata": {
    "tags": [
     "hide-input"
    ],
    "hidden": true
   },
   "outputs": [],
   "source": [
    "active_in_1980s = all_events[(all_events.Decade == 1980)]['Venue'].unique()\n",
    "all_events_yr = all_setlists[all_setlists.Venue.isin(active_in_1980s)][['Venue','Year']]\\\n",
    ".value_counts().reset_index().groupby(['Venue','Year']).sum().reset_index()\n",
    "all_events_yr.columns = ['Venue','Year','Freq']\n",
    "all_events_yr.Year = all_events_yr.Year.astype(int)\n",
    "all_events_yr = all_events_yr[(all_events_yr.Year > 1979) & (all_events_yr.Year < 1990) &\n",
    "                              (all_events_yr.Venue.isin(all_events_yr[all_events_yr.Freq > 5]['Venue'].unique()))]\n",
    "\n",
    "piv80s = all_events_yr.pivot(index='Venue', columns='Year', values='Freq').fillna(0)\n",
    "clipped = piv80s.clip(upper=1).sum(axis=1).reset_index()\n",
    "piv80s = piv80s[piv80s.index.isin(clipped[clipped[0] > 1].Venue)]\n",
    "\n",
    "change80s = piv80s.copy()\n",
    "change80s['80-81'] = change80s[[1980,1981]].pct_change(axis=1)[1981]\n",
    "change80s['81-82'] = change80s[[1981,1982]].pct_change(axis=1)[1982]\n",
    "change80s['82-83'] = change80s[[1982,1983]].pct_change(axis=1)[1983]\n",
    "change80s['83-84'] = change80s[[1983,1984]].pct_change(axis=1)[1984]\n",
    "change80s['84-85'] = change80s[[1984,1985]].pct_change(axis=1)[1985]\n",
    "change80s['85-86'] = change80s[[1985,1986]].pct_change(axis=1)[1986]\n",
    "change80s['86-87'] = change80s[[1986,1987]].pct_change(axis=1)[1987]\n",
    "change80s['87-88'] = change80s[[1987,1988]].pct_change(axis=1)[1988]\n",
    "change80s['88-89'] = change80s[[1988,1989]].pct_change(axis=1)[1989]\n",
    "change80s = change80s.drop([1980,1981,1982,1983,1984,1985,1986,1987,1988,1989],axis=1).unstack().reset_index() \n",
    "change80s = change80s[~change80s.isin([np.nan, np.inf, -np.inf]).any(1)]\n",
    "biggestmovers80s = change80s.sort_values(0, ascending=False).head(5)['Venue'].unique()"
   ]
  },
  {
   "cell_type": "code",
   "execution_count": null,
   "id": "8fd4ef96",
   "metadata": {
    "tags": [
     "hide-input"
    ],
    "hidden": true,
    "scrolled": false
   },
   "outputs": [],
   "source": [
    "print('Largest YoY fluctuations for venues in the 80s')\n",
    "change80s.sort_values(0, ascending=False).head(5)"
   ]
  },
  {
   "cell_type": "code",
   "execution_count": null,
   "id": "85c8115d",
   "metadata": {
    "tags": [
     "hide-input"
    ],
    "hidden": true,
    "scrolled": false
   },
   "outputs": [],
   "source": [
    "# change80s.sort_values(0, ascending=False).head(10).value_counts('Year')"
   ]
  },
  {
   "cell_type": "code",
   "execution_count": null,
   "id": "b03b2fff",
   "metadata": {
    "tags": [
     "hide-input"
    ],
    "hidden": true,
    "scrolled": false
   },
   "outputs": [],
   "source": [
    "all_events_yr = all_setlists[all_setlists.Venue.isin(biggestmovers80s)][['Venue','Year']]\\\n",
    ".value_counts().reset_index().groupby(['Venue','Year']).sum().reset_index()\n",
    "all_events_yr.columns = ['Venue','Year','Freq']\n",
    "all_events_yr.Year = all_events_yr.Year.astype(int)\n",
    "all_events_yr = all_events_yr[(all_events_yr.Year > 1980) & (all_events_yr.Year < 1995)]\n",
    "\n",
    "fig = px.line(all_events_yr.sort_values('Year'), \n",
    "              x=\"Year\", y=\"Freq\", color=\"Venue\",line_group=\"Venue\",\n",
    "              title= f'<b>Venues, Biggest Movers, 1980s (Melbourne):</b> Year',markers=True)\n",
    "fig.show()"
   ]
  },
  {
   "cell_type": "markdown",
   "id": "f410b194",
   "metadata": {
    "tags": [
     "hide-input"
    ],
    "heading_collapsed": true
   },
   "source": [
    "#### 1990s"
   ]
  },
  {
   "cell_type": "code",
   "execution_count": null,
   "id": "973919c0",
   "metadata": {
    "tags": [
     "hide-input"
    ],
    "hidden": true
   },
   "outputs": [],
   "source": [
    "top_venues = all_events[(all_events.Freq >= 1)]['Venue'].unique()\n",
    "active_in_1990s = all_events[(all_events.Decade == 1990) & (all_events.Freq > 100)]['Venue'].unique()\n",
    "top_venues_90s = list(set(top_venues) & set(active_in_1990s))\n",
    "\n",
    "top_in_state = all_events[all_events.Venue.isin(top_venues_90s)].sort_values(['Decade','Venue'])\n",
    "top_in_state = top_in_state[top_in_state.Decade > 1979]\n",
    "\n",
    "fig = px.line(top_in_state.sort_values('Decade'), \n",
    "              x=\"Decade\", y=\"Freq\", color=\"Venue\",line_group=\"Venue\",\n",
    "              title= f'<b>Music venues active in 1990s (Melbourne):</b> Decades',markers=True)\n",
    "\n",
    "fig.show()"
   ]
  },
  {
   "cell_type": "code",
   "execution_count": null,
   "id": "a4788bd0",
   "metadata": {
    "tags": [
     "hide-input"
    ],
    "hidden": true
   },
   "outputs": [],
   "source": [
    "all_events_yr = all_setlists[all_setlists.Venue.isin(active_in_1990s)][['Venue','Year']]\\\n",
    ".value_counts().reset_index().groupby(['Venue','Year']).sum().reset_index()\n",
    "all_events_yr.columns = ['Venue','Year','Freq']\n",
    "all_events_yr.Year = all_events_yr.Year.astype(int)\n",
    "all_events_yr = all_events_yr[(all_events_yr.Year > 1985) & (all_events_yr.Year < 2000)]\n",
    "\n",
    "fig = px.line(all_events_yr.sort_values('Year'), \n",
    "              x=\"Year\", y=\"Freq\", color=\"Venue\",line_group=\"Venue\",\n",
    "              title= f'<b>Music venues active in 1990s (Melbourne):</b> Year',markers=True)\n",
    "fig.show()"
   ]
  },
  {
   "cell_type": "code",
   "execution_count": null,
   "id": "c85e640b",
   "metadata": {
    "tags": [
     "hide-input"
    ],
    "hidden": true
   },
   "outputs": [],
   "source": [
    "active_in_1990s = all_events[(all_events.Decade == 1990)]['Venue'].unique()\n",
    "all_events_yr = all_setlists[all_setlists.Venue.isin(active_in_1990s)][['Venue','Year']]\\\n",
    ".value_counts().reset_index().groupby(['Venue','Year']).sum().reset_index()\n",
    "all_events_yr.columns = ['Venue','Year','Freq']\n",
    "all_events_yr.Year = all_events_yr.Year.astype(int)\n",
    "all_events_yr = all_events_yr[(all_events_yr.Year > 1989) & (all_events_yr.Year < 2000) &\n",
    "                              (all_events_yr.Venue.isin(all_events_yr[all_events_yr.Freq > 5]['Venue'].unique()))]\n",
    "\n",
    "piv90s = all_events_yr.pivot(index='Venue', columns='Year', values='Freq').fillna(0)\n",
    "clipped = piv90s.clip(upper=1).sum(axis=1).reset_index()\n",
    "piv90s = piv90s[piv90s.index.isin(clipped[clipped[0] > 1].Venue)]\n",
    "\n",
    "change90s = piv90s.copy()\n",
    "change90s['90-91'] = change90s[[1990,1991]].pct_change(axis=1)[1991]\n",
    "change90s['91-92'] = change90s[[1991,1992]].pct_change(axis=1)[1992]\n",
    "change90s['92-93'] = change90s[[1992,1993]].pct_change(axis=1)[1993]\n",
    "change90s['93-94'] = change90s[[1993,1994]].pct_change(axis=1)[1994]\n",
    "change90s['94-95'] = change90s[[1994,1995]].pct_change(axis=1)[1995]\n",
    "change90s['95-96'] = change90s[[1995,1996]].pct_change(axis=1)[1996]\n",
    "change90s['96-97'] = change90s[[1996,1997]].pct_change(axis=1)[1997]\n",
    "change90s['97-98'] = change90s[[1997,1998]].pct_change(axis=1)[1998]\n",
    "change90s['98-99'] = change90s[[1998,1999]].pct_change(axis=1)[1999]\n",
    "change90s = change90s.drop([1990,1991,1992,1993,1994,1995,1996,1997,1998,1999],axis=1).unstack().reset_index() \n",
    "change90s = change90s[~change90s.isin([np.nan, np.inf, -np.inf]).any(1)]\n",
    "biggestmovers90s = change90s.sort_values(0, ascending=False).head(5)['Venue'].unique()"
   ]
  },
  {
   "cell_type": "code",
   "execution_count": null,
   "id": "5db5ce68",
   "metadata": {
    "tags": [
     "hide-input"
    ],
    "hidden": true
   },
   "outputs": [],
   "source": [
    "print('Largest YoY fluctuations fot venues in the 90s')\n",
    "change90s.sort_values(0, ascending=False).head(5)"
   ]
  },
  {
   "cell_type": "code",
   "execution_count": null,
   "id": "a7ad30cf",
   "metadata": {
    "tags": [
     "hide-input"
    ],
    "hidden": true,
    "scrolled": true
   },
   "outputs": [],
   "source": [
    "# change90s.sort_values(0, ascending=False).head(10).value_counts('Year')"
   ]
  },
  {
   "cell_type": "code",
   "execution_count": null,
   "id": "a890ab33",
   "metadata": {
    "tags": [
     "hide-input"
    ],
    "hidden": true
   },
   "outputs": [],
   "source": [
    "all_events_yr = all_setlists[all_setlists.Venue.isin(biggestmovers90s)][['Venue','Year']]\\\n",
    ".value_counts().reset_index().groupby(['Venue','Year']).sum().reset_index()\n",
    "all_events_yr.columns = ['Venue','Year','Freq']\n",
    "all_events_yr.Year = all_events_yr.Year.astype(int)\n",
    "all_events_yr = all_events_yr[(all_events_yr.Year > 1990) & (all_events_yr.Year < 2000)]\n",
    "\n",
    "fig = px.line(all_events_yr.sort_values('Year'), \n",
    "              x=\"Year\", y=\"Freq\", color=\"Venue\",line_group=\"Venue\",\n",
    "              title= f'<b>Venues, Biggest Movers, 1990s (Melbourne):</b> Year',markers=True)\n",
    "fig.show()"
   ]
  },
  {
   "cell_type": "markdown",
   "id": "6dc0367b",
   "metadata": {
    "tags": [
     "hide-input"
    ],
    "heading_collapsed": true
   },
   "source": [
    "#### 2000s"
   ]
  },
  {
   "cell_type": "code",
   "execution_count": null,
   "id": "eed3636c",
   "metadata": {
    "tags": [
     "hide-input"
    ],
    "hidden": true
   },
   "outputs": [],
   "source": [
    "top_venues = all_events[(all_events.Freq >= 1)]['Venue'].unique()\n",
    "active_in_2000s = all_events[(all_events.Decade == 2000) & (all_events.Freq > 150)]['Venue'].unique()\n",
    "top_venues_00s = list(set(top_venues) & set(active_in_2000s))\n",
    "\n",
    "top_in_state = all_events[all_events.Venue.isin(top_venues_00s)].sort_values(['Decade','Venue'])\n",
    "top_in_state = top_in_state[top_in_state.Decade > 1989]\n",
    "\n",
    "fig = px.line(top_in_state.sort_values('Decade'), \n",
    "              x=\"Decade\", y=\"Freq\", color=\"Venue\",line_group=\"Venue\",\n",
    "              title= f'<b>Top music venues active in 2000s (Melbourne):</b> Decades',markers=True)\n",
    "\n",
    "fig.show()"
   ]
  },
  {
   "cell_type": "code",
   "execution_count": null,
   "id": "967aa070",
   "metadata": {
    "tags": [
     "hide-input"
    ],
    "hidden": true,
    "scrolled": false
   },
   "outputs": [],
   "source": [
    "all_events_yr = all_setlists[all_setlists.Venue.isin(active_in_2000s)][['Venue','Year']]\\\n",
    ".value_counts().reset_index().groupby(['Venue','Year']).sum().reset_index()\n",
    "all_events_yr.columns = ['Venue','Year','Freq']\n",
    "all_events_yr.Year = all_events_yr.Year.astype(int)\n",
    "all_events_yr = all_events_yr[(all_events_yr.Year > 1995) & (all_events_yr.Year < 2010)]\n",
    "\n",
    "fig = px.line(all_events_yr.sort_values('Year'), \n",
    "              x=\"Year\", y=\"Freq\", color=\"Venue\",line_group=\"Venue\",\n",
    "              title= f'<b>Music venues active in 2000s (Melbourne):</b> Year',markers=True)\n",
    "fig.show()"
   ]
  },
  {
   "cell_type": "code",
   "execution_count": null,
   "id": "cc005e62",
   "metadata": {
    "tags": [
     "hide-input"
    ],
    "hidden": true
   },
   "outputs": [],
   "source": [
    "active_in_2000s = all_events[(all_events.Decade == 2000)]['Venue'].unique()\n",
    "all_events_yr = all_setlists[all_setlists.Venue.isin(active_in_2000s)][['Venue','Year']]\\\n",
    ".value_counts().reset_index().groupby(['Venue','Year']).sum().reset_index()\n",
    "all_events_yr.columns = ['Venue','Year','Freq']\n",
    "all_events_yr.Year = all_events_yr.Year.astype(int)\n",
    "all_events_yr = all_events_yr[(all_events_yr.Year > 1999) & (all_events_yr.Year < 2010) &\n",
    "                              (all_events_yr.Venue.isin(all_events_yr[all_events_yr.Freq > 5]['Venue'].unique()))]\n",
    "\n",
    "piv00s = all_events_yr.pivot(index='Venue', columns='Year', values='Freq').fillna(0)\n",
    "clipped = piv00s.clip(upper=1).sum(axis=1).reset_index()\n",
    "piv00s = piv00s[piv00s.index.isin(clipped[clipped[0] > 1].Venue)]\n",
    "\n",
    "change00s = piv00s.copy()\n",
    "change00s['00-01'] = change00s[[2000,2001]].pct_change(axis=1)[2001]\n",
    "change00s['01-02'] = change00s[[2001,2002]].pct_change(axis=1)[2002]\n",
    "change00s['02-03'] = change00s[[2002,2003]].pct_change(axis=1)[2003]\n",
    "change00s['03-04'] = change00s[[2003,2004]].pct_change(axis=1)[2004]\n",
    "change00s['04-05'] = change00s[[2004,2005]].pct_change(axis=1)[2005]\n",
    "change00s['05-06'] = change00s[[2005,2006]].pct_change(axis=1)[2006]\n",
    "change00s['06-07'] = change00s[[2006,2007]].pct_change(axis=1)[2007]\n",
    "change00s['07-08'] = change00s[[2007,2008]].pct_change(axis=1)[2008]\n",
    "change00s['08-09'] = change00s[[2008,2009]].pct_change(axis=1)[2009]\n",
    "change00s = change00s.drop([2000,2001,2002,2003,2004,2005,2006,2007,2008,2009],axis=1).unstack().reset_index() \n",
    "change00s = change00s[~change00s.isin([np.nan, np.inf, -np.inf]).any(1)]\n",
    "biggestmovers00s = change00s.sort_values(0, ascending=False).head(5)['Venue'].unique()"
   ]
  },
  {
   "cell_type": "code",
   "execution_count": null,
   "id": "049df200",
   "metadata": {
    "tags": [
     "hide-input"
    ],
    "hidden": true
   },
   "outputs": [],
   "source": [
    "print('Largest YoY fluctuations for venues in the 00s')\n",
    "change00s.sort_values(0, ascending=False).head(5)"
   ]
  },
  {
   "cell_type": "code",
   "execution_count": null,
   "id": "d6dcd341",
   "metadata": {
    "tags": [
     "hide-input"
    ],
    "hidden": true,
    "scrolled": true
   },
   "outputs": [],
   "source": [
    "# change00s.sort_values(0, ascending=False).head(10).value_counts('Year')"
   ]
  },
  {
   "cell_type": "code",
   "execution_count": null,
   "id": "fbe555f3",
   "metadata": {
    "tags": [
     "hide-input"
    ],
    "hidden": true
   },
   "outputs": [],
   "source": [
    "all_events_yr = all_setlists[all_setlists.Venue.isin(biggestmovers00s)][['Venue','Year']]\\\n",
    ".value_counts().reset_index().groupby(['Venue','Year']).sum().reset_index()\n",
    "all_events_yr.columns = ['Venue','Year','Freq']\n",
    "all_events_yr.Year = all_events_yr.Year.astype(int)\n",
    "all_events_yr = all_events_yr[(all_events_yr.Year > 1995) & (all_events_yr.Year < 2010)]\n",
    "\n",
    "fig = px.line(all_events_yr.sort_values('Year'), \n",
    "              x=\"Year\", y=\"Freq\", color=\"Venue\",line_group=\"Venue\",\n",
    "              title= f'<b>Venues, Biggest Movers, 2000s (Melbourne):</b> Year',markers=True)\n",
    "fig.show()"
   ]
  },
  {
   "cell_type": "markdown",
   "id": "871afb92",
   "metadata": {
    "tags": [
     "hide-input"
    ],
    "heading_collapsed": true
   },
   "source": [
    "#### 2010s"
   ]
  },
  {
   "cell_type": "code",
   "execution_count": null,
   "id": "854bfb7a",
   "metadata": {
    "tags": [
     "hide-input"
    ],
    "hidden": true
   },
   "outputs": [],
   "source": [
    "top_venues = all_events[(all_events.Freq >= 1)]['Venue'].unique()\n",
    "active_in_2010s = all_events[(all_events.Decade == 2010) & (all_events.Freq > 250)]['Venue'].unique()\n",
    "top_venues_10s = list(set(top_venues) & set(active_in_2010s))\n",
    "\n",
    "top_in_state = all_events[all_events.Venue.isin(top_venues_00s)].sort_values(['Decade','Venue'])\n",
    "top_in_state = top_in_state[top_in_state.Decade > 1999]\n",
    "\n",
    "fig = px.line(top_in_state.sort_values('Decade'), \n",
    "              x=\"Decade\", y=\"Freq\", color=\"Venue\",line_group=\"Venue\",\n",
    "              title= f'<b>Top music venues active in 2010s (Melbourne):</b> Decades',markers=True)\n",
    "\n",
    "fig.show()"
   ]
  },
  {
   "cell_type": "code",
   "execution_count": null,
   "id": "ab676dac",
   "metadata": {
    "tags": [
     "hide-input"
    ],
    "hidden": true,
    "scrolled": false
   },
   "outputs": [],
   "source": [
    "all_events_yr = all_setlists[all_setlists.Venue.isin(active_in_2000s)][['Venue','Year']]\\\n",
    ".value_counts().reset_index().groupby(['Venue','Year']).sum().reset_index()\n",
    "all_events_yr.columns = ['Venue','Year','Freq']\n",
    "all_events_yr.Year = all_events_yr.Year.astype(int)\n",
    "all_events_yr = all_events_yr[(all_events_yr.Year > 2005) & (all_events_yr.Year < 2015)]\n",
    "\n",
    "fig = px.line(all_events_yr.sort_values('Year'), \n",
    "              x=\"Year\", y=\"Freq\", color=\"Venue\",line_group=\"Venue\",\n",
    "              title= f'<b>Music venues active in 2010s (Melbourne):</b> Year',markers=True)\n",
    "fig.show()"
   ]
  },
  {
   "cell_type": "code",
   "execution_count": null,
   "id": "61227a08",
   "metadata": {
    "tags": [
     "hide-input"
    ],
    "hidden": true
   },
   "outputs": [],
   "source": [
    "active_in_2010s = all_events[(all_events.Decade == 2010)]['Venue'].unique()\n",
    "all_events_yr = all_setlists[all_setlists.Venue.isin(active_in_2010s)][['Venue','Year']]\\\n",
    ".value_counts().reset_index().groupby(['Venue','Year']).sum().reset_index()\n",
    "all_events_yr.columns = ['Venue','Year','Freq']\n",
    "all_events_yr.Year = all_events_yr.Year.astype(int)\n",
    "all_events_yr = all_events_yr[(all_events_yr.Year > 2009) & (all_events_yr.Year < 2020) &\n",
    "                              (all_events_yr.Venue.isin(all_events_yr[all_events_yr.Freq > 5]['Venue'].unique()))]\n",
    "\n",
    "piv10s = all_events_yr.pivot(index='Venue', columns='Year', values='Freq').fillna(0)\n",
    "clipped = piv10s.clip(upper=1).sum(axis=1).reset_index()\n",
    "piv10s = piv10s[piv10s.index.isin(clipped[clipped[0] > 1].Venue)]\n",
    "\n",
    "change10s = piv10s.copy()\n",
    "change10s['10-11'] = change10s[[2010,2011]].pct_change(axis=1)[2011]\n",
    "change10s['11-12'] = change10s[[2011,2012]].pct_change(axis=1)[2012]\n",
    "change10s['12-13'] = change10s[[2012,2013]].pct_change(axis=1)[2013]\n",
    "change10s['13-14'] = change10s[[2013,2014]].pct_change(axis=1)[2014]\n",
    "change10s['14-15'] = change10s[[2014,2015]].pct_change(axis=1)[2015]\n",
    "change10s['15-16'] = change10s[[2015,2016]].pct_change(axis=1)[2016]\n",
    "change10s['16-17'] = change10s[[2016,2017]].pct_change(axis=1)[2017]\n",
    "change10s['17-18'] = change10s[[2017,2018]].pct_change(axis=1)[2018]\n",
    "change10s['18-19'] = change10s[[2018,2019]].pct_change(axis=1)[2019]\n",
    "change10s = change10s.drop([2010,2011,2012,2013,2014,2015,2016,2017,2018,2019],axis=1).unstack().reset_index() \n",
    "change10s = change10s[~change10s.isin([np.nan, np.inf, -np.inf]).any(1)]\n",
    "biggestmovers10s = change10s.sort_values(0, ascending=False).head(5)['Venue'].unique()"
   ]
  },
  {
   "cell_type": "code",
   "execution_count": null,
   "id": "4d17f35b",
   "metadata": {
    "tags": [
     "hide-input"
    ],
    "hidden": true
   },
   "outputs": [],
   "source": [
    "print('Largest YoY fluctuations for venues in the 2010s')\n",
    "change10s.sort_values(0, ascending=False).head(5)"
   ]
  },
  {
   "cell_type": "code",
   "execution_count": null,
   "id": "c167e5f4",
   "metadata": {
    "tags": [
     "hide-input"
    ],
    "hidden": true,
    "scrolled": true
   },
   "outputs": [],
   "source": [
    "# change10s.sort_values(0, ascending=False).head(10).value_counts('Year')"
   ]
  },
  {
   "cell_type": "code",
   "execution_count": null,
   "id": "c3129630",
   "metadata": {
    "tags": [
     "hide-input"
    ],
    "hidden": true
   },
   "outputs": [],
   "source": [
    "all_events_yr = all_setlists[all_setlists.Venue.isin(biggestmovers10s)][['Venue','Year']]\\\n",
    ".value_counts().reset_index().groupby(['Venue','Year']).sum().reset_index()\n",
    "all_events_yr.columns = ['Venue','Year','Freq']\n",
    "all_events_yr.Year = all_events_yr.Year.astype(int)\n",
    "all_events_yr = all_events_yr[(all_events_yr.Year > 2005) & (all_events_yr.Year < 2015)]\n",
    "\n",
    "fig = px.line(all_events_yr.sort_values('Year'), \n",
    "              x=\"Year\", y=\"Freq\", color=\"Venue\",line_group=\"Venue\",\n",
    "              title= f'<b>Venues, Biggest Movers, 2010s (Melbourne):</b> Year',markers=True)\n",
    "fig.show()"
   ]
  }
 ],
 "metadata": {
  "kernelspec": {
   "display_name": "Python 3.9.13 ('tf2')",
   "language": "python",
   "name": "python3"
  },
  "language_info": {
   "codemirror_mode": {
    "name": "ipython",
    "version": 3
   },
   "file_extension": ".py",
   "mimetype": "text/x-python",
   "name": "python",
   "nbconvert_exporter": "python",
   "pygments_lexer": "ipython3",
   "version": "3.9.13"
  },
  "vscode": {
   "interpreter": {
    "hash": "a86b324d8d1ad980e82e9368b1a58162c374203332e5a70736bd426933f6faea"
   }
  }
 },
 "nbformat": 4,
 "nbformat_minor": 5
}
