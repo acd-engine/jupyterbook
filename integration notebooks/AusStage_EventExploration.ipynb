{
 "cells": [
  {
   "cell_type": "markdown",
   "id": "80e9c9eb-4adc-4209-8fd1-9c381af3cb48",
   "metadata": {},
   "source": [
    "# AusStage Event Relations Exploration\n",
    "<font size=4.5> —— How should we define the unit of events? </font>\n",
    "\n",
    "Note: We are using the backup data dumping in March, 2022."
   ]
  },
  {
   "cell_type": "markdown",
   "id": "269dfed6-ddc8-4d07-ab8e-7e26b49f32e1",
   "metadata": {},
   "source": [
    "## How are Event Recorded in AusStage?"
   ]
  },
  {
   "cell_type": "markdown",
   "id": "ce07240a-3683-4ed2-8798-651e2b3a17e2",
   "metadata": {},
   "source": [
    "Each event would have the following (essential) attributes:\n",
    "* **eventid**;\n",
    "* **event_name**;\n",
    "* **first_date**;\n",
    "* **last_date**;\n",
    "* **part_of_a_tour**;\n",
    "* **umbrella**;\n",
    "\n",
    "In general, there're 2 types of events according to event duration:\n",
    "1. One-day Event Record: [Annie Hamilton](https://www.ausstage.edu.au/pages/event/161427)\n",
    "2. Multi-day Event Record: [An American in Paris](https://www.ausstage.edu.au/pages/event/162016), [Adelaide Festival of Arts 2020](https://www.ausstage.edu.au/pages/event/160508)"
   ]
  },
  {
   "cell_type": "markdown",
   "id": "95217f90-9993-48c9-9c54-4035817517ad",
   "metadata": {},
   "source": [
    "## Our 3 Options"
   ]
  },
  {
   "cell_type": "markdown",
   "id": "c5c573bc-e8f2-4c11-aa52-da0c6daac616",
   "metadata": {},
   "source": [
    "By now, we have 3 options in counting events of AusStage:<br>\n",
    "<span style=\"color:red\">\n",
    "<br>\n",
    "1.**Our assumption**: Treat every event record (every page in AusStage event category) as one credit to the contributor.<br>\n",
    "2.Treat every single \"production\" as one credit to the contributor. That means even though he/she has participated 3 events of a tour, he/she will still get 1 credit only. We can get those single production by filtering those event records whose **part_of_a_tour** = **yes**.<br>\n",
    "3.**Jonathan's method**: For each contributor in each year, count **event_name** once. For example, [John Bell](https://www.ausstage.edu.au/pages/contributor/639) has 5 event records whose **event_name** = **Henry 4** in 2013, then he would get 1 credit only.\n",
    "</span>\n",
    "<br>\n",
    "\n",
    "In practice, each option would have its shortcoming. It seems that no option has 100% reliability. If we need more consistency and reliability, we'd better keep our method, but if we want a more practical definition for analysis, Jonathan's method looks better. "
   ]
  },
  {
   "cell_type": "markdown",
   "id": "f82655ce-3c05-4eaf-a83c-a1041e2b92b5",
   "metadata": {},
   "source": [
    "## Set-up & Data Loading"
   ]
  },
  {
   "cell_type": "code",
   "execution_count": 1,
   "id": "c2d370bd-421f-4ec0-9a45-9be6365853af",
   "metadata": {
    "execution": {
     "iopub.execute_input": "2022-05-31T02:03:49.282869Z",
     "iopub.status.busy": "2022-05-31T02:03:49.282869Z",
     "iopub.status.idle": "2022-05-31T02:03:50.795699Z",
     "shell.execute_reply": "2022-05-31T02:03:50.794710Z",
     "shell.execute_reply.started": "2022-05-31T02:03:49.282869Z"
    },
    "tags": []
   },
   "outputs": [],
   "source": [
    "import sys\n",
    "\n",
    "codefolder = \"./codes\"\n",
    "sys.path.append(codefolder)\n",
    "\n",
    "from AusStage_Extraction import *"
   ]
  },
  {
   "cell_type": "code",
   "execution_count": 2,
   "id": "a3659dae-3f6d-467f-9cdb-3b82e9e2c8ab",
   "metadata": {
    "execution": {
     "iopub.execute_input": "2022-05-31T02:03:53.586824Z",
     "iopub.status.busy": "2022-05-31T02:03:53.585826Z",
     "iopub.status.idle": "2022-05-31T02:03:53.604776Z",
     "shell.execute_reply": "2022-05-31T02:03:53.603747Z",
     "shell.execute_reply.started": "2022-05-31T02:03:53.586824Z"
    },
    "tags": []
   },
   "outputs": [],
   "source": [
    "ausstage_engine = CreateMySQLEngine()"
   ]
  },
  {
   "cell_type": "code",
   "execution_count": 3,
   "id": "3802ad00-3c4d-4e29-bb64-d4dbcd4e820f",
   "metadata": {
    "execution": {
     "iopub.execute_input": "2022-05-31T02:04:04.508197Z",
     "iopub.status.busy": "2022-05-31T02:04:04.508197Z",
     "iopub.status.idle": "2022-05-31T02:04:54.180675Z",
     "shell.execute_reply": "2022-05-31T02:04:54.179674Z",
     "shell.execute_reply.started": "2022-05-31T02:04:04.508197Z"
    },
    "tags": []
   },
   "outputs": [],
   "source": [
    "events_df = pd.read_sql_table(\n",
    "    \"acde_event\",\n",
    "    ausstage_engine,\n",
    "    columns=[\n",
    "        \"eventid\",\n",
    "        \"event_name\",\n",
    "        \"umbrella\",\n",
    "        \"part_of_a_tour\",\n",
    "        \"first_date\",\n",
    "        \"yyyyfirst_date\",\n",
    "        \"last_date\",\n",
    "        \"yyyylast_date\",\n",
    "        \"primary_genre\",\n",
    "        \"primary_content_indicator\",\n",
    "    ],\n",
    ")\n",
    "events_df.yyyylast_date = events_df.yyyylast_date.fillna(events_df.yyyyfirst_date)\n",
    "events_df[\"year_of_event\"] = events_df.yyyyfirst_date\n",
    "\n",
    "cont_df = pd.read_sql_table(\n",
    "    \"acde_full_cont\",\n",
    "    ausstage_engine,\n",
    "    columns=[\n",
    "        \"contributorid\",\n",
    "        \"display_name\",\n",
    "        \"yyyydate_of_birth\",\n",
    "        \"career_start_year\",\n",
    "        \"career_end_year\",\n",
    "    ],\n",
    ")\n",
    "\n",
    "cc_df = pd.read_sql(\n",
    "    \"\"\"\n",
    "    select\n",
    "        ccl.CHILDID as childid,\n",
    "        ccl.CONTRIBUTORID as contributorid,\n",
    "        rl.parent_relation,\n",
    "        rl.child_relation\n",
    "    from\n",
    "        `ausstage`.`contribcontriblink` `ccl`\n",
    "    left join `ausstage`.`relation_lookup` `rl` on\n",
    "        `ccl`.`relationlookupid` = `rl`.`relationlookupid`;\n",
    "    \"\"\",\n",
    "    ausstage_engine,\n",
    ")\n",
    "\n",
    "event_contfunc = pd.read_sql(\n",
    "    \"\"\"\n",
    "    select\n",
    "        cel.CONTRIBUTORID as contributorid,\n",
    "        cel.EVENTID as eventid,\n",
    "        cel.`FUNCTION` as functionid,\n",
    "        ifnull(cfp.PREFERREDTERM, \"Unknown\") as `function`,\n",
    "        ifnull(cel.`PRIMARY_CREATOR`, \"no\") as `primary_creator`\n",
    "    from\n",
    "        `ausstage`.`conevlink` `cel`\n",
    "    left join `ausstage`.`contributorfunctpreferred` `cfp` on\n",
    "        `cfp`.`CONTRIBUTORFUNCTPREFERREDID` = `cel`.`FUNCTION`\n",
    "     having cel.CONTRIBUTORID is not null;\n",
    "    \"\"\",\n",
    "    ausstage_engine,\n",
    ")\n",
    "\n",
    "ee_df = pd.read_sql(\n",
    "    \"\"\"\n",
    "    select\n",
    "        eel.CHILDID as childid,\n",
    "        eel.EVENTID as eventid,\n",
    "        rl.parent_relation,\n",
    "        rl.child_relation\n",
    "    from\n",
    "        `ausstage`.`eventeventlink` `eel`\n",
    "    left join `ausstage`.`relation_lookup` `rl` on\n",
    "        `eel`.`relationlookupid` = `rl`.`relationlookupid`;\n",
    "    \"\"\",\n",
    "    ausstage_engine,\n",
    ")"
   ]
  },
  {
   "cell_type": "code",
   "execution_count": 4,
   "id": "240c3d0d-c622-4ab3-b8f9-9ce30d00d550",
   "metadata": {
    "execution": {
     "iopub.execute_input": "2022-05-31T02:04:54.182670Z",
     "iopub.status.busy": "2022-05-31T02:04:54.181671Z",
     "iopub.status.idle": "2022-05-31T02:04:54.354342Z",
     "shell.execute_reply": "2022-05-31T02:04:54.354342Z",
     "shell.execute_reply.started": "2022-05-31T02:04:54.182670Z"
    },
    "tags": []
   },
   "outputs": [],
   "source": [
    "cont_df[[\"career_start_year\", \"career_end_year\"]] = cont_df[\n",
    "    [\"career_start_year\", \"career_end_year\"]\n",
    "].astype(float)\n",
    "cont_df.yyyydate_of_birth = cont_df.yyyydate_of_birth.apply(\n",
    "    lambda x: None if x == \"\" else x\n",
    ").astype(float)\n",
    "cont_df = cont_df.query(\"career_start_year >= 1900\")"
   ]
  },
  {
   "cell_type": "markdown",
   "id": "dbcccea4-a5cd-4024-80e6-a5b23f2ae376",
   "metadata": {
    "tags": []
   },
   "source": [
    "## Events\n",
    "\n",
    "\n",
    "Ideally, the second option would be the best. However, we need to find out how should we apply this definition and whether this definition is feasible in current dataset. We will check the data interity(accuracy, completeness, and consistency) by exploring the event dataset."
   ]
  },
  {
   "cell_type": "markdown",
   "id": "2cdee058-d83a-4292-b4b0-31de04e03325",
   "metadata": {
    "tags": []
   },
   "source": [
    "### How many events have event relations?"
   ]
  },
  {
   "cell_type": "code",
   "execution_count": 5,
   "id": "6d0d6eb5-024a-4efb-9cb6-e023d0bca264",
   "metadata": {
    "execution": {
     "iopub.execute_input": "2022-05-26T04:27:47.959483Z",
     "iopub.status.busy": "2022-05-26T04:27:47.958454Z",
     "iopub.status.idle": "2022-05-26T04:27:47.972417Z",
     "shell.execute_reply": "2022-05-26T04:27:47.971448Z",
     "shell.execute_reply.started": "2022-05-26T04:27:47.959483Z"
    },
    "tags": []
   },
   "outputs": [
    {
     "name": "stdout",
     "output_type": "stream",
     "text": [
      "There are 7351 events having relation records\n"
     ]
    }
   ],
   "source": [
    "print(f\"There are {ee_df.shape[0]} events having relation records\")"
   ]
  },
  {
   "cell_type": "markdown",
   "id": "9025f836-4e62-4195-96e3-9eae9ed68ed4",
   "metadata": {},
   "source": [
    "There are 4 types of relations in event relation records. Only <b>Is umbrella event of</b> and <b>Is tour of</b> have associated attribute in event records, which are <b>umbrella</b> and <b>part_of_a_tour</b> respectively."
   ]
  },
  {
   "cell_type": "code",
   "execution_count": 6,
   "id": "342faa32-6dab-4519-881e-3216573bfbb9",
   "metadata": {
    "execution": {
     "iopub.execute_input": "2022-05-26T04:27:47.974442Z",
     "iopub.status.busy": "2022-05-26T04:27:47.973414Z",
     "iopub.status.idle": "2022-05-26T04:27:48.004166Z",
     "shell.execute_reply": "2022-05-26T04:27:48.003203Z",
     "shell.execute_reply.started": "2022-05-26T04:27:47.974442Z"
    },
    "tags": []
   },
   "outputs": [
    {
     "data": {
      "text/html": [
       "<div>\n",
       "<style scoped>\n",
       "    .dataframe tbody tr th:only-of-type {\n",
       "        vertical-align: middle;\n",
       "    }\n",
       "\n",
       "    .dataframe tbody tr th {\n",
       "        vertical-align: top;\n",
       "    }\n",
       "\n",
       "    .dataframe thead th {\n",
       "        text-align: right;\n",
       "    }\n",
       "</style>\n",
       "<table border=\"1\" class=\"dataframe\">\n",
       "  <thead>\n",
       "    <tr style=\"text-align: right;\">\n",
       "      <th></th>\n",
       "      <th>Event_Relation</th>\n",
       "      <th>Num_of_Relation</th>\n",
       "    </tr>\n",
       "  </thead>\n",
       "  <tbody>\n",
       "    <tr>\n",
       "      <th>0</th>\n",
       "      <td>Is umbrella event of</td>\n",
       "      <td>5618</td>\n",
       "    </tr>\n",
       "    <tr>\n",
       "      <th>1</th>\n",
       "      <td>Is tour of</td>\n",
       "      <td>1103</td>\n",
       "    </tr>\n",
       "    <tr>\n",
       "      <th>2</th>\n",
       "      <td>Has part</td>\n",
       "      <td>318</td>\n",
       "    </tr>\n",
       "    <tr>\n",
       "      <th>3</th>\n",
       "      <td>Mixed Bill</td>\n",
       "      <td>305</td>\n",
       "    </tr>\n",
       "  </tbody>\n",
       "</table>\n",
       "</div>"
      ],
      "text/plain": [
       "         Event_Relation  Num_of_Relation\n",
       "0  Is umbrella event of             5618\n",
       "1            Is tour of             1103\n",
       "2              Has part              318\n",
       "3            Mixed Bill              305"
      ]
     },
     "execution_count": 6,
     "metadata": {},
     "output_type": "execute_result"
    }
   ],
   "source": [
    "ee_df.parent_relation.value_counts().to_frame(\"Num_of_Relation\").reset_index().rename(\n",
    "    {'index': 'Event_Relation'}, axis=1\n",
    ")"
   ]
  },
  {
   "cell_type": "markdown",
   "id": "7fbe4cf8-264e-4f9f-a1e7-8dc9810127b2",
   "metadata": {
    "tags": []
   },
   "source": [
    "### How many events are in AusStage?"
   ]
  },
  {
   "cell_type": "code",
   "execution_count": 7,
   "id": "d29fb290-e34d-4991-b106-7c24b78dd391",
   "metadata": {
    "execution": {
     "iopub.execute_input": "2022-05-26T04:27:48.005163Z",
     "iopub.status.busy": "2022-05-26T04:27:48.004166Z",
     "iopub.status.idle": "2022-05-26T04:27:48.020124Z",
     "shell.execute_reply": "2022-05-26T04:27:48.019128Z",
     "shell.execute_reply.started": "2022-05-26T04:27:48.005163Z"
    },
    "tags": []
   },
   "outputs": [
    {
     "name": "stdout",
     "output_type": "stream",
     "text": [
      "There are 124745 events in total\n"
     ]
    }
   ],
   "source": [
    "print(f\"There are {events_df.shape[0]} events in total\")"
   ]
  },
  {
   "cell_type": "markdown",
   "id": "559376ae-f76b-4937-a1e9-7e0af0329fd8",
   "metadata": {},
   "source": [
    "2 attributes indicate the relations of AusStage:\n",
    "1. <b>part_of_a_tour</b>: this attribute has very good completeness.\n",
    "2. <b>umbrella</b>: the missing rate is so high (77.24%) that we can't use it in practice.\n",
    "\n",
    "(I guess this 2 attributes could be newly added, especially *umbrella*. That might explain why *umbrella* has such a high missing rate)\n",
    "\n",
    "Now there's no bother what's the difference between <b>umbrella</b> and <b>part_of_a_tour</b> because we won't use the <b>umbrella</b> attribute."
   ]
  },
  {
   "cell_type": "code",
   "execution_count": 8,
   "id": "df60909d-90fa-4379-8b82-40047240c942",
   "metadata": {
    "execution": {
     "iopub.execute_input": "2022-05-26T04:27:48.022119Z",
     "iopub.status.busy": "2022-05-26T04:27:48.022119Z",
     "iopub.status.idle": "2022-05-26T04:27:48.161782Z",
     "shell.execute_reply": "2022-05-26T04:27:48.160784Z",
     "shell.execute_reply.started": "2022-05-26T04:27:48.022119Z"
    },
    "tags": []
   },
   "outputs": [
    {
     "data": {
      "text/html": [
       "<div>\n",
       "<style scoped>\n",
       "    .dataframe tbody tr th:only-of-type {\n",
       "        vertical-align: middle;\n",
       "    }\n",
       "\n",
       "    .dataframe tbody tr th {\n",
       "        vertical-align: top;\n",
       "    }\n",
       "\n",
       "    .dataframe thead th {\n",
       "        text-align: right;\n",
       "    }\n",
       "</style>\n",
       "<table border=\"1\" class=\"dataframe\">\n",
       "  <thead>\n",
       "    <tr style=\"text-align: right;\">\n",
       "      <th></th>\n",
       "      <th>Missing Rate</th>\n",
       "    </tr>\n",
       "  </thead>\n",
       "  <tbody>\n",
       "    <tr>\n",
       "      <th>eventid</th>\n",
       "      <td>0.0%</td>\n",
       "    </tr>\n",
       "    <tr>\n",
       "      <th>umbrella</th>\n",
       "      <td>77.24%</td>\n",
       "    </tr>\n",
       "    <tr>\n",
       "      <th>part_of_a_tour</th>\n",
       "      <td>0.0%</td>\n",
       "    </tr>\n",
       "  </tbody>\n",
       "</table>\n",
       "</div>"
      ],
      "text/plain": [
       "               Missing Rate\n",
       "eventid                0.0%\n",
       "umbrella             77.24%\n",
       "part_of_a_tour         0.0%"
      ]
     },
     "execution_count": 8,
     "metadata": {},
     "output_type": "execute_result"
    }
   ],
   "source": [
    "round(\n",
    "    (\n",
    "        (events_df[[\"eventid\", \"umbrella\", \"part_of_a_tour\"]].isnull())\n",
    "        | (events_df[[\"eventid\", \"umbrella\", \"part_of_a_tour\"]] == \"\")\n",
    "    ).sum()\n",
    "    * 100\n",
    "    / events_df.shape[0],\n",
    "    2,\n",
    ").apply(lambda x: str(x) + \"%\").to_frame(\"Missing Rate\")"
   ]
  },
  {
   "cell_type": "markdown",
   "id": "4c1c6f52-4a24-4071-bcc9-2b048d07356b",
   "metadata": {},
   "source": [
    "### Check Consistency of \"part_of_a_tour\"\n",
    "\n",
    "Then let's look into <b>part_of_a_tour</b> attribute.<br>\n",
    "Here's an example of a tour \"Henry 4\". Only one record has <b>part_of_a_tour = 'no'</b>, which indicates that if we want to count the event by \"tour\" unit, we need to filter the event records having <b>part_of_a_tour = 'yes'</b>."
   ]
  },
  {
   "cell_type": "code",
   "execution_count": 62,
   "id": "7a30cdd2-781b-4ff0-a008-f7d5d2f3f038",
   "metadata": {
    "execution": {
     "iopub.execute_input": "2022-05-31T06:49:33.973878Z",
     "iopub.status.busy": "2022-05-31T06:49:33.973878Z",
     "iopub.status.idle": "2022-05-31T06:49:34.004708Z",
     "shell.execute_reply": "2022-05-31T06:49:34.003711Z",
     "shell.execute_reply.started": "2022-05-31T06:49:33.973878Z"
    },
    "tags": []
   },
   "outputs": [
    {
     "data": {
      "text/html": [
       "<div>\n",
       "<style scoped>\n",
       "    .dataframe tbody tr th:only-of-type {\n",
       "        vertical-align: middle;\n",
       "    }\n",
       "\n",
       "    .dataframe tbody tr th {\n",
       "        vertical-align: top;\n",
       "    }\n",
       "\n",
       "    .dataframe thead th {\n",
       "        text-align: right;\n",
       "    }\n",
       "</style>\n",
       "<table border=\"1\" class=\"dataframe\">\n",
       "  <thead>\n",
       "    <tr style=\"text-align: right;\">\n",
       "      <th></th>\n",
       "      <th>eventid</th>\n",
       "      <th>event_name</th>\n",
       "      <th>part_of_a_tour</th>\n",
       "      <th>first_date</th>\n",
       "      <th>last_date</th>\n",
       "    </tr>\n",
       "  </thead>\n",
       "  <tbody>\n",
       "    <tr>\n",
       "      <th>69245</th>\n",
       "      <td>104685</td>\n",
       "      <td>Henry 4</td>\n",
       "      <td>yes</td>\n",
       "      <td>2013-02-23</td>\n",
       "      <td>2013-03-09</td>\n",
       "    </tr>\n",
       "    <tr>\n",
       "      <th>69246</th>\n",
       "      <td>104686</td>\n",
       "      <td>Henry 4</td>\n",
       "      <td>yes</td>\n",
       "      <td>2013-03-14</td>\n",
       "      <td>2013-03-30</td>\n",
       "    </tr>\n",
       "    <tr>\n",
       "      <th>69247</th>\n",
       "      <td>104687</td>\n",
       "      <td>Henry 4</td>\n",
       "      <td>yes</td>\n",
       "      <td>2013-04-05</td>\n",
       "      <td>2013-04-13</td>\n",
       "    </tr>\n",
       "    <tr>\n",
       "      <th>69248</th>\n",
       "      <td>104688</td>\n",
       "      <td>Henry 4</td>\n",
       "      <td>yes</td>\n",
       "      <td>2013-04-19</td>\n",
       "      <td>2013-04-26</td>\n",
       "    </tr>\n",
       "    <tr>\n",
       "      <th>102872</th>\n",
       "      <td>139866</td>\n",
       "      <td>Henry 4</td>\n",
       "      <td>no</td>\n",
       "      <td>2013-05-04</td>\n",
       "      <td>2013-05-26</td>\n",
       "    </tr>\n",
       "  </tbody>\n",
       "</table>\n",
       "</div>"
      ],
      "text/plain": [
       "        eventid event_name part_of_a_tour first_date  last_date\n",
       "69245    104685    Henry 4            yes 2013-02-23 2013-03-09\n",
       "69246    104686    Henry 4            yes 2013-03-14 2013-03-30\n",
       "69247    104687    Henry 4            yes 2013-04-05 2013-04-13\n",
       "69248    104688    Henry 4            yes 2013-04-19 2013-04-26\n",
       "102872   139866    Henry 4             no 2013-05-04 2013-05-26"
      ]
     },
     "execution_count": 62,
     "metadata": {},
     "output_type": "execute_result"
    }
   ],
   "source": [
    "events_df[(events_df.eventid.isin([139866, 104685, 104686, 104687, 104688,]))][\n",
    "    [\"eventid\", \"event_name\", \"part_of_a_tour\", \"first_date\", \"last_date\"]\n",
    "]"
   ]
  },
  {
   "cell_type": "markdown",
   "id": "db349222-a537-4d26-834a-63aa07cef09c",
   "metadata": {},
   "source": [
    "It's shown that 31407 events were recorded as an event is part of a tour. Comparing with 1103 <b>\"is tour of\"</b> relations, this strongly indicates the \"tour relation\" is inconsistent and broken..."
   ]
  },
  {
   "cell_type": "code",
   "execution_count": 10,
   "id": "4207e954-410c-46ad-a198-4ff8af5dd3ea",
   "metadata": {
    "execution": {
     "iopub.execute_input": "2022-05-26T04:27:48.194747Z",
     "iopub.status.busy": "2022-05-26T04:27:48.194747Z",
     "iopub.status.idle": "2022-05-26T04:27:48.225188Z",
     "shell.execute_reply": "2022-05-26T04:27:48.224197Z",
     "shell.execute_reply.started": "2022-05-26T04:27:48.194747Z"
    },
    "tags": []
   },
   "outputs": [
    {
     "data": {
      "text/html": [
       "<div>\n",
       "<style scoped>\n",
       "    .dataframe tbody tr th:only-of-type {\n",
       "        vertical-align: middle;\n",
       "    }\n",
       "\n",
       "    .dataframe tbody tr th {\n",
       "        vertical-align: top;\n",
       "    }\n",
       "\n",
       "    .dataframe thead th {\n",
       "        text-align: right;\n",
       "    }\n",
       "</style>\n",
       "<table border=\"1\" class=\"dataframe\">\n",
       "  <thead>\n",
       "    <tr style=\"text-align: right;\">\n",
       "      <th></th>\n",
       "      <th>part_of_a_tour</th>\n",
       "    </tr>\n",
       "  </thead>\n",
       "  <tbody>\n",
       "    <tr>\n",
       "      <th>no</th>\n",
       "      <td>93338</td>\n",
       "    </tr>\n",
       "    <tr>\n",
       "      <th>yes</th>\n",
       "      <td>31407</td>\n",
       "    </tr>\n",
       "  </tbody>\n",
       "</table>\n",
       "</div>"
      ],
      "text/plain": [
       "     part_of_a_tour\n",
       "no            93338\n",
       "yes           31407"
      ]
     },
     "execution_count": 10,
     "metadata": {},
     "output_type": "execute_result"
    }
   ],
   "source": [
    "events_df.part_of_a_tour.value_counts().to_frame()"
   ]
  },
  {
   "cell_type": "markdown",
   "id": "d56f3200-f250-4292-8edb-8cb3c8bcdeaf",
   "metadata": {},
   "source": [
    "Also, some events only have \"yes\" in <b>part_of_a_tour</b> (see \"Tatty Toys and Perfect People\"). So we will drop those tours if we filter the event by <b>part_of_a_tour</b> attribute. "
   ]
  },
  {
   "cell_type": "code",
   "execution_count": 11,
   "id": "53777b28-d1ce-4a10-b7ba-d85dd4233996",
   "metadata": {
    "execution": {
     "iopub.execute_input": "2022-05-26T04:27:48.226212Z",
     "iopub.status.busy": "2022-05-26T04:27:48.225188Z",
     "iopub.status.idle": "2022-05-26T04:27:48.447254Z",
     "shell.execute_reply": "2022-05-26T04:27:48.447254Z",
     "shell.execute_reply.started": "2022-05-26T04:27:48.226212Z"
    },
    "tags": []
   },
   "outputs": [
    {
     "data": {
      "text/html": [
       "<div>\n",
       "<style scoped>\n",
       "    .dataframe tbody tr th:only-of-type {\n",
       "        vertical-align: middle;\n",
       "    }\n",
       "\n",
       "    .dataframe tbody tr th {\n",
       "        vertical-align: top;\n",
       "    }\n",
       "\n",
       "    .dataframe thead th {\n",
       "        text-align: right;\n",
       "    }\n",
       "</style>\n",
       "<table border=\"1\" class=\"dataframe\">\n",
       "  <thead>\n",
       "    <tr style=\"text-align: right;\">\n",
       "      <th>part_of_a_tour</th>\n",
       "      <th>no</th>\n",
       "      <th>yes</th>\n",
       "    </tr>\n",
       "    <tr>\n",
       "      <th>event_name</th>\n",
       "      <th></th>\n",
       "      <th></th>\n",
       "    </tr>\n",
       "  </thead>\n",
       "  <tbody>\n",
       "    <tr>\n",
       "      <th>Sydney Symphony Orchestra</th>\n",
       "      <td>501</td>\n",
       "      <td>172</td>\n",
       "    </tr>\n",
       "    <tr>\n",
       "      <th>Corroboree</th>\n",
       "      <td>494</td>\n",
       "      <td>23</td>\n",
       "    </tr>\n",
       "    <tr>\n",
       "      <th>Sydney Symphony</th>\n",
       "      <td>380</td>\n",
       "      <td>6</td>\n",
       "    </tr>\n",
       "    <tr>\n",
       "      <th>A Midsummer Night's Dream</th>\n",
       "      <td>197</td>\n",
       "      <td>67</td>\n",
       "    </tr>\n",
       "    <tr>\n",
       "      <th>Australian Chamber Orchestra</th>\n",
       "      <td>190</td>\n",
       "      <td>42</td>\n",
       "    </tr>\n",
       "    <tr>\n",
       "      <th>...</th>\n",
       "      <td>...</td>\n",
       "      <td>...</td>\n",
       "    </tr>\n",
       "    <tr>\n",
       "      <th>Ballet Rambert at the Belgrade Theatre Coventry September 1958</th>\n",
       "      <td>0</td>\n",
       "      <td>1</td>\n",
       "    </tr>\n",
       "    <tr>\n",
       "      <th>Ballet Rambert at the Birmingham Repertory Theatre August 1950</th>\n",
       "      <td>0</td>\n",
       "      <td>1</td>\n",
       "    </tr>\n",
       "    <tr>\n",
       "      <th>Ballet Rambert at the Birmingham Repertory Theatre August 1951</th>\n",
       "      <td>0</td>\n",
       "      <td>1</td>\n",
       "    </tr>\n",
       "    <tr>\n",
       "      <th>Ballet Rambert at the Birmingham Repertory Theatre December 1980</th>\n",
       "      <td>0</td>\n",
       "      <td>1</td>\n",
       "    </tr>\n",
       "    <tr>\n",
       "      <th>Tatty Toys and Perfect People</th>\n",
       "      <td>0</td>\n",
       "      <td>2</td>\n",
       "    </tr>\n",
       "  </tbody>\n",
       "</table>\n",
       "<p>60051 rows × 2 columns</p>\n",
       "</div>"
      ],
      "text/plain": [
       "part_of_a_tour                                       no  yes\n",
       "event_name                                                  \n",
       "Sydney Symphony Orchestra                           501  172\n",
       "Corroboree                                          494   23\n",
       "Sydney Symphony                                     380    6\n",
       "A Midsummer Night's Dream                           197   67\n",
       "Australian Chamber Orchestra                        190   42\n",
       "...                                                 ...  ...\n",
       "Ballet Rambert at the Belgrade Theatre Coventry...    0    1\n",
       "Ballet Rambert at the Birmingham Repertory Thea...    0    1\n",
       "Ballet Rambert at the Birmingham Repertory Thea...    0    1\n",
       "Ballet Rambert at the Birmingham Repertory Thea...    0    1\n",
       "Tatty Toys and Perfect People                         0    2\n",
       "\n",
       "[60051 rows x 2 columns]"
      ]
     },
     "execution_count": 11,
     "metadata": {},
     "output_type": "execute_result"
    }
   ],
   "source": [
    "events_df.pivot_table(\n",
    "    index=\"event_name\",\n",
    "    columns=[\"part_of_a_tour\"],\n",
    "    values=\"eventid\",\n",
    "    aggfunc=\"count\",\n",
    "    fill_value=0,\n",
    ").sort_values(\"no\", ascending=False)"
   ]
  },
  {
   "cell_type": "markdown",
   "id": "9877bcdd-9fb2-45c1-ba34-dd278fdbf65b",
   "metadata": {
    "execution": {
     "iopub.execute_input": "2022-05-31T05:37:59.392289Z",
     "iopub.status.busy": "2022-05-31T05:37:59.392289Z",
     "iopub.status.idle": "2022-05-31T05:37:59.406225Z",
     "shell.execute_reply": "2022-05-31T05:37:59.405227Z",
     "shell.execute_reply.started": "2022-05-31T05:37:59.392289Z"
    }
   },
   "source": [
    "### Some fault examples on Option 3\n",
    "\n",
    "* Different names for same event: \"Richard 3\" VS \"Richard III\" in [John Bell](https://www.ausstage.edu.au/pages/contributor/639).\n",
    "* For a popular masterpieces the contributor has been performing for years, is it a single production (credit)? Or it's counted as different production (credit) by year. How do we know whether it's the same version? i.e. [Yasmina Reza](https://www.ausstage.edu.au/pages/contributor/1)\n",
    "* Same name for different events: \"Brandenburg Orchestra\" in [Paul Dyer](https://www.ausstage.edu.au/pages/contributor/449767)"
   ]
  }
 ],
 "metadata": {
  "kernelspec": {
   "display_name": "ACD_Engine",
   "language": "python",
   "name": "acd_engine"
  },
  "language_info": {
   "codemirror_mode": {
    "name": "ipython",
    "version": 3
   },
   "file_extension": ".py",
   "mimetype": "text/x-python",
   "name": "python",
   "nbconvert_exporter": "python",
   "pygments_lexer": "ipython3",
   "version": "3.9.13"
  },
  "toc-autonumbering": false,
  "toc-showcode": false,
  "toc-showmarkdowntxt": false
 },
 "nbformat": 4,
 "nbformat_minor": 5
}
