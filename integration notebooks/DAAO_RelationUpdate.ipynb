{
 "cells": [
  {
   "cell_type": "markdown",
   "id": "0caae414-d1b8-4f72-a762-a2a86e807f1e",
   "metadata": {
    "tags": []
   },
   "source": [
    "## 0. Setting"
   ]
  },
  {
   "cell_type": "code",
   "execution_count": 1,
   "id": "ecab2ecb-2be7-4ba4-b685-536fb0ca05ee",
   "metadata": {
    "execution": {
     "iopub.execute_input": "2023-05-05T09:51:47.035439Z",
     "iopub.status.busy": "2023-05-05T09:51:47.034442Z",
     "iopub.status.idle": "2023-05-05T09:51:47.122661Z",
     "shell.execute_reply": "2023-05-05T09:51:47.122661Z",
     "shell.execute_reply.started": "2023-05-05T09:51:47.034442Z"
    },
    "jupyter": {
     "source_hidden": true
    },
    "tags": []
   },
   "outputs": [],
   "source": [
    "import copy\n",
    "import os\n",
    "import pprint\n",
    "from collections import Counter, defaultdict\n",
    "\n",
    "import schedule\n",
    "import tqdm\n",
    "from bson import DBRef, ObjectId\n",
    "\n",
    "pp = pprint.PrettyPrinter(indent=2)"
   ]
  },
  {
   "cell_type": "code",
   "execution_count": 2,
   "id": "2034f461-2d1f-4fb0-8101-f05ff92a6d9c",
   "metadata": {
    "execution": {
     "iopub.execute_input": "2023-05-05T09:51:47.127645Z",
     "iopub.status.busy": "2023-05-05T09:51:47.126648Z",
     "iopub.status.idle": "2023-05-05T09:51:48.362097Z",
     "shell.execute_reply": "2023-05-05T09:51:48.361197Z",
     "shell.execute_reply.started": "2023-05-05T09:51:47.127645Z"
    },
    "jupyter": {
     "source_hidden": true
    },
    "tags": []
   },
   "outputs": [],
   "source": [
    "import sys\n",
    "\n",
    "codefolder = \"C:/ProjectCollections/Programs/Australia_Cultural_Data_Engine/codes\"\n",
    "\n",
    "sys.path.append(codefolder)\n",
    "from acde import MongoDBManipulation as acde_manip\n",
    "from daao import MongoDBManipulation as daao_manip\n",
    "from general import GeneralFunctions as gen_gf\n",
    "from general import JsonProcessing as gen_jp\n",
    "from general import MongoDBManipulation as gen_manip"
   ]
  },
  {
   "cell_type": "markdown",
   "id": "eeb69382-bf28-4898-94e6-76231e0101e7",
   "metadata": {},
   "source": [
    "## 1. DAAO DB Meta Collection\n",
    "\n",
    "1. get all collections and corresponding classes\n",
    "2. get field information of each collection (Removed, All, Date Objects)"
   ]
  },
  {
   "cell_type": "code",
   "execution_count": 3,
   "id": "e17071dc-6428-4f63-b029-1a5c24b0b48f",
   "metadata": {
    "execution": {
     "iopub.execute_input": "2023-05-05T09:51:48.363095Z",
     "iopub.status.busy": "2023-05-05T09:51:48.363095Z",
     "iopub.status.idle": "2023-05-05T09:51:48.441127Z",
     "shell.execute_reply": "2023-05-05T09:51:48.439954Z",
     "shell.execute_reply.started": "2023-05-05T09:51:48.363095Z"
    },
    "jupyter": {
     "source_hidden": true
    },
    "tags": []
   },
   "outputs": [],
   "source": [
    "daao_meta = daao_manip.DAAO_MetaCollection()"
   ]
  },
  {
   "cell_type": "markdown",
   "id": "0378a417-d3f7-425f-b846-148288dc71eb",
   "metadata": {},
   "source": [
    "### 1.1 DAAO Class Extraction"
   ]
  },
  {
   "cell_type": "code",
   "execution_count": 4,
   "id": "89bc5e16-ae72-4396-bd97-99a7b336fc0f",
   "metadata": {
    "execution": {
     "iopub.execute_input": "2023-05-05T09:51:48.445116Z",
     "iopub.status.busy": "2023-05-05T09:51:48.445116Z",
     "iopub.status.idle": "2023-05-05T09:51:49.652213Z",
     "shell.execute_reply": "2023-05-05T09:51:49.651211Z",
     "shell.execute_reply.started": "2023-05-05T09:51:48.445116Z"
    },
    "jupyter": {
     "source_hidden": true
    },
    "tags": []
   },
   "outputs": [],
   "source": [
    "class_names = daao_meta.extract_class()"
   ]
  },
  {
   "cell_type": "markdown",
   "id": "8cb3633a-81d7-4ded-a242-574cba003916",
   "metadata": {
    "tags": []
   },
   "source": [
    "### 1.2 DAAO Field Name Extraction"
   ]
  },
  {
   "cell_type": "code",
   "execution_count": 5,
   "id": "854ee19b-ddbc-458f-b510-ec41e66d7f32",
   "metadata": {
    "execution": {
     "iopub.execute_input": "2023-05-05T09:51:49.653210Z",
     "iopub.status.busy": "2023-05-05T09:51:49.653210Z",
     "iopub.status.idle": "2023-05-05T09:54:50.455070Z",
     "shell.execute_reply": "2023-05-05T09:54:50.454107Z",
     "shell.execute_reply.started": "2023-05-05T09:51:49.653210Z"
    },
    "jupyter": {
     "source_hidden": true
    },
    "scrolled": true,
    "tags": []
   },
   "outputs": [
    {
     "name": "stderr",
     "output_type": "stream",
     "text": [
      "person: 100%|███████████████████████████████████████████████████████████████████| 30693/30693 [01:01<00:00, 495.42it/s]\n",
      "personGroup: 100%|████████████████████████████████████████████████████████████████| 4660/4660 [00:05<00:00, 882.80it/s]\n",
      "event: 100%|███████████████████████████████████████████████████████████████████| 21906/21906 [00:10<00:00, 2162.64it/s]\n",
      "eventGroup: 100%|████████████████████████████████████████████████████████████████████| 94/94 [00:00<00:00, 2528.67it/s]\n",
      "recognition: 100%|███████████████████████████████████████████████████████████████| 5481/5481 [00:01<00:00, 3093.36it/s]\n",
      "work: 100%|████████████████████████████████████████████████████████████████████| 23780/23780 [00:08<00:00, 2854.54it/s]\n",
      "collection: 100%|██████████████████████████████████████████████████████████████| 11747/11747 [00:02<00:00, 4093.87it/s]\n",
      "ansicOcc_menu: 100%|██████████████████████████████████████████████████████████████| 825/825 [00:00<00:00, 33539.80it/s]\n",
      "eventType_menu: 100%|██████████████████████████████████████████████████████████████████| 6/6 [00:00<00:00, 6003.30it/s]\n",
      "groupType_menu: 100%|██████████████████████████████████████████████████████████████████| 4/4 [00:00<00:00, 3971.88it/s]\n",
      "indgCty_menu: 100%|███████████████████████████████████████████████████████████████| 668/668 [00:00<00:00, 33744.37it/s]\n",
      "indgLang_menu: 100%|███████████████████████████████████████████████████████████████| 904/904 [00:00<00:00, 8252.33it/s]\n",
      "lang_menu: 100%|████████████████████████████████████████████████████████████████| 7707/7707 [00:00<00:00, 31183.44it/s]\n",
      "medium_menu: 100%|██████████████████████████████████████████████████████████████████| 25/25 [00:00<00:00, 12533.78it/s]\n",
      "recogType_menu: 100%|██████████████████████████████████████████████████████████████████| 5/5 [00:00<00:00, 5013.51it/s]\n",
      "rcdStat_menu: 100%|████████████████████████████████████████████████████████████████████| 3/3 [00:00<00:00, 1503.87it/s]\n",
      "rscType_menu: 100%|████████████████████████████████████████████████████████████████████| 9/9 [00:00<00:00, 9030.80it/s]\n",
      "src_menu: 100%|█████████████████████████████████████████████████████████████████████| 32/32 [00:00<00:00, 16056.67it/s]\n",
      "tag_menu: 100%|█████████████████████████████████████████████████████████████████| 3135/3135 [00:00<00:00, 37232.40it/s]\n",
      "asset: 100%|████████████████████████████████████████████████████████████████████| 4501/4501 [00:00<00:00, 39628.04it/s]\n",
      "culturalheritage: 100%|███████████████████████████████████████████████████████████| 222/222 [00:00<00:00, 37095.55it/s]\n",
      "externalresource: 100%|████████████████████████████████████████████████████████| 52597/52597 [00:06<00:00, 8545.02it/s]\n",
      "externalresource_ori: 100%|███████████████████████████████████████████████████| 52597/52597 [00:03<00:00, 16506.94it/s]\n",
      "indigenousdreaming: 100%|█████████████████████████████████████████████████████████| 663/663 [00:00<00:00, 51026.16it/s]\n",
      "place: 100%|███████████████████████████████████████████████████████████████████| 16691/16691 [00:06<00:00, 2700.09it/s]\n",
      "predicate: 100%|████████████████████████████████████████████████████████████████████| 28/28 [00:00<00:00, 14032.80it/s]\n",
      "relation: 100%|███████████████████████████████████████████████████████████████| 76558/76558 [00:04<00:00, 18253.96it/s]\n",
      "relationship: 100%|██████████████████████████████████████████████████████████| 212505/212505 [01:09<00:00, 3076.88it/s]\n",
      "stubperson: 100%|█████████████████████████████████████████████████████████████| 12526/12526 [00:00<00:00, 56920.87it/s]\n",
      "stubpersongroup: 100%|██████████████████████████████████████████████████████████| 3512/3512 [00:00<00:00, 54196.31it/s]\n",
      "xpredicate: 100%|███████████████████████████████████████████████████████████████████| 66/66 [00:00<00:00, 33108.97it/s]\n"
     ]
    }
   ],
   "source": [
    "daao_objs_info = daao_meta.extract_fieldName()"
   ]
  },
  {
   "cell_type": "markdown",
   "id": "12e8c0e2-0a1f-47b3-bd82-6719701987aa",
   "metadata": {},
   "source": [
    "### 1.3 Lookup Project Pipeline Setting"
   ]
  },
  {
   "cell_type": "code",
   "execution_count": 6,
   "id": "ee6c5e99-f852-4b0f-9a8e-a399ced59e1c",
   "metadata": {
    "execution": {
     "iopub.execute_input": "2023-05-05T09:54:50.456067Z",
     "iopub.status.busy": "2023-05-05T09:54:50.456067Z",
     "iopub.status.idle": "2023-05-05T09:54:50.471028Z",
     "shell.execute_reply": "2023-05-05T09:54:50.470030Z",
     "shell.execute_reply.started": "2023-05-05T09:54:50.456067Z"
    },
    "jupyter": {
     "source_hidden": true
    },
    "tags": []
   },
   "outputs": [],
   "source": [
    "lookupProj_info = daao_meta.construct_LookUpPipelines_relation(daao_objs_info)"
   ]
  },
  {
   "cell_type": "markdown",
   "id": "6635de32-33e3-4418-92a8-525833566db5",
   "metadata": {},
   "source": [
    "## 2. Extract Relationships\n"
   ]
  },
  {
   "cell_type": "markdown",
   "id": "de3e70f5-f0ff-42e9-94ed-46bcb0b386ce",
   "metadata": {},
   "source": [
    "### Brief Description\n",
    "\n",
    "To Comment\n",
    "\n",
    "1. [Set Up Searching Conditions](#set-up-searching-cond)\n",
    "\n",
    "2. [Drop Existing \"relationship\" Collection](#drop-relationship-coll)\n",
    "\n",
    "3. [Set Up Searching Conditions](#set-up-searching-cond)\n",
    "\n",
    "4. [Set Up Searching Conditions](#set-up-searching-cond)\n",
    "\n",
    "5. [Set Up Searching Conditions](#set-up-searching-cond)"
   ]
  },
  {
   "cell_type": "markdown",
   "id": "5723aaa1-d6fe-46a6-8e29-06f601a9f2e3",
   "metadata": {},
   "source": [
    "### <a name=\"set-up-searching-cond\">Set Up Searching Conditions</a>\n"
   ]
  },
  {
   "cell_type": "code",
   "execution_count": 7,
   "id": "4f21aa24-0cfa-4b5e-8a72-21503b486930",
   "metadata": {
    "execution": {
     "iopub.execute_input": "2023-05-05T09:54:50.475016Z",
     "iopub.status.busy": "2023-05-05T09:54:50.474019Z",
     "iopub.status.idle": "2023-05-05T09:54:50.486985Z",
     "shell.execute_reply": "2023-05-05T09:54:50.485987Z",
     "shell.execute_reply.started": "2023-05-05T09:54:50.475016Z"
    },
    "jupyter": {
     "source_hidden": true
    },
    "tags": []
   },
   "outputs": [],
   "source": [
    "search_colls = [\n",
    "    (\"xparty\", {\"is_deleted\": False, \"is_shadow\": False, \"is_locked\": False}),\n",
    "    (\"xwork\", {\"is_deleted\": False, \"is_locked\": False}),\n",
    "    (\"xactivity\", {\"is_deleted\": False, \"is_locked\": False}),\n",
    "]\n",
    "relation_coll_name = \"relationship\""
   ]
  },
  {
   "cell_type": "markdown",
   "id": "ccc44bf8-3876-4c91-98dc-a920aa33cdbf",
   "metadata": {},
   "source": [
    "### <a name=\"drop-relationship-coll\">Drop Existing \"relationship\" Collection</a>"
   ]
  },
  {
   "cell_type": "code",
   "execution_count": 8,
   "id": "f5c711d2-1758-4b48-a36b-b5207032a176",
   "metadata": {
    "execution": {
     "iopub.execute_input": "2023-05-05T09:54:50.490974Z",
     "iopub.status.busy": "2023-05-05T09:54:50.488980Z",
     "iopub.status.idle": "2023-05-05T09:54:50.501944Z",
     "shell.execute_reply": "2023-05-05T09:54:50.500947Z",
     "shell.execute_reply.started": "2023-05-05T09:54:50.490974Z"
    },
    "jupyter": {
     "source_hidden": true
    },
    "tags": []
   },
   "outputs": [],
   "source": [
    "daao_meta.daao_db[relation_coll_name].drop()"
   ]
  },
  {
   "cell_type": "markdown",
   "id": "b1eb3590-1e44-4f9a-a1c4-9f177117de91",
   "metadata": {},
   "source": [
    "### <a name=\"insert-related-resource\">Insert Related Resource Relationships</a>"
   ]
  },
  {
   "cell_type": "code",
   "execution_count": 9,
   "id": "c2824cd3-6b13-499a-ab89-d05b739e5793",
   "metadata": {
    "execution": {
     "iopub.execute_input": "2023-05-05T09:54:50.505934Z",
     "iopub.status.busy": "2023-05-05T09:54:50.504937Z",
     "iopub.status.idle": "2023-05-05T09:57:16.538291Z",
     "shell.execute_reply": "2023-05-05T09:57:16.537294Z",
     "shell.execute_reply.started": "2023-05-05T09:54:50.505934Z"
    },
    "jupyter": {
     "source_hidden": true
    },
    "scrolled": true,
    "tags": []
   },
   "outputs": [
    {
     "name": "stderr",
     "output_type": "stream",
     "text": [
      "Resources: xparty_relationships_update (Refreshed Time: 1): 100%|████████████████| 10778/10778 [02:08<00:00, 83.64it/s]\n",
      "Resources: xwork_relationships_update (Refreshed Time: 1): 100%|██████████████████| 3035/3035 [00:14<00:00, 203.63it/s]\n",
      "Resources: xactivity_relationships_update (Refreshed Time: 1): 100%|████████████████| 271/271 [00:01<00:00, 139.57it/s]\n"
     ]
    }
   ],
   "source": [
    "rsc_predicates = {\n",
    "    \"see_alsos\": {\"term\": \"has reference\", \"reverse_term\": \"is reference of\",},\n",
    "    \"references\": {\"term\": \"has reference\", \"reverse_term\": \"is reference of\",},\n",
    "    \"images\": {\"term\": \"has image\", \"reverse_term\": \"is image of\",},\n",
    "    \"portrait_images\": {\"term\": \"has portrait\", \"reverse_term\": \"is portrait of\",},\n",
    "}\n",
    "\n",
    "# biography.references is not included\n",
    "for search_coll, coll_filter in search_colls:\n",
    "# for search_coll, coll_filter in [(\"xactivity\", {\"is_deleted\": False, \"is_locked\": False})]:\n",
    "\n",
    "    # get all resource related fields\n",
    "    rsc_fields = set()\n",
    "    for k in daao_objs_info.keys():\n",
    "        if daao_objs_info[k].get(\"collection_name\") == search_coll:\n",
    "            rsc_fields = rsc_fields | set(\n",
    "                f\n",
    "                for f in daao_objs_info[k].get(\"all_fields\")\n",
    "                # need an annotation here\n",
    "                # how should I adjust portrait_images and images\n",
    "                if \".\" not in f\n",
    "                and \"_stub_\" not in f\n",
    "                and f.startswith((\"ref\", \"see_\", \"portrait\", \"images\"))\n",
    "            )\n",
    "    rsc_filter = {\"$or\": []}\n",
    "    for f in rsc_fields:\n",
    "        rsc_filter[\"$or\"].append({f: {\"$exists\": 1, \"$ne\": []}})\n",
    "    rsc_project_fields = {f: 1 for f in rsc_fields}\n",
    "    rsc_project_fields.update({\"_cls\": 1})\n",
    "\n",
    "    # extract and look up the \"resource\" attributes\n",
    "    refresh_time = 1\n",
    "    with tqdm.tqdm(\n",
    "        total=daao_meta.daao_db[search_coll].count_documents(rsc_filter),\n",
    "        desc=f\"Resources: {search_coll}_relationships_update (Refreshed Time: {refresh_time})\",\n",
    "    ) as pbar, daao_meta.localclient.start_session() as session:\n",
    "        for r in daao_meta.daao_db[search_coll].find(\n",
    "            rsc_filter, rsc_project_fields, no_cursor_timeout=True, session=session\n",
    "        ):\n",
    "            r_class = r[\"_cls\"].split(\".\")[-1]\n",
    "            if r_class == \"PersonGroup\":\n",
    "                r_class = \"Organization\"\n",
    "            for f in rsc_fields:\n",
    "                related_obj_relations = r.get(f) if r.get(f) else []\n",
    "                for related_obj_r in related_obj_relations:\n",
    "                    # construct relationship document structure\n",
    "                    relation = {\n",
    "                        \"subject\": DBRef(search_coll, r[\"_id\"]),\n",
    "                        \"object\": related_obj_r,\n",
    "                        \"_class\": \"relationship\",\n",
    "                        \"relation_class\": f\"{r_class}_RelatedResource\",\n",
    "                        \"predicate\": rsc_predicates[f],\n",
    "                    }\n",
    "                    # relation_ori = copy.copy(relation)\n",
    "                    relation = daao_manip.daao_get_dbrefInfo(\n",
    "                        relation, lookupProj_info, db=daao_meta.daao_db\n",
    "                    )\n",
    "                    if relation.get(\"subject\") and relation.get(\"object\"):\n",
    "                        daao_meta.daao_db[relation_coll_name].insert_one(relation)\n",
    "            pbar.update(1)\n",
    "            # if pbar.n > 5:\n",
    "            #     break\n",
    "\n",
    "            #####\n",
    "            # refresh the session for insert\n",
    "            #####\n",
    "            if pbar.format_dict[\"elapsed\"] / 1200 > refresh_time:\n",
    "                daao_meta.localclient.admin.command(\n",
    "                    \"refreshSessions\", [session.session_id], session=session\n",
    "                )\n",
    "                refresh_time += 1\n",
    "                pbar.set_description(\n",
    "                    f\"Resources: {search_coll}_relationships_update (Refreshed Time: {refresh_time})\"\n",
    "                )\n",
    "                pbar.refresh()  # to show the update immediately"
   ]
  },
  {
   "cell_type": "markdown",
   "id": "3f97593b-58a5-45b3-8c72-91e19e5a5c2f",
   "metadata": {
    "tags": []
   },
   "source": [
    "### <a name=\"insert-related-place\">Insert Related Place Relationships</a>"
   ]
  },
  {
   "cell_type": "markdown",
   "id": "8499ce33-b0e0-4b6b-95df-88b6883582b9",
   "metadata": {},
   "source": [
    "#### Set"
   ]
  },
  {
   "cell_type": "code",
   "execution_count": 10,
   "id": "5b5a5da1-3df9-424e-a493-2b57f59b87ef",
   "metadata": {
    "execution": {
     "iopub.execute_input": "2023-05-05T09:57:16.541288Z",
     "iopub.status.busy": "2023-05-05T09:57:16.540294Z",
     "iopub.status.idle": "2023-05-05T09:57:16.553506Z",
     "shell.execute_reply": "2023-05-05T09:57:16.552507Z",
     "shell.execute_reply.started": "2023-05-05T09:57:16.541288Z"
    },
    "jupyter": {
     "source_hidden": true
    },
    "tags": []
   },
   "outputs": [],
   "source": [
    "related_p_fields_mapping = {\n",
    "    \"xparty\": {\n",
    "        \"birth.coverage.place\",\n",
    "        \"death.burial_place\",\n",
    "        \"death.coverage.place\",\n",
    "        \"other_occupations.coverage_range.place\",\n",
    "        \"residences.coverage_range.place\",\n",
    "        \"trainings.coverage_range.place\",\n",
    "    },\n",
    "    \"xactivity\": {\"coverages.place\",},\n",
    "    \"xwork\": {\"manufacturers.place\",},\n",
    "    \"externalresource\": {\"place\"},\n",
    "}\n",
    "\n",
    "related_p_predicates = {\n",
    "    \"birth_place\": {\"term\": \"was born in\"},\n",
    "    \"death_place\": {\"term\": \"died in\"},\n",
    "    \"trainings\": {\"term\": \"was educated/trained in\"},\n",
    "    \"other_occupations\": {\"term\": \"worked in\"},\n",
    "    \"residences\": {\n",
    "        \"VersionedDocument.XParty.Person\": {\"term\": \"lived in\"},\n",
    "        \"VersionedDocument.XParty.PersonGroup\": {\"term\": \"was located in\"},\n",
    "    },\n",
    "    \"coverages\": {\"term\": \"was held in\"},\n",
    "    \"manufacturers\": {\"term\": \"was manufactured in\"},\n",
    "    \"place\": {\"term\": \"is created in\"},\n",
    "}"
   ]
  },
  {
   "cell_type": "markdown",
   "id": "4a45e4c6-f08a-461f-b2a3-2699b6f6e8c6",
   "metadata": {
    "tags": []
   },
   "source": [
    "#### xparty Related Places"
   ]
  },
  {
   "cell_type": "code",
   "execution_count": 11,
   "id": "fe7892e7-6354-4f90-80fb-ce78b38396a9",
   "metadata": {
    "execution": {
     "iopub.execute_input": "2023-05-05T09:57:16.555501Z",
     "iopub.status.busy": "2023-05-05T09:57:16.555501Z",
     "iopub.status.idle": "2023-05-05T09:57:16.585497Z",
     "shell.execute_reply": "2023-05-05T09:57:16.584500Z",
     "shell.execute_reply.started": "2023-05-05T09:57:16.555501Z"
    },
    "jupyter": {
     "source_hidden": true
    },
    "tags": []
   },
   "outputs": [],
   "source": [
    "#####\n",
    "# Set xparty related place pipelines\n",
    "#####\n",
    "\n",
    "curr_level = \"person\"\n",
    "curr_search_filter = [\n",
    "    s_c[1]\n",
    "    for s_c in search_colls\n",
    "    if s_c[0] == daao_objs_info[curr_level][\"collection_name\"]\n",
    "][0]\n",
    "\n",
    "# get name of first level of field having 'coverage' prefix\n",
    "fields_levelUp_root = list(\n",
    "    set(\n",
    "        \".\".join(f.split(\".\")[:2])\n",
    "        for f in daao_objs_info[curr_level][\"date_objects\"]\n",
    "        if \"coverage\" in f\n",
    "    )\n",
    ")\n",
    "# get name of first level of ARRAY field having 'coverage' prefix\n",
    "fields_arrayDates = set(\n",
    "    f.split(\".\", 1)[0] for f in fields_levelUp_root if f.split(\".\", 1)[0].endswith(\"s\")\n",
    ")\n",
    "InitStage_Match = gen_manip.construct_MatchStage(bool_filters=curr_search_filter)\n",
    "InitStage_Match[0][\"$match\"].update(\n",
    "    {\n",
    "        \"$or\": [\n",
    "            {f\"{f}.$id\": {\"$type\": \"objectId\"},}\n",
    "            for f in related_p_fields_mapping[\n",
    "                daao_objs_info[curr_level][\"collection_name\"]\n",
    "            ]\n",
    "        ]\n",
    "    }\n",
    ")\n",
    "InitStage_Project = gen_manip.construct_FinalProjectionStage(\n",
    "    keep_list=fields_levelUp_root + [\"_cls\"]\n",
    ")\n",
    "InitStage_Remove = gen_manip.construct_FinalProjectionStage(\n",
    "    remove_list=set(daao_objs_info[curr_level][\"remove_fields\"]) - set([\"_cls\"])\n",
    ")\n",
    "Stage2_Unwinds = gen_manip.construct_unwindStage(fields_arrayDates)\n",
    "Stage3_LevelUp = [\n",
    "    {\n",
    "        \"$addFields\": {\n",
    "            \"birth_date\": \"$birth.coverage.date._date\",\n",
    "            \"birth_place\": \"$birth.coverage.place\",\n",
    "            \"birth_note\": \"$birth.note\",\n",
    "            \"death_date\": \"$death.coverage.date._date\",\n",
    "            \"death_place\": \"$death.coverage.place\",\n",
    "            \"death_note\": \"$death.note\",\n",
    "            \"death_burial_place\": \"$death.burial_place\",\n",
    "            \"other_occupations.date_end\": \"$other_occupations.coverage_range.date_range.end._date\",\n",
    "            \"other_occupations.date_start\": \"$other_occupations.coverage_range.date_range.start._date\",\n",
    "            \"other_occupations.place\": \"$other_occupations.coverage_range.place\",\n",
    "            \"trainings.date_end\": \"$trainings.coverage_range.date_range.end._date\",\n",
    "            \"trainings.date_start\": \"$trainings.coverage_range.date_range.start._date\",\n",
    "            \"trainings.place\": \"$trainings.coverage_range.place\",\n",
    "            \"residences.date_end\": \"$residences.coverage_range.date_range.end._date\",\n",
    "            \"residences.date_start\": \"$residences.coverage_range.date_range.start._date\",\n",
    "            \"residences.place\": \"$residences.coverage_range.place\",\n",
    "        }\n",
    "    },\n",
    "    {\n",
    "        \"$project\": {\n",
    "            \"trainings.coverage_range\": 0,\n",
    "            \"death\": 0,\n",
    "            \"birth\": 0,\n",
    "            \"other_occupations.coverage_range\": 0,\n",
    "            \"residences.coverage_range\": 0,\n",
    "        }\n",
    "    },\n",
    "]\n",
    "Stage4_Group = daao_manip.daao_construct_groupStage(\n",
    "    tuple(\n",
    "        list(set(f.split(\".\")[0] for f in Stage3_LevelUp[0][\"$addFields\"].keys()))\n",
    "        + [\"_cls\"]\n",
    "    ),\n",
    "    tuple(fields_arrayDates),\n",
    ")\n",
    "\n",
    "Stage5_Unset = []\n",
    "Stage5_Unset_set1 = {}\n",
    "Stage5_Unset_set2 = {}\n",
    "\n",
    "for f in Stage3_LevelUp[0][\"$addFields\"].keys():\n",
    "    if \".\" in f:\n",
    "        f_none_value = [{}]\n",
    "        f_name = f.split(\".\")[0]\n",
    "    elif not f.endswith((\"note\", \"date\")):\n",
    "        f_none_value = None\n",
    "        f_name = f\n",
    "    else:\n",
    "        f_name = None\n",
    "    if f_name:\n",
    "        Stage5_Unset_set1.update(\n",
    "            {\n",
    "                f\"{f_name}\": {\n",
    "                    \"$cond\": {\n",
    "                        \"if\": {\"$eq\": [f\"${f_name}\", f_none_value]},\n",
    "                        \"then\": \"$$REMOVE\",\n",
    "                        \"else\": f\"${f_name}\",\n",
    "                    },\n",
    "                }\n",
    "            }\n",
    "        )\n",
    "    if f != f_name and \".\" not in f:\n",
    "        Stage5_Unset_set2.update(\n",
    "            {\n",
    "                f: {\n",
    "                    \"$cond\": {\n",
    "                        \"if\": {\n",
    "                            \"$or\": [\n",
    "                                {\"$eq\": [f, None]},\n",
    "                                {\"$eq\": [f, \"\"]},\n",
    "                                {\"$not\": [f\"${f.split('_')[0]}_place\"]},\n",
    "                            ]\n",
    "                        },\n",
    "                        \"else\": f\"${f}\",\n",
    "                        \"then\": \"$$REMOVE\",\n",
    "                    },\n",
    "                }\n",
    "            }\n",
    "        )\n",
    "Stage5_Unset = [{\"$set\": Stage5_Unset_set1}, {\"$set\": Stage5_Unset_set2}]\n",
    "\n",
    "rp_pipelines_xparty = (\n",
    "    InitStage_Match\n",
    "    + InitStage_Project\n",
    "    + InitStage_Remove\n",
    "    + Stage2_Unwinds\n",
    "    + Stage3_LevelUp\n",
    "    + Stage4_Group\n",
    "    + Stage5_Unset\n",
    ")"
   ]
  },
  {
   "cell_type": "code",
   "execution_count": 12,
   "id": "c16269e2-73a2-4ce5-a4f1-aee3e98bd8cb",
   "metadata": {
    "execution": {
     "iopub.execute_input": "2023-05-05T09:57:16.587491Z",
     "iopub.status.busy": "2023-05-05T09:57:16.586495Z",
     "iopub.status.idle": "2023-05-05T09:59:33.564916Z",
     "shell.execute_reply": "2023-05-05T09:59:33.563923Z",
     "shell.execute_reply.started": "2023-05-05T09:57:16.587491Z"
    },
    "jupyter": {
     "source_hidden": true
    },
    "scrolled": true,
    "tags": []
   },
   "outputs": [
    {
     "name": "stderr",
     "output_type": "stream",
     "text": [
      "Fetch Related Places: xparty_relationships_update (Refreshed Time: 1): 100%|███| 10109/10109 [00:02<00:00, 4200.63it/s]\n",
      "Insert Related Place: xparty_relationships_update (Refreshed Time: 1): 100%|████| 30638/30638 [02:14<00:00, 228.11it/s]\n"
     ]
    }
   ],
   "source": [
    "#####\n",
    "# Extract xparty related places\n",
    "#####\n",
    "\n",
    "curr_search_coll = \"xparty\"\n",
    "curr_rp_pipelines = rp_pipelines_xparty\n",
    "refresh_time = 1\n",
    "\n",
    "with tqdm.tqdm(\n",
    "    total=daao_meta.daao_db[curr_search_coll].count_documents(\n",
    "        curr_rp_pipelines[0][\"$match\"]\n",
    "    ),\n",
    "    desc=f\"Fetch Related Places: {curr_search_coll}_relationships_update (Refreshed Time: {refresh_time})\",\n",
    ") as pbar:\n",
    "    tmp_rp_relations = []\n",
    "    for r in daao_meta.daao_db[curr_search_coll].aggregate(curr_rp_pipelines,):\n",
    "        r_class = r[\"_cls\"].split(\".\")[-1]\n",
    "        if r_class == \"PersonGroup\":\n",
    "            r_class = \"Organization\"\n",
    "        curr_rp_fields = [\n",
    "            f\n",
    "            for f in r.keys() - set([\"_id\", \"_cls\"])\n",
    "            if not f.endswith((\"note\", \"date\"))\n",
    "        ]\n",
    "        for f in curr_rp_fields:\n",
    "            if f.startswith((\"birth\", \"death\")):\n",
    "                if r.get(f):\n",
    "                    object_dbref = r.get(f)\n",
    "                else:\n",
    "                    continue\n",
    "                f_prefix = f.split(\"_\")[0]\n",
    "                relation = {\n",
    "                    \"subject\": DBRef(curr_search_coll, r[\"_id\"]),\n",
    "                    \"object\": object_dbref,\n",
    "                    \"note\": r.get(f\"{f_prefix}_note\"),\n",
    "                    \"relation_class\": f\"{r_class}_RelatedPlace\",\n",
    "                    \"time\": {\n",
    "                        \"date_start\": r.get(f\"{f_prefix}_date\"),\n",
    "                        \"date_end\": None,\n",
    "                    },\n",
    "                    \"predicate\": related_p_predicates[f],\n",
    "                }\n",
    "                tmp_rp_relations.append(relation)\n",
    "            else:\n",
    "                related_p_obj_relations = r.get(f) if r.get(f) else []\n",
    "                if f == \"residences\":\n",
    "                    rp_predicate = related_p_predicates[f][r[\"_cls\"]]\n",
    "                else:\n",
    "                    rp_predicate = related_p_predicates[f]\n",
    "                for related_p_obj_r in related_p_obj_relations:\n",
    "                    if related_p_obj_r.get(\"place\"):\n",
    "                        object_dbref = related_p_obj_r.get(\"place\")\n",
    "                    else:\n",
    "                        continue\n",
    "                    relation = {\n",
    "                        \"subject\": DBRef(curr_search_coll, r[\"_id\"]),\n",
    "                        \"object\": object_dbref,\n",
    "                        \"relation_class\": f\"{r_class}_RelatedPlace\",\n",
    "                        \"time\": {\n",
    "                            \"date_start\": related_p_obj_r.get(\"date_start\"),\n",
    "                            \"date_end\": related_p_obj_r.get(\"date_end\"),\n",
    "                        },\n",
    "                        \"predicate\": rp_predicate,\n",
    "                    }\n",
    "                    tmp_rp_relations.append(relation)\n",
    "        pbar.update(1)\n",
    "with tqdm.tqdm(\n",
    "    total=len(tmp_rp_relations),\n",
    "    desc=f\"Insert Related Place: {curr_search_coll}_relationships_update (Refreshed Time: {refresh_time})\",\n",
    ") as pbar, daao_meta.localclient.start_session() as session:\n",
    "    for r in tmp_rp_relations:\n",
    "        relation = daao_manip.daao_get_dbrefInfo(\n",
    "            copy.copy(r), lookupProj_info, db=daao_meta.daao_db\n",
    "        )\n",
    "        if relation.get(\"subject\") and relation.get(\"object\"):\n",
    "            daao_meta.daao_db[relation_coll_name].insert_one(relation)\n",
    "            pbar.update(1)\n",
    "    #####\n",
    "    # refresh the session for insert\n",
    "    #####\n",
    "    if pbar.format_dict[\"elapsed\"] / 1200 > refresh_time:\n",
    "        daao_meta.localclient.admin.command(\n",
    "            \"refreshSessions\", [session.session_id], session=session\n",
    "        )\n",
    "        refresh_time += 1\n",
    "        pbar.set_description(\n",
    "            f\"Related: {search_coll}_relationships_update (Refreshed Time: {refresh_time})\"\n",
    "        )\n",
    "        pbar.refresh()  # to show immediately the update"
   ]
  },
  {
   "cell_type": "markdown",
   "id": "c0f9524f-6f79-4a18-b8c9-9d7b898ecb72",
   "metadata": {},
   "source": [
    "#### xactivity Related Places"
   ]
  },
  {
   "cell_type": "code",
   "execution_count": 13,
   "id": "1f27ce32-1128-468a-95fb-7f4cd5f6c120",
   "metadata": {
    "execution": {
     "iopub.execute_input": "2023-05-05T09:59:33.566904Z",
     "iopub.status.busy": "2023-05-05T09:59:33.565905Z",
     "iopub.status.idle": "2023-05-05T09:59:33.595253Z",
     "shell.execute_reply": "2023-05-05T09:59:33.594277Z",
     "shell.execute_reply.started": "2023-05-05T09:59:33.565905Z"
    },
    "jupyter": {
     "source_hidden": true
    },
    "scrolled": true,
    "tags": []
   },
   "outputs": [],
   "source": [
    "#####\n",
    "# Set xactivity related place pipelines\n",
    "#####\n",
    "\n",
    "curr_level = \"event\"\n",
    "curr_search_filter = [\n",
    "    s_c[1]\n",
    "    for s_c in search_colls\n",
    "    if s_c[0] == daao_objs_info[curr_level][\"collection_name\"]\n",
    "][0]\n",
    "\n",
    "# get name of first level of field having 'coverage' prefix\n",
    "fields_levelUp_root = list(\n",
    "    set(\n",
    "        \".\".join(f.split(\".\")[:2])\n",
    "        for f in daao_objs_info[curr_level][\"date_objects\"]\n",
    "        if \"coverage\" in f\n",
    "    )\n",
    ")\n",
    "# get name of first level of ARRAY field having 'coverage' prefix\n",
    "fields_arrayDates = set(\n",
    "    f.split(\".\", 1)[0] for f in fields_levelUp_root if f.split(\".\", 1)[0].endswith(\"s\")\n",
    ")\n",
    "InitStage_Match = gen_manip.construct_MatchStage(bool_filters=curr_search_filter)\n",
    "InitStage_Match[0][\"$match\"].update(\n",
    "    {\n",
    "        \"$or\": [\n",
    "            {f\"{f}.$id\": {\"$type\": \"objectId\"},}\n",
    "            for f in related_p_fields_mapping[\n",
    "                daao_objs_info[curr_level][\"collection_name\"]\n",
    "            ]\n",
    "        ]\n",
    "    }\n",
    ")\n",
    "InitStage_Project = gen_manip.construct_FinalProjectionStage(\n",
    "    keep_list=list(fields_arrayDates) + [\"_cls\"]\n",
    ")\n",
    "InitStage_Remove = gen_manip.construct_FinalProjectionStage(\n",
    "    remove_list=set(daao_objs_info[curr_level][\"remove_fields\"]) - set([\"_cls\"])\n",
    ")\n",
    "Stage2_Unwinds = gen_manip.construct_unwindStage(fields_arrayDates)\n",
    "Stage3_LevelUp = [\n",
    "    {\n",
    "        \"$addFields\": {\n",
    "            \"coverages.date_end\": \"$coverages.date_range.end._date\",\n",
    "            \"coverages.date_start\": \"$coverages.date_range.start._date\",\n",
    "        }\n",
    "    },\n",
    "    {\"$project\": {\"coverages.date_range\": 0,}},\n",
    "]\n",
    "Stage4_Group = daao_manip.daao_construct_groupStage(\n",
    "    tuple(\n",
    "        list(set(f.split(\".\")[0] for f in Stage3_LevelUp[0][\"$addFields\"].keys()))\n",
    "        + [\"_cls\"]\n",
    "    ),\n",
    "    tuple(fields_arrayDates),\n",
    ")\n",
    "Stage5_Unset = [\n",
    "    {\n",
    "        \"$set\": {\n",
    "            \"coverages\": {\n",
    "                \"$cond\": {\n",
    "                    \"else\": \"$coverages\",\n",
    "                    \"if\": {\"$eq\": [\"$coverages\", [{}]]},\n",
    "                    \"then\": \"$$REMOVE\",\n",
    "                }\n",
    "            },\n",
    "        }\n",
    "    }\n",
    "]\n",
    "\n",
    "rp_pipelines_xactivity = (\n",
    "    InitStage_Match\n",
    "    + InitStage_Project\n",
    "    + InitStage_Remove\n",
    "    + Stage2_Unwinds\n",
    "    + Stage3_LevelUp\n",
    "    + Stage4_Group\n",
    "    + Stage5_Unset\n",
    ")"
   ]
  },
  {
   "cell_type": "code",
   "execution_count": 14,
   "id": "08219407-5c4a-42a4-abce-91ac2218682f",
   "metadata": {
    "execution": {
     "iopub.execute_input": "2023-05-05T09:59:33.597248Z",
     "iopub.status.busy": "2023-05-05T09:59:33.596251Z",
     "iopub.status.idle": "2023-05-05T10:02:29.100428Z",
     "shell.execute_reply": "2023-05-05T10:02:29.100428Z",
     "shell.execute_reply.started": "2023-05-05T09:59:33.597248Z"
    },
    "jupyter": {
     "source_hidden": true
    },
    "scrolled": true,
    "tags": []
   },
   "outputs": [
    {
     "name": "stderr",
     "output_type": "stream",
     "text": [
      "Fetch Related Places: xactivity_relationships_update (Refreshed Time: 1): 100%|█| 20247/20247 [02:55<00:00, 115.45it/s]\n"
     ]
    }
   ],
   "source": [
    "#####\n",
    "# Extract xactivity related places\n",
    "#####\n",
    "\n",
    "curr_search_coll = \"xactivity\"\n",
    "curr_rp_pipelines = rp_pipelines_xactivity\n",
    "refresh_time = 1\n",
    "\n",
    "with tqdm.tqdm(\n",
    "    total=daao_meta.daao_db[curr_search_coll].count_documents(\n",
    "        curr_rp_pipelines[0][\"$match\"]\n",
    "    ),\n",
    "    desc=f\"Fetch Related Places: {curr_search_coll}_relationships_update (Refreshed Time: {refresh_time})\",\n",
    ") as pbar, daao_meta.localclient.start_session() as session:\n",
    "    for r in daao_meta.daao_db[curr_search_coll].aggregate(curr_rp_pipelines,):\n",
    "        r_class = r[\"_cls\"].split(\".\")[-1]\n",
    "        curr_rp_fields = [f for f in r.keys() - set([\"_id\", \"_cls\"])]\n",
    "        for curr_rp_field in curr_rp_fields:\n",
    "            related_p_obj_relations = (\n",
    "                r.get(curr_rp_field) if r.get(curr_rp_field) else []\n",
    "            )\n",
    "            for related_p_obj_r in related_p_obj_relations:\n",
    "                if isinstance(related_p_obj_r.get(\"place\"), DBRef):\n",
    "                    object_dbref = related_p_obj_r.get(\"place\")\n",
    "                else:\n",
    "                    continue\n",
    "                relation = {\n",
    "                    \"subject\": DBRef(curr_search_coll, r[\"_id\"]),\n",
    "                    \"object\": object_dbref,\n",
    "                    \"relation_class\": f\"{r_class}_RelatedPlace\",\n",
    "                    \"time\": {\n",
    "                        \"date_start\": related_p_obj_r.get(\"date_start\"),\n",
    "                        \"date_end\": related_p_obj_r.get(\"date_end\"),\n",
    "                    },\n",
    "                    \"predicate\": related_p_predicates[curr_rp_field],\n",
    "                }\n",
    "                # relation_ori = copy.copy(relation)\n",
    "                relation = daao_manip.daao_get_dbrefInfo(\n",
    "                    relation, lookupProj_info, db=daao_meta.daao_db\n",
    "                )\n",
    "                if relation.get(\"subject\") and relation.get(\"object\"):\n",
    "                    daao_meta.daao_db[relation_coll_name].insert_one(relation)\n",
    "        pbar.update(1)\n",
    "        #####\n",
    "        # refresh the session for insert\n",
    "        #####\n",
    "        if pbar.format_dict[\"elapsed\"] / 1200 > refresh_time:\n",
    "            daao_meta.localclient.admin.command(\n",
    "                \"refreshSessions\", [session.session_id], session=session\n",
    "            )\n",
    "            refresh_time += 1\n",
    "            pbar.set_description(\n",
    "                f\"Related: {search_coll}_relationships_update (Refreshed Time: {refresh_time})\"\n",
    "            )\n",
    "            pbar.refresh()  # to show immediately the update"
   ]
  },
  {
   "cell_type": "markdown",
   "id": "b04c9247-31a4-48b4-b519-9cfbfca3fa03",
   "metadata": {},
   "source": [
    "#### xwork Related Places"
   ]
  },
  {
   "cell_type": "code",
   "execution_count": 15,
   "id": "7bd41403-8bdd-405d-8ef5-f91643cb82ec",
   "metadata": {
    "execution": {
     "iopub.execute_input": "2023-05-05T10:02:29.102424Z",
     "iopub.status.busy": "2023-05-05T10:02:29.102424Z",
     "iopub.status.idle": "2023-05-05T10:02:29.116534Z",
     "shell.execute_reply": "2023-05-05T10:02:29.116534Z",
     "shell.execute_reply.started": "2023-05-05T10:02:29.102424Z"
    },
    "jupyter": {
     "source_hidden": true
    },
    "tags": []
   },
   "outputs": [],
   "source": [
    "#####\n",
    "# Set xwork related place pipelines\n",
    "#####\n",
    "\n",
    "curr_level = \"work\"\n",
    "curr_search_filter = [\n",
    "    s_c[1]\n",
    "    for s_c in search_colls\n",
    "    if s_c[0] == daao_objs_info[curr_level][\"collection_name\"]\n",
    "][0]\n",
    "\n",
    "# get name of first level of field having 'coverage' prefix\n",
    "fields_levelUp_root = list(\n",
    "    set(\n",
    "        \".\".join(f.split(\".\")[:2])\n",
    "        for f in daao_objs_info[curr_level][\"date_objects\"]\n",
    "        if \"coverage\" in f\n",
    "    )\n",
    ")\n",
    "# get name of first level of ARRAY field having 'coverage' prefix\n",
    "InitStage_Match = gen_manip.construct_MatchStage(bool_filters=curr_search_filter)\n",
    "InitStage_Match[0][\"$match\"].update(\n",
    "    {\n",
    "        \"$or\": [\n",
    "            {f\"{f}.$id\": {\"$type\": \"objectId\"},}\n",
    "            for f in related_p_fields_mapping[\n",
    "                daao_objs_info[curr_level][\"collection_name\"]\n",
    "            ]\n",
    "        ]\n",
    "    }\n",
    ")\n",
    "InitStage_Project = gen_manip.construct_FinalProjectionStage(\n",
    "    keep_list=[\"manufacturers.place\", \"_cls\"]\n",
    ")\n",
    "InitStage_Remove = gen_manip.construct_FinalProjectionStage(\n",
    "    remove_list=set(daao_objs_info[curr_level][\"remove_fields\"]) - set([\"_cls\"])\n",
    ")\n",
    "# the order of unwind fields matters here\n",
    "Stage2_Unwinds = gen_manip.construct_unwindStage(\n",
    "    [\"manufacturers\", \"manufacturers.place\"]\n",
    ")\n",
    "Stage5_Unset = [\n",
    "    {\n",
    "        \"$set\": {\n",
    "            \"manufacturers\": {\n",
    "                \"$cond\": {\n",
    "                    \"else\": \"$manufacturers\",\n",
    "                    \"if\": {\"$eq\": [\"$manufacturers\", [{}]]},\n",
    "                    \"then\": \"$$REMOVE\",\n",
    "                }\n",
    "            },\n",
    "        }\n",
    "    }\n",
    "]\n",
    "\n",
    "rp_pipelines_xwork = (\n",
    "    InitStage_Match\n",
    "    + InitStage_Project\n",
    "    + InitStage_Remove\n",
    "    + Stage2_Unwinds\n",
    "    + Stage5_Unset\n",
    ")"
   ]
  },
  {
   "cell_type": "code",
   "execution_count": 16,
   "id": "655f9f6c-e9dd-430d-bd62-09c699ade1e4",
   "metadata": {
    "execution": {
     "iopub.execute_input": "2023-05-05T10:02:29.118530Z",
     "iopub.status.busy": "2023-05-05T10:02:29.118530Z",
     "iopub.status.idle": "2023-05-05T10:02:29.272841Z",
     "shell.execute_reply": "2023-05-05T10:02:29.271857Z",
     "shell.execute_reply.started": "2023-05-05T10:02:29.118530Z"
    },
    "jupyter": {
     "source_hidden": true
    },
    "scrolled": true,
    "tags": []
   },
   "outputs": [
    {
     "name": "stderr",
     "output_type": "stream",
     "text": [
      "Fetch Related Places: xwork_relationships_update (Refreshed Time: 1): 100%|██████████████| 6/6 [00:00<00:00, 79.40it/s]\n"
     ]
    }
   ],
   "source": [
    "#####\n",
    "# Extract xwork related places\n",
    "#####\n",
    "\n",
    "curr_search_coll = \"xwork\"\n",
    "curr_rp_pipelines = rp_pipelines_xwork\n",
    "refresh_time = 1\n",
    "\n",
    "with tqdm.tqdm(\n",
    "    total=daao_meta.daao_db[curr_search_coll].count_documents(\n",
    "        curr_rp_pipelines[0][\"$match\"]\n",
    "    ),\n",
    "    desc=f\"Fetch Related Places: {curr_search_coll}_relationships_update (Refreshed Time: {refresh_time})\",\n",
    ") as pbar, daao_meta.localclient.start_session() as session:\n",
    "    for r in daao_meta.daao_db[curr_search_coll].aggregate(curr_rp_pipelines,):\n",
    "        r_class = r[\"_cls\"].split(\".\")[-1]\n",
    "        curr_rp_fields = [f for f in r.keys() - set([\"_id\", \"_cls\"])]\n",
    "        for curr_rp_field in curr_rp_fields:\n",
    "            if r.get(curr_rp_field) and r.get(curr_rp_field).get(\"place\"):\n",
    "                related_p_obj_r = r.get(curr_rp_field)\n",
    "                object_dbref = related_p_obj_r.get(\"place\")\n",
    "            else:\n",
    "                continue\n",
    "            relation = {\n",
    "                \"subject\": DBRef(curr_search_coll, r[\"_id\"]),\n",
    "                \"object\": object_dbref,\n",
    "                \"relation_class\": f\"{r_class}_RelatedPlace\",\n",
    "                \"time\": {\n",
    "                    \"date_start\": related_p_obj_r.get(\"date_start\"),\n",
    "                    \"date_end\": related_p_obj_r.get(\"date_end\"),\n",
    "                },\n",
    "                \"predicate\": related_p_predicates[curr_rp_field],\n",
    "            }\n",
    "            relation_ori = copy.copy(relation)\n",
    "            relation = daao_manip.daao_get_dbrefInfo(\n",
    "                relation, lookupProj_info, db=daao_meta.daao_db\n",
    "            )\n",
    "            if relation.get(\"subject\") and relation.get(\"object\"):\n",
    "                daao_meta.daao_db[relation_coll_name].insert_one(relation)\n",
    "        pbar.update(1)\n",
    "        #####\n",
    "        # refresh the session for insert\n",
    "        #####\n",
    "        if pbar.format_dict[\"elapsed\"] / 1200 > refresh_time:\n",
    "            daao_meta.localclient.admin.command(\n",
    "                \"refreshSessions\", [session.session_id], session=session\n",
    "            )\n",
    "            refresh_time += 1\n",
    "            pbar.set_description(\n",
    "                f\"Related: {search_coll}_relationships_update (Refreshed Time: {refresh_time})\"\n",
    "            )\n",
    "            pbar.refresh()  # to show immediately the update"
   ]
  },
  {
   "cell_type": "markdown",
   "id": "02be779b-5d76-4029-b688-aaab26d30163",
   "metadata": {},
   "source": [
    "#### externalresource Related Places"
   ]
  },
  {
   "cell_type": "code",
   "execution_count": 17,
   "id": "92c143d1-3bc8-45af-814d-89bdd50fb553",
   "metadata": {
    "execution": {
     "iopub.execute_input": "2023-05-05T10:02:29.274870Z",
     "iopub.status.busy": "2023-05-05T10:02:29.273882Z",
     "iopub.status.idle": "2023-05-05T10:02:29.288679Z",
     "shell.execute_reply": "2023-05-05T10:02:29.287682Z",
     "shell.execute_reply.started": "2023-05-05T10:02:29.274870Z"
    },
    "jupyter": {
     "source_hidden": true
    },
    "tags": []
   },
   "outputs": [],
   "source": [
    "#####\n",
    "# Set xwork related place pipelines\n",
    "#####\n",
    "\n",
    "curr_level = \"externalresource\"\n",
    "curr_search_filter = {\n",
    "    \"is_deleted\": False,\n",
    "}\n",
    "\n",
    "InitStage_Match = gen_manip.construct_MatchStage(bool_filters=curr_search_filter)\n",
    "\n",
    "FinalStage_Project = gen_manip.construct_FinalProjectionStage(\n",
    "    keep_list=[\"place\", \"_cls\"], complex_action_pairs={\"date\": \"$date._date\"},\n",
    ")\n",
    "\n",
    "rp_pipelines_etlrsc = InitStage_Match + FinalStage_Project"
   ]
  },
  {
   "cell_type": "code",
   "execution_count": 18,
   "id": "fb55b491-363c-4bf9-85df-2b50f6e0288a",
   "metadata": {
    "execution": {
     "iopub.execute_input": "2023-05-05T10:02:29.291677Z",
     "iopub.status.busy": "2023-05-05T10:02:29.290677Z",
     "iopub.status.idle": "2023-05-05T10:02:37.019483Z",
     "shell.execute_reply": "2023-05-05T10:02:37.018484Z",
     "shell.execute_reply.started": "2023-05-05T10:02:29.291677Z"
    },
    "jupyter": {
     "source_hidden": true
    },
    "tags": []
   },
   "outputs": [
    {
     "name": "stderr",
     "output_type": "stream",
     "text": [
      "Fetch Related Places: externalresource_relationships_update (Refreshed Time: 1):   6%| | 2138/36663 [00:07<02:03, 279.3\n"
     ]
    }
   ],
   "source": [
    "curr_search_coll = \"externalresource\"\n",
    "curr_rp_pipelines = rp_pipelines_etlrsc\n",
    "refresh_time = 1\n",
    "\n",
    "with tqdm.tqdm(\n",
    "    total=daao_meta.daao_db[curr_search_coll].count_documents(\n",
    "        curr_rp_pipelines[0][\"$match\"]\n",
    "    ),\n",
    "    desc=f\"Fetch Related Places: {curr_search_coll}_relationships_update (Refreshed Time: {refresh_time})\",\n",
    ") as pbar, daao_meta.localclient.start_session() as session:\n",
    "    for r in daao_meta.daao_db[curr_search_coll].aggregate(curr_rp_pipelines,):\n",
    "        if isinstance(r.get(\"place\"), DBRef):\n",
    "            object_dbref = r.get(\"place\")\n",
    "        else:\n",
    "            continue\n",
    "        relation = {\n",
    "            \"subject\": DBRef(curr_search_coll, r[\"_id\"]),\n",
    "            \"object\": object_dbref,\n",
    "            \"relation_class\": \"Resource_RelatedPlace\",\n",
    "            \"time\": {\"date_start\": r.get(\"date\"), \"date_end\": r.get(\"date\"),},\n",
    "            \"predicate\": related_p_predicates[\"place\"],\n",
    "        }\n",
    "        relation_ori = copy.copy(relation)\n",
    "        relation = daao_manip.daao_get_dbrefInfo(\n",
    "            relation, lookupProj_info, db=daao_meta.daao_db\n",
    "        )\n",
    "        if relation.get(\"subject\") and relation.get(\"object\"):\n",
    "            daao_meta.daao_db[relation_coll_name].insert_one(relation)\n",
    "            pbar.update(1)"
   ]
  },
  {
   "cell_type": "markdown",
   "id": "f10a167b-d2ba-4910-9fc0-47c2dc9f745c",
   "metadata": {
    "tags": []
   },
   "source": [
    "### <a name=\"insert-related-others\">Insert Other Related Entities Relationships</a>"
   ]
  },
  {
   "cell_type": "code",
   "execution_count": 19,
   "id": "8611891f-56db-4139-a17c-1cb4720ab0a0",
   "metadata": {
    "execution": {
     "iopub.execute_input": "2023-05-05T10:02:37.023471Z",
     "iopub.status.busy": "2023-05-05T10:02:37.022475Z",
     "iopub.status.idle": "2023-05-05T10:15:31.017610Z",
     "shell.execute_reply": "2023-05-05T10:15:31.016578Z",
     "shell.execute_reply.started": "2023-05-05T10:02:37.023471Z"
    },
    "jupyter": {
     "source_hidden": true
    },
    "scrolled": true,
    "tags": []
   },
   "outputs": [
    {
     "name": "stderr",
     "output_type": "stream",
     "text": [
      "Related: xparty_relationships_update (Refreshed Time: 1): 100%|██████████████████| 15113/15113 [12:01<00:00, 20.94it/s]\n",
      "Related: xwork_relationships_update (Refreshed Time: 1): 100%|████████████████████| 3433/3433 [00:33<00:00, 102.78it/s]\n",
      "Related: xactivity_relationships_update (Refreshed Time: 1): 100%|███████████████████| 752/752 [00:18<00:00, 40.60it/s]\n"
     ]
    }
   ],
   "source": [
    "relation_class_mapping = {\n",
    "    \"RelatedPerson\": \"RelatedPerson\",\n",
    "    \"RelatedPersonGroup\": \"RelatedOrganization\",\n",
    "    \"RelatedEvent\": \"RelatedEvent\",\n",
    "    \"RelatedCollection\": \"RelatedCollection\",\n",
    "    \"RelatedRecognition\": \"RelatedRecognition\",\n",
    "    \"RelatedWork\": \"RelatedWork\",\n",
    "    \"RelatedPlace\": \"RelatedPlace\",\n",
    "    \"RelatedRecognitionForWork\": \"RelatedRecognition\",\n",
    "    \"RelatedEventGroup\": \"RelatedEventGroup\",\n",
    "    \"RelatedEventForWork\": \"RelatedEvent\",\n",
    "    \"RelatedEventEvent\": \"RelatedEvent\",\n",
    "}\n",
    "\n",
    "for search_coll, coll_filter in search_colls:\n",
    "    # get all (other) related fields\n",
    "    related_fields = set()\n",
    "    for k in daao_objs_info.keys():\n",
    "        if daao_objs_info[k].get(\"collection_name\") == search_coll:\n",
    "            related_fields = related_fields | set(\n",
    "                f\n",
    "                for f in daao_objs_info[k].get(\"all_fields\")\n",
    "                if \".\" not in f and \"_stub_\" not in f and f.startswith(\"related_\")\n",
    "            )\n",
    "    related_filter = {\"$or\": []}\n",
    "    for f in related_fields:\n",
    "        related_filter[\"$or\"].append({f: {\"$exists\": 1, \"$ne\": []}})\n",
    "    related_filter.update(coll_filter)\n",
    "    related_project_fields = {f: 1 for f in related_fields}\n",
    "    related_project_fields.update({\"_cls\": 1})\n",
    "\n",
    "    # extract and look up the \"related\" attributes\n",
    "    refresh_time = 1\n",
    "    with tqdm.tqdm(\n",
    "        total=daao_meta.daao_db[search_coll].count_documents(related_filter),\n",
    "        desc=f\"Related: {search_coll}_relationships_update (Refreshed Time: {refresh_time})\",\n",
    "    ) as pbar, daao_meta.localclient.start_session() as session:\n",
    "        for r in daao_meta.daao_db[search_coll].find(\n",
    "            related_filter,\n",
    "            related_project_fields,\n",
    "            no_cursor_timeout=True,\n",
    "            session=session,\n",
    "        ):\n",
    "            r_class = r[\"_cls\"].split(\".\")[-1]\n",
    "            if r_class == \"PersonGroup\":\n",
    "                r_class = \"Organization\"\n",
    "            for f in related_fields:\n",
    "                related_obj_relations = r.get(f) if r.get(f) else []\n",
    "                for related_obj_r in related_obj_relations:\n",
    "                    relation = {\n",
    "                        \"subject\": DBRef(search_coll, r[\"_id\"]),\n",
    "                        \"object\": related_obj_r.get(\"target\"),\n",
    "                        \"note\": related_obj_r.get(\"note\"),\n",
    "                        \"relation_class\": f'{r_class}_{relation_class_mapping[related_obj_r[\"_cls\"].split(\".\")[-1]]}',\n",
    "                        \"predicate\": related_obj_r.get(\"predicate\"),\n",
    "                    }\n",
    "                    predicate_id = (\n",
    "                        related_obj_r.get(\"predicate\").id\n",
    "                        if related_obj_r.get(\"predicate\")\n",
    "                        else None\n",
    "                    )\n",
    "                    object_id = (\n",
    "                        related_obj_r.get(\"target\").id\n",
    "                        if related_obj_r.get(\"target\")\n",
    "                        else None\n",
    "                    )\n",
    "                    #####\n",
    "                    # this part check whether there is any inserting relation exists\n",
    "                    # in database, if there is, skip it\n",
    "                    # This should have better method...\n",
    "                    #####\n",
    "                    # relation_stored = len(\n",
    "                    #     list(\n",
    "                    #         daao_meta.daao_db[relation_coll_name].find(\n",
    "                    #             {\n",
    "                    #                 \"object._id\": object_id,\n",
    "                    #                 \"predicate._id\": predicate_id,\n",
    "                    #                 \"subject._id\": r[\"_id\"],\n",
    "                    #             }\n",
    "                    #         )\n",
    "                    #     )\n",
    "                    # )\n",
    "                    # if relation_stored == 0:\n",
    "                    #     relation = mdb_qc.daao_get_dbrefInfo(\n",
    "                    #         relation, lookupProj_info, db=daao_meta.daao_db\n",
    "                    #     )\n",
    "                    #     daao_meta.daao_db[relation_coll_name].insert_one(relation)\n",
    "                    relation = daao_manip.daao_get_dbrefInfo(\n",
    "                        relation, lookupProj_info, db=daao_meta.daao_db\n",
    "                    )\n",
    "                    if relation.get(\"subject\") and relation.get(\"object\"):\n",
    "                        daao_meta.daao_db[relation_coll_name].insert_one(relation)\n",
    "            pbar.update(1)\n",
    "            #####\n",
    "            # refresh the session for insert\n",
    "            #####\n",
    "            if pbar.format_dict[\"elapsed\"] / 1200 > refresh_time:\n",
    "                daao_meta.localclient.admin.command(\n",
    "                    \"refreshSessions\", [session.session_id], session=session\n",
    "                )\n",
    "                refresh_time += 1\n",
    "                pbar.set_description(\n",
    "                    f\"Related: {search_coll}_relationships_update (Refreshed Time: {refresh_time})\"\n",
    "                )\n",
    "                pbar.refresh()  # to show immediately the update"
   ]
  },
  {
   "cell_type": "markdown",
   "id": "2346bc30-707f-4181-be85-579b44c2461f",
   "metadata": {},
   "source": [
    "## Learning Notes\n",
    "\n",
    "1. [no_cursor_timeout not functioning as expected](https://jira.mongodb.org/browse/PYTHON-1879)\n",
    "2. [Schedule a repeating event in Python 3](https://stackoverflow.com/questions/2398661/schedule-a-repeating-event-in-python-3)\n"
   ]
  }
 ],
 "metadata": {
  "kernelspec": {
   "display_name": "ACD_Engine",
   "language": "python",
   "name": "acd_engine"
  },
  "language_info": {
   "codemirror_mode": {
    "name": "ipython",
    "version": 3
   },
   "file_extension": ".py",
   "mimetype": "text/x-python",
   "name": "python",
   "nbconvert_exporter": "python",
   "pygments_lexer": "ipython3",
   "version": "3.9.13"
  }
 },
 "nbformat": 4,
 "nbformat_minor": 5
}
