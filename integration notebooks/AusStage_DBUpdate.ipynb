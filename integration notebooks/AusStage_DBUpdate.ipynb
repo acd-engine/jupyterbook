{
 "cells": [
  {
   "cell_type": "markdown",
   "id": "811e956d-8167-4089-b62c-70c8b5cfe8fc",
   "metadata": {},
   "source": [
    "## For the first time restoration\n",
    "\n",
    "\n",
    "1. Create new user **ausstage** and grant the privileges.<br>\n",
    "   (The new user name have to to be **'ausstage'**, as the original view has defined the user names, otherwise we can't access the view.)\n",
    "\n",
    "```\n",
    "CREATE USER 'ausstage' IDENTIFIED BY 'ACD_Engine!2022';\n",
    "GRANT ALL ON *.* TO 'ausstage';\n",
    "FLUSH PRIVILEGES;\n",
    "\n",
    "```\n",
    "\n",
    "2. Download the DB dump from secret backend api. Then unzip it\n",
    "\n",
    "```\n",
    "https://rdf.ausstage.edu.au/joseki/ausstage_complete_inserts.zip\n",
    "```\n",
    "\n",
    "3. Restore the DB from dump sql in force mode. (with restore log)\n",
    "\n",
    "```\n",
    "mysql -u ausstage -p -f < script.sql\n",
    "```"
   ]
  },
  {
   "cell_type": "markdown",
   "id": "84712136-68dd-4474-b87c-4d80cbe3ed29",
   "metadata": {},
   "source": [
    "## For the following update"
   ]
  },
  {
   "cell_type": "markdown",
   "id": "b8cca475-72ad-498a-a81b-8e6c65cc92b3",
   "metadata": {},
   "source": [
    "### Setting"
   ]
  },
  {
   "cell_type": "code",
   "execution_count": 1,
   "id": "0357b1b3-cd0f-408c-8b72-8c6d79f8be82",
   "metadata": {
    "execution": {
     "iopub.execute_input": "2023-03-31T12:29:56.661332Z",
     "iopub.status.busy": "2023-03-31T12:29:56.660337Z",
     "iopub.status.idle": "2023-03-31T12:29:59.377787Z",
     "shell.execute_reply": "2023-03-31T12:29:59.376792Z",
     "shell.execute_reply.started": "2023-03-31T12:29:56.661332Z"
    },
    "tags": []
   },
   "outputs": [],
   "source": [
    "import sys\n",
    "\n",
    "codefolder = \"C:\\ProjectCollections\\Programs\\Australia_Cultural_Data_Engine\\codes\"\n",
    "sys.path.append(codefolder)\n",
    "\n",
    "from ausstage import DBExtraction as adb_manip\n",
    "\n",
    "from general import GeneralFunctions as gen_gf\n",
    "from general import JsonProcessing as gen_jp\n",
    "from general import MongoDBManipulation as gen_manip"
   ]
  },
  {
   "cell_type": "code",
   "execution_count": 2,
   "id": "2ceffbf2-4f96-4e9c-a677-89d38beecb2a",
   "metadata": {
    "execution": {
     "iopub.execute_input": "2023-03-31T12:29:59.378754Z",
     "iopub.status.busy": "2023-03-31T12:29:59.378754Z",
     "iopub.status.idle": "2023-03-31T12:30:00.789198Z",
     "shell.execute_reply": "2023-03-31T12:30:00.788232Z",
     "shell.execute_reply.started": "2023-03-31T12:29:59.378754Z"
    },
    "tags": []
   },
   "outputs": [],
   "source": [
    "import os\n",
    "import shutil\n",
    "import zipfile\n",
    "from datetime import datetime\n",
    "from subprocess import run\n",
    "from time import time\n",
    "from urllib.request import urlretrieve\n",
    "\n",
    "from pymysql.constants import CLIENT\n",
    "from sqlalchemy import create_engine, text\n",
    "from sqlalchemy_utils.functions import database_exists, drop_database"
   ]
  },
  {
   "cell_type": "code",
   "execution_count": 3,
   "id": "c18ce1a4-690c-4c73-ab4a-cf736cc1d097",
   "metadata": {
    "execution": {
     "iopub.execute_input": "2023-03-31T12:30:00.791192Z",
     "iopub.status.busy": "2023-03-31T12:30:00.790195Z",
     "iopub.status.idle": "2023-03-31T12:30:00.807148Z",
     "shell.execute_reply": "2023-03-31T12:30:00.804160Z",
     "shell.execute_reply.started": "2023-03-31T12:30:00.791192Z"
    },
    "tags": []
   },
   "outputs": [],
   "source": [
    "download_url = \"https://rdf.ausstage.edu.au/joseki/ausstage_complete_inserts.zip\"\n",
    "db_dump_start = download_url.rsplit(\"/\", 1)[-1][:-4]\n",
    "db_dump_folder = \"D:/Program_Data/Australia_Cultural_Data_Engine_Data/australian_live_performance_database/ausstage_dbdump\"\n",
    "remove_prev = False\n",
    "\n",
    "db_user = \"ausstage\"\n",
    "user_pw = \"ACD_Engine!2022\"\n",
    "mysql_path = \"C:/Program Files/MySQL/MySQL Server 8.0/bin\"\n",
    "restore_fpath = f\"{db_dump_folder}/restore.log\""
   ]
  },
  {
   "cell_type": "markdown",
   "id": "7a3522af-8dab-415e-9eec-042942790aea",
   "metadata": {},
   "source": [
    "### Download latest database dump (Previous databse removal is optional.)"
   ]
  },
  {
   "cell_type": "code",
   "execution_count": 6,
   "id": "8b5a54b5-6d9f-4601-abc4-3fea6cafcb19",
   "metadata": {
    "execution": {
     "iopub.execute_input": "2022-09-20T07:42:18.512122Z",
     "iopub.status.busy": "2022-09-20T07:42:18.511124Z",
     "iopub.status.idle": "2022-09-20T07:42:38.679616Z",
     "shell.execute_reply": "2022-09-20T07:42:38.678619Z",
     "shell.execute_reply.started": "2022-09-20T07:42:18.512122Z"
    },
    "tags": []
   },
   "outputs": [
    {
     "name": "stdout",
     "output_type": "stream",
     "text": [
      "Keep hitorical version.\n"
     ]
    },
    {
     "data": {
      "text/plain": [
       "('D:/Program_Data/Australia_Cultural_Data_Engine_Data/australian_live_performance_database/ausstage_dbdump\\\\ausstage_complete_inserts_202209201742.zip',\n",
       " <http.client.HTTPMessage at 0x116528a86a0>)"
      ]
     },
     "execution_count": 6,
     "metadata": {},
     "output_type": "execute_result"
    }
   ],
   "source": [
    "# Remove history version of dump file (or not)\n",
    "gen_gf.remove_history(db_dump_folder, db_dump_start, remove_prev)\n",
    "\n",
    "current_ts = gen_gf.time_now()\n",
    "dump_name = db_dump_start + \"_\" + current_ts + \".zip\"\n",
    "db_dump_fpath = os.path.join(db_dump_folder, dump_name)\n",
    "\n",
    "urlretrieve(download_url, db_dump_fpath)"
   ]
  },
  {
   "cell_type": "markdown",
   "id": "100fa315-756e-4424-975c-768cf75725c6",
   "metadata": {},
   "source": [
    "### Unzip Database Dump"
   ]
  },
  {
   "cell_type": "code",
   "execution_count": 4,
   "id": "b3a231a7-ab23-45ab-ac90-dd7a92a10f25",
   "metadata": {
    "execution": {
     "iopub.execute_input": "2022-03-21T08:58:44.106848Z",
     "iopub.status.busy": "2022-03-21T08:58:44.106848Z",
     "iopub.status.idle": "2022-03-21T08:58:46.182102Z",
     "shell.execute_reply": "2022-03-21T08:58:46.181075Z",
     "shell.execute_reply.started": "2022-03-21T08:58:44.106848Z"
    },
    "tags": []
   },
   "outputs": [
    {
     "name": "stdout",
     "output_type": "stream",
     "text": [
      "opt/ausstage/latest/webapps/joseki//ausstage_complete_inserts.sql is unzipped as D:/Program_Data/Australia_Cultural_Data_Engine_Data/australian_live_performance_database/ausstage_dbdump\\ausstage_complete_inserts_202203211958.sql.\n"
     ]
    }
   ],
   "source": [
    "unzip_name = \"opt/ausstage/latest/webapps/joseki//\" + db_dump_start + \".sql\"\n",
    "unzip_rename = db_dump_start + \"_\" + current_ts + \".sql\"\n",
    "unzip_fpath = os.path.join(db_dump_folder, unzip_rename)\n",
    "\n",
    "gen_gf.UnzipFile(db_dump_fpath, unzip_name, unzip_fpath)"
   ]
  },
  {
   "cell_type": "markdown",
   "id": "59e2941b-9e6d-487b-96e6-6eddf97c56f3",
   "metadata": {},
   "source": [
    "### Drop Database if it exists"
   ]
  },
  {
   "cell_type": "code",
   "execution_count": 5,
   "id": "66eb6d98-3569-4b36-aa4e-a84e237b2acd",
   "metadata": {
    "execution": {
     "iopub.execute_input": "2022-03-21T08:58:50.994344Z",
     "iopub.status.busy": "2022-03-21T08:58:50.994344Z",
     "iopub.status.idle": "2022-03-21T08:59:24.282534Z",
     "shell.execute_reply": "2022-03-21T08:59:24.280537Z",
     "shell.execute_reply.started": "2022-03-21T08:58:50.994344Z"
    },
    "tags": []
   },
   "outputs": [
    {
     "name": "stdout",
     "output_type": "stream",
     "text": [
      "Database ausstage exists!\n",
      "Database 'ausstage' is dropped!\n"
     ]
    }
   ],
   "source": [
    "adb_manip.DropDB(\n",
    "    dbUserName=db_user, dbUserPassword=user_pw, databaseForDeletion=\"ausstage\",\n",
    ")"
   ]
  },
  {
   "cell_type": "markdown",
   "id": "5b3204c0-c71d-4963-aba2-7d847fe2cab8",
   "metadata": {},
   "source": [
    "### Restore Databse"
   ]
  },
  {
   "cell_type": "code",
   "execution_count": 6,
   "id": "b7340eb5-1d4e-4e64-b144-35923cb5e6c7",
   "metadata": {
    "execution": {
     "iopub.execute_input": "2022-03-21T08:59:24.287521Z",
     "iopub.status.busy": "2022-03-21T08:59:24.285527Z",
     "iopub.status.idle": "2022-03-21T09:03:16.736262Z",
     "shell.execute_reply": "2022-03-21T09:03:16.734043Z",
     "shell.execute_reply.started": "2022-03-21T08:59:24.287521Z"
    },
    "tags": []
   },
   "outputs": [
    {
     "name": "stdout",
     "output_type": "stream",
     "text": [
      "The Databse is restored!\n"
     ]
    }
   ],
   "source": [
    "cmdline = (\n",
    "    f'mysql --user={db_user} -p{user_pw} -f < \"{unzip_fpath}\" > \"{restore_fpath}\" 2>&1'\n",
    ")\n",
    "rc = run(cmdline, cwd=mysql_path, shell=True)\n",
    "if rc.returncode == 0:\n",
    "    print(\"The Databse is restored!\")\n",
    "else:\n",
    "    print(f\"Sorry the database is not restored. Please check {restore_fpath}\")\n",
    "    print(rc.stderr)"
   ]
  },
  {
   "cell_type": "markdown",
   "id": "1e39a7db-58b9-4a08-b20e-790665de6833",
   "metadata": {},
   "source": [
    "## Create Table(s) and Views for Transformation"
   ]
  },
  {
   "cell_type": "markdown",
   "id": "4043d092-b3af-4511-8b8f-55142cc5e934",
   "metadata": {},
   "source": [
    "### Create Table(s) (for unification)\n",
    "\n",
    "* Contributor(Biography) Unification\n",
    "\n",
    "1. \"Is related to\" is ambiguous, it may refer to many different relations.<br>\n",
    "`ausstage_bio[ausstage_bio.contributorid.isin(['236764', '479206'])]`<br>\n",
    "Answer: The official definition: \"Related to another Contributor through extended family\" [Data Entry Manual P31](https://www.ausstage.edu.au/opencms/export/system/modules/au.edu.flinders.ausstage.learn/pages/learn/contribute/manuals/AusStage_Data_Entry_Manual_2021.pdf)<br>\n",
    "Answer: The \"is relative to\" in organisation relationship could refer to: A is related to B through extended relations. [e.g. Data Entry Manual P34](https://www.ausstage.edu.au/opencms/export/system/modules/au.edu.flinders.ausstage.learn/pages/learn/contribute/manuals/AusStage_Data_Entry_Manual_2021.pdf)\n",
    "\n",
    "2. For people with different names...?\n",
    "3. For people with  different names and different gender ...?? ([Kween Kong](https://www.ausstage.edu.au/pages/contributor/544093)\n",
    "is also known as [Thomas Fonua](https://www.ausstage.edu.au/pages/contributor/50084)\n",
    ")"
   ]
  },
  {
   "cell_type": "code",
   "execution_count": null,
   "id": "cb2e2538-d883-40a1-ab74-19b82f3f9b5d",
   "metadata": {
    "tags": []
   },
   "outputs": [],
   "source": [
    "adb_manip.ExecuteSQLScript(\n",
    "    dbUserName=db_user,\n",
    "    dbUserPassword=user_pw,\n",
    "    db_name=\"ausstage\",\n",
    "    execute_script_fpath=os.path.join(\n",
    "        codefolder, \"ausstage\", \"CreateTable_EventProductID.sql\"\n",
    "    ),\n",
    ")"
   ]
  },
  {
   "cell_type": "code",
   "execution_count": null,
   "id": "28823d8f-7f28-408d-91e1-181d08eedf19",
   "metadata": {
    "execution": {
     "iopub.status.busy": "2023-03-21T08:17:36.989800Z",
     "iopub.status.idle": "2023-03-21T08:17:36.990796Z",
     "shell.execute_reply": "2023-03-21T08:17:36.990796Z",
     "shell.execute_reply.started": "2023-03-21T08:17:36.990796Z"
    },
    "tags": []
   },
   "outputs": [],
   "source": [
    "adb_manip.ExecuteSQLScript(\n",
    "    dbUserName=db_user,\n",
    "    dbUserPassword=user_pw,\n",
    "    db_name=\"ausstage\",\n",
    "    execute_script_fpath=os.path.join(\n",
    "        codefolder, \"ausstage\", \"CreateTable_UnfTables.sql\"\n",
    "    ),\n",
    ")"
   ]
  },
  {
   "cell_type": "code",
   "execution_count": 18,
   "id": "87f5606e-5b9e-421d-a0d7-141758ffe943",
   "metadata": {
    "execution": {
     "iopub.execute_input": "2022-09-20T23:11:01.389826Z",
     "iopub.status.busy": "2022-09-20T23:11:01.388834Z",
     "iopub.status.idle": "2022-09-20T23:11:19.547276Z",
     "shell.execute_reply": "2022-09-20T23:11:19.546243Z",
     "shell.execute_reply.started": "2022-09-20T23:11:01.389826Z"
    },
    "tags": []
   },
   "outputs": [
    {
     "name": "stdout",
     "output_type": "stream",
     "text": [
      "contributorid_unf_alsokwn is filled into table acde_cont_unf_alsokwn.\n",
      "organisationid_unf_alsokwn is filled into table acde_org_unf_alsokwn.\n",
      "venueid_unf_alsokwn is filled into table acde_venue_unf_alsokwn.\n"
     ]
    }
   ],
   "source": [
    "ori_tables = [\"contributor\", \"organisation\", \"venue\"]\n",
    "alsokwn_queries = [\"\"] * len(ori_tables)\n",
    "with open(os.path.join(codefolder, \"ausstage\", \"Extract_AlsoKwnRelations.sql\")) as f:\n",
    "    for query in f.read().strip().split(\";\"):\n",
    "        if \"CONTRIBUTORID\" in query:\n",
    "            alsokwn_queries[0] = query + \";\"\n",
    "        elif \"ORGANISATIONID\" in query:\n",
    "            alsokwn_queries[1] = query + \";\"\n",
    "        elif \"VENUEID\" in query:\n",
    "            alsokwn_queries[2] = query + \";\"\n",
    "unf_tables = [\"acde_cont_unf_alsokwn\", \"acde_org_unf_alsokwn\", \"acde_venue_unf_alsokwn\"]\n",
    "\n",
    "for ori_table, alsokwn_query, unf_table in zip(ori_tables, alsokwn_queries, unf_tables):\n",
    "    joining_key = f\"{ori_table.upper()}ID\"\n",
    "    serial_attr = f\"{joining_key.lower()}_unf_alsokwn\"\n",
    "    source_attr = joining_key\n",
    "    target_attr = \"CHILDID\"\n",
    "\n",
    "    adb_manip.ausstage_Create_UnfTable(\n",
    "        ori_table=ori_table,\n",
    "        alsokwn_query=alsokwn_query,\n",
    "        unf_table=unf_table,\n",
    "        joining_key=joining_key,\n",
    "        serial_attr=serial_attr,\n",
    "        source_attr=source_attr,\n",
    "        target_attr=target_attr,\n",
    "        db_con=adb_manip.CreateMySQLEngine(),\n",
    "        chunksize=10000,\n",
    "    )"
   ]
  },
  {
   "cell_type": "markdown",
   "id": "3acd4c66-f09d-4152-b79f-031b5228fe58",
   "metadata": {},
   "source": [
    "### Create Views"
   ]
  },
  {
   "cell_type": "code",
   "execution_count": 20,
   "id": "f6605fbc-3909-4232-a645-6c01bcb08497",
   "metadata": {
    "execution": {
     "iopub.execute_input": "2023-03-31T14:09:12.137178Z",
     "iopub.status.busy": "2023-03-31T14:09:12.136179Z",
     "iopub.status.idle": "2023-03-31T14:09:12.161431Z",
     "shell.execute_reply": "2023-03-31T14:09:12.159124Z",
     "shell.execute_reply.started": "2023-03-31T14:09:12.137178Z"
    },
    "tags": []
   },
   "outputs": [],
   "source": [
    "ausstage_codefolder = os.path.join(codefolder, \"ausstage\")\n",
    "createview_fpath = os.path.join(ausstage_codefolder, \"CreateViews.sql\")\n",
    "\n",
    "exe_files = []\n",
    "for r, dirs, files in os.walk(ausstage_codefolder):\n",
    "    for file in files:\n",
    "        if file.startswith(\"CreateView_\") and \"checkpoint\" not in file and \"archive\" not in file:\n",
    "            exe_files.append(file)\n",
    "\n",
    "# as the other views use acde_event view, create it first\n",
    "exe_files = [f for f in exe_files if 'Event' in f] + [f for f in exe_files if 'Event' not in f]\n",
    "with open(createview_fpath, \"w\") as f_writer:\n",
    "    for exe_file in exe_files:\n",
    "        with open(os.path.join(ausstage_codefolder, exe_file)) as f_reader:\n",
    "            f_writer.write(f_reader.read())\n",
    "            f_writer.write(\"\\n\")"
   ]
  },
  {
   "cell_type": "code",
   "execution_count": 21,
   "id": "01d1f7be-546a-46da-bf30-85864707f258",
   "metadata": {
    "execution": {
     "iopub.execute_input": "2023-03-31T14:09:12.392624Z",
     "iopub.status.busy": "2023-03-31T14:09:12.390658Z",
     "iopub.status.idle": "2023-03-31T14:09:14.537811Z",
     "shell.execute_reply": "2023-03-31T14:09:14.536813Z",
     "shell.execute_reply.started": "2023-03-31T14:09:12.392624Z"
    },
    "tags": []
   },
   "outputs": [
    {
     "name": "stdout",
     "output_type": "stream",
     "text": [
      "C:\\ProjectCollections\\Programs\\Australia_Cultural_Data_Engine\\codes\\ausstage\\CreateViews.sql is executed!\n"
     ]
    }
   ],
   "source": [
    "createview_fpath = os.path.join(ausstage_codefolder, \"CreateViews.sql\")\n",
    "\n",
    "adb_manip.ExecuteSQLScript(\n",
    "    dbUserName=db_user,\n",
    "    dbUserPassword=user_pw,\n",
    "    db_name=\"ausstage\",\n",
    "    execute_script_fpath=createview_fpath,\n",
    ")"
   ]
  },
  {
   "cell_type": "markdown",
   "id": "22c03a4b-203c-4514-ae40-01487e042b2b",
   "metadata": {},
   "source": [
    "### Explore the Name in the Views"
   ]
  },
  {
   "cell_type": "code",
   "execution_count": 7,
   "id": "b3069d66-8065-4cd2-a91f-510b4882ed08",
   "metadata": {
    "execution": {
     "iopub.execute_input": "2022-11-29T13:46:49.592431Z",
     "iopub.status.busy": "2022-11-29T13:46:49.591438Z",
     "iopub.status.idle": "2022-11-29T13:46:49.607392Z",
     "shell.execute_reply": "2022-11-29T13:46:49.606395Z",
     "shell.execute_reply.started": "2022-11-29T13:46:49.592431Z"
    },
    "tags": []
   },
   "outputs": [],
   "source": [
    "ausstage_db = adb_manip.CreateMySQLEngine()\n",
    "\n",
    "from sqlalchemy import inspect\n",
    "\n",
    "ausstage_inspector = inspect(ausstage_db)"
   ]
  },
  {
   "cell_type": "code",
   "execution_count": null,
   "id": "d45a1d58-03b8-4dff-a64f-d7a6d7138007",
   "metadata": {
    "scrolled": true,
    "tags": []
   },
   "outputs": [],
   "source": [
    "for v_name in ausstage_inspector.get_view_names():\n",
    "    if '_full_' in v_name or \"network\" in v_name:\n",
    "        print(v_name)\n",
    "        for col_name in ausstage_inspector.get_columns(v_name):\n",
    "            print(\"\\t\", col_name.get('name'))"
   ]
  }
 ],
 "metadata": {
  "kernelspec": {
   "display_name": "ACD_Engine",
   "language": "python",
   "name": "acd_engine"
  },
  "language_info": {
   "codemirror_mode": {
    "name": "ipython",
    "version": 3
   },
   "file_extension": ".py",
   "mimetype": "text/x-python",
   "name": "python",
   "nbconvert_exporter": "python",
   "pygments_lexer": "ipython3",
   "version": "3.9.13"
  }
 },
 "nbformat": 4,
 "nbformat_minor": 5
}
