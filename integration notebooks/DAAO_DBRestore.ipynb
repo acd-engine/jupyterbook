{
 "cells": [
  {
   "cell_type": "markdown",
   "id": "a2b446c2-93d3-4390-87ee-a6177a0ee8b9",
   "metadata": {},
   "source": [
    "# [DAAO MongoDB](https://cloudstor.aarnet.edu.au/plus/s/SAZARhWR6QAMhIr) Restore\n",
    "\n",
    "The DAAO database was dumped on 2021-08-17.\n",
    "\n",
    "```\n",
    "cd C:\\Program Files\\MongoDB\\Tools\\100\\bin\n",
    "\n",
    "mongorestore.exe -d daao3 D:\\Program_Data\\Australia_Cultural_Data_Engine_Data\\design_art_australia_online\\data\\daao3 \n",
    "```"
   ]
  },
  {
   "cell_type": "code",
   "execution_count": 1,
   "id": "bf68204a-33a2-4955-a2e4-aa398d399a13",
   "metadata": {
    "execution": {
     "iopub.execute_input": "2023-03-31T11:02:25.338559Z",
     "iopub.status.busy": "2023-03-31T11:02:25.336564Z",
     "iopub.status.idle": "2023-03-31T11:02:25.373985Z",
     "shell.execute_reply": "2023-03-31T11:02:25.371989Z",
     "shell.execute_reply.started": "2023-03-31T11:02:25.337561Z"
    },
    "tags": []
   },
   "outputs": [],
   "source": [
    "import subprocess\n",
    "\n",
    "# Set MongoDB Location\n",
    "mdb_addr = \"C:\\\\Program Files\\\\MongoDB\\\\Tools\\\\100\\\\bin\"\n",
    "daao_loc = \"D:\\Program_Data\\Australia_Cultural_Data_Engine_Data\\design_art_australia_online\\data\\daao3\"\n",
    "db_restore_name = \"daao3\""
   ]
  },
  {
   "cell_type": "code",
   "execution_count": 2,
   "id": "1687b407-aa34-4c4c-b60c-7ff5ba9bb6ee",
   "metadata": {
    "execution": {
     "iopub.execute_input": "2023-03-31T11:02:26.435212Z",
     "iopub.status.busy": "2023-03-31T11:02:26.434217Z",
     "iopub.status.idle": "2023-03-31T11:02:26.520985Z",
     "shell.execute_reply": "2023-03-31T11:02:26.519987Z",
     "shell.execute_reply.started": "2023-03-31T11:02:26.435212Z"
    },
    "tags": []
   },
   "outputs": [
    {
     "data": {
      "text/plain": [
       "CompletedProcess(args='mongorestore.exe -d \"daao3\" D:\\\\Program_Data\\\\Australia_Cultural_Data_Engine_Data\\\\design_art_australia_online\\\\data\\\\daao3', returncode=1)"
      ]
     },
     "execution_count": 2,
     "metadata": {},
     "output_type": "execute_result"
    }
   ],
   "source": [
    "#####\n",
    "# Execute command\n",
    "#####\n",
    "# Change directory\n",
    "subprocess.run(f'cd \"{mdb_addr}\"', shell=True)\n",
    "# Restore DAAO database\n",
    "subprocess.run(f'mongorestore.exe -d \"{db_restore_name}\" {daao_loc}', shell=True)"
   ]
  },
  {
   "cell_type": "code",
   "execution_count": null,
   "id": "fd24235b-433d-435d-bbb9-62595a8eb016",
   "metadata": {},
   "outputs": [],
   "source": []
  }
 ],
 "metadata": {
  "kernelspec": {
   "display_name": "ACD_Engine",
   "language": "python",
   "name": "acd_engine"
  },
  "language_info": {
   "codemirror_mode": {
    "name": "ipython",
    "version": 3
   },
   "file_extension": ".py",
   "mimetype": "text/x-python",
   "name": "python",
   "nbconvert_exporter": "python",
   "pygments_lexer": "ipython3",
   "version": "3.9.13"
  }
 },
 "nbformat": 4,
 "nbformat_minor": 5
}
