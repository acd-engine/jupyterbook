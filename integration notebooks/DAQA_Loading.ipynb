{
 "cells": [
  {
   "cell_type": "markdown",
   "id": "6573b8c2-3387-496d-8ed5-9f44512bb939",
   "metadata": {
    "id": "hFH8rVJRRoS6",
    "tags": []
   },
   "source": [
    "# [Digital Archive of Queensland Architecture](https://qldarch.net/) Data Loading"
   ]
  },
  {
   "cell_type": "markdown",
   "id": "528dab34-b75b-40a5-87db-a15d92b23381",
   "metadata": {
    "id": "hFH8rVJRRoS6",
    "tags": []
   },
   "source": [
    "## 0. Setting"
   ]
  },
  {
   "cell_type": "code",
   "execution_count": 1,
   "id": "e4891978-fcb6-4311-ba24-422872621dcd",
   "metadata": {
    "execution": {
     "iopub.execute_input": "2023-07-06T07:43:02.076176Z",
     "iopub.status.busy": "2023-07-06T07:43:02.075169Z",
     "iopub.status.idle": "2023-07-06T07:43:02.129532Z",
     "shell.execute_reply": "2023-07-06T07:43:02.127548Z",
     "shell.execute_reply.started": "2023-07-06T07:43:02.076176Z"
    },
    "jupyter": {
     "source_hidden": true
    },
    "tags": []
   },
   "outputs": [],
   "source": [
    "import os\n",
    "import pprint\n",
    "from collections import defaultdict\n",
    "\n",
    "from tqdm import tqdm\n",
    "\n",
    "pp = pprint.PrettyPrinter(indent=2)"
   ]
  },
  {
   "cell_type": "code",
   "execution_count": 2,
   "id": "5da1509d-8b94-47d4-bbbe-a7c67681e58c",
   "metadata": {
    "execution": {
     "iopub.execute_input": "2023-07-06T07:43:02.133523Z",
     "iopub.status.busy": "2023-07-06T07:43:02.133523Z",
     "iopub.status.idle": "2023-07-06T07:43:02.990819Z",
     "shell.execute_reply": "2023-07-06T07:43:02.989402Z",
     "shell.execute_reply.started": "2023-07-06T07:43:02.133523Z"
    },
    "jupyter": {
     "source_hidden": true
    },
    "tags": []
   },
   "outputs": [],
   "source": [
    "import sys\n",
    "\n",
    "codefolder = \"C:/ProjectCollections/Programs/Australia_Cultural_Data_Engine/codes\"\n",
    "\n",
    "data_folder = \"D:/Program_Data/Australia_Cultural_Data_Engine_Data/digital_archive_of_queensland_architecture\"\n",
    "\n",
    "sys.path.append(codefolder)\n",
    "from acde import MongoDBManipulation as acde_manip\n",
    "from daqa import DataManipulation as daqa_manip\n",
    "from general import GeneralFunctions as gen_gf\n",
    "from general import JsonProcessing as gen_jp\n",
    "from general import MongoDBManipulation as gen_manip"
   ]
  },
  {
   "cell_type": "markdown",
   "id": "66ef4f71-bfc1-41ff-ae60-f7e0369a7b13",
   "metadata": {
    "tags": []
   },
   "source": [
    "## 1. DAQA MongoDB Connection"
   ]
  },
  {
   "cell_type": "code",
   "execution_count": 3,
   "id": "495cc229-d89e-4735-abed-abc3e4e9acbf",
   "metadata": {
    "execution": {
     "iopub.execute_input": "2023-07-06T07:43:02.993799Z",
     "iopub.status.busy": "2023-07-06T07:43:02.993799Z",
     "iopub.status.idle": "2023-07-06T07:43:03.036529Z",
     "shell.execute_reply": "2023-07-06T07:43:03.035536Z",
     "shell.execute_reply.started": "2023-07-06T07:43:02.993799Z"
    },
    "jupyter": {
     "source_hidden": true
    },
    "tags": []
   },
   "outputs": [],
   "source": [
    "acde_opr = acde_manip.ACDE_Manipulation()\n",
    "daqa_etl = daqa_manip.DAQA_DbManipulation()"
   ]
  },
  {
   "cell_type": "markdown",
   "id": "ef1a0027-c1fb-4ce0-819a-f27cd61d68a0",
   "metadata": {
    "execution": {
     "iopub.execute_input": "2023-02-21T22:36:38.197654Z",
     "iopub.status.busy": "2023-02-21T22:36:38.196657Z",
     "iopub.status.idle": "2023-02-21T22:36:38.218598Z",
     "shell.execute_reply": "2023-02-21T22:36:38.217600Z",
     "shell.execute_reply.started": "2023-02-21T22:36:38.197654Z"
    },
    "tags": []
   },
   "source": [
    "## 1. Transfering & Loading Original Records"
   ]
  },
  {
   "cell_type": "markdown",
   "id": "38dad53a-7df8-41e1-a881-d1b394f98aba",
   "metadata": {
    "id": "hFH8rVJRRoS6",
    "tags": []
   },
   "source": [
    "### 1.1 Person"
   ]
  },
  {
   "cell_type": "code",
   "execution_count": 4,
   "id": "614fb8c6-be53-4c25-9982-699d2d497fca",
   "metadata": {
    "execution": {
     "iopub.execute_input": "2023-07-06T07:43:03.038493Z",
     "iopub.status.busy": "2023-07-06T07:43:03.037495Z",
     "iopub.status.idle": "2023-07-06T07:43:03.207490Z",
     "shell.execute_reply": "2023-07-06T07:43:03.206487Z",
     "shell.execute_reply.started": "2023-07-06T07:43:03.038493Z"
    },
    "tags": []
   },
   "outputs": [],
   "source": [
    "loading_obj = \"person\"\n",
    "\n",
    "person_firstL_attrs = gen_manip.mdb_get_firstL_fields(daqa_etl.daqa_db[loading_obj])\n",
    "person_firstL_attrs = list(set(person_firstL_attrs) - set([\"inserted_ts_acde\"]))\n",
    "export_firstL_attrs = person_firstL_attrs\n",
    "\n",
    "person_Group_interviews = {\n",
    "    attr: {\"$first\": f\"${attr}\"}\n",
    "    for attr in person_firstL_attrs\n",
    "    if attr not in [\"interviews\"]\n",
    "}\n",
    "person_Group_interviews.update(\n",
    "    {\"_id\": \"$_id\", \"interviews\": {\"$addToSet\": {\"$first\": \"$interviews\"}},}\n",
    ")"
   ]
  },
  {
   "cell_type": "code",
   "execution_count": 5,
   "id": "befda631-bf4f-4ad9-a3ca-b3581f2012e6",
   "metadata": {
    "execution": {
     "iopub.execute_input": "2023-07-06T07:43:03.208487Z",
     "iopub.status.busy": "2023-07-06T07:43:03.208487Z",
     "iopub.status.idle": "2023-07-06T07:43:04.818107Z",
     "shell.execute_reply": "2023-07-06T07:43:04.817112Z",
     "shell.execute_reply.started": "2023-07-06T07:43:03.208487Z"
    },
    "jupyter": {
     "source_hidden": true
    },
    "scrolled": true,
    "tags": []
   },
   "outputs": [
    {
     "name": "stderr",
     "output_type": "stream",
     "text": [
      "DAQA_person_loading: 100%|████████████████████████████████████████████████████████| 1103/1103 [00:01<00:00, 921.24it/s]\n"
     ]
    }
   ],
   "source": [
    "loading_dbname = daqa_etl.class_type_mapping[loading_obj]\n",
    "daqa_etl.acde_db[loading_dbname].delete_many({\"data_source\": \"DAQA\"})\n",
    "\n",
    "with tqdm(\n",
    "    total=daqa_etl.daqa_db[loading_obj].count_documents({}),\n",
    "    desc=f\"DAQA_{loading_obj}_loading\",\n",
    ") as pbar:\n",
    "    for obj_record in daqa_etl.daqa_db[loading_obj].aggregate(\n",
    "        [\n",
    "            {\"$project\": {attr: 1 for attr in export_firstL_attrs}},\n",
    "            {\"$unwind\": {\"path\": \"$interviews\", \"preserveNullAndEmptyArrays\": True}},\n",
    "            {\n",
    "                \"$lookup\": {\n",
    "                    \"from\": \"interview\",\n",
    "                    \"localField\": \"interviews\",\n",
    "                    \"foreignField\": \"id\",\n",
    "                    \"pipeline\": [\n",
    "                        {\n",
    "                            \"$lookup\": {\n",
    "                                \"from\": \"interview\",\n",
    "                                \"localField\": \"interview_dbref.$id\",\n",
    "                                \"foreignField\": \"_id\",\n",
    "                                \"pipeline\": [{\"$project\": {\"id\": 1, \"label\": 1,},},],\n",
    "                                \"as\": \"interview\",\n",
    "                            },\n",
    "                        },\n",
    "                        {\n",
    "                            \"$project\": {\n",
    "                                \"_id\": 1,\n",
    "                                \"id\": 1,\n",
    "                                \"type\": 1,\n",
    "                                \"label\": 1,\n",
    "                                \"ori_url\": 1,\n",
    "                            },\n",
    "                        },\n",
    "                    ],\n",
    "                    \"as\": \"interviews\",\n",
    "                }\n",
    "            },\n",
    "            {\"$group\": person_Group_interviews},\n",
    "            {\n",
    "                \"$project\": {\n",
    "                    \"data_source\": \"DAQA\",\n",
    "                    \"ori_url\": 1,\n",
    "                    \"ori_id\": \"$id\",\n",
    "                    \"_id\": 0,\n",
    "                    \"ori_dbid\": \"$_id\",\n",
    "                    \"date_created\": \"$created\",\n",
    "                    \"pubts\": 1,\n",
    "                    \"contributors\": [\"$owner\"],\n",
    "                    \"record_status\": {\n",
    "                        \"$cond\": {\n",
    "                            \"if\": {\"$eq\": [\"$is_published\", True]},\n",
    "                            \"then\": \"published\",\n",
    "                            \"else\": \"unpublished\",\n",
    "                        }\n",
    "                    },\n",
    "                    \"version\": 1,\n",
    "                    \"alternative_names\": {\n",
    "                        \"$cond\": {\n",
    "                            \"if\": {\n",
    "                                \"$and\": [\n",
    "                                    {\"$ne\": [\"$label\", \"$preflabel\"]},\n",
    "                                    {\"$ne\": [\"$preflabel\", None]},\n",
    "                                    {\"$ne\": [\"$preflabel\", \"\"]},\n",
    "                                ]\n",
    "                            },\n",
    "                            \"then\": [{\"display_name\": \"$preflabel\"}],\n",
    "                            \"else\": [],\n",
    "                        }\n",
    "                    },\n",
    "                    \"primary_name\": {\n",
    "                        \"given_names\": \"$firstname\",\n",
    "                        \"family_name\": \"$lastname\",\n",
    "                    },\n",
    "                    \"display_name\": \"$label\",\n",
    "                    \"_class_ori\": \"$type\",\n",
    "                    \"_class\": \"person\",\n",
    "                    \"summary\": 1,\n",
    "                    \"gender\": 1,\n",
    "                    \"birth\": 1,\n",
    "                    \"death\": 1,\n",
    "                    \"is_architect\": \"$architect\",\n",
    "                    \"is_practiceInQueensland\": \"$practicedinqueensland\",\n",
    "                    \"longterm_roles\": [\n",
    "                        {\n",
    "                            \"broad_role\": {\n",
    "                                \"$cond\": {\n",
    "                                    \"if\": {\"$eq\": [\"$architect\", True]},\n",
    "                                    \"then\": \"architect\",\n",
    "                                    \"else\": \"non-architect\",\n",
    "                                }\n",
    "                            }\n",
    "                        }\n",
    "                    ],\n",
    "                    \"education_trainings\": 1,\n",
    "                    \"career\": 1,\n",
    "                    # \"relationships\": 1,\n",
    "                    # \"media\": 1,\n",
    "                    # \"interviews\": 1,\n",
    "                    # \"associatedMedia\": 1,\n",
    "                    \"note\": 1,\n",
    "                    \"ori_url_data\": 1,\n",
    "                    \"influence_on_QLD_architecture\": 1,\n",
    "                }\n",
    "            },\n",
    "        ]\n",
    "    ):\n",
    "        # remove all attributes having empty values\n",
    "        obj_record = gen_jp.clean_empty_values(obj_record)\n",
    "        daqa_etl.acde_db[loading_dbname].insert_one(obj_record)\n",
    "        pbar.update(1)"
   ]
  },
  {
   "cell_type": "markdown",
   "id": "f3212772-8bdf-4d8e-b3d7-1d83db3bdfcb",
   "metadata": {
    "id": "hFH8rVJRRoS6",
    "tags": []
   },
   "source": [
    "### 1.2 Work (structure)"
   ]
  },
  {
   "cell_type": "code",
   "execution_count": 6,
   "id": "236bae5a-3a36-4f8e-b155-b3a6704aca3a",
   "metadata": {
    "execution": {
     "iopub.execute_input": "2023-07-06T07:43:04.820071Z",
     "iopub.status.busy": "2023-07-06T07:43:04.820071Z",
     "iopub.status.idle": "2023-07-06T07:43:05.047994Z",
     "shell.execute_reply": "2023-07-06T07:43:05.047048Z",
     "shell.execute_reply.started": "2023-07-06T07:43:04.820071Z"
    },
    "jupyter": {
     "source_hidden": true
    },
    "tags": []
   },
   "outputs": [],
   "source": [
    "loading_obj = \"structure\"\n",
    "\n",
    "export_firstL_attrs = gen_manip.mdb_get_firstL_fields(daqa_etl.daqa_db[loading_obj])\n",
    "export_firstL_attrs = list(set(export_firstL_attrs) - set([\"inserted_ts_acde\"]))"
   ]
  },
  {
   "cell_type": "code",
   "execution_count": 7,
   "id": "3ca74332-a1eb-4d9a-aec4-1b79c9f03dab",
   "metadata": {
    "execution": {
     "iopub.execute_input": "2023-07-06T07:43:05.049987Z",
     "iopub.status.busy": "2023-07-06T07:43:05.049987Z",
     "iopub.status.idle": "2023-07-06T07:43:07.405059Z",
     "shell.execute_reply": "2023-07-06T07:43:07.404076Z",
     "shell.execute_reply.started": "2023-07-06T07:43:05.049987Z"
    },
    "jupyter": {
     "source_hidden": true
    },
    "scrolled": true,
    "tags": []
   },
   "outputs": [
    {
     "name": "stderr",
     "output_type": "stream",
     "text": [
      "DAQA_structure_loading: 100%|████████████████████████████████████████████████████| 2203/2203 [00:01<00:00, 1402.70it/s]\n"
     ]
    }
   ],
   "source": [
    "loading_dbname = daqa_etl.class_type_mapping[loading_obj]\n",
    "daqa_etl.acde_db[loading_dbname].delete_many({\"data_source\": \"DAQA\"})\n",
    "\n",
    "with tqdm(\n",
    "    total=daqa_etl.daqa_db[loading_obj].count_documents({}),\n",
    "    desc=f\"DAQA_{loading_obj}_loading\",\n",
    ") as pbar:\n",
    "    for obj_record in daqa_etl.daqa_db[loading_obj].aggregate(\n",
    "        [\n",
    "            {\"$project\": {attr: 1 for attr in export_firstL_attrs}},\n",
    "            {\n",
    "                \"$project\": {\n",
    "                    \"data_source\": \"DAQA\",\n",
    "                    \"ori_url\": 1,\n",
    "                    \"ori_id\": \"$id\",\n",
    "                    \"_id\": 0,\n",
    "                    \"ori_dbid\": \"$_id\",\n",
    "                    \"date_created\": \"$created\",\n",
    "                    \"pubts\": 1,\n",
    "                    \"contributors\": [\"$owner\"],\n",
    "                    \"record_status\": {\n",
    "                        \"$cond\": {\n",
    "                            \"if\": {\"$eq\": [\"$is_published\", True]},\n",
    "                            \"then\": \"published\",\n",
    "                            \"else\": \"unpublished\",\n",
    "                        }\n",
    "                    },\n",
    "                    \"version\": 1,\n",
    "                    \"title\": \"$label\",\n",
    "                    \"_class_ori\": \"$type\",\n",
    "                    \"_class\": \"work\",\n",
    "                    \"description\": \"$summary\",\n",
    "                    \"coverage_range\": {\n",
    "                        \"place\": {\n",
    "                            \"geo_coord\": {\n",
    "                                \"latitude\": \"$latitude\",\n",
    "                                \"longitude\": \"$longitude\",\n",
    "                            },\n",
    "                            \"display_name\": \"$label\",\n",
    "                            \"address\": {\n",
    "                                \"country\": \"$coord_loc_details.address.country\",\n",
    "                                \"state\": \"$coord_loc_details.address.state\",\n",
    "                                \"city\": \"$coord_loc_details.address.city\",\n",
    "                                \"suburb\": \"$coord_loc_details.address.suburb\",\n",
    "                                \"postcode\": \"$coord_loc_details.address.postcode\",\n",
    "                                \"ori_address\": \"$location\",\n",
    "                            },\n",
    "                        },\n",
    "                        \"date_range\": {\"date_end\": \"$completion\", \"date_start\": None,},\n",
    "                    },\n",
    "                    \"is_australian\": \"$australian\",\n",
    "                    \"is_demolished\": \"$demolished\",\n",
    "                    # \"relationships\": 1,\n",
    "                    # \"media\": 1,\n",
    "                    # \"associatedMedia\": 1,\n",
    "                    \"note\": 1,\n",
    "                    \"ori_url_data\": 1,\n",
    "                    \"coord_loc_details\": 1,\n",
    "                    \"completionpd\": 1,\n",
    "                    \"typology\": 1,\n",
    "                    \"typologies\": 1,\n",
    "                }\n",
    "            },\n",
    "        ]\n",
    "    ):\n",
    "        # remove all attributes having empty values\n",
    "        obj_record = gen_jp.clean_empty_values(obj_record)\n",
    "        daqa_etl.acde_db[loading_dbname].insert_one(obj_record)\n",
    "        pbar.update(1)"
   ]
  },
  {
   "cell_type": "markdown",
   "id": "f7aed14a-2886-423e-bc2b-ddb11c5d2ac2",
   "metadata": {
    "id": "hFH8rVJRRoS6",
    "tags": []
   },
   "source": [
    "### 1.3 Event"
   ]
  },
  {
   "cell_type": "code",
   "execution_count": 8,
   "id": "06c21b4f-9c6b-4b0d-ae7f-18185f3f1428",
   "metadata": {
    "execution": {
     "iopub.execute_input": "2023-07-06T07:43:07.408052Z",
     "iopub.status.busy": "2023-07-06T07:43:07.407054Z",
     "iopub.status.idle": "2023-07-06T07:43:07.467883Z",
     "shell.execute_reply": "2023-07-06T07:43:07.466916Z",
     "shell.execute_reply.started": "2023-07-06T07:43:07.408052Z"
    },
    "jupyter": {
     "source_hidden": true
    },
    "tags": []
   },
   "outputs": [],
   "source": [
    "loading_obj = \"event\"\n",
    "\n",
    "export_firstL_attrs = gen_manip.mdb_get_firstL_fields(daqa_etl.daqa_db[loading_obj])\n",
    "export_firstL_attrs = list(set(export_firstL_attrs) - set([\"inserted_ts_acde\"]))"
   ]
  },
  {
   "cell_type": "code",
   "execution_count": 9,
   "id": "9767742f-9a94-4414-a6f2-4e4c447b538b",
   "metadata": {
    "execution": {
     "iopub.execute_input": "2023-07-06T07:43:07.469875Z",
     "iopub.status.busy": "2023-07-06T07:43:07.468908Z",
     "iopub.status.idle": "2023-07-06T07:43:27.192264Z",
     "shell.execute_reply": "2023-07-06T07:43:27.191265Z",
     "shell.execute_reply.started": "2023-07-06T07:43:07.469875Z"
    },
    "jupyter": {
     "source_hidden": true
    },
    "scrolled": true,
    "tags": []
   },
   "outputs": [
    {
     "name": "stderr",
     "output_type": "stream",
     "text": [
      "DAQA_event_loading: 100%|███████████████████████████████████████████████████████████| 21/21 [00:00<00:00, 10395.42it/s]\n"
     ]
    }
   ],
   "source": [
    "loading_dbname = daqa_etl.class_type_mapping[loading_obj]\n",
    "daqa_etl.acde_db[loading_dbname].delete_many({\"data_source\": \"DAQA\"})\n",
    "test = []\n",
    "with tqdm(\n",
    "    total=daqa_etl.daqa_db[loading_obj].count_documents({}),\n",
    "    desc=f\"DAQA_{loading_obj}_loading\",\n",
    ") as pbar:\n",
    "    for obj_record in daqa_etl.daqa_db[loading_obj].aggregate(\n",
    "        [\n",
    "            {\"$project\": {attr: 1 for attr in export_firstL_attrs}},\n",
    "            {\n",
    "                \"$project\": {\n",
    "                    \"data_source\": \"DAQA\",\n",
    "                    \"ori_url\": 1,\n",
    "                    \"ori_id\": \"$id\",\n",
    "                    \"_id\": 0,\n",
    "                    \"ori_dbid\": \"$_id\",\n",
    "                    \"date_created\": \"$created\",\n",
    "                    \"pubts\": 1,\n",
    "                    \"contributors\": [\"$owner\"],\n",
    "                    \"record_status\": {\n",
    "                        \"$cond\": {\n",
    "                            \"if\": {\"$eq\": [\"$is_published\", True]},\n",
    "                            \"then\": \"published\",\n",
    "                            \"else\": \"unpublished\",\n",
    "                        }\n",
    "                    },\n",
    "                    \"version\": 1,\n",
    "                    \"title\": \"$label\",\n",
    "                    \"_class_ori\": \"$type\",\n",
    "                    \"_class\": loading_dbname,\n",
    "                    # \"relationships\": 1,\n",
    "                    # \"media\": 1,\n",
    "                    # \"associatedMedia\": 1,\n",
    "                    \"ori_url_data\": 1,\n",
    "                }\n",
    "            },\n",
    "        ]\n",
    "    ):\n",
    "        # remove all attributes having empty values\n",
    "        obj_record = gen_jp.clean_empty_values(obj_record)\n",
    "        # daqa_etl.acde_db[loading_dbname].insert_one(obj_record)\n",
    "        test.append(obj_record)\n",
    "        pbar.update(1)"
   ]
  },
  {
   "cell_type": "markdown",
   "id": "98640105-ba93-4371-a898-1f37cc7185bb",
   "metadata": {
    "id": "hFH8rVJRRoS6",
    "tags": []
   },
   "source": [
    "### 1.4 Recognition (award)"
   ]
  },
  {
   "cell_type": "code",
   "execution_count": 10,
   "id": "e0783360-d685-4d61-9cad-dfa3c27bbd21",
   "metadata": {
    "execution": {
     "iopub.execute_input": "2023-07-06T07:43:27.195255Z",
     "iopub.status.busy": "2023-07-06T07:43:27.194257Z",
     "iopub.status.idle": "2023-07-06T07:43:27.238174Z",
     "shell.execute_reply": "2023-07-06T07:43:27.237167Z",
     "shell.execute_reply.started": "2023-07-06T07:43:27.195255Z"
    },
    "jupyter": {
     "source_hidden": true
    },
    "tags": []
   },
   "outputs": [],
   "source": [
    "loading_obj = \"award\"\n",
    "\n",
    "export_firstL_attrs = gen_manip.mdb_get_firstL_fields(daqa_etl.daqa_db[loading_obj])\n",
    "export_firstL_attrs = list(set(export_firstL_attrs) - set([\"inserted_ts_acde\"]))"
   ]
  },
  {
   "cell_type": "code",
   "execution_count": 11,
   "id": "0c2a8eb3-2b71-4735-802d-3e158a8e5c41",
   "metadata": {
    "execution": {
     "iopub.execute_input": "2023-07-06T07:43:27.239167Z",
     "iopub.status.busy": "2023-07-06T07:43:27.239167Z",
     "iopub.status.idle": "2023-07-06T07:43:27.379977Z",
     "shell.execute_reply": "2023-07-06T07:43:27.379061Z",
     "shell.execute_reply.started": "2023-07-06T07:43:27.239167Z"
    },
    "jupyter": {
     "source_hidden": true
    },
    "tags": []
   },
   "outputs": [
    {
     "name": "stderr",
     "output_type": "stream",
     "text": [
      "DAQA_award_loading: 100%|████████████████████████████████████████████████████████████| 27/27 [00:00<00:00, 1473.64it/s]\n"
     ]
    }
   ],
   "source": [
    "loading_dbname = daqa_etl.class_type_mapping[loading_obj]\n",
    "daqa_etl.acde_db[loading_dbname].delete_many({\"data_source\": \"DAQA\"})\n",
    "\n",
    "with tqdm(\n",
    "    total=daqa_etl.daqa_db[loading_obj].count_documents({}),\n",
    "    desc=f\"DAQA_{loading_obj}_loading\",\n",
    ") as pbar:\n",
    "    for obj_record in daqa_etl.daqa_db[loading_obj].aggregate(\n",
    "        [\n",
    "            {\"$project\": {attr: 1 for attr in export_firstL_attrs}},\n",
    "            {\n",
    "                \"$project\": {\n",
    "                    \"data_source\": \"DAQA\",\n",
    "                    \"ori_url\": 1,\n",
    "                    \"ori_id\": \"$id\",\n",
    "                    \"_id\": 0,\n",
    "                    \"ori_dbid\": \"$_id\",\n",
    "                    \"date_created\": \"$created\",\n",
    "                    \"pubts\": 1,\n",
    "                    \"contributors\": [\"$owner\"],\n",
    "                    \"record_status\": {\n",
    "                        \"$cond\": {\n",
    "                            \"if\": {\"$eq\": [\"$is_published\", True]},\n",
    "                            \"then\": \"published\",\n",
    "                            \"else\": \"unpublished\",\n",
    "                        }\n",
    "                    },\n",
    "                    \"version\": 1,\n",
    "                    \"title\": \"$label\",\n",
    "                    \"_class_ori\": \"$type\",\n",
    "                    \"_class\": loading_dbname,\n",
    "                    # \"relationships\": 1,\n",
    "                    # \"media\": 1,\n",
    "                    # \"associatedMedia\": 1,\n",
    "                    \"ori_url_data\": 1,\n",
    "                }\n",
    "            },\n",
    "        ]\n",
    "    ):\n",
    "        # remove all attributes having empty values\n",
    "        obj_record = gen_jp.clean_empty_values(obj_record)\n",
    "        daqa_etl.acde_db[loading_dbname].insert_one(obj_record)\n",
    "        pbar.update(1)"
   ]
  },
  {
   "cell_type": "markdown",
   "id": "f27352ed-429c-4a3e-b77f-dcff9e29f2c5",
   "metadata": {
    "id": "hFH8rVJRRoS6",
    "tags": []
   },
   "source": [
    "### 1.5 Place"
   ]
  },
  {
   "cell_type": "code",
   "execution_count": 12,
   "id": "35f8fcab-f1a3-4ffc-bdeb-1159495f83b8",
   "metadata": {
    "execution": {
     "iopub.execute_input": "2023-07-06T07:43:27.384777Z",
     "iopub.status.busy": "2023-07-06T07:43:27.383780Z",
     "iopub.status.idle": "2023-07-06T07:43:27.456506Z",
     "shell.execute_reply": "2023-07-06T07:43:27.455504Z",
     "shell.execute_reply.started": "2023-07-06T07:43:27.383780Z"
    },
    "jupyter": {
     "source_hidden": true
    },
    "tags": []
   },
   "outputs": [],
   "source": [
    "loading_obj = \"place\"\n",
    "\n",
    "export_firstL_attrs = gen_manip.mdb_get_firstL_fields(daqa_etl.daqa_db[loading_obj])\n",
    "export_firstL_attrs = list(set(export_firstL_attrs) - set([\"inserted_ts_acde\"]))"
   ]
  },
  {
   "cell_type": "code",
   "execution_count": 13,
   "id": "cbb27ccd-c489-4f46-b608-724dbfb24cf5",
   "metadata": {
    "execution": {
     "iopub.execute_input": "2023-07-06T07:43:27.458500Z",
     "iopub.status.busy": "2023-07-06T07:43:27.457503Z",
     "iopub.status.idle": "2023-07-06T07:43:29.353886Z",
     "shell.execute_reply": "2023-07-06T07:43:29.352919Z",
     "shell.execute_reply.started": "2023-07-06T07:43:27.458500Z"
    },
    "jupyter": {
     "source_hidden": true
    },
    "tags": []
   },
   "outputs": [
    {
     "name": "stderr",
     "output_type": "stream",
     "text": [
      "DAQA_place_loading: 100%|████████████████████████████████████████████████████████| 1939/1939 [00:01<00:00, 1524.75it/s]\n"
     ]
    }
   ],
   "source": [
    "loading_dbname = daqa_etl.class_type_mapping[loading_obj]\n",
    "daqa_etl.acde_db[loading_dbname].delete_many({\"data_source\": \"DAQA\"})\n",
    "\n",
    "with tqdm(\n",
    "    total=daqa_etl.daqa_db[loading_obj].count_documents({}),\n",
    "    desc=f\"DAQA_{loading_obj}_loading\",\n",
    ") as pbar:\n",
    "    for obj_record in daqa_etl.daqa_db[loading_obj].aggregate(\n",
    "        [\n",
    "            {\"$project\": {attr: 1 for attr in export_firstL_attrs}},\n",
    "            {\n",
    "                \"$project\": {\n",
    "                    \"data_source\": \"DAQA\",\n",
    "                    \"ori_url\": 1,\n",
    "                    \"ori_id\": \"$id\",\n",
    "                    \"_id\": 0,\n",
    "                    \"ori_dbid\": \"$_id\",\n",
    "                    \"date_created\": \"$created\",\n",
    "                    \"pubts\": 1,\n",
    "                    \"contributors\": [\"$owner\"],\n",
    "                    \"record_status\": {\n",
    "                        \"$cond\": {\n",
    "                            \"if\": {\"$eq\": [\"$is_published\", True]},\n",
    "                            \"then\": \"published\",\n",
    "                            \"else\": \"unpublished\",\n",
    "                        }\n",
    "                    },\n",
    "                    \"version\": 1,\n",
    "                    \"display_name\": \"$label\",\n",
    "                    \"address\": 1,\n",
    "                    \"geo_coord\": 1,\n",
    "                    \"_class_ori\": \"$type\",\n",
    "                    \"_class\": loading_dbname,\n",
    "                    # \"relationships\": 1,\n",
    "                    # \"media\": 1,\n",
    "                    # \"associatedMedia\": 1,\n",
    "                    \"ori_url_data\": 1,\n",
    "                }\n",
    "            },\n",
    "        ]\n",
    "    ):\n",
    "        # remove all attributes having empty values\n",
    "        obj_record = gen_jp.clean_empty_values(obj_record)\n",
    "        daqa_etl.acde_db[loading_dbname].insert_one(obj_record)\n",
    "        pbar.update(1)"
   ]
  },
  {
   "cell_type": "markdown",
   "id": "a505e8a5-0f03-403b-a624-6d9040703bfd",
   "metadata": {
    "id": "hFH8rVJRRoS6",
    "tags": []
   },
   "source": [
    "### 1.6 Organization (education/government/organisation/firm)"
   ]
  },
  {
   "cell_type": "code",
   "execution_count": 14,
   "id": "db5166ab-4431-4ccb-8338-604c44af1cdb",
   "metadata": {
    "execution": {
     "iopub.execute_input": "2023-07-06T07:43:29.354907Z",
     "iopub.status.busy": "2023-07-06T07:43:29.354907Z",
     "iopub.status.idle": "2023-07-06T07:43:33.708427Z",
     "shell.execute_reply": "2023-07-06T07:43:33.706586Z",
     "shell.execute_reply.started": "2023-07-06T07:43:29.354907Z"
    },
    "jupyter": {
     "source_hidden": true
    },
    "tags": []
   },
   "outputs": [
    {
     "data": {
      "text/plain": [
       "<pymongo.results.DeleteResult at 0x213fad6bf70>"
      ]
     },
     "execution_count": 14,
     "metadata": {},
     "output_type": "execute_result"
    }
   ],
   "source": [
    "loading_dbname = daqa_etl.related_obj_mapping[\"related_organizations\"][\"acde_level\"]\n",
    "daqa_etl.acde_db[loading_dbname].delete_many({\"data_source\": \"DAQA\"})"
   ]
  },
  {
   "cell_type": "code",
   "execution_count": 15,
   "id": "db26d139-77d6-4996-a02b-4a0186c04f38",
   "metadata": {
    "execution": {
     "iopub.execute_input": "2023-07-06T07:43:33.710436Z",
     "iopub.status.busy": "2023-07-06T07:43:33.709424Z",
     "iopub.status.idle": "2023-07-06T07:43:33.925234Z",
     "shell.execute_reply": "2023-07-06T07:43:33.924265Z",
     "shell.execute_reply.started": "2023-07-06T07:43:33.710436Z"
    },
    "jupyter": {
     "source_hidden": true
    },
    "tags": []
   },
   "outputs": [
    {
     "name": "stderr",
     "output_type": "stream",
     "text": [
      "DAQA_organisation_loading: 100%|██████████████████████████████████████████████████████| 15/15 [00:00<00:00, 856.75it/s]\n",
      "DAQA_education_loading: 100%|████████████████████████████████████████████████████████| 39/39 [00:00<00:00, 1524.15it/s]\n",
      "DAQA_government_loading: 100%|█████████████████████████████████████████████████████████| 6/6 [00:00<00:00, 1206.30it/s]\n"
     ]
    }
   ],
   "source": [
    "for loading_obj in set(\n",
    "    daqa_etl.related_obj_mapping[\"related_organizations\"][\"target\"]\n",
    ") - set([\"firm\"]):\n",
    "\n",
    "    export_firstL_attrs = gen_manip.mdb_get_firstL_fields(daqa_etl.daqa_db[loading_obj])\n",
    "    export_firstL_attrs = list(set(export_firstL_attrs) - set([\"inserted_ts_acde\"]))\n",
    "\n",
    "    with tqdm(\n",
    "        total=daqa_etl.daqa_db[loading_obj].count_documents({}),\n",
    "        desc=f\"DAQA_{loading_obj}_loading\",\n",
    "    ) as pbar:\n",
    "        for obj_record in daqa_etl.daqa_db[loading_obj].aggregate(\n",
    "            [\n",
    "                {\"$project\": {attr: 1 for attr in export_firstL_attrs}},\n",
    "                {\n",
    "                    \"$project\": {\n",
    "                        \"data_source\": \"DAQA\",\n",
    "                        \"ori_url\": 1,\n",
    "                        \"ori_id\": \"$id\",\n",
    "                        \"_id\": 0,\n",
    "                        \"ori_dbid\": \"$_id\",\n",
    "                        \"date_created\": \"$created\",\n",
    "                        \"pubts\": 1,\n",
    "                        \"contributors\": [\"$owner\"],\n",
    "                        \"record_status\": {\n",
    "                            \"$cond\": {\n",
    "                                \"if\": {\"$eq\": [\"$is_published\", True]},\n",
    "                                \"then\": \"published\",\n",
    "                                \"else\": \"unpublished\",\n",
    "                            }\n",
    "                        },\n",
    "                        \"version\": 1,\n",
    "                        \"primary_name\": \"$label\",\n",
    "                        \"_class_ori\": \"$type\",\n",
    "                        \"_class\": loading_dbname,\n",
    "                        # \"relationships\": 1,\n",
    "                        # \"media\": 1,\n",
    "                        \"note\": 1,\n",
    "                        # \"associatedMedia\": 1,\n",
    "                        \"ori_url_data\": 1,\n",
    "                    }\n",
    "                },\n",
    "            ]\n",
    "        ):\n",
    "            # remove all attributes having empty values\n",
    "            obj_record = gen_jp.clean_empty_values(obj_record)\n",
    "            daqa_etl.acde_db[loading_dbname].insert_one(obj_record)\n",
    "            pbar.update(1)"
   ]
  },
  {
   "cell_type": "code",
   "execution_count": 16,
   "id": "89888aa1-1edc-439d-860c-5d5aee41608b",
   "metadata": {
    "execution": {
     "iopub.execute_input": "2023-07-06T07:43:33.928238Z",
     "iopub.status.busy": "2023-07-06T07:43:33.927248Z",
     "iopub.status.idle": "2023-07-06T07:43:34.614243Z",
     "shell.execute_reply": "2023-07-06T07:43:34.613216Z",
     "shell.execute_reply.started": "2023-07-06T07:43:33.928238Z"
    },
    "jupyter": {
     "source_hidden": true
    },
    "tags": []
   },
   "outputs": [
    {
     "name": "stderr",
     "output_type": "stream",
     "text": [
      "DAQA_firm_loading: 100%|███████████████████████████████████████████████████████████| 907/907 [00:00<00:00, 1633.01it/s]\n"
     ]
    }
   ],
   "source": [
    "loading_obj = \"firm\"\n",
    "export_firstL_attrs = gen_manip.mdb_get_firstL_fields(daqa_etl.daqa_db[loading_obj])\n",
    "export_firstL_attrs = list(set(export_firstL_attrs) - set([\"inserted_ts_acde\"]))\n",
    "\n",
    "with tqdm(\n",
    "    total=daqa_etl.daqa_db[loading_obj].count_documents({}),\n",
    "    desc=f\"DAQA_{loading_obj}_loading\",\n",
    ") as pbar:\n",
    "    for obj_record in daqa_etl.daqa_db[loading_obj].aggregate(\n",
    "        [\n",
    "            {\"$project\": {attr: 1 for attr in export_firstL_attrs}},\n",
    "            {\n",
    "                \"$project\": {\n",
    "                    \"data_source\": \"DAQA\",\n",
    "                    \"ori_url\": 1,\n",
    "                    \"ori_id\": \"$id\",\n",
    "                    \"_id\": 0,\n",
    "                    \"ori_dbid\": \"$_id\",\n",
    "                    \"date_created\": \"$created\",\n",
    "                    \"pubts\": 1,\n",
    "                    \"contributors\": [\"$owner\"],\n",
    "                    \"record_status\": {\n",
    "                        \"$cond\": {\n",
    "                            \"if\": {\"$eq\": [\"$is_published\", True]},\n",
    "                            \"then\": \"published\",\n",
    "                            \"else\": \"unpublished\",\n",
    "                        }\n",
    "                    },\n",
    "                    \"version\": 1,\n",
    "                    \"primary_name\": \"$label\",\n",
    "                    \"operation\": {\"date_start\": \"$start\", \"date_end\": \"$end\"},\n",
    "                    \"_class_ori\": \"$type\",\n",
    "                    \"_class\": loading_dbname,\n",
    "                    \"is_australian\": \"$australian\",\n",
    "                    # \"relationships\": 1,\n",
    "                    # \"media\": 1,\n",
    "                    # \"associatedMedia\": 1,\n",
    "                    \"ori_url_data\": 1,\n",
    "                }\n",
    "            },\n",
    "        ]\n",
    "    ):\n",
    "        # remove all attributes having empty values\n",
    "        obj_record = gen_jp.clean_empty_values(obj_record)\n",
    "        daqa_etl.acde_db[loading_dbname].insert_one(obj_record)\n",
    "        pbar.update(1)"
   ]
  },
  {
   "cell_type": "markdown",
   "id": "048235ed-0c32-46d8-a7ce-d5efeeb44b37",
   "metadata": {
    "tags": []
   },
   "source": [
    "### 1.7 Resource (publication/article/interview/media)"
   ]
  },
  {
   "cell_type": "code",
   "execution_count": 17,
   "id": "e72bf0e9-ef40-49e0-a761-69a02e8ca481",
   "metadata": {
    "execution": {
     "iopub.execute_input": "2023-07-06T07:43:34.616208Z",
     "iopub.status.busy": "2023-07-06T07:43:34.615213Z",
     "iopub.status.idle": "2023-07-06T07:43:38.555371Z",
     "shell.execute_reply": "2023-07-06T07:43:38.554404Z",
     "shell.execute_reply.started": "2023-07-06T07:43:34.616208Z"
    },
    "jupyter": {
     "source_hidden": true
    },
    "tags": []
   },
   "outputs": [
    {
     "data": {
      "text/plain": [
       "<pymongo.results.DeleteResult at 0x213f8145850>"
      ]
     },
     "execution_count": 17,
     "metadata": {},
     "output_type": "execute_result"
    }
   ],
   "source": [
    "loading_dbname = daqa_etl.related_obj_mapping[\"related_resources\"][\"acde_level\"]\n",
    "daqa_etl.acde_db[loading_dbname].delete_many({\"data_source\": \"DAQA\"})"
   ]
  },
  {
   "cell_type": "code",
   "execution_count": 18,
   "id": "3b5a69e3-6344-4153-9f78-cc0e7c7bb594",
   "metadata": {
    "execution": {
     "iopub.execute_input": "2023-07-06T07:43:38.558365Z",
     "iopub.status.busy": "2023-07-06T07:43:38.556371Z",
     "iopub.status.idle": "2023-07-06T07:43:38.648912Z",
     "shell.execute_reply": "2023-07-06T07:43:38.647948Z",
     "shell.execute_reply.started": "2023-07-06T07:43:38.558365Z"
    },
    "jupyter": {
     "source_hidden": true
    },
    "tags": []
   },
   "outputs": [
    {
     "name": "stderr",
     "output_type": "stream",
     "text": [
      "DAQA_publication_loading: 100%|██████████████████████████████████████████████████████| 46/46 [00:00<00:00, 1132.36it/s]\n"
     ]
    }
   ],
   "source": [
    "loading_obj = \"publication\"\n",
    "export_firstL_attrs = gen_manip.mdb_get_firstL_fields(daqa_etl.daqa_db[loading_obj])\n",
    "export_firstL_attrs = list(set(export_firstL_attrs) - set([\"inserted_ts_acde\"]))\n",
    "\n",
    "with tqdm(\n",
    "    total=daqa_etl.daqa_db[loading_obj].count_documents({}),\n",
    "    desc=f\"DAQA_{loading_obj}_loading\",\n",
    ") as pbar:\n",
    "    for obj_record in daqa_etl.daqa_db[loading_obj].aggregate(\n",
    "        [\n",
    "            {\"$project\": {attr: 1 for attr in export_firstL_attrs}},\n",
    "            {\n",
    "                \"$project\": {\n",
    "                    \"data_source\": \"DAQA\",\n",
    "                    \"ori_url\": 1,\n",
    "                    \"ori_id\": \"$id\",\n",
    "                    \"_id\": 0,\n",
    "                    \"ori_dbid\": \"$_id\",\n",
    "                    \"date_created\": \"$created\",\n",
    "                    \"pubts\": 1,\n",
    "                    \"contributors\": [\"$owner\"],\n",
    "                    \"record_status\": {\n",
    "                        \"$cond\": {\n",
    "                            \"if\": {\"$eq\": [\"$is_published\", True]},\n",
    "                            \"then\": \"published\",\n",
    "                            \"else\": \"unpublished\",\n",
    "                        }\n",
    "                    },\n",
    "                    \"version\": 1,\n",
    "                    \"title\": \"$label\",\n",
    "                    \"description\": \"$summary\",\n",
    "                    \"_class_ori\": \"$type\",\n",
    "                    \"_class\": loading_dbname,\n",
    "                    # \"relationships\": 1,\n",
    "                    # \"media\": 1,\n",
    "                    \"note\": 1,\n",
    "                    # \"associatedMedia\": 1,\n",
    "                    \"ori_url_data\": 1,\n",
    "                }\n",
    "            },\n",
    "        ]\n",
    "    ):\n",
    "        # remove all attributes having empty values\n",
    "        obj_record = gen_jp.clean_empty_values(obj_record)\n",
    "        daqa_etl.acde_db[loading_dbname].insert_one(obj_record)\n",
    "        pbar.update(1)"
   ]
  },
  {
   "cell_type": "code",
   "execution_count": 19,
   "id": "c38db146-00d3-467a-aa7d-302a71aecff0",
   "metadata": {
    "execution": {
     "iopub.execute_input": "2023-07-06T07:43:38.651908Z",
     "iopub.status.busy": "2023-07-06T07:43:38.651043Z",
     "iopub.status.idle": "2023-07-06T07:43:39.267186Z",
     "shell.execute_reply": "2023-07-06T07:43:39.266188Z",
     "shell.execute_reply.started": "2023-07-06T07:43:38.651908Z"
    },
    "jupyter": {
     "source_hidden": true
    },
    "tags": []
   },
   "outputs": [
    {
     "name": "stderr",
     "output_type": "stream",
     "text": [
      "DAQA_article_loading: 100%|████████████████████████████████████████████████████████| 783/783 [00:00<00:00, 1446.80it/s]\n"
     ]
    }
   ],
   "source": [
    "loading_obj = \"article\"\n",
    "export_firstL_attrs = gen_manip.mdb_get_firstL_fields(daqa_etl.daqa_db[loading_obj])\n",
    "export_firstL_attrs = list(set(export_firstL_attrs) - set([\"inserted_ts_acde\"]))\n",
    "\n",
    "with tqdm(\n",
    "    total=daqa_etl.daqa_db[loading_obj].count_documents({}),\n",
    "    desc=f\"DAQA_{loading_obj}_loading\",\n",
    ") as pbar:\n",
    "    for obj_record in daqa_etl.daqa_db[loading_obj].aggregate(\n",
    "        [\n",
    "            {\"$project\": {attr: 1 for attr in export_firstL_attrs}},\n",
    "            {\n",
    "                \"$project\": {\n",
    "                    \"data_source\": \"DAQA\",\n",
    "                    \"ori_url\": 1,\n",
    "                    \"ori_id\": \"$id\",\n",
    "                    \"_id\": 0,\n",
    "                    \"ori_dbid\": \"$_id\",\n",
    "                    \"date_created\": \"$created\",\n",
    "                    \"pubts\": 1,\n",
    "                    \"contributors\": [\"$owner\"],\n",
    "                    \"record_status\": {\n",
    "                        \"$cond\": {\n",
    "                            \"if\": {\"$eq\": [\"$is_published\", True]},\n",
    "                            \"then\": \"published\",\n",
    "                            \"else\": \"unpublished\",\n",
    "                        }\n",
    "                    },\n",
    "                    \"version\": 1,\n",
    "                    \"title\": \"$label\",\n",
    "                    \"description\": \"$summary\",\n",
    "                    \"_class_ori\": \"$type\",\n",
    "                    \"_class\": loading_dbname,\n",
    "                    \"authoring_info\": {\"authors\": {\"name\": \"$authors\"}},\n",
    "                    \"annotations\": 1,\n",
    "                    \"date_info\": {\"date_published\": \"$published\"},\n",
    "                    \"source_info\": {\n",
    "                        \"issue\": \"$issue\",\n",
    "                        \"pages\": \"$pages\",\n",
    "                        \"periodical\": \"$periodical\",\n",
    "                        \"volume\": \"$volume\",\n",
    "                    },\n",
    "                    # \"relationships\": 1,\n",
    "                    # \"media\": 1,\n",
    "                    # \"associatedMedia\": 1,\n",
    "                    \"ori_url_data\": 1,\n",
    "                }\n",
    "            },\n",
    "        ]\n",
    "    ):\n",
    "        # remove all attributes having empty values\n",
    "        obj_record = gen_jp.clean_empty_values(obj_record)\n",
    "        daqa_etl.acde_db[loading_dbname].insert_one(obj_record)\n",
    "        pbar.update(1)"
   ]
  },
  {
   "cell_type": "code",
   "execution_count": 20,
   "id": "53999103-4499-4666-a3f7-4b5a4ecd1050",
   "metadata": {
    "execution": {
     "iopub.execute_input": "2023-07-06T07:43:39.271175Z",
     "iopub.status.busy": "2023-07-06T07:43:39.270178Z",
     "iopub.status.idle": "2023-07-06T07:43:39.984847Z",
     "shell.execute_reply": "2023-07-06T07:43:39.983895Z",
     "shell.execute_reply.started": "2023-07-06T07:43:39.271175Z"
    },
    "jupyter": {
     "source_hidden": true
    },
    "tags": []
   },
   "outputs": [
    {
     "name": "stderr",
     "output_type": "stream",
     "text": [
      "DAQA_interview_loading: 100%|█████████████████████████████████████████████████████████| 92/92 [00:00<00:00, 169.00it/s]\n"
     ]
    }
   ],
   "source": [
    "loading_obj = \"interview\"\n",
    "export_firstL_attrs = gen_manip.mdb_get_firstL_fields(daqa_etl.daqa_db[loading_obj])\n",
    "export_firstL_attrs = list(set(export_firstL_attrs) - set([\"inserted_ts_acde\"]))\n",
    "\n",
    "with tqdm(\n",
    "    total=daqa_etl.daqa_db[loading_obj].count_documents({}),\n",
    "    desc=f\"DAQA_{loading_obj}_loading\",\n",
    ") as pbar:\n",
    "    for obj_record in daqa_etl.daqa_db[loading_obj].aggregate(\n",
    "        [\n",
    "            {\"$project\": {attr: 1 for attr in export_firstL_attrs}},\n",
    "            {\n",
    "                \"$project\": {\n",
    "                    \"data_source\": \"DAQA\",\n",
    "                    \"ori_url\": 1,\n",
    "                    \"ori_id\": \"$id\",\n",
    "                    \"_id\": 0,\n",
    "                    \"ori_dbid\": \"$_id\",\n",
    "                    \"date_created\": \"$published\",\n",
    "                    \"pubts\": 1,\n",
    "                    \"contributors\": [\"$owner\"],\n",
    "                    \"record_status\": {\n",
    "                        \"$cond\": {\n",
    "                            \"if\": {\"$eq\": [\"$is_published\", True]},\n",
    "                            \"then\": \"published\",\n",
    "                            \"else\": \"unpublished\",\n",
    "                        }\n",
    "                    },\n",
    "                    \"version\": 1,\n",
    "                    \"title\": \"$label\",\n",
    "                    \"description\": \"$summary\",\n",
    "                    \"_class_ori\": \"$type\",\n",
    "                    \"_class\": loading_dbname,\n",
    "                    \"authoring_info\": {\n",
    "                        \"coverage\": {\n",
    "                            \"place\": {\n",
    "                                \"display_name\": \"$location\",\n",
    "                                \"address\": {\"ori_address\": \"$location\"},\n",
    "                            }\n",
    "                        }\n",
    "                    },\n",
    "                    \"transcript\": 1,\n",
    "                    \"note\": 1,\n",
    "                    \"interviewer\": 1,\n",
    "                    \"interviewee\": 1,\n",
    "                    # \"relationships\": 1,\n",
    "                    # \"media\": 1,\n",
    "                    # \"associatedMedia\": 1,\n",
    "                    \"ori_url_data\": 1,\n",
    "                }\n",
    "            },\n",
    "        ]\n",
    "    ):\n",
    "        # remove all attributes having empty values\n",
    "        obj_record = gen_jp.clean_empty_values(obj_record)\n",
    "        daqa_etl.acde_db[loading_dbname].insert_one(obj_record)\n",
    "        pbar.update(1)"
   ]
  },
  {
   "cell_type": "code",
   "execution_count": 21,
   "id": "0d81193e-1606-4d00-a2ee-8902268c8068",
   "metadata": {
    "execution": {
     "iopub.execute_input": "2023-07-06T07:43:39.986842Z",
     "iopub.status.busy": "2023-07-06T07:43:39.985844Z",
     "iopub.status.idle": "2023-07-06T07:43:44.255922Z",
     "shell.execute_reply": "2023-07-06T07:43:44.254924Z",
     "shell.execute_reply.started": "2023-07-06T07:43:39.985844Z"
    },
    "jupyter": {
     "source_hidden": true
    },
    "tags": []
   },
   "outputs": [
    {
     "name": "stderr",
     "output_type": "stream",
     "text": [
      "DAQA_media_loading: 100%|████████████████████████████████████████████████████████| 6775/6775 [00:04<00:00, 1640.06it/s]\n"
     ]
    }
   ],
   "source": [
    "loading_obj = \"media\"\n",
    "export_firstL_attrs = gen_manip.mdb_get_firstL_fields(daqa_etl.daqa_db[loading_obj])\n",
    "export_firstL_attrs = list(set(export_firstL_attrs) - set([\"inserted_ts_acde\"]))\n",
    "\n",
    "with tqdm(\n",
    "    total=daqa_etl.daqa_db[loading_obj].count_documents({}),\n",
    "    desc=f\"DAQA_{loading_obj}_loading\",\n",
    ") as pbar:\n",
    "    for obj_record in daqa_etl.daqa_db[loading_obj].aggregate(\n",
    "        [\n",
    "            {\"$project\": {attr: 1 for attr in export_firstL_attrs}},\n",
    "            {\n",
    "                \"$project\": {\n",
    "                    \"data_source\": \"DAQA\",\n",
    "                    \"ori_url\": 1,\n",
    "                    \"ori_id\": \"$id\",\n",
    "                    \"_id\": 0,\n",
    "                    \"ori_dbid\": \"$_id\",\n",
    "                    \"date_created\": \"$published\",\n",
    "                    \"download_url\": 1,\n",
    "                    \"category\": 1,\n",
    "                    \"contributors\": [\"$creator\"],\n",
    "                    \"title\": \"$label\",\n",
    "                    \"description\": 1,\n",
    "                    \"_class_ori\": \"$type\",\n",
    "                    \"_class\": loading_dbname,\n",
    "                    \"coverage\": {\n",
    "                        \"place\": {\n",
    "                            \"display_name\": \"$location\",\n",
    "                            \"address\": {\"ori_address\": \"$location\"},\n",
    "                        }\n",
    "                    },\n",
    "                    \"format_info\": {\"mimetype\": \"$mimetype\"},\n",
    "                    \"identifier_info\": {\"note\": \"$identifier\"},\n",
    "                    \"right_info\": {\"copyright\": {\"owner\": \"$rights\"}},\n",
    "                    \"source_info\": {\n",
    "                        \"digital_file_name\": \"$filename\",\n",
    "                        \"size\": \"$filesize\",\n",
    "                    },\n",
    "                    # \"depicts\": 1,\n",
    "                    \"project_number\": \"$projectnumber\",\n",
    "                }\n",
    "            },\n",
    "        ]\n",
    "    ):\n",
    "        # remove all attributes having empty values\n",
    "        obj_record = gen_jp.clean_empty_values(obj_record)\n",
    "        daqa_etl.acde_db[loading_dbname].insert_one(obj_record)\n",
    "        pbar.update(1)"
   ]
  },
  {
   "cell_type": "markdown",
   "id": "fd129da3-6ef6-4303-8993-fff6cb98faa8",
   "metadata": {
    "tags": []
   },
   "source": [
    "### 1.8 Relationship"
   ]
  },
  {
   "cell_type": "code",
   "execution_count": 22,
   "id": "9df5bd49-75dc-4768-be7d-967d6ddba529",
   "metadata": {
    "execution": {
     "iopub.execute_input": "2023-07-06T07:43:44.257917Z",
     "iopub.status.busy": "2023-07-06T07:43:44.256920Z",
     "iopub.status.idle": "2023-07-06T07:43:45.456321Z",
     "shell.execute_reply": "2023-07-06T07:43:45.454327Z",
     "shell.execute_reply.started": "2023-07-06T07:43:44.257917Z"
    },
    "jupyter": {
     "source_hidden": true
    },
    "scrolled": true,
    "tags": []
   },
   "outputs": [
    {
     "name": "stderr",
     "output_type": "stream",
     "text": [
      "person_fetching: 100%|███████████████████████████████████████████████████████████| 1103/1103 [00:00<00:00, 6698.45it/s]\n",
      "organization_fetching: 100%|██████████████████████████████████████████████████████| 967/967 [00:00<00:00, 37205.58it/s]\n",
      "work_fetching: 100%|████████████████████████████████████████████████████████████| 2203/2203 [00:00<00:00, 46852.68it/s]\n",
      "event_fetching: 0it [00:00, ?it/s]\n",
      "recognition_fetching: 100%|██████████████████████████████████████████████████████████| 27/27 [00:00<00:00, 4475.60it/s]\n",
      "resource_fetching: 100%|████████████████████████████████████████████████████████| 7696/7696 [00:00<00:00, 55072.68it/s]\n",
      "place_fetching: 100%|███████████████████████████████████████████████████████████| 1939/1939 [00:00<00:00, 40685.95it/s]\n"
     ]
    }
   ],
   "source": [
    "loading_objs = [obj for obj in acde_opr.Class_RelatedFN_mapping.keys()]\n",
    "\n",
    "curr_dbid_mapping = acde_opr.acde_extRcd2dict(\n",
    "    db=daqa_etl.acde_db,\n",
    "    data_source=\"DAQA\",\n",
    "    loading_objs=loading_objs,\n",
    "    selected_fields=[\"_class_ori\", \"ori_dbid\"],\n",
    ")"
   ]
  },
  {
   "cell_type": "code",
   "execution_count": 23,
   "id": "ebc51ce7-0e90-40a9-9003-00038023f0bb",
   "metadata": {
    "execution": {
     "iopub.execute_input": "2023-07-06T07:43:45.459313Z",
     "iopub.status.busy": "2023-07-06T07:43:45.458318Z",
     "iopub.status.idle": "2023-07-06T07:44:02.478330Z",
     "shell.execute_reply": "2023-07-06T07:44:02.478330Z",
     "shell.execute_reply.started": "2023-07-06T07:43:45.459313Z"
    },
    "jupyter": {
     "source_hidden": true
    },
    "scrolled": true,
    "tags": []
   },
   "outputs": [
    {
     "name": "stderr",
     "output_type": "stream",
     "text": [
      "DAQA_relationship_loading: 100%|███████████████████████████████████████████████| 17549/17549 [00:11<00:00, 1586.23it/s]\n"
     ]
    }
   ],
   "source": [
    "loading_obj = \"relationship\"\n",
    "daqa_etl.acde_db[loading_obj].delete_many({\"data_source\": \"DAQA\"})\n",
    "missing_objs = defaultdict(set)\n",
    "\n",
    "with tqdm(\n",
    "    total=daqa_etl.daqa_db[loading_obj].count_documents({}),\n",
    "    desc=f\"DAQA_{loading_obj}_loading\",\n",
    ") as pbar:\n",
    "    for relation_record in daqa_etl.daqa_db[loading_obj].aggregate(\n",
    "        [\n",
    "            {\n",
    "                \"$addFields\": {\n",
    "                    \"data_source\": \"DAQA\",\n",
    "                    \"ori_id\": \"$relationshipid\",\n",
    "                    \"ori_dbid\": \"$_id\",\n",
    "                    \"subject\": {\n",
    "                        \"ori_id\": \"$subject\",\n",
    "                        \"ori_dbid\": \"$subject_dbid\",\n",
    "                        \"label\": \"$subjectlabel\",\n",
    "                        \"_class_ori\": \"$subjecttype\",\n",
    "                        \"ori_url\": \"$subject_ori_url\",\n",
    "                    },\n",
    "                    \"object\": {\n",
    "                        \"ori_id\": \"$object\",\n",
    "                        \"ori_dbid\": \"$object_dbid\",\n",
    "                        \"label\": \"$objectlabel\",\n",
    "                        \"_class_ori\": \"$objecttype\",\n",
    "                        \"ori_url\": \"$object_ori_url\",\n",
    "                        \"category\": \"$object_category\",\n",
    "                    },\n",
    "                    \"predicate\": {\n",
    "                        \"term\": \"$relationship\",\n",
    "                        \"reverse_term\": \"$relationship_reverse_term\",\n",
    "                    },\n",
    "                    \"_class\": loading_obj,\n",
    "                }\n",
    "            },\n",
    "            {\n",
    "                \"$project\": {\n",
    "                    f: 0\n",
    "                    for f in {\n",
    "                        \"_id\",\n",
    "                        \"note\",\n",
    "                        \"relationship\",\n",
    "                        \"relationshipid\",\n",
    "                        \"subjectlabel\",\n",
    "                        \"subjecttype\",\n",
    "                        \"subject_ori_url\",\n",
    "                        \"subject_dbid\",\n",
    "                        \"objectlabel\",\n",
    "                        \"objecttype\",\n",
    "                        \"object_ori_url\",\n",
    "                        \"object_dbid\",\n",
    "                        \"object_category\",\n",
    "                        \"relationship_reverse_term\",\n",
    "                    }\n",
    "                }\n",
    "            },\n",
    "        ]\n",
    "    ):\n",
    "        is_inserted = True\n",
    "        for e_type in [\"subject\", \"object\"]:\n",
    "            if relation_record.get(e_type):\n",
    "                relation_record[e_type][\"_class\"] = daqa_etl.class_type_mapping[\n",
    "                    relation_record[e_type][\"_class_ori\"]\n",
    "                ]\n",
    "                try:\n",
    "                    et_cdbid = curr_dbid_mapping[relation_record[e_type][\"_class\"]][\n",
    "                        (\n",
    "                            relation_record[e_type][\"_class_ori\"],\n",
    "                            relation_record[e_type][\"ori_dbid\"],\n",
    "                        )\n",
    "                    ]\n",
    "                    relation_record[e_type][\"curr_dbid\"] = et_cdbid\n",
    "                except:\n",
    "                    missing_objs[relation_record[e_type][\"_class\"]].add(\n",
    "                        relation_record[e_type][\"ori_dbid\"]\n",
    "                    )\n",
    "                    is_inserted = False\n",
    "                # try:\n",
    "                #     relation_record[e_type].update(\n",
    "                #         daqa_etl.acde_db[relation_record[e_type][\"_class\"]].find_one(\n",
    "                #             {\"ori_id\": relation_record[e_type][\"ori_id\"]},\n",
    "                #             {\"curr_dbid\": \"$_id\", \"_id\": 0},\n",
    "                #         )\n",
    "                #     )\n",
    "                # except:\n",
    "                #     missing_objs[relation_record[e_type][\"_class\"]].append(\n",
    "                #         relation_record[e_type][\"ori_id\"]\n",
    "                #     )\n",
    "                #     is_inserted = False\n",
    "                #     break\n",
    "\n",
    "        if relation_record.get(\"subject\") and relation_record.get(\"object\"):\n",
    "            relation_record[\n",
    "                \"relation_class\"\n",
    "            ] = f\"{relation_record['subject']['_class'].capitalize()}_Related{relation_record['object']['_class'].capitalize()}\"\n",
    "        else:\n",
    "            is_inserted = False\n",
    "\n",
    "        if is_inserted:\n",
    "            # remove all attributes having empty values\n",
    "            relation_record = gen_jp.clean_empty_values(relation_record)\n",
    "            daqa_etl.acde_db[loading_obj].insert_one(relation_record)\n",
    "        else:\n",
    "            missing_objs[\"relationship\"].add(relation_record[\"ori_dbid\"])\n",
    "        pbar.update(1)"
   ]
  },
  {
   "cell_type": "code",
   "execution_count": 24,
   "id": "90b97f5d-aa48-4e5e-9616-ea4a8901c161",
   "metadata": {
    "execution": {
     "iopub.execute_input": "2023-07-06T07:44:02.480365Z",
     "iopub.status.busy": "2023-07-06T07:44:02.479327Z",
     "iopub.status.idle": "2023-07-06T07:44:02.526204Z",
     "shell.execute_reply": "2023-07-06T07:44:02.525240Z",
     "shell.execute_reply.started": "2023-07-06T07:44:02.480365Z"
    },
    "jupyter": {
     "source_hidden": true
    },
    "scrolled": true,
    "tags": []
   },
   "outputs": [
    {
     "name": "stdout",
     "output_type": "stream",
     "text": [
      "####################\n",
      "\n",
      "event was found 21 records.\n",
      "It has missing/invalid 11 records according to relationships.\n",
      "        \n",
      "####################\n",
      "\n",
      "relationship was found 17549 records.\n",
      "It has missing/invalid 98 records according to relationships.\n",
      "        \n",
      "####################\n",
      "\n",
      "topic was found 44 records.\n",
      "It has missing/invalid 14 records according to relationships.\n",
      "        \n"
     ]
    }
   ],
   "source": [
    "for obj_type, obj_ids in missing_objs.items():\n",
    "    total_doc_num = daqa_etl.daqa_db[obj_type].count_documents({})\n",
    "    missing_doc_num = len(obj_ids)\n",
    "    print(\"#\" * 20)\n",
    "    print(\n",
    "        f\"\"\"\n",
    "{obj_type} was found {total_doc_num} records.\n",
    "It has missing/invalid {missing_doc_num} records according to relationships.\n",
    "        \"\"\"\n",
    "    )"
   ]
  },
  {
   "cell_type": "markdown",
   "id": "3957b90f-1387-482d-87d6-464452cd896f",
   "metadata": {
    "tags": []
   },
   "source": [
    "### 1.9 Add Related Objects to Root Objects"
   ]
  },
  {
   "cell_type": "code",
   "execution_count": 25,
   "id": "71248bce-e6f6-4500-9c8e-b9d3ee5879d7",
   "metadata": {
    "execution": {
     "iopub.execute_input": "2023-07-06T07:44:02.528200Z",
     "iopub.status.busy": "2023-07-06T07:44:02.528200Z",
     "iopub.status.idle": "2023-07-06T07:44:16.162386Z",
     "shell.execute_reply": "2023-07-06T07:44:16.161376Z",
     "shell.execute_reply.started": "2023-07-06T07:44:02.528200Z"
    },
    "jupyter": {
     "source_hidden": true
    },
    "scrolled": true,
    "tags": []
   },
   "outputs": [
    {
     "name": "stderr",
     "output_type": "stream",
     "text": [
      "Extracting related objects from relationship collection: 100%|████████████████| 17451/17451 [00:01<00:00, 11332.00it/s]\n",
      "person_related_objects_update: 100%|███████████████████████████████████████████████| 944/944 [00:00<00:00, 1241.94it/s]\n",
      "resource_related_objects_update: 100%|███████████████████████████████████████████| 6911/6911 [00:04<00:00, 1521.78it/s]\n",
      "organization_related_objects_update: 100%|█████████████████████████████████████████| 728/728 [00:00<00:00, 1433.11it/s]\n",
      "work_related_objects_update: 100%|███████████████████████████████████████████████| 2183/2183 [00:01<00:00, 1442.15it/s]\n",
      "recognition_related_objects_update: 100%|████████████████████████████████████████████| 24/24 [00:00<00:00, 1333.06it/s]\n",
      "place_related_objects_update: 100%|██████████████████████████████████████████████| 1924/1924 [00:01<00:00, 1579.21it/s]"
     ]
    },
    {
     "name": "stdout",
     "output_type": "stream",
     "text": [
      "The DBrefs of the relationships have been successfully updated to `related_XXX` fields!\n"
     ]
    },
    {
     "name": "stderr",
     "output_type": "stream",
     "text": [
      "\n"
     ]
    }
   ],
   "source": [
    "#####\n",
    "# Clean the existing related_XXXX fields from 'AusStage'\n",
    "#####\n",
    "\n",
    "gen_manip.mdb_remove_fields(\n",
    "    daqa_etl.acde_db,\n",
    "    \"relationship\",\n",
    "    {\"data_source\": \"DAQA\",},\n",
    "    remove_fields=list(acde_opr.Class_RelatedFN_mapping.values()),\n",
    ")\n",
    "\n",
    "#####\n",
    "# Update the original records with references\n",
    "# to the relationships of their related records using DBRefs.\n",
    "#####\n",
    "\n",
    "acde_opr.acde_update_related_DBRef(data_source=\"DAQA\", db=daqa_etl.acde_db)"
   ]
  },
  {
   "cell_type": "code",
   "execution_count": 26,
   "id": "308662d8-43f8-413b-b6e2-8ad7e064806b",
   "metadata": {
    "execution": {
     "iopub.execute_input": "2023-07-06T07:44:16.163355Z",
     "iopub.status.busy": "2023-07-06T07:44:16.163355Z",
     "iopub.status.idle": "2023-07-06T07:44:43.678094Z",
     "shell.execute_reply": "2023-07-06T07:44:43.677097Z",
     "shell.execute_reply.started": "2023-07-06T07:44:16.163355Z"
    },
    "jupyter": {
     "source_hidden": true
    },
    "scrolled": true,
    "tags": []
   },
   "outputs": [
    {
     "name": "stdout",
     "output_type": "stream",
     "text": [
      "event_related_events doesn't have any records.\n",
      "event_related_organizations doesn't have any records.\n",
      "event_related_works doesn't have any records.\n",
      "event_related_places doesn't have any records.\n",
      "event_related_recognitions doesn't have any records.\n",
      "event_related_people doesn't have any records.\n",
      "event_related_resources doesn't have any records.\n",
      "person_related_events doesn't have any records.\n"
     ]
    },
    {
     "name": "stderr",
     "output_type": "stream",
     "text": [
      "person_related_organizations: 100%|████████████████████████████████████████████████| 464/464 [00:00<00:00, 1258.82it/s]\n",
      "person_related_works: 100%|████████████████████████████████████████████████████████| 281/281 [00:00<00:00, 1083.82it/s]\n",
      "person_related_places: 100%|███████████████████████████████████████████████████████████| 5/5 [00:00<00:00, 1011.41it/s]\n",
      "person_related_recognitions: 100%|███████████████████████████████████████████████████| 25/25 [00:00<00:00, 1207.13it/s]\n",
      "person_related_people: 100%|███████████████████████████████████████████████████████| 642/642 [00:00<00:00, 1212.43it/s]\n",
      "person_related_resources: 100%|████████████████████████████████████████████████████| 383/383 [00:00<00:00, 1244.82it/s]\n"
     ]
    },
    {
     "name": "stdout",
     "output_type": "stream",
     "text": [
      "resource_related_events doesn't have any records.\n"
     ]
    },
    {
     "name": "stderr",
     "output_type": "stream",
     "text": [
      "resource_related_organizations: 100%|██████████████████████████████████████████████| 103/103 [00:00<00:00, 1211.80it/s]\n",
      "resource_related_works: 100%|████████████████████████████████████████████████████| 4878/4878 [00:03<00:00, 1540.37it/s]\n",
      "resource_related_places: 100%|████████████████████████████████████████████████████████| 77/77 [00:00<00:00, 591.91it/s]\n",
      "resource_related_recognitions: 100%|██████████████████████████████████████████████████| 11/11 [00:00<00:00, 758.88it/s]\n",
      "resource_related_people: 100%|█████████████████████████████████████████████████████| 495/495 [00:00<00:00, 1127.29it/s]\n",
      "resource_related_resources: 100%|████████████████████████████████████████████████| 1557/1557 [00:01<00:00, 1365.77it/s]\n"
     ]
    },
    {
     "name": "stdout",
     "output_type": "stream",
     "text": [
      "place_related_events doesn't have any records.\n",
      "place_related_organizations doesn't have any records.\n"
     ]
    },
    {
     "name": "stderr",
     "output_type": "stream",
     "text": [
      "place_related_works: 100%|███████████████████████████████████████████████████████| 1843/1843 [00:01<00:00, 1561.98it/s]\n"
     ]
    },
    {
     "name": "stdout",
     "output_type": "stream",
     "text": [
      "place_related_places doesn't have any records.\n",
      "place_related_recognitions doesn't have any records.\n"
     ]
    },
    {
     "name": "stderr",
     "output_type": "stream",
     "text": [
      "place_related_people: 100%|████████████████████████████████████████████████████████████| 4/4 [00:00<00:00, 1335.02it/s]\n",
      "place_related_resources: 100%|███████████████████████████████████████████████████████| 77/77 [00:00<00:00, 1513.12it/s]\n"
     ]
    },
    {
     "name": "stdout",
     "output_type": "stream",
     "text": [
      "organization_related_events doesn't have any records.\n"
     ]
    },
    {
     "name": "stderr",
     "output_type": "stream",
     "text": [
      "organization_related_organizations: 100%|██████████████████████████████████████████| 352/352 [00:00<00:00, 1389.79it/s]\n",
      "organization_related_works: 100%|███████████████████████████████████████████████████| 205/205 [00:00<00:00, 898.58it/s]\n"
     ]
    },
    {
     "name": "stdout",
     "output_type": "stream",
     "text": [
      "organization_related_places doesn't have any records.\n"
     ]
    },
    {
     "name": "stderr",
     "output_type": "stream",
     "text": [
      "organization_related_recognitions: 100%|████████████████████████████████████████████████| 1/1 [00:00<00:00, 501.23it/s]\n",
      "organization_related_people: 100%|█████████████████████████████████████████████████| 615/615 [00:00<00:00, 1344.35it/s]\n",
      "organization_related_resources: 100%|████████████████████████████████████████████████| 90/90 [00:00<00:00, 1313.43it/s]\n"
     ]
    },
    {
     "name": "stdout",
     "output_type": "stream",
     "text": [
      "work_related_events doesn't have any records.\n"
     ]
    },
    {
     "name": "stderr",
     "output_type": "stream",
     "text": [
      "work_related_organizations: 100%|████████████████████████████████████████████████| 1297/1297 [00:00<00:00, 1459.94it/s]\n"
     ]
    },
    {
     "name": "stdout",
     "output_type": "stream",
     "text": [
      "work_related_works doesn't have any records.\n"
     ]
    },
    {
     "name": "stderr",
     "output_type": "stream",
     "text": [
      "work_related_places: 100%|███████████████████████████████████████████████████████| 1843/1843 [00:01<00:00, 1432.71it/s]\n",
      "work_related_recognitions: 100%|███████████████████████████████████████████████████████| 1/1 [00:00<00:00, 1002.94it/s]\n",
      "work_related_people: 100%|███████████████████████████████████████████████████████| 1785/1785 [00:01<00:00, 1462.36it/s]\n",
      "work_related_resources: 100%|████████████████████████████████████████████████████| 1392/1392 [00:01<00:00, 1210.53it/s]\n"
     ]
    },
    {
     "name": "stdout",
     "output_type": "stream",
     "text": [
      "recognition_related_events doesn't have any records.\n"
     ]
    },
    {
     "name": "stderr",
     "output_type": "stream",
     "text": [
      "recognition_related_organizations: 100%|████████████████████████████████████████████████| 1/1 [00:00<00:00, 503.16it/s]\n",
      "recognition_related_works: 100%|███████████████████████████████████████████████████████| 1/1 [00:00<00:00, 1032.06it/s]\n"
     ]
    },
    {
     "name": "stdout",
     "output_type": "stream",
     "text": [
      "recognition_related_places doesn't have any records.\n",
      "recognition_related_recognitions doesn't have any records.\n"
     ]
    },
    {
     "name": "stderr",
     "output_type": "stream",
     "text": [
      "recognition_related_people: 100%|████████████████████████████████████████████████████| 24/24 [00:00<00:00, 1365.39it/s]\n",
      "recognition_related_resources: 100%|█████████████████████████████████████████████████| 10/10 [00:00<00:00, 1118.72it/s]"
     ]
    },
    {
     "name": "stdout",
     "output_type": "stream",
     "text": [
      "The lookup documents of DBRefs have been successfully updated to `related_XXX` fields!\n"
     ]
    },
    {
     "name": "stderr",
     "output_type": "stream",
     "text": [
      "\n"
     ]
    }
   ],
   "source": [
    "loading_colls = set(coll for coll in acde_opr.Class_RelatedFN_mapping.keys())\n",
    "proj_cond = {\n",
    "    \"predicate\": 1,\n",
    "    \"subject\": 1,\n",
    "    \"object\": 1,\n",
    "    \"_id\": 0,\n",
    "    \"relationship_dbid\": \"$_id\",\n",
    "    \"relation_class\": 1,\n",
    "    \"data_source\": 1,\n",
    "}\n",
    "\n",
    "data_source = \"DAQA\"\n",
    "# # Method 1\n",
    "# acde_opr.acde_add_related_objects(\n",
    "#     daqa_etl.acde_db, data_source=\"DAQA\", loading_objs=loading_objs\n",
    "# )\n",
    "# Method 2\n",
    "acde_opr.acde_update_related_fields(\n",
    "    data_source=data_source,\n",
    "    proj_cond=proj_cond,\n",
    "    loading_colls=loading_colls,\n",
    "    db=daqa_etl.acde_db,\n",
    ")"
   ]
  }
 ],
 "metadata": {
  "kernelspec": {
   "display_name": "ACD_Engine",
   "language": "python",
   "name": "acd_engine"
  },
  "language_info": {
   "codemirror_mode": {
    "name": "ipython",
    "version": 3
   },
   "file_extension": ".py",
   "mimetype": "text/x-python",
   "name": "python",
   "nbconvert_exporter": "python",
   "pygments_lexer": "ipython3",
   "version": "3.9.13"
  }
 },
 "nbformat": 4,
 "nbformat_minor": 5
}
