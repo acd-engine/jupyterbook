{
 "cells": [
  {
   "cell_type": "markdown",
   "id": "048ca73b-d235-4f72-9ee2-3e845215154c",
   "metadata": {},
   "source": [
    "# [Design & Art Australia Online](https://www.daao.org.au/) Loading"
   ]
  },
  {
   "cell_type": "markdown",
   "id": "5f251e40-ff3e-4d07-a2bd-57d1d9543cbe",
   "metadata": {
    "tags": []
   },
   "source": [
    "## 0. Setting"
   ]
  },
  {
   "cell_type": "code",
   "execution_count": 1,
   "id": "7051472e-46b5-4027-b9fa-00fe4c78e71a",
   "metadata": {
    "execution": {
     "iopub.execute_input": "2023-05-07T20:47:28.287391Z",
     "iopub.status.busy": "2023-05-07T20:47:28.284399Z",
     "iopub.status.idle": "2023-05-07T20:47:29.864394Z",
     "shell.execute_reply": "2023-05-07T20:47:29.863396Z",
     "shell.execute_reply.started": "2023-05-07T20:47:28.287391Z"
    },
    "jupyter": {
     "source_hidden": true
    },
    "tags": []
   },
   "outputs": [],
   "source": [
    "import os\n",
    "import pprint\n",
    "from collections import Counter, defaultdict\n",
    "from copy import deepcopy\n",
    "\n",
    "import jsonlines\n",
    "import pandas as pd\n",
    "import pymongo\n",
    "from bson import ObjectId\n",
    "from bson.dbref import DBRef\n",
    "from tqdm import tqdm\n",
    "\n",
    "pp = pprint.PrettyPrinter(indent=2)"
   ]
  },
  {
   "cell_type": "code",
   "execution_count": 2,
   "id": "b260bff6-7de0-42ef-9f7c-b74243adab7d",
   "metadata": {
    "execution": {
     "iopub.execute_input": "2023-05-07T20:47:29.866391Z",
     "iopub.status.busy": "2023-05-07T20:47:29.866391Z",
     "iopub.status.idle": "2023-05-07T20:47:29.912267Z",
     "shell.execute_reply": "2023-05-07T20:47:29.911270Z",
     "shell.execute_reply.started": "2023-05-07T20:47:29.866391Z"
    },
    "jupyter": {
     "source_hidden": true
    },
    "tags": []
   },
   "outputs": [],
   "source": [
    "import sys\n",
    "\n",
    "codefolder = \"C:/ProjectCollections/Programs/Australia_Cultural_Data_Engine/codes\"\n",
    "\n",
    "sys.path.append(codefolder)\n",
    "from acde import MongoDBManipulation as acde_manip\n",
    "from daao import JsonProcessing as daao_jp\n",
    "from daao import MongoDBManipulation as daao_manip\n",
    "from general import GeneralFunctions as gen_gf\n",
    "from general import JsonProcessing as gen_jp\n",
    "from general import MongoDBManipulation as gen_manip\n",
    "\n",
    "# data_folder = (\n",
    "#     \"D:/Program_Data/Australia_Cultural_Data_Engine_Data/design_art_australia_online\"\n",
    "# )\n",
    "# js_folder = os.path.join(data_folder, \"exported_json\")\n",
    "# csv_folder = os.path.join(data_folder, \"exported_csv\")"
   ]
  },
  {
   "cell_type": "markdown",
   "id": "ab88f44c-01ae-459d-861f-67d7a060b7de",
   "metadata": {
    "tags": []
   },
   "source": [
    "## 1. DAAO MongoDB Connection"
   ]
  },
  {
   "cell_type": "code",
   "execution_count": 3,
   "id": "040f878b-bc89-4734-9cc0-34eae00d9228",
   "metadata": {
    "execution": {
     "iopub.execute_input": "2023-05-07T20:47:29.914261Z",
     "iopub.status.busy": "2023-05-07T20:47:29.914261Z",
     "iopub.status.idle": "2023-05-07T20:47:30.022768Z",
     "shell.execute_reply": "2023-05-07T20:47:30.021122Z",
     "shell.execute_reply.started": "2023-05-07T20:47:29.914261Z"
    },
    "jupyter": {
     "source_hidden": true
    },
    "tags": []
   },
   "outputs": [],
   "source": [
    "daao_meta = daao_manip.DAAO_MetaCollection()\n",
    "acde_opr = acde_manip.ACDE_Manipulation()"
   ]
  },
  {
   "cell_type": "markdown",
   "id": "0dc5f86c-4908-430a-be5c-517b98add13b",
   "metadata": {
    "tags": []
   },
   "source": [
    "## 2. DAAO DB Meta Collection\n",
    "\n",
    "1. get all collections and corresponding classes\n",
    "2. get field information of each collection (Removed, All, Date Objects)"
   ]
  },
  {
   "cell_type": "markdown",
   "id": "8b921dbc-2d8b-4952-a0c5-4dbb88ba6959",
   "metadata": {},
   "source": [
    "### 2.1 DAAO Class Extraction"
   ]
  },
  {
   "cell_type": "code",
   "execution_count": 4,
   "id": "89bc5e16-ae72-4396-bd97-99a7b336fc0f",
   "metadata": {
    "execution": {
     "iopub.execute_input": "2023-05-07T20:47:30.023794Z",
     "iopub.status.busy": "2023-05-07T20:47:30.023794Z",
     "iopub.status.idle": "2023-05-07T20:47:38.153527Z",
     "shell.execute_reply": "2023-05-07T20:47:38.152532Z",
     "shell.execute_reply.started": "2023-05-07T20:47:30.023794Z"
    },
    "jupyter": {
     "source_hidden": true
    },
    "tags": []
   },
   "outputs": [],
   "source": [
    "class_names = daao_meta.extract_class()"
   ]
  },
  {
   "cell_type": "code",
   "execution_count": 5,
   "id": "f1b50eca-fac4-45f2-9c29-88b256924286",
   "metadata": {
    "execution": {
     "iopub.execute_input": "2023-05-07T20:47:38.154494Z",
     "iopub.status.busy": "2023-05-07T20:47:38.154494Z",
     "iopub.status.idle": "2023-05-07T20:47:38.170451Z",
     "shell.execute_reply": "2023-05-07T20:47:38.168458Z",
     "shell.execute_reply.started": "2023-05-07T20:47:38.154494Z"
    },
    "jupyter": {
     "source_hidden": true
    },
    "scrolled": true,
    "tags": []
   },
   "outputs": [
    {
     "name": "stdout",
     "output_type": "stream",
     "text": [
      "List all multi-class collection:\n",
      "\n",
      "【controlledvocab】\n",
      "ControlledVocab.ANZSICOccupation, ControlledVocab.EventType, ControlledVocab.GroupType, ControlledVocab.IndigenousCountry, ControlledVocab.IndigenousLanguage, ControlledVocab.Language, ControlledVocab.Medium, ControlledVocab.RecognitionType, ControlledVocab.RecordStatus, ControlledVocab.ResourceType, ControlledVocab.Source, ControlledVocab.Tag\n",
      "\n",
      "【xactivity】\n",
      "VersionedDocument.XActivity.XEvent.Event, VersionedDocument.XActivity.XEvent.EventGroup, VersionedDocument.XActivity.XRecognition.Recognition\n",
      "\n",
      "【xactivity_ori】\n",
      "VersionedDocument.XActivity.XEvent.Event, VersionedDocument.XActivity.XEvent.EventGroup, VersionedDocument.XActivity.XRecognition.Recognition\n",
      "\n",
      "【xparty】\n",
      "VersionedDocument.XParty.Person, VersionedDocument.XParty.PersonGroup\n",
      "\n",
      "【xparty_ori】\n",
      "VersionedDocument.XParty.Person, VersionedDocument.XParty.PersonGroup\n",
      "\n",
      "【xpredicate】\n",
      "XPredicate.CollectionPredicate, XPredicate.EventEventPredicate, XPredicate.EventGroupPredicate, XPredicate.EventPredicate, XPredicate.EventWorkPredicate, XPredicate.PersonGroupPredicate, XPredicate.PersonPredicate, XPredicate.PlacePredicate, XPredicate.RecognitionPredicate, XPredicate.RecognitionWorkPredicate, XPredicate.StubPersonGroupPredicate, XPredicate.StubPersonPredicate, XPredicate.WorkPredicate\n",
      "\n",
      "【xwork】\n",
      "VersionedDocument.XWork.Collection, VersionedDocument.XWork.Work\n",
      "\n",
      "【xwork_ori】\n",
      "VersionedDocument.XWork.Collection, VersionedDocument.XWork.Work\n",
      "\n"
     ]
    }
   ],
   "source": [
    "# Display multi-class collection\n",
    "print(\"List all multi-class collection:\\n\")\n",
    "for coll, cls_name in class_names.items():\n",
    "    if len(cls_name) > 1:\n",
    "        print(f'【{coll}】\\n{\", \".join(cls_name)}\\n')"
   ]
  },
  {
   "cell_type": "markdown",
   "id": "4023822d-7082-4ea4-914c-634dc3a93555",
   "metadata": {},
   "source": [
    "### 2.2 DAAO Field Name Extraction"
   ]
  },
  {
   "cell_type": "code",
   "execution_count": 6,
   "id": "854ee19b-ddbc-458f-b510-ec41e66d7f32",
   "metadata": {
    "execution": {
     "iopub.execute_input": "2023-05-07T20:47:38.173442Z",
     "iopub.status.busy": "2023-05-07T20:47:38.172446Z",
     "iopub.status.idle": "2023-05-07T20:51:00.189726Z",
     "shell.execute_reply": "2023-05-07T20:51:00.188729Z",
     "shell.execute_reply.started": "2023-05-07T20:47:38.173442Z"
    },
    "jupyter": {
     "source_hidden": true
    },
    "scrolled": true,
    "tags": []
   },
   "outputs": [
    {
     "name": "stderr",
     "output_type": "stream",
     "text": [
      "person: 100%|███████████████████████████████████████████████████████████████████| 30693/30693 [01:06<00:00, 460.17it/s]\n",
      "personGroup: 100%|████████████████████████████████████████████████████████████████| 4660/4660 [00:05<00:00, 848.34it/s]\n",
      "event: 100%|███████████████████████████████████████████████████████████████████| 21906/21906 [00:12<00:00, 1783.47it/s]\n",
      "eventGroup: 100%|████████████████████████████████████████████████████████████████████| 94/94 [00:00<00:00, 2048.97it/s]\n",
      "recognition: 100%|███████████████████████████████████████████████████████████████| 5481/5481 [00:01<00:00, 2962.73it/s]\n",
      "work: 100%|████████████████████████████████████████████████████████████████████| 23780/23780 [00:09<00:00, 2636.38it/s]\n",
      "collection: 100%|██████████████████████████████████████████████████████████████| 11747/11747 [00:03<00:00, 3475.86it/s]\n",
      "ansicOcc_menu: 100%|██████████████████████████████████████████████████████████████| 825/825 [00:00<00:00, 17600.00it/s]\n",
      "eventType_menu: 100%|██████████████████████████████████████████████████████████████████| 6/6 [00:00<00:00, 3007.03it/s]\n",
      "groupType_menu: 100%|██████████████████████████████████████████████████████████████████| 4/4 [00:00<00:00, 2003.97it/s]\n",
      "indgCty_menu: 100%|███████████████████████████████████████████████████████████████| 668/668 [00:00<00:00, 16742.43it/s]\n",
      "indgLang_menu: 100%|███████████████████████████████████████████████████████████████| 904/904 [00:00<00:00, 9572.10it/s]\n",
      "lang_menu: 100%|████████████████████████████████████████████████████████████████| 7707/7707 [00:00<00:00, 26361.20it/s]\n",
      "medium_menu: 100%|███████████████████████████████████████████████████████████████████| 25/25 [00:00<00:00, 8357.18it/s]\n",
      "recogType_menu: 100%|██████████████████████████████████████████████████████████████████| 5/5 [00:00<00:00, 2505.86it/s]\n",
      "rcdStat_menu: 100%|████████████████████████████████████████████████████████████████████| 3/3 [00:00<00:00, 1504.23it/s]\n",
      "rscType_menu: 100%|████████████████████████████████████████████████████████████████████| 9/9 [00:00<00:00, 9028.64it/s]\n",
      "src_menu: 100%|█████████████████████████████████████████████████████████████████████| 32/32 [00:00<00:00, 10695.49it/s]\n",
      "tag_menu: 100%|█████████████████████████████████████████████████████████████████| 3135/3135 [00:00<00:00, 31742.51it/s]\n",
      "asset: 100%|████████████████████████████████████████████████████████████████████| 4501/4501 [00:00<00:00, 28634.21it/s]\n",
      "culturalheritage: 100%|███████████████████████████████████████████████████████████| 222/222 [00:00<00:00, 31806.51it/s]\n",
      "externalresource: 100%|████████████████████████████████████████████████████████| 52597/52597 [00:07<00:00, 7283.36it/s]\n",
      "externalresource_ori: 100%|███████████████████████████████████████████████████| 52597/52597 [00:03<00:00, 14096.04it/s]\n",
      "indigenousdreaming: 100%|█████████████████████████████████████████████████████████| 663/663 [00:00<00:00, 44318.03it/s]\n",
      "place: 100%|███████████████████████████████████████████████████████████████████| 16691/16691 [00:07<00:00, 2129.47it/s]\n",
      "predicate: 100%|████████████████████████████████████████████████████████████████████| 28/28 [00:00<00:00, 14047.91it/s]\n",
      "relation: 100%|███████████████████████████████████████████████████████████████| 76558/76558 [00:05<00:00, 14767.58it/s]\n",
      "relationship: 100%|██████████████████████████████████████████████████████████| 212505/212505 [01:17<00:00, 2748.21it/s]\n",
      "stubperson: 100%|█████████████████████████████████████████████████████████████| 12526/12526 [00:00<00:00, 49252.47it/s]\n",
      "stubpersongroup: 100%|██████████████████████████████████████████████████████████| 3512/3512 [00:00<00:00, 56331.03it/s]\n",
      "xpredicate: 100%|███████████████████████████████████████████████████████████████████| 66/66 [00:00<00:00, 22068.24it/s]\n"
     ]
    }
   ],
   "source": [
    "daao_objs_info = daao_meta.extract_fieldName()"
   ]
  },
  {
   "cell_type": "markdown",
   "id": "1f008a83-1a11-4bd2-b162-bab7da6cb7c1",
   "metadata": {},
   "source": [
    "### 2.3 Lookup Project Pipeline Setting"
   ]
  },
  {
   "cell_type": "code",
   "execution_count": 7,
   "id": "ee6c5e99-f852-4b0f-9a8e-a399ced59e1c",
   "metadata": {
    "execution": {
     "iopub.execute_input": "2023-05-07T20:51:00.190724Z",
     "iopub.status.busy": "2023-05-07T20:51:00.190724Z",
     "iopub.status.idle": "2023-05-07T20:51:00.205194Z",
     "shell.execute_reply": "2023-05-07T20:51:00.204232Z",
     "shell.execute_reply.started": "2023-05-07T20:51:00.190724Z"
    },
    "jupyter": {
     "source_hidden": true
    },
    "tags": []
   },
   "outputs": [],
   "source": [
    "lookupProj_info = daao_meta.construct_LookUpPipelines_loading(daao_objs_info)"
   ]
  },
  {
   "cell_type": "markdown",
   "id": "1df2a515-2748-4974-8f27-4b1d085363c4",
   "metadata": {
    "execution": {
     "iopub.execute_input": "2022-01-24T22:54:23.000148Z",
     "iopub.status.busy": "2022-01-24T22:54:22.999144Z",
     "iopub.status.idle": "2022-01-24T22:54:23.007147Z",
     "shell.execute_reply": "2022-01-24T22:54:23.006151Z",
     "shell.execute_reply.started": "2022-01-24T22:54:23.000148Z"
    }
   },
   "source": [
    "## 3 Data Extraction\n",
    "\n",
    "1. Add is_locked 【Done】\n",
    "2. Add json format for individual levels\n",
    "3. Add empty attribute for each attribute? (For easier pd.json_normalize) Maybe shouldn't clean empty value?"
   ]
  },
  {
   "cell_type": "markdown",
   "id": "ba02f433-0d30-44d9-9021-c5c79ce5deff",
   "metadata": {
    "tags": []
   },
   "source": [
    "### 3.1 Person"
   ]
  },
  {
   "cell_type": "markdown",
   "id": "abf8b24f-bbd8-44fe-b6f8-b53780754c05",
   "metadata": {},
   "source": [
    "#### 3.1.0 Pipeline Setting"
   ]
  },
  {
   "cell_type": "code",
   "execution_count": 8,
   "id": "43bd26ed-a501-489b-a9da-5eea8730b1c1",
   "metadata": {
    "execution": {
     "iopub.execute_input": "2023-05-07T20:51:00.206192Z",
     "iopub.status.busy": "2023-05-07T20:51:00.206192Z",
     "iopub.status.idle": "2023-05-07T20:51:00.238107Z",
     "shell.execute_reply": "2023-05-07T20:51:00.236117Z",
     "shell.execute_reply.started": "2023-05-07T20:51:00.206192Z"
    },
    "jupyter": {
     "source_hidden": true
    },
    "tags": []
   },
   "outputs": [],
   "source": [
    "#####\n",
    "# Set aggregation variables\n",
    "#####\n",
    "\n",
    "curr_collname = \"person\"\n",
    "curr_lvl = \"person\"\n",
    "\n",
    "bool_filters = {\"is_deleted\": False, \"is_shadow\": False, \"is_locked\": False}\n",
    "value_filters = [daao_objs_info[curr_collname][\"filter_cond\"]]\n",
    "\n",
    "person_initRename = {\"primary_name.prefix\": \"primary_name.title\"}\n",
    "\n",
    "# set fields that need to be unwinded for complenmentary construction\n",
    "# in person extraction, we need role, other_occupations and periods_active\n",
    "# to construct all_roles\n",
    "person_fields_convert = [\n",
    "    \"roles\",\n",
    "    \"other_occupations\",\n",
    "    \"periods_active\",\n",
    "    \"alternative_names\",\n",
    "    \"trainings\",\n",
    "]\n",
    "# the following pipeline need to be implemented on the non-array object\n",
    "person_fields_newFields = {\n",
    "    \"alternative_names.display_name\": {\n",
    "        \"$trim\": {\n",
    "            \"input\": {\n",
    "                \"$concat\": [\n",
    "                    \"$alternative_names.given_names\",\n",
    "                    \" \",\n",
    "                    \"$alternative_names.family_name\",\n",
    "                ]\n",
    "            }\n",
    "        }\n",
    "    },\n",
    "    \"career_periods_1\": {\n",
    "        \"occupation\": {\"type\": \"$roles.broad_role\", \"title\": \"$roles.detailed_role\"},\n",
    "        \"coverage_range\": {\"date_range\": \"$periods_active\"},\n",
    "    },\n",
    "    \"career_periods_2\": {\n",
    "        \"occupation\": {\n",
    "            \"title\": \"$other_occupations.title\",\n",
    "            \"type\": \"$other_occupations.type\",\n",
    "        },\n",
    "        \"coverage_range\": \"$other_occupations.coverage_range\",\n",
    "    },\n",
    "    \"education_trainings\": {\n",
    "        \"organization\": {\n",
    "            \"course\": \"$trainings.course_name\",\n",
    "            \"coverage\": \"$trainings.coverage_range\",\n",
    "        }\n",
    "    },\n",
    "}\n",
    "\n",
    "# set final rename fields, the original fields will be dropped\n",
    "person_fields_finalRenames = {\n",
    "    \"longterm_roles\": \"roles\",\n",
    "    \"nla\": \"nla_id\",\n",
    "}\n",
    "# set final additional field construction\n",
    "person_fields_finalNewFields = {\n",
    "    \"ori_url\": {\"$concat\": [\"https://www.daao.org.au/bio/\", \"$slug\"]},\n",
    "    \"display_name\": {\n",
    "        \"$trim\": {\n",
    "            \"input\": {\n",
    "                \"$concat\": [\n",
    "                    \"$primary_name.given_names\",\n",
    "                    \" \",\n",
    "                    \"$primary_name.family_name\",\n",
    "                ]\n",
    "            }\n",
    "        }\n",
    "    },\n",
    "    \"career.career_periods\": {\"$setUnion\": [\"$career_periods_1\", \"$career_periods_2\"]},\n",
    "    \"data_source\": \"DAAO\",\n",
    "    \"_class_ori\": {\"$toLower\": {\"$last\": {\"$split\": [\"$_cls\", \".\"]}}},\n",
    "    \"_class\": curr_lvl,\n",
    "    \"ori_dbid\": \"$_id\",\n",
    "}\n",
    "\n",
    "#####\n",
    "# Construct fields\n",
    "#####\n",
    "# get initial project fields: all first level fields\n",
    "person_fields_initProj = daao_manip.daao_get_initProjFields(\n",
    "    daao_objs_info, curr_collname\n",
    ")\n",
    "\n",
    "#####\n",
    "# Get original renamed fields that need to be removed\n",
    "#####\n",
    "# remove all \"related\" attributes, meta attribute having underscore\n",
    "# and the initial renamed attributes\n",
    "person_initRemoval = set(\n",
    "    f.split(\".\")[0] if f.startswith(\"related\") else f\n",
    "    for f in daao_objs_info[curr_collname][\"remove_fields\"]\n",
    ")\n",
    "\n",
    "# get name of first level of field having 'coverage' prefix\n",
    "person_fields_levelUp_root = list(\n",
    "    set(\n",
    "        \".\".join(f.split(\".\")[:2])\n",
    "        for f in daao_objs_info[curr_collname][\"date_objects\"]\n",
    "        if \"coverage\" in f\n",
    "    )\n",
    ")\n",
    "# get name of first level of ARRAY field having 'coverage' prefix\n",
    "person_fields_arrayDates = set(\n",
    "    f.split(\".\", 1)[0]\n",
    "    for f in person_fields_levelUp_root\n",
    "    if f.split(\".\", 1)[0].endswith(\"s\")\n",
    ")\n",
    "# get all fields need to be unwinded\n",
    "person_fields_unwind = list(person_fields_arrayDates | set(person_fields_convert))\n",
    "\n",
    "#####\n",
    "# Construct Stages\n",
    "#####\n",
    "#\n",
    "person_InitStage_Match = gen_manip.construct_MatchStage(\n",
    "    bool_filters=bool_filters, value_filters=value_filters,\n",
    ")\n",
    "person_InitStage_Rename = gen_manip.construct_ReconstructFieldsStage(\n",
    "    rename_pairs=person_initRename\n",
    ")\n",
    "person_InitStage_Remove = gen_manip.construct_FinalProjectionStage(\n",
    "    remove_list=person_initRemoval\n",
    ")\n",
    "person_Stage2_Unwinds = gen_manip.construct_unwindStage(person_fields_unwind)\n",
    "person_Stage3_LevelUpDate = daao_manip.daao_construct_levelUpDateStage(\n",
    "    daao_objs_info[curr_collname][\"date_objects\"]\n",
    ")\n",
    "person_Stage4_AddNewFields = [{\"$set\": person_fields_newFields}]\n",
    "person_Stage5_Group = daao_manip.daao_construct_groupStage(\n",
    "    tuple(\n",
    "        list(person_fields_initProj)\n",
    "        + [f.split(\".\")[0] for f in person_fields_newFields.keys()]\n",
    "    ),\n",
    "    person_fields_unwind + [f.split(\".\")[0] for f in person_fields_newFields.keys()],\n",
    ")\n",
    "person_FinalStage_Reconstruct = gen_manip.construct_ReconstructFieldsStage(\n",
    "    rename_pairs=person_fields_finalRenames,\n",
    "    complex_action_pairs=person_fields_finalNewFields,\n",
    "    drop_fields=[\"career_periods_1\", \"career_periods_2\", \"trainings\", \"slug\", \"_cls\",],\n",
    ")"
   ]
  },
  {
   "cell_type": "code",
   "execution_count": 9,
   "id": "932a2949-03ff-48c3-950d-77047f6552f6",
   "metadata": {
    "execution": {
     "iopub.execute_input": "2023-05-07T20:51:00.241099Z",
     "iopub.status.busy": "2023-05-07T20:51:00.240101Z",
     "iopub.status.idle": "2023-05-07T20:51:00.267032Z",
     "shell.execute_reply": "2023-05-07T20:51:00.266032Z",
     "shell.execute_reply.started": "2023-05-07T20:51:00.241099Z"
    },
    "jupyter": {
     "source_hidden": true
    },
    "scrolled": true,
    "tags": []
   },
   "outputs": [
    {
     "name": "stdout",
     "output_type": "stream",
     "text": [
      "[ { '$match': { '_cls': {'$eq': 'VersionedDocument.XParty.Person'},\n",
      "                'is_deleted': False,\n",
      "                'is_locked': False,\n",
      "                'is_shadow': False}},\n",
      "  {'$addFields': {'primary_name.prefix': '$primary_name.title'}},\n",
      "  {'$project': {'primary_name.title': 0}},\n",
      "  { '$project': { '_authors': 0,\n",
      "                  '_legacy_bio_id': 0,\n",
      "                  '_types': 0,\n",
      "                  '_update_timestamp': 0,\n",
      "                  'alternative_names._cls': 0,\n",
      "                  'alternative_names._types': 0,\n",
      "                  'arrivals._cls': 0,\n",
      "                  'arrivals._types': 0,\n",
      "                  'arrivals.date._cls': 0,\n",
      "                  'arrivals.date._types': 0,\n",
      "                  'arrivals.date.is_circa': 0,\n",
      "                  'arrivals.date.precision': 0,\n",
      "                  'biography._cls': 0,\n",
      "                  'biography._types': 0,\n",
      "                  'birth._cls': 0,\n",
      "                  'birth._types': 0,\n",
      "                  'birth.coverage._cls': 0,\n",
      "                  'birth.coverage._types': 0,\n",
      "                  'birth.coverage.date._cls': 0,\n",
      "                  'birth.coverage.date._types': 0,\n",
      "                  'birth.coverage.date.is_circa': 0,\n",
      "                  'birth.coverage.date.precision': 0,\n",
      "                  'death._cls': 0,\n",
      "                  'death._types': 0,\n",
      "                  'death.coverage._cls': 0,\n",
      "                  'death.coverage._types': 0,\n",
      "                  'death.coverage.date._cls': 0,\n",
      "                  'death.coverage.date._types': 0,\n",
      "                  'death.coverage.date.is_circa': 0,\n",
      "                  'death.coverage.date.precision': 0,\n",
      "                  'heritage_countries._cls': 0,\n",
      "                  'heritage_countries._types': 0,\n",
      "                  'language_groups._cls': 0,\n",
      "                  'language_groups._types': 0,\n",
      "                  'locked_biographies._cls': 0,\n",
      "                  'locked_biographies._types': 0,\n",
      "                  'other_occupations._cls': 0,\n",
      "                  'other_occupations._types': 0,\n",
      "                  'other_occupations.coverage_range._cls': 0,\n",
      "                  'other_occupations.coverage_range._types': 0,\n",
      "                  'other_occupations.coverage_range.date_range._cls': 0,\n",
      "                  'other_occupations.coverage_range.date_range._types': 0,\n",
      "                  'other_occupations.coverage_range.date_range.end._cls': 0,\n",
      "                  'other_occupations.coverage_range.date_range.end._types': 0,\n",
      "                  'other_occupations.coverage_range.date_range.end.is_circa': 0,\n",
      "                  'other_occupations.coverage_range.date_range.end.precision': 0,\n",
      "                  'other_occupations.coverage_range.date_range.start._cls': 0,\n",
      "                  'other_occupations.coverage_range.date_range.start._types': 0,\n",
      "                  'other_occupations.coverage_range.date_range.start.is_circa': 0,\n",
      "                  'other_occupations.coverage_range.date_range.start.precision': 0,\n",
      "                  'periods_active._cls': 0,\n",
      "                  'periods_active._types': 0,\n",
      "                  'periods_active.end._cls': 0,\n",
      "                  'periods_active.end._types': 0,\n",
      "                  'periods_active.end.is_circa': 0,\n",
      "                  'periods_active.end.precision': 0,\n",
      "                  'periods_active.start._cls': 0,\n",
      "                  'periods_active.start._types': 0,\n",
      "                  'periods_active.start.is_circa': 0,\n",
      "                  'periods_active.start.precision': 0,\n",
      "                  'primary_name._cls': 0,\n",
      "                  'primary_name._types': 0,\n",
      "                  'related_collections': 0,\n",
      "                  'related_events': 0,\n",
      "                  'related_people': 0,\n",
      "                  'related_person_groups': 0,\n",
      "                  'related_recognitions': 0,\n",
      "                  'related_stub_people': 0,\n",
      "                  'related_stub_person_groups': 0,\n",
      "                  'related_works': 0,\n",
      "                  'residences._cls': 0,\n",
      "                  'residences._types': 0,\n",
      "                  'residences.coverage_range._cls': 0,\n",
      "                  'residences.coverage_range._types': 0,\n",
      "                  'residences.coverage_range.date_range._cls': 0,\n",
      "                  'residences.coverage_range.date_range._types': 0,\n",
      "                  'residences.coverage_range.date_range.end._cls': 0,\n",
      "                  'residences.coverage_range.date_range.end._types': 0,\n",
      "                  'residences.coverage_range.date_range.end.is_circa': 0,\n",
      "                  'residences.coverage_range.date_range.end.precision': 0,\n",
      "                  'residences.coverage_range.date_range.start._cls': 0,\n",
      "                  'residences.coverage_range.date_range.start._types': 0,\n",
      "                  'residences.coverage_range.date_range.start.is_circa': 0,\n",
      "                  'residences.coverage_range.date_range.start.precision': 0,\n",
      "                  'roles._cls': 0,\n",
      "                  'roles._types': 0,\n",
      "                  'trainings._cls': 0,\n",
      "                  'trainings._types': 0,\n",
      "                  'trainings.coverage_range._cls': 0,\n",
      "                  'trainings.coverage_range._types': 0,\n",
      "                  'trainings.coverage_range.date_range._cls': 0,\n",
      "                  'trainings.coverage_range.date_range._types': 0,\n",
      "                  'trainings.coverage_range.date_range.end._cls': 0,\n",
      "                  'trainings.coverage_range.date_range.end._types': 0,\n",
      "                  'trainings.coverage_range.date_range.end.is_circa': 0,\n",
      "                  'trainings.coverage_range.date_range.end.precision': 0,\n",
      "                  'trainings.coverage_range.date_range.start._cls': 0,\n",
      "                  'trainings.coverage_range.date_range.start._types': 0,\n",
      "                  'trainings.coverage_range.date_range.start.is_circa': 0,\n",
      "                  'trainings.coverage_range.date_range.start.precision': 0}},\n",
      "  {'$unwind': {'path': '$trainings', 'preserveNullAndEmptyArrays': True}},\n",
      "  { '$unwind': { 'path': '$other_occupations',\n",
      "                 'preserveNullAndEmptyArrays': True}},\n",
      "  {'$unwind': {'path': '$periods_active', 'preserveNullAndEmptyArrays': True}},\n",
      "  {'$unwind': {'path': '$residences', 'preserveNullAndEmptyArrays': True}},\n",
      "  {'$unwind': {'path': '$roles', 'preserveNullAndEmptyArrays': True}},\n",
      "  { '$unwind': { 'path': '$alternative_names',\n",
      "                 'preserveNullAndEmptyArrays': True}},\n",
      "  { '$addFields': { 'arrivals.date': '$arrivals.date._date',\n",
      "                    'birth.coverage.date': '$birth.coverage.date._date',\n",
      "                    'death.coverage.date': '$death.coverage.date._date',\n",
      "                    'other_occupations.coverage_range.date_range.date_end': '$other_occupations.coverage_range.date_range.end._date',\n",
      "                    'other_occupations.coverage_range.date_range.date_start': '$other_occupations.coverage_range.date_range.start._date',\n",
      "                    'periods_active.date_end': '$periods_active.end._date',\n",
      "                    'periods_active.date_start': '$periods_active.start._date',\n",
      "                    'residences.coverage_range.date_range.date_end': '$residences.coverage_range.date_range.end._date',\n",
      "                    'residences.coverage_range.date_range.date_start': '$residences.coverage_range.date_range.start._date',\n",
      "                    'trainings.coverage_range.date_range.date_end': '$trainings.coverage_range.date_range.end._date',\n",
      "                    'trainings.coverage_range.date_range.date_start': '$trainings.coverage_range.date_range.start._date'}},\n",
      "  { '$project': { 'other_occupations.coverage_range.date_range.end': 0,\n",
      "                  'other_occupations.coverage_range.date_range.start': 0,\n",
      "                  'periods_active.end': 0,\n",
      "                  'periods_active.start': 0,\n",
      "                  'residences.coverage_range.date_range.end': 0,\n",
      "                  'residences.coverage_range.date_range.start': 0,\n",
      "                  'trainings.coverage_range.date_range.end': 0,\n",
      "                  'trainings.coverage_range.date_range.start': 0}},\n",
      "  { '$set': { 'alternative_names.display_name': { '$trim': { 'input': { '$concat': [ '$alternative_names.given_names',\n",
      "                                                                                     ' ',\n",
      "                                                                                     '$alternative_names.family_name']}}},\n",
      "              'career_periods_1': { 'coverage_range': { 'date_range': '$periods_active'},\n",
      "                                    'occupation': { 'title': '$roles.detailed_role',\n",
      "                                                    'type': '$roles.broad_role'}},\n",
      "              'career_periods_2': { 'coverage_range': '$other_occupations.coverage_range',\n",
      "                                    'occupation': { 'title': '$other_occupations.title',\n",
      "                                                    'type': '$other_occupations.type'}},\n",
      "              'education_trainings': { 'organization': { 'course': '$trainings.course_name',\n",
      "                                                         'coverage': '$trainings.coverage_range'}}}},\n",
      "  { '$group': { '_cls': {'$first': '$_cls'},\n",
      "                '_id': '$_id',\n",
      "                'alternative_names': {'$addToSet': '$alternative_names'},\n",
      "                'arrivals': {'$first': '$arrivals'},\n",
      "                'biography': {'$first': '$biography'},\n",
      "                'birth': {'$first': '$birth'},\n",
      "                'career_periods_1': {'$addToSet': '$career_periods_1'},\n",
      "                'career_periods_2': {'$addToSet': '$career_periods_2'},\n",
      "                'contributors': {'$first': '$contributors'},\n",
      "                'copyright_agents': {'$first': '$copyright_agents'},\n",
      "                'cultural_heritages': {'$first': '$cultural_heritages'},\n",
      "                'date_created': {'$first': '$date_created'},\n",
      "                'date_modified': {'$first': '$date_modified'},\n",
      "                'death': {'$first': '$death'},\n",
      "                'dreamings': {'$first': '$dreamings'},\n",
      "                'editing_complete': {'$first': '$editing_complete'},\n",
      "                'education_trainings': {'$addToSet': '$education_trainings'},\n",
      "                'gender': {'$first': '$gender'},\n",
      "                'heritage_countries': {'$first': '$heritage_countries'},\n",
      "                'indigenous_notes': {'$first': '$indigenous_notes'},\n",
      "                'is_deleted': {'$first': '$is_deleted'},\n",
      "                'is_featured': {'$first': '$is_featured'},\n",
      "                'is_indigenous': {'$first': '$is_indigenous'},\n",
      "                'is_locked': {'$first': '$is_locked'},\n",
      "                'is_primary': {'$first': '$is_primary'},\n",
      "                'is_shadow': {'$first': '$is_shadow'},\n",
      "                'language_groups': {'$first': '$language_groups'},\n",
      "                'languages': {'$first': '$languages'},\n",
      "                'legacy_urls': {'$first': '$legacy_urls'},\n",
      "                'locked_biographies': {'$first': '$locked_biographies'},\n",
      "                'nla_id': {'$first': '$nla_id'},\n",
      "                'other_occupations': {'$addToSet': '$other_occupations'},\n",
      "                'periods_active': {'$addToSet': '$periods_active'},\n",
      "                'portrait_images': {'$first': '$portrait_images'},\n",
      "                'primary_name': {'$first': '$primary_name'},\n",
      "                'record_status': {'$first': '$record_status'},\n",
      "                'references': {'$first': '$references'},\n",
      "                'residences': {'$addToSet': '$residences'},\n",
      "                'roles': {'$addToSet': '$roles'},\n",
      "                'see_alsos': {'$first': '$see_alsos'},\n",
      "                'slug': {'$first': '$slug'},\n",
      "                'source_database_ids': {'$first': '$source_database_ids'},\n",
      "                'sources': {'$first': '$sources'},\n",
      "                'summary': {'$first': '$summary'},\n",
      "                'tags': {'$first': '$tags'},\n",
      "                'trainings': {'$addToSet': '$trainings'},\n",
      "                'urls': {'$first': '$urls'}}},\n",
      "  { '$addFields': { '_class': 'person',\n",
      "                    '_class_ori': { '$toLower': { '$last': { '$split': [ '$_cls',\n",
      "                                                                         '.']}}},\n",
      "                    'career.career_periods': { '$setUnion': [ '$career_periods_1',\n",
      "                                                              '$career_periods_2']},\n",
      "                    'data_source': 'DAAO',\n",
      "                    'display_name': { '$trim': { 'input': { '$concat': [ '$primary_name.given_names',\n",
      "                                                                         ' ',\n",
      "                                                                         '$primary_name.family_name']}}},\n",
      "                    'longterm_roles': '$roles',\n",
      "                    'nla': '$nla_id',\n",
      "                    'ori_dbid': '$_id',\n",
      "                    'ori_url': { '$concat': [ 'https://www.daao.org.au/bio/',\n",
      "                                              '$slug']}}},\n",
      "  { '$project': { '_cls': 0,\n",
      "                  'career_periods_1': 0,\n",
      "                  'career_periods_2': 0,\n",
      "                  'nla_id': 0,\n",
      "                  'roles': 0,\n",
      "                  'slug': 0,\n",
      "                  'trainings': 0}}]\n"
     ]
    }
   ],
   "source": [
    "#####\n",
    "#\n",
    "# Construct person extraction pipeline\n",
    "#\n",
    "#####\n",
    "\n",
    "person_agg_pipeline = (\n",
    "    person_InitStage_Match\n",
    "    + person_InitStage_Rename\n",
    "    + person_InitStage_Remove\n",
    "    + person_Stage2_Unwinds\n",
    "    + person_Stage3_LevelUpDate\n",
    "    + person_Stage4_AddNewFields\n",
    "    + person_Stage5_Group\n",
    "    + person_FinalStage_Reconstruct\n",
    ")\n",
    "\n",
    "pp.pprint(person_agg_pipeline)"
   ]
  },
  {
   "cell_type": "markdown",
   "id": "25941993-ffaa-4393-9d4c-3bcc763b3e3f",
   "metadata": {
    "tags": []
   },
   "source": [
    "#### 3.1.1 Extracton & Loading\n",
    "\n",
    "【To Do】<br>\n",
    "It's so silly to iterate all values twice.<br>\n",
    "2 bottlenecks:<br>\n",
    "1. How shall we get the proper attributes in an unknown structure object that has more than 2 levels? \n",
    "    - Here I can ignore the index of array.     \n",
    "2. How shall we known lookup dbref without iteration.\n",
    "    - Here I need to iterate all stuffs one by one. Is there any way that can get all dbref in one shoot?"
   ]
  },
  {
   "cell_type": "code",
   "execution_count": 10,
   "id": "38096b33-cc4c-470a-826e-9fd7d1601308",
   "metadata": {
    "execution": {
     "iopub.execute_input": "2023-05-07T20:51:00.270027Z",
     "iopub.status.busy": "2023-05-07T20:51:00.269026Z",
     "iopub.status.idle": "2023-05-07T20:57:15.726746Z",
     "shell.execute_reply": "2023-05-07T20:57:15.724752Z",
     "shell.execute_reply.started": "2023-05-07T20:51:00.270027Z"
    },
    "jupyter": {
     "source_hidden": true
    },
    "scrolled": true,
    "tags": []
   },
   "outputs": [
    {
     "name": "stderr",
     "output_type": "stream",
     "text": [
      "100%|████████████████████████████████████████████████████████████████████████████| 17365/17365 [05:53<00:00, 49.17it/s]\n"
     ]
    }
   ],
   "source": [
    "person_collection = daao_meta.daao_db.get_collection(\n",
    "    daao_objs_info[curr_collname][\"collection_name\"]\n",
    ")\n",
    "ori_individuals = []\n",
    "lookup_individuals = []\n",
    "\n",
    "# clear all person records from DAAO\n",
    "daao_meta.acde_db[curr_lvl].delete_many({\"data_source\": \"DAAO\"})\n",
    "\n",
    "for individual in tqdm(\n",
    "    person_collection.aggregate(person_agg_pipeline, allowDiskUse=True,),\n",
    "    total=person_collection.count_documents(person_InitStage_Match[0][\"$match\"]),\n",
    "    position=0,\n",
    "    leave=True,\n",
    "):\n",
    "    # get revision number\n",
    "    version_no = daao_manip.daao_get_revision_no(\n",
    "        daao_meta.daao_db,\n",
    "        daao_objs_info[curr_collname][\"collection_name\"],\n",
    "        individual.get(\"_id\"),\n",
    "    )\n",
    "    individual.update(version_no)\n",
    "    # clean biography text,\n",
    "    if individual.get(\"summary\"):\n",
    "        ori_text = individual[\"summary\"]\n",
    "        cleaned_text = daao_jp.person_bioTextCleansing(ori_text)\n",
    "        individual[\"summary\"] = cleaned_text\n",
    "    if individual.get(\"biography\") and individual[\"biography\"].get(\"text\"):\n",
    "        ori_text = individual[\"biography\"][\"text\"]\n",
    "        cleaned_text = daao_jp.person_bioTextCleansing(ori_text)\n",
    "        individual[\"biography\"][\"text\"] = daao_jp.person_bioTextCleansing(ori_text)\n",
    "    # # store original record\n",
    "    # ori_individuals.append(individual)\n",
    "    lookup_indv = deepcopy(individual)\n",
    "    ##########\n",
    "    # look up all/the other DBRefs\n",
    "    # There're 2 solutions for looking up the DBRefs\n",
    "    # 1. Scan the full record out of MongoDB and look up all existing DBRefs dynamicly\n",
    "    # 2. Hard code all DBRefs in MongoDB aggregation pipelines.\n",
    "    #    This way can assign specific projections in each lookup, but we\n",
    "    #    need to clearly understand all records.\n",
    "    # For local single thread, it's acceptable to use Method1.\n",
    "    # But it would be better to update to Method2 after migrating to Cloud\n",
    "    ##########\n",
    "    lookup_indv = daao_manip.daao_get_dbrefInfo(\n",
    "        lookup_indv, lookupProj_info, db=daao_meta.daao_db\n",
    "    )\n",
    "    # we don't need _id for data loading\n",
    "    lookup_indv.pop(\"_id\")\n",
    "    # remove all attributes having empty values\n",
    "    lookup_indv = gen_jp.clean_empty_values(lookup_indv)\n",
    "    # # store final record\n",
    "    # lookup_individuals.append(lookup_indv)\n",
    "    # insert final record to acde_db\n",
    "    daao_meta.acde_db[curr_lvl].insert_one(lookup_indv)\n",
    "    # if t.n == 100:\n",
    "    #     break"
   ]
  },
  {
   "cell_type": "markdown",
   "id": "6287daad-73ac-4328-bc3b-7bd889be66da",
   "metadata": {
    "tags": []
   },
   "source": [
    "### 3.2 Organization (PersonGroup)"
   ]
  },
  {
   "cell_type": "markdown",
   "id": "ee21afcf-538c-48c6-ac78-80efd82bb75a",
   "metadata": {},
   "source": [
    "#### 3.2.0 Pipeline Setting"
   ]
  },
  {
   "cell_type": "code",
   "execution_count": 11,
   "id": "fe2846de-ae5a-4a7a-80d8-b06d620f6738",
   "metadata": {
    "execution": {
     "iopub.execute_input": "2023-05-07T20:57:15.729738Z",
     "iopub.status.busy": "2023-05-07T20:57:15.728742Z",
     "iopub.status.idle": "2023-05-07T20:57:15.757666Z",
     "shell.execute_reply": "2023-05-07T20:57:15.756668Z",
     "shell.execute_reply.started": "2023-05-07T20:57:15.729738Z"
    },
    "jupyter": {
     "source_hidden": true
    },
    "tags": []
   },
   "outputs": [],
   "source": [
    "#####\n",
    "# Set aggregation variables\n",
    "#####\n",
    "\n",
    "curr_collname = \"personGroup\"\n",
    "curr_lvl = \"organization\"\n",
    "\n",
    "bool_filters = {\"is_deleted\": False, \"is_shadow\": False, \"is_locked\": False}\n",
    "value_filters = [daao_objs_info[curr_collname][\"filter_cond\"]]\n",
    "\n",
    "org_initRename = {}\n",
    "\n",
    "# set fields that need to be unwinded for complenmentary construction\n",
    "# in personGroup extraction, we need role, other_occupations and periods_active\n",
    "# to construct operation\n",
    "org_fields_convert = [\n",
    "    \"roles\",\n",
    "    \"other_occupations\",\n",
    "    \"periods_active\",\n",
    "    \"residences\",\n",
    "]\n",
    "# the following pipeline need to be implemented on the non-array object\n",
    "org_fields_newFields = {\n",
    "    \"operation_periods_1\": {\n",
    "        \"function\": {\"title\": \"$roles.detailed_role\", \"type\": \"$roles.broad_role\"},\n",
    "        \"coverage_range\": \"$periods_active\",\n",
    "    },\n",
    "    \"operation_periods_2\": {\n",
    "        \"function\": {\n",
    "            \"title\": \"$other_occupations.title\",\n",
    "            \"type\": \"$other_occupations.type\",\n",
    "        },\n",
    "        \"coverage_range\": \"$other_occupations.coverage_range\",\n",
    "    },\n",
    "}\n",
    "\n",
    "# set final rename fields, the original fields will be dropped\n",
    "org_fields_finalRenames = {\n",
    "    \"longterm_roles\": \"roles\",\n",
    "    \"nla\": \"nla_id\",\n",
    "    \"locations\": \"residences\",\n",
    "}\n",
    "# set final additional field construction\n",
    "org_fields_finalNewFields = {\n",
    "    \"ori_url\": {\"$concat\": [\"https://www.daao.org.au/bio/group/\", \"$slug\"]},\n",
    "    \"data_source\": \"DAAO\",\n",
    "    \"_class_ori\": {\"$toLower\": {\"$last\": {\"$split\": [\"$_cls\", \".\"]}}},\n",
    "    \"_class\": curr_lvl,\n",
    "    \"ori_dbid\": \"$_id\",\n",
    "    \"operation.operation_periods\": {\n",
    "        \"$setUnion\": [\"$operation_periods_1\", \"$operation_periods_2\"]\n",
    "    },\n",
    "    \"types\": {\"$setUnion\": [\"$type\", \"$types\"]},\n",
    "    \"ori_dbid\": \"_id\",\n",
    "}\n",
    "\n",
    "#####\n",
    "# Construct fields\n",
    "#####\n",
    "# get initial project fields: all first level fields\n",
    "org_fields_initProj = daao_manip.daao_get_initProjFields(daao_objs_info, curr_collname)\n",
    "\n",
    "#####\n",
    "# Get original renamed fields that need to be removed\n",
    "#####\n",
    "# remove all \"related\" attributes, meta attribute having underscore\n",
    "# and the initial renamed attributes\n",
    "org_initRemoval = set(\n",
    "    f.split(\".\")[0] if f.startswith(\"related\") else f\n",
    "    for f in daao_objs_info[curr_collname][\"remove_fields\"]\n",
    ") | set(v.strip(\"$\") for v in org_initRename.values())\n",
    "\n",
    "# get name of first level of field having 'coverage' prefix\n",
    "org_fields_levelUp_root = list(\n",
    "    set(\n",
    "        \".\".join(f.split(\".\")[:2])\n",
    "        for f in daao_objs_info[curr_collname][\"date_objects\"]\n",
    "        if \"coverage\" in f\n",
    "    )\n",
    ")\n",
    "# get name of first level of ARRAY field having 'coverage' prefix\n",
    "org_fields_arrayDates = set(\n",
    "    f.split(\".\", 1)[0]\n",
    "    for f in org_fields_levelUp_root\n",
    "    if f.split(\".\", 1)[0].endswith(\"s\")\n",
    ")\n",
    "# get all fields need to be unwinded\n",
    "org_fields_unwind = list(org_fields_arrayDates | set(org_fields_convert))\n",
    "\n",
    "#####\n",
    "# Construct Stages\n",
    "#####\n",
    "#\n",
    "org_InitStage_Match = gen_manip.construct_MatchStage(\n",
    "    bool_filters=bool_filters, value_filters=value_filters,\n",
    ")\n",
    "org_InitStage_Rename = [{\"$addFields\": org_initRename}]\n",
    "org_InitStage_Remove = gen_manip.construct_FinalProjectionStage(\n",
    "    remove_list=org_initRemoval\n",
    ")\n",
    "org_Stage2_Unwinds = gen_manip.construct_unwindStage(org_fields_unwind)\n",
    "org_Stage3_LevelUpDate = daao_manip.daao_construct_levelUpDateStage(\n",
    "    daao_objs_info[curr_collname][\"date_objects\"]\n",
    ")\n",
    "org_Stage4_AddNewFields = [{\"$set\": org_fields_newFields}]\n",
    "org_Stage5_Group = daao_manip.daao_construct_groupStage(\n",
    "    tuple(\n",
    "        list(org_fields_initProj)\n",
    "        + [f.split(\".\")[0] for f in org_fields_newFields.keys()]\n",
    "    ),\n",
    "    org_fields_unwind + [f.split(\".\")[0] for f in org_fields_newFields.keys()],\n",
    ")\n",
    "org_FinalStage_Reconstruct = gen_manip.construct_ReconstructFieldsStage(\n",
    "    rename_pairs=org_fields_finalRenames,\n",
    "    complex_action_pairs=org_fields_finalNewFields,\n",
    "    drop_fields=[\"operation_periods_1\", \"operation_periods_2\", \"type\", \"slug\", \"_cls\"],\n",
    ")"
   ]
  },
  {
   "cell_type": "code",
   "execution_count": 12,
   "id": "a594e914-942b-473d-928a-29af97242c08",
   "metadata": {
    "execution": {
     "iopub.execute_input": "2023-05-07T20:57:15.764648Z",
     "iopub.status.busy": "2023-05-07T20:57:15.763649Z",
     "iopub.status.idle": "2023-05-07T20:57:15.789580Z",
     "shell.execute_reply": "2023-05-07T20:57:15.788582Z",
     "shell.execute_reply.started": "2023-05-07T20:57:15.764648Z"
    },
    "jupyter": {
     "source_hidden": true
    },
    "scrolled": true,
    "tags": []
   },
   "outputs": [
    {
     "name": "stdout",
     "output_type": "stream",
     "text": [
      "[ { '$match': { '_cls': {'$eq': 'VersionedDocument.XParty.PersonGroup'},\n",
      "                'is_deleted': False,\n",
      "                'is_locked': False,\n",
      "                'is_shadow': False}},\n",
      "  {'$addFields': {}},\n",
      "  { '$project': { '_authors': 0,\n",
      "                  '_legacy_bio_id': 0,\n",
      "                  '_types': 0,\n",
      "                  '_update_timestamp': 0,\n",
      "                  'biography._cls': 0,\n",
      "                  'biography._types': 0,\n",
      "                  'locked_biographies._cls': 0,\n",
      "                  'locked_biographies._types': 0,\n",
      "                  'other_occupations._cls': 0,\n",
      "                  'other_occupations._types': 0,\n",
      "                  'periods_active._cls': 0,\n",
      "                  'periods_active._types': 0,\n",
      "                  'periods_active.end._cls': 0,\n",
      "                  'periods_active.end._types': 0,\n",
      "                  'periods_active.end.is_circa': 0,\n",
      "                  'periods_active.end.precision': 0,\n",
      "                  'periods_active.start._cls': 0,\n",
      "                  'periods_active.start._types': 0,\n",
      "                  'periods_active.start.is_circa': 0,\n",
      "                  'periods_active.start.precision': 0,\n",
      "                  'related_collections': 0,\n",
      "                  'related_events': 0,\n",
      "                  'related_recognitions': 0,\n",
      "                  'related_stub_people': 0,\n",
      "                  'related_stub_person_groups': 0,\n",
      "                  'related_works': 0,\n",
      "                  'residences._cls': 0,\n",
      "                  'residences._types': 0,\n",
      "                  'residences.coverage_range._cls': 0,\n",
      "                  'residences.coverage_range._types': 0,\n",
      "                  'residences.coverage_range.date_range._cls': 0,\n",
      "                  'residences.coverage_range.date_range._types': 0,\n",
      "                  'residences.coverage_range.date_range.end._cls': 0,\n",
      "                  'residences.coverage_range.date_range.end._types': 0,\n",
      "                  'residences.coverage_range.date_range.end.is_circa': 0,\n",
      "                  'residences.coverage_range.date_range.end.precision': 0,\n",
      "                  'residences.coverage_range.date_range.start._cls': 0,\n",
      "                  'residences.coverage_range.date_range.start._types': 0,\n",
      "                  'residences.coverage_range.date_range.start.is_circa': 0,\n",
      "                  'residences.coverage_range.date_range.start.precision': 0,\n",
      "                  'roles._cls': 0,\n",
      "                  'roles._types': 0}},\n",
      "  {'$unwind': {'path': '$trainings', 'preserveNullAndEmptyArrays': True}},\n",
      "  { '$unwind': { 'path': '$other_occupations',\n",
      "                 'preserveNullAndEmptyArrays': True}},\n",
      "  {'$unwind': {'path': '$periods_active', 'preserveNullAndEmptyArrays': True}},\n",
      "  {'$unwind': {'path': '$residences', 'preserveNullAndEmptyArrays': True}},\n",
      "  {'$unwind': {'path': '$roles', 'preserveNullAndEmptyArrays': True}},\n",
      "  { '$addFields': { 'arrivals.date': '$arrivals.date._date',\n",
      "                    'birth.coverage.date': '$birth.coverage.date._date',\n",
      "                    'death.coverage.date': '$death.coverage.date._date',\n",
      "                    'other_occupations.coverage_range.date_range.date_end': '$other_occupations.coverage_range.date_range.end._date',\n",
      "                    'other_occupations.coverage_range.date_range.date_start': '$other_occupations.coverage_range.date_range.start._date',\n",
      "                    'periods_active.date_end': '$periods_active.end._date',\n",
      "                    'periods_active.date_start': '$periods_active.start._date',\n",
      "                    'residences.coverage_range.date_range.date_end': '$residences.coverage_range.date_range.end._date',\n",
      "                    'residences.coverage_range.date_range.date_start': '$residences.coverage_range.date_range.start._date',\n",
      "                    'trainings.coverage_range.date_range.date_end': '$trainings.coverage_range.date_range.end._date',\n",
      "                    'trainings.coverage_range.date_range.date_start': '$trainings.coverage_range.date_range.start._date'}},\n",
      "  { '$project': { 'other_occupations.coverage_range.date_range.end': 0,\n",
      "                  'other_occupations.coverage_range.date_range.start': 0,\n",
      "                  'periods_active.end': 0,\n",
      "                  'periods_active.start': 0,\n",
      "                  'residences.coverage_range.date_range.end': 0,\n",
      "                  'residences.coverage_range.date_range.start': 0,\n",
      "                  'trainings.coverage_range.date_range.end': 0,\n",
      "                  'trainings.coverage_range.date_range.start': 0}},\n",
      "  { '$set': { 'operation_periods_1': { 'coverage_range': '$periods_active',\n",
      "                                       'function': { 'title': '$roles.detailed_role',\n",
      "                                                     'type': '$roles.broad_role'}},\n",
      "              'operation_periods_2': { 'coverage_range': '$other_occupations.coverage_range',\n",
      "                                       'function': { 'title': '$other_occupations.title',\n",
      "                                                     'type': '$other_occupations.type'}}}},\n",
      "  { '$group': { '_cls': {'$first': '$_cls'},\n",
      "                '_id': '$_id',\n",
      "                'alternative_names': {'$first': '$alternative_names'},\n",
      "                'arrivals': {'$first': '$arrivals'},\n",
      "                'biography': {'$first': '$biography'},\n",
      "                'birth': {'$first': '$birth'},\n",
      "                'contributors': {'$first': '$contributors'},\n",
      "                'copyright_agents': {'$first': '$copyright_agents'},\n",
      "                'date_created': {'$first': '$date_created'},\n",
      "                'date_modified': {'$first': '$date_modified'},\n",
      "                'death': {'$first': '$death'},\n",
      "                'editing_complete': {'$first': '$editing_complete'},\n",
      "                'is_deleted': {'$first': '$is_deleted'},\n",
      "                'is_featured': {'$first': '$is_featured'},\n",
      "                'is_locked': {'$first': '$is_locked'},\n",
      "                'is_primary': {'$first': '$is_primary'},\n",
      "                'is_shadow': {'$first': '$is_shadow'},\n",
      "                'legacy_urls': {'$first': '$legacy_urls'},\n",
      "                'locked_biographies': {'$first': '$locked_biographies'},\n",
      "                'nla_id': {'$first': '$nla_id'},\n",
      "                'operation_periods_1': {'$addToSet': '$operation_periods_1'},\n",
      "                'operation_periods_2': {'$addToSet': '$operation_periods_2'},\n",
      "                'other_occupations': {'$addToSet': '$other_occupations'},\n",
      "                'periods_active': {'$addToSet': '$periods_active'},\n",
      "                'portrait_images': {'$first': '$portrait_images'},\n",
      "                'primary_name': {'$first': '$primary_name'},\n",
      "                'record_status': {'$first': '$record_status'},\n",
      "                'references': {'$first': '$references'},\n",
      "                'residences': {'$addToSet': '$residences'},\n",
      "                'roles': {'$addToSet': '$roles'},\n",
      "                'see_alsos': {'$first': '$see_alsos'},\n",
      "                'slug': {'$first': '$slug'},\n",
      "                'source_database_ids': {'$first': '$source_database_ids'},\n",
      "                'sources': {'$first': '$sources'},\n",
      "                'summary': {'$first': '$summary'},\n",
      "                'tags': {'$first': '$tags'},\n",
      "                'trainings': {'$addToSet': '$trainings'},\n",
      "                'type': {'$first': '$type'},\n",
      "                'types': {'$first': '$types'},\n",
      "                'urls': {'$first': '$urls'}}},\n",
      "  { '$addFields': { '_class': 'organization',\n",
      "                    '_class_ori': { '$toLower': { '$last': { '$split': [ '$_cls',\n",
      "                                                                         '.']}}},\n",
      "                    'data_source': 'DAAO',\n",
      "                    'locations': '$residences',\n",
      "                    'longterm_roles': '$roles',\n",
      "                    'nla': '$nla_id',\n",
      "                    'operation.operation_periods': { '$setUnion': [ '$operation_periods_1',\n",
      "                                                                    '$operation_periods_2']},\n",
      "                    'ori_dbid': '_id',\n",
      "                    'ori_url': { '$concat': [ 'https://www.daao.org.au/bio/group/',\n",
      "                                              '$slug']},\n",
      "                    'types': {'$setUnion': ['$type', '$types']}}},\n",
      "  { '$project': { '_cls': 0,\n",
      "                  'nla_id': 0,\n",
      "                  'operation_periods_1': 0,\n",
      "                  'operation_periods_2': 0,\n",
      "                  'residences': 0,\n",
      "                  'roles': 0,\n",
      "                  'slug': 0,\n",
      "                  'type': 0}}]\n"
     ]
    }
   ],
   "source": [
    "#####\n",
    "#\n",
    "# Check personGroup extraction pipeline\n",
    "#\n",
    "#####\n",
    "org_agg_pipeline = (\n",
    "    org_InitStage_Match\n",
    "    + org_InitStage_Rename\n",
    "    + org_InitStage_Remove\n",
    "    + org_Stage2_Unwinds\n",
    "    + org_Stage3_LevelUpDate\n",
    "    + org_Stage4_AddNewFields\n",
    "    + org_Stage5_Group\n",
    "    + org_FinalStage_Reconstruct\n",
    ")\n",
    "pp.pprint(org_agg_pipeline)"
   ]
  },
  {
   "cell_type": "markdown",
   "id": "1a8d844f-525d-4a67-b14d-d79016cbec4f",
   "metadata": {
    "tags": []
   },
   "source": [
    "#### 3.2.1 Extracton & Loading"
   ]
  },
  {
   "cell_type": "code",
   "execution_count": 13,
   "id": "5fa63194-53e8-442f-99fb-3bd8396bdcd8",
   "metadata": {
    "execution": {
     "iopub.execute_input": "2023-05-07T20:57:15.794566Z",
     "iopub.status.busy": "2023-05-07T20:57:15.793568Z",
     "iopub.status.idle": "2023-05-07T20:57:27.154866Z",
     "shell.execute_reply": "2023-05-07T20:57:27.153873Z",
     "shell.execute_reply.started": "2023-05-07T20:57:15.794566Z"
    },
    "jupyter": {
     "source_hidden": true
    },
    "tags": []
   },
   "outputs": [
    {
     "name": "stderr",
     "output_type": "stream",
     "text": [
      "100%|████████████████████████████████████████████████████████████████████████████████| 933/933 [00:10<00:00, 85.59it/s]\n"
     ]
    }
   ],
   "source": [
    "org_collection = daao_meta.daao_db.get_collection(\n",
    "    daao_objs_info[curr_collname][\"collection_name\"]\n",
    ")\n",
    "ori_individuals = []\n",
    "lookup_individuals = []\n",
    "\n",
    "# clear all organization(personGroup) records from DAAO\n",
    "daao_meta.acde_db[curr_lvl].delete_many({\"data_source\": \"DAAO\"})\n",
    "\n",
    "with tqdm(\n",
    "    total=org_collection.count_documents(org_InitStage_Match[0][\"$match\"]),\n",
    "    position=0,\n",
    "    leave=True,\n",
    ") as t:\n",
    "    for individual in org_collection.aggregate(org_agg_pipeline, allowDiskUse=True,):\n",
    "        # get revision number\n",
    "        version_no = daao_manip.daao_get_revision_no(\n",
    "            daao_meta.daao_db,\n",
    "            daao_objs_info[curr_collname][\"collection_name\"],\n",
    "            individual.get(\"_id\"),\n",
    "        )\n",
    "        individual.update(version_no)\n",
    "        # clean biography text,\n",
    "        if individual.get(\"summary\"):\n",
    "            ori_text = individual[\"summary\"]\n",
    "            cleaned_text = daao_jp.person_bioTextCleansing(ori_text)\n",
    "            individual[\"summary\"] = cleaned_text\n",
    "        if individual.get(\"biography\") and individual[\"biography\"].get(\"text\"):\n",
    "            ori_text = individual[\"biography\"][\"text\"]\n",
    "            cleaned_text = daao_jp.person_bioTextCleansing(ori_text)\n",
    "            individual[\"biography\"][\"text\"] = daao_jp.person_bioTextCleansing(ori_text)\n",
    "        # # store original record\n",
    "        # ori_individuals.append(individual)\n",
    "        lookup_indv = deepcopy(individual)\n",
    "        ##########\n",
    "        # look up all/the other DBRefs\n",
    "        # There're 2 solutions for looking up the DBRefs\n",
    "        # 1. Scan the full record out of MongoDB and look up all existing DBRefs dynamicly\n",
    "        # 2. Hard code all DBRefs in MongoDB aggregation pipelines.\n",
    "        #    This way can assign specific projections in each lookup, but we need to clearly understand\n",
    "        #    all records.\n",
    "        # For local single thread, it's acceptable to use Method1.\n",
    "        # But it would be better to update to Method2 after migrating to Cloud\n",
    "        ##########\n",
    "        lookup_indv = daao_manip.daao_get_dbrefInfo(\n",
    "            lookup_indv, lookupProj_info, db=daao_meta.daao_db\n",
    "        )\n",
    "        # we don't need _id for data loading\n",
    "        lookup_indv.pop(\"_id\")\n",
    "        # remove all attributes having empty values\n",
    "        lookup_indv = gen_jp.clean_empty_values(lookup_indv)\n",
    "        # # store final record\n",
    "        # lookup_individuals.append(lookup_indv)\n",
    "        # insert final record to acde_db\n",
    "        daao_meta.acde_db[curr_lvl].insert_one(lookup_indv)\n",
    "        t.update(1)"
   ]
  },
  {
   "cell_type": "markdown",
   "id": "a7d4564a-6a9c-44bd-a62e-a92432420af9",
   "metadata": {
    "tags": []
   },
   "source": [
    "### 3.3 Work"
   ]
  },
  {
   "cell_type": "markdown",
   "id": "c66a4e1b-8b68-4624-92b5-fede183c85cc",
   "metadata": {
    "tags": []
   },
   "source": [
    "#### 3.3.0 Pipeline Setting"
   ]
  },
  {
   "cell_type": "code",
   "execution_count": 14,
   "id": "03e8f952-e1e7-4874-8276-1d952b441f29",
   "metadata": {
    "execution": {
     "iopub.execute_input": "2023-05-07T20:57:27.156864Z",
     "iopub.status.busy": "2023-05-07T20:57:27.155864Z",
     "iopub.status.idle": "2023-05-07T20:57:27.170827Z",
     "shell.execute_reply": "2023-05-07T20:57:27.168834Z",
     "shell.execute_reply.started": "2023-05-07T20:57:27.156864Z"
    },
    "jupyter": {
     "source_hidden": true
    },
    "tags": []
   },
   "outputs": [],
   "source": [
    "#####\n",
    "# Set aggregation variables\n",
    "#####\n",
    "\n",
    "curr_collname = \"work\"\n",
    "curr_lvl = \"work\"\n",
    "\n",
    "bool_filters = {\"is_deleted\": False, \"is_locked\": False}\n",
    "value_filters = [daao_objs_info[curr_collname][\"filter_cond\"]]\n",
    "\n",
    "# the following pipeline need to be implemented on the non-array object\n",
    "work_fields_newFields = {\n",
    "    \"coverage_range\": {\"date_range\": \"$date\",},\n",
    "}\n",
    "\n",
    "# set final additional field construction\n",
    "work_fields_finalNewFields = {\n",
    "    \"description\": {\"$trim\": {\"input\": \"$description\"}},\n",
    "    \"ori_url\": {\"$concat\": [\"https://www.daao.org.au/bio/work/\", \"$slug\"]},\n",
    "    \"data_source\": \"DAAO\",\n",
    "    \"_class_ori\": {\"$toLower\": {\"$last\": {\"$split\": [\"$_cls\", \".\"]}}},\n",
    "    \"_class\": curr_lvl,\n",
    "    \"ori_dbid\": \"$_id\",\n",
    "}\n",
    "\n",
    "#####\n",
    "# Get original renamed fields that need to be removed\n",
    "#####\n",
    "# remove all \"related\" attributes, meta attribute having underscore\n",
    "# and the initial renamed attributes\n",
    "work_initRemoval = set(\n",
    "    f.split(\".\")[0] if f.startswith(\"related\") else f\n",
    "    for f in daao_objs_info[curr_collname][\"remove_fields\"]\n",
    ")\n",
    "\n",
    "#####\n",
    "# Construct Stages\n",
    "#####\n",
    "#\n",
    "work_InitStage_Match = gen_manip.construct_MatchStage(\n",
    "    bool_filters=bool_filters, value_filters=value_filters,\n",
    ")\n",
    "work_InitStage_Remove = gen_manip.construct_FinalProjectionStage(\n",
    "    remove_list=work_initRemoval\n",
    ")\n",
    "work_Stage2_LevelUpDate = daao_manip.daao_construct_levelUpDateStage(\n",
    "    daao_objs_info[curr_collname][\"date_objects\"]\n",
    ")\n",
    "work_Stage3_AddNewFields = [{\"$set\": work_fields_newFields}]\n",
    "work_FinalStage_Reconstruct = gen_manip.construct_ReconstructFieldsStage(\n",
    "    complex_action_pairs=work_fields_finalNewFields,\n",
    "    drop_fields=[\"date\", \"slug\", \"_cls\"],\n",
    ")"
   ]
  },
  {
   "cell_type": "code",
   "execution_count": 15,
   "id": "5ef562bc-6c08-4284-ad3e-7bda098477bc",
   "metadata": {
    "execution": {
     "iopub.execute_input": "2023-05-07T20:57:27.172820Z",
     "iopub.status.busy": "2023-05-07T20:57:27.172820Z",
     "iopub.status.idle": "2023-05-07T20:57:27.186786Z",
     "shell.execute_reply": "2023-05-07T20:57:27.184787Z",
     "shell.execute_reply.started": "2023-05-07T20:57:27.172820Z"
    },
    "jupyter": {
     "source_hidden": true
    },
    "scrolled": true,
    "tags": []
   },
   "outputs": [
    {
     "name": "stdout",
     "output_type": "stream",
     "text": [
      "[ { '$match': { '_cls': {'$eq': 'VersionedDocument.XWork.Work'},\n",
      "                'is_deleted': False,\n",
      "                'is_locked': False}},\n",
      "  { '$project': { '_authors': 0,\n",
      "                  '_types': 0,\n",
      "                  '_update_timestamp': 0,\n",
      "                  'date._cls': 0,\n",
      "                  'date._types': 0,\n",
      "                  'date.end._cls': 0,\n",
      "                  'date.end._types': 0,\n",
      "                  'date.end.is_circa': 0,\n",
      "                  'date.end.precision': 0,\n",
      "                  'date.start._cls': 0,\n",
      "                  'date.start._types': 0,\n",
      "                  'date.start.is_circa': 0,\n",
      "                  'date.start.precision': 0,\n",
      "                  'manufacturers._cls': 0,\n",
      "                  'manufacturers._types': 0,\n",
      "                  'mediums._cls': 0,\n",
      "                  'mediums._types': 0,\n",
      "                  'related_collections': 0,\n",
      "                  'related_events': 0,\n",
      "                  'related_places': 0,\n",
      "                  'related_recognitions': 0}},\n",
      "  { '$addFields': { 'date.date_end': '$date.end._date',\n",
      "                    'date.date_start': '$date.start._date'}},\n",
      "  {'$project': {'date.end': 0, 'date.start': 0}},\n",
      "  {'$set': {'coverage_range': {'date_range': '$date'}}},\n",
      "  { '$addFields': { '_class': 'work',\n",
      "                    '_class_ori': { '$toLower': { '$last': { '$split': [ '$_cls',\n",
      "                                                                         '.']}}},\n",
      "                    'data_source': 'DAAO',\n",
      "                    'description': {'$trim': {'input': '$description'}},\n",
      "                    'ori_dbid': '$_id',\n",
      "                    'ori_url': { '$concat': [ 'https://www.daao.org.au/bio/work/',\n",
      "                                              '$slug']}}},\n",
      "  {'$project': {'_cls': 0, 'date': 0, 'slug': 0}}]\n"
     ]
    }
   ],
   "source": [
    "#####\n",
    "#\n",
    "# Check work extraction pipeline\n",
    "#\n",
    "#####\n",
    "work_agg_pipeline = (\n",
    "    work_InitStage_Match\n",
    "    + work_InitStage_Remove\n",
    "    + work_Stage2_LevelUpDate\n",
    "    + work_Stage3_AddNewFields\n",
    "    + work_FinalStage_Reconstruct\n",
    ")\n",
    "pp.pprint(work_agg_pipeline)"
   ]
  },
  {
   "cell_type": "markdown",
   "id": "6e95a0bb-db2d-40b4-bee6-549cb0eb121b",
   "metadata": {
    "tags": []
   },
   "source": [
    "#### 3.3.1 Extracton & Loading"
   ]
  },
  {
   "cell_type": "code",
   "execution_count": 16,
   "id": "c5190c15-02b1-40bd-9ed6-a8b8cbd440a4",
   "metadata": {
    "execution": {
     "iopub.execute_input": "2023-05-07T20:57:27.188807Z",
     "iopub.status.busy": "2023-05-07T20:57:27.188807Z",
     "iopub.status.idle": "2023-05-07T20:59:11.880277Z",
     "shell.execute_reply": "2023-05-07T20:59:11.879280Z",
     "shell.execute_reply.started": "2023-05-07T20:57:27.188807Z"
    },
    "jupyter": {
     "source_hidden": true
    },
    "tags": []
   },
   "outputs": [
    {
     "name": "stderr",
     "output_type": "stream",
     "text": [
      "100%|███████████████████████████████████████████████████████████████████████████| 23729/23729 [01:43<00:00, 228.45it/s]\n"
     ]
    }
   ],
   "source": [
    "work_collection = daao_meta.daao_db.get_collection(\n",
    "    daao_objs_info[curr_collname][\"collection_name\"]\n",
    ")\n",
    "ori_individuals = []\n",
    "lookup_individuals = []\n",
    "\n",
    "# clear all work records from DAAO\n",
    "daao_meta.acde_db[curr_lvl].delete_many({\"data_source\": \"DAAO\"})\n",
    "\n",
    "with tqdm(\n",
    "    total=work_collection.count_documents(work_InitStage_Match[0][\"$match\"]),\n",
    "    position=0,\n",
    "    leave=True,\n",
    ") as t:\n",
    "    for individual in work_collection.aggregate(work_agg_pipeline, allowDiskUse=True,):\n",
    "        # get revision number\n",
    "        version_no = daao_manip.daao_get_revision_no(\n",
    "            daao_meta.daao_db,\n",
    "            daao_objs_info[curr_collname][\"collection_name\"],\n",
    "            individual.get(\"_id\"),\n",
    "        )\n",
    "        individual.update(version_no)\n",
    "        # # store original record\n",
    "        # ori_individuals.append(individual)\n",
    "        lookup_indv = deepcopy(individual)\n",
    "        ##########\n",
    "        # look up all/the other DBRefs\n",
    "        ##########\n",
    "        lookup_indv = daao_manip.daao_get_dbrefInfo(\n",
    "            lookup_indv, lookupProj_info, db=daao_meta.daao_db\n",
    "        )\n",
    "        # we don't need _id for data loading\n",
    "        lookup_indv.pop(\"_id\")\n",
    "        # remove all attributes having empty values\n",
    "        lookup_indv = gen_jp.clean_empty_values(lookup_indv)\n",
    "        # # store final record\n",
    "        # lookup_individuals.append(lookup_indv)\n",
    "        # insert final record to acde_db\n",
    "        daao_meta.acde_db[curr_lvl].insert_one(lookup_indv)\n",
    "        t.update(1)"
   ]
  },
  {
   "cell_type": "markdown",
   "id": "42668f60-39cf-4336-aeb2-1201f7d2258e",
   "metadata": {
    "tags": []
   },
   "source": [
    "### 3.4 Event"
   ]
  },
  {
   "cell_type": "markdown",
   "id": "4a57a8db-65bc-49b8-a6b8-9ce819a67e78",
   "metadata": {},
   "source": [
    "#### 3.4.0 Pipeline Setting"
   ]
  },
  {
   "cell_type": "code",
   "execution_count": 17,
   "id": "a4d359c9-0399-4394-acea-88a71acb7fe5",
   "metadata": {
    "execution": {
     "iopub.execute_input": "2023-05-07T20:59:11.882272Z",
     "iopub.status.busy": "2023-05-07T20:59:11.882272Z",
     "iopub.status.idle": "2023-05-07T20:59:11.910226Z",
     "shell.execute_reply": "2023-05-07T20:59:11.909233Z",
     "shell.execute_reply.started": "2023-05-07T20:59:11.882272Z"
    },
    "jupyter": {
     "source_hidden": true
    },
    "tags": []
   },
   "outputs": [],
   "source": [
    "#####\n",
    "# Set aggregation variables\n",
    "#####\n",
    "\n",
    "curr_collname = \"event\"\n",
    "curr_lvl = \"event\"\n",
    "\n",
    "bool_filters = {\"is_deleted\": False, \"is_locked\": False}\n",
    "value_filters = [daao_objs_info[curr_collname][\"filter_cond\"]]\n",
    "\n",
    "event_initRename = {\"types_old\": \"types\"}\n",
    "\n",
    "# set fields that need to be unwinded for complenmentary construction\n",
    "# in personGroup extraction, we need role, other_occupations and periods_active\n",
    "# to construct operation\n",
    "event_fields_convert = [\"coverages\", \"types\"]\n",
    "# the following pipeline need to be implemented on the non-array object\n",
    "event_fields_newFields = {\n",
    "    # \"locations\": {\"coverage_range\": \"$coverages\",},\n",
    "    \"coverage_ranges\": \"$coverages\",\n",
    "    \"types\": {\"primary_type\": \"$types_old\"},\n",
    "}\n",
    "\n",
    "# set final additional field construction\n",
    "event_fields_finalNewFields = {\n",
    "    \"description\": {\"$trim\": {\"input\": \"$description\"}},\n",
    "    \"ori_url\": {\"$concat\": [\"https://www.daao.org.au/bio/event/\", \"$slug\"]},\n",
    "    \"data_source\": \"DAAO\",\n",
    "    \"_class_ori\": {\"$toLower\": {\"$last\": {\"$split\": [\"$_cls\", \".\"]}}},\n",
    "    \"_class\": curr_lvl,\n",
    "    \"ori_dbid\": \"$_id\",\n",
    "}\n",
    "\n",
    "#####\n",
    "# Construct fields\n",
    "#####\n",
    "# get initial project fields: all first level fields\n",
    "event_fields_initProj = daao_manip.daao_get_initProjFields(\n",
    "    daao_objs_info, curr_collname\n",
    ")\n",
    "#####\n",
    "# Get original renamed fields that need to be removed\n",
    "#####\n",
    "# remove all \"related\" attributes, meta attribute having underscore\n",
    "# and the initial renamed attributes\n",
    "event_initRemoval = set(\n",
    "    f.split(\".\")[0] if f.startswith(\"related\") else f\n",
    "    for f in daao_objs_info[curr_collname][\"remove_fields\"]\n",
    ")\n",
    "\n",
    "# get name of first level of field having 'coverage' prefix\n",
    "event_fields_levelUp_root = list(\n",
    "    set(\n",
    "        \".\".join(f.split(\".\")[:2])\n",
    "        for f in daao_objs_info[curr_collname][\"date_objects\"]\n",
    "        if \"coverage\" in f\n",
    "    )\n",
    ")\n",
    "# get name of first level of ARRAY field having 'coverage' prefix\n",
    "event_fields_arrayDates = set(\n",
    "    f.split(\".\", 1)[0]\n",
    "    for f in event_fields_levelUp_root\n",
    "    if f.split(\".\", 1)[0].endswith(\"s\")\n",
    ")\n",
    "# get all fields need to be unwinded\n",
    "event_fields_unwind = list(event_fields_arrayDates | set(event_fields_convert))\n",
    "\n",
    "#####\n",
    "# Construct Stages\n",
    "#####\n",
    "#\n",
    "event_InitStage_Match = gen_manip.construct_MatchStage(\n",
    "    bool_filters=bool_filters, value_filters=value_filters,\n",
    ")\n",
    "event_InitStage_Rename = gen_manip.construct_ReconstructFieldsStage(\n",
    "    rename_pairs=event_initRename\n",
    ")\n",
    "event_InitStage_Remove = gen_manip.construct_FinalProjectionStage(\n",
    "    remove_list=event_initRemoval\n",
    ")\n",
    "event_Stage2_Unwinds = gen_manip.construct_unwindStage(event_fields_unwind)\n",
    "event_Stage3_LevelUpDate = daao_manip.daao_construct_levelUpDateStage(\n",
    "    daao_objs_info[curr_collname][\"date_objects\"]\n",
    ")\n",
    "event_Stage4_AddNewFields = [{\"$set\": event_fields_newFields}]\n",
    "event_Stage5_Group = daao_manip.daao_construct_groupStage(\n",
    "    tuple(\n",
    "        list(event_fields_initProj)\n",
    "        + [f.split(\".\")[0] for f in event_fields_newFields.keys()]\n",
    "    ),\n",
    "    event_fields_unwind + [f.split(\".\")[0] for f in event_fields_newFields.keys()],\n",
    ")\n",
    "event_FinalStage_Reconstruct = gen_manip.construct_ReconstructFieldsStage(\n",
    "    drop_fields=[\"slug\", \"_cls\", \"coverages\"],\n",
    "    complex_action_pairs=event_fields_finalNewFields,\n",
    ")"
   ]
  },
  {
   "cell_type": "code",
   "execution_count": 18,
   "id": "24300eb4-f0a3-45b0-9a64-f31ace9435a5",
   "metadata": {
    "execution": {
     "iopub.execute_input": "2023-05-07T20:59:11.911195Z",
     "iopub.status.busy": "2023-05-07T20:59:11.911195Z",
     "iopub.status.idle": "2023-05-07T20:59:11.926156Z",
     "shell.execute_reply": "2023-05-07T20:59:11.925188Z",
     "shell.execute_reply.started": "2023-05-07T20:59:11.911195Z"
    },
    "jupyter": {
     "source_hidden": true
    },
    "scrolled": true,
    "tags": []
   },
   "outputs": [
    {
     "name": "stdout",
     "output_type": "stream",
     "text": [
      "[ { '$match': { '_cls': {'$eq': 'VersionedDocument.XActivity.XEvent.Event'},\n",
      "                'is_deleted': False,\n",
      "                'is_locked': False}},\n",
      "  {'$addFields': {'types_old': '$types'}},\n",
      "  {'$project': {'types': 0}},\n",
      "  { '$project': { '_authors': 0,\n",
      "                  '_legacy_event_group_pk': 0,\n",
      "                  '_legacy_event_group_slug': 0,\n",
      "                  '_types': 0,\n",
      "                  '_update_timestamp': 0,\n",
      "                  'coverages._cls': 0,\n",
      "                  'coverages._types': 0,\n",
      "                  'coverages.date_range._cls': 0,\n",
      "                  'coverages.date_range._types': 0,\n",
      "                  'coverages.date_range.end._cls': 0,\n",
      "                  'coverages.date_range.end._types': 0,\n",
      "                  'coverages.date_range.end.is_circa': 0,\n",
      "                  'coverages.date_range.end.precision': 0,\n",
      "                  'coverages.date_range.start._cls': 0,\n",
      "                  'coverages.date_range.start._types': 0,\n",
      "                  'coverages.date_range.start.is_circa': 0,\n",
      "                  'coverages.date_range.start.precision': 0,\n",
      "                  'related_event_groups': 0,\n",
      "                  'related_events': 0}},\n",
      "  {'$unwind': {'path': '$coverages', 'preserveNullAndEmptyArrays': True}},\n",
      "  {'$unwind': {'path': '$types', 'preserveNullAndEmptyArrays': True}},\n",
      "  { '$addFields': { 'coverages.date_range.date_end': '$coverages.date_range.end._date',\n",
      "                    'coverages.date_range.date_start': '$coverages.date_range.start._date'}},\n",
      "  { '$project': { 'coverages.date_range.end': 0,\n",
      "                  'coverages.date_range.start': 0}},\n",
      "  { '$set': { 'coverage_ranges': '$coverages',\n",
      "              'types': {'primary_type': '$types_old'}}},\n",
      "  { '$group': { '_cls': {'$first': '$_cls'},\n",
      "                '_id': '$_id',\n",
      "                'contributors': {'$first': '$contributors'},\n",
      "                'coverage_ranges': {'$addToSet': '$coverage_ranges'},\n",
      "                'coverages': {'$addToSet': '$coverages'},\n",
      "                'date_modified': {'$first': '$date_modified'},\n",
      "                'description': {'$first': '$description'},\n",
      "                'is_deleted': {'$first': '$is_deleted'},\n",
      "                'is_locked': {'$first': '$is_locked'},\n",
      "                'record_status': {'$first': '$record_status'},\n",
      "                'references': {'$first': '$references'},\n",
      "                'see_alsos': {'$first': '$see_alsos'},\n",
      "                'show_visualisation': {'$first': '$show_visualisation'},\n",
      "                'slug': {'$first': '$slug'},\n",
      "                'source_database_ids': {'$first': '$source_database_ids'},\n",
      "                'tags': {'$first': '$tags'},\n",
      "                'title': {'$first': '$title'},\n",
      "                'types': {'$addToSet': '$types'},\n",
      "                'url': {'$first': '$url'}}},\n",
      "  { '$addFields': { '_class': 'event',\n",
      "                    '_class_ori': { '$toLower': { '$last': { '$split': [ '$_cls',\n",
      "                                                                         '.']}}},\n",
      "                    'data_source': 'DAAO',\n",
      "                    'description': {'$trim': {'input': '$description'}},\n",
      "                    'ori_dbid': '$_id',\n",
      "                    'ori_url': { '$concat': [ 'https://www.daao.org.au/bio/event/',\n",
      "                                              '$slug']}}},\n",
      "  {'$project': {'_cls': 0, 'coverages': 0, 'slug': 0}}]\n"
     ]
    }
   ],
   "source": [
    "#####\n",
    "#\n",
    "# Check event extraction pipeline\n",
    "#\n",
    "#####\n",
    "\n",
    "event_agg_pipeline = (\n",
    "    event_InitStage_Match\n",
    "    + event_InitStage_Rename\n",
    "    + event_InitStage_Remove\n",
    "    + event_Stage2_Unwinds\n",
    "    + event_Stage3_LevelUpDate\n",
    "    + event_Stage4_AddNewFields\n",
    "    + event_Stage5_Group\n",
    "    + event_FinalStage_Reconstruct\n",
    ")\n",
    "\n",
    "pp.pprint(event_agg_pipeline)"
   ]
  },
  {
   "cell_type": "markdown",
   "id": "533adcde-a8cc-4fee-8d9d-bdeeb1c495ff",
   "metadata": {
    "tags": []
   },
   "source": [
    "#### 3.4.1 Extracton & Loading"
   ]
  },
  {
   "cell_type": "code",
   "execution_count": 19,
   "id": "b4537b26-cac6-4b29-8f56-5e97d299cd9e",
   "metadata": {
    "execution": {
     "iopub.execute_input": "2023-05-07T20:59:11.928152Z",
     "iopub.status.busy": "2023-05-07T20:59:11.927153Z",
     "iopub.status.idle": "2023-05-07T21:02:04.929806Z",
     "shell.execute_reply": "2023-05-07T21:02:04.927811Z",
     "shell.execute_reply.started": "2023-05-07T20:59:11.928152Z"
    },
    "jupyter": {
     "source_hidden": true
    },
    "tags": []
   },
   "outputs": [
    {
     "name": "stderr",
     "output_type": "stream",
     "text": [
      "100%|███████████████████████████████████████████████████████████████████████████| 21838/21838 [02:52<00:00, 126.79it/s]\n"
     ]
    }
   ],
   "source": [
    "event_collection = daao_meta.daao_db.get_collection(\n",
    "    daao_objs_info[curr_collname][\"collection_name\"]\n",
    ")\n",
    "ori_individuals = []\n",
    "lookup_individuals = []\n",
    "\n",
    "# clear all event records from DAAO\n",
    "daao_meta.acde_db[curr_lvl].delete_many({\"data_source\": \"DAAO\"})\n",
    "\n",
    "with tqdm(\n",
    "    total=event_collection.count_documents(event_InitStage_Match[0][\"$match\"]),\n",
    "    position=0,\n",
    "    leave=True,\n",
    ") as t:\n",
    "    for individual in event_collection.aggregate(\n",
    "        event_agg_pipeline, allowDiskUse=True,\n",
    "    ):\n",
    "        # get revision number\n",
    "        version_no = daao_manip.daao_get_revision_no(\n",
    "            daao_meta.daao_db,\n",
    "            daao_objs_info[curr_collname][\"collection_name\"],\n",
    "            individual.get(\"_id\"),\n",
    "        )\n",
    "        individual.update(version_no)\n",
    "        # clean description text?\n",
    "        # # store original record\n",
    "        # ori_individuals.append(individual)\n",
    "        lookup_indv = deepcopy(individual)\n",
    "        ##########\n",
    "        # look up all/the other DBRefs\n",
    "        ##########\n",
    "        lookup_indv = daao_manip.daao_get_dbrefInfo(\n",
    "            lookup_indv, lookupProj_info, db=daao_meta.daao_db\n",
    "        )\n",
    "        # we don't need _id for data loading\n",
    "        lookup_indv.pop(\"_id\")\n",
    "        # remove all attributes having empty values\n",
    "        lookup_indv = gen_jp.clean_empty_values(lookup_indv)\n",
    "        # # store final record\n",
    "        # lookup_individuals.append(lookup_indv)\n",
    "        # insert final record to acde_db\n",
    "        daao_meta.acde_db[curr_lvl].insert_one(lookup_indv)\n",
    "        t.update(1)"
   ]
  },
  {
   "cell_type": "markdown",
   "id": "1f030a02-d435-4545-9bb6-d59d66fffd96",
   "metadata": {
    "tags": []
   },
   "source": [
    "### 3.5 Recognition"
   ]
  },
  {
   "cell_type": "markdown",
   "id": "397c274b-cfc9-4450-9862-172d5dc69656",
   "metadata": {},
   "source": [
    "#### 3.5.0 Pipeline Setting"
   ]
  },
  {
   "cell_type": "code",
   "execution_count": 20,
   "id": "ef4cf55a-3077-48fe-b053-b1566b65bcb2",
   "metadata": {
    "execution": {
     "iopub.execute_input": "2023-05-07T21:02:04.933796Z",
     "iopub.status.busy": "2023-05-07T21:02:04.932795Z",
     "iopub.status.idle": "2023-05-07T21:02:04.958723Z",
     "shell.execute_reply": "2023-05-07T21:02:04.957725Z",
     "shell.execute_reply.started": "2023-05-07T21:02:04.933796Z"
    },
    "jupyter": {
     "source_hidden": true
    },
    "tags": []
   },
   "outputs": [],
   "source": [
    "#####\n",
    "# Set aggregation variables\n",
    "#####\n",
    "\n",
    "curr_collname = \"recognition\"\n",
    "curr_lvl = \"recognition\"\n",
    "\n",
    "bool_filters = {\"is_deleted\": False, \"is_locked\": False}\n",
    "value_filters = [daao_objs_info[curr_collname][\"filter_cond\"]]\n",
    "\n",
    "# set fields that need to be unwinded for complenmentary construction\n",
    "# in personGroup extraction, we need role, other_occupations and periods_active\n",
    "# to construct operation\n",
    "rec_fields_convert = [\"coverages\", \"dates\"]\n",
    "# the following pipeline need to be implemented on the non-array object\n",
    "rec_fields_newFields = {}\n",
    "\n",
    "# set final additional field construction\n",
    "rec_fields_finalNewFields = {\n",
    "    \"description\": {\"$trim\": {\"input\": \"$description\"}},\n",
    "    \"ori_url\": {\"$concat\": [\"https://www.daao.org.au/bio/recognition/\", \"$slug\"]},\n",
    "    \"data_source\": \"DAAO\",\n",
    "    \"_class_ori\": {\"$toLower\": {\"$last\": {\"$split\": [\"$_cls\", \".\"]}}},\n",
    "    \"_class\": curr_lvl,\n",
    "    \"ori_dbid\": \"$_id\",\n",
    "}\n",
    "\n",
    "#####\n",
    "# Construct fields\n",
    "#####\n",
    "# get initial project fields: all first level fields\n",
    "rec_fields_initProj = daao_manip.daao_get_initProjFields(daao_objs_info, curr_collname)\n",
    "#####\n",
    "# Get original renamed fields that need to be removed\n",
    "#####\n",
    "# remove all \"related\" attributes, meta attribute having underscore\n",
    "# and the initial renamed attributes\n",
    "rec_initRemoval = set(\n",
    "    f.split(\".\")[0] if f.startswith(\"related\") else f\n",
    "    for f in daao_objs_info[curr_collname][\"remove_fields\"]\n",
    ")\n",
    "\n",
    "# get name of first level of field having 'coverage' prefix\n",
    "rec_fields_levelUp_root = list(\n",
    "    set(\n",
    "        \".\".join(f.split(\".\")[:2])\n",
    "        for f in daao_objs_info[curr_collname][\"date_objects\"]\n",
    "        if \"coverage\" in f\n",
    "    )\n",
    ")\n",
    "# get name of first level of ARRAY field having 'coverage' prefix\n",
    "rec_fields_arrayDates = set(\n",
    "    f.split(\".\", 1)[0]\n",
    "    for f in rec_fields_levelUp_root\n",
    "    if f.split(\".\", 1)[0].endswith(\"s\")\n",
    ")\n",
    "# get all fields need to be unwinded\n",
    "rec_fields_unwind = list(rec_fields_arrayDates | set(rec_fields_convert))\n",
    "\n",
    "#####\n",
    "# Construct Stages\n",
    "#####\n",
    "#\n",
    "rec_InitStage_Match = gen_manip.construct_MatchStage(\n",
    "    bool_filters=bool_filters, value_filters=value_filters,\n",
    ")\n",
    "\n",
    "rec_InitStage_Remove = gen_manip.construct_FinalProjectionStage(\n",
    "    remove_list=rec_initRemoval\n",
    ")\n",
    "rec_Stage2_Unwinds = gen_manip.construct_unwindStage(rec_fields_unwind)\n",
    "rec_Stage3_LevelUpDate = daao_manip.daao_construct_levelUpDateStage(\n",
    "    daao_objs_info[curr_collname][\"date_objects\"]\n",
    ")\n",
    "rec_Stage4_Group = daao_manip.daao_construct_groupStage(\n",
    "    tuple(list(rec_fields_initProj)), rec_fields_unwind,\n",
    ")\n",
    "rec_FinalStage_Reconstruct = gen_manip.construct_ReconstructFieldsStage(\n",
    "    drop_fields=[\"slug\", \"_cls\"], complex_action_pairs=rec_fields_finalNewFields,\n",
    ")"
   ]
  },
  {
   "cell_type": "code",
   "execution_count": 21,
   "id": "6b0b4518-5bc6-4d7b-96c3-376cafa66efd",
   "metadata": {
    "execution": {
     "iopub.execute_input": "2023-05-07T21:02:04.960720Z",
     "iopub.status.busy": "2023-05-07T21:02:04.959722Z",
     "iopub.status.idle": "2023-05-07T21:02:04.975677Z",
     "shell.execute_reply": "2023-05-07T21:02:04.974681Z",
     "shell.execute_reply.started": "2023-05-07T21:02:04.960720Z"
    },
    "jupyter": {
     "source_hidden": true
    },
    "scrolled": true,
    "tags": []
   },
   "outputs": [
    {
     "name": "stdout",
     "output_type": "stream",
     "text": [
      "[ { '$match': { '_cls': { '$eq': 'VersionedDocument.XActivity.XRecognition.Recognition'},\n",
      "                'is_deleted': False,\n",
      "                'is_locked': False}},\n",
      "  { '$project': { '_authors': 0,\n",
      "                  '_types': 0,\n",
      "                  '_update_timestamp': 0,\n",
      "                  'coverages._cls': 0,\n",
      "                  'coverages._types': 0,\n",
      "                  'coverages.date._cls': 0,\n",
      "                  'coverages.date._types': 0,\n",
      "                  'coverages.date.is_circa': 0,\n",
      "                  'coverages.date.precision': 0,\n",
      "                  'dates._cls': 0,\n",
      "                  'dates._types': 0,\n",
      "                  'dates.is_circa': 0,\n",
      "                  'dates.precision': 0}},\n",
      "  {'$unwind': {'path': '$dates', 'preserveNullAndEmptyArrays': True}},\n",
      "  {'$unwind': {'path': '$coverages', 'preserveNullAndEmptyArrays': True}},\n",
      "  { '$addFields': { 'coverages.date': '$coverages.date._date',\n",
      "                    'dates': '$dates._date'}},\n",
      "  { '$group': { '_cls': {'$first': '$_cls'},\n",
      "                '_id': '$_id',\n",
      "                'contributors': {'$first': '$contributors'},\n",
      "                'coverages': {'$addToSet': '$coverages'},\n",
      "                'date_modified': {'$first': '$date_modified'},\n",
      "                'dates': {'$addToSet': '$dates'},\n",
      "                'description': {'$first': '$description'},\n",
      "                'is_deleted': {'$first': '$is_deleted'},\n",
      "                'is_locked': {'$first': '$is_locked'},\n",
      "                'record_status': {'$first': '$record_status'},\n",
      "                'references': {'$first': '$references'},\n",
      "                'see_alsos': {'$first': '$see_alsos'},\n",
      "                'slug': {'$first': '$slug'},\n",
      "                'source_database_ids': {'$first': '$source_database_ids'},\n",
      "                'tags': {'$first': '$tags'},\n",
      "                'title': {'$first': '$title'},\n",
      "                'types': {'$first': '$types'},\n",
      "                'url': {'$first': '$url'}}},\n",
      "  { '$addFields': { '_class': 'recognition',\n",
      "                    '_class_ori': { '$toLower': { '$last': { '$split': [ '$_cls',\n",
      "                                                                         '.']}}},\n",
      "                    'data_source': 'DAAO',\n",
      "                    'description': {'$trim': {'input': '$description'}},\n",
      "                    'ori_dbid': '$_id',\n",
      "                    'ori_url': { '$concat': [ 'https://www.daao.org.au/bio/recognition/',\n",
      "                                              '$slug']}}},\n",
      "  {'$project': {'_cls': 0, 'slug': 0}}]\n"
     ]
    }
   ],
   "source": [
    "#####\n",
    "#\n",
    "# Check recognition extraction pipeline\n",
    "#\n",
    "#####\n",
    "rec_agg_pipeline = (\n",
    "    rec_InitStage_Match\n",
    "    + rec_InitStage_Remove\n",
    "    + rec_Stage2_Unwinds\n",
    "    + rec_Stage3_LevelUpDate\n",
    "    + rec_Stage4_Group\n",
    "    + rec_FinalStage_Reconstruct\n",
    ")\n",
    "pp.pprint(rec_agg_pipeline)"
   ]
  },
  {
   "cell_type": "markdown",
   "id": "dafa7cec-464c-4aa7-b154-21d6e482ead2",
   "metadata": {
    "tags": []
   },
   "source": [
    "#### 3.5.1 Extracton & Loading"
   ]
  },
  {
   "cell_type": "code",
   "execution_count": 22,
   "id": "33292ad3-2337-4ecb-a6af-8b99e53a84a1",
   "metadata": {
    "execution": {
     "iopub.execute_input": "2023-05-07T21:02:04.980665Z",
     "iopub.status.busy": "2023-05-07T21:02:04.978670Z",
     "iopub.status.idle": "2023-05-07T21:02:41.818483Z",
     "shell.execute_reply": "2023-05-07T21:02:41.818483Z",
     "shell.execute_reply.started": "2023-05-07T21:02:04.980665Z"
    },
    "jupyter": {
     "source_hidden": true
    },
    "tags": []
   },
   "outputs": [
    {
     "name": "stderr",
     "output_type": "stream",
     "text": [
      "100%|█████████████████████████████████████████████████████████████████████████████| 5471/5471 [00:36<00:00, 149.94it/s]\n"
     ]
    }
   ],
   "source": [
    "rec_collection = daao_meta.daao_db.get_collection(\n",
    "    daao_objs_info[curr_collname][\"collection_name\"]\n",
    ")\n",
    "ori_individuals = []\n",
    "lookup_individuals = []\n",
    "\n",
    "# clear all recognition records from DAAO\n",
    "daao_meta.acde_db[curr_lvl].delete_many({\"data_source\": \"DAAO\"})\n",
    "\n",
    "with tqdm(\n",
    "    total=rec_collection.count_documents(rec_InitStage_Match[0][\"$match\"]),\n",
    "    position=0,\n",
    "    leave=True,\n",
    ") as t:\n",
    "    for individual in rec_collection.aggregate(rec_agg_pipeline, allowDiskUse=True,):\n",
    "        # get revision number\n",
    "        version_no = daao_manip.daao_get_revision_no(\n",
    "            daao_meta.daao_db,\n",
    "            daao_objs_info[curr_collname][\"collection_name\"],\n",
    "            individual.get(\"_id\"),\n",
    "        )\n",
    "        individual.update(version_no)\n",
    "        # clean description text?\n",
    "        # # store original record\n",
    "        # ori_individuals.append(individual)\n",
    "        lookup_indv = deepcopy(individual)\n",
    "        ##########\n",
    "        # look up all/the other DBRefs\n",
    "        ##########\n",
    "        lookup_indv = daao_manip.daao_get_dbrefInfo(\n",
    "            lookup_indv, lookupProj_info, db=daao_meta.daao_db\n",
    "        )\n",
    "        # we don't need _id for data loading\n",
    "        lookup_indv.pop(\"_id\")\n",
    "        # remove all attributes having empty values\n",
    "        lookup_indv = gen_jp.clean_empty_values(lookup_indv)\n",
    "        # # store final record\n",
    "        # lookup_individuals.append(lookup_indv)\n",
    "        # insert final record to acde_db\n",
    "        daao_meta.acde_db[curr_lvl].insert_one(lookup_indv)\n",
    "        t.update(1)"
   ]
  },
  {
   "cell_type": "markdown",
   "id": "353b4e67-f98c-4675-8889-c771d42fb6af",
   "metadata": {
    "tags": []
   },
   "source": [
    "### 3.6 Place"
   ]
  },
  {
   "cell_type": "markdown",
   "id": "435101cc-60c2-4b62-96f4-bdc067420441",
   "metadata": {},
   "source": [
    "#### 3.6.0 Pipeline Setting"
   ]
  },
  {
   "cell_type": "code",
   "execution_count": 23,
   "id": "0bee01fd-7afc-45d3-8afe-44bc2c4950cf",
   "metadata": {
    "execution": {
     "iopub.execute_input": "2023-05-07T21:02:41.821473Z",
     "iopub.status.busy": "2023-05-07T21:02:41.821473Z",
     "iopub.status.idle": "2023-05-07T21:02:41.835435Z",
     "shell.execute_reply": "2023-05-07T21:02:41.834437Z",
     "shell.execute_reply.started": "2023-05-07T21:02:41.821473Z"
    },
    "jupyter": {
     "source_hidden": true
    },
    "scrolled": true,
    "tags": []
   },
   "outputs": [],
   "source": [
    "#####\n",
    "# Set aggregation variables\n",
    "#####\n",
    "\n",
    "curr_collname = \"place\"\n",
    "curr_lvl = \"place\"\n",
    "\n",
    "#####\n",
    "# Construct fields\n",
    "#####\n",
    "\n",
    "place_fields_newFields = {\n",
    "    \"ori_dbid\": \"$_id\",\n",
    "    \"_class_ori\": {\"$toLower\": {\"$last\": {\"$split\": [\"$_cls\", \".\"]}}},\n",
    "    \"_class\": curr_lvl,\n",
    "    \"data_source\": \"DAAO\",\n",
    "}\n",
    "place_fields_newFields.update(lookupProj_info[curr_collname][\"complex_action\"])\n",
    "\n",
    "#####\n",
    "# Construct Stages\n",
    "#####\n",
    "\n",
    "place_Pipeline = gen_manip.construct_FinalProjectionStage(\n",
    "    keep_list=(\"url\",),\n",
    "    rename_pairs=lookupProj_info[\"place\"][\"rename\"],\n",
    "    remove_list=(\"_id\",),\n",
    "    complex_action_pairs=place_fields_newFields,\n",
    ")"
   ]
  },
  {
   "cell_type": "code",
   "execution_count": 24,
   "id": "20dbc4a2-bbef-4491-8d23-332d3a60f4ec",
   "metadata": {
    "execution": {
     "iopub.execute_input": "2023-05-07T21:02:41.837430Z",
     "iopub.status.busy": "2023-05-07T21:02:41.836434Z",
     "iopub.status.idle": "2023-05-07T21:02:41.851393Z",
     "shell.execute_reply": "2023-05-07T21:02:41.850395Z",
     "shell.execute_reply.started": "2023-05-07T21:02:41.836434Z"
    },
    "jupyter": {
     "source_hidden": true
    },
    "scrolled": true,
    "tags": []
   },
   "outputs": [
    {
     "name": "stdout",
     "output_type": "stream",
     "text": [
      "[ { '$project': { '_class': 'place',\n",
      "                  '_class_ori': 'place',\n",
      "                  'address': { 'city': { '$cond': { 'else': '$$REMOVE',\n",
      "                                                    'if': { '$eq': [ { '$size': { '$ifNull': [ '$extracted_city_set_inferred',\n",
      "                                                                                               [ ]]}},\n",
      "                                                                     1]},\n",
      "                                                    'then': { '$first': '$extracted_city_set_inferred'}}},\n",
      "                               'country': { '$cond': { 'else': '$$REMOVE',\n",
      "                                                       'if': { '$eq': [ { '$size': { '$ifNull': [ '$extracted_cty_set_inferred',\n",
      "                                                                                                  [ ]]}},\n",
      "                                                                        1]},\n",
      "                                                       'then': { '$first': '$extracted_cty_set_inferred'}}},\n",
      "                               'ori_address': { '$trim': { 'input': '$cleaned_address'}},\n",
      "                               'postcode': { '$cond': { 'else': '$$REMOVE',\n",
      "                                                        'if': { '$ifNull': [ '$centroid.postcode',\n",
      "                                                                             False]},\n",
      "                                                        'then': '$centroid.postcode'}},\n",
      "                               'state': { '$cond': { 'else': '$$REMOVE',\n",
      "                                                     'if': { '$eq': [ { '$size': { '$ifNull': [ '$extracted_state_set_inferred',\n",
      "                                                                                                [ ]]}},\n",
      "                                                                      1]},\n",
      "                                                     'then': { '$first': '$extracted_state_set_inferred'}}},\n",
      "                               'suburb': { '$cond': { 'else': '$$REMOVE',\n",
      "                                                      'if': { '$eq': [ { '$size': { '$ifNull': [ '$extracted_au_suburb_set_inferred',\n",
      "                                                                                                 [ ]]}},\n",
      "                                                                       1]},\n",
      "                                                      'then': { '$first': '$extracted_au_suburb_set_inferred'}}}},\n",
      "                  'data_source': 'DAAO',\n",
      "                  'display_name': {'$trim': {'input': '$cleaned_name'}},\n",
      "                  'geo_coord': { '$cond': { 'else': '$$REMOVE',\n",
      "                                            'if': { '$and': [ { '$ifNull': [ '$centroid.latitude',\n",
      "                                                                             False]},\n",
      "                                                              { '$ifNull': [ '$centroid.longitude',\n",
      "                                                                             False]}]},\n",
      "                                            'then': { 'latitude': '$centroid.latitude',\n",
      "                                                      'longitude': '$centroid.longitude'}}},\n",
      "                  'ori_address': '$address',\n",
      "                  'ori_country': '$country',\n",
      "                  'ori_dbid': '$_id',\n",
      "                  'ori_name': '$name',\n",
      "                  'url': 1}},\n",
      "  {'$project': {'_id': 0}}]\n"
     ]
    }
   ],
   "source": [
    "pp.pprint(place_Pipeline)"
   ]
  },
  {
   "cell_type": "markdown",
   "id": "84f125a0-53f8-4e02-b84b-a6ff5d7d6e52",
   "metadata": {
    "tags": []
   },
   "source": [
    "#### 3.6.1 Extracton & Loading"
   ]
  },
  {
   "cell_type": "code",
   "execution_count": 25,
   "id": "29b519f8-bd78-40e4-9c45-9b1fdc3d2fa5",
   "metadata": {
    "execution": {
     "iopub.execute_input": "2023-05-07T21:02:41.854383Z",
     "iopub.status.busy": "2023-05-07T21:02:41.853388Z",
     "iopub.status.idle": "2023-05-07T21:02:53.758596Z",
     "shell.execute_reply": "2023-05-07T21:02:53.756602Z",
     "shell.execute_reply.started": "2023-05-07T21:02:41.854383Z"
    },
    "jupyter": {
     "source_hidden": true
    },
    "tags": []
   },
   "outputs": [
    {
     "name": "stderr",
     "output_type": "stream",
     "text": [
      "100%|██████████████████████████████████████████████████████████████████████████| 16691/16691 [00:11<00:00, 1471.65it/s]\n"
     ]
    }
   ],
   "source": [
    "place_collection = daao_meta.daao_db.get_collection(\n",
    "    daao_objs_info[curr_collname][\"collection_name\"]\n",
    ")\n",
    "ori_individuals = []\n",
    "\n",
    "# clear all place records from DAAO\n",
    "daao_meta.acde_db[curr_lvl].delete_many({\"data_source\": \"DAAO\"})\n",
    "\n",
    "with tqdm(total=place_collection.count_documents({}), position=0, leave=True,) as t:\n",
    "    for individual in place_collection.aggregate(place_Pipeline, allowDiskUse=True,):\n",
    "        # remove all attributes having empty values\n",
    "        individual = gen_jp.clean_empty_values(individual)\n",
    "        # # store original record\n",
    "        # ori_individuals.append(individual)\n",
    "        # insert final record to acde_db\n",
    "        daao_meta.acde_db[curr_lvl].insert_one(individual)\n",
    "        t.update(1)\n",
    "        # if t.n == 100:\n",
    "        #     break"
   ]
  },
  {
   "cell_type": "markdown",
   "id": "2d131025-da7d-43c2-892f-c242ccf92acb",
   "metadata": {
    "tags": []
   },
   "source": [
    "### 3.7 Resource (externalresource/asset)"
   ]
  },
  {
   "cell_type": "markdown",
   "id": "95d9b1f0-b789-4b93-a490-dd82f0855315",
   "metadata": {},
   "source": [
    "#### 3.7.0 Pipeline Setting"
   ]
  },
  {
   "cell_type": "code",
   "execution_count": 26,
   "id": "b77edd6c-1084-4f06-9d84-a47bab60bacb",
   "metadata": {
    "execution": {
     "iopub.execute_input": "2023-05-07T21:02:53.761585Z",
     "iopub.status.busy": "2023-05-07T21:02:53.760607Z",
     "iopub.status.idle": "2023-05-07T21:02:53.788106Z",
     "shell.execute_reply": "2023-05-07T21:02:53.787108Z",
     "shell.execute_reply.started": "2023-05-07T21:02:53.761585Z"
    },
    "jupyter": {
     "source_hidden": true
    },
    "scrolled": true,
    "tags": []
   },
   "outputs": [
    {
     "name": "stdout",
     "output_type": "stream",
     "text": [
      "[ {'$match': {'is_deleted': False}},\n",
      "  { '$project': { '_class': 'resource',\n",
      "                  '_class_ori': { '$toLower': { '$last': { '$split': [ '$_cls',\n",
      "                                                                       '.']}}},\n",
      "                  'authoring_info': { 'authors': [{'name': '$author'}],\n",
      "                                      'coverage': { 'date': '$date._date',\n",
      "                                                    'place': '$place'}},\n",
      "                  'data_source': 'DAAO',\n",
      "                  'description': {'$trim': {'input': '$content'}},\n",
      "                  'note': 1,\n",
      "                  'ori_dbid': '$_id',\n",
      "                  'source_info': {'citation': '$citation', 'url': '$url'},\n",
      "                  'title': 1,\n",
      "                  'types': '$type'}},\n",
      "  {'$project': {'_id': 0}}]\n"
     ]
    }
   ],
   "source": [
    "#####\n",
    "# Set aggregation variables\n",
    "#####\n",
    "\n",
    "curr_collname = \"externalresource\"\n",
    "curr_lvl = \"resource\"\n",
    "\n",
    "etlrsc_collection = daao_meta.daao_db.get_collection(\n",
    "    daao_objs_info[curr_collname][\"collection_name\"]\n",
    ")\n",
    "\n",
    "#####\n",
    "# Construct fields\n",
    "#####\n",
    "\n",
    "# set final rename fields, the original fields will be dropped\n",
    "rscEtlRsc_fields_finalRenames = {\n",
    "    \"types\": \"type\",\n",
    "    \"ori_dbid\": \"_id\",\n",
    "}\n",
    "rscEtlRsc_fields_finalNewFields = {\n",
    "    \"authoring_info\": {\n",
    "        \"authors\": [{\"name\": \"$author\"}],\n",
    "        \"coverage\": {\"date\": \"$date._date\", \"place\": \"$place\",},\n",
    "    },\n",
    "    \"source_info\": {\"citation\": \"$citation\", \"url\": \"$url\"},\n",
    "    \"description\": {\"$trim\": {\"input\": \"$content\"}},\n",
    "    \"_class_ori\": {\"$toLower\": {\"$last\": {\"$split\": [\"$_cls\", \".\"]}}},\n",
    "    \"_class\": curr_lvl,\n",
    "    \"data_source\": \"DAAO\",\n",
    "}\n",
    "\n",
    "rscEtlRsc_InitStage_Match = [{\"$match\": {\"is_deleted\": False}}]\n",
    "\n",
    "rscEtlRsc_FinalStage_Proj = gen_manip.construct_FinalProjectionStage(\n",
    "    keep_list=(\"note\", \"title\"),\n",
    "    rename_pairs=rscEtlRsc_fields_finalRenames,\n",
    "    remove_list=(\"_id\",),\n",
    "    complex_action_pairs=rscEtlRsc_fields_finalNewFields,\n",
    ")\n",
    "\n",
    "rscEtlRsc_pipelines = rscEtlRsc_InitStage_Match + rscEtlRsc_FinalStage_Proj\n",
    "\n",
    "pp.pprint(rscEtlRsc_pipelines)"
   ]
  },
  {
   "cell_type": "code",
   "execution_count": 27,
   "id": "8b359ca9-60e5-4b80-8e19-34439dd49ad7",
   "metadata": {
    "execution": {
     "iopub.execute_input": "2023-05-07T21:02:53.793095Z",
     "iopub.status.busy": "2023-05-07T21:02:53.791099Z",
     "iopub.status.idle": "2023-05-07T21:02:53.820020Z",
     "shell.execute_reply": "2023-05-07T21:02:53.819022Z",
     "shell.execute_reply.started": "2023-05-07T21:02:53.793095Z"
    },
    "jupyter": {
     "source_hidden": true
    },
    "scrolled": true,
    "tags": []
   },
   "outputs": [
    {
     "name": "stdout",
     "output_type": "stream",
     "text": [
      "[ { '$project': { '_class': 'resource',\n",
      "                  '_class_ori': { '$toLower': { '$last': { '$split': [ '$_cls',\n",
      "                                                                       '.']}}},\n",
      "                  'contributors': ['$created_by'],\n",
      "                  'data_source': 'DAAO',\n",
      "                  'description': {'$trim': {'input': '$alt_text'}},\n",
      "                  'ori_dbid': '$_id',\n",
      "                  'permission_obtained': 1,\n",
      "                  'right_info': { 'copyright': [ { 'license': '$license',\n",
      "                                                   'owner': '$copytright_owner'}]},\n",
      "                  'source_info': { 'file_name': 'filename',\n",
      "                                   'source_page': '$source_page',\n",
      "                                   'url': '$url'},\n",
      "                  'title': '$caption'}},\n",
      "  {'$project': {'_id': 0}}]\n"
     ]
    }
   ],
   "source": [
    "#####\n",
    "# Set aggregation variables\n",
    "#####\n",
    "\n",
    "curr_collname = \"asset\"\n",
    "curr_lvl = \"resource\"\n",
    "\n",
    "asset_collection = daao_meta.daao_db.get_collection(\n",
    "    daao_objs_info[curr_collname][\"collection_name\"]\n",
    ")\n",
    "\n",
    "#####\n",
    "# Construct fields\n",
    "#####\n",
    "\n",
    "# set final rename fields, the original fields will be dropped\n",
    "rscAsset_fields_finalRenames = {\n",
    "    \"ori_dbid\": \"_id\",\n",
    "}\n",
    "rscAsset_fields_finalNewFields = {\n",
    "    \"title\": \"$caption\",\n",
    "    \"contributors\": [\"$created_by\"],\n",
    "    \"right_info\": {\n",
    "        \"copyright\": [{\"owner\": \"$copytright_owner\", \"license\": \"$license\"}],\n",
    "    },\n",
    "    \"source_info\": {\n",
    "        \"source_page\": \"$source_page\",\n",
    "        \"url\": \"$url\",\n",
    "        \"file_name\": \"filename\",\n",
    "    },\n",
    "    \"description\": {\"$trim\": {\"input\": \"$alt_text\"}},\n",
    "    \"_class_ori\": {\"$toLower\": {\"$last\": {\"$split\": [\"$_cls\", \".\"]}}},\n",
    "    \"_class\": curr_lvl,\n",
    "    \"data_source\": \"DAAO\",\n",
    "}\n",
    "\n",
    "rscAsset_FinalStage_Proj = gen_manip.construct_FinalProjectionStage(\n",
    "    keep_list=(\"permission_obtained\",),\n",
    "    rename_pairs=rscAsset_fields_finalRenames,\n",
    "    remove_list=(\"_id\",),\n",
    "    complex_action_pairs=rscAsset_fields_finalNewFields,\n",
    ")\n",
    "\n",
    "rscAsset_pipelines = rscAsset_FinalStage_Proj\n",
    "\n",
    "pp.pprint(rscAsset_pipelines)"
   ]
  },
  {
   "cell_type": "markdown",
   "id": "3014df10-2940-4e83-bf47-11292aae35bf",
   "metadata": {
    "tags": []
   },
   "source": [
    "#### 3.7.1 Extracton & Loading"
   ]
  },
  {
   "cell_type": "code",
   "execution_count": 28,
   "id": "5672c597-e3b8-434b-844c-d969d4bfcc62",
   "metadata": {
    "execution": {
     "iopub.execute_input": "2023-05-07T21:02:53.824009Z",
     "iopub.status.busy": "2023-05-07T21:02:53.823012Z",
     "iopub.status.idle": "2023-05-07T21:03:38.686623Z",
     "shell.execute_reply": "2023-05-07T21:03:38.685625Z",
     "shell.execute_reply.started": "2023-05-07T21:02:53.824009Z"
    },
    "jupyter": {
     "source_hidden": true
    },
    "tags": []
   },
   "outputs": [
    {
     "name": "stderr",
     "output_type": "stream",
     "text": [
      "externalresource: 100%|█████████████████████████████████████████████████████████| 36663/36663 [00:40<00:00, 911.64it/s]\n",
      "asset: 100%|█████████████████████████████████████████████████████████████████████| 4501/4501 [00:03<00:00, 1337.67it/s]\n"
     ]
    }
   ],
   "source": [
    "# clear all resource records from DAAO\n",
    "daao_meta.acde_db[curr_lvl].delete_many({\"data_source\": \"DAAO\"})\n",
    "\n",
    "ori_individuals = []\n",
    "\n",
    "for curr_collection, curr_pipelines, curr_filter in [\n",
    "    (etlrsc_collection, rscEtlRsc_pipelines, rscEtlRsc_InitStage_Match[0][\"$match\"]),\n",
    "    (asset_collection, rscAsset_pipelines, {}),\n",
    "]:\n",
    "\n",
    "    with tqdm(\n",
    "        total=curr_collection.count_documents(curr_filter),\n",
    "        position=0,\n",
    "        leave=True,\n",
    "        desc=curr_collection.name,\n",
    "    ) as t:\n",
    "        for individual in curr_collection.aggregate(curr_pipelines, allowDiskUse=True,):\n",
    "            lookup_indv = deepcopy(individual)\n",
    "            ##########\n",
    "            # look up all/the other DBRefs\n",
    "            ##########\n",
    "            lookup_indv = daao_manip.daao_get_dbrefInfo(\n",
    "                lookup_indv, lookupProj_info, db=daao_meta.daao_db\n",
    "            )\n",
    "            if lookup_indv.get(\"_id\"):\n",
    "                # we don't need _id for data loading\n",
    "                lookup_indv.pop(\"_id\")\n",
    "            # remove all attributes having empty values\n",
    "            lookup_indv = gen_jp.clean_empty_values(lookup_indv)\n",
    "            # # store original record\n",
    "            # ori_individuals.append(individual)\n",
    "            # insert final record to acde_db\n",
    "            daao_meta.acde_db[curr_lvl].insert_one(lookup_indv)\n",
    "            t.update(1)\n",
    "            # if t.n == 100:\n",
    "            #     break"
   ]
  },
  {
   "cell_type": "markdown",
   "id": "10bfcd59-38a5-4e54-a318-b535b3e80371",
   "metadata": {},
   "source": [
    "### 3.8 Relationship"
   ]
  },
  {
   "cell_type": "markdown",
   "id": "aac5b0e4-4114-4692-9918-674f5abeb142",
   "metadata": {},
   "source": [
    "#### 3.8.1 Load DAAO Relationships into ACDE Database"
   ]
  },
  {
   "cell_type": "code",
   "execution_count": 29,
   "id": "9df5bd49-75dc-4768-be7d-967d6ddba529",
   "metadata": {
    "execution": {
     "iopub.execute_input": "2023-05-07T21:03:38.688589Z",
     "iopub.status.busy": "2023-05-07T21:03:38.687591Z",
     "iopub.status.idle": "2023-05-07T21:03:41.129462Z",
     "shell.execute_reply": "2023-05-07T21:03:41.128464Z",
     "shell.execute_reply.started": "2023-05-07T21:03:38.688589Z"
    },
    "jupyter": {
     "source_hidden": true
    },
    "scrolled": true,
    "tags": []
   },
   "outputs": [
    {
     "name": "stderr",
     "output_type": "stream",
     "text": [
      "person_fetching: 100%|███████████████████████████████████████████████████████| 17365/17365 [00:00<00:00, 100122.61it/s]\n",
      "organization_fetching: 100%|███████████████████████████████████████████████████████| 933/933 [00:00<00:00, 9408.20it/s]\n",
      "work_fetching: 100%|█████████████████████████████████████████████████████████| 23729/23729 [00:00<00:00, 115847.33it/s]\n",
      "event_fetching: 100%|█████████████████████████████████████████████████████████| 21838/21838 [00:00<00:00, 57099.80it/s]\n",
      "recognition_fetching: 100%|████████████████████████████████████████████████████| 5471/5471 [00:00<00:00, 109717.79it/s]\n",
      "resource_fetching: 100%|██████████████████████████████████████████████████████| 41164/41164 [00:00<00:00, 92321.11it/s]\n",
      "place_fetching: 100%|█████████████████████████████████████████████████████████| 16691/16691 [00:00<00:00, 58719.88it/s]\n"
     ]
    }
   ],
   "source": [
    "loading_objs = [obj for obj in acde_opr.Class_RelatedFN_mapping.keys()]\n",
    "\n",
    "curr_dbid_mapping = acde_opr.acde_extRcd2dict(\n",
    "    db=daao_meta.acde_db,\n",
    "    data_source=\"DAAO\",\n",
    "    loading_objs=loading_objs,\n",
    "    selected_fields=[\"_class_ori\", \"ori_dbid\"],\n",
    ")"
   ]
  },
  {
   "cell_type": "code",
   "execution_count": 30,
   "id": "a761d492-a70e-4ac0-ad64-abebf03d82a5",
   "metadata": {
    "execution": {
     "iopub.execute_input": "2023-05-07T21:03:41.131455Z",
     "iopub.status.busy": "2023-05-07T21:03:41.130456Z",
     "iopub.status.idle": "2023-05-07T21:05:57.607892Z",
     "shell.execute_reply": "2023-05-07T21:05:57.606897Z",
     "shell.execute_reply.started": "2023-05-07T21:03:41.131455Z"
    },
    "jupyter": {
     "source_hidden": true
    },
    "tags": []
   },
   "outputs": [
    {
     "name": "stderr",
     "output_type": "stream",
     "text": [
      "relationship: 100%|██████████████████████████████████████████████████████████| 212505/212505 [02:07<00:00, 1663.62it/s]\n"
     ]
    }
   ],
   "source": [
    "#####\n",
    "# Set aggregation variables\n",
    "#####\n",
    "\n",
    "curr_collname = \"relationship\"\n",
    "curr_lvl = \"relationship\"\n",
    "relationship_collection = daao_meta.daao_db.get_collection(\n",
    "    daao_objs_info[curr_collname][\"collection_name\"]\n",
    ")\n",
    "\n",
    "missing_objs = defaultdict(set)\n",
    "\n",
    "# clear all relationship records from DAAO\n",
    "daao_meta.acde_db[curr_lvl].delete_many({\"data_source\": \"DAAO\"})\n",
    "\n",
    "with tqdm(\n",
    "    total=relationship_collection.count_documents({}),\n",
    "    position=0,\n",
    "    leave=True,\n",
    "    desc=curr_collname,\n",
    ") as pbar:\n",
    "    for relation_record in relationship_collection.aggregate(\n",
    "        [\n",
    "            {\n",
    "                \"$project\": {\n",
    "                    \"_class\": \"relationship\",\n",
    "                    \"data_source\": \"DAAO\",\n",
    "                    \"ori_dbid\": \"$_id\",\n",
    "                    \"subject\": 1,\n",
    "                    \"object\": 1,\n",
    "                    \"time\": 1,\n",
    "                    \"predicate\": {\"term\": \"$predicate.term\", \"reverse_term\": \"$predicate.reverse_term\"},\n",
    "                    \"relation_class\": 1,\n",
    "                    \"_id\": 0,\n",
    "                }\n",
    "            }\n",
    "        ]\n",
    "    ):\n",
    "        is_inserted = True\n",
    "        for e_type in [\"subject\", \"object\"]:\n",
    "            if relation_record.get(e_type):\n",
    "                et_cdbid = curr_dbid_mapping[relation_record[e_type][\"_class\"]].get(\n",
    "                    (\n",
    "                        relation_record[e_type][\"_class_ori\"],\n",
    "                        relation_record[e_type][\"ori_dbid\"],\n",
    "                    )\n",
    "                )\n",
    "                if et_cdbid is not None:\n",
    "                    relation_record[e_type][\"curr_dbid\"] = et_cdbid\n",
    "                else:\n",
    "                    missing_objs[relation_record[e_type][\"_class\"]].add(\n",
    "                        relation_record[e_type][\"ori_dbid\"]\n",
    "                    )\n",
    "                    is_inserted = False\n",
    "                    # break\n",
    "                # try:\n",
    "                #     relation_record[e_type].update(\n",
    "                #         daao_meta.acde_db[relation_record[e_type][\"_class\"]].find_one(\n",
    "                #             {\"ori_dbid\": relation_record[e_type][\"ori_dbid\"]},\n",
    "                #             {\"curr_dbid\": \"$_id\", \"_id\": 0},\n",
    "                #         )\n",
    "                #     )\n",
    "                # except:\n",
    "                #     missing_objs[relation_record[e_type][\"_class\"]].append(\n",
    "                #         relation_record[e_type][\"ori_dbid\"]\n",
    "                #     )\n",
    "                #     is_inserted = False\n",
    "                #     break\n",
    "        if is_inserted:\n",
    "            daao_meta.acde_db[curr_lvl].insert_one(relation_record)\n",
    "        else:\n",
    "            missing_objs[\"relationship\"].add(relation_record[\"ori_dbid\"])\n",
    "\n",
    "        pbar.update(1)\n",
    "        # if pbar.n > 100:\n",
    "        #     break"
   ]
  },
  {
   "cell_type": "code",
   "execution_count": 31,
   "id": "c873fd1d-1886-4769-a52e-cc80a3ab87d3",
   "metadata": {
    "execution": {
     "iopub.execute_input": "2023-05-07T21:05:57.608859Z",
     "iopub.status.busy": "2023-05-07T21:05:57.608859Z",
     "iopub.status.idle": "2023-05-07T21:05:58.278351Z",
     "shell.execute_reply": "2023-05-07T21:05:58.277354Z",
     "shell.execute_reply.started": "2023-05-07T21:05:57.608859Z"
    },
    "jupyter": {
     "source_hidden": true
    },
    "scrolled": true,
    "tags": []
   },
   "outputs": [
    {
     "name": "stdout",
     "output_type": "stream",
     "text": [
      "####################\n",
      "\n",
      "person was found 30693 records.\n",
      "It has missing/invalid 12076 records according to relationships.\n",
      "        \n",
      "####################\n",
      "\n",
      "relationship was found 212505 records.\n",
      "It has missing/invalid 42971 records according to relationships.\n",
      "        \n",
      "####################\n",
      "\n",
      "resource was found unknown number of records.\n",
      "It has missing/invalid 2 records according to relationships.\n",
      "        \n",
      "####################\n",
      "\n",
      "organization was found 4660 records.\n",
      "It has missing/invalid 4404 records according to relationships.\n",
      "        \n",
      "####################\n",
      "\n",
      "work was found 23780 records.\n",
      "It has missing/invalid 10 records according to relationships.\n",
      "        \n",
      "####################\n",
      "\n",
      "collection was found 11747 records.\n",
      "It has missing/invalid 3013 records according to relationships.\n",
      "        \n",
      "####################\n",
      "\n",
      "event was found 21906 records.\n",
      "It has missing/invalid 13 records according to relationships.\n",
      "        \n",
      "####################\n",
      "\n",
      "eventGroup was found 94 records.\n",
      "It has missing/invalid 89 records according to relationships.\n",
      "        \n"
     ]
    }
   ],
   "source": [
    "for obj_type, obj_ids in missing_objs.items():\n",
    "    if obj_type not in (\"relationship\", \"resource\", \"organization\"):\n",
    "        total_doc_num = daao_meta.daao_db[\n",
    "            daao_meta.level_filters[obj_type][0]\n",
    "        ].count_documents({\"_cls\": daao_meta.level_filters[obj_type][1]})\n",
    "    elif obj_type == \"relationship\":\n",
    "        total_doc_num = daao_meta.daao_db[obj_type].count_documents({})\n",
    "    elif obj_type == \"organization\":\n",
    "        total_doc_num = daao_meta.daao_db[\"xparty\"].count_documents(\n",
    "            {\"_cls\": \"VersionedDocument.XParty.PersonGroup\"}\n",
    "        )\n",
    "    else:\n",
    "        total_doc_num = \"unknown number of\"\n",
    "    missing_doc_num = len(obj_ids)\n",
    "    print(\"#\" * 20)\n",
    "    print(\n",
    "        f\"\"\"\n",
    "{obj_type} was found {total_doc_num} records.\n",
    "It has missing/invalid {missing_doc_num} records according to relationships.\n",
    "        \"\"\"\n",
    "    )"
   ]
  },
  {
   "cell_type": "markdown",
   "id": "6d0c8bac-4953-44c8-aba0-c28b7328f89d",
   "metadata": {},
   "source": [
    "#### 3.8.2 Add All Related Objects to Root Objects"
   ]
  },
  {
   "cell_type": "code",
   "execution_count": 32,
   "id": "08549d39-2198-4b69-977a-bf1acea6dbcc",
   "metadata": {
    "execution": {
     "iopub.execute_input": "2023-05-07T21:05:58.279349Z",
     "iopub.status.busy": "2023-05-07T21:05:58.279349Z",
     "iopub.status.idle": "2023-05-07T21:06:01.294686Z",
     "shell.execute_reply": "2023-05-07T21:06:01.293713Z",
     "shell.execute_reply.started": "2023-05-07T21:05:58.279349Z"
    },
    "jupyter": {
     "source_hidden": true
    },
    "tags": []
   },
   "outputs": [],
   "source": [
    "#####\n",
    "# Clean the existing related_XXXX fields from 'DAAO'\n",
    "#####\n",
    "\n",
    "gen_manip.mdb_remove_fields(\n",
    "    daao_meta.acde_db,\n",
    "    \"relationship\",\n",
    "    {\"data_source\": \"DAAO\",},\n",
    "    remove_fields=list(acde_opr.Class_RelatedFN_mapping.values()),\n",
    ")"
   ]
  },
  {
   "cell_type": "code",
   "execution_count": 33,
   "id": "2ffd2d78-23fb-46ee-9938-f4945b175762",
   "metadata": {
    "execution": {
     "iopub.execute_input": "2023-05-07T21:06:01.295716Z",
     "iopub.status.busy": "2023-05-07T21:06:01.295716Z",
     "iopub.status.idle": "2023-05-07T21:07:59.466924Z",
     "shell.execute_reply": "2023-05-07T21:07:59.465926Z",
     "shell.execute_reply.started": "2023-05-07T21:06:01.295716Z"
    },
    "jupyter": {
     "source_hidden": true
    },
    "scrolled": true,
    "tags": []
   },
   "outputs": [
    {
     "name": "stderr",
     "output_type": "stream",
     "text": [
      "Extracting related objects from relationship collection: 100%|██████████████| 169534/169534 [00:06<00:00, 25978.63it/s]\n",
      "person_related_objects_update: 100%|████████████████████████████████████████████| 16767/16767 [00:17<00:00, 978.18it/s]\n",
      "resource_related_objects_update: 100%|█████████████████████████████████████████| 39400/39400 [00:32<00:00, 1219.39it/s]\n",
      "work_related_objects_update: 100%|█████████████████████████████████████████████| 23088/23088 [00:20<00:00, 1147.71it/s]\n",
      "event_related_objects_update: 100%|████████████████████████████████████████████| 21337/21337 [00:21<00:00, 1004.55it/s]\n",
      "recognition_related_objects_update: 100%|████████████████████████████████████████| 5314/5314 [00:04<00:00, 1181.80it/s]\n",
      "place_related_objects_update: 100%|████████████████████████████████████████████| 15352/15352 [00:14<00:00, 1050.23it/s]\n"
     ]
    },
    {
     "name": "stdout",
     "output_type": "stream",
     "text": [
      "The DBrefs of the relationships have been successfully updated to `related_XXX` fields!\n"
     ]
    }
   ],
   "source": [
    "#####\n",
    "# Update the original records with references\n",
    "# to the relationships of their related records using DBRefs.\n",
    "#####\n",
    "acde_opr.acde_update_related_DBRef(data_source=\"DAAO\", db=daao_meta.acde_db)"
   ]
  },
  {
   "cell_type": "code",
   "execution_count": 34,
   "id": "3ca7843a-a8ea-4b31-8191-9578d838d075",
   "metadata": {
    "execution": {
     "iopub.execute_input": "2023-05-07T21:07:59.467921Z",
     "iopub.status.busy": "2023-05-07T21:07:59.467921Z",
     "iopub.status.idle": "2023-05-07T21:12:48.204183Z",
     "shell.execute_reply": "2023-05-07T21:12:48.203187Z",
     "shell.execute_reply.started": "2023-05-07T21:07:59.467921Z"
    },
    "jupyter": {
     "source_hidden": true
    },
    "scrolled": true,
    "tags": []
   },
   "outputs": [
    {
     "name": "stderr",
     "output_type": "stream",
     "text": [
      "event_related_places: 100%|████████████████████████████████████████████████████| 20139/20139 [00:18<00:00, 1091.97it/s]\n",
      "event_related_people: 100%|█████████████████████████████████████████████████████| 20588/20588 [00:21<00:00, 970.60it/s]\n",
      "event_related_events: 100%|█████████████████████████████████████████████████████████| 858/858 [00:00<00:00, 871.78it/s]\n"
     ]
    },
    {
     "name": "stdout",
     "output_type": "stream",
     "text": [
      "event_related_organizations doesn't have any records.\n"
     ]
    },
    {
     "name": "stderr",
     "output_type": "stream",
     "text": [
      "event_related_works: 100%|██████████████████████████████████████████████████████████| 349/349 [00:00<00:00, 615.61it/s]\n",
      "event_related_resources: 100%|██████████████████████████████████████████████████████| 265/265 [00:00<00:00, 835.63it/s]\n"
     ]
    },
    {
     "name": "stdout",
     "output_type": "stream",
     "text": [
      "event_related_recognitions doesn't have any records.\n"
     ]
    },
    {
     "name": "stderr",
     "output_type": "stream",
     "text": [
      "recognition_related_places: 100%|█████████████████████████████████████████████████████| 21/21 [00:00<00:00, 800.61it/s]\n",
      "recognition_related_people: 100%|████████████████████████████████████████████████| 5299/5299 [00:04<00:00, 1092.78it/s]\n"
     ]
    },
    {
     "name": "stdout",
     "output_type": "stream",
     "text": [
      "recognition_related_events doesn't have any records.\n",
      "recognition_related_organizations doesn't have any records.\n"
     ]
    },
    {
     "name": "stderr",
     "output_type": "stream",
     "text": [
      "recognition_related_works: 100%|█████████████████████████████████████████████████████| 27/27 [00:00<00:00, 1289.38it/s]\n",
      "recognition_related_resources: 100%|████████████████████████████████████████████████████| 5/5 [00:00<00:00, 715.75it/s]\n"
     ]
    },
    {
     "name": "stdout",
     "output_type": "stream",
     "text": [
      "recognition_related_recognitions doesn't have any records.\n",
      "organization_related_places doesn't have any records.\n",
      "organization_related_people doesn't have any records.\n",
      "organization_related_events doesn't have any records.\n",
      "organization_related_organizations doesn't have any records.\n",
      "organization_related_works doesn't have any records.\n",
      "organization_related_resources doesn't have any records.\n",
      "organization_related_recognitions doesn't have any records.\n",
      "place_related_places doesn't have any records.\n"
     ]
    },
    {
     "name": "stderr",
     "output_type": "stream",
     "text": [
      "place_related_people: 100%|███████████████████████████████████████████████████████| 9165/9165 [00:09<00:00, 961.44it/s]\n",
      "place_related_events: 100%|███████████████████████████████████████████████████████| 6694/6694 [00:07<00:00, 879.75it/s]\n"
     ]
    },
    {
     "name": "stdout",
     "output_type": "stream",
     "text": [
      "place_related_organizations doesn't have any records.\n"
     ]
    },
    {
     "name": "stderr",
     "output_type": "stream",
     "text": [
      "place_related_works: 100%|█████████████████████████████████████████████████████████████| 7/7 [00:00<00:00, 1175.82it/s]\n",
      "place_related_resources: 100%|██████████████████████████████████████████████████████| 121/121 [00:00<00:00, 460.47it/s]\n",
      "place_related_recognitions: 100%|█████████████████████████████████████████████████████| 21/21 [00:00<00:00, 684.10it/s]\n",
      "person_related_places: 100%|██████████████████████████████████████████████████████| 9940/9940 [00:10<00:00, 932.56it/s]\n",
      "person_related_people: 100%|██████████████████████████████████████████████████████| 6729/6729 [00:08<00:00, 760.72it/s]\n",
      "person_related_events: 100%|██████████████████████████████████████████████████████| 9600/9600 [00:13<00:00, 727.19it/s]\n"
     ]
    },
    {
     "name": "stdout",
     "output_type": "stream",
     "text": [
      "person_related_organizations doesn't have any records.\n"
     ]
    },
    {
     "name": "stderr",
     "output_type": "stream",
     "text": [
      "person_related_works: 100%|███████████████████████████████████████████████████████| 6202/6202 [00:08<00:00, 773.13it/s]\n",
      "person_related_resources: 100%|█████████████████████████████████████████████████| 10151/10151 [00:11<00:00, 857.15it/s]\n",
      "person_related_recognitions: 100%|████████████████████████████████████████████████| 1999/1999 [00:03<00:00, 519.20it/s]\n",
      "work_related_places: 100%|████████████████████████████████████████████████████████████| 11/11 [00:00<00:00, 919.16it/s]\n",
      "work_related_people: 100%|██████████████████████████████████████████████████████| 22141/22141 [00:24<00:00, 912.07it/s]\n",
      "work_related_events: 100%|███████████████████████████████████████████████████████| 2291/2291 [00:02<00:00, 1058.23it/s]\n"
     ]
    },
    {
     "name": "stdout",
     "output_type": "stream",
     "text": [
      "work_related_organizations doesn't have any records.\n",
      "work_related_works doesn't have any records.\n"
     ]
    },
    {
     "name": "stderr",
     "output_type": "stream",
     "text": [
      "work_related_resources: 100%|████████████████████████████████████████████████████| 3024/3024 [00:02<00:00, 1222.89it/s]\n",
      "work_related_recognitions: 100%|█████████████████████████████████████████████████████| 24/24 [00:00<00:00, 1093.86it/s]\n",
      "resource_related_places: 100%|███████████████████████████████████████████████████| 2138/2138 [00:01<00:00, 1315.94it/s]\n",
      "resource_related_people: 100%|█████████████████████████████████████████████████| 34203/34203 [00:27<00:00, 1260.85it/s]\n",
      "resource_related_events: 100%|█████████████████████████████████████████████████████| 277/277 [00:00<00:00, 1263.92it/s]\n"
     ]
    },
    {
     "name": "stdout",
     "output_type": "stream",
     "text": [
      "resource_related_organizations doesn't have any records.\n"
     ]
    },
    {
     "name": "stderr",
     "output_type": "stream",
     "text": [
      "resource_related_works: 100%|████████████████████████████████████████████████████| 4031/4031 [00:03<00:00, 1181.33it/s]\n"
     ]
    },
    {
     "name": "stdout",
     "output_type": "stream",
     "text": [
      "resource_related_resources doesn't have any records.\n"
     ]
    },
    {
     "name": "stderr",
     "output_type": "stream",
     "text": [
      "resource_related_recognitions: 100%|████████████████████████████████████████████████████| 5/5 [00:00<00:00, 835.29it/s]"
     ]
    },
    {
     "name": "stdout",
     "output_type": "stream",
     "text": [
      "The lookup documents of DBRefs have been successfully updated to `related_XXX` fields!\n"
     ]
    },
    {
     "name": "stderr",
     "output_type": "stream",
     "text": [
      "\n"
     ]
    }
   ],
   "source": [
    "loading_colls = set(coll for coll in acde_opr.Class_RelatedFN_mapping.keys())\n",
    "proj_cond = {\n",
    "    \"predicate\": 1,\n",
    "    \"subject\": 1,\n",
    "    \"object\": 1,\n",
    "    \"_id\": 0,\n",
    "    \"relationship_dbid\": \"$_id\",\n",
    "    \"relation_class\": 1,\n",
    "    \"data_source\": 1,\n",
    "}\n",
    "\n",
    "data_source = \"DAAO\"\n",
    "\n",
    "#####\n",
    "# Update the original records having relationship DBRefs with lookup documents.\n",
    "#####\n",
    "\n",
    "# # Method 1\n",
    "# acde_opr.acde_add_related_objects(\n",
    "#     daao_meta.acde_db, data_source=\"DAAO\", loading_objs=loading_objs\n",
    "# )\n",
    "\n",
    "# # Method 2\n",
    "acde_opr.acde_update_related_fields(\n",
    "    data_source=data_source,\n",
    "    proj_cond=proj_cond,\n",
    "    loading_colls=loading_colls,\n",
    "    db=daao_meta.acde_db,\n",
    ")"
   ]
  },
  {
   "cell_type": "markdown",
   "id": "e9e185f1-52bb-4ef4-9b82-e762ea50bc5c",
   "metadata": {},
   "source": [
    "## Learning Notes\n",
    "\n",
    "0. [DAAO folder sharing](https://cloudstor.aarnet.edu.au/plus/s/SAZARhWR6QAMhIr)\n",
    "\n",
    "1. [MongoEngine _types and _cls fields](https://stackoverflow.com/questions/13824569/mongoengine-types-and-cls-fields)\n",
    "\n",
    "2. [MongoDB: Using aggregation pipeline to extract DBref using $lookup operator](https://dev.to/saurabh73/mongodb-using-aggregation-pipeline-to-extract-dbref-using-lookup-operator-4ekl)\n",
    "\n",
    "3. [removing null values from a dictionary](https://stephenweiss.dev/python-remove-none-from-dictionary/)\n",
    "\n",
    "4. [How to remove all empty fields in a nested dict?](https://stackoverflow.com/questions/27973988/how-to-remove-all-empty-fields-in-a-nested-dict)\n",
    "\n",
    "5. https://stackoverflow.com/questions/36019713/mongodb-nested-lookup-with-3-levels\n",
    "\n",
    "6. https://stackoverflow.com/questions/7811163/query-for-documents-where-array-size-is-greater-than-1\n",
    "\n",
    "7. https://blog.csdn.net/wyg_031113/article/details/107040405\n",
    "\n",
    "8. https://stackoverflow.com/questions/34055609/how-to-show-data-from-2-collections-in-mongodb-with-dbref\n",
    "\n",
    "9. https://stackoverflow.com/questions/7061339/how-to-convert-u00e9-into-a-utf8-char-in-mysql-or-php\n",
    "\n",
    "10. [Python encoding and json dumps](https://stackoverflow.com/questions/35582528/python-encoding-and-json-dumps)\n",
    "\n",
    "11. [Mongodb group and push with empty arrays](https://stackoverflow.com/questions/56312636/mongodb-group-and-push-with-empty-arrays)\n",
    "\n",
    "12. [Elegant way to check if a nested key exists in a dict?](https://stackoverflow.com/questions/43491287/elegant-way-to-check-if-a-nested-key-exists-in-a-dict)\n",
    "\n",
    "13. [Safe method to get value of nested dictionary](https://stackoverflow.com/questions/25833613/safe-method-to-get-value-of-nested-dictionary)\n",
    "\n",
    "14. [Convert field from list of objectids to list of string](https://stackoverflow.com/questions/67902748/convert-field-from-list-of-objectids-to-list-of-string)\n",
    "\n",
    "15. [How to convert array of objects into nested object in MongoDB aggregation pipeline](https://stackoverflow.com/questions/69684136/how-to-convert-array-of-objects-into-nested-object-in-mongodb-aggregation-pipeli)\n",
    "\n",
    "16. [Return actual type of a field in MongoDB](https://stackoverflow.com/questions/3208538/return-actual-type-of-a-field-in-mongodb)\n",
    "    * [Get names of all keys in the collection](https://stackoverflow.com/questions/2298870/get-names-of-all-keys-in-the-collection)"
   ]
  }
 ],
 "metadata": {
  "kernelspec": {
   "display_name": "ACD_Engine",
   "language": "python",
   "name": "acd_engine"
  },
  "language_info": {
   "codemirror_mode": {
    "name": "ipython",
    "version": 3
   },
   "file_extension": ".py",
   "mimetype": "text/x-python",
   "name": "python",
   "nbconvert_exporter": "python",
   "pygments_lexer": "ipython3",
   "version": "3.9.13"
  },
  "widgets": {
   "application/vnd.jupyter.widget-state+json": {
    "state": {},
    "version_major": 2,
    "version_minor": 0
   }
  }
 },
 "nbformat": 4,
 "nbformat_minor": 5
}
