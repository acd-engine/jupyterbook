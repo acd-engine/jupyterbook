{
 "cells": [
  {
   "cell_type": "markdown",
   "id": "a72e4719-d168-44d6-ae4b-c42d1359ee88",
   "metadata": {},
   "source": [
    "## 1 Setting"
   ]
  },
  {
   "cell_type": "code",
   "execution_count": 1,
   "id": "226dfac2-ee51-4f8d-b1e9-06280cf6144f",
   "metadata": {
    "execution": {
     "iopub.execute_input": "2023-05-07T16:29:01.870429Z",
     "iopub.status.busy": "2023-05-07T16:29:01.869433Z",
     "iopub.status.idle": "2023-05-07T16:29:03.227634Z",
     "shell.execute_reply": "2023-05-07T16:29:03.226637Z",
     "shell.execute_reply.started": "2023-05-07T16:29:01.870429Z"
    },
    "jupyter": {
     "source_hidden": true
    },
    "tags": []
   },
   "outputs": [],
   "source": [
    "import itertools\n",
    "import json\n",
    "import os\n",
    "import pprint\n",
    "import re\n",
    "import sqlite3\n",
    "import sys\n",
    "from collections import Counter, defaultdict\n",
    "\n",
    "import pandas as pd\n",
    "from tqdm import tqdm\n",
    "\n",
    "codefolder = \"C:/ProjectCollections/Programs/Australia_Cultural_Data_Engine/codes\"\n",
    "\n",
    "data_folder = \"D:/Program_Data/Australia_Cultural_Data_Engine_Data/circusoz\"\n",
    "\n",
    "sys.path.append(codefolder)\n",
    "from acde import MongoDBManipulation as acde_manip\n",
    "from general import GeneralFunctions as gf\n",
    "from general import JsonProcessing as jp\n",
    "from general import MongoDBManipulation as gen_manip\n",
    "\n",
    "circuzoz_conn = sqlite3.connect(os.path.join(data_folder, \"circuzOz_draft.db\"))\n",
    "acde_opr = acde_manip.ACDE_Manipulation()\n",
    "acde_db = acde_opr.acde_db"
   ]
  },
  {
   "cell_type": "markdown",
   "id": "88b961e4-9da0-4770-b1d7-8cc5fa4a5d68",
   "metadata": {},
   "source": [
    "## Place Loading"
   ]
  },
  {
   "cell_type": "code",
   "execution_count": 2,
   "id": "064f5d14-90ff-4ce3-9bd8-2cdf63b94930",
   "metadata": {
    "execution": {
     "iopub.execute_input": "2023-05-07T16:29:03.229630Z",
     "iopub.status.busy": "2023-05-07T16:29:03.228633Z",
     "iopub.status.idle": "2023-05-07T16:29:03.478963Z",
     "shell.execute_reply": "2023-05-07T16:29:03.477994Z",
     "shell.execute_reply.started": "2023-05-07T16:29:03.229630Z"
    },
    "jupyter": {
     "source_hidden": true
    },
    "tags": []
   },
   "outputs": [
    {
     "name": "stderr",
     "output_type": "stream",
     "text": [
      "Loading place level: 100%|█████████████████████████████████████████████████████████| 137/137 [00:00<00:00, 1560.92it/s]\n"
     ]
    }
   ],
   "source": [
    "curr_lvl = \"place\"\n",
    "acde_db[curr_lvl].delete_many({\"data_source\": \"CircusOZ\"})\n",
    "\n",
    "venue_df = pd.read_sql(\"\"\"SELECT * from acde_venue;\"\"\", con=circuzoz_conn,).fillna(\"\")\n",
    "venue_loading_df = venue_df[venue_df[\"name\"] != \"UNKNOWN\"][\n",
    "    [\"data_source\", \"_class\", \"_class_ori\", \"name\", \"address\", \"type\"]\n",
    "].copy()\n",
    "venue_loading_df[[\"country\", \"postcode\", \"state\", \"suburb\", \"street\"]] = (\n",
    "    venue_loading_df[\"address\"]\n",
    "    .apply(lambda x: x.split(\", \", 4)[::-1] if x else [None])\n",
    "    .apply(pd.Series)\n",
    ")\n",
    "venue_df = venue_df.merge(\n",
    "    venue_loading_df[[\"country\", \"postcode\", \"state\", \"suburb\", \"street\"]],\n",
    "    left_index=True,\n",
    "    right_index=True,\n",
    "    how=\"left\",\n",
    ")\n",
    "venue_loading_df = venue_loading_df.drop_duplicates()\n",
    "\n",
    "removeFields_place = [\n",
    "    \"name\",\n",
    "    \"country\",\n",
    "    \"state\",\n",
    "    \"suburb\",\n",
    "    \"street\",\n",
    "    \"postcode\",\n",
    "]\n",
    "\n",
    "with tqdm(total=venue_loading_df.shape[0], desc=f\"Loading {curr_lvl} level\") as pbar:\n",
    "    for idx, record in enumerate(venue_loading_df.to_dict(\"records\")):\n",
    "        record[\"display_name\"] = record.get(\"name\")\n",
    "        record[\"address\"] = {\n",
    "            \"country\": record.get(\"country\"),\n",
    "            \"state\": record.get(\"state\"),\n",
    "            \"suburb\": record.get(\"suburb\"),\n",
    "            \"street\": record.get(\"street\"),\n",
    "            \"postcode\": record.get(\"postcode\"),\n",
    "            \"ori_address\": record.get(\"address\"),\n",
    "        }\n",
    "        for f in removeFields_place:\n",
    "            record.pop(f)\n",
    "        record = jp.clean_empty_values(record)\n",
    "        try:\n",
    "            # insert new record\n",
    "            acde_db[curr_lvl].insert_one(record)\n",
    "        except Exception as e:\n",
    "            print(e)\n",
    "            print(idx, record)\n",
    "        pbar.update(1)"
   ]
  },
  {
   "cell_type": "code",
   "execution_count": 3,
   "id": "2a392a92-c9a0-4792-b90d-d95bc61f6e5f",
   "metadata": {
    "execution": {
     "iopub.execute_input": "2023-05-07T16:29:03.480957Z",
     "iopub.status.busy": "2023-05-07T16:29:03.479960Z",
     "iopub.status.idle": "2023-05-07T16:29:03.509914Z",
     "shell.execute_reply": "2023-05-07T16:29:03.508915Z",
     "shell.execute_reply.started": "2023-05-07T16:29:03.480957Z"
    },
    "jupyter": {
     "source_hidden": true
    },
    "tags": []
   },
   "outputs": [],
   "source": [
    "collection_places = {}\n",
    "\n",
    "for record in venue_df[\n",
    "    [\n",
    "        \"event_number\",\n",
    "        \"name\",\n",
    "        \"address\",\n",
    "        \"type\",\n",
    "        \"country\",\n",
    "        \"postcode\",\n",
    "        \"state\",\n",
    "        \"suburb\",\n",
    "        \"street\",\n",
    "    ]\n",
    "].to_dict(\"records\"):\n",
    "    record[\"address\"] = {\n",
    "        \"country\": record.get(\"country\"),\n",
    "        \"state\": record.get(\"state\"),\n",
    "        \"suburb\": record.get(\"suburb\"),\n",
    "        \"street\": record.get(\"street\"),\n",
    "        \"postcode\": record.get(\"postcode\"),\n",
    "        \"ori_address\": record.get(\"address\"),\n",
    "    }\n",
    "    record = jp.clean_empty_values(record)\n",
    "    en = record.get(\"event_number\")\n",
    "    record = {\n",
    "        k: v\n",
    "        for k, v in record.items()\n",
    "        if k\n",
    "        not in [\"event_number\", \"country\", \"postcode\", \"state\", \"suburb\", \"street\",]\n",
    "    }\n",
    "    collection_places[en] = record"
   ]
  },
  {
   "cell_type": "markdown",
   "id": "5dbeda93-afc8-46b4-81b8-8d20ad59979b",
   "metadata": {},
   "source": [
    "## Event Loading"
   ]
  },
  {
   "cell_type": "code",
   "execution_count": 4,
   "id": "ca86b2dc-4309-4fc4-94a4-34d9f7700a52",
   "metadata": {
    "execution": {
     "iopub.execute_input": "2023-05-07T16:29:03.511873Z",
     "iopub.status.busy": "2023-05-07T16:29:03.510878Z",
     "iopub.status.idle": "2023-05-07T16:29:04.072373Z",
     "shell.execute_reply": "2023-05-07T16:29:04.071376Z",
     "shell.execute_reply.started": "2023-05-07T16:29:03.510878Z"
    },
    "jupyter": {
     "source_hidden": true
    },
    "tags": []
   },
   "outputs": [
    {
     "name": "stderr",
     "output_type": "stream",
     "text": [
      "Loading event level: 100%|█████████████████████████████████████████████████████████| 480/480 [00:00<00:00, 1436.54it/s]\n"
     ]
    }
   ],
   "source": [
    "event_df = pd.read_sql(\"\"\"SELECT * from acde_event;\"\"\", con=circuzoz_conn,)\n",
    "event_loading_df = event_df.drop(\"person_number\", axis=1).drop_duplicates().copy()\n",
    "event_loading_df[\"umbrella\"] = event_loading_df[[\"umbrella_1\", \"umbrella_2\"]].apply(\n",
    "    lambda x: list(set([x[0], x[1]]) - set([None])), axis=1\n",
    ")\n",
    "\n",
    "removeFields_event = [\n",
    "    \"date_end_year\",\n",
    "    \"date_end_month\",\n",
    "    \"date_end_day\",\n",
    "    \"date_start_year\",\n",
    "    \"date_start_month\",\n",
    "    \"date_start_day\",\n",
    "    \"umbrella_1\",\n",
    "    \"umbrella_2\",\n",
    "    \"type\",\n",
    "]\n",
    "\n",
    "curr_lvl = \"event\"\n",
    "acde_db[curr_lvl].delete_many({\"data_source\": \"CircusOZ\"})\n",
    "\n",
    "with tqdm(total=event_loading_df.shape[0], desc=f\"Loading {curr_lvl} level\") as pbar:\n",
    "    for idx, record in enumerate(event_loading_df.to_dict(\"records\")):\n",
    "        event_venue = collection_places.get(record.get(\"ori_id\"))\n",
    "        record[\"types\"] = [record.get(\"type\")]\n",
    "        record[\"coverage_ranges\"] = [\n",
    "            {\n",
    "                \"date_range\": {\n",
    "                    \"date_start\": {\n",
    "                        \"year\": record.get(\"date_start_year\"),\n",
    "                        \"month\": record.get(\"date_start_month\").lstrip(\"0\")\n",
    "                        if record.get(\"date_start_month\")\n",
    "                        else None,\n",
    "                        \"day\": record.get(\"date_start_day\").lstrip(\"0\")\n",
    "                        if record.get(\"date_start_day\")\n",
    "                        else None,\n",
    "                    },\n",
    "                    \"date_end\": {\n",
    "                        \"year\": record.get(\"date_end_year\"),\n",
    "                        \"month\": record.get(\"date_end_month\").lstrip(\"0\")\n",
    "                        if record.get(\"date_end_month\")\n",
    "                        else None,\n",
    "                        \"day\": record.get(\"date_end_day\").lstrip(\"0\")\n",
    "                        if record.get(\"date_end_day\")\n",
    "                        else None,\n",
    "                    },\n",
    "                },\n",
    "                \"place\": event_venue,\n",
    "            }\n",
    "        ]\n",
    "        if record.get(\"altertative_titles\"):\n",
    "            record[\"altertative_titles\"] = record[\"altertative_titles\"].split(\"; \")\n",
    "        for f in removeFields_event:\n",
    "            record.pop(f)\n",
    "        record = jp.clean_empty_values(record)\n",
    "        try:\n",
    "            # insert new record\n",
    "            acde_db[curr_lvl].insert_one(record)\n",
    "        except Exception as e:\n",
    "            print(e)\n",
    "            break\n",
    "        pbar.update(1)"
   ]
  },
  {
   "cell_type": "markdown",
   "id": "f8c704e0-9b4a-46f0-bbbd-42a6cd48dbf8",
   "metadata": {},
   "source": [
    "## Person Loading"
   ]
  },
  {
   "cell_type": "code",
   "execution_count": 5,
   "id": "bd1c24ed-7ada-4348-89bd-6a60f6bb9dcc",
   "metadata": {
    "execution": {
     "iopub.execute_input": "2023-05-07T16:29:04.079355Z",
     "iopub.status.busy": "2023-05-07T16:29:04.079355Z",
     "iopub.status.idle": "2023-05-07T16:29:04.620199Z",
     "shell.execute_reply": "2023-05-07T16:29:04.619201Z",
     "shell.execute_reply.started": "2023-05-07T16:29:04.079355Z"
    },
    "jupyter": {
     "source_hidden": true
    },
    "tags": []
   },
   "outputs": [],
   "source": [
    "person_df = pd.read_sql(\"\"\"SELECT * from acde_person;\"\"\", con=circuzoz_conn,)\n",
    "person_df[\"family_name\"] = person_df.family_name.str.capitalize()\n",
    "person_df[\"given_names\"] = person_df.given_names.str.capitalize()\n",
    "person_loading_df = (\n",
    "    person_df[\n",
    "        [\"ori_id\", \"given_names\", \"family_name\", \"display_name\", \"alternative_names\",]\n",
    "    ]\n",
    "    .groupby(\"ori_id\")\n",
    "    .agg(set)\n",
    "    .applymap(lambda x: list(x - set([None])))\n",
    "    .applymap(lambda x: x[0] if x else None)\n",
    "    .copy()\n",
    ")\n",
    "person_loading_df[\"alternative_names\"] = person_loading_df[\"alternative_names\"].apply(\n",
    "    lambda x: x.split(\";\") if x else []\n",
    ")\n",
    "pa_df = pd.read_sql(\"\"\"SELECT * from acde_pa;\"\"\", con=circuzoz_conn,)\n",
    "pa_df = (\n",
    "    pa_df.melt(\n",
    "        id_vars=[\"ori_id\", \"id_(AS)\", \"gender\",],\n",
    "        var_name=\"ori_attr_name\",\n",
    "        value_name=\"detailed_role\",\n",
    "    )\n",
    "    .merge(\n",
    "        pd.read_sql(\"SELECT * from ROLE_AS;\", con=circuzoz_conn,),\n",
    "        left_on=[\"ori_attr_name\", \"detailed_role\"],\n",
    "        right_on=[\"ori_attr_name\", \"ori_attr_value\"],\n",
    "        how=\"left\",\n",
    "    )\n",
    "    .merge(\n",
    "        pd.read_sql(\n",
    "            \"\"\"SELECT\n",
    "\t\"ROLE CATEGORIES\" as broad_role,\n",
    "\t\"ROLE.NUMBER\"\n",
    "from\n",
    "\tROLE;\"\"\",\n",
    "            con=circuzoz_conn,\n",
    "        ),\n",
    "        on=\"ROLE.NUMBER\",\n",
    "        how=\"left\",\n",
    "    )\n",
    "    .drop([\"ori_attr_name\", \"ROLE.NUMBER\", \"ori_attr_value\"], axis=1)\n",
    ")\n",
    "pf_df = pd.read_sql(\"\"\"SELECT * from acde_pf;\"\"\", con=circuzoz_conn,)\n",
    "pc_df = pd.read_sql(\"\"\"SELECT * from acde_pc;\"\"\", con=circuzoz_conn,)\n",
    "\n",
    "person_loading_dep_df = pd.concat([pa_df, pc_df, pf_df], axis=0)\n",
    "person_loading_dep_df[\"longterm_roles\"] = (\n",
    "    person_loading_dep_df[[\"detailed_role\", \"broad_role\"]]\n",
    "    .fillna(\"Unknown\")\n",
    "    .apply(lambda x: tuple([x[1], x[0]]), axis=1)\n",
    ")\n",
    "person_loading_dep_df = (\n",
    "    person_loading_dep_df.drop([\"detailed_role\", \"broad_role\"], axis=1)\n",
    "    .fillna(\"\")\n",
    "    .groupby(\"ori_id\")\n",
    "    .agg(set)\n",
    "    .applymap(lambda x: list(x - set([\"\"])) if len(x - set([\"\"])) != 0 else [])\n",
    ")\n",
    "person_loading_dep_df[\n",
    "    [\"id_(AS)\", \"gender\", \"videoid_(CO-vids)\", \"id_(FMP)\", \"notes_(FMP)\"]\n",
    "] = person_loading_dep_df[\n",
    "    [\"id_(AS)\", \"gender\", \"videoid_(CO-vids)\", \"id_(FMP)\", \"notes_(FMP)\"]\n",
    "].applymap(\n",
    "    lambda x: x[0] if x else None\n",
    ")\n",
    "person_loading_dep_df[\"longterm_roles\"] = person_loading_dep_df[\"longterm_roles\"].apply(\n",
    "    lambda x: [\n",
    "        {\"broad_role\": k, \"detailed_role\": v}\n",
    "        for k, v in x\n",
    "        if not (k == \"Unknown\" and v == \"Unknown\")\n",
    "    ]\n",
    ")\n",
    "person_loading_df = person_loading_df.merge(\n",
    "    person_loading_dep_df, left_on=\"ori_id\", right_index=True, how=\"left\"\n",
    ").reset_index()\n",
    "person_loading_df[[\"data_source\", \"_class\", \"_class_ori\"]] = [\n",
    "    \"CircusOZ\",\n",
    "    \"person\",\n",
    "    \"person\",\n",
    "]"
   ]
  },
  {
   "cell_type": "code",
   "execution_count": 6,
   "id": "0b529666-e3c9-490e-830e-501e37932044",
   "metadata": {
    "execution": {
     "iopub.execute_input": "2023-05-07T16:29:04.621196Z",
     "iopub.status.busy": "2023-05-07T16:29:04.621196Z",
     "iopub.status.idle": "2023-05-07T16:29:04.651998Z",
     "shell.execute_reply": "2023-05-07T16:29:04.651023Z",
     "shell.execute_reply.started": "2023-05-07T16:29:04.621196Z"
    },
    "jupyter": {
     "source_hidden": true
    }
   },
   "outputs": [
    {
     "name": "stdout",
     "output_type": "stream",
     "text": [
      "<class 'pandas.core.frame.DataFrame'>\n",
      "RangeIndex: 749 entries, 0 to 748\n",
      "Data columns (total 14 columns):\n",
      " #   Column             Non-Null Count  Dtype  \n",
      "---  ------             --------------  -----  \n",
      " 0   ori_id             749 non-null    object \n",
      " 1   given_names        747 non-null    object \n",
      " 2   family_name        746 non-null    object \n",
      " 3   display_name       749 non-null    object \n",
      " 4   alternative_names  749 non-null    object \n",
      " 5   id_(AS)            202 non-null    float64\n",
      " 6   gender             202 non-null    object \n",
      " 7   videoid_(CO-vids)  45 non-null     object \n",
      " 8   id_(FMP)           621 non-null    object \n",
      " 9   notes_(FMP)        298 non-null    object \n",
      " 10  longterm_roles     744 non-null    object \n",
      " 11  data_source        749 non-null    object \n",
      " 12  _class             749 non-null    object \n",
      " 13  _class_ori         749 non-null    object \n",
      "dtypes: float64(1), object(13)\n",
      "memory usage: 82.0+ KB\n"
     ]
    }
   ],
   "source": [
    "person_loading_df.info()"
   ]
  },
  {
   "cell_type": "code",
   "execution_count": 7,
   "id": "e309c6f4-33ec-4d6b-96f2-a2315f41844e",
   "metadata": {
    "execution": {
     "iopub.execute_input": "2023-05-07T16:29:04.652993Z",
     "iopub.status.busy": "2023-05-07T16:29:04.652993Z",
     "iopub.status.idle": "2023-05-07T16:29:05.494431Z",
     "shell.execute_reply": "2023-05-07T16:29:05.493431Z",
     "shell.execute_reply.started": "2023-05-07T16:29:04.652993Z"
    },
    "jupyter": {
     "source_hidden": true
    },
    "tags": []
   },
   "outputs": [
    {
     "name": "stderr",
     "output_type": "stream",
     "text": [
      "Loading person level: 100%|████████████████████████████████████████████████████████| 749/749 [00:00<00:00, 1411.64it/s]\n"
     ]
    }
   ],
   "source": [
    "curr_lvl = \"person\"\n",
    "acde_db[curr_lvl].delete_many({\"data_source\": \"CircusOZ\"})\n",
    "\n",
    "removeFields_person = [\n",
    "    \"given_names\",\n",
    "    \"family_name\",\n",
    "]\n",
    "\n",
    "with tqdm(total=person_loading_df.shape[0], desc=f\"Loading {curr_lvl} level\") as pbar:\n",
    "    for idx, record in enumerate(person_loading_df.to_dict(\"records\")):\n",
    "        record[\"primary_name\"] = {\n",
    "            \"given_names\": record.get(\"given_names\"),\n",
    "            \"family_name\": record.get(\"family_name\"),\n",
    "        }\n",
    "        for f in removeFields_person:\n",
    "            record.pop(f)\n",
    "        record = jp.clean_empty_values(record)\n",
    "        try:\n",
    "            # insert new record\n",
    "            acde_db[curr_lvl].insert_one(record)\n",
    "        except Exception as e:\n",
    "            print(e)\n",
    "            break\n",
    "        pbar.update(1)"
   ]
  },
  {
   "cell_type": "markdown",
   "id": "84ea676b-38b7-4abc-8150-b5924481e9a4",
   "metadata": {},
   "source": [
    "## Relationship Loading"
   ]
  },
  {
   "cell_type": "code",
   "execution_count": 8,
   "id": "c038a7c5-9b43-46ff-9865-f56396d2addd",
   "metadata": {
    "execution": {
     "iopub.execute_input": "2023-05-07T16:29:05.497422Z",
     "iopub.status.busy": "2023-05-07T16:29:05.496424Z",
     "iopub.status.idle": "2023-05-07T16:29:05.726810Z",
     "shell.execute_reply": "2023-05-07T16:29:05.725810Z",
     "shell.execute_reply.started": "2023-05-07T16:29:05.497422Z"
    },
    "jupyter": {
     "source_hidden": true
    },
    "tags": []
   },
   "outputs": [],
   "source": [
    "# event - venue\n",
    "ev_df = (\n",
    "    (\n",
    "        venue_df.query(\"name != 'UNKNOWN'\")[[\"event_number\", \"name\"]]\n",
    "        .merge(\n",
    "            pd.DataFrame(\n",
    "                acde_db[\"place\"].find(\n",
    "                    {\"data_source\": \"CircusOZ\"},\n",
    "                    {\n",
    "                        \"venue_curr_dbid\": \"$_id\",\n",
    "                        \"venue_label\": \"$display_name\",\n",
    "                        \"venue__class\": \"$_class\",\n",
    "                        \"venue__class_ori\": \"$_class_ori\",\n",
    "                        \"_id\": 0,\n",
    "                    },\n",
    "                )\n",
    "            ),\n",
    "            left_on=\"name\",\n",
    "            right_on=\"venue_label\",\n",
    "            how=\"left\",\n",
    "        )\n",
    "        .merge(\n",
    "            pd.DataFrame(\n",
    "                acde_db[\"event\"].find(\n",
    "                    {\"data_source\": \"CircusOZ\"},\n",
    "                    {\n",
    "                        \"event_curr_dbid\": \"$_id\",\n",
    "                        \"event_ori_id\": \"$ori_id\",\n",
    "                        \"_id\": 0,\n",
    "                        \"event_label\": \"$title\",\n",
    "                        \"event__class\": \"$_class\",\n",
    "                        \"event__class_ori\": \"$_class_ori\",\n",
    "                    },\n",
    "                )\n",
    "            ),\n",
    "            left_on=\"event_number\",\n",
    "            right_on=\"event_ori_id\",\n",
    "            how=\"left\",\n",
    "        )\n",
    "        .drop([\"event_number\", \"name\"], axis=1)\n",
    "    )\n",
    "    .dropna(subset=[\"venue_curr_dbid\", \"event_curr_dbid\"])\n",
    "    .fillna(\"\")\n",
    ")\n",
    "ev_df[[\"relation_class\", \"data_source\", \"_class\"]] = [\n",
    "    \"Event_RelatedPlace\",\n",
    "    \"CircusOZ\",\n",
    "    \"relationship\",\n",
    "]"
   ]
  },
  {
   "cell_type": "code",
   "execution_count": 9,
   "id": "d307eb80-e244-4516-8c80-6b16c3a5e640",
   "metadata": {
    "execution": {
     "iopub.execute_input": "2023-05-07T16:29:05.728834Z",
     "iopub.status.busy": "2023-05-07T16:29:05.727805Z",
     "iopub.status.idle": "2023-05-07T16:29:06.071096Z",
     "shell.execute_reply": "2023-05-07T16:29:06.070127Z",
     "shell.execute_reply.started": "2023-05-07T16:29:05.728834Z"
    },
    "jupyter": {
     "source_hidden": true
    },
    "tags": []
   },
   "outputs": [],
   "source": [
    "# event - person\n",
    "ep_df = (\n",
    "    event_df[[\"ori_id\", \"person_number\"]]\n",
    "    .dropna()\n",
    "    .merge(\n",
    "        pd.DataFrame(\n",
    "            acde_db[\"event\"].find(\n",
    "                {\"data_source\": \"CircusOZ\"},\n",
    "                {\n",
    "                    \"event_curr_dbid\": \"$_id\",\n",
    "                    \"ori_id\": 1,\n",
    "                    \"_id\": 0,\n",
    "                    \"event_label\": \"$title\",\n",
    "                    \"event__class\": \"$_class\",\n",
    "                    \"event__class_ori\": \"$_class_ori\",\n",
    "                },\n",
    "            )\n",
    "        ),\n",
    "        on=\"ori_id\",\n",
    "        how=\"left\",\n",
    "    )\n",
    "    .merge(\n",
    "        pd.DataFrame(\n",
    "            acde_db[\"person\"].find(\n",
    "                {\"data_source\": \"CircusOZ\"},\n",
    "                {\n",
    "                    \"person_curr_dbid\": \"$_id\",\n",
    "                    \"person_number\": \"$ori_id\",\n",
    "                    \"_id\": 0,\n",
    "                    \"person_label\": \"$display_name\",\n",
    "                    \"person__class\": \"$_class\",\n",
    "                    \"person__class_ori\": \"$_class_ori\",\n",
    "                },\n",
    "            )\n",
    "        ),\n",
    "        on=\"person_number\",\n",
    "        how=\"left\",\n",
    "    )\n",
    "    .rename({\"ori_id\": \"event_ori_id\", \"person_number\": \"person_ori_id\"}, axis=1)\n",
    ").fillna(\"\")\n",
    "ep_df[[\"relation_class\", \"data_source\", \"_class\"]] = [\n",
    "    \"Person_RelatedEvent\",\n",
    "    \"CircusOZ\",\n",
    "    \"relationship\",\n",
    "]"
   ]
  },
  {
   "cell_type": "code",
   "execution_count": 10,
   "id": "35812205-549c-43d8-9dce-c72da435c144",
   "metadata": {
    "execution": {
     "iopub.execute_input": "2023-05-07T16:29:06.073089Z",
     "iopub.status.busy": "2023-05-07T16:29:06.072090Z",
     "iopub.status.idle": "2023-05-07T16:29:08.284411Z",
     "shell.execute_reply": "2023-05-07T16:29:08.283413Z",
     "shell.execute_reply.started": "2023-05-07T16:29:06.073089Z"
    },
    "jupyter": {
     "source_hidden": true
    },
    "tags": []
   },
   "outputs": [],
   "source": [
    "curr_lvl = \"relationship\"\n",
    "acde_db[curr_lvl].delete_many({\"data_source\": \"CircusOZ\"})\n",
    "# event - venue\n",
    "for record in ev_df.to_dict(\"records\"):\n",
    "    for obj_type, obj_prefix in {\"subject\": \"event\", \"object\": \"venue\"}.items():\n",
    "        record[obj_type] = {\n",
    "            \"curr_dbid\": record.get(f\"{obj_prefix}_curr_dbid\"),\n",
    "            \"label\": record.get(f\"{obj_prefix}_label\"),\n",
    "            \"_class\": record.get(f\"{obj_prefix}__class\"),\n",
    "            \"_class_ori\": record.get(f\"{obj_prefix}__class_ori\"),\n",
    "        }\n",
    "        record[\"predicate\"] = {\n",
    "            \"term\": \"was hosted in\",\n",
    "            \"reverse_term\": \"is the host place of\",\n",
    "        }\n",
    "    record = {k: v for k, v in record.items() if not k.startswith((\"event\", \"venue\"))}\n",
    "    try:\n",
    "        # insert new record\n",
    "        acde_db[curr_lvl].insert_one(record)\n",
    "    except Exception as e:\n",
    "        print(e)\n",
    "        break\n",
    "# event - person\n",
    "for record in ep_df.to_dict(\"records\"):\n",
    "    for obj_type, obj_prefix in {\"object\": \"event\", \"subject\": \"person\"}.items():\n",
    "        record[obj_type] = {\n",
    "            \"curr_dbid\": record.get(f\"{obj_prefix}_curr_dbid\"),\n",
    "            \"label\": record.get(f\"{obj_prefix}_label\"),\n",
    "            \"_class\": record.get(f\"{obj_prefix}__class\"),\n",
    "            \"_class_ori\": record.get(f\"{obj_prefix}__class_ori\"),\n",
    "        }\n",
    "        record[\"predicate\"] = {\n",
    "            \"term\": \"contributed to\",\n",
    "            \"reverse_term\": \"was contributed by\",\n",
    "        }\n",
    "    record = {k: v for k, v in record.items() if not k.startswith((\"event\", \"person\"))}\n",
    "    try:\n",
    "        # insert new record\n",
    "        acde_db[curr_lvl].insert_one(record)\n",
    "    except Exception as e:\n",
    "        print(e)\n",
    "        break"
   ]
  },
  {
   "cell_type": "code",
   "execution_count": 11,
   "id": "8b7b3a32-cf37-409b-af59-e9f9f1f05be1",
   "metadata": {
    "execution": {
     "iopub.execute_input": "2023-05-07T16:29:08.286405Z",
     "iopub.status.busy": "2023-05-07T16:29:08.285408Z",
     "iopub.status.idle": "2023-05-07T16:29:11.967185Z",
     "shell.execute_reply": "2023-05-07T16:29:11.965191Z",
     "shell.execute_reply.started": "2023-05-07T16:29:08.286405Z"
    },
    "jupyter": {
     "source_hidden": true
    },
    "tags": []
   },
   "outputs": [
    {
     "name": "stderr",
     "output_type": "stream",
     "text": [
      "Extracting related objects from relationship collection: 100%|██████████████████████| 733/733 [00:01<00:00, 716.12it/s]\n",
      "event_related_objects_update: 100%|████████████████████████████████████████████████| 456/456 [00:00<00:00, 1197.65it/s]\n",
      "place_related_objects_update: 100%|████████████████████████████████████████████████| 137/137 [00:00<00:00, 1194.50it/s]\n",
      "person_related_objects_update: 100%|██████████████████████████████████████████████████| 72/72 [00:00<00:00, 937.55it/s]"
     ]
    },
    {
     "name": "stdout",
     "output_type": "stream",
     "text": [
      "The DBrefs of the relationships have been successfully updated to `related_XXX` fields!\n"
     ]
    },
    {
     "name": "stderr",
     "output_type": "stream",
     "text": [
      "\n"
     ]
    }
   ],
   "source": [
    "#####\n",
    "# Clean the existing related_XXXX fields from 'AusStage'\n",
    "#####\n",
    "\n",
    "gen_manip.mdb_remove_fields(\n",
    "    acde_db,\n",
    "    \"relationship\",\n",
    "    {\"data_source\": \"CircusOZ\",},\n",
    "    remove_fields=list(acde_opr.Class_RelatedFN_mapping.values()),\n",
    ")\n",
    "\n",
    "#####\n",
    "# Update the original records with references\n",
    "# to the relationships of their related records using DBRefs.\n",
    "#####\n",
    "\n",
    "acde_opr.acde_update_related_DBRef(data_source=\"CircusOZ\", db=acde_db)"
   ]
  },
  {
   "cell_type": "code",
   "execution_count": 12,
   "id": "9e26c5de-cff7-4145-adbf-24a1409f9db5",
   "metadata": {
    "execution": {
     "iopub.execute_input": "2023-05-07T16:29:11.972171Z",
     "iopub.status.busy": "2023-05-07T16:29:11.971174Z",
     "iopub.status.idle": "2023-05-07T16:29:14.610606Z",
     "shell.execute_reply": "2023-05-07T16:29:14.609607Z",
     "shell.execute_reply.started": "2023-05-07T16:29:11.972171Z"
    },
    "jupyter": {
     "source_hidden": true
    },
    "tags": []
   },
   "outputs": [
    {
     "name": "stdout",
     "output_type": "stream",
     "text": [
      "event_related_events doesn't have any records.\n"
     ]
    },
    {
     "name": "stderr",
     "output_type": "stream",
     "text": [
      "event_related_people: 100%|████████████████████████████████████████████████████████| 445/445 [00:00<00:00, 1362.21it/s]\n",
      "event_related_places: 100%|████████████████████████████████████████████████████████| 246/246 [00:00<00:00, 1394.73it/s]\n",
      "person_related_events: 100%|█████████████████████████████████████████████████████████| 72/72 [00:00<00:00, 1203.24it/s]\n"
     ]
    },
    {
     "name": "stdout",
     "output_type": "stream",
     "text": [
      "person_related_people doesn't have any records.\n",
      "person_related_places doesn't have any records.\n"
     ]
    },
    {
     "name": "stderr",
     "output_type": "stream",
     "text": [
      "place_related_events: 100%|████████████████████████████████████████████████████████| 137/137 [00:00<00:00, 1493.29it/s]"
     ]
    },
    {
     "name": "stdout",
     "output_type": "stream",
     "text": [
      "place_related_people doesn't have any records.\n",
      "place_related_places doesn't have any records.\n",
      "The lookup documents of DBRefs have been successfully updated to `related_XXX` fields!\n"
     ]
    },
    {
     "name": "stderr",
     "output_type": "stream",
     "text": [
      "\n"
     ]
    }
   ],
   "source": [
    "loading_colls = set(\n",
    "    coll\n",
    "    for coll in acde_opr.Class_RelatedFN_mapping.keys()\n",
    "    if coll in (\"event\", \"person\", \"place\")\n",
    ")\n",
    "proj_cond = {\n",
    "    \"predicate\": 1,\n",
    "    \"subject\": 1,\n",
    "    \"object\": 1,\n",
    "    \"_id\": 0,\n",
    "    \"relationship_dbid\": \"$_id\",\n",
    "    \"relation_class\": 1,\n",
    "    \"data_source\": 1,\n",
    "}\n",
    "\n",
    "data_source = \"CircusOZ\"\n",
    "\n",
    "#####\n",
    "# Update the original records having relationship DBRefs with lookup documents.\n",
    "#####\n",
    "acde_opr.acde_update_related_fields(\n",
    "    data_source=data_source,\n",
    "    proj_cond=proj_cond,\n",
    "    loading_colls=loading_colls,\n",
    "    db=acde_db,\n",
    ")"
   ]
  }
 ],
 "metadata": {
  "kernelspec": {
   "display_name": "ACD_Engine",
   "language": "python",
   "name": "acd_engine"
  },
  "language_info": {
   "codemirror_mode": {
    "name": "ipython",
    "version": 3
   },
   "file_extension": ".py",
   "mimetype": "text/x-python",
   "name": "python",
   "nbconvert_exporter": "python",
   "pygments_lexer": "ipython3",
   "version": "3.9.13"
  }
 },
 "nbformat": 4,
 "nbformat_minor": 5
}
