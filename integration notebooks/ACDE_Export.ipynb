{
 "cells": [
  {
   "cell_type": "code",
   "execution_count": 1,
   "id": "a59ca923-38b4-4a95-b5d3-2bd7afbb49b6",
   "metadata": {
    "execution": {
     "iopub.execute_input": "2023-07-06T08:26:44.842364Z",
     "iopub.status.busy": "2023-07-06T08:26:44.841368Z",
     "iopub.status.idle": "2023-07-06T08:26:47.184871Z",
     "shell.execute_reply": "2023-07-06T08:26:47.182855Z",
     "shell.execute_reply.started": "2023-07-06T08:26:44.842364Z"
    },
    "tags": []
   },
   "outputs": [],
   "source": [
    "import sys\n",
    "\n",
    "codefolder = \"C:/ProjectCollections/Programs/Australia_Cultural_Data_Engine/codes\"\n",
    "\n",
    "sys.path.append(codefolder)\n",
    "\n",
    "import pandas as pd\n",
    "import plotly.express as px\n",
    "from acde import MongoDBManipulation as acde_manip\n",
    "from general import GeneralFunctions as gen_gf\n",
    "from general import JsonProcessing as gen_jp\n",
    "from tqdm import tqdm\n",
    "\n",
    "acde_opr = acde_manip.ACDE_Manipulation()"
   ]
  },
  {
   "cell_type": "code",
   "execution_count": 2,
   "id": "8fda41d9-4aa8-4201-8dc6-166b4769992f",
   "metadata": {
    "execution": {
     "iopub.execute_input": "2023-07-06T08:26:47.187846Z",
     "iopub.status.busy": "2023-07-06T08:26:47.186849Z",
     "iopub.status.idle": "2023-07-06T08:26:47.199814Z",
     "shell.execute_reply": "2023-07-06T08:26:47.197835Z",
     "shell.execute_reply.started": "2023-07-06T08:26:47.187846Z"
    },
    "tags": []
   },
   "outputs": [],
   "source": [
    "data_folder = \"D:/Program_Data/Australia_Cultural_Data_Engine_Data/acde\"\n",
    "\n",
    "curr_ts = gen_gf.time_now()"
   ]
  },
  {
   "cell_type": "code",
   "execution_count": 3,
   "id": "3af9c5bc-3bb5-4d1c-9832-bc8a8d83a0e7",
   "metadata": {
    "execution": {
     "iopub.execute_input": "2023-07-06T08:26:47.203803Z",
     "iopub.status.busy": "2023-07-06T08:26:47.202805Z",
     "iopub.status.idle": "2023-07-06T08:42:45.306667Z",
     "shell.execute_reply": "2023-07-06T08:42:45.305664Z",
     "shell.execute_reply.started": "2023-07-06T08:26:47.203803Z"
    },
    "scrolled": true,
    "tags": []
   },
   "outputs": [
    {
     "name": "stdout",
     "output_type": "stream",
     "text": [
      "Exporting relationship level data...\n"
     ]
    },
    {
     "name": "stderr",
     "output_type": "stream",
     "text": [
      "Collect all field names of relationship: 100%|████████████████████████████| 1937075/1937075 [00:48<00:00, 40025.51it/s]\n",
      "Exporting relationship level data: 100%|███████████████████████████████████| 1937075/1937075 [15:04<00:00, 2142.19it/s]"
     ]
    },
    {
     "name": "stdout",
     "output_type": "stream",
     "text": [
      "The export of data has been accomplished.\n"
     ]
    },
    {
     "name": "stderr",
     "output_type": "stream",
     "text": [
      "\n"
     ]
    }
   ],
   "source": [
    "filter_cond = {}\n",
    "selected_fields = {}\n",
    "\n",
    "acde_opr.acde_exportColls2Files(\n",
    "    data_folder=data_folder,\n",
    "    selected_colls=['relationship'],\n",
    "    # selected_colls=list(acde_opr.Class_RelatedFN_mapping.keys()) + ['relationship'],\n",
    "    filter_cond=filter_cond,\n",
    "    selected_fields=selected_fields,\n",
    "    ts=curr_ts,\n",
    ")"
   ]
  },
  {
   "cell_type": "code",
   "execution_count": 6,
   "id": "168a679e-09ee-4d8b-9ea7-6f869c8f59e2",
   "metadata": {
    "execution": {
     "iopub.execute_input": "2023-07-06T08:03:42.937363Z",
     "iopub.status.busy": "2023-07-06T08:03:42.936355Z",
     "iopub.status.idle": "2023-07-06T08:05:14.638712Z",
     "shell.execute_reply": "2023-07-06T08:05:14.638300Z",
     "shell.execute_reply.started": "2023-07-06T08:03:42.937363Z"
    },
    "tags": []
   },
   "outputs": [
    {
     "name": "stdout",
     "output_type": "stream",
     "text": [
      "person AusStage 18458\n",
      "person CircusOZ 74\n",
      "person DAQA 110\n",
      "person DAAO 1736\n",
      "exporting...\n",
      "The export of sample documents of person level has been accomplished.\n"
     ]
    }
   ],
   "source": [
    "sample_percent = 0.1\n",
    "\n",
    "# for coll_name in ['person']:\n",
    "for coll_name in acde_opr.Class_RelatedFN_mapping.keys():\n",
    "    acde_opr.acde_exportCollSample2Xlsx(\n",
    "        data_folder, coll_name, sample_percent=sample_percent, ts=curr_ts\n",
    "    )"
   ]
  }
 ],
 "metadata": {
  "kernelspec": {
   "display_name": "ACD_Engine",
   "language": "python",
   "name": "acd_engine"
  },
  "language_info": {
   "codemirror_mode": {
    "name": "ipython",
    "version": 3
   },
   "file_extension": ".py",
   "mimetype": "text/x-python",
   "name": "python",
   "nbconvert_exporter": "python",
   "pygments_lexer": "ipython3",
   "version": "3.9.13"
  }
 },
 "nbformat": 4,
 "nbformat_minor": 5
}
