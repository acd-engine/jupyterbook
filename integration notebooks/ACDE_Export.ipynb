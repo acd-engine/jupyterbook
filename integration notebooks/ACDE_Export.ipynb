{
 "cells": [
  {
   "cell_type": "code",
   "execution_count": 1,
   "id": "a59ca923-38b4-4a95-b5d3-2bd7afbb49b6",
   "metadata": {
    "execution": {
     "iopub.execute_input": "2023-04-27T06:18:53.439301Z",
     "iopub.status.busy": "2023-04-27T06:18:53.437303Z",
     "iopub.status.idle": "2023-04-27T06:18:55.823724Z",
     "shell.execute_reply": "2023-04-27T06:18:55.822780Z",
     "shell.execute_reply.started": "2023-04-27T06:18:53.438301Z"
    },
    "tags": []
   },
   "outputs": [],
   "source": [
    "import sys\n",
    "\n",
    "codefolder = \"C:/ProjectCollections/Programs/Australia_Cultural_Data_Engine/codes\"\n",
    "\n",
    "sys.path.append(codefolder)\n",
    "\n",
    "import pandas as pd\n",
    "import plotly.express as px\n",
    "from acde import MongoDBManipulation as acde_manip\n",
    "from general import GeneralFunctions as gen_gf\n",
    "from general import JsonProcessing as gen_jp\n",
    "from tqdm import tqdm\n",
    "\n",
    "acde_opr = acde_manip.ACDE_Manipulation()"
   ]
  },
  {
   "cell_type": "code",
   "execution_count": 2,
   "id": "8fda41d9-4aa8-4201-8dc6-166b4769992f",
   "metadata": {
    "execution": {
     "iopub.execute_input": "2023-04-27T06:18:55.825735Z",
     "iopub.status.busy": "2023-04-27T06:18:55.824751Z",
     "iopub.status.idle": "2023-04-27T06:18:55.840679Z",
     "shell.execute_reply": "2023-04-27T06:18:55.837687Z",
     "shell.execute_reply.started": "2023-04-27T06:18:55.825735Z"
    },
    "tags": []
   },
   "outputs": [],
   "source": [
    "data_folder = \"D:/Program_Data/Australia_Cultural_Data_Engine_Data/acde\"\n",
    "\n",
    "curr_ts = gen_gf.time_now()"
   ]
  },
  {
   "cell_type": "code",
   "execution_count": null,
   "id": "3af9c5bc-3bb5-4d1c-9832-bc8a8d83a0e7",
   "metadata": {
    "execution": {
     "iopub.execute_input": "2023-04-27T06:18:55.847659Z",
     "iopub.status.busy": "2023-04-27T06:18:55.845684Z"
    },
    "scrolled": true,
    "tags": []
   },
   "outputs": [
    {
     "name": "stdout",
     "output_type": "stream",
     "text": [
      "Exporting person level data...\n"
     ]
    },
    {
     "name": "stderr",
     "output_type": "stream",
     "text": [
      "Collect all field names of person: 100%|█████████████████████████████████████| 203803/203803 [00:50<00:00, 4022.33it/s]\n",
      "Exporting person level data:  68%|█████████████████████████████▊              | 138251/203803 [10:50<02:04, 526.62it/s]"
     ]
    }
   ],
   "source": [
    "filter_cond = {}\n",
    "selected_fields = {}\n",
    "\n",
    "acde_opr.acde_exportColls2Files(\n",
    "    data_folder=data_folder,\n",
    "    selected_colls=list(acde_opr.Class_RelatedFN_mapping.keys()),\n",
    "    filter_cond=filter_cond,\n",
    "    selected_fields=selected_fields,\n",
    "    ts=curr_ts,\n",
    ")"
   ]
  },
  {
   "cell_type": "code",
   "execution_count": null,
   "id": "168a679e-09ee-4d8b-9ea7-6f869c8f59e2",
   "metadata": {
    "tags": []
   },
   "outputs": [],
   "source": [
    "sample_percent = 0.1\n",
    "\n",
    "for coll_name in acde_opr.Class_RelatedFN_mapping.keys():\n",
    "    acde_opr.acde_exportCollSample2Xlsx(\n",
    "        data_folder, coll_name, sample_percent=sample_percent, ts=curr_ts\n",
    "    )"
   ]
  }
 ],
 "metadata": {
  "kernelspec": {
   "display_name": "ACD_Engine",
   "language": "python",
   "name": "acd_engine"
  },
  "language_info": {
   "codemirror_mode": {
    "name": "ipython",
    "version": 3
   },
   "file_extension": ".py",
   "mimetype": "text/x-python",
   "name": "python",
   "nbconvert_exporter": "python",
   "pygments_lexer": "ipython3",
   "version": "3.9.13"
  }
 },
 "nbformat": 4,
 "nbformat_minor": 5
}
