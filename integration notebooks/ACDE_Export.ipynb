{
 "cells": [
  {
   "cell_type": "code",
   "execution_count": 1,
   "id": "a59ca923-38b4-4a95-b5d3-2bd7afbb49b6",
   "metadata": {
    "execution": {
     "iopub.execute_input": "2023-07-21T08:50:39.520734Z",
     "iopub.status.busy": "2023-07-21T08:50:39.519735Z",
     "iopub.status.idle": "2023-07-21T08:50:42.660100Z",
     "shell.execute_reply": "2023-07-21T08:50:42.659109Z",
     "shell.execute_reply.started": "2023-07-21T08:50:39.520734Z"
    },
    "tags": []
   },
   "outputs": [],
   "source": [
    "import sys\n",
    "\n",
    "codefolder = \"C:/ProjectCollections/Programs/Australia_Cultural_Data_Engine/codes\"\n",
    "\n",
    "sys.path.append(codefolder)\n",
    "\n",
    "import pandas as pd\n",
    "import plotly.express as px\n",
    "from acde import MongoDBManipulation as acde_manip\n",
    "from general import GeneralFunctions as gen_gf\n",
    "from general import JsonProcessing as gen_jp\n",
    "from tqdm import tqdm\n",
    "\n",
    "acde_opr = acde_manip.ACDE_Manipulation()"
   ]
  },
  {
   "cell_type": "code",
   "execution_count": 2,
   "id": "8fda41d9-4aa8-4201-8dc6-166b4769992f",
   "metadata": {
    "execution": {
     "iopub.execute_input": "2023-07-21T08:50:42.662101Z",
     "iopub.status.busy": "2023-07-21T08:50:42.661101Z",
     "iopub.status.idle": "2023-07-21T08:50:42.676105Z",
     "shell.execute_reply": "2023-07-21T08:50:42.675101Z",
     "shell.execute_reply.started": "2023-07-21T08:50:42.662101Z"
    },
    "tags": []
   },
   "outputs": [],
   "source": [
    "data_folder = \"D:/Program_Data/Australia_Cultural_Data_Engine_Data/acde\"\n",
    "\n",
    "curr_ts = gen_gf.time_now()"
   ]
  },
  {
   "cell_type": "code",
   "execution_count": 3,
   "id": "3af9c5bc-3bb5-4d1c-9832-bc8a8d83a0e7",
   "metadata": {
    "execution": {
     "iopub.execute_input": "2023-07-21T08:50:42.679102Z",
     "iopub.status.busy": "2023-07-21T08:50:42.679102Z",
     "iopub.status.idle": "2023-07-21T09:43:15.601803Z",
     "shell.execute_reply": "2023-07-21T09:43:15.600809Z",
     "shell.execute_reply.started": "2023-07-21T08:50:42.679102Z"
    },
    "scrolled": true,
    "tags": []
   },
   "outputs": [
    {
     "name": "stdout",
     "output_type": "stream",
     "text": [
      "Exporting person level data...\n"
     ]
    },
    {
     "name": "stderr",
     "output_type": "stream",
     "text": [
      "Collect all field names of person: 100%|█████████████████████████████████████| 203803/203803 [00:48<00:00, 4181.35it/s]\n",
      "Exporting person level data: 100%|████████████████████████████████████████████| 203803/203803 [13:57<00:00, 243.22it/s]\n"
     ]
    },
    {
     "name": "stdout",
     "output_type": "stream",
     "text": [
      "Exporting organization level data...\n"
     ]
    },
    {
     "name": "stderr",
     "output_type": "stream",
     "text": [
      "Collect all field names of organization: 100%|█████████████████████████████████| 21790/21790 [00:09<00:00, 2273.40it/s]\n",
      "Exporting organization level data: 100%|████████████████████████████████████████| 21790/21790 [02:41<00:00, 134.69it/s]\n"
     ]
    },
    {
     "name": "stdout",
     "output_type": "stream",
     "text": [
      "Exporting work level data...\n"
     ]
    },
    {
     "name": "stderr",
     "output_type": "stream",
     "text": [
      "Collect all field names of work: 100%|████████████████████████████████████████| 45904/45904 [00:04<00:00, 10971.31it/s]\n",
      "Exporting work level data: 100%|████████████████████████████████████████████████| 45904/45904 [01:05<00:00, 696.68it/s]\n"
     ]
    },
    {
     "name": "stdout",
     "output_type": "stream",
     "text": [
      "Exporting event level data...\n"
     ]
    },
    {
     "name": "stderr",
     "output_type": "stream",
     "text": [
      "Collect all field names of event: 100%|██████████████████████████████████████| 147234/147234 [00:40<00:00, 3624.71it/s]\n",
      "Exporting event level data: 100%|█████████████████████████████████████████████| 147234/147234 [10:35<00:00, 231.77it/s]\n"
     ]
    },
    {
     "name": "stdout",
     "output_type": "stream",
     "text": [
      "Exporting recognition level data...\n"
     ]
    },
    {
     "name": "stderr",
     "output_type": "stream",
     "text": [
      "Collect all field names of recognition: 100%|███████████████████████████████████| 5498/5498 [00:00<00:00, 14354.10it/s]\n",
      "Exporting recognition level data: 100%|██████████████████████████████████████████| 5498/5498 [00:04<00:00, 1141.06it/s]\n"
     ]
    },
    {
     "name": "stdout",
     "output_type": "stream",
     "text": [
      "Exporting resource level data...\n"
     ]
    },
    {
     "name": "stderr",
     "output_type": "stream",
     "text": [
      "Collect all field names of resource: 100%|██████████████████████████████████| 144335/144335 [00:09<00:00, 14513.33it/s]\n",
      "Exporting resource level data: 100%|██████████████████████████████████████████| 144335/144335 [02:47<00:00, 861.26it/s]\n"
     ]
    },
    {
     "name": "stdout",
     "output_type": "stream",
     "text": [
      "Exporting place level data...\n"
     ]
    },
    {
     "name": "stderr",
     "output_type": "stream",
     "text": [
      "Collect all field names of place: 100%|████████████████████████████████████████| 30631/30631 [00:04<00:00, 6340.90it/s]\n",
      "Exporting place level data: 100%|███████████████████████████████████████████████| 30631/30631 [01:17<00:00, 392.90it/s]\n"
     ]
    },
    {
     "name": "stdout",
     "output_type": "stream",
     "text": [
      "Exporting relationship level data...\n"
     ]
    },
    {
     "name": "stderr",
     "output_type": "stream",
     "text": [
      "Collect all field names of relationship: 100%|████████████████████████████| 1937075/1937075 [00:51<00:00, 37425.88it/s]\n",
      "Exporting relationship level data: 100%|███████████████████████████████████| 1937075/1937075 [15:41<00:00, 2056.66it/s]"
     ]
    },
    {
     "name": "stdout",
     "output_type": "stream",
     "text": [
      "The export of data has been accomplished.\n"
     ]
    },
    {
     "name": "stderr",
     "output_type": "stream",
     "text": [
      "\n"
     ]
    }
   ],
   "source": [
    "filter_cond = {}\n",
    "selected_fields = {}\n",
    "\n",
    "acde_opr.acde_exportColls2Files(\n",
    "    data_folder=data_folder,\n",
    "    # selected_colls=['relationship'],\n",
    "    selected_colls=list(acde_opr.Class_RelatedFN_mapping.keys()) + ['relationship'],\n",
    "    filter_cond=filter_cond,\n",
    "    selected_fields=selected_fields,\n",
    "    ts=curr_ts,\n",
    ")"
   ]
  },
  {
   "cell_type": "code",
   "execution_count": 4,
   "id": "168a679e-09ee-4d8b-9ea7-6f869c8f59e2",
   "metadata": {
    "execution": {
     "iopub.execute_input": "2023-07-21T09:43:15.603803Z",
     "iopub.status.busy": "2023-07-21T09:43:15.603803Z",
     "iopub.status.idle": "2023-07-21T09:46:59.293416Z",
     "shell.execute_reply": "2023-07-21T09:46:59.292411Z",
     "shell.execute_reply.started": "2023-07-21T09:43:15.603803Z"
    },
    "tags": []
   },
   "outputs": [
    {
     "name": "stdout",
     "output_type": "stream",
     "text": [
      "person DAAO 1736\n",
      "person AusStage 18458\n",
      "person CircusOZ 74\n",
      "person DAQA 110\n",
      "exporting...\n",
      "The export of sample documents of person level has been accomplished.\n",
      "organization DAQA 96\n",
      "organization DAAO 93\n",
      "organization AusStage 1989\n",
      "exporting...\n",
      "The export of sample documents of organization level has been accomplished.\n",
      "work DAQA 220\n",
      "work AusStage 1997\n",
      "work DAAO 2372\n",
      "exporting...\n",
      "The export of sample documents of work level has been accomplished.\n",
      "event CircusOZ 48\n",
      "event AusStage 12491\n",
      "event DAAO 2183\n",
      "exporting...\n",
      "The export of sample documents of event level has been accomplished.\n",
      "recognition DAAO 547\n",
      "recognition DAQA 2\n",
      "exporting...\n",
      "The export of sample documents of recognition level has been accomplished.\n",
      "resource AusStage 9523\n",
      "resource DAQA 769\n",
      "resource SFC 24\n",
      "resource DAAO 4116\n",
      "exporting...\n",
      "The export of sample documents of resource level has been accomplished.\n",
      "place DAQA 193\n",
      "place CircusOZ 13\n",
      "place AusStage 1186\n",
      "place DAAO 1669\n",
      "exporting...\n",
      "The export of sample documents of place level has been accomplished.\n"
     ]
    }
   ],
   "source": [
    "sample_percent = 0.1\n",
    "\n",
    "# for coll_name in ['person']:\n",
    "for coll_name in acde_opr.Class_RelatedFN_mapping.keys():\n",
    "    acde_opr.acde_exportCollSample2Xlsx(\n",
    "        data_folder, coll_name, sample_percent=sample_percent, ts=curr_ts\n",
    "    )"
   ]
  }
 ],
 "metadata": {
  "kernelspec": {
   "display_name": "ACD_Engine",
   "language": "python",
   "name": "acd_engine"
  },
  "language_info": {
   "codemirror_mode": {
    "name": "ipython",
    "version": 3
   },
   "file_extension": ".py",
   "mimetype": "text/x-python",
   "name": "python",
   "nbconvert_exporter": "python",
   "pygments_lexer": "ipython3",
   "version": "3.9.13"
  }
 },
 "nbformat": 4,
 "nbformat_minor": 5
}
