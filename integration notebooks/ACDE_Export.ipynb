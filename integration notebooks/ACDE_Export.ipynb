{
 "cells": [
  {
   "cell_type": "code",
   "execution_count": 1,
   "id": "a59ca923-38b4-4a95-b5d3-2bd7afbb49b6",
   "metadata": {
    "execution": {
     "iopub.execute_input": "2023-05-07T22:16:17.958235Z",
     "iopub.status.busy": "2023-05-07T22:16:17.956242Z",
     "iopub.status.idle": "2023-05-07T22:16:21.520889Z",
     "shell.execute_reply": "2023-05-07T22:16:21.519893Z",
     "shell.execute_reply.started": "2023-05-07T22:16:17.958235Z"
    },
    "tags": []
   },
   "outputs": [],
   "source": [
    "import sys\n",
    "\n",
    "codefolder = \"C:/ProjectCollections/Programs/Australia_Cultural_Data_Engine/codes\"\n",
    "\n",
    "sys.path.append(codefolder)\n",
    "\n",
    "import pandas as pd\n",
    "import plotly.express as px\n",
    "from acde import MongoDBManipulation as acde_manip\n",
    "from general import GeneralFunctions as gen_gf\n",
    "from general import JsonProcessing as gen_jp\n",
    "from tqdm import tqdm\n",
    "\n",
    "acde_opr = acde_manip.ACDE_Manipulation()"
   ]
  },
  {
   "cell_type": "code",
   "execution_count": 2,
   "id": "8fda41d9-4aa8-4201-8dc6-166b4769992f",
   "metadata": {
    "execution": {
     "iopub.execute_input": "2023-05-07T22:16:21.522887Z",
     "iopub.status.busy": "2023-05-07T22:16:21.522887Z",
     "iopub.status.idle": "2023-05-07T22:16:21.536849Z",
     "shell.execute_reply": "2023-05-07T22:16:21.535852Z",
     "shell.execute_reply.started": "2023-05-07T22:16:21.522887Z"
    },
    "tags": []
   },
   "outputs": [],
   "source": [
    "data_folder = \"D:/Program_Data/Australia_Cultural_Data_Engine_Data/acde\"\n",
    "\n",
    "curr_ts = gen_gf.time_now()"
   ]
  },
  {
   "cell_type": "code",
   "execution_count": 3,
   "id": "3af9c5bc-3bb5-4d1c-9832-bc8a8d83a0e7",
   "metadata": {
    "execution": {
     "iopub.execute_input": "2023-05-07T22:16:21.540836Z",
     "iopub.status.busy": "2023-05-07T22:16:21.540836Z",
     "iopub.status.idle": "2023-05-07T22:50:45.329172Z",
     "shell.execute_reply": "2023-05-07T22:50:45.327180Z",
     "shell.execute_reply.started": "2023-05-07T22:16:21.540836Z"
    },
    "scrolled": true,
    "tags": []
   },
   "outputs": [
    {
     "name": "stdout",
     "output_type": "stream",
     "text": [
      "Exporting person level data...\n"
     ]
    },
    {
     "name": "stderr",
     "output_type": "stream",
     "text": [
      "Collect all field names of person: 100%|█████████████████████████████████████| 203803/203803 [00:50<00:00, 4025.17it/s]\n",
      "Exporting person level data: 100%|████████████████████████████████████████████| 203803/203803 [13:44<00:00, 247.06it/s]\n"
     ]
    },
    {
     "name": "stdout",
     "output_type": "stream",
     "text": [
      "Exporting organization level data...\n"
     ]
    },
    {
     "name": "stderr",
     "output_type": "stream",
     "text": [
      "Collect all field names of organization: 100%|█████████████████████████████████| 21790/21790 [00:09<00:00, 2292.83it/s]\n",
      "Exporting organization level data: 100%|████████████████████████████████████████| 21790/21790 [02:41<00:00, 135.00it/s]\n"
     ]
    },
    {
     "name": "stdout",
     "output_type": "stream",
     "text": [
      "Exporting work level data...\n"
     ]
    },
    {
     "name": "stderr",
     "output_type": "stream",
     "text": [
      "Collect all field names of work: 100%|████████████████████████████████████████| 45904/45904 [00:04<00:00, 11196.02it/s]\n",
      "Exporting work level data: 100%|████████████████████████████████████████████████| 45904/45904 [01:04<00:00, 713.64it/s]\n"
     ]
    },
    {
     "name": "stdout",
     "output_type": "stream",
     "text": [
      "Exporting event level data...\n"
     ]
    },
    {
     "name": "stderr",
     "output_type": "stream",
     "text": [
      "Collect all field names of event: 100%|██████████████████████████████████████| 147234/147234 [00:40<00:00, 3669.87it/s]\n",
      "Exporting event level data: 100%|█████████████████████████████████████████████| 147234/147234 [10:34<00:00, 232.16it/s]\n"
     ]
    },
    {
     "name": "stdout",
     "output_type": "stream",
     "text": [
      "Exporting recognition level data...\n"
     ]
    },
    {
     "name": "stderr",
     "output_type": "stream",
     "text": [
      "Collect all field names of recognition: 100%|███████████████████████████████████| 5498/5498 [00:00<00:00, 14622.58it/s]\n",
      "Exporting recognition level data: 100%|██████████████████████████████████████████| 5498/5498 [00:05<00:00, 1079.65it/s]\n"
     ]
    },
    {
     "name": "stdout",
     "output_type": "stream",
     "text": [
      "Exporting resource level data...\n"
     ]
    },
    {
     "name": "stderr",
     "output_type": "stream",
     "text": [
      "Collect all field names of resource: 100%|██████████████████████████████████| 144335/144335 [00:10<00:00, 13814.54it/s]\n",
      "Exporting resource level data: 100%|██████████████████████████████████████████| 144335/144335 [02:53<00:00, 832.41it/s]\n"
     ]
    },
    {
     "name": "stdout",
     "output_type": "stream",
     "text": [
      "Exporting place level data...\n"
     ]
    },
    {
     "name": "stderr",
     "output_type": "stream",
     "text": [
      "Collect all field names of place: 100%|████████████████████████████████████████| 30631/30631 [00:04<00:00, 6456.37it/s]\n",
      "Exporting place level data: 100%|███████████████████████████████████████████████| 30631/30631 [01:16<00:00, 398.98it/s]"
     ]
    },
    {
     "name": "stdout",
     "output_type": "stream",
     "text": [
      "The export of data has been accomplished.\n"
     ]
    },
    {
     "name": "stderr",
     "output_type": "stream",
     "text": [
      "\n"
     ]
    }
   ],
   "source": [
    "filter_cond = {}\n",
    "selected_fields = {}\n",
    "\n",
    "acde_opr.acde_exportColls2Files(\n",
    "    data_folder=data_folder,\n",
    "    selected_colls=list(acde_opr.Class_RelatedFN_mapping.keys()),\n",
    "    filter_cond=filter_cond,\n",
    "    selected_fields=selected_fields,\n",
    "    ts=curr_ts,\n",
    ")"
   ]
  },
  {
   "cell_type": "code",
   "execution_count": 4,
   "id": "168a679e-09ee-4d8b-9ea7-6f869c8f59e2",
   "metadata": {
    "execution": {
     "iopub.execute_input": "2023-05-07T22:50:45.331166Z",
     "iopub.status.busy": "2023-05-07T22:50:45.330168Z",
     "iopub.status.idle": "2023-05-07T22:54:17.356548Z",
     "shell.execute_reply": "2023-05-07T22:54:17.354553Z",
     "shell.execute_reply.started": "2023-05-07T22:50:45.331166Z"
    },
    "tags": []
   },
   "outputs": [
    {
     "name": "stdout",
     "output_type": "stream",
     "text": [
      "person DAAO 1736\n",
      "person AusStage 18458\n",
      "person CircusOZ 74\n",
      "person DAQA 110\n",
      "exporting...\n",
      "The export of sample documents of person level has been accomplished.\n",
      "organization DAQA 96\n",
      "organization DAAO 93\n",
      "organization AusStage 1989\n",
      "exporting...\n",
      "The export of sample documents of organization level has been accomplished.\n",
      "work DAQA 220\n",
      "work AusStage 1997\n",
      "work DAAO 2372\n",
      "exporting...\n",
      "The export of sample documents of work level has been accomplished.\n",
      "event CircusOZ 48\n",
      "event DAAO 2183\n",
      "event AusStage 12491\n",
      "exporting...\n",
      "The export of sample documents of event level has been accomplished.\n",
      "recognition DAAO 547\n",
      "recognition DAQA 2\n",
      "exporting...\n",
      "The export of sample documents of recognition level has been accomplished.\n",
      "resource SFC 24\n",
      "resource AusStage 9523\n",
      "resource DAQA 769\n",
      "resource DAAO 4116\n",
      "exporting...\n",
      "The export of sample documents of resource level has been accomplished.\n",
      "place AusStage 1186\n",
      "place DAAO 1669\n",
      "place CircusOZ 13\n",
      "place DAQA 193\n",
      "exporting...\n",
      "The export of sample documents of place level has been accomplished.\n"
     ]
    }
   ],
   "source": [
    "sample_percent = 0.1\n",
    "\n",
    "for coll_name in acde_opr.Class_RelatedFN_mapping.keys():\n",
    "    acde_opr.acde_exportCollSample2Xlsx(\n",
    "        data_folder, coll_name, sample_percent=sample_percent, ts=curr_ts\n",
    "    )"
   ]
  }
 ],
 "metadata": {
  "kernelspec": {
   "display_name": "ACD_Engine",
   "language": "python",
   "name": "acd_engine"
  },
  "language_info": {
   "codemirror_mode": {
    "name": "ipython",
    "version": 3
   },
   "file_extension": ".py",
   "mimetype": "text/x-python",
   "name": "python",
   "nbconvert_exporter": "python",
   "pygments_lexer": "ipython3",
   "version": "3.9.13"
  }
 },
 "nbformat": 4,
 "nbformat_minor": 5
}
