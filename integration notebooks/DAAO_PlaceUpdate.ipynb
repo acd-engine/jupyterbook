{
 "cells": [
  {
   "cell_type": "markdown",
   "id": "9e75158c-4700-453e-8346-97a76be440dd",
   "metadata": {},
   "source": [
    "## 0. Setting"
   ]
  },
  {
   "cell_type": "code",
   "execution_count": 2,
   "id": "15f5c58e-5345-4fcf-b4bf-38ddf76f85ca",
   "metadata": {
    "execution": {
     "iopub.execute_input": "2023-03-04T12:46:52.359486Z",
     "iopub.status.busy": "2023-03-04T12:46:52.358478Z",
     "iopub.status.idle": "2023-03-04T12:46:54.260177Z",
     "shell.execute_reply": "2023-03-04T12:46:54.258179Z",
     "shell.execute_reply.started": "2023-03-04T12:46:52.359486Z"
    },
    "tags": []
   },
   "outputs": [],
   "source": [
    "import json\n",
    "import os\n",
    "import pprint\n",
    "import re\n",
    "import time\n",
    "from collections import Counter, defaultdict\n",
    "from datetime import datetime\n",
    "from pathlib import Path\n",
    "\n",
    "import jsonlines\n",
    "import numpy as np\n",
    "import pandas as pd\n",
    "import pymongo\n",
    "from bson import ObjectId, json_util\n",
    "from pymongo import MongoClient\n",
    "from tqdm import tqdm, trange"
   ]
  },
  {
   "cell_type": "code",
   "execution_count": 1,
   "id": "38dcd70a-cc2f-448f-997d-8b61b5e55123",
   "metadata": {
    "execution": {
     "iopub.execute_input": "2023-03-04T12:46:51.108767Z",
     "iopub.status.busy": "2023-03-04T12:46:51.107771Z",
     "iopub.status.idle": "2023-03-04T12:46:52.357479Z",
     "shell.execute_reply": "2023-03-04T12:46:52.356510Z",
     "shell.execute_reply.started": "2023-03-04T12:46:51.108767Z"
    },
    "tags": []
   },
   "outputs": [],
   "source": [
    "import sys\n",
    "\n",
    "codefolder = (\n",
    "    \"C:/ProjectCollections/Programs/Australia_Cultural_Data_Engine/codes\"\n",
    ")\n",
    "sys.path.append(codefolder)\n",
    "from daao import JsonProcessing as daao_jp\n",
    "from daao import MongoDBManipulation as daao_manip\n",
    "from daao import PlaceManipulation as daao_pm\n",
    "from general import GeneralFunctions as gen_gf\n",
    "from general import JsonProcessing as gen_jp"
   ]
  },
  {
   "cell_type": "code",
   "execution_count": 3,
   "id": "b260bff6-7de0-42ef-9f7c-b74243adab7d",
   "metadata": {
    "execution": {
     "iopub.execute_input": "2023-03-04T12:46:54.263166Z",
     "iopub.status.busy": "2023-03-04T12:46:54.262135Z",
     "iopub.status.idle": "2023-03-04T12:46:54.276631Z",
     "shell.execute_reply": "2023-03-04T12:46:54.273884Z",
     "shell.execute_reply.started": "2023-03-04T12:46:54.263166Z"
    },
    "tags": []
   },
   "outputs": [],
   "source": [
    "data_folder = (\n",
    "    \"D:/Program_Data/Australia_Cultural_Data_Engine_Data/design_art_australia_online\"\n",
    ")\n",
    "js_folder = os.path.join(data_folder, \"exported_json\")\n",
    "csv_folder = os.path.join(data_folder, \"exported_csv\")\n",
    "pp = pprint.PrettyPrinter(indent=2)"
   ]
  },
  {
   "cell_type": "markdown",
   "id": "d276266f-924f-4f65-b99c-493fd8a0c884",
   "metadata": {},
   "source": [
    "## 1. MongoDB Connection"
   ]
  },
  {
   "cell_type": "code",
   "execution_count": 4,
   "id": "ca0abc8b-f725-4d39-99c8-876718af9d88",
   "metadata": {
    "execution": {
     "iopub.execute_input": "2023-03-04T12:46:54.278620Z",
     "iopub.status.busy": "2023-03-04T12:46:54.277629Z",
     "iopub.status.idle": "2023-03-04T12:46:54.304814Z",
     "shell.execute_reply": "2023-03-04T12:46:54.303842Z",
     "shell.execute_reply.started": "2023-03-04T12:46:54.278620Z"
    },
    "tags": []
   },
   "outputs": [],
   "source": [
    "client = MongoClient(\"mongodb://localhost:27017/\")\n",
    "daao3 = client.daao3\n",
    "daao_place = daao3.place"
   ]
  },
  {
   "cell_type": "markdown",
   "id": "e9e95a21-7c88-40c7-81c9-fde7834a6946",
   "metadata": {
    "tags": []
   },
   "source": [
    "##  2. DAAO Place (of Event) Fetching"
   ]
  },
  {
   "cell_type": "markdown",
   "id": "b928df48-abda-4fd9-80d7-21c4e2b45cf5",
   "metadata": {},
   "source": [
    "### Place Data Retrieval"
   ]
  },
  {
   "cell_type": "code",
   "execution_count": 5,
   "id": "d73459ef-797c-481e-bb45-61224210971e",
   "metadata": {
    "execution": {
     "iopub.execute_input": "2023-03-04T12:46:54.306810Z",
     "iopub.status.busy": "2023-03-04T12:46:54.305812Z",
     "iopub.status.idle": "2023-03-04T12:46:54.334765Z",
     "shell.execute_reply": "2023-03-04T12:46:54.333767Z",
     "shell.execute_reply.started": "2023-03-04T12:46:54.306810Z"
    },
    "tags": []
   },
   "outputs": [
    {
     "name": "stdout",
     "output_type": "stream",
     "text": [
      "[ { '$project': { '_id': 1,\n",
      "                  'address': 1,\n",
      "                  'centroid': 1,\n",
      "                  'country': 1,\n",
      "                  'name': 1,\n",
      "                  'url': 1}}]\n"
     ]
    }
   ],
   "source": [
    "place_basic_projections = [\n",
    "    \"_id\",\n",
    "    \"name\",\n",
    "    \"centroid\",\n",
    "    \"url\",\n",
    "    \"address\",\n",
    "    \"country\",\n",
    "]\n",
    "\n",
    "#####\n",
    "#\n",
    "# Construct xparty Projection + Lookup (Grouping) Stage\n",
    "#\n",
    "#####\n",
    "place_plstage = daao_manip.construct_FinalProjectionStage(\n",
    "    keep_list=place_basic_projections\n",
    ")\n",
    "\n",
    "pp.pprint(place_plstage)"
   ]
  },
  {
   "cell_type": "code",
   "execution_count": 6,
   "id": "bc8872b6-1961-4bf8-9afd-618ceea645ba",
   "metadata": {
    "execution": {
     "iopub.execute_input": "2023-03-04T12:46:54.335732Z",
     "iopub.status.busy": "2023-03-04T12:46:54.335732Z",
     "iopub.status.idle": "2023-03-04T12:46:55.272173Z",
     "shell.execute_reply": "2023-03-04T12:46:55.271187Z",
     "shell.execute_reply.started": "2023-03-04T12:46:54.335732Z"
    },
    "tags": []
   },
   "outputs": [
    {
     "name": "stderr",
     "output_type": "stream",
     "text": [
      " 47%|██████████████████████████████████▍                                      | 16691/35353 [00:00<00:01, 18214.07it/s]\n"
     ]
    }
   ],
   "source": [
    "places = []\n",
    "places_flatten = []\n",
    "\n",
    "with tqdm(total=35353, position=0, leave=True) as t:\n",
    "    for place_doc in daao_place.aggregate(place_plstage, allowDiskUse=True,):\n",
    "        place_doc = gen_jp.clean_empty_values(place_doc)\n",
    "        place_doc = JsonProcessing.GetYearFromDateString(place_doc)\n",
    "        places.append(place_doc)\n",
    "        places_flatten.append(gen_jp.flatten_json_iterative_solution(place_doc))\n",
    "        t.update(1)"
   ]
  },
  {
   "cell_type": "code",
   "execution_count": 7,
   "id": "09e1f223-1ad2-457e-91b3-1b4c7efe3e12",
   "metadata": {
    "execution": {
     "iopub.execute_input": "2023-03-04T12:46:55.273170Z",
     "iopub.status.busy": "2023-03-04T12:46:55.273170Z",
     "iopub.status.idle": "2023-03-04T12:46:55.644886Z",
     "shell.execute_reply": "2023-03-04T12:46:55.641888Z",
     "shell.execute_reply.started": "2023-03-04T12:46:55.273170Z"
    },
    "tags": []
   },
   "outputs": [],
   "source": [
    "places_df = pd.json_normalize(places_flatten)"
   ]
  },
  {
   "cell_type": "code",
   "execution_count": 8,
   "id": "cb70987e-ea88-4bab-abec-750bbee3e6e5",
   "metadata": {
    "execution": {
     "iopub.execute_input": "2023-03-04T12:46:55.647872Z",
     "iopub.status.busy": "2023-03-04T12:46:55.646906Z",
     "iopub.status.idle": "2023-03-04T12:46:55.690019Z",
     "shell.execute_reply": "2023-03-04T12:46:55.689023Z",
     "shell.execute_reply.started": "2023-03-04T12:46:55.647872Z"
    },
    "tags": []
   },
   "outputs": [
    {
     "data": {
      "text/html": [
       "<div>\n",
       "<style scoped>\n",
       "    .dataframe tbody tr th:only-of-type {\n",
       "        vertical-align: middle;\n",
       "    }\n",
       "\n",
       "    .dataframe tbody tr th {\n",
       "        vertical-align: top;\n",
       "    }\n",
       "\n",
       "    .dataframe thead th {\n",
       "        text-align: right;\n",
       "    }\n",
       "</style>\n",
       "<table border=\"1\" class=\"dataframe\">\n",
       "  <thead>\n",
       "    <tr style=\"text-align: right;\">\n",
       "      <th></th>\n",
       "      <th>_id</th>\n",
       "      <th>centroid.latitude</th>\n",
       "      <th>centroid._types.0</th>\n",
       "      <th>centroid._cls</th>\n",
       "      <th>centroid.longitude</th>\n",
       "      <th>centroid.city</th>\n",
       "      <th>centroid.city_district</th>\n",
       "      <th>centroid.country</th>\n",
       "      <th>centroid.country_code</th>\n",
       "      <th>centroid.postcode</th>\n",
       "      <th>centroid.state</th>\n",
       "      <th>centroid.suburb</th>\n",
       "      <th>address</th>\n",
       "      <th>name</th>\n",
       "      <th>country</th>\n",
       "      <th>url</th>\n",
       "    </tr>\n",
       "  </thead>\n",
       "  <tbody>\n",
       "    <tr>\n",
       "      <th>0</th>\n",
       "      <td>4da194f4b538b73d930005f4</td>\n",
       "      <td>-33.868901</td>\n",
       "      <td>GeoLocation</td>\n",
       "      <td>GeoLocation</td>\n",
       "      <td>151.207091</td>\n",
       "      <td>Sydney</td>\n",
       "      <td>Unknown</td>\n",
       "      <td>Australia</td>\n",
       "      <td>au</td>\n",
       "      <td>2000</td>\n",
       "      <td>New South Wales</td>\n",
       "      <td>Sydney</td>\n",
       "      <td>Sydney, NSW</td>\n",
       "      <td>NaN</td>\n",
       "      <td>NaN</td>\n",
       "      <td>NaN</td>\n",
       "    </tr>\n",
       "    <tr>\n",
       "      <th>1</th>\n",
       "      <td>4da194f5b538b73d930005fa</td>\n",
       "      <td>-27.470933</td>\n",
       "      <td>GeoLocation</td>\n",
       "      <td>GeoLocation</td>\n",
       "      <td>153.023502</td>\n",
       "      <td>Unknown</td>\n",
       "      <td>Brisbane City</td>\n",
       "      <td>Australia</td>\n",
       "      <td>au</td>\n",
       "      <td>4004</td>\n",
       "      <td>Queensland</td>\n",
       "      <td>Brisbane City</td>\n",
       "      <td>Brisbane, Qld</td>\n",
       "      <td>NaN</td>\n",
       "      <td>NaN</td>\n",
       "      <td>NaN</td>\n",
       "    </tr>\n",
       "    <tr>\n",
       "      <th>2</th>\n",
       "      <td>4da194f5b538b73d930005fb</td>\n",
       "      <td>43.652500</td>\n",
       "      <td>GeoLocation</td>\n",
       "      <td>GeoLocation</td>\n",
       "      <td>-79.381667</td>\n",
       "      <td>Toronto</td>\n",
       "      <td>Unknown</td>\n",
       "      <td>Canada</td>\n",
       "      <td>ca</td>\n",
       "      <td>M5H 3R3</td>\n",
       "      <td>Ontario</td>\n",
       "      <td>Unknown</td>\n",
       "      <td>Toronto, Canada</td>\n",
       "      <td>NaN</td>\n",
       "      <td>NaN</td>\n",
       "      <td>NaN</td>\n",
       "    </tr>\n",
       "    <tr>\n",
       "      <th>3</th>\n",
       "      <td>4da194f5b538b73d930005fc</td>\n",
       "      <td>40.714353</td>\n",
       "      <td>GeoLocation</td>\n",
       "      <td>GeoLocation</td>\n",
       "      <td>-74.005973</td>\n",
       "      <td>New York</td>\n",
       "      <td>Unknown</td>\n",
       "      <td>United States</td>\n",
       "      <td>us</td>\n",
       "      <td>10007</td>\n",
       "      <td>New York</td>\n",
       "      <td>Manhattan</td>\n",
       "      <td>New York, USA</td>\n",
       "      <td>NaN</td>\n",
       "      <td>NaN</td>\n",
       "      <td>NaN</td>\n",
       "    </tr>\n",
       "    <tr>\n",
       "      <th>4</th>\n",
       "      <td>4da194f5b538b73d930005fd</td>\n",
       "      <td>-37.813187</td>\n",
       "      <td>GeoLocation</td>\n",
       "      <td>GeoLocation</td>\n",
       "      <td>144.962980</td>\n",
       "      <td>Melbourne</td>\n",
       "      <td>Unknown</td>\n",
       "      <td>Australia</td>\n",
       "      <td>au</td>\n",
       "      <td>3000</td>\n",
       "      <td>Victoria</td>\n",
       "      <td>Melbourne</td>\n",
       "      <td>Melbourne, Vic.</td>\n",
       "      <td>NaN</td>\n",
       "      <td>NaN</td>\n",
       "      <td>NaN</td>\n",
       "    </tr>\n",
       "  </tbody>\n",
       "</table>\n",
       "</div>"
      ],
      "text/plain": [
       "                        _id  centroid.latitude centroid._types.0  \\\n",
       "0  4da194f4b538b73d930005f4         -33.868901       GeoLocation   \n",
       "1  4da194f5b538b73d930005fa         -27.470933       GeoLocation   \n",
       "2  4da194f5b538b73d930005fb          43.652500       GeoLocation   \n",
       "3  4da194f5b538b73d930005fc          40.714353       GeoLocation   \n",
       "4  4da194f5b538b73d930005fd         -37.813187       GeoLocation   \n",
       "\n",
       "  centroid._cls  centroid.longitude centroid.city centroid.city_district  \\\n",
       "0   GeoLocation          151.207091        Sydney                Unknown   \n",
       "1   GeoLocation          153.023502       Unknown          Brisbane City   \n",
       "2   GeoLocation          -79.381667       Toronto                Unknown   \n",
       "3   GeoLocation          -74.005973      New York                Unknown   \n",
       "4   GeoLocation          144.962980     Melbourne                Unknown   \n",
       "\n",
       "  centroid.country centroid.country_code centroid.postcode   centroid.state  \\\n",
       "0        Australia                    au              2000  New South Wales   \n",
       "1        Australia                    au              4004       Queensland   \n",
       "2           Canada                    ca           M5H 3R3          Ontario   \n",
       "3    United States                    us             10007         New York   \n",
       "4        Australia                    au              3000         Victoria   \n",
       "\n",
       "  centroid.suburb          address name country  url  \n",
       "0          Sydney      Sydney, NSW  NaN     NaN  NaN  \n",
       "1   Brisbane City    Brisbane, Qld  NaN     NaN  NaN  \n",
       "2         Unknown  Toronto, Canada  NaN     NaN  NaN  \n",
       "3       Manhattan    New York, USA  NaN     NaN  NaN  \n",
       "4       Melbourne  Melbourne, Vic.  NaN     NaN  NaN  "
      ]
     },
     "execution_count": 8,
     "metadata": {},
     "output_type": "execute_result"
    }
   ],
   "source": [
    "places_df.head()"
   ]
  },
  {
   "cell_type": "markdown",
   "id": "c679fac0-e90e-43ac-a567-546e9f8eee22",
   "metadata": {
    "tags": []
   },
   "source": [
    "### Exploration"
   ]
  },
  {
   "cell_type": "code",
   "execution_count": 9,
   "id": "794bdcfc-35b6-4095-80e7-b8ec78bc6858",
   "metadata": {
    "execution": {
     "iopub.execute_input": "2023-03-04T12:46:55.692984Z",
     "iopub.status.busy": "2023-03-04T12:46:55.691985Z",
     "iopub.status.idle": "2023-03-04T12:46:55.766820Z",
     "shell.execute_reply": "2023-03-04T12:46:55.764833Z",
     "shell.execute_reply.started": "2023-03-04T12:46:55.692984Z"
    },
    "tags": []
   },
   "outputs": [
    {
     "name": "stdout",
     "output_type": "stream",
     "text": [
      "<class 'pandas.core.frame.DataFrame'>\n",
      "RangeIndex: 16691 entries, 0 to 16690\n",
      "Data columns (total 16 columns):\n",
      " #   Column                  Non-Null Count  Dtype  \n",
      "---  ------                  --------------  -----  \n",
      " 0   _id                     16691 non-null  object \n",
      " 1   centroid.latitude       14019 non-null  float64\n",
      " 2   centroid._types.0       14019 non-null  object \n",
      " 3   centroid._cls           14019 non-null  object \n",
      " 4   centroid.longitude      14019 non-null  float64\n",
      " 5   centroid.city           16691 non-null  object \n",
      " 6   centroid.city_district  16691 non-null  object \n",
      " 7   centroid.country        16691 non-null  object \n",
      " 8   centroid.country_code   16691 non-null  object \n",
      " 9   centroid.postcode       16691 non-null  object \n",
      " 10  centroid.state          16691 non-null  object \n",
      " 11  centroid.suburb         16691 non-null  object \n",
      " 12  address                 16141 non-null  object \n",
      " 13  name                    2548 non-null   object \n",
      " 14  country                 1776 non-null   object \n",
      " 15  url                     35 non-null     object \n",
      "dtypes: float64(2), object(14)\n",
      "memory usage: 2.0+ MB\n"
     ]
    }
   ],
   "source": [
    "places_df.info()"
   ]
  },
  {
   "cell_type": "code",
   "execution_count": 10,
   "id": "e6cedbf4-d937-4c3e-8dac-e955f387f314",
   "metadata": {
    "execution": {
     "iopub.execute_input": "2023-03-04T12:46:55.769784Z",
     "iopub.status.busy": "2023-03-04T12:46:55.768787Z",
     "iopub.status.idle": "2023-03-04T12:46:55.922182Z",
     "shell.execute_reply": "2023-03-04T12:46:55.921278Z",
     "shell.execute_reply.started": "2023-03-04T12:46:55.769784Z"
    },
    "tags": []
   },
   "outputs": [
    {
     "data": {
      "text/html": [
       "<div>\n",
       "<style scoped>\n",
       "    .dataframe tbody tr th:only-of-type {\n",
       "        vertical-align: middle;\n",
       "    }\n",
       "\n",
       "    .dataframe tbody tr th {\n",
       "        vertical-align: top;\n",
       "    }\n",
       "\n",
       "    .dataframe thead th {\n",
       "        text-align: right;\n",
       "    }\n",
       "</style>\n",
       "<table border=\"1\" class=\"dataframe\">\n",
       "  <thead>\n",
       "    <tr style=\"text-align: right;\">\n",
       "      <th></th>\n",
       "      <th>_id</th>\n",
       "      <th>centroid.latitude</th>\n",
       "      <th>centroid._types.0</th>\n",
       "      <th>centroid._cls</th>\n",
       "      <th>centroid.longitude</th>\n",
       "      <th>centroid.city</th>\n",
       "      <th>centroid.city_district</th>\n",
       "      <th>centroid.country</th>\n",
       "      <th>centroid.country_code</th>\n",
       "      <th>centroid.postcode</th>\n",
       "      <th>centroid.state</th>\n",
       "      <th>centroid.suburb</th>\n",
       "      <th>address</th>\n",
       "      <th>name</th>\n",
       "      <th>country</th>\n",
       "      <th>url</th>\n",
       "    </tr>\n",
       "  </thead>\n",
       "  <tbody>\n",
       "    <tr>\n",
       "      <th>count</th>\n",
       "      <td>16691</td>\n",
       "      <td>14019.000000</td>\n",
       "      <td>14019</td>\n",
       "      <td>14019</td>\n",
       "      <td>14019.000000</td>\n",
       "      <td>16691</td>\n",
       "      <td>16691</td>\n",
       "      <td>16691</td>\n",
       "      <td>16691</td>\n",
       "      <td>16691</td>\n",
       "      <td>16691</td>\n",
       "      <td>16691</td>\n",
       "      <td>16141</td>\n",
       "      <td>2548</td>\n",
       "      <td>1776</td>\n",
       "      <td>35</td>\n",
       "    </tr>\n",
       "    <tr>\n",
       "      <th>unique</th>\n",
       "      <td>16691</td>\n",
       "      <td>NaN</td>\n",
       "      <td>1</td>\n",
       "      <td>1</td>\n",
       "      <td>NaN</td>\n",
       "      <td>706</td>\n",
       "      <td>603</td>\n",
       "      <td>110</td>\n",
       "      <td>110</td>\n",
       "      <td>2801</td>\n",
       "      <td>369</td>\n",
       "      <td>1563</td>\n",
       "      <td>14992</td>\n",
       "      <td>2293</td>\n",
       "      <td>171</td>\n",
       "      <td>14</td>\n",
       "    </tr>\n",
       "    <tr>\n",
       "      <th>top</th>\n",
       "      <td>4da194f4b538b73d930005f4</td>\n",
       "      <td>NaN</td>\n",
       "      <td>GeoLocation</td>\n",
       "      <td>GeoLocation</td>\n",
       "      <td>NaN</td>\n",
       "      <td>Unknown</td>\n",
       "      <td>Unknown</td>\n",
       "      <td>Australia</td>\n",
       "      <td>au</td>\n",
       "      <td>Unknown</td>\n",
       "      <td>New South Wales</td>\n",
       "      <td>Unknown</td>\n",
       "      <td>Sydney, NSW</td>\n",
       "      <td>The Hart Centre of Arts</td>\n",
       "      <td>Australia</td>\n",
       "      <td>http://www.hart.com.cn/</td>\n",
       "    </tr>\n",
       "    <tr>\n",
       "      <th>freq</th>\n",
       "      <td>1</td>\n",
       "      <td>NaN</td>\n",
       "      <td>14019</td>\n",
       "      <td>14019</td>\n",
       "      <td>NaN</td>\n",
       "      <td>6406</td>\n",
       "      <td>14270</td>\n",
       "      <td>10099</td>\n",
       "      <td>10099</td>\n",
       "      <td>3738</td>\n",
       "      <td>3891</td>\n",
       "      <td>6916</td>\n",
       "      <td>129</td>\n",
       "      <td>21</td>\n",
       "      <td>967</td>\n",
       "      <td>21</td>\n",
       "    </tr>\n",
       "    <tr>\n",
       "      <th>mean</th>\n",
       "      <td>NaN</td>\n",
       "      <td>-13.330180</td>\n",
       "      <td>NaN</td>\n",
       "      <td>NaN</td>\n",
       "      <td>105.488099</td>\n",
       "      <td>NaN</td>\n",
       "      <td>NaN</td>\n",
       "      <td>NaN</td>\n",
       "      <td>NaN</td>\n",
       "      <td>NaN</td>\n",
       "      <td>NaN</td>\n",
       "      <td>NaN</td>\n",
       "      <td>NaN</td>\n",
       "      <td>NaN</td>\n",
       "      <td>NaN</td>\n",
       "      <td>NaN</td>\n",
       "    </tr>\n",
       "    <tr>\n",
       "      <th>std</th>\n",
       "      <td>NaN</td>\n",
       "      <td>35.454553</td>\n",
       "      <td>NaN</td>\n",
       "      <td>NaN</td>\n",
       "      <td>74.375595</td>\n",
       "      <td>NaN</td>\n",
       "      <td>NaN</td>\n",
       "      <td>NaN</td>\n",
       "      <td>NaN</td>\n",
       "      <td>NaN</td>\n",
       "      <td>NaN</td>\n",
       "      <td>NaN</td>\n",
       "      <td>NaN</td>\n",
       "      <td>NaN</td>\n",
       "      <td>NaN</td>\n",
       "      <td>NaN</td>\n",
       "    </tr>\n",
       "    <tr>\n",
       "      <th>min</th>\n",
       "      <td>NaN</td>\n",
       "      <td>-55.983333</td>\n",
       "      <td>NaN</td>\n",
       "      <td>NaN</td>\n",
       "      <td>-175.198242</td>\n",
       "      <td>NaN</td>\n",
       "      <td>NaN</td>\n",
       "      <td>NaN</td>\n",
       "      <td>NaN</td>\n",
       "      <td>NaN</td>\n",
       "      <td>NaN</td>\n",
       "      <td>NaN</td>\n",
       "      <td>NaN</td>\n",
       "      <td>NaN</td>\n",
       "      <td>NaN</td>\n",
       "      <td>NaN</td>\n",
       "    </tr>\n",
       "    <tr>\n",
       "      <th>25%</th>\n",
       "      <td>NaN</td>\n",
       "      <td>-35.308056</td>\n",
       "      <td>NaN</td>\n",
       "      <td>NaN</td>\n",
       "      <td>114.109497</td>\n",
       "      <td>NaN</td>\n",
       "      <td>NaN</td>\n",
       "      <td>NaN</td>\n",
       "      <td>NaN</td>\n",
       "      <td>NaN</td>\n",
       "      <td>NaN</td>\n",
       "      <td>NaN</td>\n",
       "      <td>NaN</td>\n",
       "      <td>NaN</td>\n",
       "      <td>NaN</td>\n",
       "      <td>NaN</td>\n",
       "    </tr>\n",
       "    <tr>\n",
       "      <th>50%</th>\n",
       "      <td>NaN</td>\n",
       "      <td>-33.856280</td>\n",
       "      <td>NaN</td>\n",
       "      <td>NaN</td>\n",
       "      <td>144.964595</td>\n",
       "      <td>NaN</td>\n",
       "      <td>NaN</td>\n",
       "      <td>NaN</td>\n",
       "      <td>NaN</td>\n",
       "      <td>NaN</td>\n",
       "      <td>NaN</td>\n",
       "      <td>NaN</td>\n",
       "      <td>NaN</td>\n",
       "      <td>NaN</td>\n",
       "      <td>NaN</td>\n",
       "      <td>NaN</td>\n",
       "    </tr>\n",
       "    <tr>\n",
       "      <th>75%</th>\n",
       "      <td>NaN</td>\n",
       "      <td>14.583333</td>\n",
       "      <td>NaN</td>\n",
       "      <td>NaN</td>\n",
       "      <td>151.200318</td>\n",
       "      <td>NaN</td>\n",
       "      <td>NaN</td>\n",
       "      <td>NaN</td>\n",
       "      <td>NaN</td>\n",
       "      <td>NaN</td>\n",
       "      <td>NaN</td>\n",
       "      <td>NaN</td>\n",
       "      <td>NaN</td>\n",
       "      <td>NaN</td>\n",
       "      <td>NaN</td>\n",
       "      <td>NaN</td>\n",
       "    </tr>\n",
       "    <tr>\n",
       "      <th>max</th>\n",
       "      <td>NaN</td>\n",
       "      <td>76.250578</td>\n",
       "      <td>NaN</td>\n",
       "      <td>NaN</td>\n",
       "      <td>178.500000</td>\n",
       "      <td>NaN</td>\n",
       "      <td>NaN</td>\n",
       "      <td>NaN</td>\n",
       "      <td>NaN</td>\n",
       "      <td>NaN</td>\n",
       "      <td>NaN</td>\n",
       "      <td>NaN</td>\n",
       "      <td>NaN</td>\n",
       "      <td>NaN</td>\n",
       "      <td>NaN</td>\n",
       "      <td>NaN</td>\n",
       "    </tr>\n",
       "  </tbody>\n",
       "</table>\n",
       "</div>"
      ],
      "text/plain": [
       "                             _id  centroid.latitude centroid._types.0  \\\n",
       "count                      16691       14019.000000             14019   \n",
       "unique                     16691                NaN                 1   \n",
       "top     4da194f4b538b73d930005f4                NaN       GeoLocation   \n",
       "freq                           1                NaN             14019   \n",
       "mean                         NaN         -13.330180               NaN   \n",
       "std                          NaN          35.454553               NaN   \n",
       "min                          NaN         -55.983333               NaN   \n",
       "25%                          NaN         -35.308056               NaN   \n",
       "50%                          NaN         -33.856280               NaN   \n",
       "75%                          NaN          14.583333               NaN   \n",
       "max                          NaN          76.250578               NaN   \n",
       "\n",
       "       centroid._cls  centroid.longitude centroid.city centroid.city_district  \\\n",
       "count          14019        14019.000000         16691                  16691   \n",
       "unique             1                 NaN           706                    603   \n",
       "top      GeoLocation                 NaN       Unknown                Unknown   \n",
       "freq           14019                 NaN          6406                  14270   \n",
       "mean             NaN          105.488099           NaN                    NaN   \n",
       "std              NaN           74.375595           NaN                    NaN   \n",
       "min              NaN         -175.198242           NaN                    NaN   \n",
       "25%              NaN          114.109497           NaN                    NaN   \n",
       "50%              NaN          144.964595           NaN                    NaN   \n",
       "75%              NaN          151.200318           NaN                    NaN   \n",
       "max              NaN          178.500000           NaN                    NaN   \n",
       "\n",
       "       centroid.country centroid.country_code centroid.postcode  \\\n",
       "count             16691                 16691             16691   \n",
       "unique              110                   110              2801   \n",
       "top           Australia                    au           Unknown   \n",
       "freq              10099                 10099              3738   \n",
       "mean                NaN                   NaN               NaN   \n",
       "std                 NaN                   NaN               NaN   \n",
       "min                 NaN                   NaN               NaN   \n",
       "25%                 NaN                   NaN               NaN   \n",
       "50%                 NaN                   NaN               NaN   \n",
       "75%                 NaN                   NaN               NaN   \n",
       "max                 NaN                   NaN               NaN   \n",
       "\n",
       "         centroid.state centroid.suburb      address                     name  \\\n",
       "count             16691           16691        16141                     2548   \n",
       "unique              369            1563        14992                     2293   \n",
       "top     New South Wales         Unknown  Sydney, NSW  The Hart Centre of Arts   \n",
       "freq               3891            6916          129                       21   \n",
       "mean                NaN             NaN          NaN                      NaN   \n",
       "std                 NaN             NaN          NaN                      NaN   \n",
       "min                 NaN             NaN          NaN                      NaN   \n",
       "25%                 NaN             NaN          NaN                      NaN   \n",
       "50%                 NaN             NaN          NaN                      NaN   \n",
       "75%                 NaN             NaN          NaN                      NaN   \n",
       "max                 NaN             NaN          NaN                      NaN   \n",
       "\n",
       "          country                      url  \n",
       "count        1776                       35  \n",
       "unique        171                       14  \n",
       "top     Australia  http://www.hart.com.cn/  \n",
       "freq          967                       21  \n",
       "mean          NaN                      NaN  \n",
       "std           NaN                      NaN  \n",
       "min           NaN                      NaN  \n",
       "25%           NaN                      NaN  \n",
       "50%           NaN                      NaN  \n",
       "75%           NaN                      NaN  \n",
       "max           NaN                      NaN  "
      ]
     },
     "execution_count": 10,
     "metadata": {},
     "output_type": "execute_result"
    }
   ],
   "source": [
    "places_df.describe(include=\"all\")"
   ]
  },
  {
   "cell_type": "markdown",
   "id": "a46d333f-160f-45e5-a62d-277c4067eb1e",
   "metadata": {},
   "source": [
    "## 3. Place Normalization "
   ]
  },
  {
   "cell_type": "markdown",
   "id": "23ee90bf-5be3-4f4d-8d12-a010665f34fe",
   "metadata": {},
   "source": [
    "### Brief Description\n",
    "\n",
    "To denormalize the irregular place information into a standard format with united names (country-state-city-suburb-(postcode)), reverse-geocoding and manual geo information extraction are implemented in this process.\n",
    "\n",
    "There are 3 stages in DAAO place normalization:\n",
    "\n",
    "【Stage 1】<br>\n",
    "Get a group of standardized location candidates (aka geo-candidates) from reverse-geocoding (Step 1, 2, 3).<br>\n",
    "【Stage 2】<br>\n",
    "Extract the other group of standardized location candidates (aka extracted-candidates) from the cleaned raw location text (Step 4, 5, 6).<br> \n",
    "【Stage 3】<br> \n",
    "By comparing with the geo-candidates and extracted-candidates, the location unite would be \"inferred\" from country level to (Australian) suburb level (Step 7, 8, 9).<br>\n",
    "\n",
    "1. [Reverse Geocoding](#reverse-geocoding)<br>\n",
    "This section will get the (potential) **standardized** details of geo information of existing place, either from centroid coordinates or address and name.<br>\n",
    "If the coordinates/address and name information doesn't exist in ACDE_Coordinate2Loc.jsonl/ACDE_Loc2Coordinate.jsonl, the coordinates/address and name will be reverse-geocoded and stored into these jsonl files.<br>\n",
    "    *Reference*: [Get the city, state, and country names from latitude and longitude using Python](https://www.geeksforgeeks.org/get-the-city-state-and-country-names-from-latitude-and-longitude-using-python/)<br>\n",
    "\n",
    "2. [Merge Reverse-Geocoding Data into Original Place Data](#merge-reverse-geo-into-original-place)<br>\n",
    "<br>\n",
    "3. [Extract Location Candidates from Reverse-Geocoding Information](#get-ptnl-loc)<br>\n",
    "This section extracts standardized location combination (country, state, city, suburb, postcode) candidates from reverse-geocoded data getting from [Reverse Geocoding](#reverse-geocoding). <br>\n",
    "\n",
    "4. [Place Normalizer Initialization](#place-normalizer-initiallization)<br>\n",
    "\n",
    "5. [Raw Input Cleansing](#raw-input-cleansing)<br>\n",
    "This section cleans the original country/name/address from database, and then finds the longest place information, which can be treated as \"the best location information\".<br>\n",
    "The initial cleasing process including:<br>\n",
    "    1. Redundant punctuation removal.<br>\n",
    "    2. State/Country abbreviation standardization >> expansion.<br>\n",
    "    3. Spelling Checking (country only regarding the time efficiency).<br>\n",
    "\n",
    "6. [Potential Place Extraction](#ptnl-places-extraction)<br>\n",
    "This section extracts the potential location components by comparing with the names in (standardized) country/state/city/(Australian) suburb datasets.<br>\n",
    "\n",
    "7. [Merge Extracted-Candidates & Geo-Candidates](#merge-two-groups-candidates)<br>\n",
    "This section merges 2 types of candidates for the following inferring.<br>\n",
    "\n",
    "8. [Location Components Inferring](#loc-comp-infer)<br>\n",
    "This section infers the location components from country level to Australian suburb level (if there's any)<br>\n",
    "\n",
    "9. [Redundancy Removal](#redundancy-removal)"
   ]
  },
  {
   "cell_type": "markdown",
   "id": "069b45f5-17bb-482b-936f-78b4ea77ab1d",
   "metadata": {
    "tags": []
   },
   "source": [
    "### <a  name=\"reverse-geocoding\">Reverse Geocoding<a>"
   ]
  },
  {
   "cell_type": "code",
   "execution_count": 11,
   "id": "e3069fb5-b616-40ea-aae6-80e359fc6aef",
   "metadata": {
    "execution": {
     "iopub.execute_input": "2023-03-04T12:46:55.924176Z",
     "iopub.status.busy": "2023-03-04T12:46:55.923181Z",
     "iopub.status.idle": "2023-03-04T12:46:56.077448Z",
     "shell.execute_reply": "2023-03-04T12:46:56.077448Z",
     "shell.execute_reply.started": "2023-03-04T12:46:55.924176Z"
    },
    "tags": []
   },
   "outputs": [],
   "source": [
    "from geopy.geocoders import Nominatim\n",
    "\n",
    "locinfo_folder = \"D:/Program_Data/Australia_Cultural_Data_Engine_Data/general\"\n",
    "\n",
    "centroid_fn = \"ACDE_Coordinate2Loc.jsonl\"\n",
    "centroid_fpath = os.path.join(locinfo_folder, centroid_fn)\n",
    "Loc2Cor_fn = \"ACDE_Loc2Coordinate.jsonl\"\n",
    "Loc2Cor_fpath = os.path.join(locinfo_folder, Loc2Cor_fn)"
   ]
  },
  {
   "cell_type": "markdown",
   "id": "3c3c0ea6-0cb6-4324-aebf-8f1998a08600",
   "metadata": {
    "tags": []
   },
   "source": [
    "#### Reverse Geocoding: Centroid Coordinates\n",
    "\n",
    "This section will create/update ACDE_Coordinate2Loc.jsonl, which is the mapping table for the existing coordinates in place collection of DAAO database. If there's a new pair of coodinates, it will be added into the table.\n",
    "\n",
    "1. \n",
    "github: tyne@tynedaile.com and nat@cutters.org\n",
    "narrative:"
   ]
  },
  {
   "cell_type": "code",
   "execution_count": 12,
   "id": "588f56a1-2355-40c0-9968-985a12ec43d3",
   "metadata": {
    "execution": {
     "iopub.execute_input": "2023-03-04T12:46:56.082420Z",
     "iopub.status.busy": "2023-03-04T12:46:56.082420Z",
     "iopub.status.idle": "2023-03-04T12:46:56.267394Z",
     "shell.execute_reply": "2023-03-04T12:46:56.266384Z",
     "shell.execute_reply.started": "2023-03-04T12:46:56.082420Z"
    },
    "tags": []
   },
   "outputs": [
    {
     "name": "stderr",
     "output_type": "stream",
     "text": [
      "100%|██████████████████████████████████████████████████████████████████████████| 5307/5307 [00:00<00:00, 376591.12it/s]\n"
     ]
    }
   ],
   "source": [
    "#####\n",
    "# Load existing coordinates\n",
    "#####\n",
    "existing_centroids = set()\n",
    "my_file = Path(centroid_fpath)\n",
    "if my_file.is_file():\n",
    "    with jsonlines.open(centroid_fpath) as js_reader:\n",
    "        for obj in js_reader:\n",
    "            existing_centroids.add(tuple(obj.get(\"ori_coordinates\")))\n",
    "\n",
    "# Initialize geocoder\n",
    "geolocator = Nominatim(user_agent=\"geoapiExercises\")\n",
    "\n",
    "all_centroids = (\n",
    "    places_df[[\"centroid.latitude\", \"centroid.longitude\"]].drop_duplicates().dropna()\n",
    ")\n",
    "\n",
    "with jsonlines.open(centroid_fpath, mode=\"a\") as js_writer, tqdm(\n",
    "    total=all_centroids.shape[0]\n",
    ") as pbar:\n",
    "    for idx, lat, long in all_centroids[\n",
    "        [\"centroid.latitude\", \"centroid.longitude\"]\n",
    "    ].itertuples():\n",
    "        loc_info = {\"ori_coordinates\": [lat, long]}\n",
    "        if (lat, long) not in existing_centroids:\n",
    "            rsp_loc = geolocator.reverse(\n",
    "                f\"{lat},{long}\", addressdetails=True, language=\"en\"\n",
    "            )\n",
    "            if rsp_loc:\n",
    "                loc_info.update(rsp_loc.raw)\n",
    "            js_writer.write(loc_info)\n",
    "            # time.sleep(1)\n",
    "        pbar.update(1)"
   ]
  },
  {
   "cell_type": "markdown",
   "id": "69191644-5020-40a8-84bf-c38a07aeaa47",
   "metadata": {},
   "source": [
    "#### Reverse Geocoding: Address/Name"
   ]
  },
  {
   "cell_type": "code",
   "execution_count": 13,
   "id": "9d6727c3-7f69-4232-930e-b5bdd949ce31",
   "metadata": {
    "execution": {
     "iopub.execute_input": "2023-03-04T12:46:56.269364Z",
     "iopub.status.busy": "2023-03-04T12:46:56.268365Z",
     "iopub.status.idle": "2023-03-04T12:46:56.709239Z",
     "shell.execute_reply": "2023-03-04T12:46:56.708236Z",
     "shell.execute_reply.started": "2023-03-04T12:46:56.269364Z"
    },
    "tags": []
   },
   "outputs": [],
   "source": [
    "#####\n",
    "# Reload coordinates info\n",
    "#####\n",
    "\n",
    "all_Coord2Loc = []\n",
    "\n",
    "with jsonlines.open(centroid_fpath) as js_reader:\n",
    "    for obj in js_reader:\n",
    "        all_Coord2Loc.append(obj)\n",
    "\n",
    "all_Coord2Loc = pd.json_normalize(all_Coord2Loc)\n",
    "all_Coord2Loc[\"ori_coordinates\"] = all_Coord2Loc[\"ori_coordinates\"].apply(tuple)\n",
    "Coord2Ctycode = (\n",
    "    all_Coord2Loc[[\"ori_coordinates\", \"address.country_code\"]]\n",
    "    .fillna(\"\")\n",
    "    .set_index(\"ori_coordinates\")\n",
    "    .to_dict()\n",
    "    .get(\"address.country_code\")\n",
    ")\n",
    "\n",
    "#####\n",
    "# Get all locations from retrieved places\n",
    "#####\n",
    "\n",
    "all_locs = (\n",
    "    places_df[[\"country\", \"name\", \"address\"]]\n",
    "    .unstack()\n",
    "    .dropna()\n",
    "    .str.strip()\n",
    "    .drop_duplicates()\n",
    ")\n",
    "all_locs = (\n",
    "    all_locs.to_frame(\"loc_info\")\n",
    "    .reset_index(level=0)\n",
    "    .merge(\n",
    "        places_df[[\"centroid.latitude\", \"centroid.longitude\"]],\n",
    "        left_index=True,\n",
    "        right_index=True,\n",
    "        how=\"left\",\n",
    "    )\n",
    ")"
   ]
  },
  {
   "cell_type": "code",
   "execution_count": 14,
   "id": "66e26b48-80a9-4987-9716-e3b8b582185c",
   "metadata": {
    "execution": {
     "iopub.execute_input": "2023-03-04T12:46:56.712231Z",
     "iopub.status.busy": "2023-03-04T12:46:56.711234Z",
     "iopub.status.idle": "2023-03-04T12:46:57.288108Z",
     "shell.execute_reply": "2023-03-04T12:46:57.287271Z",
     "shell.execute_reply.started": "2023-03-04T12:46:56.712231Z"
    },
    "tags": []
   },
   "outputs": [
    {
     "name": "stderr",
     "output_type": "stream",
     "text": [
      "100%|████████████████████████████████████████████████████████████████████████| 17126/17126 [00:00<00:00, 300446.50it/s]\n"
     ]
    }
   ],
   "source": [
    "#####\n",
    "# Load existing locations\n",
    "#####\n",
    "existing_locs = set()\n",
    "Loc2Cor_file = Path(Loc2Cor_fpath)\n",
    "if Loc2Cor_file.is_file():\n",
    "    with jsonlines.open(Loc2Cor_fpath) as js_reader:\n",
    "        for obj in js_reader:\n",
    "            existing_locs.add(obj.get(\"search_query\"))\n",
    "            existing_locs.add(obj.get(\"raw_loc_info\"))\n",
    "    existing_locs.discard(None)\n",
    "\n",
    "# Initialize geolocator\n",
    "geolocator = Nominatim(user_agent=\"geoapiExercises\")\n",
    "\n",
    "with jsonlines.open(Loc2Cor_fpath, mode=\"a\") as js_writer, tqdm(\n",
    "    total=len(all_locs)\n",
    ") as pbar:\n",
    "    for (idx, _, raw_loc, lat, lon) in all_locs.itertuples():\n",
    "        search_ctycode = Coord2Ctycode.get((lat, lon))\n",
    "        loc_info = {\n",
    "            \"search_query\": raw_loc,\n",
    "            \"search_ctycode\": search_ctycode,\n",
    "            \"rsp\": [],\n",
    "        }\n",
    "        potential_locs = [raw_loc]\n",
    "        if raw_loc not in existing_locs:\n",
    "            if \",\" in raw_loc:\n",
    "                potential_names = raw_loc.split(\",\", 1)\n",
    "                potential_locs = potential_locs + potential_names\n",
    "                potential_locs = [i.strip() for i in potential_locs]\n",
    "            for curr_idx, curr_loc in enumerate(potential_locs):\n",
    "                if curr_idx == 0:\n",
    "                    rsp_loc = geolocator.geocode(\n",
    "                        curr_loc,\n",
    "                        addressdetails=True,\n",
    "                        language=\"en\",\n",
    "                        country_codes=search_ctycode,\n",
    "                        timeout=None,\n",
    "                    )\n",
    "                    if rsp_loc:\n",
    "                        loc_info[\"rsp\"].append(rsp_loc.raw)\n",
    "                        js_writer.write(loc_info)\n",
    "                        break\n",
    "                    else:\n",
    "                        js_writer.write(loc_info)\n",
    "                elif curr_idx == 1:\n",
    "                    if curr_loc not in existing_locs:\n",
    "                        rsp_loc = geolocator.geocode(\n",
    "                            curr_loc,\n",
    "                            addressdetails=True,\n",
    "                            language=\"en\",\n",
    "                            country_codes=search_ctycode,\n",
    "                            timeout=None,\n",
    "                            exactly_one=False,\n",
    "                        )\n",
    "                        loc_info.update(\n",
    "                            {\"search_query\": curr_loc, \"raw_loc_info\": raw_loc}\n",
    "                        )\n",
    "                        if rsp_loc:\n",
    "                            loc_info[\"rsp\"] = loc_info[\"rsp\"] + [\n",
    "                                rsp.raw for rsp in rsp_loc\n",
    "                            ]\n",
    "                        js_writer.write(loc_info)\n",
    "                        # here's a bug\n",
    "                        existing_locs.add(curr_loc)\n",
    "                else:\n",
    "                    # Independent section, New Ballarat General Cemetery, Ballarat, Vic.\n",
    "                    # If this part can recursively check the part, that might be better\n",
    "                    # But not worthy\n",
    "                    if curr_loc not in existing_locs:\n",
    "                        rsp_loc = geolocator.geocode(\n",
    "                            curr_loc,\n",
    "                            addressdetails=True,\n",
    "                            language=\"en\",\n",
    "                            country_codes=search_ctycode,\n",
    "                            timeout=None,\n",
    "                            exactly_one=True,\n",
    "                        )\n",
    "                        loc_info.update(\n",
    "                            {\"search_query\": curr_loc, \"raw_loc_info\": raw_loc}\n",
    "                        )\n",
    "                        if rsp_loc:\n",
    "                            loc_info[\"rsp\"].append(rsp_loc.raw)\n",
    "                        js_writer.write(loc_info)\n",
    "                        existing_locs.add(curr_loc)\n",
    "                # time.sleep(0.9)\n",
    "        pbar.update(1)\n",
    "        # if idx >= 80:\n",
    "        #     break"
   ]
  },
  {
   "cell_type": "markdown",
   "id": "541e8e31-2b79-4684-82fd-930c59d63da2",
   "metadata": {
    "execution": {
     "iopub.execute_input": "2022-08-13T00:33:36.912048Z",
     "iopub.status.busy": "2022-08-13T00:33:36.912048Z",
     "iopub.status.idle": "2022-08-13T00:33:36.928005Z",
     "shell.execute_reply": "2022-08-13T00:33:36.927007Z",
     "shell.execute_reply.started": "2022-08-13T00:33:36.912048Z"
    },
    "tags": []
   },
   "source": [
    "### <a name=merge-reverse-geo-into-original-place>Merge Reverse-Geocoding into Original DAAO Place Data</a>"
   ]
  },
  {
   "cell_type": "code",
   "execution_count": 15,
   "id": "3aad01c8-be55-4ecb-ba94-c6eff3249dd9",
   "metadata": {
    "execution": {
     "iopub.execute_input": "2023-03-04T12:46:57.290101Z",
     "iopub.status.busy": "2023-03-04T12:46:57.289104Z",
     "iopub.status.idle": "2023-03-04T12:47:00.023321Z",
     "shell.execute_reply": "2023-03-04T12:47:00.022392Z",
     "shell.execute_reply.started": "2023-03-04T12:46:57.290101Z"
    },
    "tags": []
   },
   "outputs": [],
   "source": [
    "######\n",
    "# Reload Existing Geo Information\n",
    "######\n",
    "\n",
    "locinfo_folder = \"D:/Program_Data/Australia_Cultural_Data_Engine_Data/general\"\n",
    "\n",
    "centroid_fn = \"ACDE_Coordinate2Loc.jsonl\"\n",
    "centroid_fpath = os.path.join(locinfo_folder, centroid_fn)\n",
    "Loc2Cor_fn = \"ACDE_Loc2Coordinate.jsonl\"\n",
    "Loc2Cor_fpath = os.path.join(locinfo_folder, Loc2Cor_fn)\n",
    "\n",
    "c2l_cols = [\n",
    "    \"ori_latitude\",\n",
    "    \"ori_longitude\",\n",
    "    \"address.country\",\n",
    "    \"address.country_code\",\n",
    "    \"address.state\",\n",
    "    \"address.city\",\n",
    "    \"address.city_district\",\n",
    "    \"address.suburb\",\n",
    "    \"address.postcode\",\n",
    "]\n",
    "l2c_cols = [\n",
    "    \"search_query\",\n",
    "    \"raw_loc_info\" \"display_name\",\n",
    "    \"address.region\",\n",
    "    \"address.country\",\n",
    "    \"address.country_code\",\n",
    "    \"address.state_district\",\n",
    "    \"address.state\",\n",
    "    \"address.county\",\n",
    "    \"address.city_district\",\n",
    "    \"address.city\",\n",
    "    \"address.suburb\",\n",
    "    \"address.town\",\n",
    "    \"address.road\",\n",
    "    \"address.house_number\",\n",
    "    \"address.postcode\",\n",
    "]\n",
    "\n",
    "existing_loc2cor = []\n",
    "existing_cor2loc = []\n",
    "\n",
    "with jsonlines.open(Loc2Cor_fpath) as js_reader:\n",
    "    for obj in js_reader:\n",
    "        existing_loc2cor.append(obj)\n",
    "\n",
    "with jsonlines.open(centroid_fpath) as js_reader:\n",
    "    for obj in js_reader:\n",
    "        existing_cor2loc.append(obj)\n",
    "\n",
    "existing_cor2loc = pd.json_normalize(existing_cor2loc, meta=\"address\")\n",
    "existing_cor2loc[[\"ori_latitude\", \"ori_longitude\"]] = existing_cor2loc[\n",
    "    \"ori_coordinates\"\n",
    "].apply(pd.Series)\n",
    "\n",
    "existing_loc2cor = pd.json_normalize(existing_loc2cor)"
   ]
  },
  {
   "cell_type": "code",
   "execution_count": 16,
   "id": "2a7fa5f3-bf85-4aa8-a662-bb4862fcf0eb",
   "metadata": {
    "execution": {
     "iopub.execute_input": "2023-03-04T12:47:00.025153Z",
     "iopub.status.busy": "2023-03-04T12:47:00.025153Z",
     "iopub.status.idle": "2023-03-04T12:47:00.101194Z",
     "shell.execute_reply": "2023-03-04T12:47:00.100174Z",
     "shell.execute_reply.started": "2023-03-04T12:47:00.025153Z"
    },
    "tags": []
   },
   "outputs": [],
   "source": [
    "places_df_corrd2loc = places_df.merge(\n",
    "    existing_cor2loc[c2l_cols].set_index([\"ori_latitude\", \"ori_longitude\"]),\n",
    "    right_index=True,\n",
    "    left_on=[\"centroid.latitude\", \"centroid.longitude\"],\n",
    "    how=\"left\",\n",
    ").copy()\n",
    "\n",
    "# places_df_corrd2loc.columns = [\n",
    "#     col_name.replace(\"address.\", \"centroid.\")\n",
    "#     for col_name in places_df_corrd2loc.columns.to_list()\n",
    "# ]"
   ]
  },
  {
   "cell_type": "code",
   "execution_count": 17,
   "id": "83f107c5-f36d-40d8-9ed2-1a55d9ec27ba",
   "metadata": {
    "execution": {
     "iopub.execute_input": "2023-03-04T12:47:00.102168Z",
     "iopub.status.busy": "2023-03-04T12:47:00.102168Z",
     "iopub.status.idle": "2023-03-04T12:47:00.871862Z",
     "shell.execute_reply": "2023-03-04T12:47:00.870923Z",
     "shell.execute_reply.started": "2023-03-04T12:47:00.102168Z"
    },
    "tags": []
   },
   "outputs": [],
   "source": [
    "valid_loc2corrd_rsp_addr = daao_pm.FindPtnlLoc2Corrd(\n",
    "    places_df_corrd2loc, \"address\", existing_loc2cor\n",
    ")\n",
    "\n",
    "valid_loc2corrd_rsp_name = daao_pm.FindPtnlLoc2Corrd(\n",
    "    places_df_corrd2loc, \"name\", existing_loc2cor\n",
    ")"
   ]
  },
  {
   "cell_type": "code",
   "execution_count": 18,
   "id": "f445f277-202e-48d1-96b8-7ab36d30bc89",
   "metadata": {
    "execution": {
     "iopub.execute_input": "2023-03-04T12:47:00.872877Z",
     "iopub.status.busy": "2023-03-04T12:47:00.872877Z",
     "iopub.status.idle": "2023-03-04T12:47:00.934698Z",
     "shell.execute_reply": "2023-03-04T12:47:00.933728Z",
     "shell.execute_reply.started": "2023-03-04T12:47:00.872877Z"
    },
    "tags": []
   },
   "outputs": [],
   "source": [
    "# concatenate address results and name results\n",
    "valid_loc2corrd_rsp = pd.concat(\n",
    "    [valid_loc2corrd_rsp_addr, valid_loc2corrd_rsp_name], axis=0\n",
    ")\n",
    "ori_valid_loc2corrd_rsp = valid_loc2corrd_rsp.copy()\n",
    "\n",
    "# Processing valid_loc2corrd_rsp\n",
    "valid_loc2corrd_rsp = valid_loc2corrd_rsp.groupby(\"index\")[\"loc2corrd_rsp\"].agg(sum)\n",
    "valid_loc2corrd_rsp = valid_loc2corrd_rsp.apply(daao_pm.SelectUniqueLoc2Corrd).to_frame(\n",
    "    \"loc2corrd_rsp\"\n",
    ")\n",
    "\n",
    "#####\n",
    "# Do merging only\n",
    "# Don't do the index aggregation here (keep original long df)\n",
    "# Attention to duplicates search_query (but different raw_loc_info)\n",
    "#####\n",
    "ori_valid_loc2corrd_rsp = ori_valid_loc2corrd_rsp.merge(\n",
    "    existing_loc2cor[[\"search_query\", \"raw_loc_info\"]],\n",
    "    right_index=True,\n",
    "    left_on=\"loc2_cor_idx\",\n",
    "    how=\"left\",\n",
    ")"
   ]
  },
  {
   "cell_type": "markdown",
   "id": "73ba3a1c-9dd2-4dc9-9700-3fea565b0014",
   "metadata": {
    "execution": {
     "iopub.execute_input": "2022-08-15T00:51:55.788634Z",
     "iopub.status.busy": "2022-08-15T00:51:55.787655Z",
     "iopub.status.idle": "2022-08-15T00:51:55.796611Z",
     "shell.execute_reply": "2022-08-15T00:51:55.795649Z",
     "shell.execute_reply.started": "2022-08-15T00:51:55.788634Z"
    },
    "tags": []
   },
   "source": [
    "Finally, we get **valid_loc2corrd_rsp**, which is the valid location information from existing address/name,  and **places_df_corrd2loc**, which is the location information reverse-geocoded from centorids."
   ]
  },
  {
   "cell_type": "markdown",
   "id": "e4b97e1f-0b64-45a3-875a-19a1e81c63b3",
   "metadata": {
    "tags": []
   },
   "source": [
    "### <a name='get-loc-candidates'>Extract Location Candidates from Reverse-Geocoding Information</a>"
   ]
  },
  {
   "cell_type": "code",
   "execution_count": 19,
   "id": "39d47dc1-9a53-49dd-be70-b972649623be",
   "metadata": {
    "execution": {
     "iopub.execute_input": "2023-03-04T12:47:00.936724Z",
     "iopub.status.busy": "2023-03-04T12:47:00.935748Z",
     "iopub.status.idle": "2023-03-04T12:47:01.608372Z",
     "shell.execute_reply": "2023-03-04T12:47:01.607334Z",
     "shell.execute_reply.started": "2023-03-04T12:47:00.936724Z"
    },
    "tags": []
   },
   "outputs": [],
   "source": [
    "ptnlLoc_fromGeocode = (\n",
    "    places_df_corrd2loc[\n",
    "        [\n",
    "            \"centroid.country\",\n",
    "            \"centroid.state\",\n",
    "            \"centroid.city\",\n",
    "            \"centroid.suburb\",\n",
    "            \"centroid.postcode\",\n",
    "        ]\n",
    "    ]\n",
    "    .merge(valid_loc2corrd_rsp, left_index=True, right_index=True, how=\"left\")\n",
    "    .apply(\n",
    "        lambda x: daao_pm.GetPtnlLoc_Geo(\n",
    "            [\n",
    "                x[\"centroid.country\"],\n",
    "                x[\"centroid.state\"],\n",
    "                x[\"centroid.city\"],\n",
    "                x[\"centroid.suburb\"],\n",
    "                x[\"centroid.postcode\"],\n",
    "            ],\n",
    "            x[\"loc2corrd_rsp\"],\n",
    "            (\"country\", \"state\", \"city\", \"suburb\", \"postcode\"),\n",
    "        ),\n",
    "        axis=1,\n",
    "    )\n",
    ").to_frame(\"ptnlLoc_fromGeocode\")"
   ]
  },
  {
   "cell_type": "markdown",
   "id": "93b75f0e-7afd-42a6-8c81-733451b47e63",
   "metadata": {
    "execution": {
     "iopub.execute_input": "2022-06-22T23:16:36.540511Z",
     "iopub.status.busy": "2022-06-22T23:16:36.540511Z",
     "iopub.status.idle": "2022-06-22T23:16:36.559429Z",
     "shell.execute_reply": "2022-06-22T23:16:36.558461Z",
     "shell.execute_reply.started": "2022-06-22T23:16:36.540511Z"
    },
    "tags": []
   },
   "source": [
    "### <a name='place-normalizer-initiallization'>Place Normalizer Initialization</a>\n",
    "\n",
    "Initialize the normalizer for following sections. The supplement geo datasets are [World Cities Database](https://simplemaps.com/data/world-cities)."
   ]
  },
  {
   "cell_type": "code",
   "execution_count": 20,
   "id": "6d22fac9-2e6d-4502-9729-6e8a70eecdee",
   "metadata": {
    "execution": {
     "iopub.execute_input": "2023-03-04T12:47:01.609373Z",
     "iopub.status.busy": "2023-03-04T12:47:01.609373Z",
     "iopub.status.idle": "2023-03-04T12:47:01.623311Z",
     "shell.execute_reply": "2023-03-04T12:47:01.622344Z",
     "shell.execute_reply.started": "2023-03-04T12:47:01.609373Z"
    },
    "tags": []
   },
   "outputs": [],
   "source": [
    "geo_folder = \"D:/Program_Data/Australia_Cultural_Data_Engine_Data/supplemental_datasets\""
   ]
  },
  {
   "cell_type": "code",
   "execution_count": 21,
   "id": "62cd3fdb-8c83-4588-85e8-23ae66dc7f75",
   "metadata": {
    "execution": {
     "iopub.execute_input": "2023-03-04T12:47:01.626036Z",
     "iopub.status.busy": "2023-03-04T12:47:01.626036Z",
     "iopub.status.idle": "2023-03-04T12:47:03.311849Z",
     "shell.execute_reply": "2023-03-04T12:47:03.310915Z",
     "shell.execute_reply.started": "2023-03-04T12:47:01.626036Z"
    },
    "tags": []
   },
   "outputs": [],
   "source": [
    "p_normalizer = daao_pm.DAAO_PlaceNormalization(geo_folder=geo_folder)"
   ]
  },
  {
   "cell_type": "markdown",
   "id": "a88ac228-1e0d-49c5-8b46-1f30e060b5ee",
   "metadata": {
    "tags": []
   },
   "source": [
    "### <a name='raw-input-cleansing'>Raw Input (address/name/country) Cleansing</a>"
   ]
  },
  {
   "cell_type": "code",
   "execution_count": 22,
   "id": "c4e414bd-85ef-4d39-8840-9c404c7331bf",
   "metadata": {
    "execution": {
     "iopub.execute_input": "2023-03-04T12:47:03.312838Z",
     "iopub.status.busy": "2023-03-04T12:47:03.312838Z",
     "iopub.status.idle": "2023-03-04T12:47:06.127246Z",
     "shell.execute_reply": "2023-03-04T12:47:06.126221Z",
     "shell.execute_reply.started": "2023-03-04T12:47:03.312838Z"
    },
    "scrolled": true,
    "tags": []
   },
   "outputs": [],
   "source": [
    "# Correcting PRC\n",
    "places_df[\"country\"] = places_df.country.fillna(\"\").apply(\n",
    "    lambda x: \"China\"\n",
    "    if \",\" not in x and \"PRC\" in \"\".join([char for char in x if char.isupper()])\n",
    "    else x\n",
    ")\n",
    "####\n",
    "# Initial Cleaning Process\n",
    "####\n",
    "ori_places = (\n",
    "    places_df[[\"country\", \"address\", \"name\"]]\n",
    "    .rename({\"country\": \"1_country\", \"address\": \"3_address\", \"name\": \"2_name\"}, axis=1)\n",
    "    .stack()\n",
    "    .to_frame(\"place_info\")\n",
    "    .reset_index()\n",
    ")\n",
    "cleaned_places = (\n",
    "    ori_places.sort_values(\"level_1\").drop_duplicates(\"place_info\", keep=\"first\").copy()\n",
    ")\n",
    "\n",
    "cty_idx = cleaned_places.query('level_1==\"1_country\"').index\n",
    "cleaned_places[\"cleaned_place_info\"] = \"\"\n",
    "\n",
    "cleaned_places.loc[cty_idx, \"cleaned_place_info\"] = cleaned_places.loc[\n",
    "    cty_idx, \"place_info\"\n",
    "].apply(lambda x: p_normalizer.place_initProcess(x, spell_check=True))\n",
    "\n",
    "other_idx = cleaned_places.query('level_1!=\"1_country\"').index\n",
    "cleaned_places.loc[other_idx, \"cleaned_place_info\"] = cleaned_places.loc[\n",
    "    other_idx, \"place_info\"\n",
    "].apply(lambda x: p_normalizer.place_initProcess(x, spell_check=False))\n",
    "ori_places = ori_places.reset_index()\n",
    "cleaned_places = cleaned_places.drop([\"level_1\", \"level_0\"], axis=1)\n",
    "cleaned_places = ori_places.merge(\n",
    "    cleaned_places, on=\"place_info\", suffixes=[\"_ori\", \"\"]\n",
    ").drop(\"place_info\", axis=1)\n",
    "cleaned_places = cleaned_places.pivot(\n",
    "    index=\"level_0\", columns=\"level_1\", values=\"cleaned_place_info\"\n",
    ").fillna(\"\")\n",
    "cleaned_places = cleaned_places.rename(\n",
    "    {\"1_country\": \"country\", \"3_address\": \"address\", \"2_name\": \"name\"}, axis=1\n",
    ")\n",
    "cleaned_places = cleaned_places.add_prefix(\"cleaned_\")\n",
    "cleaned_places = cleaned_places.applymap(\n",
    "    lambda x: x.replace(\"Washington District of Columbia\", \"Washington\")\n",
    ")\n",
    "###\n",
    "# Fix S.H. Ervin Gallery...\n",
    "###\n",
    "for col in (\"cleaned_country\", \"cleaned_name\", \"cleaned_address\"):\n",
    "    cleaned_places[col] = cleaned_places[col].apply(\n",
    "        lambda x: x.replace(\"SH \", \"S.H. \").replace(\"S H \", \"S.H. \")\n",
    "        if \"Ervin\" in x\n",
    "        else x\n",
    "    )\n",
    "\n",
    "####\n",
    "# Get union of place-part tokens\n",
    "####\n",
    "cleaned_places[\"merged_place_parts\"] = cleaned_places.apply(\n",
    "    lambda x: daao_pm.merging_places_toParts(x), axis=1\n",
    ")\n",
    "cleaned_places[\"merged_place_parts_NoStreet\"] = cleaned_places[\n",
    "    \"merged_place_parts\"\n",
    "].apply(\n",
    "    lambda x: set(\n",
    "        part for part in x if not re.search(\" (street|road|Rd)\", part.lower())\n",
    "    )\n",
    ")\n",
    "cleaned_places[\"merged_place_tokens\"] = cleaned_places.apply(\n",
    "    lambda x: set(\n",
    "        token.strip(\"(),[].\")\n",
    "        for part in x.merged_place_parts_NoStreet\n",
    "        for token in part.split()\n",
    "    ),\n",
    "    axis=1,\n",
    ")\n",
    "# Get the longest place info (presumably the best)???\n",
    "\n",
    "cleaned_places[\"longest_place_info\"] = cleaned_places.apply(\n",
    "    p_normalizer.pick_place, axis=1\n",
    ")"
   ]
  },
  {
   "cell_type": "markdown",
   "id": "3e7cfe41-85e7-41b9-b218-4474c1e0c48d",
   "metadata": {
    "execution": {
     "iopub.execute_input": "2022-08-15T00:51:55.788634Z",
     "iopub.status.busy": "2022-08-15T00:51:55.787655Z",
     "iopub.status.idle": "2022-08-15T00:51:55.796611Z",
     "shell.execute_reply": "2022-08-15T00:51:55.795649Z",
     "shell.execute_reply.started": "2022-08-15T00:51:55.788634Z"
    },
    "tags": []
   },
   "source": [
    "Finally, we get **cleaned_places**"
   ]
  },
  {
   "cell_type": "markdown",
   "id": "8b6118fd-a7f8-4457-8893-363878d2fcc9",
   "metadata": {
    "execution": {
     "iopub.execute_input": "2022-06-22T08:01:07.334038Z",
     "iopub.status.busy": "2022-06-22T08:01:07.334038Z",
     "iopub.status.idle": "2022-06-22T08:01:07.352956Z",
     "shell.execute_reply": "2022-06-22T08:01:07.351989Z",
     "shell.execute_reply.started": "2022-06-22T08:01:07.334038Z"
    },
    "tags": []
   },
   "source": [
    "### <a name=ptnl-places-extraction>Potential Places Extraction</a>"
   ]
  },
  {
   "cell_type": "code",
   "execution_count": 23,
   "id": "71e71b78-0d6c-4917-93f2-ff36fdc43d89",
   "metadata": {
    "execution": {
     "iopub.execute_input": "2023-03-04T12:47:06.128221Z",
     "iopub.status.busy": "2023-03-04T12:47:06.128221Z",
     "iopub.status.idle": "2023-03-04T12:48:58.657102Z",
     "shell.execute_reply": "2023-03-04T12:48:58.654634Z",
     "shell.execute_reply.started": "2023-03-04T12:47:06.128221Z"
    },
    "tags": []
   },
   "outputs": [],
   "source": [
    "# Initial Extraction and searching for countries, states, city and AU suburbs\n",
    "for set_name, loc_pool in [\n",
    "    (\"cty_set\", p_normalizer.cty_set),\n",
    "    (\"state_set\", p_normalizer.state_set),\n",
    "    (\"city_set\", p_normalizer.city_set),\n",
    "    (\"au_suburb_set\", p_normalizer.au_suburb_set),\n",
    "]:\n",
    "    #\n",
    "    cleaned_places[\n",
    "        [f\"extracted_{set_name}\", f\"extracted_{set_name}_status\"]\n",
    "    ] = cleaned_places.apply(\n",
    "        lambda x: daao_pm.extractPtnlPlace(\n",
    "            x.merged_place_parts,\n",
    "            x.merged_place_parts_NoStreet,\n",
    "            x.merged_place_tokens,\n",
    "            loc_pool,\n",
    "        ),\n",
    "        result_type=\"expand\",\n",
    "        axis=1,\n",
    "    )\n",
    "\n",
    "# Fix UK relative places\n",
    "cleaned_places[\n",
    "    [\"extracted_cty_set\", \"extracted_cty_set_status\"]\n",
    "] = cleaned_places.apply(\n",
    "    lambda x: (\n",
    "        (set(x.extracted_cty_set) - {\"U\", \"e\", \"k\", \"n\", \"o\", \"r\", \"s\", \"u\", \"w\"})\n",
    "        | {\"United Kingdom\"},\n",
    "        \"Accurate\",\n",
    "    )\n",
    "    if (set(x.extracted_state_set) & {\"Scotland\", \"England\"})\n",
    "    or (x.extracted_city_set == {\"London\"})\n",
    "    else (x.extracted_cty_set, x.extracted_cty_set_status),\n",
    "    result_type=\"expand\",\n",
    "    axis=1,\n",
    ")\n",
    "\n",
    "# Fix \"Australian\" for Australia\n",
    "cleaned_places[\n",
    "    [\"extracted_cty_set\", \"extracted_cty_set_status\"]\n",
    "] = cleaned_places.apply(\n",
    "    lambda x: ({\"Australia\"}, \"Accurate\")\n",
    "    if (\"Australian\" in x.merged_place_tokens)\n",
    "    or (\n",
    "        set(\n",
    "            (\n",
    "                x.extracted_cty_set_status,\n",
    "                x.extracted_state_set_status,\n",
    "                x.extracted_city_set_status,\n",
    "            )\n",
    "        )\n",
    "        == {\"Unknown\"}\n",
    "        and x.extracted_au_suburb_set_status == \"Accurate\"\n",
    "    )\n",
    "    else (x.extracted_cty_set, x.extracted_cty_set_status),\n",
    "    result_type=\"expand\",\n",
    "    axis=1,\n",
    ")"
   ]
  },
  {
   "cell_type": "markdown",
   "id": "2f648123-869d-4201-8574-b7186eecc5cc",
   "metadata": {},
   "source": [
    "### <a name=merge-two-groups-candidates>Merge Extracted-Candidates & Geo-Candidates</a>"
   ]
  },
  {
   "cell_type": "code",
   "execution_count": 24,
   "id": "aec87e39-f40f-479c-a604-8a06c811de44",
   "metadata": {
    "execution": {
     "iopub.execute_input": "2023-03-04T12:48:58.662093Z",
     "iopub.status.busy": "2023-03-04T12:48:58.660101Z",
     "iopub.status.idle": "2023-03-04T12:49:01.664841Z",
     "shell.execute_reply": "2023-03-04T12:49:01.663844Z",
     "shell.execute_reply.started": "2023-03-04T12:48:58.662093Z"
    },
    "tags": []
   },
   "outputs": [],
   "source": [
    "extracted_locs = [\n",
    "    \"extracted_cty_set\",\n",
    "    \"extracted_cty_set_status\",\n",
    "    \"extracted_state_set\",\n",
    "    \"extracted_state_set_status\",\n",
    "    \"extracted_city_set\",\n",
    "    \"extracted_city_set_status\",\n",
    "    \"extracted_au_suburb_set\",\n",
    "    \"extracted_au_suburb_set_status\",\n",
    "]\n",
    "ptnlLocs_overall = (\n",
    "    cleaned_places[extracted_locs]\n",
    "    .merge(ptnlLoc_fromGeocode, left_index=True, right_index=True)\n",
    "    .apply(\n",
    "        lambda x: daao_pm.GetPtnlLoc(\n",
    "            x[\"extracted_cty_set\"],\n",
    "            x[\"extracted_state_set\"],\n",
    "            x[\"extracted_state_set_status\"],\n",
    "            x[\"extracted_city_set\"],\n",
    "            x[\"extracted_city_set_status\"],\n",
    "            x[\"extracted_au_suburb_set\"],\n",
    "            x[\"extracted_au_suburb_set_status\"],\n",
    "            x[\"ptnlLoc_fromGeocode\"],\n",
    "        ),\n",
    "        result_type=\"expand\",\n",
    "        axis=1,\n",
    "    )\n",
    "    .copy()\n",
    ")\n",
    "# Assign column names\n",
    "ptnlLocs_overall.columns = [\"ptnlLoc_fromGeocode\"] + extracted_locs\n",
    "# Fix 'Washington' and 'District of Columnbia'\n",
    "ptnlLocs_overall[\n",
    "    [\"extracted_state_set\", \"extracted_state_set_status\"]\n",
    "] = ptnlLocs_overall[[\"extracted_state_set\", \"extracted_state_set_status\"]].apply(\n",
    "    lambda x: (x[\"extracted_state_set\"] - set([\"Washington\"]), \"Accurate\")\n",
    "    if \"District of Columbia\" in x[\"extracted_state_set\"]\n",
    "    and \"Washington\" in x[\"extracted_state_set\"]\n",
    "    else x,\n",
    "    axis=1,\n",
    ")"
   ]
  },
  {
   "cell_type": "markdown",
   "id": "610b19bb-5d7f-481d-a60a-310cc67f615b",
   "metadata": {},
   "source": [
    "### <a name=loc-comp-infer>Location Components Inferring</a>"
   ]
  },
  {
   "cell_type": "markdown",
   "id": "0e398566-ae09-4fef-809d-eb4bedaee911",
   "metadata": {
    "execution": {
     "iopub.execute_input": "2022-07-09T03:55:25.722801Z",
     "iopub.status.busy": "2022-07-09T03:55:25.722801Z",
     "iopub.status.idle": "2022-07-09T03:55:25.743746Z",
     "shell.execute_reply": "2022-07-09T03:55:25.742779Z",
     "shell.execute_reply.started": "2022-07-09T03:55:25.722801Z"
    }
   },
   "source": [
    "#### Country Level"
   ]
  },
  {
   "cell_type": "code",
   "execution_count": 25,
   "id": "359ed215-a20c-451e-a85e-f117c8bc71f3",
   "metadata": {
    "execution": {
     "iopub.execute_input": "2023-03-04T12:49:01.666805Z",
     "iopub.status.busy": "2023-03-04T12:49:01.666805Z",
     "iopub.status.idle": "2023-03-04T12:49:12.372118Z",
     "shell.execute_reply": "2023-03-04T12:49:12.371090Z",
     "shell.execute_reply.started": "2023-03-04T12:49:01.666805Z"
    },
    "tags": []
   },
   "outputs": [],
   "source": [
    "# Infer country\n",
    "ptnlLocs_overall[\n",
    "    [\"extracted_cty_set_inferred\", \"extracted_cty_set_status_inferred\"]\n",
    "] = ptnlLocs_overall.apply(\n",
    "    lambda x: p_normalizer.inferCty(\n",
    "        x.extracted_cty_set,\n",
    "        x.extracted_state_set,\n",
    "        x.extracted_state_set_status,\n",
    "        x.extracted_city_set,\n",
    "        x.extracted_city_set_status,\n",
    "        x.extracted_au_suburb_set,\n",
    "        x.extracted_au_suburb_set_status,\n",
    "    )\n",
    "    if x.extracted_cty_set_status != \"Accurate\"\n",
    "    else (x.extracted_cty_set, x.extracted_cty_set_status),\n",
    "    result_type=\"expand\",\n",
    "    axis=1,\n",
    ")"
   ]
  },
  {
   "cell_type": "markdown",
   "id": "4405aa03-ef9c-4c89-8aff-416e44a3334b",
   "metadata": {
    "execution": {
     "iopub.execute_input": "2022-07-09T03:55:25.722801Z",
     "iopub.status.busy": "2022-07-09T03:55:25.722801Z",
     "iopub.status.idle": "2022-07-09T03:55:25.743746Z",
     "shell.execute_reply": "2022-07-09T03:55:25.742779Z",
     "shell.execute_reply.started": "2022-07-09T03:55:25.722801Z"
    }
   },
   "source": [
    "#### State Level"
   ]
  },
  {
   "cell_type": "code",
   "execution_count": 26,
   "id": "83a42284-10e5-4058-8612-68eb777a8185",
   "metadata": {
    "execution": {
     "iopub.execute_input": "2023-03-04T12:49:12.374114Z",
     "iopub.status.busy": "2023-03-04T12:49:12.374114Z",
     "iopub.status.idle": "2023-03-04T12:49:42.221705Z",
     "shell.execute_reply": "2023-03-04T12:49:42.220724Z",
     "shell.execute_reply.started": "2023-03-04T12:49:12.374114Z"
    },
    "tags": []
   },
   "outputs": [],
   "source": [
    "ptnlLocs_overall[\n",
    "    [\"extracted_state_set_inferred\", \"extracted_state_set_status_inferred\"]\n",
    "] = ptnlLocs_overall.apply(\n",
    "    lambda x: p_normalizer.inferState(\n",
    "        x.extracted_cty_set_inferred,\n",
    "        x.extracted_cty_set_status_inferred,\n",
    "        x.extracted_state_set,\n",
    "        x.extracted_state_set_status,\n",
    "        x.extracted_city_set,\n",
    "        x.extracted_city_set_status,\n",
    "        x.extracted_au_suburb_set,\n",
    "        x.extracted_au_suburb_set_status,\n",
    "    ),\n",
    "    result_type=\"expand\",\n",
    "    axis=1,\n",
    ")"
   ]
  },
  {
   "cell_type": "code",
   "execution_count": 27,
   "id": "4eda3b8d-292a-4106-90fc-10d76ad1fc90",
   "metadata": {
    "execution": {
     "iopub.execute_input": "2023-03-04T12:49:42.222703Z",
     "iopub.status.busy": "2023-03-04T12:49:42.222703Z",
     "iopub.status.idle": "2023-03-04T12:49:42.253098Z",
     "shell.execute_reply": "2023-03-04T12:49:42.252101Z",
     "shell.execute_reply.started": "2023-03-04T12:49:42.222703Z"
    },
    "tags": []
   },
   "outputs": [],
   "source": [
    "# Fix United Kingdom\n",
    "ptnlLocs_overall.extracted_state_set_inferred = ptnlLocs_overall.extracted_state_set_inferred.apply(\n",
    "    lambda x: x - {\"United Kingdom\"} if isinstance(x, set) else x\n",
    ")"
   ]
  },
  {
   "cell_type": "markdown",
   "id": "1062f95a-3eb3-4d27-9491-c10cc7eaf6d0",
   "metadata": {
    "execution": {
     "iopub.execute_input": "2022-07-09T03:55:25.722801Z",
     "iopub.status.busy": "2022-07-09T03:55:25.722801Z",
     "iopub.status.idle": "2022-07-09T03:55:25.743746Z",
     "shell.execute_reply": "2022-07-09T03:55:25.742779Z",
     "shell.execute_reply.started": "2022-07-09T03:55:25.722801Z"
    }
   },
   "source": [
    "#### City Level"
   ]
  },
  {
   "cell_type": "code",
   "execution_count": 28,
   "id": "435b3974-7526-45de-81b1-764bf4415e69",
   "metadata": {
    "execution": {
     "iopub.execute_input": "2023-03-04T12:49:42.254094Z",
     "iopub.status.busy": "2023-03-04T12:49:42.254094Z",
     "iopub.status.idle": "2023-03-04T12:51:37.727058Z",
     "shell.execute_reply": "2023-03-04T12:51:37.726361Z",
     "shell.execute_reply.started": "2023-03-04T12:49:42.254094Z"
    },
    "tags": []
   },
   "outputs": [],
   "source": [
    "ptnlLocs_overall[\n",
    "    [\"extracted_city_set_inferred\", \"extracted_city_set_status_inferred\"]\n",
    "] = ptnlLocs_overall.apply(\n",
    "    lambda x: p_normalizer.inferCity(\n",
    "        x.extracted_cty_set_inferred,\n",
    "        x.extracted_state_set_inferred,\n",
    "        x.extracted_state_set_status_inferred,\n",
    "        x.extracted_city_set,\n",
    "        x.extracted_city_set_status,\n",
    "        x.extracted_au_suburb_set,\n",
    "        x.extracted_au_suburb_set_status,\n",
    "    ),\n",
    "    result_type=\"expand\",\n",
    "    axis=1,\n",
    ")"
   ]
  },
  {
   "cell_type": "markdown",
   "id": "457fbf08-1948-4b7f-a558-277613c571c1",
   "metadata": {
    "execution": {
     "iopub.execute_input": "2022-07-09T03:55:25.722801Z",
     "iopub.status.busy": "2022-07-09T03:55:25.722801Z",
     "iopub.status.idle": "2022-07-09T03:55:25.743746Z",
     "shell.execute_reply": "2022-07-09T03:55:25.742779Z",
     "shell.execute_reply.started": "2022-07-09T03:55:25.722801Z"
    }
   },
   "source": [
    "#### AU Suburb Level"
   ]
  },
  {
   "cell_type": "code",
   "execution_count": 30,
   "id": "c4a0a92d-88d7-44a5-a7f4-be9970924c06",
   "metadata": {
    "execution": {
     "iopub.execute_input": "2023-03-04T12:52:53.934822Z",
     "iopub.status.busy": "2023-03-04T12:52:53.933824Z",
     "iopub.status.idle": "2023-03-04T12:52:58.464671Z",
     "shell.execute_reply": "2023-03-04T12:52:58.463784Z",
     "shell.execute_reply.started": "2023-03-04T12:52:53.934822Z"
    },
    "tags": []
   },
   "outputs": [],
   "source": [
    "ptnlLocs_overall[\n",
    "    [\"extracted_au_suburb_set_inferred\", \"extracted_au_suburb_set_status_inferred\"]\n",
    "] = ptnlLocs_overall.apply(\n",
    "    lambda x: p_normalizer.inferSuburb(\n",
    "        x.extracted_cty_set_inferred,\n",
    "        x.extracted_state_set_inferred,\n",
    "        x.extracted_state_set_status_inferred,\n",
    "        x.extracted_city_set_inferred,\n",
    "        x.extracted_city_set_status_inferred,\n",
    "        x.extracted_au_suburb_set,\n",
    "        x.extracted_au_suburb_set_status,\n",
    "    ),\n",
    "    result_type=\"expand\",\n",
    "    axis=1,\n",
    ")"
   ]
  },
  {
   "cell_type": "markdown",
   "id": "683535c4-7743-446f-9a48-92234a37f66e",
   "metadata": {},
   "source": [
    "#### Inferred Attributes Selection"
   ]
  },
  {
   "cell_type": "code",
   "execution_count": 38,
   "id": "499d2f67-d4d6-4da3-a3a5-37ef2742e8fc",
   "metadata": {
    "execution": {
     "iopub.execute_input": "2022-10-11T12:37:09.751474Z",
     "iopub.status.busy": "2022-10-11T12:37:09.750476Z",
     "iopub.status.idle": "2022-10-11T12:37:09.797350Z",
     "shell.execute_reply": "2022-10-11T12:37:09.796353Z",
     "shell.execute_reply.started": "2022-10-11T12:37:09.751474Z"
    },
    "tags": []
   },
   "outputs": [],
   "source": [
    "ptnlLocs_overall = ptnlLocs_overall[\n",
    "    [\n",
    "        \"ptnlLoc_fromGeocode\",\n",
    "        \"extracted_cty_set_inferred\",\n",
    "        \"extracted_cty_set_status_inferred\",\n",
    "        \"extracted_state_set_inferred\",\n",
    "        \"extracted_state_set_status_inferred\",\n",
    "        \"extracted_city_set_inferred\",\n",
    "        \"extracted_city_set_status_inferred\",\n",
    "        \"extracted_au_suburb_set_inferred\",\n",
    "        \"extracted_au_suburb_set_status_inferred\",\n",
    "    ]\n",
    "]"
   ]
  },
  {
   "cell_type": "markdown",
   "id": "02197d1b-1168-4ef0-92c2-1a34b44446b2",
   "metadata": {},
   "source": [
    "### <a name=redundancy-removal>Redundancy Removal</a>\n",
    "\n",
    "After inferring, information in each level contains entropy from extracted text that exactly exists in original text.\n",
    "\n",
    "If there's still additional part that can be found in *Coord2Loc* dataframe, that means it's redundant. Just remove it."
   ]
  },
  {
   "cell_type": "code",
   "execution_count": 39,
   "id": "f0df45ef-555a-4b0d-843f-db699e116379",
   "metadata": {
    "execution": {
     "iopub.execute_input": "2022-10-11T12:37:09.799358Z",
     "iopub.status.busy": "2022-10-11T12:37:09.798348Z",
     "iopub.status.idle": "2022-10-11T12:37:10.659187Z",
     "shell.execute_reply": "2022-10-11T12:37:10.658295Z",
     "shell.execute_reply.started": "2022-10-11T12:37:09.799358Z"
    },
    "tags": []
   },
   "outputs": [],
   "source": [
    "for inferred_attr, c2l_attr in [\n",
    "    (\"extracted_state_set_inferred\", \"centroid.state\"),\n",
    "    (\"extracted_city_set_inferred\", \"centroid.city\"),\n",
    "    (\"extracted_au_suburb_set_inferred\", \"centroid.suburb\"),\n",
    "]:\n",
    "    ptnlLocs_overall[inferred_attr] = (\n",
    "        ptnlLocs_overall[[inferred_attr]]\n",
    "        .merge(places_df_corrd2loc[c2l_attr], left_index=True, right_index=True)\n",
    "        .apply(\n",
    "            lambda x: daao_pm.RemoveRedCoord2Loc(x[inferred_attr], x[c2l_attr]), axis=1\n",
    "        )\n",
    "    )"
   ]
  },
  {
   "cell_type": "markdown",
   "id": "e87c6312-00bd-4674-8d16-22e8a32b4322",
   "metadata": {},
   "source": [
    "## Update Place Collection"
   ]
  },
  {
   "cell_type": "code",
   "execution_count": 41,
   "id": "43ff1076-35f5-4730-b7b5-80cb44590a16",
   "metadata": {
    "execution": {
     "iopub.execute_input": "2022-10-11T12:37:11.548361Z",
     "iopub.status.busy": "2022-10-11T12:37:11.547363Z",
     "iopub.status.idle": "2022-10-11T12:37:12.540169Z",
     "shell.execute_reply": "2022-10-11T12:37:12.539171Z",
     "shell.execute_reply.started": "2022-10-11T12:37:11.548361Z"
    },
    "tags": []
   },
   "outputs": [],
   "source": [
    "venues_df = places_df_corrd2loc.merge(\n",
    "    cleaned_places, left_index=True, right_index=True\n",
    ").copy()\n",
    "venues_df = venues_df.merge(ptnlLocs_overall, left_index=True, right_index=True).copy()\n",
    "venues_df = venues_df.merge(\n",
    "    ptnlLocs_validCorrd2Loc, left_index=True, right_index=True, how=\"left\"\n",
    ").copy()\n",
    "\n",
    "venues_df[\"valid_loc2corrd_rsps\"] = venues_df[\"valid_loc2corrd_rsps\"].apply(\n",
    "    lambda x: [] if isinstance(x, float) else x\n",
    ")\n",
    "# Unify the Format\n",
    "for col_name in venues_df.columns:\n",
    "    if col_name.endswith(\"_inferred\") or col_name.startswith((\"merged_\", \"extracted_\")):\n",
    "        venues_df[col_name] = venues_df[col_name].apply(\n",
    "            lambda x: [] if isinstance(x, str) else list(x)\n",
    "        )\n",
    "    elif col_name.startswith(\"centroid.\"):\n",
    "        venues_df[col_name] = venues_df[col_name].fillna(\"Unknown\")"
   ]
  },
  {
   "cell_type": "code",
   "execution_count": 42,
   "id": "1ca952e2-27f7-4332-8aac-de9469d3963a",
   "metadata": {
    "execution": {
     "iopub.execute_input": "2022-10-11T12:37:12.541165Z",
     "iopub.status.busy": "2022-10-11T12:37:12.541165Z",
     "iopub.status.idle": "2022-10-11T12:37:13.774368Z",
     "shell.execute_reply": "2022-10-11T12:37:13.773371Z",
     "shell.execute_reply.started": "2022-10-11T12:37:12.541165Z"
    },
    "tags": []
   },
   "outputs": [],
   "source": [
    "# set the columns that need to be updated\n",
    "dbupdate_cols = [\n",
    "    \"_id\",\n",
    "    \"centroid.city\",\n",
    "    \"centroid.city_district\",\n",
    "    \"centroid.country\",\n",
    "    \"centroid.country_code\",\n",
    "    \"centroid.postcode\",\n",
    "    \"centroid.state\",\n",
    "    \"centroid.suburb\",\n",
    "    \"longest_place_info\",\n",
    "    \"extracted_cty_set_inferred\",\n",
    "    \"extracted_state_set_inferred\",\n",
    "    \"extracted_city_set_inferred\",\n",
    "    \"extracted_au_suburb_set_inferred\",\n",
    "    \"cleaned_country\",\n",
    "    \"cleaned_name\",\n",
    "    \"cleaned_address\",\n",
    "    \"extracted_cty_set_status_inferred\",\n",
    "    \"extracted_state_set_status_inferred\",\n",
    "    \"extracted_city_set_status_inferred\",\n",
    "    \"extracted_au_suburb_set_status_inferred\",\n",
    "    \"valid_loc2corrd_rsps\",\n",
    "    \"merged_place_parts\",\n",
    "    \"merged_place_parts_NoStreet\",\n",
    "    \"merged_place_tokens\",\n",
    "    \"extracted_cty_set\",\n",
    "    \"extracted_cty_set_status\",\n",
    "    \"extracted_state_set\",\n",
    "    \"extracted_state_set_status\",\n",
    "    \"extracted_city_set\",\n",
    "    \"extracted_city_set_status\",\n",
    "    \"extracted_au_suburb_set\",\n",
    "    \"extracted_au_suburb_set_status\",\n",
    "]\n",
    "venues_updateDict = venues_df[dbupdate_cols].to_dict(\"records\")"
   ]
  },
  {
   "cell_type": "code",
   "execution_count": 43,
   "id": "f95b4afb-8cff-493a-9673-4b6f0746feda",
   "metadata": {
    "execution": {
     "iopub.execute_input": "2022-10-11T12:37:13.775365Z",
     "iopub.status.busy": "2022-10-11T12:37:13.775365Z",
     "iopub.status.idle": "2022-10-11T12:37:28.184125Z",
     "shell.execute_reply": "2022-10-11T12:37:28.182185Z",
     "shell.execute_reply.started": "2022-10-11T12:37:13.775365Z"
    },
    "tags": []
   },
   "outputs": [
    {
     "name": "stderr",
     "output_type": "stream",
     "text": [
      "100%|██████████████████████████████████████████████████████████████████████████| 16691/16691 [00:14<00:00, 1160.01it/s]\n"
     ]
    }
   ],
   "source": [
    "# update the place collection\n",
    "with tqdm(total=len(venues_updateDict)) as pbar:\n",
    "    for record in venues_updateDict:\n",
    "        daao_place.update_one(\n",
    "            filter={\"_id\": record.get(\"_id\")},\n",
    "            update={\"$set\": {k: v for k, v in record.items() if k != \"_id\"}},\n",
    "        )\n",
    "        pbar.update(1)"
   ]
  },
  {
   "cell_type": "code",
   "execution_count": 45,
   "id": "778cab69-f619-4da6-ac8c-fb08513e60eb",
   "metadata": {
    "execution": {
     "iopub.execute_input": "2022-10-11T12:37:28.202076Z",
     "iopub.status.busy": "2022-10-11T12:37:28.202076Z",
     "iopub.status.idle": "2022-10-11T12:37:36.041477Z",
     "shell.execute_reply": "2022-10-11T12:37:36.040480Z",
     "shell.execute_reply.started": "2022-10-11T12:37:28.202076Z"
    },
    "scrolled": true,
    "tags": []
   },
   "outputs": [
    {
     "name": "stderr",
     "output_type": "stream",
     "text": [
      "place_update: 100%|████████████████████████████████████████████████████████████| 16691/16691 [00:07<00:00, 2141.66it/s]\n"
     ]
    },
    {
     "data": {
      "text/plain": [
       "{'centroid.city': 1,\n",
       " 'longest_place_info': 1,\n",
       " 'extracted_city_set_inferred': 1,\n",
       " 'extracted_au_suburb_set_status_inferred': 1,\n",
       " 'extracted_cty_set_status_inferred': 1,\n",
       " 'extracted_au_suburb_set_status': 1,\n",
       " 'extracted_city_set_status': 1,\n",
       " 'merged_place_parts_NoStreet': 1,\n",
       " 'extracted_state_set': 1,\n",
       " 'extracted_city_set': 1,\n",
       " 'centroid.country': 1,\n",
       " 'extracted_cty_set_status': 1,\n",
       " 'extracted_cty_set_inferred': 1,\n",
       " 'extracted_city_set_status_inferred': 1,\n",
       " 'cleaned_country': 1,\n",
       " 'extracted_au_suburb_set': 1,\n",
       " 'centroid.suburb': 1,\n",
       " 'extracted_cty_set': 1,\n",
       " 'cleaned_address': 1,\n",
       " 'extracted_au_suburb_set_inferred': 1,\n",
       " 'centroid.state': 1,\n",
       " 'merged_place_tokens': 1,\n",
       " 'extracted_state_set_status': 1,\n",
       " 'cleaned_name': 1,\n",
       " 'extracted_state_set_inferred': 1,\n",
       " 'centroid.city_district': 1,\n",
       " 'centroid.country_code': 1,\n",
       " 'extracted_state_set_status_inferred': 1,\n",
       " 'merged_place_parts': 1,\n",
       " 'valid_loc2corrd_rsps': 1,\n",
       " 'centroid.postcode': 1}"
      ]
     },
     "execution_count": 45,
     "metadata": {},
     "output_type": "execute_result"
    }
   ],
   "source": [
    "# get all possible remove field in place collection\n",
    "# just in case we might want to remove them\n",
    "all_placeFields = daao_manip.daao_getAllFields(\n",
    "    daao3, \"place\", filter_dict={}, pbar_desc=\"place_update\"\n",
    ")\n",
    "\n",
    "remove_fields = {\n",
    "    i: 1\n",
    "    for i in all_placeFields[\"all_fields\"]\n",
    "    if (\n",
    "        i in dbupdate_cols\n",
    "        and ((i != \"_id\" and \".\" not in i) or i.startswith(\"centroid.\"))\n",
    "    )\n",
    "}\n",
    "remove_fields"
   ]
  },
  {
   "cell_type": "markdown",
   "id": "15145478-966a-4d5c-afc6-929639764443",
   "metadata": {},
   "source": [
    "## Export as static files (Optional)"
   ]
  },
  {
   "cell_type": "code",
   "execution_count": null,
   "id": "a91cda36-655d-4605-9229-416171795285",
   "metadata": {},
   "outputs": [],
   "source": [
    "export_cols = [\n",
    "    \"_id\",\n",
    "    \"centroid.latitude\",\n",
    "    \"centroid._types.0\",\n",
    "    \"centroid._cls\",\n",
    "    \"centroid.longitude\",\n",
    "    \"address\",\n",
    "    \"name\",\n",
    "    \"country\",\n",
    "    \"url\",\n",
    "    \"centroid.city\",\n",
    "    \"centroid.city_district\",\n",
    "    \"centroid.country\",\n",
    "    \"centroid.country_code\",\n",
    "    \"centroid.postcode\",\n",
    "    \"centroid.state\",\n",
    "    \"centroid.suburb\",\n",
    "    \"longest_place_info\",\n",
    "    \"extracted_cty_set_inferred\",\n",
    "    \"extracted_state_set_inferred\",\n",
    "    \"extracted_city_set_inferred\",\n",
    "    \"extracted_au_suburb_set_inferred\",\n",
    "    \"cleaned_country\",\n",
    "    \"cleaned_name\",\n",
    "    \"cleaned_address\",\n",
    "    \"extracted_cty_set_status_inferred\",\n",
    "    \"extracted_state_set_status_inferred\",\n",
    "    \"extracted_city_set_status_inferred\",\n",
    "    \"extracted_au_suburb_set_status_inferred\",\n",
    "    \"valid_loc2corrd_rsps\",\n",
    "    \"merged_place_parts\",\n",
    "    \"merged_place_parts_NoStreet\",\n",
    "    \"merged_place_tokens\",\n",
    "    \"extracted_cty_set\",\n",
    "    \"extracted_cty_set_status\",\n",
    "    \"extracted_state_set\",\n",
    "    \"extracted_state_set_status\",\n",
    "    \"extracted_city_set\",\n",
    "    \"extracted_city_set_status\",\n",
    "    \"extracted_au_suburb_set\",\n",
    "    \"extracted_au_suburb_set_status\",\n",
    "]\n",
    "venues_dict = venues_df[export_cols].to_dict(\"records\")"
   ]
  },
  {
   "cell_type": "code",
   "execution_count": 80,
   "id": "ef89c732-3d69-44e7-b514-268e2005c31f",
   "metadata": {
    "execution": {
     "iopub.execute_input": "2022-08-16T08:58:27.675222Z",
     "iopub.status.busy": "2022-08-16T08:58:27.675222Z",
     "iopub.status.idle": "2022-08-16T08:58:37.939368Z",
     "shell.execute_reply": "2022-08-16T08:58:37.938419Z",
     "shell.execute_reply.started": "2022-08-16T08:58:27.675222Z"
    },
    "tags": []
   },
   "outputs": [],
   "source": [
    "data_folder = (\n",
    "    \"D:/Program_Data/Australia_Cultural_Data_Engine_Data/design_art_australia_online\"\n",
    ")\n",
    "js_folder = os.path.join(data_folder, \"exported_json\")\n",
    "csv_folder = os.path.join(data_folder, \"exported_csv\")\n",
    "curr_ts = gen_gf.time_now()\n",
    "with open(\n",
    "    os.path.join(js_folder, f\"daao_venue_level_{gen_gf.time_now()}.json\"),\n",
    "    encoding=\"utf-8\",\n",
    "    mode=\"w\",\n",
    ") as f_w:\n",
    "    json.dump(json.loads(json_util.dumps(venues_dict)), f_w, indent=2)\n",
    "\n",
    "venues_df.to_csv(\n",
    "    os.path.join(csv_folder, f\"daao_venue_level_{gen_gf.time_now()}.csv\"), index=False\n",
    ")"
   ]
  }
 ],
 "metadata": {
  "kernelspec": {
   "display_name": "ACD_Engine",
   "language": "python",
   "name": "acd_engine"
  },
  "language_info": {
   "codemirror_mode": {
    "name": "ipython",
    "version": 3
   },
   "file_extension": ".py",
   "mimetype": "text/x-python",
   "name": "python",
   "nbconvert_exporter": "python",
   "pygments_lexer": "ipython3",
   "version": "3.9.13"
  },
  "toc-autonumbering": false,
  "toc-showcode": false,
  "toc-showmarkdowntxt": false
 },
 "nbformat": 4,
 "nbformat_minor": 5
}
