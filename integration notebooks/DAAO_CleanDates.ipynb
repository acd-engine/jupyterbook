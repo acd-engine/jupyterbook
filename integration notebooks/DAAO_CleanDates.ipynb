{
 "cells": [
  {
   "cell_type": "markdown",
   "id": "0caae414-d1b8-4f72-a762-a2a86e807f1e",
   "metadata": {
    "tags": []
   },
   "source": [
    "## 0. Setting"
   ]
  },
  {
   "cell_type": "code",
   "execution_count": 1,
   "id": "ecab2ecb-2be7-4ba4-b685-536fb0ca05ee",
   "metadata": {
    "execution": {
     "iopub.execute_input": "2023-03-31T13:33:49.868563Z",
     "iopub.status.busy": "2023-03-31T13:33:49.867563Z",
     "iopub.status.idle": "2023-03-31T13:33:49.976303Z",
     "shell.execute_reply": "2023-03-31T13:33:49.975306Z",
     "shell.execute_reply.started": "2023-03-31T13:33:49.868563Z"
    },
    "jupyter": {
     "source_hidden": true
    },
    "tags": []
   },
   "outputs": [],
   "source": [
    "import copy\n",
    "import os\n",
    "import pprint\n",
    "from collections import Counter, defaultdict\n",
    "\n",
    "import schedule\n",
    "from bson import DBRef, ObjectId\n",
    "from tqdm import tqdm\n",
    "\n",
    "pp = pprint.PrettyPrinter(indent=2)"
   ]
  },
  {
   "cell_type": "code",
   "execution_count": 2,
   "id": "2034f461-2d1f-4fb0-8101-f05ff92a6d9c",
   "metadata": {
    "execution": {
     "iopub.execute_input": "2023-03-31T13:33:49.977300Z",
     "iopub.status.busy": "2023-03-31T13:33:49.977300Z",
     "iopub.status.idle": "2023-03-31T13:33:51.151574Z",
     "shell.execute_reply": "2023-03-31T13:33:51.150601Z",
     "shell.execute_reply.started": "2023-03-31T13:33:49.977300Z"
    },
    "jupyter": {
     "source_hidden": true
    },
    "tags": []
   },
   "outputs": [],
   "source": [
    "import sys\n",
    "\n",
    "codefolder = \"C:/ProjectCollections/Programs/Australia_Cultural_Data_Engine/codes\"\n",
    "\n",
    "sys.path.append(codefolder)\n",
    "from acde import MongoDBManipulation as acde_manip\n",
    "from daao import MongoDBManipulation as daao_manip\n",
    "from general import GeneralFunctions as gen_gf\n",
    "from general import JsonProcessing as gen_jp\n",
    "from general import MongoDBManipulation as gen_manip"
   ]
  },
  {
   "cell_type": "markdown",
   "id": "eeb69382-bf28-4898-94e6-76231e0101e7",
   "metadata": {},
   "source": [
    "## 1. DAAO DB Meta Collection\n",
    "\n",
    "1. get all collections and corresponding classes\n",
    "2. get field information of each collection (Removed, All, Date Objects)"
   ]
  },
  {
   "cell_type": "code",
   "execution_count": 3,
   "id": "e17071dc-6428-4f63-b029-1a5c24b0b48f",
   "metadata": {
    "execution": {
     "iopub.execute_input": "2023-03-31T13:33:51.154591Z",
     "iopub.status.busy": "2023-03-31T13:33:51.153569Z",
     "iopub.status.idle": "2023-03-31T13:33:51.199445Z",
     "shell.execute_reply": "2023-03-31T13:33:51.198476Z",
     "shell.execute_reply.started": "2023-03-31T13:33:51.154591Z"
    },
    "jupyter": {
     "source_hidden": true
    },
    "tags": []
   },
   "outputs": [],
   "source": [
    "daao_meta = daao_manip.DAAO_MetaCollection()"
   ]
  },
  {
   "cell_type": "markdown",
   "id": "2252506e-a666-445c-b36b-7d315fb5a013",
   "metadata": {},
   "source": [
    "### 1.0 reset collection names"
   ]
  },
  {
   "cell_type": "code",
   "execution_count": 4,
   "id": "f518f81b-5f55-427f-8933-906426fb4152",
   "metadata": {
    "execution": {
     "iopub.execute_input": "2023-03-31T13:33:51.201441Z",
     "iopub.status.busy": "2023-03-31T13:33:51.201441Z",
     "iopub.status.idle": "2023-03-31T13:33:51.215404Z",
     "shell.execute_reply": "2023-03-31T13:33:51.214405Z",
     "shell.execute_reply.started": "2023-03-31T13:33:51.201441Z"
    },
    "jupyter": {
     "source_hidden": true
    },
    "tags": []
   },
   "outputs": [],
   "source": [
    "for coll_name in daao_meta.daao_db.list_collection_names():\n",
    "    if coll_name.endswith(\"_ori\"):\n",
    "        new_name = coll_name.split(\"_\")[0]\n",
    "        daao_meta.daao_db.drop_collection(new_name)\n",
    "        daao_meta.daao_db[coll_name].rename(new_name)\n",
    "        print(\n",
    "            f\"{coll_name} is renamed as {new_name}. The original {new_name} collection is deleted.\"\n",
    "        )"
   ]
  },
  {
   "cell_type": "markdown",
   "id": "0378a417-d3f7-425f-b846-148288dc71eb",
   "metadata": {},
   "source": [
    "### 1.1 DAAO Class Extraction"
   ]
  },
  {
   "cell_type": "code",
   "execution_count": 5,
   "id": "89bc5e16-ae72-4396-bd97-99a7b336fc0f",
   "metadata": {
    "execution": {
     "iopub.execute_input": "2023-03-31T13:33:51.217398Z",
     "iopub.status.busy": "2023-03-31T13:33:51.216401Z",
     "iopub.status.idle": "2023-03-31T13:33:52.620392Z",
     "shell.execute_reply": "2023-03-31T13:33:52.619393Z",
     "shell.execute_reply.started": "2023-03-31T13:33:51.217398Z"
    },
    "jupyter": {
     "source_hidden": true
    },
    "tags": []
   },
   "outputs": [],
   "source": [
    "class_names = daao_meta.extract_class()"
   ]
  },
  {
   "cell_type": "markdown",
   "id": "8cb3633a-81d7-4ded-a242-574cba003916",
   "metadata": {
    "tags": []
   },
   "source": [
    "### 1.2 DAAO Field Name Extraction"
   ]
  },
  {
   "cell_type": "code",
   "execution_count": 6,
   "id": "854ee19b-ddbc-458f-b510-ec41e66d7f32",
   "metadata": {
    "execution": {
     "iopub.execute_input": "2023-03-31T13:33:52.622273Z",
     "iopub.status.busy": "2023-03-31T13:33:52.621358Z",
     "iopub.status.idle": "2023-03-31T13:34:59.819660Z",
     "shell.execute_reply": "2023-03-31T13:34:59.818663Z",
     "shell.execute_reply.started": "2023-03-31T13:33:52.622273Z"
    },
    "jupyter": {
     "source_hidden": true
    },
    "scrolled": true,
    "tags": []
   },
   "outputs": [
    {
     "name": "stderr",
     "output_type": "stream",
     "text": [
      "person: 100%|███████████████████████████████████████████████████████████████████| 30693/30693 [00:38<00:00, 806.42it/s]\n",
      "personGroup: 100%|███████████████████████████████████████████████████████████████| 4660/4660 [00:01<00:00, 2685.00it/s]\n",
      "event: 100%|███████████████████████████████████████████████████████████████████| 21906/21906 [00:08<00:00, 2478.12it/s]\n",
      "eventGroup: 100%|████████████████████████████████████████████████████████████████████| 94/94 [00:00<00:00, 2354.54it/s]\n",
      "recognition: 100%|███████████████████████████████████████████████████████████████| 5481/5481 [00:01<00:00, 3363.23it/s]\n",
      "work: 100%|████████████████████████████████████████████████████████████████████| 23780/23780 [00:06<00:00, 3682.72it/s]\n",
      "collection: 100%|█████████████████████████████████████████████████████████████| 11747/11747 [00:00<00:00, 14341.81it/s]\n",
      "ansicOcc_menu: 100%|██████████████████████████████████████████████████████████████| 825/825 [00:00<00:00, 27571.46it/s]\n",
      "eventType_menu: 100%|██████████████████████████████████████████████████████████████████| 6/6 [00:00<00:00, 3004.52it/s]\n",
      "groupType_menu: 100%|██████████████████████████████████████████████████████████████████| 4/4 [00:00<00:00, 2004.93it/s]\n",
      "indgCty_menu: 100%|███████████████████████████████████████████████████████████████| 668/668 [00:00<00:00, 10147.98it/s]\n",
      "indgLang_menu: 100%|██████████████████████████████████████████████████████████████| 904/904 [00:00<00:00, 20601.42it/s]\n",
      "lang_menu: 100%|████████████████████████████████████████████████████████████████| 7707/7707 [00:00<00:00, 30049.74it/s]\n",
      "medium_menu: 100%|███████████████████████████████████████████████████████████████████| 25/25 [00:00<00:00, 8443.32it/s]\n",
      "recogType_menu: 100%|██████████████████████████████████████████████████████████████████| 5/5 [00:00<00:00, 2503.17it/s]\n",
      "rcdStat_menu: 100%|████████████████████████████████████████████████████████████████████| 3/3 [00:00<00:00, 1503.33it/s]\n",
      "rscType_menu: 100%|████████████████████████████████████████████████████████████████████| 9/9 [00:00<00:00, 9024.32it/s]\n",
      "src_menu: 100%|█████████████████████████████████████████████████████████████████████| 32/32 [00:00<00:00, 16054.75it/s]\n",
      "tag_menu: 100%|█████████████████████████████████████████████████████████████████| 3135/3135 [00:00<00:00, 33803.81it/s]\n",
      "asset: 100%|████████████████████████████████████████████████████████████████████| 4501/4501 [00:00<00:00, 38904.82it/s]\n",
      "culturalheritage: 100%|███████████████████████████████████████████████████████████| 222/222 [00:00<00:00, 36907.35it/s]\n",
      "externalresource: 100%|███████████████████████████████████████████████████████| 52597/52597 [00:03<00:00, 16757.89it/s]\n",
      "indigenousdreaming: 100%|█████████████████████████████████████████████████████████| 663/663 [00:00<00:00, 41548.24it/s]\n",
      "place: 100%|██████████████████████████████████████████████████████████████████| 16691/16691 [00:00<00:00, 19897.91it/s]\n",
      "predicate: 100%|████████████████████████████████████████████████████████████████████| 28/28 [00:00<00:00, 28068.96it/s]\n",
      "relation: 100%|███████████████████████████████████████████████████████████████| 76558/76558 [00:04<00:00, 18164.58it/s]\n",
      "stubperson: 100%|█████████████████████████████████████████████████████████████| 12526/12526 [00:00<00:00, 62797.52it/s]\n",
      "stubpersongroup: 100%|██████████████████████████████████████████████████████████| 3512/3512 [00:00<00:00, 58695.96it/s]\n",
      "xpredicate: 100%|███████████████████████████████████████████████████████████████████| 66/66 [00:00<00:00, 22217.02it/s]\n"
     ]
    }
   ],
   "source": [
    "daao_objs_info = daao_meta.extract_fieldName()"
   ]
  },
  {
   "cell_type": "markdown",
   "id": "6635de32-33e3-4418-92a8-525833566db5",
   "metadata": {},
   "source": [
    "## 2. Clean Date Format\n"
   ]
  },
  {
   "cell_type": "markdown",
   "id": "51691a1a-35fc-4b4c-8007-4f69b83915ba",
   "metadata": {
    "tags": []
   },
   "source": [
    "### Rename Original Collections"
   ]
  },
  {
   "cell_type": "code",
   "execution_count": 7,
   "id": "849b3fb6-0020-41f9-a4ec-738e0695b492",
   "metadata": {
    "execution": {
     "iopub.execute_input": "2023-03-31T13:34:59.821656Z",
     "iopub.status.busy": "2023-03-31T13:34:59.820665Z",
     "iopub.status.idle": "2023-03-31T13:34:59.835618Z",
     "shell.execute_reply": "2023-03-31T13:34:59.834621Z",
     "shell.execute_reply.started": "2023-03-31T13:34:59.821656Z"
    },
    "jupyter": {
     "source_hidden": true
    },
    "tags": []
   },
   "outputs": [
    {
     "name": "stdout",
     "output_type": "stream",
     "text": [
      "####################\n",
      "xparty >> periods_active.end._date, trainings.coverage_range.date_range.start._date, death.coverage.date._date, other_occupations.coverage_range.date_range.end._date, birth.coverage.date._date, trainings.coverage_range.date_range.end._date, residences.coverage_range.date_range.end._date, arrivals.date._date, periods_active.start._date, residences.coverage_range.date_range.start._date, other_occupations.coverage_range.date_range.start._date\n",
      "####################\n",
      "xactivity >> coverages.date_range.start._date, coverages.date_range.end._date, dates._date, coverages.date._date\n",
      "####################\n",
      "xwork >> date.end._date, date.start._date\n",
      "####################\n",
      "externalresource >> date._date\n"
     ]
    }
   ],
   "source": [
    "coll_date_objs = defaultdict(set)\n",
    "\n",
    "for cls_name, info in daao_objs_info.items():\n",
    "    if info.get(\"date_objects\") and cls_name != \"relationship\":\n",
    "        coll_date_objs[info[\"collection_name\"]] |= set(info.get(\"date_objects\"))\n",
    "for coll_name in coll_date_objs.keys():\n",
    "    coll_date_objs[coll_name] = set(f\"{f}._date\" for f in coll_date_objs[coll_name])\n",
    "\n",
    "for coll_name, date_fields in coll_date_objs.items():\n",
    "    print(\"#\" * 20)\n",
    "    print(coll_name, \">>\", \", \".join(date_fields))"
   ]
  },
  {
   "cell_type": "code",
   "execution_count": 8,
   "id": "bbfed4ab-d223-4079-b43c-e4f54a5cda5f",
   "metadata": {
    "execution": {
     "iopub.execute_input": "2023-03-31T13:34:59.838610Z",
     "iopub.status.busy": "2023-03-31T13:34:59.838610Z",
     "iopub.status.idle": "2023-03-31T13:34:59.851576Z",
     "shell.execute_reply": "2023-03-31T13:34:59.850579Z",
     "shell.execute_reply.started": "2023-03-31T13:34:59.838610Z"
    },
    "jupyter": {
     "source_hidden": true
    },
    "tags": []
   },
   "outputs": [
    {
     "name": "stdout",
     "output_type": "stream",
     "text": [
      "xparty is renamed as xparty_ori.\n",
      "xactivity is renamed as xactivity_ori.\n",
      "xwork is renamed as xwork_ori.\n",
      "externalresource is renamed as externalresource_ori.\n"
     ]
    }
   ],
   "source": [
    "for coll_name in coll_date_objs.keys():\n",
    "    daao_meta.daao_db[coll_name].rename(f\"{coll_name}_ori\")\n",
    "    print(f\"{coll_name} is renamed as {coll_name}_ori.\")"
   ]
  },
  {
   "cell_type": "markdown",
   "id": "7836ca33-ea58-440d-a865-b706e6f346d2",
   "metadata": {},
   "source": [
    "### xparty"
   ]
  },
  {
   "cell_type": "code",
   "execution_count": 9,
   "id": "ae1ff09e-d428-4e15-bd4d-bba8e33ef382",
   "metadata": {
    "execution": {
     "iopub.execute_input": "2023-03-31T13:34:59.853570Z",
     "iopub.status.busy": "2023-03-31T13:34:59.852573Z",
     "iopub.status.idle": "2023-03-31T13:34:59.867532Z",
     "shell.execute_reply": "2023-03-31T13:34:59.866535Z",
     "shell.execute_reply.started": "2023-03-31T13:34:59.853570Z"
    },
    "jupyter": {
     "source_hidden": true
    },
    "tags": []
   },
   "outputs": [],
   "source": [
    "curr_coll = \"xparty_ori\"\n",
    "clone_coll = curr_coll.split(\"_\")[0]\n",
    "curr_date_fields = coll_date_objs[clone_coll]"
   ]
  },
  {
   "cell_type": "code",
   "execution_count": 10,
   "id": "1a8af778-9357-46a2-a80e-5d26ea42c904",
   "metadata": {
    "execution": {
     "iopub.execute_input": "2023-03-31T13:34:59.869529Z",
     "iopub.status.busy": "2023-03-31T13:34:59.868533Z",
     "iopub.status.idle": "2023-03-31T13:34:59.898450Z",
     "shell.execute_reply": "2023-03-31T13:34:59.897452Z",
     "shell.execute_reply.started": "2023-03-31T13:34:59.869529Z"
    },
    "jupyter": {
     "source_hidden": true
    },
    "tags": []
   },
   "outputs": [],
   "source": [
    "xparty_firstL_fields = list(set(f.split(\".\")[0] for f in curr_date_fields)) + [\n",
    "    \"date_modified\",\n",
    "    \"date_created\",\n",
    "]\n",
    "xparty_unwind_dates = defaultdict(list)\n",
    "for f in curr_date_fields:\n",
    "    if not f.startswith((\"death\", \"birth\")):\n",
    "        xparty_unwind_dates[f.split(\".\")[0]].append(f)\n",
    "\n",
    "xparty_Stage1_ProjectDates = {\"$project\": {f: 1 for f in xparty_firstL_fields}}\n",
    "\n",
    "xparty_Stage2_ReconstructDateArray = []\n",
    "for f_firstL, date_fields in xparty_unwind_dates.items():\n",
    "    xparty_Stage2_ReconstructDateArray.append(\n",
    "        {\"$unwind\": {\"path\": f\"${f_firstL}\", \"preserveNullAndEmptyArrays\": True,}}\n",
    "    )\n",
    "    for date_field in date_fields:\n",
    "        xparty_Stage2_ReconstructDateArray.append(\n",
    "            {\n",
    "                \"$set\": {\n",
    "                    date_field: {\n",
    "                        \"$dateFromString\": {\n",
    "                            \"dateString\": f\"${date_field}\",\n",
    "                            \"onError\": None,\n",
    "                        },\n",
    "                    }\n",
    "                }\n",
    "            }\n",
    "        )\n",
    "        xparty_Stage2_ReconstructDateArray.append(\n",
    "            {\n",
    "                \"$set\": {\n",
    "                    date_field: {\n",
    "                        \"year\": {\"$toString\": {\"$year\": f\"${date_field}\"}},\n",
    "                        \"month\": {\"$toString\": {\"$month\": f\"${date_field}\"}},\n",
    "                        \"day\": {\"$toString\": {\"$dayOfMonth\": f\"${date_field}\"}},\n",
    "                    }\n",
    "                }\n",
    "            }\n",
    "        )\n",
    "    xparty_Stage2_ReconstructDateArray += daao_manip.daao_construct_groupStage(\n",
    "        xparty_firstL_fields, [f_firstL], regroup_opr=\"$push\"\n",
    "    )\n",
    "\n",
    "xparty_Stage3_String2Date = {\n",
    "    \"$set\": {\n",
    "        f: {\"$dateFromString\": {\"dateString\": f\"${f}\", \"onError\": None,},}\n",
    "        for f in curr_date_fields\n",
    "        if f.startswith((\"death\", \"birth\"))\n",
    "    }\n",
    "}\n",
    "xparty_Stage4_ReconstructDates = {\n",
    "    \"$set\": {\n",
    "        f: {\n",
    "            \"year\": {\"$toString\": {\"$year\": f\"${f}\"}},\n",
    "            \"month\": {\"$toString\": {\"$month\": f\"${f}\"}},\n",
    "            \"day\": {\"$toString\": {\"$dayOfMonth\": f\"${f}\"}},\n",
    "        }\n",
    "        for f in [\n",
    "            f\n",
    "            for f in curr_date_fields\n",
    "            - set(\n",
    "                date_field\n",
    "                for date_fields in xparty_unwind_dates.values()\n",
    "                for date_field in date_fields\n",
    "            )\n",
    "        ]\n",
    "        + [\"date_modified\", \"date_created\"]\n",
    "    }\n",
    "}\n",
    "\n",
    "xparty_cleanDatePipeline = (\n",
    "    [xparty_Stage1_ProjectDates]\n",
    "    + xparty_Stage2_ReconstructDateArray\n",
    "    + [xparty_Stage3_String2Date, xparty_Stage4_ReconstructDates,]\n",
    ")"
   ]
  },
  {
   "cell_type": "code",
   "execution_count": 11,
   "id": "ed43b84d-db69-4a07-a222-1500d858e3f8",
   "metadata": {
    "execution": {
     "iopub.execute_input": "2023-03-31T13:34:59.900444Z",
     "iopub.status.busy": "2023-03-31T13:34:59.900444Z",
     "iopub.status.idle": "2023-03-31T13:34:59.929367Z",
     "shell.execute_reply": "2023-03-31T13:34:59.928369Z",
     "shell.execute_reply.started": "2023-03-31T13:34:59.900444Z"
    },
    "jupyter": {
     "source_hidden": true
    },
    "scrolled": true,
    "tags": []
   },
   "outputs": [
    {
     "name": "stdout",
     "output_type": "stream",
     "text": [
      "[ { '$project': { 'arrivals': 1,\n",
      "                  'birth': 1,\n",
      "                  'date_created': 1,\n",
      "                  'date_modified': 1,\n",
      "                  'death': 1,\n",
      "                  'other_occupations': 1,\n",
      "                  'periods_active': 1,\n",
      "                  'residences': 1,\n",
      "                  'trainings': 1}},\n",
      "  {'$unwind': {'path': '$periods_active', 'preserveNullAndEmptyArrays': True}},\n",
      "  { '$set': { 'periods_active.end._date': { '$dateFromString': { 'dateString': '$periods_active.end._date',\n",
      "                                                                 'onError': None}}}},\n",
      "  { '$set': { 'periods_active.end._date': { 'day': { '$toString': { '$dayOfMonth': '$periods_active.end._date'}},\n",
      "                                            'month': { '$toString': { '$month': '$periods_active.end._date'}},\n",
      "                                            'year': { '$toString': { '$year': '$periods_active.end._date'}}}}},\n",
      "  { '$set': { 'periods_active.start._date': { '$dateFromString': { 'dateString': '$periods_active.start._date',\n",
      "                                                                   'onError': None}}}},\n",
      "  { '$set': { 'periods_active.start._date': { 'day': { '$toString': { '$dayOfMonth': '$periods_active.start._date'}},\n",
      "                                              'month': { '$toString': { '$month': '$periods_active.start._date'}},\n",
      "                                              'year': { '$toString': { '$year': '$periods_active.start._date'}}}}},\n",
      "  { '$group': { '_id': '$_id',\n",
      "                'arrivals': {'$first': '$arrivals'},\n",
      "                'birth': {'$first': '$birth'},\n",
      "                'date_created': {'$first': '$date_created'},\n",
      "                'date_modified': {'$first': '$date_modified'},\n",
      "                'death': {'$first': '$death'},\n",
      "                'other_occupations': {'$first': '$other_occupations'},\n",
      "                'periods_active': {'$push': '$periods_active'},\n",
      "                'residences': {'$first': '$residences'},\n",
      "                'trainings': {'$first': '$trainings'}}},\n",
      "  {'$unwind': {'path': '$trainings', 'preserveNullAndEmptyArrays': True}},\n",
      "  { '$set': { 'trainings.coverage_range.date_range.start._date': { '$dateFromString': { 'dateString': '$trainings.coverage_range.date_range.start._date',\n",
      "                                                                                        'onError': None}}}},\n",
      "  { '$set': { 'trainings.coverage_range.date_range.start._date': { 'day': { '$toString': { '$dayOfMonth': '$trainings.coverage_range.date_range.start._date'}},\n",
      "                                                                   'month': { '$toString': { '$month': '$trainings.coverage_range.date_range.start._date'}},\n",
      "                                                                   'year': { '$toString': { '$year': '$trainings.coverage_range.date_range.start._date'}}}}},\n",
      "  { '$set': { 'trainings.coverage_range.date_range.end._date': { '$dateFromString': { 'dateString': '$trainings.coverage_range.date_range.end._date',\n",
      "                                                                                      'onError': None}}}},\n",
      "  { '$set': { 'trainings.coverage_range.date_range.end._date': { 'day': { '$toString': { '$dayOfMonth': '$trainings.coverage_range.date_range.end._date'}},\n",
      "                                                                 'month': { '$toString': { '$month': '$trainings.coverage_range.date_range.end._date'}},\n",
      "                                                                 'year': { '$toString': { '$year': '$trainings.coverage_range.date_range.end._date'}}}}},\n",
      "  { '$group': { '_id': '$_id',\n",
      "                'arrivals': {'$first': '$arrivals'},\n",
      "                'birth': {'$first': '$birth'},\n",
      "                'date_created': {'$first': '$date_created'},\n",
      "                'date_modified': {'$first': '$date_modified'},\n",
      "                'death': {'$first': '$death'},\n",
      "                'other_occupations': {'$first': '$other_occupations'},\n",
      "                'periods_active': {'$first': '$periods_active'},\n",
      "                'residences': {'$first': '$residences'},\n",
      "                'trainings': {'$push': '$trainings'}}},\n",
      "  { '$unwind': { 'path': '$other_occupations',\n",
      "                 'preserveNullAndEmptyArrays': True}},\n",
      "  { '$set': { 'other_occupations.coverage_range.date_range.end._date': { '$dateFromString': { 'dateString': '$other_occupations.coverage_range.date_range.end._date',\n",
      "                                                                                              'onError': None}}}},\n",
      "  { '$set': { 'other_occupations.coverage_range.date_range.end._date': { 'day': { '$toString': { '$dayOfMonth': '$other_occupations.coverage_range.date_range.end._date'}},\n",
      "                                                                         'month': { '$toString': { '$month': '$other_occupations.coverage_range.date_range.end._date'}},\n",
      "                                                                         'year': { '$toString': { '$year': '$other_occupations.coverage_range.date_range.end._date'}}}}},\n",
      "  { '$set': { 'other_occupations.coverage_range.date_range.start._date': { '$dateFromString': { 'dateString': '$other_occupations.coverage_range.date_range.start._date',\n",
      "                                                                                                'onError': None}}}},\n",
      "  { '$set': { 'other_occupations.coverage_range.date_range.start._date': { 'day': { '$toString': { '$dayOfMonth': '$other_occupations.coverage_range.date_range.start._date'}},\n",
      "                                                                           'month': { '$toString': { '$month': '$other_occupations.coverage_range.date_range.start._date'}},\n",
      "                                                                           'year': { '$toString': { '$year': '$other_occupations.coverage_range.date_range.start._date'}}}}},\n",
      "  { '$group': { '_id': '$_id',\n",
      "                'arrivals': {'$first': '$arrivals'},\n",
      "                'birth': {'$first': '$birth'},\n",
      "                'date_created': {'$first': '$date_created'},\n",
      "                'date_modified': {'$first': '$date_modified'},\n",
      "                'death': {'$first': '$death'},\n",
      "                'other_occupations': {'$push': '$other_occupations'},\n",
      "                'periods_active': {'$first': '$periods_active'},\n",
      "                'residences': {'$first': '$residences'},\n",
      "                'trainings': {'$first': '$trainings'}}},\n",
      "  {'$unwind': {'path': '$residences', 'preserveNullAndEmptyArrays': True}},\n",
      "  { '$set': { 'residences.coverage_range.date_range.end._date': { '$dateFromString': { 'dateString': '$residences.coverage_range.date_range.end._date',\n",
      "                                                                                       'onError': None}}}},\n",
      "  { '$set': { 'residences.coverage_range.date_range.end._date': { 'day': { '$toString': { '$dayOfMonth': '$residences.coverage_range.date_range.end._date'}},\n",
      "                                                                  'month': { '$toString': { '$month': '$residences.coverage_range.date_range.end._date'}},\n",
      "                                                                  'year': { '$toString': { '$year': '$residences.coverage_range.date_range.end._date'}}}}},\n",
      "  { '$set': { 'residences.coverage_range.date_range.start._date': { '$dateFromString': { 'dateString': '$residences.coverage_range.date_range.start._date',\n",
      "                                                                                         'onError': None}}}},\n",
      "  { '$set': { 'residences.coverage_range.date_range.start._date': { 'day': { '$toString': { '$dayOfMonth': '$residences.coverage_range.date_range.start._date'}},\n",
      "                                                                    'month': { '$toString': { '$month': '$residences.coverage_range.date_range.start._date'}},\n",
      "                                                                    'year': { '$toString': { '$year': '$residences.coverage_range.date_range.start._date'}}}}},\n",
      "  { '$group': { '_id': '$_id',\n",
      "                'arrivals': {'$first': '$arrivals'},\n",
      "                'birth': {'$first': '$birth'},\n",
      "                'date_created': {'$first': '$date_created'},\n",
      "                'date_modified': {'$first': '$date_modified'},\n",
      "                'death': {'$first': '$death'},\n",
      "                'other_occupations': {'$first': '$other_occupations'},\n",
      "                'periods_active': {'$first': '$periods_active'},\n",
      "                'residences': {'$push': '$residences'},\n",
      "                'trainings': {'$first': '$trainings'}}},\n",
      "  {'$unwind': {'path': '$arrivals', 'preserveNullAndEmptyArrays': True}},\n",
      "  { '$set': { 'arrivals.date._date': { '$dateFromString': { 'dateString': '$arrivals.date._date',\n",
      "                                                            'onError': None}}}},\n",
      "  { '$set': { 'arrivals.date._date': { 'day': { '$toString': { '$dayOfMonth': '$arrivals.date._date'}},\n",
      "                                       'month': { '$toString': { '$month': '$arrivals.date._date'}},\n",
      "                                       'year': { '$toString': { '$year': '$arrivals.date._date'}}}}},\n",
      "  { '$group': { '_id': '$_id',\n",
      "                'arrivals': {'$push': '$arrivals'},\n",
      "                'birth': {'$first': '$birth'},\n",
      "                'date_created': {'$first': '$date_created'},\n",
      "                'date_modified': {'$first': '$date_modified'},\n",
      "                'death': {'$first': '$death'},\n",
      "                'other_occupations': {'$first': '$other_occupations'},\n",
      "                'periods_active': {'$first': '$periods_active'},\n",
      "                'residences': {'$first': '$residences'},\n",
      "                'trainings': {'$first': '$trainings'}}},\n",
      "  { '$set': { 'birth.coverage.date._date': { '$dateFromString': { 'dateString': '$birth.coverage.date._date',\n",
      "                                                                  'onError': None}},\n",
      "              'death.coverage.date._date': { '$dateFromString': { 'dateString': '$death.coverage.date._date',\n",
      "                                                                  'onError': None}}}},\n",
      "  { '$set': { 'birth.coverage.date._date': { 'day': { '$toString': { '$dayOfMonth': '$birth.coverage.date._date'}},\n",
      "                                             'month': { '$toString': { '$month': '$birth.coverage.date._date'}},\n",
      "                                             'year': { '$toString': { '$year': '$birth.coverage.date._date'}}},\n",
      "              'date_created': { 'day': { '$toString': { '$dayOfMonth': '$date_created'}},\n",
      "                                'month': { '$toString': { '$month': '$date_created'}},\n",
      "                                'year': { '$toString': { '$year': '$date_created'}}},\n",
      "              'date_modified': { 'day': { '$toString': { '$dayOfMonth': '$date_modified'}},\n",
      "                                 'month': { '$toString': { '$month': '$date_modified'}},\n",
      "                                 'year': { '$toString': { '$year': '$date_modified'}}},\n",
      "              'death.coverage.date._date': { 'day': { '$toString': { '$dayOfMonth': '$death.coverage.date._date'}},\n",
      "                                             'month': { '$toString': { '$month': '$death.coverage.date._date'}},\n",
      "                                             'year': { '$toString': { '$year': '$death.coverage.date._date'}}}}}]\n"
     ]
    }
   ],
   "source": [
    "pp.pprint(xparty_cleanDatePipeline)"
   ]
  },
  {
   "cell_type": "code",
   "execution_count": 12,
   "id": "dad4fb61-dbdf-4556-a2ea-9fc898193bd8",
   "metadata": {
    "execution": {
     "iopub.execute_input": "2023-03-31T13:34:59.934353Z",
     "iopub.status.busy": "2023-03-31T13:34:59.933356Z",
     "iopub.status.idle": "2023-03-31T13:36:12.539418Z",
     "shell.execute_reply": "2023-03-31T13:36:12.538421Z",
     "shell.execute_reply.started": "2023-03-31T13:34:59.934353Z"
    },
    "jupyter": {
     "source_hidden": true
    },
    "tags": []
   },
   "outputs": [
    {
     "name": "stdout",
     "output_type": "stream",
     "text": [
      "The `xparty_ori` collection is cloned as `xparty`\n"
     ]
    },
    {
     "name": "stderr",
     "output_type": "stream",
     "text": [
      "xparty Date Field Format Cleansing: 100%|██████████████████████████████████████| 35353/35353 [00:32<00:00, 1093.90it/s]\n"
     ]
    }
   ],
   "source": [
    "# clone\n",
    "daao_meta.daao_db.drop_collection(clone_coll)\n",
    "for doc in daao_meta.daao_db[curr_coll].find():\n",
    "    rsp = daao_meta.daao_db[clone_coll].insert_one(doc)\n",
    "print(f\"The `{curr_coll}` collection is cloned as `{clone_coll}`\")\n",
    "\n",
    "# extract date fields and reconstruct as ymd format\n",
    "for doc in tqdm(\n",
    "    daao_meta.daao_db[clone_coll].aggregate(\n",
    "        xparty_cleanDatePipeline, allowDiskUse=True,\n",
    "    ),\n",
    "    total=daao_meta.daao_db[clone_coll].count_documents({}),\n",
    "    desc=f\"{clone_coll} Date Field Format Cleansing\",\n",
    "    leave=True,\n",
    "):\n",
    "    daao_meta.daao_db[clone_coll].update_one({\"_id\": doc.get(\"_id\")}, {\"$set\": doc})"
   ]
  },
  {
   "cell_type": "markdown",
   "id": "74921417-f864-4cda-b958-709dc54b82d4",
   "metadata": {
    "tags": []
   },
   "source": [
    "### xactivity"
   ]
  },
  {
   "cell_type": "code",
   "execution_count": 13,
   "id": "7c983c32-a2b9-4cb4-bbc2-1d2454d3305a",
   "metadata": {
    "execution": {
     "iopub.execute_input": "2023-03-31T13:36:12.540416Z",
     "iopub.status.busy": "2023-03-31T13:36:12.540416Z",
     "iopub.status.idle": "2023-03-31T13:36:12.555376Z",
     "shell.execute_reply": "2023-03-31T13:36:12.554379Z",
     "shell.execute_reply.started": "2023-03-31T13:36:12.540416Z"
    },
    "jupyter": {
     "source_hidden": true
    },
    "tags": []
   },
   "outputs": [],
   "source": [
    "curr_coll = \"xactivity_ori\"\n",
    "clone_coll = curr_coll.split(\"_\")[0]\n",
    "curr_date_fields = coll_date_objs[clone_coll]"
   ]
  },
  {
   "cell_type": "code",
   "execution_count": 14,
   "id": "0bb6f4d7-cae5-4038-81e4-2f9ddd49c241",
   "metadata": {
    "execution": {
     "iopub.execute_input": "2023-03-31T13:36:12.559366Z",
     "iopub.status.busy": "2023-03-31T13:36:12.558370Z",
     "iopub.status.idle": "2023-03-31T13:36:12.587293Z",
     "shell.execute_reply": "2023-03-31T13:36:12.586295Z",
     "shell.execute_reply.started": "2023-03-31T13:36:12.559366Z"
    },
    "jupyter": {
     "source_hidden": true
    },
    "tags": []
   },
   "outputs": [],
   "source": [
    "xactivity_firstL_fields = list(set(f.split(\".\")[0] for f in curr_date_fields)) + [\n",
    "    \"date_modified\",\n",
    "    \"date_created\",\n",
    "]\n",
    "xactivity_unwind_dates = defaultdict(list)\n",
    "for f in curr_date_fields:\n",
    "    xactivity_unwind_dates[f.split(\".\")[0]].append(f)\n",
    "\n",
    "xactivity_Stage1_ProjectDates = {\"$project\": {f: 1 for f in xactivity_firstL_fields}}\n",
    "\n",
    "xactivity_Stage2_ReconstructDateArray = []\n",
    "for f_firstL, date_fields in xactivity_unwind_dates.items():\n",
    "    xactivity_Stage2_ReconstructDateArray.append(\n",
    "        {\"$unwind\": {\"path\": f\"${f_firstL}\", \"preserveNullAndEmptyArrays\": True,}}\n",
    "    )\n",
    "    for date_field in date_fields:\n",
    "        xactivity_Stage2_ReconstructDateArray.append(\n",
    "            {\n",
    "                \"$set\": {\n",
    "                    date_field: {\n",
    "                        \"$dateFromString\": {\n",
    "                            \"dateString\": f\"${date_field}\",\n",
    "                            \"onError\": None,\n",
    "                        },\n",
    "                    }\n",
    "                }\n",
    "            }\n",
    "        )\n",
    "        xactivity_Stage2_ReconstructDateArray.append(\n",
    "            {\n",
    "                \"$set\": {\n",
    "                    date_field: {\n",
    "                        \"year\": {\"$toString\": {\"$year\": f\"${date_field}\"}},\n",
    "                        \"month\": {\"$toString\": {\"$month\": f\"${date_field}\"}},\n",
    "                        \"day\": {\"$toString\": {\"$dayOfMonth\": f\"${date_field}\"}},\n",
    "                    }\n",
    "                }\n",
    "            }\n",
    "        )\n",
    "    xactivity_Stage2_ReconstructDateArray += daao_manip.daao_construct_groupStage(\n",
    "        xactivity_firstL_fields, [f_firstL], regroup_opr=\"$push\"\n",
    "    )\n",
    "\n",
    "xactivity_Stage3_ReconstructDates = {\n",
    "    \"$set\": {\n",
    "        f: {\n",
    "            \"year\": {\"$toString\": {\"$year\": f\"${f}\"}},\n",
    "            \"month\": {\"$toString\": {\"$month\": f\"${f}\"}},\n",
    "            \"day\": {\"$toString\": {\"$dayOfMonth\": f\"${f}\"}},\n",
    "        }\n",
    "        for f in [\n",
    "            f\n",
    "            for f in set(curr_date_fields)\n",
    "            - set(\n",
    "                date_field\n",
    "                for date_fields in xactivity_unwind_dates.values()\n",
    "                for date_field in date_fields\n",
    "            )\n",
    "        ]\n",
    "        + [\"date_modified\", \"date_created\"]\n",
    "    }\n",
    "}\n",
    "\n",
    "xactivity_cleanDatePipeline = (\n",
    "    [xactivity_Stage1_ProjectDates]\n",
    "    + xactivity_Stage2_ReconstructDateArray\n",
    "    + [xactivity_Stage3_ReconstructDates]\n",
    ")"
   ]
  },
  {
   "cell_type": "code",
   "execution_count": 15,
   "id": "078124d4-c31c-4a72-8846-435d6b4e9904",
   "metadata": {
    "execution": {
     "iopub.execute_input": "2023-03-31T13:36:12.589287Z",
     "iopub.status.busy": "2023-03-31T13:36:12.589287Z",
     "iopub.status.idle": "2023-03-31T13:36:12.603248Z",
     "shell.execute_reply": "2023-03-31T13:36:12.602250Z",
     "shell.execute_reply.started": "2023-03-31T13:36:12.589287Z"
    },
    "jupyter": {
     "source_hidden": true
    },
    "scrolled": true,
    "tags": []
   },
   "outputs": [
    {
     "name": "stdout",
     "output_type": "stream",
     "text": [
      "[ { '$project': { 'coverages': 1,\n",
      "                  'date_created': 1,\n",
      "                  'date_modified': 1,\n",
      "                  'dates': 1}},\n",
      "  {'$unwind': {'path': '$coverages', 'preserveNullAndEmptyArrays': True}},\n",
      "  { '$set': { 'coverages.date_range.start._date': { '$dateFromString': { 'dateString': '$coverages.date_range.start._date',\n",
      "                                                                         'onError': None}}}},\n",
      "  { '$set': { 'coverages.date_range.start._date': { 'day': { '$toString': { '$dayOfMonth': '$coverages.date_range.start._date'}},\n",
      "                                                    'month': { '$toString': { '$month': '$coverages.date_range.start._date'}},\n",
      "                                                    'year': { '$toString': { '$year': '$coverages.date_range.start._date'}}}}},\n",
      "  { '$set': { 'coverages.date_range.end._date': { '$dateFromString': { 'dateString': '$coverages.date_range.end._date',\n",
      "                                                                       'onError': None}}}},\n",
      "  { '$set': { 'coverages.date_range.end._date': { 'day': { '$toString': { '$dayOfMonth': '$coverages.date_range.end._date'}},\n",
      "                                                  'month': { '$toString': { '$month': '$coverages.date_range.end._date'}},\n",
      "                                                  'year': { '$toString': { '$year': '$coverages.date_range.end._date'}}}}},\n",
      "  { '$set': { 'coverages.date._date': { '$dateFromString': { 'dateString': '$coverages.date._date',\n",
      "                                                             'onError': None}}}},\n",
      "  { '$set': { 'coverages.date._date': { 'day': { '$toString': { '$dayOfMonth': '$coverages.date._date'}},\n",
      "                                        'month': { '$toString': { '$month': '$coverages.date._date'}},\n",
      "                                        'year': { '$toString': { '$year': '$coverages.date._date'}}}}},\n",
      "  { '$group': { '_id': '$_id',\n",
      "                'coverages': {'$push': '$coverages'},\n",
      "                'date_created': {'$first': '$date_created'},\n",
      "                'date_modified': {'$first': '$date_modified'},\n",
      "                'dates': {'$first': '$dates'}}},\n",
      "  {'$unwind': {'path': '$dates', 'preserveNullAndEmptyArrays': True}},\n",
      "  { '$set': { 'dates._date': { '$dateFromString': { 'dateString': '$dates._date',\n",
      "                                                    'onError': None}}}},\n",
      "  { '$set': { 'dates._date': { 'day': { '$toString': { '$dayOfMonth': '$dates._date'}},\n",
      "                               'month': { '$toString': { '$month': '$dates._date'}},\n",
      "                               'year': { '$toString': { '$year': '$dates._date'}}}}},\n",
      "  { '$group': { '_id': '$_id',\n",
      "                'coverages': {'$first': '$coverages'},\n",
      "                'date_created': {'$first': '$date_created'},\n",
      "                'date_modified': {'$first': '$date_modified'},\n",
      "                'dates': {'$push': '$dates'}}},\n",
      "  { '$set': { 'date_created': { 'day': { '$toString': { '$dayOfMonth': '$date_created'}},\n",
      "                                'month': { '$toString': { '$month': '$date_created'}},\n",
      "                                'year': { '$toString': { '$year': '$date_created'}}},\n",
      "              'date_modified': { 'day': { '$toString': { '$dayOfMonth': '$date_modified'}},\n",
      "                                 'month': { '$toString': { '$month': '$date_modified'}},\n",
      "                                 'year': { '$toString': { '$year': '$date_modified'}}}}}]\n"
     ]
    }
   ],
   "source": [
    "pp.pprint(xactivity_cleanDatePipeline)"
   ]
  },
  {
   "cell_type": "code",
   "execution_count": 16,
   "id": "d13335fa-b291-4b0d-89a3-057d2b981ebe",
   "metadata": {
    "execution": {
     "iopub.execute_input": "2023-03-31T13:36:12.606240Z",
     "iopub.status.busy": "2023-03-31T13:36:12.605246Z",
     "iopub.status.idle": "2023-03-31T13:36:50.023730Z",
     "shell.execute_reply": "2023-03-31T13:36:50.023730Z",
     "shell.execute_reply.started": "2023-03-31T13:36:12.606240Z"
    },
    "jupyter": {
     "source_hidden": true
    },
    "tags": []
   },
   "outputs": [
    {
     "name": "stdout",
     "output_type": "stream",
     "text": [
      "The `xactivity_ori` collection is cloned as `xactivity`\n"
     ]
    },
    {
     "name": "stderr",
     "output_type": "stream",
     "text": [
      "xactivity Date Field Format Cleansing: 100%|███████████████████████████████████| 27481/27481 [00:19<00:00, 1440.26it/s]\n"
     ]
    }
   ],
   "source": [
    "# clone\n",
    "daao_meta.daao_db.drop_collection(clone_coll)\n",
    "for doc in daao_meta.daao_db[curr_coll].find():\n",
    "    rsp = daao_meta.daao_db[clone_coll].insert_one(doc)\n",
    "print(f\"The `{curr_coll}` collection is cloned as `{clone_coll}`\")\n",
    "\n",
    "# extract date fields and reconstruct as ymd format\n",
    "for doc in tqdm(\n",
    "    daao_meta.daao_db[clone_coll].aggregate(\n",
    "        xactivity_cleanDatePipeline, allowDiskUse=True,\n",
    "    ),\n",
    "    total=daao_meta.daao_db[clone_coll].count_documents({}),\n",
    "    desc=f\"{clone_coll} Date Field Format Cleansing\",\n",
    "    leave=True,\n",
    "):\n",
    "    daao_meta.daao_db[clone_coll].update_one({\"_id\": doc.get(\"_id\")}, {\"$set\": doc})"
   ]
  },
  {
   "cell_type": "markdown",
   "id": "005b7556-c164-4baa-9ccd-07b44811c680",
   "metadata": {
    "tags": []
   },
   "source": [
    "### xwork"
   ]
  },
  {
   "cell_type": "code",
   "execution_count": 17,
   "id": "58256911-7d49-4eba-ae28-6fe60d7b3c07",
   "metadata": {
    "execution": {
     "iopub.execute_input": "2023-03-31T13:36:50.025725Z",
     "iopub.status.busy": "2023-03-31T13:36:50.025725Z",
     "iopub.status.idle": "2023-03-31T13:36:50.040686Z",
     "shell.execute_reply": "2023-03-31T13:36:50.039688Z",
     "shell.execute_reply.started": "2023-03-31T13:36:50.025725Z"
    },
    "jupyter": {
     "source_hidden": true
    },
    "tags": []
   },
   "outputs": [],
   "source": [
    "curr_coll = \"xwork_ori\"\n",
    "clone_coll = curr_coll.split(\"_\")[0]\n",
    "curr_date_fields = coll_date_objs[clone_coll]"
   ]
  },
  {
   "cell_type": "code",
   "execution_count": 18,
   "id": "57b20797-b089-478c-8209-044af62b71ff",
   "metadata": {
    "execution": {
     "iopub.execute_input": "2023-03-31T13:36:50.041683Z",
     "iopub.status.busy": "2023-03-31T13:36:50.041683Z",
     "iopub.status.idle": "2023-03-31T13:36:50.056645Z",
     "shell.execute_reply": "2023-03-31T13:36:50.055646Z",
     "shell.execute_reply.started": "2023-03-31T13:36:50.041683Z"
    },
    "jupyter": {
     "source_hidden": true
    },
    "tags": []
   },
   "outputs": [],
   "source": [
    "xwork_Stage1_ProjectDates = {\n",
    "    \"$project\": {\n",
    "        f: 1\n",
    "        for f in [\"date_modified\", \"date_created\"]\n",
    "        + list(set(f.split(\".\")[0] for f in curr_date_fields))\n",
    "    }\n",
    "}\n",
    "\n",
    "xwork_Stage2_String2Date = {\n",
    "    \"$set\": {\n",
    "        f: {\"$dateFromString\": {\"dateString\": f\"${f}\", \"onError\": None,},}\n",
    "        for f in curr_date_fields\n",
    "    }\n",
    "}\n",
    "xwork_Stage3_ConvertDates = {\n",
    "    \"$set\": {\n",
    "        f: {\n",
    "            \"year\": {\"$toString\": {\"$year\": f\"${f}\"}},\n",
    "            \"month\": {\"$toString\": {\"$month\": f\"${f}\"}},\n",
    "            \"day\": {\"$toString\": {\"$dayOfMonth\": f\"${f}\"}},\n",
    "        }\n",
    "        for f in list(curr_date_fields) + [\"date_modified\", \"date_created\"]\n",
    "    }\n",
    "}\n",
    "xwork_cleanDatePipeline = [\n",
    "    xwork_Stage1_ProjectDates,\n",
    "    xwork_Stage2_String2Date,\n",
    "    xwork_Stage3_ConvertDates,\n",
    "]"
   ]
  },
  {
   "cell_type": "code",
   "execution_count": 19,
   "id": "490478cc-67da-4796-9544-2a27272095bb",
   "metadata": {
    "execution": {
     "iopub.execute_input": "2023-03-31T13:36:50.060632Z",
     "iopub.status.busy": "2023-03-31T13:36:50.059636Z",
     "iopub.status.idle": "2023-03-31T13:36:50.087560Z",
     "shell.execute_reply": "2023-03-31T13:36:50.086563Z",
     "shell.execute_reply.started": "2023-03-31T13:36:50.060632Z"
    },
    "jupyter": {
     "source_hidden": true
    },
    "scrolled": true,
    "tags": []
   },
   "outputs": [
    {
     "name": "stdout",
     "output_type": "stream",
     "text": [
      "[ {'$project': {'date': 1, 'date_created': 1, 'date_modified': 1}},\n",
      "  { '$set': { 'date.end._date': { '$dateFromString': { 'dateString': '$date.end._date',\n",
      "                                                       'onError': None}},\n",
      "              'date.start._date': { '$dateFromString': { 'dateString': '$date.start._date',\n",
      "                                                         'onError': None}}}},\n",
      "  { '$set': { 'date.end._date': { 'day': { '$toString': { '$dayOfMonth': '$date.end._date'}},\n",
      "                                  'month': { '$toString': { '$month': '$date.end._date'}},\n",
      "                                  'year': { '$toString': { '$year': '$date.end._date'}}},\n",
      "              'date.start._date': { 'day': { '$toString': { '$dayOfMonth': '$date.start._date'}},\n",
      "                                    'month': { '$toString': { '$month': '$date.start._date'}},\n",
      "                                    'year': { '$toString': { '$year': '$date.start._date'}}},\n",
      "              'date_created': { 'day': { '$toString': { '$dayOfMonth': '$date_created'}},\n",
      "                                'month': { '$toString': { '$month': '$date_created'}},\n",
      "                                'year': { '$toString': { '$year': '$date_created'}}},\n",
      "              'date_modified': { 'day': { '$toString': { '$dayOfMonth': '$date_modified'}},\n",
      "                                 'month': { '$toString': { '$month': '$date_modified'}},\n",
      "                                 'year': { '$toString': { '$year': '$date_modified'}}}}}]\n"
     ]
    }
   ],
   "source": [
    "pp.pprint(xwork_cleanDatePipeline)"
   ]
  },
  {
   "cell_type": "code",
   "execution_count": 20,
   "id": "32aa09be-4442-4d89-8696-4e51094974c9",
   "metadata": {
    "execution": {
     "iopub.execute_input": "2023-03-31T13:36:50.089557Z",
     "iopub.status.busy": "2023-03-31T13:36:50.089557Z",
     "iopub.status.idle": "2023-03-31T13:37:33.576605Z",
     "shell.execute_reply": "2023-03-31T13:37:33.575607Z",
     "shell.execute_reply.started": "2023-03-31T13:36:50.089557Z"
    },
    "jupyter": {
     "source_hidden": true
    },
    "tags": []
   },
   "outputs": [
    {
     "name": "stdout",
     "output_type": "stream",
     "text": [
      "The `xwork_ori` collection is cloned as `xwork`\n"
     ]
    },
    {
     "name": "stderr",
     "output_type": "stream",
     "text": [
      "xwork Date Field Format Cleansing: 100%|███████████████████████████████████████| 35527/35527 [00:22<00:00, 1596.36it/s]\n"
     ]
    }
   ],
   "source": [
    "# clone\n",
    "daao_meta.daao_db.drop_collection(clone_coll)\n",
    "for doc in daao_meta.daao_db[curr_coll].find():\n",
    "    rsp = daao_meta.daao_db[clone_coll].insert_one(doc)\n",
    "print(f\"The `{curr_coll}` collection is cloned as `{clone_coll}`\")\n",
    "\n",
    "# extract date fields and reconstruct as ymd format\n",
    "for doc in tqdm(\n",
    "    daao_meta.daao_db[clone_coll].aggregate(\n",
    "        xwork_cleanDatePipeline, allowDiskUse=True,\n",
    "    ),\n",
    "    total=daao_meta.daao_db[clone_coll].count_documents({}),\n",
    "    desc=f\"{clone_coll} Date Field Format Cleansing\",\n",
    "    leave=True,\n",
    "):\n",
    "    daao_meta.daao_db[clone_coll].update_one({\"_id\": doc.get(\"_id\")}, {\"$set\": doc})"
   ]
  },
  {
   "cell_type": "markdown",
   "id": "fd027f56-3d98-4fbc-8ee1-aea24e777b2d",
   "metadata": {
    "tags": []
   },
   "source": [
    "### externalresource"
   ]
  },
  {
   "cell_type": "code",
   "execution_count": 21,
   "id": "a24b7736-dc58-4846-b2f8-195f463d4709",
   "metadata": {
    "execution": {
     "iopub.execute_input": "2023-03-31T13:37:33.578601Z",
     "iopub.status.busy": "2023-03-31T13:37:33.577602Z",
     "iopub.status.idle": "2023-03-31T13:37:33.592563Z",
     "shell.execute_reply": "2023-03-31T13:37:33.591565Z",
     "shell.execute_reply.started": "2023-03-31T13:37:33.578601Z"
    },
    "tags": []
   },
   "outputs": [],
   "source": [
    "curr_coll = \"externalresource_ori\"\n",
    "clone_coll = curr_coll.split(\"_\")[0]\n",
    "curr_date_fields = coll_date_objs[clone_coll]"
   ]
  },
  {
   "cell_type": "code",
   "execution_count": 22,
   "id": "d9c7fc3a-50fa-4aee-9287-1f3ea2f6db5f",
   "metadata": {
    "execution": {
     "iopub.execute_input": "2023-03-31T13:37:33.594557Z",
     "iopub.status.busy": "2023-03-31T13:37:33.594557Z",
     "iopub.status.idle": "2023-03-31T13:37:33.622483Z",
     "shell.execute_reply": "2023-03-31T13:37:33.621485Z",
     "shell.execute_reply.started": "2023-03-31T13:37:33.594557Z"
    },
    "jupyter": {
     "source_hidden": true
    },
    "tags": []
   },
   "outputs": [],
   "source": [
    "extlrsc_Stage1_ProjectDates = {\n",
    "    \"$project\": {\n",
    "        f: 1\n",
    "        for f in [\"date_modified\", \"date_created\"]\n",
    "        + list(set(f.split(\".\")[0] for f in curr_date_fields))\n",
    "    }\n",
    "}\n",
    "\n",
    "extlrsc_Stage2_String2Date = {\n",
    "    \"$set\": {\n",
    "        f: {\"$dateFromString\": {\"dateString\": f\"${f}\", \"onError\": None,},}\n",
    "        for f in curr_date_fields\n",
    "    }\n",
    "}\n",
    "extlrsc_Stage3_ConvertDates = {\n",
    "    \"$set\": {\n",
    "        f: {\n",
    "            \"year\": {\"$toString\": {\"$year\": f\"${f}\"}},\n",
    "            \"month\": {\"$toString\": {\"$month\": f\"${f}\"}},\n",
    "            \"day\": {\"$toString\": {\"$dayOfMonth\": f\"${f}\"}},\n",
    "        }\n",
    "        for f in list(curr_date_fields) + [\"date_modified\", \"date_created\"]\n",
    "    }\n",
    "}\n",
    "extlrsc_cleanDatePipeline = [\n",
    "    extlrsc_Stage1_ProjectDates,\n",
    "    extlrsc_Stage2_String2Date,\n",
    "    extlrsc_Stage3_ConvertDates,\n",
    "]"
   ]
  },
  {
   "cell_type": "code",
   "execution_count": 23,
   "id": "13077116-a24a-48c6-a8ec-72b060f851a2",
   "metadata": {
    "execution": {
     "iopub.execute_input": "2023-03-31T13:37:33.624479Z",
     "iopub.status.busy": "2023-03-31T13:37:33.624479Z",
     "iopub.status.idle": "2023-03-31T13:37:33.638441Z",
     "shell.execute_reply": "2023-03-31T13:37:33.637442Z",
     "shell.execute_reply.started": "2023-03-31T13:37:33.624479Z"
    },
    "jupyter": {
     "source_hidden": true
    },
    "tags": []
   },
   "outputs": [
    {
     "name": "stdout",
     "output_type": "stream",
     "text": [
      "[ {'$project': {'date': 1, 'date_created': 1, 'date_modified': 1}},\n",
      "  { '$set': { 'date._date': { '$dateFromString': { 'dateString': '$date._date',\n",
      "                                                   'onError': None}}}},\n",
      "  { '$set': { 'date._date': { 'day': { '$toString': { '$dayOfMonth': '$date._date'}},\n",
      "                              'month': {'$toString': {'$month': '$date._date'}},\n",
      "                              'year': {'$toString': {'$year': '$date._date'}}},\n",
      "              'date_created': { 'day': { '$toString': { '$dayOfMonth': '$date_created'}},\n",
      "                                'month': { '$toString': { '$month': '$date_created'}},\n",
      "                                'year': { '$toString': { '$year': '$date_created'}}},\n",
      "              'date_modified': { 'day': { '$toString': { '$dayOfMonth': '$date_modified'}},\n",
      "                                 'month': { '$toString': { '$month': '$date_modified'}},\n",
      "                                 'year': { '$toString': { '$year': '$date_modified'}}}}}]\n"
     ]
    }
   ],
   "source": [
    "pp.pprint(extlrsc_cleanDatePipeline)"
   ]
  },
  {
   "cell_type": "code",
   "execution_count": 24,
   "id": "9abc8b63-1a21-4078-8612-69ab5ae7b9b9",
   "metadata": {
    "execution": {
     "iopub.execute_input": "2023-03-31T13:37:33.640435Z",
     "iopub.status.busy": "2023-03-31T13:37:33.640435Z",
     "iopub.status.idle": "2023-03-31T13:38:29.691358Z",
     "shell.execute_reply": "2023-03-31T13:38:29.690360Z",
     "shell.execute_reply.started": "2023-03-31T13:37:33.640435Z"
    },
    "jupyter": {
     "source_hidden": true
    },
    "tags": []
   },
   "outputs": [
    {
     "name": "stdout",
     "output_type": "stream",
     "text": [
      "The `externalresource_ori` collection is cloned as `externalresource`\n"
     ]
    },
    {
     "name": "stderr",
     "output_type": "stream",
     "text": [
      "externalresource Date Field Format Cleansing: 100%|████████████████████████████| 52597/52597 [00:30<00:00, 1707.89it/s]\n"
     ]
    }
   ],
   "source": [
    "# clone\n",
    "daao_meta.daao_db.drop_collection(clone_coll)\n",
    "for doc in daao_meta.daao_db[curr_coll].find():\n",
    "    rsp = daao_meta.daao_db[clone_coll].insert_one(doc)\n",
    "print(f\"The `{curr_coll}` collection is cloned as `{clone_coll}`\")\n",
    "\n",
    "# extract date fields and reconstruct as ymd format\n",
    "for doc in tqdm(\n",
    "    daao_meta.daao_db[clone_coll].aggregate(\n",
    "        extlrsc_cleanDatePipeline, allowDiskUse=True,\n",
    "    ),\n",
    "    total=daao_meta.daao_db[clone_coll].count_documents({}),\n",
    "    desc=f\"{clone_coll} Date Field Format Cleansing\",\n",
    "    leave=True,\n",
    "):\n",
    "    daao_meta.daao_db[clone_coll].update_one({\"_id\": doc.get(\"_id\")}, {\"$set\": doc})"
   ]
  },
  {
   "cell_type": "code",
   "execution_count": null,
   "id": "aed9074b-0364-4747-8601-903ed3f7f4af",
   "metadata": {
    "tags": []
   },
   "outputs": [],
   "source": []
  }
 ],
 "metadata": {
  "kernelspec": {
   "display_name": "ACD_Engine",
   "language": "python",
   "name": "acd_engine"
  },
  "language_info": {
   "codemirror_mode": {
    "name": "ipython",
    "version": 3
   },
   "file_extension": ".py",
   "mimetype": "text/x-python",
   "name": "python",
   "nbconvert_exporter": "python",
   "pygments_lexer": "ipython3",
   "version": "3.9.13"
  }
 },
 "nbformat": 4,
 "nbformat_minor": 5
}
