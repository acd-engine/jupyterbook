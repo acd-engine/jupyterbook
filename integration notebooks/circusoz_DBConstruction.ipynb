{
 "cells": [
  {
   "cell_type": "markdown",
   "id": "689b377b-84ac-418c-8512-d1925a110563",
   "metadata": {
    "tags": []
   },
   "source": [
    "## Setting"
   ]
  },
  {
   "cell_type": "code",
   "execution_count": 1,
   "id": "15637640-a91b-48f4-80a7-aee94576b507",
   "metadata": {
    "execution": {
     "iopub.execute_input": "2023-04-25T01:33:38.999465Z",
     "iopub.status.busy": "2023-04-25T01:33:38.997471Z",
     "iopub.status.idle": "2023-04-25T01:33:40.972824Z",
     "shell.execute_reply": "2023-04-25T01:33:40.972824Z",
     "shell.execute_reply.started": "2023-04-25T01:33:38.999465Z"
    },
    "tags": []
   },
   "outputs": [],
   "source": [
    "import itertools\n",
    "import json\n",
    "import os\n",
    "import pprint\n",
    "import re\n",
    "import sqlite3\n",
    "import sys\n",
    "from collections import Counter, defaultdict\n",
    "from copy import deepcopy\n",
    "\n",
    "import openpyxl\n",
    "import pandas as pd\n",
    "\n",
    "codefolder = (\n",
    "    \"C:/ProjectCollections/Programs/Australia_Cultural_Data_Engine/codes\"\n",
    ")\n",
    "\n",
    "data_folder = \"D:/Program_Data/Australia_Cultural_Data_Engine_Data/circusoz\"\n",
    "\n",
    "sys.path.append(codefolder)\n",
    "from general import GeneralFunctions as gf\n",
    "from general import JsonProcessing as jp\n",
    "from general import MongoDBManipulation as mdb_manip"
   ]
  },
  {
   "cell_type": "code",
   "execution_count": 2,
   "id": "b153b90f-1a01-456b-b26a-dd11192b1cf6",
   "metadata": {
    "execution": {
     "iopub.execute_input": "2023-04-25T01:33:40.974817Z",
     "iopub.status.busy": "2023-04-25T01:33:40.974817Z",
     "iopub.status.idle": "2023-04-25T01:33:40.989365Z",
     "shell.execute_reply": "2023-04-25T01:33:40.988393Z",
     "shell.execute_reply.started": "2023-04-25T01:33:40.974817Z"
    },
    "tags": []
   },
   "outputs": [],
   "source": [
    "latest_working_wb = \"Circus Oz_MasterList_working(as.of.14.Dec).xlsx\"\n",
    "latest_venue_wb = \"Venue_consolidating doc(as.of.14.Dec).xlsx\"\n",
    "master_role_all = \"23 Nov_Circus Oz_MasterList-RoleCategories_1978-2009_WorkingOut.xlsx\"\n",
    "\n",
    "color_mapping = {\n",
    "    \"theme_1\": \"cleaned\",\n",
    "    \"theme_5\": \"AS\",\n",
    "    \"theme_9\": \"FMP\",\n",
    "    \"theme_4\": \"CO-vids\",\n",
    "}"
   ]
  },
  {
   "cell_type": "code",
   "execution_count": 3,
   "id": "805f3bd4-33de-454e-b202-c7ee496d2175",
   "metadata": {
    "execution": {
     "iopub.execute_input": "2023-04-25T01:33:40.992359Z",
     "iopub.status.busy": "2023-04-25T01:33:40.992359Z",
     "iopub.status.idle": "2023-04-25T01:33:54.732467Z",
     "shell.execute_reply": "2023-04-25T01:33:54.731539Z",
     "shell.execute_reply.started": "2023-04-25T01:33:40.992359Z"
    },
    "tags": []
   },
   "outputs": [],
   "source": [
    "circusoz_workbook_working = openpyxl.load_workbook(\n",
    "    os.path.join(data_folder, latest_working_wb), data_only=True\n",
    ")"
   ]
  },
  {
   "cell_type": "code",
   "execution_count": 4,
   "id": "3e854f7a-f548-4321-95cd-aea1e933db18",
   "metadata": {
    "execution": {
     "iopub.execute_input": "2023-04-25T01:33:54.734461Z",
     "iopub.status.busy": "2023-04-25T01:33:54.733463Z",
     "iopub.status.idle": "2023-04-25T01:33:54.765378Z",
     "shell.execute_reply": "2023-04-25T01:33:54.763396Z",
     "shell.execute_reply.started": "2023-04-25T01:33:54.734461Z"
    },
    "tags": []
   },
   "outputs": [
    {
     "data": {
      "text/plain": [
       "['EVENTS MASTER',\n",
       " 'PERSON LIST MASTER ID LOOKUP',\n",
       " 'EVENT ID LOOKUP',\n",
       " 'Removed Events']"
      ]
     },
     "execution_count": 4,
     "metadata": {},
     "output_type": "execute_result"
    }
   ],
   "source": [
    "circusoz_workbook_working.sheetnames"
   ]
  },
  {
   "cell_type": "code",
   "execution_count": 5,
   "id": "2e981f61-472c-4b17-bd5f-07e2a5d7c2b5",
   "metadata": {
    "execution": {
     "iopub.execute_input": "2023-04-25T01:33:54.768940Z",
     "iopub.status.busy": "2023-04-25T01:33:54.768370Z",
     "iopub.status.idle": "2023-04-25T01:33:54.870665Z",
     "shell.execute_reply": "2023-04-25T01:33:54.869668Z",
     "shell.execute_reply.started": "2023-04-25T01:33:54.768940Z"
    },
    "tags": []
   },
   "outputs": [
    {
     "name": "stdout",
     "output_type": "stream",
     "text": [
      "theme_6 ['(Missing.Cast)', '(Venue.Notes)', '(Estimated.Role.Note)', '(Record.Notes)']\n",
      "theme_5 ['(AS list No.1)', '(AS.List.No.2)', 'Event.ID_(AS)', 'Event.ID.Alt_(AS)', 'Event.Name_(AS)', 'Alt.Event.Name_(AS)', 'Umbrella.Event_(AS)', 'Alt.Umbrella.Event_(AS)', 'First.Date_(AS)', 'Last.Date_(AS)', 'Venue.ID_(AS)', 'Venue.Name_(AS) ', 'Venue.Location_(AS)', 'Venue.Notes_(AS)', 'Further.Information_(AS)', 'Contributor.ID_(AS)', 'Gender_(AS)', 'Contributor.Function.1_(AS)', 'Contributor.Function.2_(AS)', 'Contributor.Function.3_(AS)']\n",
      "theme_9 ['Season.Number_(FMP)', 'Category_(FMP)', 'Show.Name_(FMP)', 'Producer.Promoter_(FMP)', 'Date.from_(FMP)', 'date.to_(FMP)', 'Venue_(FMP)', 'City_(FMP)', 'Country_(FMP)', 'Venue.Type_(FMP)', 'Activity_(FMP)', 'Activity.Date_(FMP)', 'Activity.Note_(FMP)', 'Personnel.Number_(FMP)', 'Personnel.first.name_(FMP)', 'Personnel.Surname_(FMP)', 'Primary.Role_(FMP)', 'Secondary.role_(FMP)', 'Personnel.Note.1_(FMP)', 'Personnel.Note.2_(FMP)', 'Role.1.Binders.2003-04_(FMP)', 'Role.2.Binders.2003-04_(FMP)', 'Role.3.Binders.2003-04_(FMP)']\n",
      "theme_1 ['EVENT.NUMBER', 'TYPE', 'TITLE', 'UMBRELLA.EVENT', 'UMBRELLA.EVENT.2', 'DATE.FROM.(General)', 'DATE.TO.(General)', 'VENUE_(TBC)', 'PERSON.NUMBER', 'FIRST.NAME', 'SECOND.NAME', 'COMBINED.NAME', 'ALTERNATIVE.SPELLING (Discrepancy or inaccuracy)', 'Contributor.ID', 'Gender', 'Contributor.Name(AS_&_Co-Clips)']\n",
      "theme_4 ['Venue.Type_(CO-vids)', 'Video.Id.description_(CO-clips)', 'Video.ID_(CO-vids)', 'Source.3_(Co-clips)']\n",
      "rgb_FF7030A0 ['Estimated.Role', 'Digitised.Programmes.Role']\n"
     ]
    }
   ],
   "source": [
    "master_cols = defaultdict(list)\n",
    "master_sheet_name = \"EVENTS MASTER\"\n",
    "for c in circusoz_workbook_working[master_sheet_name][1]:\n",
    "    if c.value != None:\n",
    "        cell_color_dict = c.font.color.__dict__\n",
    "        master_cols[\n",
    "            f'{cell_color_dict.get(\"type\")}_{cell_color_dict[cell_color_dict[\"type\"]]}'\n",
    "        ].append((c.col_idx, c.value))\n",
    "\n",
    "for color_theme, cols in master_cols.items():\n",
    "    print(color_theme, [col[1] for col in cols])"
   ]
  },
  {
   "cell_type": "markdown",
   "id": "568f3cea-efb0-4b0b-8e91-b4ed169a6f79",
   "metadata": {
    "tags": []
   },
   "source": [
    "## 1. Venue"
   ]
  },
  {
   "cell_type": "code",
   "execution_count": 6,
   "id": "121a1555-a15f-49c6-80bf-865128553cb5",
   "metadata": {
    "execution": {
     "iopub.execute_input": "2023-04-25T01:33:54.872660Z",
     "iopub.status.busy": "2023-04-25T01:33:54.871662Z",
     "iopub.status.idle": "2023-04-25T01:33:55.054714Z",
     "shell.execute_reply": "2023-04-25T01:33:55.053747Z",
     "shell.execute_reply.started": "2023-04-25T01:33:54.871662Z"
    },
    "tags": []
   },
   "outputs": [
    {
     "data": {
      "text/plain": [
       "['Sheet1', 'Sheet2']"
      ]
     },
     "execution_count": 6,
     "metadata": {},
     "output_type": "execute_result"
    }
   ],
   "source": [
    "circusoz_workbook_venue = openpyxl.load_workbook(\n",
    "    os.path.join(data_folder, latest_venue_wb), data_only=True\n",
    ")\n",
    "circusoz_workbook_venue.sheetnames"
   ]
  },
  {
   "cell_type": "code",
   "execution_count": 7,
   "id": "5ae49b30-8893-4fed-923e-8dbc4f652a91",
   "metadata": {
    "execution": {
     "iopub.execute_input": "2023-04-25T01:33:55.056709Z",
     "iopub.status.busy": "2023-04-25T01:33:55.055712Z",
     "iopub.status.idle": "2023-04-25T01:35:01.509842Z",
     "shell.execute_reply": "2023-04-25T01:35:01.508852Z",
     "shell.execute_reply.started": "2023-04-25T01:33:55.055712Z"
    },
    "tags": []
   },
   "outputs": [
    {
     "data": {
      "text/plain": [
       "dict_keys(['theme_1', 'theme_5', 'theme_9', 'theme_4', 'theme_6'])"
      ]
     },
     "execution_count": 7,
     "metadata": {},
     "output_type": "execute_result"
    }
   ],
   "source": [
    "venue_cols = defaultdict(list)\n",
    "venue_sheet_name = \"Sheet1\"\n",
    "for c in circusoz_workbook_venue[venue_sheet_name][1]:\n",
    "    if c.value != None:\n",
    "        cell_color_dict = c.font.color.__dict__\n",
    "        venue_cols[\n",
    "            f'{cell_color_dict.get(\"type\")}_{cell_color_dict[cell_color_dict[\"type\"]]}'\n",
    "        ].append(c.col_idx)\n",
    "\n",
    "data = circusoz_workbook_venue[venue_sheet_name].values\n",
    "venue_df = pd.DataFrame(data, columns=next(data)[0:],)\n",
    "\n",
    "venue_cols.keys()"
   ]
  },
  {
   "cell_type": "code",
   "execution_count": 8,
   "id": "fb6bc0ff-4899-4753-9bd8-b356e9e87806",
   "metadata": {
    "execution": {
     "iopub.execute_input": "2023-04-25T01:35:01.512835Z",
     "iopub.status.busy": "2023-04-25T01:35:01.511839Z",
     "iopub.status.idle": "2023-04-25T01:35:05.148734Z",
     "shell.execute_reply": "2023-04-25T01:35:05.147772Z",
     "shell.execute_reply.started": "2023-04-25T01:35:01.512835Z"
    },
    "tags": []
   },
   "outputs": [],
   "source": [
    "venue_collection = {}\n",
    "table_cat = \"venue\"\n",
    "for theme_name, data_source in color_mapping.items():\n",
    "    if data_source == \"cleaned\":\n",
    "        venue_table_name = table_cat\n",
    "        venue_collection[table_cat] = (\n",
    "            venue_df.iloc[:, map(lambda x: x - 1, venue_cols[theme_name])]\n",
    "            .dropna(axis=1, how=\"all\")\n",
    "            .dropna(how=\"all\")\n",
    "        )\n",
    "    else:\n",
    "        venue_subset_cols = venue_df.columns[\n",
    "            list(map(lambda x: x - 1, venue_cols[theme_name]))\n",
    "        ].tolist()\n",
    "        venue_table_name = f\"{table_cat}_{data_source}\"\n",
    "        venue_collection[venue_table_name] = (\n",
    "            venue_df[[\"EVENT.NUMBER\", \"VENUE.NAME\"] + venue_subset_cols]\n",
    "            .dropna(axis=1, how=\"all\")\n",
    "            .dropna(how=\"all\", subset=venue_subset_cols,)\n",
    "        )\n",
    "    venue_collection[venue_table_name][\n",
    "        [\"EVENT.NUMBER\", \"VENUE.NAME\"]\n",
    "    ] = venue_collection[venue_table_name][[\"EVENT.NUMBER\", \"VENUE.NAME\"]].fillna(\n",
    "        \"UNKNOWN\"\n",
    "    )"
   ]
  },
  {
   "cell_type": "code",
   "execution_count": 9,
   "id": "40a04106-06c9-4153-88e2-64e46f5cceef",
   "metadata": {
    "execution": {
     "iopub.execute_input": "2023-04-25T01:35:05.149730Z",
     "iopub.status.busy": "2023-04-25T01:35:05.149730Z",
     "iopub.status.idle": "2023-04-25T01:35:05.180647Z",
     "shell.execute_reply": "2023-04-25T01:35:05.179681Z",
     "shell.execute_reply.started": "2023-04-25T01:35:05.149730Z"
    },
    "tags": []
   },
   "outputs": [
    {
     "data": {
      "text/html": [
       "<div>\n",
       "<style scoped>\n",
       "    .dataframe tbody tr th:only-of-type {\n",
       "        vertical-align: middle;\n",
       "    }\n",
       "\n",
       "    .dataframe tbody tr th {\n",
       "        vertical-align: top;\n",
       "    }\n",
       "\n",
       "    .dataframe thead th {\n",
       "        text-align: right;\n",
       "    }\n",
       "</style>\n",
       "<table border=\"1\" class=\"dataframe\">\n",
       "  <thead>\n",
       "    <tr style=\"text-align: right;\">\n",
       "      <th></th>\n",
       "      <th>EVENT.NUMBER</th>\n",
       "      <th>VENUE.NAME</th>\n",
       "      <th>VENUE.ADDRESS</th>\n",
       "      <th>VENUE.TYPE</th>\n",
       "    </tr>\n",
       "  </thead>\n",
       "  <tbody>\n",
       "    <tr>\n",
       "      <th>0</th>\n",
       "      <td>E0001</td>\n",
       "      <td>Pram Factory</td>\n",
       "      <td>325 Drummond Street, Carlton, Victoria, 3053, ...</td>\n",
       "      <td>Other</td>\n",
       "    </tr>\n",
       "    <tr>\n",
       "      <th>1</th>\n",
       "      <td>E0002</td>\n",
       "      <td>Alexandra Gardens</td>\n",
       "      <td>Melbourne, Victoria, 3000, Australia</td>\n",
       "      <td>Tent</td>\n",
       "    </tr>\n",
       "    <tr>\n",
       "      <th>2</th>\n",
       "      <td>E0003</td>\n",
       "      <td>Bonython Park</td>\n",
       "      <td>Port Road, Adelaide, South Australia, 5000, Au...</td>\n",
       "      <td>Tent</td>\n",
       "    </tr>\n",
       "    <tr>\n",
       "      <th>3</th>\n",
       "      <td>E0004</td>\n",
       "      <td>UNKNOWN</td>\n",
       "      <td>Melbourne, Victoria, 3000, Australia</td>\n",
       "      <td>Other</td>\n",
       "    </tr>\n",
       "    <tr>\n",
       "      <th>4</th>\n",
       "      <td>E0005</td>\n",
       "      <td>National Gallery of Victoria</td>\n",
       "      <td>180 St Kilda Road, Melbourne, Victoria 3006, A...</td>\n",
       "      <td>Tent</td>\n",
       "    </tr>\n",
       "    <tr>\n",
       "      <th>...</th>\n",
       "      <td>...</td>\n",
       "      <td>...</td>\n",
       "      <td>...</td>\n",
       "      <td>...</td>\n",
       "    </tr>\n",
       "    <tr>\n",
       "      <th>475</th>\n",
       "      <td>E0471</td>\n",
       "      <td>UNKNOWN</td>\n",
       "      <td>None</td>\n",
       "      <td>None</td>\n",
       "    </tr>\n",
       "    <tr>\n",
       "      <th>476</th>\n",
       "      <td>E0472</td>\n",
       "      <td>UNKNOWN</td>\n",
       "      <td>None</td>\n",
       "      <td>None</td>\n",
       "    </tr>\n",
       "    <tr>\n",
       "      <th>477</th>\n",
       "      <td>E0473</td>\n",
       "      <td>UNKNOWN</td>\n",
       "      <td>None</td>\n",
       "      <td>None</td>\n",
       "    </tr>\n",
       "    <tr>\n",
       "      <th>478</th>\n",
       "      <td>E0474</td>\n",
       "      <td>UNKNOWN</td>\n",
       "      <td>None</td>\n",
       "      <td>None</td>\n",
       "    </tr>\n",
       "    <tr>\n",
       "      <th>479</th>\n",
       "      <td>E0475</td>\n",
       "      <td>UNKNOWN</td>\n",
       "      <td>None</td>\n",
       "      <td>None</td>\n",
       "    </tr>\n",
       "  </tbody>\n",
       "</table>\n",
       "<p>477 rows × 4 columns</p>\n",
       "</div>"
      ],
      "text/plain": [
       "    EVENT.NUMBER                    VENUE.NAME  \\\n",
       "0          E0001                  Pram Factory   \n",
       "1          E0002             Alexandra Gardens   \n",
       "2          E0003                 Bonython Park   \n",
       "3          E0004                       UNKNOWN   \n",
       "4          E0005  National Gallery of Victoria   \n",
       "..           ...                           ...   \n",
       "475        E0471                       UNKNOWN   \n",
       "476        E0472                       UNKNOWN   \n",
       "477        E0473                       UNKNOWN   \n",
       "478        E0474                       UNKNOWN   \n",
       "479        E0475                       UNKNOWN   \n",
       "\n",
       "                                         VENUE.ADDRESS VENUE.TYPE  \n",
       "0    325 Drummond Street, Carlton, Victoria, 3053, ...      Other  \n",
       "1                 Melbourne, Victoria, 3000, Australia       Tent  \n",
       "2    Port Road, Adelaide, South Australia, 5000, Au...       Tent  \n",
       "3                 Melbourne, Victoria, 3000, Australia      Other  \n",
       "4    180 St Kilda Road, Melbourne, Victoria 3006, A...       Tent  \n",
       "..                                                 ...        ...  \n",
       "475                                               None       None  \n",
       "476                                               None       None  \n",
       "477                                               None       None  \n",
       "478                                               None       None  \n",
       "479                                               None       None  \n",
       "\n",
       "[477 rows x 4 columns]"
      ]
     },
     "execution_count": 9,
     "metadata": {},
     "output_type": "execute_result"
    }
   ],
   "source": [
    "venue_collection[\"venue\"]"
   ]
  },
  {
   "cell_type": "markdown",
   "id": "54adea54-47c9-4837-b11e-e076a14ead6d",
   "metadata": {
    "tags": []
   },
   "source": [
    "## 2. Role Categories"
   ]
  },
  {
   "cell_type": "code",
   "execution_count": 10,
   "id": "b6133394-f8f0-4786-a8b2-6396b64c2b1c",
   "metadata": {
    "execution": {
     "iopub.execute_input": "2023-04-25T01:35:05.184637Z",
     "iopub.status.busy": "2023-04-25T01:35:05.183640Z",
     "iopub.status.idle": "2023-04-25T01:35:15.944112Z",
     "shell.execute_reply": "2023-04-25T01:35:15.943222Z",
     "shell.execute_reply.started": "2023-04-25T01:35:05.184637Z"
    },
    "tags": []
   },
   "outputs": [
    {
     "data": {
      "text/plain": [
       "['Events Master 1978 to 2009', 'Role Categories']"
      ]
     },
     "execution_count": 10,
     "metadata": {},
     "output_type": "execute_result"
    }
   ],
   "source": [
    "circusoz_workbook_master_role = openpyxl.load_workbook(\n",
    "    os.path.join(data_folder, master_role_all)\n",
    ")\n",
    "\n",
    "circusoz_workbook_master_role.sheetnames"
   ]
  },
  {
   "cell_type": "code",
   "execution_count": 11,
   "id": "45c1031f-da91-41fa-8794-6fd32b24638a",
   "metadata": {
    "execution": {
     "iopub.execute_input": "2023-04-25T01:35:15.945109Z",
     "iopub.status.busy": "2023-04-25T01:35:15.945109Z",
     "iopub.status.idle": "2023-04-25T01:35:15.991984Z",
     "shell.execute_reply": "2023-04-25T01:35:15.991086Z",
     "shell.execute_reply.started": "2023-04-25T01:35:15.945109Z"
    },
    "tags": []
   },
   "outputs": [
    {
     "data": {
      "text/plain": [
       "dict_keys(['theme_1', 'theme_9', 'theme_5', 'theme_4', 'rgb_FF7030A0'])"
      ]
     },
     "execution_count": 11,
     "metadata": {},
     "output_type": "execute_result"
    }
   ],
   "source": [
    "role_cat_cols = defaultdict(list)\n",
    "role_cat_sheet_name = \"Role Categories\"\n",
    "for c in circusoz_workbook_master_role[role_cat_sheet_name][1]:\n",
    "    if c.value != None:\n",
    "        cell_color_dict = c.font.color.__dict__\n",
    "        role_cat_cols[\n",
    "            f'{cell_color_dict.get(\"type\")}_{cell_color_dict[cell_color_dict[\"type\"]]}'\n",
    "        ].append(c.col_idx)\n",
    "\n",
    "data = circusoz_workbook_master_role[role_cat_sheet_name].values\n",
    "role_cat_df = pd.DataFrame(data, columns=next(data)[0:],)\n",
    "\n",
    "role_cat_cols.keys()"
   ]
  },
  {
   "cell_type": "code",
   "execution_count": 12,
   "id": "971f6d1d-c7c7-45a1-bbf4-81af417557e6",
   "metadata": {
    "execution": {
     "iopub.execute_input": "2023-04-25T01:35:15.995973Z",
     "iopub.status.busy": "2023-04-25T01:35:15.994975Z",
     "iopub.status.idle": "2023-04-25T01:35:16.069777Z",
     "shell.execute_reply": "2023-04-25T01:35:16.068778Z",
     "shell.execute_reply.started": "2023-04-25T01:35:15.995973Z"
    },
    "tags": []
   },
   "outputs": [
    {
     "data": {
      "text/plain": [
       "dict_keys(['role', 'role_FMP', 'role_AS', 'role_CO-vids', 'role_UNKNOWN'])"
      ]
     },
     "execution_count": 12,
     "metadata": {},
     "output_type": "execute_result"
    }
   ],
   "source": [
    "role_collection = {}\n",
    "for color_cat in role_cat_cols.keys():\n",
    "    if color_cat != \"theme_1\":\n",
    "        role_cat_subset = (\n",
    "            role_cat_df.iloc[\n",
    "                :, min(role_cat_cols[color_cat]) - 1 : max(role_cat_cols[color_cat]) + 1\n",
    "            ]\n",
    "            .dropna(axis=1, how=\"all\")\n",
    "            .dropna(how=\"all\")\n",
    "        )\n",
    "        role_subset_combined = pd.DataFrame()\n",
    "        for idx in range(0, role_cat_subset.shape[1], 2):\n",
    "            role_subset = role_cat_subset.iloc[:, idx : idx + 2].dropna(how=\"all\")\n",
    "            data_source = (\n",
    "                color_mapping.get(color_cat)\n",
    "                if color_mapping.get(color_cat)\n",
    "                else \"UNKNOWN\"\n",
    "            )\n",
    "            role_subset[\"ori_attr_name\"] = role_subset.columns[0]\n",
    "            role_subset.columns = [\"ori_attr_value\", \"ROLE.NUMBER\", \"ori_attr_name\"]\n",
    "            role_subset = role_subset[\n",
    "                role_subset[\"ROLE.NUMBER\"].apply(\n",
    "                    lambda x: False if isinstance(x, str) and not x.isdigit() else True\n",
    "                )\n",
    "            ]\n",
    "            role_subset[\"ROLE.NUMBER\"] = role_subset[\"ROLE.NUMBER\"].fillna(0).apply(int)\n",
    "            role_subset_combined = pd.concat([role_subset_combined, role_subset])\n",
    "        role_collection[f\"role_{data_source}\"] = role_subset_combined\n",
    "    else:\n",
    "        role_collection[\"role\"] = (\n",
    "            role_cat_df.iloc[\n",
    "                :,\n",
    "                min(role_cat_cols[color_cat]) - 1 : max(role_cat_cols[color_cat]) + 1,\n",
    "            ]\n",
    "            .dropna(axis=1, how=\"all\")\n",
    "            .dropna(how=\"all\")\n",
    "        )\n",
    "        role_collection[\"role\"] = pd.concat(\n",
    "            [\n",
    "                role_collection[\"role\"],\n",
    "                pd.DataFrame([[0, \"Unknown\"]], columns=[\"Number\", \"ROLE CATEGORIES\"]),\n",
    "            ],\n",
    "            ignore_index=True,\n",
    "        )\n",
    "        role_collection[\"role\"] = role_collection[\"role\"][\n",
    "            role_collection[\"role\"][\"Number\"].apply(\n",
    "                lambda x: True if isinstance(x, int) else False\n",
    "            )\n",
    "        ]\n",
    "        role_collection[\"role\"] = role_collection[\"role\"].rename(\n",
    "            {\"Number\": \"ROLE.NUMBER\"}, axis=1\n",
    "        )\n",
    "role_collection.keys()"
   ]
  },
  {
   "cell_type": "code",
   "execution_count": 13,
   "id": "2fc202c3-1be0-4682-ae4d-1714505c584c",
   "metadata": {
    "execution": {
     "iopub.execute_input": "2023-04-25T01:35:16.070775Z",
     "iopub.status.busy": "2023-04-25T01:35:16.070775Z",
     "iopub.status.idle": "2023-04-25T01:35:16.085736Z",
     "shell.execute_reply": "2023-04-25T01:35:16.084763Z",
     "shell.execute_reply.started": "2023-04-25T01:35:16.070775Z"
    },
    "tags": []
   },
   "outputs": [
    {
     "data": {
      "text/html": [
       "<div>\n",
       "<style scoped>\n",
       "    .dataframe tbody tr th:only-of-type {\n",
       "        vertical-align: middle;\n",
       "    }\n",
       "\n",
       "    .dataframe tbody tr th {\n",
       "        vertical-align: top;\n",
       "    }\n",
       "\n",
       "    .dataframe thead th {\n",
       "        text-align: right;\n",
       "    }\n",
       "</style>\n",
       "<table border=\"1\" class=\"dataframe\">\n",
       "  <thead>\n",
       "    <tr style=\"text-align: right;\">\n",
       "      <th></th>\n",
       "      <th>ROLE.NUMBER</th>\n",
       "      <th>ROLE CATEGORIES</th>\n",
       "      <th>ROLE DEFINITIONS</th>\n",
       "      <th>Notes</th>\n",
       "    </tr>\n",
       "  </thead>\n",
       "  <tbody>\n",
       "    <tr>\n",
       "      <th>0</th>\n",
       "      <td>1</td>\n",
       "      <td>Performer</td>\n",
       "      <td>All roles that refer to performing as part of ...</td>\n",
       "      <td>..</td>\n",
       "    </tr>\n",
       "    <tr>\n",
       "      <th>1</th>\n",
       "      <td>2</td>\n",
       "      <td>Musician</td>\n",
       "      <td>All music-related performing roles, including ...</td>\n",
       "      <td>There is no consistence within or between data...</td>\n",
       "    </tr>\n",
       "    <tr>\n",
       "      <th>2</th>\n",
       "      <td>3</td>\n",
       "      <td>KeyCreative</td>\n",
       "      <td>Any role related to the creation of the shows ...</td>\n",
       "      <td>..</td>\n",
       "    </tr>\n",
       "    <tr>\n",
       "      <th>3</th>\n",
       "      <td>4</td>\n",
       "      <td>Crew</td>\n",
       "      <td>Any production-related role, including all sta...</td>\n",
       "      <td>..</td>\n",
       "    </tr>\n",
       "    <tr>\n",
       "      <th>4</th>\n",
       "      <td>5</td>\n",
       "      <td>Administration</td>\n",
       "      <td>Any company or performance-related role note c...</td>\n",
       "      <td>..</td>\n",
       "    </tr>\n",
       "    <tr>\n",
       "      <th>5</th>\n",
       "      <td>6</td>\n",
       "      <td>Subsidiary</td>\n",
       "      <td>All company related roles that do not fall int...</td>\n",
       "      <td>..</td>\n",
       "    </tr>\n",
       "    <tr>\n",
       "      <th>6</th>\n",
       "      <td>7</td>\n",
       "      <td>Unknown</td>\n",
       "      <td>All queries within the data (\",\", \"?\" etc) or ...</td>\n",
       "      <td>None</td>\n",
       "    </tr>\n",
       "    <tr>\n",
       "      <th>7</th>\n",
       "      <td>8</td>\n",
       "      <td>Injured</td>\n",
       "      <td>All Injured/Workcover fields</td>\n",
       "      <td>None</td>\n",
       "    </tr>\n",
       "    <tr>\n",
       "      <th>13</th>\n",
       "      <td>0</td>\n",
       "      <td>Unknown</td>\n",
       "      <td>NaN</td>\n",
       "      <td>NaN</td>\n",
       "    </tr>\n",
       "  </tbody>\n",
       "</table>\n",
       "</div>"
      ],
      "text/plain": [
       "   ROLE.NUMBER ROLE CATEGORIES  \\\n",
       "0            1       Performer   \n",
       "1            2        Musician   \n",
       "2            3     KeyCreative   \n",
       "3            4            Crew   \n",
       "4            5  Administration   \n",
       "5            6      Subsidiary   \n",
       "6            7         Unknown   \n",
       "7            8         Injured   \n",
       "13           0         Unknown   \n",
       "\n",
       "                                     ROLE DEFINITIONS  \\\n",
       "0   All roles that refer to performing as part of ...   \n",
       "1   All music-related performing roles, including ...   \n",
       "2   Any role related to the creation of the shows ...   \n",
       "3   Any production-related role, including all sta...   \n",
       "4   Any company or performance-related role note c...   \n",
       "5   All company related roles that do not fall int...   \n",
       "6   All queries within the data (\",\", \"?\" etc) or ...   \n",
       "7                        All Injured/Workcover fields   \n",
       "13                                                NaN   \n",
       "\n",
       "                                                Notes  \n",
       "0                                                  ..  \n",
       "1   There is no consistence within or between data...  \n",
       "2                                                  ..  \n",
       "3                                                  ..  \n",
       "4                                                  ..  \n",
       "5                                                  ..  \n",
       "6                                                None  \n",
       "7                                                None  \n",
       "13                                                NaN  "
      ]
     },
     "execution_count": 13,
     "metadata": {},
     "output_type": "execute_result"
    }
   ],
   "source": [
    "role_collection[\"role\"]"
   ]
  },
  {
   "cell_type": "markdown",
   "id": "bf4b4d81-2c72-49b2-889c-51ef5cefb0f1",
   "metadata": {
    "tags": []
   },
   "source": [
    "## 3. Event"
   ]
  },
  {
   "cell_type": "code",
   "execution_count": 14,
   "id": "9dde4a3d-4514-4f3a-9e80-eb3c2581203c",
   "metadata": {
    "execution": {
     "iopub.execute_input": "2023-04-25T01:35:16.087730Z",
     "iopub.status.busy": "2023-04-25T01:35:16.086731Z",
     "iopub.status.idle": "2023-04-25T01:35:16.100692Z",
     "shell.execute_reply": "2023-04-25T01:35:16.099695Z",
     "shell.execute_reply.started": "2023-04-25T01:35:16.087730Z"
    },
    "tags": []
   },
   "outputs": [],
   "source": [
    "\"EVENT.NUMBER\"\n",
    "\"PERSON.NUMBER\"\n",
    "master_cols_dict = {\n",
    "    \"EVENT\": {\n",
    "        \"cleaned\": [\n",
    "            \"EVENT.NUMBER\",\n",
    "            \"TYPE\",\n",
    "            \"TITLE\",\n",
    "            \"UMBRELLA.EVENT\",\n",
    "            \"UMBRELLA.EVENT.2\",\n",
    "            \"DATE.FROM.(General)\",\n",
    "            \"DATE.TO.(General)\",\n",
    "            \"PERSON.NUMBER\",\n",
    "        ],\n",
    "        \"AS\": [\n",
    "            \"EVENT.NUMBER\",\n",
    "            \"Event.ID_(AS)\",\n",
    "            \"Event.ID.Alt_(AS)\",\n",
    "            \"Event.Name_(AS)\",\n",
    "            \"Alt.Event.Name_(AS)\",\n",
    "            \"Umbrella.Event_(AS)\",\n",
    "            \"Alt.Umbrella.Event_(AS)\",\n",
    "            \"First.Date_(AS)\",\n",
    "            \"Last.Date_(AS)\",\n",
    "        ],\n",
    "        \"FMP\": [\n",
    "            \"EVENT.NUMBER\",\n",
    "            \"Season.Number_(FMP)\",\n",
    "            \"Category_(FMP)\",\n",
    "            \"Show.Name_(FMP)\",\n",
    "            \"Producer.Promoter_(FMP)\",\n",
    "            \"Date.from_(FMP)\",\n",
    "            \"date.to_(FMP)\",\n",
    "            \"Activity_(FMP)\",\n",
    "            \"Activity.Date_(FMP)\",\n",
    "            \"Activity.Note_(FMP)\",\n",
    "        ],\n",
    "    },\n",
    "    \"PERSON\": {\n",
    "        \"cleaned\": [\n",
    "            \"PERSON.NUMBER\",\n",
    "            \"FIRST.NAME\",\n",
    "            \"SECOND.NAME\",\n",
    "            \"COMBINED.NAME\",\n",
    "            \"ALTERNATIVE.SPELLING (Discrepancy or inaccuracy)\",\n",
    "            # \"Contributor.ID_(AS)\",\n",
    "            # \"Personnel.Number_(FMP)\",\n",
    "        ],\n",
    "        \"AS\": [\n",
    "            \"PERSON.NUMBER\",\n",
    "            \"Contributor.ID_(AS)\",\n",
    "            \"Contributor.Name(AS_&_Co-Clips)\",\n",
    "            \"Gender_(AS)\",\n",
    "            \"Contributor.Function.1_(AS)\",\n",
    "            \"Contributor.Function.2_(AS)\",\n",
    "            \"Contributor.Function.3_(AS)\",\n",
    "        ],\n",
    "        \"FMP\": [\n",
    "            \"PERSON.NUMBER\",\n",
    "            \"Personnel.Number_(FMP)\",\n",
    "            \"Personnel.first.name_(FMP)\",\n",
    "            \"Personnel.Surname_(FMP)\",\n",
    "            \"Primary.Role_(FMP)\",\n",
    "            \"Secondary.role_(FMP)\",\n",
    "            \"Personnel.Note.1_(FMP)\",\n",
    "            \"Personnel.Note.2_(FMP)\",\n",
    "            \"Role.1.Binders.2003-04_(FMP)\",\n",
    "            \"Role.2.Binders.2003-04_(FMP)\",\n",
    "            \"Role.3.Binders.2003-04_(FMP)\",\n",
    "        ],\n",
    "        \"CO-clips\": [\n",
    "            \"PERSON.NUMBER\",\n",
    "            \"Video.Id.description_(CO-clips)\",\n",
    "            \"Video.ID_(CO-vids)\",\n",
    "            \"Source.3_(Co-clips)\",\n",
    "            \"Contributor.Name(AS_&_Co-Clips)\",\n",
    "        ],\n",
    "    },\n",
    "}"
   ]
  },
  {
   "cell_type": "code",
   "execution_count": 15,
   "id": "b8982721-bc55-43f0-ad62-dea8f2b02936",
   "metadata": {
    "execution": {
     "iopub.execute_input": "2023-04-25T01:35:16.102688Z",
     "iopub.status.busy": "2023-04-25T01:35:16.101691Z",
     "iopub.status.idle": "2023-04-25T01:35:18.520476Z",
     "shell.execute_reply": "2023-04-25T01:35:18.519509Z",
     "shell.execute_reply.started": "2023-04-25T01:35:16.102688Z"
    },
    "tags": []
   },
   "outputs": [],
   "source": [
    "data = circusoz_workbook_working[master_sheet_name].values\n",
    "master_df = (\n",
    "    pd.DataFrame(data, columns=next(data)[0:],).dropna(how=\"all\")\n",
    "    # .drop([\"EVENT.NUMBER\", \"PERSON.NUMBER\", \"Contributor.ID\", \"Gender\", \"Contributor.ID_(AS)\"], axis=1)\n",
    "    .applymap(lambda x: None if x == \"\" or x == \" \" else x)\n",
    ")"
   ]
  },
  {
   "cell_type": "code",
   "execution_count": 16,
   "id": "93e55ab1-ea6f-4861-81bc-b0d8e7dd0337",
   "metadata": {
    "execution": {
     "iopub.execute_input": "2023-04-25T01:35:18.521474Z",
     "iopub.status.busy": "2023-04-25T01:35:18.521474Z",
     "iopub.status.idle": "2023-04-25T01:35:18.597824Z",
     "shell.execute_reply": "2023-04-25T01:35:18.596826Z",
     "shell.execute_reply.started": "2023-04-25T01:35:18.521474Z"
    },
    "tags": []
   },
   "outputs": [],
   "source": [
    "event_collection = {}\n",
    "for data_source in master_cols_dict[\"EVENT\"].keys():\n",
    "    event_collection[f\"event_{data_source}\"] = (\n",
    "        master_df[master_cols_dict[\"EVENT\"][data_source]]\n",
    "        .dropna(\n",
    "            how=\"all\",\n",
    "            subset=set(master_cols_dict[\"EVENT\"][data_source])\n",
    "            - set([\"EVENT.NUMBER\", \"PERSON.NUMBER\"]),\n",
    "        )\n",
    "        .drop_duplicates()\n",
    "    )"
   ]
  },
  {
   "cell_type": "markdown",
   "id": "790d9b5e-3856-4fc6-9566-dc4bcdd8f3d1",
   "metadata": {
    "tags": []
   },
   "source": [
    "## 4. Person"
   ]
  },
  {
   "cell_type": "code",
   "execution_count": 17,
   "id": "eb7bb293-ecae-4249-b996-15a9b0fce170",
   "metadata": {
    "execution": {
     "iopub.execute_input": "2023-04-25T01:35:18.599818Z",
     "iopub.status.busy": "2023-04-25T01:35:18.598821Z",
     "iopub.status.idle": "2023-04-25T01:35:18.848803Z",
     "shell.execute_reply": "2023-04-25T01:35:18.848803Z",
     "shell.execute_reply.started": "2023-04-25T01:35:18.599818Z"
    },
    "tags": []
   },
   "outputs": [],
   "source": [
    "person_collection = {}\n",
    "for data_source in master_cols_dict[\"PERSON\"].keys():\n",
    "    person_collection[f\"person_{data_source}\"] = (\n",
    "        master_df[master_cols_dict[\"PERSON\"][data_source]]\n",
    "        .dropna(\n",
    "            how=\"all\",\n",
    "            subset=set(master_cols_dict[\"PERSON\"][data_source])\n",
    "            - set([\"PERSON.NUMBER\"]),\n",
    "        )\n",
    "        .dropna(\n",
    "            how=\"all\",\n",
    "            subset=set(master_cols_dict[\"PERSON\"][data_source])\n",
    "            & set([\"PERSON.NUMBER\", \"Contributor.ID_(AS)\", \"Personnel.Number_(FMP)\"]),\n",
    "        )\n",
    "        .sort_values(\"PERSON.NUMBER\")\n",
    "        .drop_duplicates()\n",
    "        .reset_index(drop=True)\n",
    "    )\n",
    "    if data_source == \"CO-clips\":\n",
    "        person_collection[f\"person_{data_source}\"] = (\n",
    "            person_collection[f\"person_{data_source}\"]\n",
    "            .dropna(\n",
    "                subset=[\n",
    "                    \"Video.Id.description_(CO-clips)\",\n",
    "                    \"Video.ID_(CO-vids)\",\n",
    "                    \"Source.3_(Co-clips)\",\n",
    "                ],\n",
    "                how=\"all\",\n",
    "            )\n",
    "            .sort_values(\"PERSON.NUMBER\")\n",
    "            .reset_index(drop=True)\n",
    "        )\n",
    "    elif data_source == \"AS\":\n",
    "        person_collection[f\"person_{data_source}\"] = (\n",
    "            person_collection[f\"person_{data_source}\"]\n",
    "            .dropna(\n",
    "                subset=[\n",
    "                    \"Contributor.ID_(AS)\",\n",
    "                    \"Gender_(AS)\",\n",
    "                    \"Contributor.Function.1_(AS)\",\n",
    "                    \"Contributor.Function.2_(AS)\",\n",
    "                    \"Contributor.Function.3_(AS)\",\n",
    "                ],\n",
    "                how=\"all\",\n",
    "            )\n",
    "            .sort_values(\"PERSON.NUMBER\")\n",
    "            .reset_index(drop=True)\n",
    "        )\n",
    "\n",
    "for data_source in master_cols_dict[\"PERSON\"].keys():\n",
    "    if data_source in [\"AS\", \"FMP\", \"CO-clips\"]:\n",
    "        if data_source == \"CO-clips\":\n",
    "            role_coll_name = \"role_CO-vids\"\n",
    "        else:\n",
    "            role_coll_name = f\"role_{data_source}\"\n",
    "        person_role_link = pd.DataFrame()\n",
    "        for attr_name in role_collection[role_coll_name][\"ori_attr_name\"].unique():\n",
    "            person_role_link = pd.concat(\n",
    "                [\n",
    "                    person_role_link,\n",
    "                    person_collection[f\"person_{data_source}\"][[attr_name]]\n",
    "                    .dropna(subset=attr_name)\n",
    "                    .reset_index()\n",
    "                    .merge(\n",
    "                        role_collection[role_coll_name][\n",
    "                            role_collection[role_coll_name][\"ori_attr_name\"]\n",
    "                            == attr_name\n",
    "                        ],\n",
    "                        left_on=attr_name,\n",
    "                        right_on=\"ori_attr_value\",\n",
    "                        how=\"left\",\n",
    "                    )\n",
    "                    .drop([\"ori_attr_value\", attr_name], axis=1),\n",
    "                ]\n",
    "            )\n",
    "        person_collection[f\"person_{data_source}\"] = person_collection[\n",
    "            f\"person_{data_source}\"\n",
    "        ].merge(\n",
    "            person_role_link.drop_duplicates().set_index(\"index\"),\n",
    "            left_index=True,\n",
    "            right_index=True,\n",
    "            how=\"left\",\n",
    "        )"
   ]
  },
  {
   "cell_type": "markdown",
   "id": "684c10ed-aa37-4d62-92e3-722fcb7280be",
   "metadata": {
    "toc-hr-collapsed": true
   },
   "source": [
    "## Import to DB"
   ]
  },
  {
   "cell_type": "code",
   "execution_count": 18,
   "id": "ed63a879-906c-4237-b627-51285cf80bbf",
   "metadata": {
    "execution": {
     "iopub.execute_input": "2023-04-25T01:35:18.850798Z",
     "iopub.status.busy": "2023-04-25T01:35:18.849801Z",
     "iopub.status.idle": "2023-04-25T01:35:18.865759Z",
     "shell.execute_reply": "2023-04-25T01:35:18.864761Z",
     "shell.execute_reply.started": "2023-04-25T01:35:18.850798Z"
    },
    "tags": []
   },
   "outputs": [],
   "source": [
    "def table_import(import_df, created_table_name, primary_keys=[], foreign_keys=[]):\n",
    "\n",
    "    \"\"\"\n",
    "    \"\"\"\n",
    "\n",
    "    sql_sent = []\n",
    "    for col in import_df.columns:\n",
    "        if col in primary_keys:\n",
    "            sql_sent.append(f\"`{col}` PRIMARY KEY\")\n",
    "        else:\n",
    "            sql_sent.append(f\"`{col}`\")\n",
    "    for local_key, ref_table, ref_key in foreign_keys:\n",
    "        sql_sent.append(\n",
    "            f\"FOREIGN KEY(`{local_key}`) REFERENCES `{ref_table}`(`{ref_key}`)\"\n",
    "        )\n",
    "\n",
    "    c.executescript(\n",
    "        f\"\"\"\n",
    "        DROP TABLE IF EXISTS `{created_table_name}`;\n",
    "        CREATE TABLE {created_table_name} ({\", \".join(sql_sent)});\n",
    "    \"\"\"\n",
    "    )\n",
    "\n",
    "    import_df.to_sql(name=created_table_name, con=conn, if_exists=\"append\", index=False)"
   ]
  },
  {
   "cell_type": "code",
   "execution_count": 19,
   "id": "85343778-164a-47ea-a31b-545c86835be7",
   "metadata": {
    "execution": {
     "iopub.execute_input": "2023-04-25T01:35:18.868751Z",
     "iopub.status.busy": "2023-04-25T01:35:18.867753Z",
     "iopub.status.idle": "2023-04-25T01:35:22.907161Z",
     "shell.execute_reply": "2023-04-25T01:35:22.905164Z",
     "shell.execute_reply.started": "2023-04-25T01:35:18.868751Z"
    },
    "tags": []
   },
   "outputs": [],
   "source": [
    "conn = sqlite3.connect(os.path.join(data_folder, \"circuzOz_draft.db\"))\n",
    "c = conn.cursor()\n",
    "\n",
    "\n",
    "#####\n",
    "# Import venue relative tables\n",
    "#####\n",
    "table_import(\n",
    "    import_df=venue_collection[\"venue\"],\n",
    "    created_table_name=\"VENUE\",\n",
    "    foreign_keys=[(\"EVENT.NUMBER\", \"EVENT\", \"EVENT.NUMBER\")],\n",
    ")\n",
    "\n",
    "table_import(\n",
    "    import_df=venue_collection[\"venue_FMP\"],\n",
    "    created_table_name=\"VENUE_FMP\",\n",
    "    primary_keys=[],\n",
    "    foreign_keys=[(\"EVENT.NUMBER\", \"EVENT\", \"EVENT.NUMBER\")],\n",
    ")\n",
    "\n",
    "table_import(\n",
    "    import_df=venue_collection[\"venue_AS\"],\n",
    "    created_table_name=\"VENUE_AS\",\n",
    "    primary_keys=[],\n",
    "    foreign_keys=[(\"EVENT.NUMBER\", \"EVENT\", \"EVENT.NUMBER\")],\n",
    ")\n",
    "\n",
    "table_import(\n",
    "    import_df=venue_collection[\"venue_CO-vids\"],\n",
    "    created_table_name=\"VENUE_CO\",\n",
    "    primary_keys=[],\n",
    "    foreign_keys=[(\"EVENT.NUMBER\", \"EVENT\", \"EVENT.NUMBER\")],\n",
    ")\n",
    "#####\n",
    "# Import role relative tables\n",
    "#####\n",
    "table_import(\n",
    "    import_df=role_collection[\"role\"],\n",
    "    created_table_name=\"ROLE\",\n",
    "    primary_keys=[\"ROLE.NUMBER\"],\n",
    "    foreign_keys=[],\n",
    ")\n",
    "\n",
    "table_import(\n",
    "    import_df=role_collection[\"role_FMP\"],\n",
    "    created_table_name=\"ROLE_FMP\",\n",
    "    primary_keys=[],\n",
    "    foreign_keys=[(\"ROLE.NUMBER\", \"ROLE\", \"ROLE.NUMBER\")],\n",
    ")\n",
    "\n",
    "table_import(\n",
    "    import_df=role_collection[\"role_AS\"],\n",
    "    created_table_name=\"ROLE_AS\",\n",
    "    primary_keys=[],\n",
    "    foreign_keys=[(\"ROLE.NUMBER\", \"ROLE\", \"ROLE.NUMBER\")],\n",
    ")\n",
    "\n",
    "table_import(\n",
    "    import_df=role_collection[\"role_CO-vids\"],\n",
    "    created_table_name=\"ROLE_CO\",\n",
    "    primary_keys=[],\n",
    "    foreign_keys=[(\"ROLE.NUMBER\", \"ROLE\", \"ROLE.NUMBER\")],\n",
    ")\n",
    "#####\n",
    "# Import person relative tables\n",
    "#####\n",
    "table_import(\n",
    "    import_df=person_collection[\"person_cleaned\"],\n",
    "    created_table_name=\"PERSON\",\n",
    "    primary_keys=[],\n",
    "    foreign_keys=[],\n",
    ")\n",
    "\n",
    "table_import(\n",
    "    import_df=person_collection[\"person_AS\"],\n",
    "    created_table_name=\"PERSON_AS\",\n",
    "    primary_keys=[],\n",
    "    foreign_keys=[\n",
    "        (\"PERSON.NUMBER\", \"PERSON\", \"PERSON.NUMBER\"),\n",
    "        (\"ROLE.NUMBER\", \"ROLE\", \"ROLE.NUMBER\"),\n",
    "    ],\n",
    ")\n",
    "table_import(\n",
    "    import_df=person_collection[\"person_FMP\"],\n",
    "    created_table_name=\"person_FMP\",\n",
    "    primary_keys=[],\n",
    "    foreign_keys=[\n",
    "        (\"PERSON.NUMBER\", \"PERSON\", \"PERSON.NUMBER\"),\n",
    "        (\"ROLE.NUMBER\", \"ROLE\", \"ROLE.NUMBER\"),\n",
    "    ],\n",
    ")\n",
    "table_import(\n",
    "    import_df=person_collection[\"person_CO-clips\"],\n",
    "    created_table_name=\"PERSON_CO\",\n",
    "    primary_keys=[],\n",
    "    foreign_keys=[\n",
    "        (\"PERSON.NUMBER\", \"PERSON\", \"PERSON.NUMBER\"),\n",
    "        (\"ROLE.NUMBER\", \"ROLE\", \"ROLE.NUMBER\"),\n",
    "    ],\n",
    ")\n",
    "#####\n",
    "# Import event relative tables\n",
    "#####\n",
    "table_import(\n",
    "    import_df=event_collection[\"event_cleaned\"],\n",
    "    created_table_name=\"EVENT\",\n",
    "    primary_keys=[],\n",
    "    foreign_keys=[(\"PERSON.NUMBER\", \"PERSON\", \"PERSON.NUMBER\"),],\n",
    ")\n",
    "\n",
    "table_import(\n",
    "    import_df=event_collection[\"event_AS\"],\n",
    "    created_table_name=\"EVENT_AS\",\n",
    "    foreign_keys=[(\"EVENT.NUMBER\", \"EVENT\", \"EVENT.NUMBER\"),],\n",
    ")\n",
    "table_import(\n",
    "    import_df=event_collection[\"event_FMP\"],\n",
    "    created_table_name=\"event_FMP\",\n",
    "    primary_keys=[],\n",
    "    foreign_keys=[(\"EVENT.NUMBER\", \"EVENT\", \"EVENT.NUMBER\"),],\n",
    ")"
   ]
  },
  {
   "cell_type": "code",
   "execution_count": 20,
   "id": "9912ee49-4df5-4a84-9b04-bfe3d313d035",
   "metadata": {
    "execution": {
     "iopub.execute_input": "2023-04-25T01:35:22.909154Z",
     "iopub.status.busy": "2023-04-25T01:35:22.909154Z",
     "iopub.status.idle": "2023-04-25T01:35:24.053481Z",
     "shell.execute_reply": "2023-04-25T01:35:24.051481Z",
     "shell.execute_reply.started": "2023-04-25T01:35:22.909154Z"
    },
    "tags": []
   },
   "outputs": [],
   "source": [
    "#####\n",
    "# Import views for loading\n",
    "#####\n",
    "with open('../../codes/circuzoz/circuzoz_CreateViews.sql', 'r') as f:\n",
    "    sql_script = f.read()\n",
    "    c.executescript(sql_script)\n",
    "\n",
    "# Commit the changes\n",
    "conn.commit()\n",
    "\n",
    "# Close the connection\n",
    "conn.close()"
   ]
  },
  {
   "cell_type": "code",
   "execution_count": null,
   "id": "df1d5e1f-b504-43e8-a789-6409bfdfc526",
   "metadata": {},
   "outputs": [],
   "source": []
  }
 ],
 "metadata": {
  "kernelspec": {
   "display_name": "ACD_Engine",
   "language": "python",
   "name": "acd_engine"
  },
  "language_info": {
   "codemirror_mode": {
    "name": "ipython",
    "version": 3
   },
   "file_extension": ".py",
   "mimetype": "text/x-python",
   "name": "python",
   "nbconvert_exporter": "python",
   "pygments_lexer": "ipython3",
   "version": "3.9.13"
  }
 },
 "nbformat": 4,
 "nbformat_minor": 5
}
