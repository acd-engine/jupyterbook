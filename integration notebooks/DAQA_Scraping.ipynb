{
 "cells": [
  {
   "cell_type": "markdown",
   "metadata": {
    "id": "hFH8rVJRRoS6",
    "tags": []
   },
   "source": [
    "# [Digital Archive of Queensland Architecture](https://qldarch.net/) Data Scraping"
   ]
  },
  {
   "cell_type": "markdown",
   "metadata": {
    "id": "hFH8rVJRRoS6",
    "tags": []
   },
   "source": [
    "## 0. Setting"
   ]
  },
  {
   "cell_type": "code",
   "execution_count": 1,
   "metadata": {
    "colab": {
     "base_uri": "https://localhost:8080/"
    },
    "execution": {
     "iopub.execute_input": "2023-03-31T04:22:07.656090Z",
     "iopub.status.busy": "2023-03-31T04:22:07.656090Z",
     "iopub.status.idle": "2023-03-31T04:22:08.561849Z",
     "shell.execute_reply": "2023-03-31T04:22:08.560826Z",
     "shell.execute_reply.started": "2023-03-31T04:22:07.656090Z"
    },
    "id": "9PzYgmCpUu2p",
    "outputId": "0abf2ff5-1f41-4812-bd45-526593ac7c84",
    "tags": []
   },
   "outputs": [],
   "source": [
    "import copy\n",
    "import os\n",
    "import pprint\n",
    "\n",
    "from collections import defaultdict\n",
    "\n",
    "import pandas as pd\n",
    "from tqdm import tqdm\n",
    "\n",
    "pp = pprint.PrettyPrinter(indent=2)"
   ]
  },
  {
   "cell_type": "code",
   "execution_count": 2,
   "metadata": {
    "execution": {
     "iopub.execute_input": "2023-03-31T04:22:08.563818Z",
     "iopub.status.busy": "2023-03-31T04:22:08.562847Z",
     "iopub.status.idle": "2023-03-31T04:22:09.408557Z",
     "shell.execute_reply": "2023-03-31T04:22:09.407591Z",
     "shell.execute_reply.started": "2023-03-31T04:22:08.563818Z"
    },
    "id": "fjXYCD2xVffn",
    "tags": []
   },
   "outputs": [],
   "source": [
    "import sys\n",
    "\n",
    "codefolder = \"C:/ProjectCollections/Programs/Australia_Cultural_Data_Engine/codes\"\n",
    "\n",
    "data_folder = \"D:/Program_Data/Australia_Cultural_Data_Engine_Data/digital_archive_of_queensland_architecture\"\n",
    "\n",
    "sys.path.append(codefolder)\n",
    "\n",
    "from daqa import DataManipulation as daqa_dbmanip\n",
    "from daqa import WebScraping as daqa_webscrap\n",
    "\n",
    "daqa_scrap = daqa_webscrap.WebScraping()"
   ]
  },
  {
   "cell_type": "markdown",
   "metadata": {},
   "source": [
    "## 1. Set Up MongoDB Database for DAQA Scraping"
   ]
  },
  {
   "cell_type": "markdown",
   "metadata": {},
   "source": [
    "### 1.1 Create/Connect DAQA Database & Collections\n",
    "\n",
    "[How do I create a new database in MongoDB using PyMongo?](https://stackoverflow.com/questions/8566618/how-do-i-create-a-new-database-in-mongodb-using-pymongo/42039275#42039275)"
   ]
  },
  {
   "cell_type": "markdown",
   "metadata": {},
   "source": [
    "### 1.2 Drop DAQA Database & Collections"
   ]
  },
  {
   "cell_type": "code",
   "execution_count": 3,
   "metadata": {
    "execution": {
     "iopub.execute_input": "2023-03-31T01:18:14.695448Z",
     "iopub.status.busy": "2023-03-31T01:18:14.695448Z",
     "iopub.status.idle": "2023-03-31T01:18:14.724373Z",
     "shell.execute_reply": "2023-03-31T01:18:14.723373Z",
     "shell.execute_reply.started": "2023-03-31T01:18:14.695448Z"
    },
    "tags": []
   },
   "outputs": [],
   "source": [
    "# daqa_scrap.daqa_db.drop_collection(collection_name)\n",
    "daqa_scrap.localclient.drop_database('daqa_scraped')\n",
    "\n",
    "# mycol = mydb[\"daqa_scraped\"]\n",
    "# collist = mydb.list_collection_names()"
   ]
  },
  {
   "cell_type": "markdown",
   "metadata": {},
   "source": [
    "## 2. Scrap All Records\n",
    "\n",
    "https://qldarch.net/ws/search?\n",
    "\n",
    "[MongoDB SELECT COUNT GROUP BY](https://stackoverflow.com/questions/23116330/mongodb-select-count-group-by)"
   ]
  },
  {
   "cell_type": "markdown",
   "metadata": {},
   "source": [
    "### 2.1 Scraping and Storing"
   ]
  },
  {
   "cell_type": "code",
   "execution_count": 4,
   "metadata": {
    "execution": {
     "iopub.execute_input": "2023-03-31T01:18:14.729356Z",
     "iopub.status.busy": "2023-03-31T01:18:14.728360Z",
     "iopub.status.idle": "2023-03-31T01:18:33.940814Z",
     "shell.execute_reply": "2023-03-31T01:18:33.937822Z",
     "shell.execute_reply.started": "2023-03-31T01:18:14.729356Z"
    },
    "scrolled": true,
    "tags": []
   },
   "outputs": [
    {
     "name": "stderr",
     "output_type": "stream",
     "text": [
      "store_objects: 100%|████████████████████████████████████████████████████████████| 12589/12589 [00:17<00:00, 699.59it/s]\n"
     ]
    }
   ],
   "source": [
    "# erase all records in objects collection\n",
    "daqa_scrap.all_obj_coll.drop()\n",
    "daqa_scrap.relationship_coll.drop()\n",
    "\n",
    "daqa_scrap.store_daqa_objs(query_terms=\"q=*\", page_count=1000)"
   ]
  },
  {
   "cell_type": "markdown",
   "metadata": {},
   "source": [
    "### 2.2 Type Checking"
   ]
  },
  {
   "cell_type": "code",
   "execution_count": 5,
   "metadata": {
    "execution": {
     "iopub.execute_input": "2023-03-31T01:18:33.946805Z",
     "iopub.status.busy": "2023-03-31T01:18:33.945808Z",
     "iopub.status.idle": "2023-03-31T01:18:34.030025Z",
     "shell.execute_reply": "2023-03-31T01:18:34.029058Z",
     "shell.execute_reply.started": "2023-03-31T01:18:33.945808Z"
    },
    "jupyter": {
     "source_hidden": true
    },
    "scrolled": true,
    "tags": []
   },
   "outputs": [
    {
     "data": {
      "text/html": [
       "<div>\n",
       "<style scoped>\n",
       "    .dataframe tbody tr th:only-of-type {\n",
       "        vertical-align: middle;\n",
       "    }\n",
       "\n",
       "    .dataframe tbody tr th {\n",
       "        vertical-align: top;\n",
       "    }\n",
       "\n",
       "    .dataframe thead th {\n",
       "        text-align: right;\n",
       "    }\n",
       "</style>\n",
       "<table border=\"1\" class=\"dataframe\">\n",
       "  <thead>\n",
       "    <tr style=\"text-align: right;\">\n",
       "      <th></th>\n",
       "      <th></th>\n",
       "      <th>count</th>\n",
       "    </tr>\n",
       "    <tr>\n",
       "      <th>_id.category</th>\n",
       "      <th>_id.type</th>\n",
       "      <th></th>\n",
       "    </tr>\n",
       "  </thead>\n",
       "  <tbody>\n",
       "    <tr>\n",
       "      <th rowspan=\"13\" valign=\"top\">archobj</th>\n",
       "      <th>structure</th>\n",
       "      <td>2163</td>\n",
       "    </tr>\n",
       "    <tr>\n",
       "      <th>person</th>\n",
       "      <td>1099</td>\n",
       "    </tr>\n",
       "    <tr>\n",
       "      <th>firm</th>\n",
       "      <td>901</td>\n",
       "    </tr>\n",
       "    <tr>\n",
       "      <th>article</th>\n",
       "      <td>783</td>\n",
       "    </tr>\n",
       "    <tr>\n",
       "      <th>interview</th>\n",
       "      <td>91</td>\n",
       "    </tr>\n",
       "    <tr>\n",
       "      <th>publication</th>\n",
       "      <td>46</td>\n",
       "    </tr>\n",
       "    <tr>\n",
       "      <th>topic</th>\n",
       "      <td>44</td>\n",
       "    </tr>\n",
       "    <tr>\n",
       "      <th>education</th>\n",
       "      <td>39</td>\n",
       "    </tr>\n",
       "    <tr>\n",
       "      <th>award</th>\n",
       "      <td>27</td>\n",
       "    </tr>\n",
       "    <tr>\n",
       "      <th>event</th>\n",
       "      <td>21</td>\n",
       "    </tr>\n",
       "    <tr>\n",
       "      <th>place</th>\n",
       "      <td>19</td>\n",
       "    </tr>\n",
       "    <tr>\n",
       "      <th>organisation</th>\n",
       "      <td>15</td>\n",
       "    </tr>\n",
       "    <tr>\n",
       "      <th>government</th>\n",
       "      <td>6</td>\n",
       "    </tr>\n",
       "    <tr>\n",
       "      <th rowspan=\"10\" valign=\"top\">media</th>\n",
       "      <th>Photograph</th>\n",
       "      <td>4016</td>\n",
       "    </tr>\n",
       "    <tr>\n",
       "      <th>LineDrawing</th>\n",
       "      <td>1152</td>\n",
       "    </tr>\n",
       "    <tr>\n",
       "      <th>Image</th>\n",
       "      <td>1007</td>\n",
       "    </tr>\n",
       "    <tr>\n",
       "      <th>Article</th>\n",
       "      <td>686</td>\n",
       "    </tr>\n",
       "    <tr>\n",
       "      <th>Audio</th>\n",
       "      <td>142</td>\n",
       "    </tr>\n",
       "    <tr>\n",
       "      <th>Transcript</th>\n",
       "      <td>128</td>\n",
       "    </tr>\n",
       "    <tr>\n",
       "      <th>Portrait</th>\n",
       "      <td>113</td>\n",
       "    </tr>\n",
       "    <tr>\n",
       "      <th>Youtube</th>\n",
       "      <td>46</td>\n",
       "    </tr>\n",
       "    <tr>\n",
       "      <th>Video</th>\n",
       "      <td>42</td>\n",
       "    </tr>\n",
       "    <tr>\n",
       "      <th>Spreadsheet</th>\n",
       "      <td>3</td>\n",
       "    </tr>\n",
       "  </tbody>\n",
       "</table>\n",
       "</div>"
      ],
      "text/plain": [
       "                           count\n",
       "_id.category _id.type           \n",
       "archobj      structure      2163\n",
       "             person         1099\n",
       "             firm            901\n",
       "             article         783\n",
       "             interview        91\n",
       "             publication      46\n",
       "             topic            44\n",
       "             education        39\n",
       "             award            27\n",
       "             event            21\n",
       "             place            19\n",
       "             organisation     15\n",
       "             government        6\n",
       "media        Photograph     4016\n",
       "             LineDrawing    1152\n",
       "             Image          1007\n",
       "             Article         686\n",
       "             Audio           142\n",
       "             Transcript      128\n",
       "             Portrait        113\n",
       "             Youtube          46\n",
       "             Video            42\n",
       "             Spreadsheet       3"
      ]
     },
     "execution_count": 5,
     "metadata": {},
     "output_type": "execute_result"
    }
   ],
   "source": [
    "objects_summary = list(\n",
    "    daqa_scrap.all_obj_coll.aggregate(\n",
    "        [\n",
    "            {\n",
    "                \"$group\": {\n",
    "                    \"_id\": {\"category\": \"$category\", \"type\": \"$type\"},\n",
    "                    \"count\": {\"$sum\": 1},\n",
    "                }\n",
    "            },\n",
    "            {\"$sort\": {\"_id.category\": 1, \"count\": -1}},\n",
    "        ]\n",
    "    )\n",
    ")\n",
    "objects_summary = pd.json_normalize(objects_summary).set_index(\n",
    "    [\"_id.category\", \"_id.type\"]\n",
    ")\n",
    "objects_summary"
   ]
  },
  {
   "cell_type": "markdown",
   "metadata": {},
   "source": [
    "## 3. Scrap Key Objects"
   ]
  },
  {
   "cell_type": "markdown",
   "metadata": {
    "id": "Obo1zo0GAE0O"
   },
   "source": [
    "### Persons (and Their Relationships) Scraping & Storing"
   ]
  },
  {
   "cell_type": "code",
   "execution_count": 6,
   "metadata": {
    "colab": {
     "base_uri": "https://localhost:8080/"
    },
    "execution": {
     "iopub.execute_input": "2023-03-31T01:18:34.032020Z",
     "iopub.status.busy": "2023-03-31T01:18:34.032020Z",
     "iopub.status.idle": "2023-03-31T01:21:51.655404Z",
     "shell.execute_reply": "2023-03-31T01:21:51.652444Z",
     "shell.execute_reply.started": "2023-03-31T01:18:34.032020Z"
    },
    "id": "RBq1N_gzfkaQ",
    "outputId": "9c0820cd-d27b-4c9d-fa4b-997fbd0f9b35",
    "scrolled": true,
    "tags": []
   },
   "outputs": [
    {
     "name": "stdout",
     "output_type": "stream",
     "text": [
      "All records in person collection are erased!\n"
     ]
    },
    {
     "name": "stderr",
     "output_type": "stream",
     "text": [
      "architects: 100%|█████████████████████████████████████████████████████████████████▉| 1100/1101 [03:17<00:00,  5.58it/s]\n"
     ]
    }
   ],
   "source": [
    "daqa_scrap.person_coll.drop()\n",
    "print(f\"All records in {daqa_scrap.person_coll.name} collection are erased!\")\n",
    "\n",
    "daqa_scrap.store_keyobjs(\n",
    "    obj_name=\"architects\", obj_query=[\"person\"], obj_coll=daqa_scrap.person_coll,\n",
    ")"
   ]
  },
  {
   "cell_type": "markdown",
   "metadata": {
    "id": "Obo1zo0GAE0O"
   },
   "source": [
    "### Firms  (and Their Relationships) Scraping & Storing"
   ]
  },
  {
   "cell_type": "code",
   "execution_count": 7,
   "metadata": {
    "execution": {
     "iopub.execute_input": "2023-03-31T01:21:51.658432Z",
     "iopub.status.busy": "2023-03-31T01:21:51.658432Z",
     "iopub.status.idle": "2023-03-31T01:24:20.002139Z",
     "shell.execute_reply": "2023-03-31T01:24:20.000142Z",
     "shell.execute_reply.started": "2023-03-31T01:21:51.658432Z"
    },
    "tags": []
   },
   "outputs": [
    {
     "name": "stdout",
     "output_type": "stream",
     "text": [
      "All records in firm collection are erased!\n"
     ]
    },
    {
     "name": "stderr",
     "output_type": "stream",
     "text": [
      "firms: 100%|█████████████████████████████████████████████████████████████████████████| 904/904 [02:28<00:00,  6.11it/s]\n"
     ]
    }
   ],
   "source": [
    "daqa_scrap.firm_coll.drop()\n",
    "print(f\"All records in {daqa_scrap.firm_coll.name} collection are erased!\")\n",
    "\n",
    "daqa_scrap.store_keyobjs(\n",
    "    obj_name=\"firms\", obj_query=[\"firm\"], obj_coll=daqa_scrap.firm_coll,\n",
    ")"
   ]
  },
  {
   "cell_type": "markdown",
   "metadata": {
    "id": "Obo1zo0GAE0O"
   },
   "source": [
    "### Projects  (and Their Relationships) Scraping & Storing"
   ]
  },
  {
   "cell_type": "code",
   "execution_count": 8,
   "metadata": {
    "execution": {
     "iopub.execute_input": "2023-03-31T01:24:20.006125Z",
     "iopub.status.busy": "2023-03-31T01:24:20.004135Z",
     "iopub.status.idle": "2023-03-31T01:30:07.789539Z",
     "shell.execute_reply": "2023-03-31T01:30:07.788546Z",
     "shell.execute_reply.started": "2023-03-31T01:24:20.006125Z"
    },
    "scrolled": true,
    "tags": []
   },
   "outputs": [
    {
     "name": "stdout",
     "output_type": "stream",
     "text": [
      "All records in structure collection are erased!\n"
     ]
    },
    {
     "name": "stderr",
     "output_type": "stream",
     "text": [
      "projects: 100%|████████████████████████████████████████████████████████████████████| 2175/2175 [05:47<00:00,  6.26it/s]\n"
     ]
    }
   ],
   "source": [
    "daqa_scrap.stru_coll.drop()\n",
    "print(f\"All records in {daqa_scrap.stru_coll.name} collection are erased!\")\n",
    "\n",
    "daqa_scrap.store_keyobjs(\n",
    "    obj_name=\"projects\", obj_query=[\"structure\"], obj_coll=daqa_scrap.stru_coll,\n",
    ")"
   ]
  },
  {
   "cell_type": "code",
   "execution_count": 9,
   "metadata": {
    "execution": {
     "iopub.execute_input": "2023-03-31T01:30:07.791534Z",
     "iopub.status.busy": "2023-03-31T01:30:07.791534Z",
     "iopub.status.idle": "2023-03-31T01:42:11.976970Z",
     "shell.execute_reply": "2023-03-31T01:42:11.973980Z",
     "shell.execute_reply.started": "2023-03-31T01:30:07.791534Z"
    },
    "scrolled": true,
    "tags": []
   },
   "outputs": [
    {
     "name": "stderr",
     "output_type": "stream",
     "text": [
      "add_location_details:  14%|███████▋                                             | 1447/10000 [12:04<1:11:20,  2.00it/s]\n"
     ]
    }
   ],
   "source": [
    "with tqdm(total=10 ** 4, desc=\"add_location_details\") as t:\n",
    "    for stru in daqa_scrap.stru_coll.find(\n",
    "        {\"latitude\": {\"$exists\": 1}, \"longitude\": {\"$exists\": 1}},\n",
    "        {\"latitude\": 1, \"longitude\": 1},\n",
    "    ):\n",
    "        location_details = daqa_scrap.get_loc(\n",
    "            stru.get(\"latitude\"), stru.get(\"longitude\")\n",
    "        )\n",
    "        if location_details:\n",
    "            daqa_scrap.stru_coll.update_one(\n",
    "                {\"_id\": stru[\"_id\"]},\n",
    "                {\"$set\": {\"coord_loc_details\": location_details.raw}},\n",
    "            )\n",
    "            t.update(1)"
   ]
  },
  {
   "cell_type": "markdown",
   "metadata": {},
   "source": [
    "### Interviews  (and Their Relationships) Scraping & Storing"
   ]
  },
  {
   "cell_type": "code",
   "execution_count": 10,
   "metadata": {
    "execution": {
     "iopub.execute_input": "2023-03-31T01:42:11.989933Z",
     "iopub.status.busy": "2023-03-31T01:42:11.988939Z",
     "iopub.status.idle": "2023-03-31T01:42:35.557909Z",
     "shell.execute_reply": "2023-03-31T01:42:35.555902Z",
     "shell.execute_reply.started": "2023-03-31T01:42:11.989933Z"
    },
    "jupyter": {
     "source_hidden": true
    },
    "tags": []
   },
   "outputs": [
    {
     "name": "stdout",
     "output_type": "stream",
     "text": [
      "All records in interview collection are erased!\n",
      "https://qldarch.net/ws/interviews: 500\n"
     ]
    },
    {
     "name": "stderr",
     "output_type": "stream",
     "text": [
      "interviews: 100%|██████████████████████████████████████████████████████████████████████| 91/91 [00:23<00:00,  3.94it/s]\n"
     ]
    }
   ],
   "source": [
    "daqa_scrap.interview_coll.drop()\n",
    "print(f\"All records in {daqa_scrap.interview_coll.name} collection are erased!\")\n",
    "\n",
    "daqa_scrap.store_keyobjs(\n",
    "    obj_name=\"interviews\", obj_query=[\"interview\"], obj_coll=daqa_scrap.interview_coll,\n",
    ")"
   ]
  },
  {
   "cell_type": "markdown",
   "metadata": {},
   "source": [
    "### Articles (and Their Relationships) Scraping & Storing"
   ]
  },
  {
   "cell_type": "code",
   "execution_count": 11,
   "metadata": {
    "execution": {
     "iopub.execute_input": "2023-03-31T01:42:35.559894Z",
     "iopub.status.busy": "2023-03-31T01:42:35.558905Z",
     "iopub.status.idle": "2023-03-31T01:44:17.863190Z",
     "shell.execute_reply": "2023-03-31T01:44:17.861200Z",
     "shell.execute_reply.started": "2023-03-31T01:42:35.559894Z"
    },
    "jupyter": {
     "source_hidden": true
    },
    "scrolled": true,
    "tags": []
   },
   "outputs": [
    {
     "name": "stdout",
     "output_type": "stream",
     "text": [
      "All records in article collection are erased!\n"
     ]
    },
    {
     "name": "stderr",
     "output_type": "stream",
     "text": [
      "articles: 100%|██████████████████████████████████████████████████████████████████████| 783/783 [01:42<00:00,  7.67it/s]\n"
     ]
    }
   ],
   "source": [
    "daqa_scrap.article_coll.drop()\n",
    "print(f\"All records in {daqa_scrap.article_coll.name} collection are erased!\")\n",
    "\n",
    "daqa_scrap.store_keyobjs(\n",
    "    obj_name=\"articles\", obj_query=[\"article\"], obj_coll=daqa_scrap.article_coll,\n",
    ")"
   ]
  },
  {
   "cell_type": "markdown",
   "metadata": {},
   "source": [
    "## 4. Records Supplement"
   ]
  },
  {
   "cell_type": "markdown",
   "metadata": {
    "tags": []
   },
   "source": [
    "### Add Other Archival Objects Existing in `all_obj_coll`"
   ]
  },
  {
   "cell_type": "code",
   "execution_count": 12,
   "metadata": {
    "execution": {
     "iopub.execute_input": "2023-03-31T01:44:17.865184Z",
     "iopub.status.busy": "2023-03-31T01:44:17.865184Z",
     "iopub.status.idle": "2023-03-31T01:44:53.047910Z",
     "shell.execute_reply": "2023-03-31T01:44:53.046907Z",
     "shell.execute_reply.started": "2023-03-31T01:44:17.865184Z"
    },
    "jupyter": {
     "source_hidden": true
    },
    "tags": []
   },
   "outputs": [
    {
     "name": "stdout",
     "output_type": "stream",
     "text": [
      "https://qldarch.net/ws/awards: 404\n"
     ]
    },
    {
     "name": "stderr",
     "output_type": "stream",
     "text": [
      "awards: 100%|██████████████████████████████████████████████████████████████████████████| 27/27 [00:04<00:00,  5.68it/s]\n"
     ]
    },
    {
     "name": "stdout",
     "output_type": "stream",
     "text": [
      "https://qldarch.net/ws/educations: 404\n"
     ]
    },
    {
     "name": "stderr",
     "output_type": "stream",
     "text": [
      "educations: 100%|██████████████████████████████████████████████████████████████████████| 39/39 [00:07<00:00,  5.39it/s]\n"
     ]
    },
    {
     "name": "stdout",
     "output_type": "stream",
     "text": [
      "https://qldarch.net/ws/events: 404\n"
     ]
    },
    {
     "name": "stderr",
     "output_type": "stream",
     "text": [
      "events: 100%|██████████████████████████████████████████████████████████████████████████| 21/21 [00:03<00:00,  6.45it/s]\n"
     ]
    },
    {
     "name": "stdout",
     "output_type": "stream",
     "text": [
      "https://qldarch.net/ws/governments: 404\n"
     ]
    },
    {
     "name": "stderr",
     "output_type": "stream",
     "text": [
      "governments: 100%|███████████████████████████████████████████████████████████████████████| 6/6 [00:00<00:00,  6.12it/s]\n"
     ]
    },
    {
     "name": "stdout",
     "output_type": "stream",
     "text": [
      "https://qldarch.net/ws/organisations: 404\n"
     ]
    },
    {
     "name": "stderr",
     "output_type": "stream",
     "text": [
      "organisations: 100%|███████████████████████████████████████████████████████████████████| 15/15 [00:02<00:00,  6.05it/s]\n"
     ]
    },
    {
     "name": "stdout",
     "output_type": "stream",
     "text": [
      "https://qldarch.net/ws/places: 404\n"
     ]
    },
    {
     "name": "stderr",
     "output_type": "stream",
     "text": [
      "places: 100%|██████████████████████████████████████████████████████████████████████████| 19/19 [00:02<00:00,  6.49it/s]\n"
     ]
    },
    {
     "name": "stdout",
     "output_type": "stream",
     "text": [
      "https://qldarch.net/ws/publications: 404\n"
     ]
    },
    {
     "name": "stderr",
     "output_type": "stream",
     "text": [
      "publications: 100%|████████████████████████████████████████████████████████████████████| 46/46 [00:05<00:00,  7.76it/s]\n"
     ]
    },
    {
     "name": "stdout",
     "output_type": "stream",
     "text": [
      "https://qldarch.net/ws/topics: 404\n"
     ]
    },
    {
     "name": "stderr",
     "output_type": "stream",
     "text": [
      "topics: 100%|██████████████████████████████████████████████████████████████████████████| 44/44 [00:06<00:00,  6.74it/s]\n"
     ]
    }
   ],
   "source": [
    "for other_obj in daqa_scrap.all_obj_coll.find({\"category\": \"archobj\"}).distinct(\"type\"):\n",
    "    if other_obj not in daqa_scrap.key_archobjs:\n",
    "        daqa_scrap.daqa_db[other_obj].drop()\n",
    "        daqa_scrap.store_keyobjs(\n",
    "            obj_name=f\"{other_obj}s\",\n",
    "            obj_query=[other_obj],\n",
    "            obj_coll=daqa_scrap.daqa_db[other_obj],\n",
    "        )"
   ]
  },
  {
   "cell_type": "markdown",
   "metadata": {
    "tags": []
   },
   "source": [
    "### Add Media Existing in `all_obj_coll`"
   ]
  },
  {
   "cell_type": "code",
   "execution_count": 13,
   "metadata": {
    "execution": {
     "iopub.execute_input": "2023-03-31T01:44:53.049879Z",
     "iopub.status.busy": "2023-03-31T01:44:53.048876Z",
     "iopub.status.idle": "2023-03-31T01:45:53.244762Z",
     "shell.execute_reply": "2023-03-31T01:45:53.243795Z",
     "shell.execute_reply.started": "2023-03-31T01:44:53.049879Z"
    },
    "tags": []
   },
   "outputs": [
    {
     "name": "stdout",
     "output_type": "stream",
     "text": [
      "All records in media collection are erased!\n"
     ]
    },
    {
     "name": "stderr",
     "output_type": "stream",
     "text": [
      "media: 100%|██████████████████████████████████████████████████████████████████████| 6775/6775 [01:00<00:00, 112.65it/s]\n"
     ]
    }
   ],
   "source": [
    "daqa_scrap.daqa_db[\"media\"].drop()\n",
    "print(f\"All records in media collection are erased!\")\n",
    "\n",
    "media_ids = list(daqa_scrap.all_obj_coll.find({\"category\": \"media\"}).distinct(\"id\"))\n",
    "for media_id in tqdm(media_ids, total=len(media_ids), desc=\"media\", leave=True):\n",
    "    media_record = daqa_scrap.all_obj_coll.find_one(\n",
    "        {\"category\": \"media\", \"id\": media_id}, {\"_id\": 0}\n",
    "    )\n",
    "    # media_record[\"media_type\"] = media_record.get(\"type\")\n",
    "    # media_record.pop(\"type\")\n",
    "    daqa_scrap.daqa_db[\"media\"].insert_one(media_record)"
   ]
  },
  {
   "cell_type": "markdown",
   "metadata": {
    "tags": []
   },
   "source": [
    "### Relationships Supplement"
   ]
  },
  {
   "cell_type": "markdown",
   "metadata": {
    "tags": []
   },
   "source": [
    "#### Add Firms' Relationships\n",
    "\n",
    "This section extracts `PrecededBy` and `SucceededBy` relationships into `relationship` collection."
   ]
  },
  {
   "cell_type": "code",
   "execution_count": 14,
   "metadata": {
    "execution": {
     "iopub.execute_input": "2023-03-31T01:45:53.245789Z",
     "iopub.status.busy": "2023-03-31T01:45:53.245789Z",
     "iopub.status.idle": "2023-03-31T01:45:53.760381Z",
     "shell.execute_reply": "2023-03-31T01:45:53.759386Z",
     "shell.execute_reply.started": "2023-03-31T01:45:53.245789Z"
    },
    "tags": []
   },
   "outputs": [
    {
     "name": "stderr",
     "output_type": "stream",
     "text": [
      "firm_relationship_update:  34%|██████████████████▏                                  | 310/904 [00:00<00:00, 633.02it/s]\n"
     ]
    }
   ],
   "source": [
    "rnid_start = daqa_dbmanip.get_collectionNewIdMax(\n",
    "    daqa_scrap.relationship_coll, \"relationshipid\"\n",
    ")\n",
    "daqa_scrap.update_firm_relationships(fr_id_start=rnid_start + 1)"
   ]
  },
  {
   "cell_type": "markdown",
   "metadata": {
    "tags": []
   },
   "source": [
    "#### Add (archobj) `article`' Relationships"
   ]
  },
  {
   "cell_type": "code",
   "execution_count": 15,
   "metadata": {
    "execution": {
     "iopub.execute_input": "2023-03-31T01:45:53.761410Z",
     "iopub.status.busy": "2023-03-31T01:45:53.761410Z",
     "iopub.status.idle": "2023-03-31T01:45:53.791298Z",
     "shell.execute_reply": "2023-03-31T01:45:53.790326Z",
     "shell.execute_reply.started": "2023-03-31T01:45:53.761410Z"
    },
    "scrolled": true,
    "tags": []
   },
   "outputs": [],
   "source": [
    "updated_colls = [\n",
    "    daqa_scrap.firm_coll,\n",
    "    daqa_scrap.person_coll,\n",
    "    daqa_scrap.interview_coll,\n",
    "    daqa_scrap.stru_coll,\n",
    "]\n",
    "rnid_start = daqa_dbmanip.get_collectionNewIdMax(\n",
    "    daqa_scrap.relationship_coll, \"relationshipid\"\n",
    ")\n",
    "# daqa_scrap.update_articlesRelations(updated_colls, ar_id_start=rnid_start + 1)"
   ]
  },
  {
   "cell_type": "markdown",
   "metadata": {},
   "source": [
    "#### Add Media Relationships"
   ]
  },
  {
   "cell_type": "code",
   "execution_count": 16,
   "metadata": {
    "execution": {
     "iopub.execute_input": "2023-03-31T01:45:53.792322Z",
     "iopub.status.busy": "2023-03-31T01:45:53.792322Z",
     "iopub.status.idle": "2023-03-31T01:46:51.144228Z",
     "shell.execute_reply": "2023-03-31T01:46:51.143263Z",
     "shell.execute_reply.started": "2023-03-31T01:45:53.792322Z"
    },
    "tags": []
   },
   "outputs": [
    {
     "name": "stderr",
     "output_type": "stream",
     "text": [
      "100%|█████████████████████████████████████████████████████████████████████████████| 6639/6639 [00:57<00:00, 115.97it/s]\n"
     ]
    }
   ],
   "source": [
    "rnid_start = daqa_dbmanip.get_collectionNewIdMax(\n",
    "    daqa_scrap.relationship_coll, \"relationshipid\"\n",
    ")\n",
    "daqa_scrap.update_media_relationships(mr_id_start=rnid_start+1)"
   ]
  },
  {
   "cell_type": "markdown",
   "metadata": {
    "tags": []
   },
   "source": [
    "#### Add Interview-Person Relationships"
   ]
  },
  {
   "cell_type": "code",
   "execution_count": 17,
   "metadata": {
    "execution": {
     "iopub.execute_input": "2023-03-31T01:46:51.145227Z",
     "iopub.status.busy": "2023-03-31T01:46:51.145227Z",
     "iopub.status.idle": "2023-03-31T01:46:51.192098Z",
     "shell.execute_reply": "2023-03-31T01:46:51.191101Z",
     "shell.execute_reply.started": "2023-03-31T01:46:51.145227Z"
    },
    "tags": []
   },
   "outputs": [],
   "source": [
    "pirnid_start = daqa_dbmanip.get_collectionNewIdMax(\n",
    "    daqa_scrap.relationship_coll, \"relationshipid\"\n",
    ")"
   ]
  },
  {
   "cell_type": "code",
   "execution_count": 18,
   "metadata": {
    "execution": {
     "iopub.execute_input": "2023-03-31T01:46:51.193095Z",
     "iopub.status.busy": "2023-03-31T01:46:51.193095Z",
     "iopub.status.idle": "2023-03-31T01:46:51.379600Z",
     "shell.execute_reply": "2023-03-31T01:46:51.378601Z",
     "shell.execute_reply.started": "2023-03-31T01:46:51.193095Z"
    },
    "tags": []
   },
   "outputs": [
    {
     "name": "stderr",
     "output_type": "stream",
     "text": [
      "person_interview_relationship_update: 97it [00:00, 607.88it/s]                                                         \n"
     ]
    }
   ],
   "source": [
    "daqa_scrap.update_person_interview_relationships(pir_id_start=pirnid_start + 1)"
   ]
  },
  {
   "cell_type": "markdown",
   "metadata": {
    "tags": []
   },
   "source": [
    "#### Add Interview/Project-Place Relationships"
   ]
  },
  {
   "cell_type": "code",
   "execution_count": 19,
   "metadata": {
    "execution": {
     "iopub.execute_input": "2023-03-31T01:46:51.381595Z",
     "iopub.status.busy": "2023-03-31T01:46:51.380597Z",
     "iopub.status.idle": "2023-03-31T01:46:54.722341Z",
     "shell.execute_reply": "2023-03-31T01:46:54.721345Z",
     "shell.execute_reply.started": "2023-03-31T01:46:51.380597Z"
    },
    "jupyter": {
     "source_hidden": true
    },
    "scrolled": true,
    "tags": []
   },
   "outputs": [
    {
     "name": "stdout",
     "output_type": "stream",
     "text": [
      "6713\n"
     ]
    },
    {
     "name": "stderr",
     "output_type": "stream",
     "text": [
      "related_place_in_structure_extraction: 100%|██████████████████████████████████████| 1843/1843 [00:03<00:00, 595.14it/s]\n"
     ]
    },
    {
     "name": "stdout",
     "output_type": "stream",
     "text": [
      "8556\n"
     ]
    },
    {
     "name": "stderr",
     "output_type": "stream",
     "text": [
      "related_place_in_interview_extraction: 100%|██████████████████████████████████████████| 77/77 [00:00<00:00, 548.07it/s]\n"
     ]
    }
   ],
   "source": [
    "related_places_pipelines = {\n",
    "    \"structure\": {\n",
    "        \"_id\": 0,\n",
    "        \"label\": 1,\n",
    "        \"type\": \"place\",\n",
    "        \"geo_coord\": {\"latitude\": \"$latitude\", \"longitude\": \"$longitude\",},\n",
    "        \"address\": {\n",
    "            \"country\": \"$coord_loc_details.address.country\",\n",
    "            \"state\": \"$coord_loc_details.address.state\",\n",
    "            \"city\": \"$coord_loc_details.address.city\",\n",
    "            \"suburb\": \"$coord_loc_details.address.suburb\",\n",
    "            \"postcode\": \"$coord_loc_details.address.postcode\",\n",
    "            \"ori_address\": \"$location\",\n",
    "        },\n",
    "        \"relationships\": {\n",
    "            \"subject\": \"$id\",\n",
    "            \"subject_dbid\": \"$_id\",\n",
    "            \"subjectlabel\": \"$label\",\n",
    "            \"subjecttype\": \"$type\",\n",
    "            \"objectlabel\": \"$label\",\n",
    "            \"objecttype\": \"place\",\n",
    "            \"relationship\": \"LocatedIn\",\n",
    "        },\n",
    "    },\n",
    "    \"interview\": {\n",
    "        \"_id\": 0,\n",
    "        \"label\": \"$location\",\n",
    "        \"type\": \"place\",\n",
    "        \"address\": {\"ori_address\": \"$location\",},\n",
    "        \"relationships\": {\n",
    "            \"subject\": \"$id\",\n",
    "            \"subject_dbid\": \"$_id\",\n",
    "            \"subjectlabel\": \"$label\",\n",
    "            \"subjecttype\": \"$type\",\n",
    "            \"objectlabel\": \"$location\",\n",
    "            \"objecttype\": \"place\",\n",
    "            \"relationship\": \"DoneIn\",\n",
    "        },\n",
    "    },\n",
    "}\n",
    "\n",
    "new_pId = 1\n",
    "for curr_coll, curr_projection in related_places_pipelines.items():\n",
    "\n",
    "    new_rId = (\n",
    "        daqa_dbmanip.get_collectionNewIdMax(\n",
    "            daqa_scrap.daqa_db[\"relationship\"], \"relationshipid\"\n",
    "        )\n",
    "        + 1\n",
    "    )\n",
    "    print(new_rId)\n",
    "\n",
    "    with tqdm(\n",
    "        total=daqa_scrap.daqa_db[curr_coll].count_documents(\n",
    "            {\"location\": {\"$exists\": True, \"$nin\": [\"\", None]}}\n",
    "        ),\n",
    "        desc=f\"related_place_in_{curr_coll}_extraction\",\n",
    "    ) as pbar:\n",
    "\n",
    "        for r in daqa_scrap.daqa_db[curr_coll].aggregate(\n",
    "            [\n",
    "                {\"$match\": {\"location\": {\"$exists\": True, \"$nin\": [\"\", None]}}},\n",
    "                {\"$project\": {\"relationships\": 0}},\n",
    "                {\"$project\": curr_projection},\n",
    "            ]\n",
    "        ):\n",
    "            r.update({\"id\": f\"{new_pId}_acde\"})\n",
    "            relations = r.get(\"relationships\")\n",
    "            place_inserted_id = daqa_scrap.daqa_db[\"place\"].insert_one(r).inserted_id\n",
    "            relations.update(\n",
    "                {\n",
    "                    \"object\": f\"{new_pId}_acde\",\n",
    "                    \"object_dbid\": place_inserted_id,\n",
    "                    \"relationshipid\": f\"{new_rId}_acde\",\n",
    "                }\n",
    "            )\n",
    "            daqa_scrap.daqa_db[\"relationship\"].insert_one(relations).inserted_id\n",
    "            relations = {\"relationships\": [relations]}\n",
    "            daqa_scrap.daqa_db[\"place\"].update_one(\n",
    "                {\"_id\": place_inserted_id}, {\"$set\": relations}\n",
    "            )\n",
    "            new_pId += 1\n",
    "            new_rId += 1\n",
    "            pbar.update(1)"
   ]
  },
  {
   "cell_type": "markdown",
   "metadata": {},
   "source": [
    "### Add Unpublished (Archival) Objects in Relationships into Collections"
   ]
  },
  {
   "cell_type": "code",
   "execution_count": 20,
   "metadata": {
    "execution": {
     "iopub.execute_input": "2023-03-31T01:46:54.723339Z",
     "iopub.status.busy": "2023-03-31T01:46:54.723339Z",
     "iopub.status.idle": "2023-03-31T01:46:55.319091Z",
     "shell.execute_reply": "2023-03-31T01:46:55.318124Z",
     "shell.execute_reply.started": "2023-03-31T01:46:54.723339Z"
    },
    "jupyter": {
     "source_hidden": true
    },
    "tags": []
   },
   "outputs": [
    {
     "name": "stdout",
     "output_type": "stream",
     "text": [
      "All article objects in relationships are stored.\n",
      "All award objects in relationships are stored.\n",
      "All education objects in relationships are stored.\n",
      "All event objects in relationships are stored.\n"
     ]
    },
    {
     "name": "stderr",
     "output_type": "stream",
     "text": [
      "update_missing_firm: 100%|██████████████████████████████████████████████████████████████| 3/3 [00:00<00:00, 136.73it/s]\n"
     ]
    },
    {
     "name": "stdout",
     "output_type": "stream",
     "text": [
      "All government objects in relationships are stored.\n"
     ]
    },
    {
     "name": "stderr",
     "output_type": "stream",
     "text": [
      "update_missing_interview: 100%|█████████████████████████████████████████████████████████| 1/1 [00:00<00:00, 334.13it/s]"
     ]
    },
    {
     "name": "stdout",
     "output_type": "stream",
     "text": [
      "All organisation objects in relationships are stored.\n"
     ]
    },
    {
     "name": "stderr",
     "output_type": "stream",
     "text": [
      "\n",
      "update_missing_person: 100%|████████████████████████████████████████████████████████████| 3/3 [00:00<00:00, 150.41it/s]\n"
     ]
    },
    {
     "name": "stdout",
     "output_type": "stream",
     "text": [
      "All place objects in relationships are stored.\n",
      "All publication objects in relationships are stored.\n"
     ]
    },
    {
     "name": "stderr",
     "output_type": "stream",
     "text": [
      "update_missing_structure: 100%|███████████████████████████████████████████████████████| 28/28 [00:00<00:00, 178.71it/s]"
     ]
    },
    {
     "name": "stdout",
     "output_type": "stream",
     "text": [
      "All topic objects in relationships are stored.\n"
     ]
    },
    {
     "name": "stderr",
     "output_type": "stream",
     "text": [
      "\n"
     ]
    }
   ],
   "source": [
    "for obj_type in daqa_scrap.all_obj_coll.find({\"category\": \"archobj\"}).distinct(\"type\"):\n",
    "    daqa_scrap.update_missObjInRelationship(obj_type)"
   ]
  },
  {
   "cell_type": "markdown",
   "metadata": {},
   "source": [
    "### Add ori_dbid in relationship collection"
   ]
  },
  {
   "cell_type": "code",
   "execution_count": 21,
   "metadata": {
    "execution": {
     "iopub.execute_input": "2023-03-31T01:46:55.323084Z",
     "iopub.status.busy": "2023-03-31T01:46:55.321085Z",
     "iopub.status.idle": "2023-03-31T01:46:55.335048Z",
     "shell.execute_reply": "2023-03-31T01:46:55.334051Z",
     "shell.execute_reply.started": "2023-03-31T01:46:55.323084Z"
    },
    "jupyter": {
     "source_hidden": true
    },
    "tags": []
   },
   "outputs": [],
   "source": [
    "# from general import MongoDBManipulation as gen_manip\n",
    "\n",
    "# gen_manip.mdb_remove_fields(\n",
    "#     daqa_scrap.daqa_db, \"relationship\", {}, [\"subject_dbid\", \"object_dbid\"]\n",
    "# )"
   ]
  },
  {
   "cell_type": "code",
   "execution_count": 22,
   "metadata": {
    "execution": {
     "iopub.execute_input": "2023-03-31T01:46:55.337049Z",
     "iopub.status.busy": "2023-03-31T01:46:55.336046Z",
     "iopub.status.idle": "2023-03-31T01:46:55.477084Z",
     "shell.execute_reply": "2023-03-31T01:46:55.476144Z",
     "shell.execute_reply.started": "2023-03-31T01:46:55.337049Z"
    },
    "jupyter": {
     "source_hidden": true
    },
    "tags": []
   },
   "outputs": [],
   "source": [
    "ori_dbid_mapping = defaultdict(dict)\n",
    "for coll_name in set(daqa_scrap.daqa_db.list_collection_names()) - set(\n",
    "    [\"all_objects\", \"relationship\"]\n",
    "):\n",
    "    for record in daqa_scrap.daqa_db[coll_name].find(\n",
    "        {}, {\"ori_dbid\": \"$_id\", \"id\": 1, \"type\": 1, \"_id\": 0}\n",
    "    ):\n",
    "        ori_dbid_mapping[record.get(\"type\")][record.get(\"id\")] = record.get(\"ori_dbid\")"
   ]
  },
  {
   "cell_type": "code",
   "execution_count": 23,
   "metadata": {
    "execution": {
     "iopub.execute_input": "2023-03-31T01:46:55.478085Z",
     "iopub.status.busy": "2023-03-31T01:46:55.478085Z",
     "iopub.status.idle": "2023-03-31T01:47:16.868992Z",
     "shell.execute_reply": "2023-03-31T01:47:16.867997Z",
     "shell.execute_reply.started": "2023-03-31T01:46:55.478085Z"
    },
    "tags": []
   },
   "outputs": [
    {
     "name": "stderr",
     "output_type": "stream",
     "text": [
      "add_entity_ori_dbid_relationship: 100%|█████████████████████████████████████████| 17549/17549 [00:21<00:00, 821.96it/s]\n"
     ]
    }
   ],
   "source": [
    "removed_relat = []\n",
    "with tqdm(\n",
    "    total=daqa_scrap.relationship_coll.count_documents({}),\n",
    "    desc=\"add_entity_ori_dbid_relationship\",\n",
    ") as pbar:\n",
    "    for relation_r in daqa_scrap.relationship_coll.find({}):\n",
    "        new_relation_r = copy.copy(relation_r)\n",
    "        for entity_type in [\"object\", \"subject\"]:\n",
    "            e_t_type = relation_r[f\"{entity_type}type\"]\n",
    "            e_t_id = relation_r.get(entity_type)\n",
    "            e_t_ori_dbid = ori_dbid_mapping[e_t_type].get(e_t_id)\n",
    "            if e_t_ori_dbid is None:\n",
    "                removed_relat.append(relation_r)\n",
    "                break\n",
    "            new_relation_r[f\"{entity_type}_dbid\"] = e_t_ori_dbid\n",
    "            daqa_scrap.relationship_coll.update_one(\n",
    "                {\"_id\": relation_r[\"_id\"]}, {\"$set\": new_relation_r}\n",
    "            )\n",
    "        pbar.update(1)"
   ]
  },
  {
   "cell_type": "markdown",
   "metadata": {},
   "source": [
    "## 4. Clean Date Format Fields"
   ]
  },
  {
   "cell_type": "code",
   "execution_count": 3,
   "metadata": {
    "execution": {
     "iopub.execute_input": "2023-03-31T04:22:12.674963Z",
     "iopub.status.busy": "2023-03-31T04:22:12.674963Z",
     "iopub.status.idle": "2023-03-31T04:22:14.172955Z",
     "shell.execute_reply": "2023-03-31T04:22:14.171958Z",
     "shell.execute_reply.started": "2023-03-31T04:22:12.674963Z"
    },
    "tags": []
   },
   "outputs": [
    {
     "name": "stdout",
     "output_type": "stream",
     "text": [
      "The following date fields are updated:\n",
      "article: published, pubts, created\n",
      "firm: start, end, pubts, created\n",
      "structure: completion, pubts, created\n",
      "award: pubts, created\n",
      "publication: pubts, created\n",
      "place: pubts, created\n",
      "event: pubts, created\n",
      "organisation: pubts, created\n",
      "government: pubts, created\n",
      "media: created\n",
      "interview: pubts, created\n",
      "topic: pubts, created\n",
      "education: pubts, created\n",
      "person: pubts, created\n"
     ]
    }
   ],
   "source": [
    "daqa_scrap.daqa_udpate_date_format()"
   ]
  },
  {
   "cell_type": "markdown",
   "metadata": {},
   "source": [
    "## 5. Update New Fields"
   ]
  },
  {
   "cell_type": "code",
   "execution_count": 4,
   "metadata": {
    "execution": {
     "iopub.execute_input": "2023-03-31T04:22:18.352684Z",
     "iopub.status.busy": "2023-03-31T04:22:18.352684Z",
     "iopub.status.idle": "2023-03-31T04:22:19.716800Z",
     "shell.execute_reply": "2023-03-31T04:22:19.715858Z",
     "shell.execute_reply.started": "2023-03-31T04:22:18.352684Z"
    },
    "scrolled": true,
    "tags": []
   },
   "outputs": [],
   "source": [
    "updated_bio = pd.read_excel(\n",
    "    os.path.join(data_folder, \"exported_csv\", \"DAQA_BIOGRAPHY5_dvdp.xlsx\"), nrows=848\n",
    ").rename(\n",
    "    {\n",
    "        \"first_school\": \"school1\",\n",
    "        \"second_school\": \"school2\",\n",
    "        \"third_school\": \"school3\",\n",
    "        \"Unnamed: 21\": \"school4\",\n",
    "        \"Unnamed: 22\": \"location4\",\n",
    "        \"Unnamed: 23\": \"sch_type4\",\n",
    "        \"Unnamed: 24\": \"graduation_year4\",\n",
    "        \"Unnamed: 25\": \"award_qualification4\",\n",
    "        \"reg_date2\": \"regis_date2\",\n",
    "    },\n",
    "    axis=1,\n",
    ")\n",
    "updated_bio = updated_bio[\n",
    "    ~updated_bio.applymap(\n",
    "        lambda x: True if x in (\"DELETE\", \"delete\", \"Delete\") else False\n",
    "    ).any(axis=1)\n",
    "]\n",
    "for idx, i in updated_bio[\n",
    "    updated_bio.id.apply(lambda x: False if isinstance(x, int) else True)\n",
    "][[\"id\", \"label\"]].iterrows():\n",
    "    query_rsp = daqa_scrap.daqa_db['person'].find_one({'label': i[\"label\"]}, {\"_id\": 0, \"id\": 1})\n",
    "    updated_bio.loc[idx, 'id'] = query_rsp.get(\"id\")\n",
    "id_columns = [\n",
    "    \"id\",\n",
    "]\n",
    "updated_columns = [\n",
    "    \"gender\",\n",
    "    \"school1\",\n",
    "    \"location1\",\n",
    "    \"sch_type1\",\n",
    "    \"graduation_year1\",\n",
    "    \"award_qualification1\",\n",
    "    \"school2\",\n",
    "    \"location2\",\n",
    "    \"sch_type2\",\n",
    "    \"graduation_year2\",\n",
    "    \"award_qualification2\",\n",
    "    \"school3\",\n",
    "    \"location3\",\n",
    "    \"sch_type3\",\n",
    "    \"graduation_year3\",\n",
    "    \"award_qualification3\",\n",
    "    \"school4\",\n",
    "    \"location4\",\n",
    "    \"sch_type4\",\n",
    "    \"graduation_year4\",\n",
    "    \"award_qualification4\",\n",
    "    \"career_start/firm_start\",\n",
    "    \"regis_date1\",\n",
    "    \"regis_location1\",\n",
    "    \"regis_date2\",\n",
    "    \"regis_location2\",\n",
    "    \"career_ongoing\",\n",
    "    \"retirement/last_project_year\",\n",
    "    \"birth_year\",\n",
    "    \"death_year\",\n",
    "    \"career_focus1\",\n",
    "    \"career_focus2\",\n",
    "    \"influence_on_QLD_architecture\",\n",
    "]\n",
    "# data cleaning\n",
    "updated_bio = updated_bio[updated_bio.gender.isin([\"male\", \"female\"])][\n",
    "    id_columns + updated_columns\n",
    "]\n",
    "updated_bio = updated_bio.fillna(\"nan\").applymap(\n",
    "    lambda x: \"nan\" if x in [\"na\", \"?\", \" \", \"NA?\", \"N/a\", \"N/A\"] else x\n",
    ")\n",
    "updated_bio.loc[updated_bio.sch_type2 == 1961] = [\n",
    "    584,\n",
    "    \"male\",\n",
    "    \"Budapest\",\n",
    "    \"Hungary\",\n",
    "    \"UNI\",\n",
    "    \"incomplete\",\n",
    "    'nan',\n",
    "    \"UNSW\",\n",
    "    \"NSW\",\n",
    "    \"UNI\",\n",
    "    1961,\n",
    "    \"BArch\",\n",
    "    \"Liverpool\",\n",
    "    \"UK\",\n",
    "    \"UNI\",\n",
    "    1968,\n",
    "    \"MArch\",\n",
    "    \"UQ\",\n",
    "    \"QLD\",\n",
    "    \"UNI\",\n",
    "    1978,\n",
    "    \"PhD\",\n",
    "    1961,\n",
    "    1975,\n",
    "    \"QLD\",\n",
    "    \"nan\",\n",
    "    \"nan\",\n",
    "    \"nan\",\n",
    "    \"nan\",\n",
    "    1927,\n",
    "    \"nan\",\n",
    "    \"nan\",\n",
    "    \"nan\",\n",
    "    \"nan\",\n",
    "]\n",
    "for col in updated_bio:\n",
    "    if col.startswith((\"school\", \"award_qualification\", \"regis_location\", \"career_focus\")):\n",
    "        updated_bio[col] = updated_bio[col].apply(lambda x: x.strip())\n",
    "    elif col.startswith(\"sch_type\"):\n",
    "        updated_bio[col] = updated_bio[col].apply(lambda x: 'INDEPENDENT' if x == 'Indep' else x.strip().upper())\n",
    "    elif col.startswith(\"graduation_year\"):\n",
    "        updated_bio[col] = updated_bio[col].apply(lambda x: 'incomplete' if x in ('incomp', 'incomp') else x)\n",
    "    if ('_year' in col) or (\"_date\" in col):\n",
    "        updated_bio[col] = updated_bio[col].apply(lambda x: int(x) if isinstance(x, str) and x.isdigit() else x)\n",
    "        \n",
    "updated_bio = updated_bio.applymap(\n",
    "    lambda x: None if x in ('nan', 'NAN') else x\n",
    ").fillna('Unknown')"
   ]
  },
  {
   "cell_type": "code",
   "execution_count": 5,
   "metadata": {
    "execution": {
     "iopub.execute_input": "2023-03-31T04:22:20.288477Z",
     "iopub.status.busy": "2023-03-31T04:22:20.287483Z",
     "iopub.status.idle": "2023-03-31T04:22:24.447992Z",
     "shell.execute_reply": "2023-03-31T04:22:24.446996Z",
     "shell.execute_reply.started": "2023-03-31T04:22:20.288477Z"
    },
    "tags": []
   },
   "outputs": [
    {
     "name": "stderr",
     "output_type": "stream",
     "text": [
      "update_biogarphy: 100%|█████████████████████████████████████████████████████████████| 823/823 [00:04<00:00, 200.26it/s]\n"
     ]
    }
   ],
   "source": [
    "with tqdm(total=updated_bio.shape[0], desc=\"update_biogarphy\") as pbar:\n",
    "    for pid, r in updated_bio.set_index([\"id\"]).iterrows():\n",
    "        final_r = defaultdict(list)\n",
    "        final_r[\"id\"] = pid\n",
    "        final_r[\"gender\"] = r[\"gender\"]\n",
    "        final_r[\"birth\"] = {\n",
    "            \"coverage\": {\n",
    "                \"date\": {\n",
    "                    \"year\": str(int(r[\"birth_year\"]))\n",
    "                    if r[\"birth_year\"] != \"Unknown\"\n",
    "                    else None\n",
    "                }\n",
    "            }\n",
    "        }\n",
    "        final_r[\"death\"] = {\n",
    "            \"coverage\": {\n",
    "                \"date\": {\n",
    "                    \"year\": str(int(r[\"death_year\"]))\n",
    "                    if r[\"death_year\"] != \"Unknown\"\n",
    "                    else None\n",
    "                }\n",
    "            }\n",
    "        }\n",
    "        final_r[\"influence_on_QLD_architecture\"] = (\n",
    "            r[\"influence_on_QLD_architecture\"]\n",
    "            if r[\"influence_on_QLD_architecture\"] != \"Unknown\"\n",
    "            else None\n",
    "        )\n",
    "        final_r[\"career\"] = {\n",
    "            \"is_ongoing\": r[\"career_ongoing\"]\n",
    "            if r[\"career_ongoing\"] != \"Unknown\"\n",
    "            else None,\n",
    "            \"date_start\": r[\"career_start/firm_start\"]\n",
    "            if r[\"career_start/firm_start\"] != \"Unknown\"\n",
    "            else None,\n",
    "            \"date_end\": r[\"retirement/last_project_year\"]\n",
    "            if r[\"retirement/last_project_year\"] != \"Unknown\"\n",
    "            else None,\n",
    "            \"registrations\": [],\n",
    "            \"career_focus\": [],\n",
    "            \"career_periods\": [\n",
    "                {\n",
    "                    \"occupation\": {\"type\": \"architect\", \"title\": \"architect\"},\n",
    "                    \"coverage_range\": {\n",
    "                        \"date_range\": {\n",
    "                            \"date_start\": {\n",
    "                                \"year\": r[\"career_start/firm_start\"]\n",
    "                                if r[\"career_start/firm_start\"] != \"Unknown\"\n",
    "                                else None\n",
    "                            },\n",
    "                            \"date_end\": {\n",
    "                                \"year\": r[\"retirement/last_project_year\"]\n",
    "                                if r[\"retirement/last_project_year\"] != \"Unknown\"\n",
    "                                else None\n",
    "                            },\n",
    "                        }\n",
    "                    },\n",
    "                }\n",
    "            ],\n",
    "        }\n",
    "        for edu_idx in range(1, 5):\n",
    "            edu_comp = r[\n",
    "                [\n",
    "                    f\"school{edu_idx}\",\n",
    "                    f\"location{edu_idx}\",\n",
    "                    f\"sch_type{edu_idx}\",\n",
    "                    f\"graduation_year{edu_idx}\",\n",
    "                    f\"award_qualification{edu_idx}\",\n",
    "                ]\n",
    "            ]\n",
    "            if edu_comp.unique().tolist() == [\"Unknown\"]:\n",
    "                pass\n",
    "            else:\n",
    "                edu_comp = edu_comp.to_dict()\n",
    "                edu_comp = {\n",
    "                    \"organization\": {\n",
    "                        \"name\": edu_comp[f\"school{edu_idx}\"]\n",
    "                        if edu_comp[f\"school{edu_idx}\"] != \"Unknown\"\n",
    "                        else None,\n",
    "                        \"type\": edu_comp[f\"sch_type{edu_idx}\"]\n",
    "                        if edu_comp[f\"sch_type{edu_idx}\"] != \"Unknown\"\n",
    "                        else None,\n",
    "                        \"qualification\": edu_comp[f\"award_qualification{edu_idx}\"]\n",
    "                        if edu_comp[f\"award_qualification{edu_idx}\"] != \"Unknown\"\n",
    "                        else None,\n",
    "                    },\n",
    "                    \"coverage_range\": {\n",
    "                        \"place\": edu_comp[f\"location{edu_idx}\"]\n",
    "                        if edu_comp[f\"location{edu_idx}\"] != \"Unknown\"\n",
    "                        else None,\n",
    "                        \"date_range\": {\n",
    "                            \"date_start\": None,\n",
    "                            \"date_end\": {\n",
    "                                \"year\": str(edu_comp[f\"graduation_year{edu_idx}\"])\n",
    "                                if edu_comp[f\"graduation_year{edu_idx}\"] != \"Unknown\"\n",
    "                                else None,\n",
    "                            },\n",
    "                        },\n",
    "                    },\n",
    "                }\n",
    "                final_r[\"education_trainings\"].append(edu_comp)\n",
    "        for focus_idx in range(1, 3):\n",
    "            focus_colname = f\"career_focus{focus_idx}\"\n",
    "            if r[focus_colname] != \"Unknown\":\n",
    "                final_r[\"career\"][f\"career_focus\"].append(r[focus_colname])\n",
    "        for regis_idx in range(1, 3):\n",
    "            regis_comp = r[[f\"regis_location{regis_idx}\", f\"regis_date{regis_idx}\"]]\n",
    "            if regis_comp.unique().tolist() == [\"Unknown\"]:\n",
    "                pass\n",
    "            else:\n",
    "                regis_comp = regis_comp.to_dict()\n",
    "                regis_comp = {\n",
    "                    \"coverage\": {\n",
    "                        \"date\": {\n",
    "                            \"year\": str(regis_comp[f\"regis_date{regis_idx}\"])\n",
    "                            if regis_comp[f\"regis_date{regis_idx}\"] != \"Unknown\"\n",
    "                            else None\n",
    "                        },\n",
    "                        \"place\": regis_comp[f\"regis_location{regis_idx}\"]\n",
    "                        if regis_comp[f\"regis_location{regis_idx}\"] != \"Unknown\"\n",
    "                        else None,\n",
    "                    }\n",
    "                }\n",
    "                final_r[\"registrations\"].append(regis_comp)\n",
    "        daqa_scrap.person_coll.update_one({\"id\": pid}, {\"$set\": final_r})\n",
    "        pbar.update(1)"
   ]
  },
  {
   "cell_type": "markdown",
   "metadata": {
    "id": "l5v0Now2X1HM"
   },
   "source": [
    "## Learning Notes:\n",
    "\n",
    "[Python list of dictionaries search](https://stackoverflow.com/questions/8653516/python-list-of-dictionaries-search)\n",
    "\n",
    "[jsonl2json](https://stackoverflow.com/questions/50475635/loading-jsonl-file-as-json-objects)\n",
    "\n",
    "[json2jsonl](https://stackoverflow.com/questions/38915183/python-conversion-from-json-to-jsonl)\n",
    "\n",
    "[Can‘t connect to HTTPS URL because the SSL module is not available](https://blog.csdn.net/Sky_Tree_Delivery/article/details/109078288)"
   ]
  },
  {
   "cell_type": "code",
   "execution_count": null,
   "metadata": {
    "jupyter": {
     "source_hidden": true
    }
   },
   "outputs": [],
   "source": []
  }
 ],
 "metadata": {
  "colab": {
   "collapsed_sections": [],
   "name": "DAQA_Scraping.ipynb",
   "provenance": []
  },
  "kernelspec": {
   "display_name": "ACD_Engine",
   "language": "python",
   "name": "acd_engine"
  },
  "language_info": {
   "codemirror_mode": {
    "name": "ipython",
    "version": 3
   },
   "file_extension": ".py",
   "mimetype": "text/x-python",
   "name": "python",
   "nbconvert_exporter": "python",
   "pygments_lexer": "ipython3",
   "version": "3.9.13"
  },
  "widgets": {
   "application/vnd.jupyter.widget-state+json": {
    "state": {},
    "version_major": 2,
    "version_minor": 0
   }
  }
 },
 "nbformat": 4,
 "nbformat_minor": 4
}
