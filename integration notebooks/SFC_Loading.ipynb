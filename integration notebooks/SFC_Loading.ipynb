{
 "cells": [
  {
   "cell_type": "markdown",
   "id": "7962c1cf-872f-41c1-b164-dff93a7462b8",
   "metadata": {},
   "source": [
    "## 0 Setting"
   ]
  },
  {
   "cell_type": "code",
   "execution_count": 1,
   "id": "c99dac11-55bd-44d4-b797-24a735f17dde",
   "metadata": {
    "execution": {
     "iopub.execute_input": "2023-04-27T05:59:50.094474Z",
     "iopub.status.busy": "2023-04-27T05:59:50.093477Z",
     "iopub.status.idle": "2023-04-27T05:59:51.273152Z",
     "shell.execute_reply": "2023-04-27T05:59:51.272190Z",
     "shell.execute_reply.started": "2023-04-27T05:59:50.094474Z"
    },
    "tags": []
   },
   "outputs": [],
   "source": [
    "import sys\n",
    "\n",
    "codefolder = \"C:/ProjectCollections/Programs/Australia_Cultural_Data_Engine/codes\"\n",
    "data_folder = \"D:/Program_Data/Australia_Cultural_Data_Engine_Data\"\n",
    "\n",
    "sys.path.append(codefolder)\n",
    "import os\n",
    "import pprint\n",
    "import xml.etree.ElementTree as ET\n",
    "from collections import Counter, defaultdict\n",
    "\n",
    "from acde import MongoDBManipulation as acde_manip\n",
    "from general import GeneralFunctions as gen_gf\n",
    "from general import JsonProcessing as gen_jp\n",
    "from general import MongoDBManipulation as gen_manip\n",
    "from tqdm import tqdm\n",
    "\n",
    "pp = pprint.PrettyPrinter(indent=2)\n",
    "acde_opr = acde_manip.ACDE_Manipulation()\n",
    "acde_db = acde_opr.acde_db"
   ]
  },
  {
   "cell_type": "markdown",
   "id": "acada136-2101-428f-b8f5-8d5f5312e519",
   "metadata": {},
   "source": [
    "## 1 Parse XML file"
   ]
  },
  {
   "cell_type": "code",
   "execution_count": 2,
   "id": "df9add91-fed3-45be-91b7-6c2f33587839",
   "metadata": {
    "execution": {
     "iopub.execute_input": "2023-04-27T05:59:51.274150Z",
     "iopub.status.busy": "2023-04-27T05:59:51.274150Z",
     "iopub.status.idle": "2023-04-27T05:59:51.367133Z",
     "shell.execute_reply": "2023-04-27T05:59:51.366131Z",
     "shell.execute_reply.started": "2023-04-27T05:59:51.274150Z"
    },
    "scrolled": true,
    "tags": []
   },
   "outputs": [],
   "source": [
    "def parse_element(element):\n",
    "    d = {}\n",
    "    if element.text:\n",
    "        d[element.tag] = element.text\n",
    "    for child in element:\n",
    "        if child.tag not in d:\n",
    "            d[child.tag] = []\n",
    "        d[child.tag].append(parse_element(child))\n",
    "    for k, v in element.items():\n",
    "        if k not in d:\n",
    "            d[k] = v\n",
    "    return d\n",
    "\n",
    "\n",
    "def parse_xml_file(xml_file):\n",
    "    result = []\n",
    "    tree = ET.parse(xml_file)\n",
    "    root = tree.getroot()\n",
    "    for record in root:\n",
    "        result.append(parse_element(record))\n",
    "    return result\n",
    "\n",
    "\n",
    "# parse the XML file\n",
    "results = parse_xml_file(\n",
    "    os.path.join(\n",
    "        data_folder,\n",
    "        \"summerhayes_family_collection\",\n",
    "        \"BIBLIOGRAPHIC_Summerhayes Architecture Collection.xml\",\n",
    "    )\n",
    ")"
   ]
  },
  {
   "cell_type": "code",
   "execution_count": 3,
   "id": "e4146030-0219-45e7-8e9c-065c508bed90",
   "metadata": {
    "execution": {
     "iopub.execute_input": "2023-04-27T05:59:51.369129Z",
     "iopub.status.busy": "2023-04-27T05:59:51.369129Z",
     "iopub.status.idle": "2023-04-27T05:59:51.413011Z",
     "shell.execute_reply": "2023-04-27T05:59:51.412117Z",
     "shell.execute_reply.started": "2023-04-27T05:59:51.369129Z"
    },
    "scrolled": true,
    "tags": []
   },
   "outputs": [
    {
     "data": {
      "text/plain": [
       "[('035-#-#_$a', 480),\n",
       " ('852-#-#_$g', 440),\n",
       " ('852-#-#_$3', 440),\n",
       " ('852-#-#_$c', 440),\n",
       " ('852-#-#_$z', 440),\n",
       " ('852-#-#_$q', 439),\n",
       " ('942-#-#_$a', 243),\n",
       " ('900-#-#_$t', 242),\n",
       " ('900-#-#_$b', 242),\n",
       " ('008', 241),\n",
       " ('005', 241),\n",
       " ('001', 241),\n",
       " ('FMT', 240),\n",
       " ('910-#-#_$t', 238),\n",
       " ('700-1-#_$a', 236),\n",
       " ('506-#-#_$a', 233),\n",
       " ('300-#-#_$a', 232),\n",
       " ('245-0-0_$a', 231),\n",
       " ('920-#-#_$t', 231),\n",
       " ('541-#-#_$a', 228),\n",
       " ('599-#-#_$a', 225),\n",
       " ('787-#-#_$o', 209),\n",
       " ('260-#-#_$c', 201),\n",
       " ('092-4-#_$a', 161),\n",
       " ('930-#-#_$t', 161),\n",
       " ('500-#-#_$a', 72),\n",
       " ('092-3-#_$a', 71),\n",
       " ('595-#-#_$a', 66),\n",
       " ('520-2-#_$a', 15),\n",
       " ('260-#-#_$a', 13),\n",
       " ('856-#-#_$u', 6),\n",
       " ('092-2-#_$a', 6),\n",
       " ('245-0-2_$a', 5),\n",
       " ('590-#-#_$a', 4),\n",
       " ('092-1-#_$a', 2),\n",
       " ('245-1-0_$a', 2),\n",
       " ('545-0-#_$a', 2),\n",
       " ('245-0-3_$a', 1),\n",
       " ('245-0-#_$a', 1),\n",
       " ('710-2-#_$a', 1),\n",
       " ('100-1-#_$a', 1),\n",
       " ('245-0-4_$a', 1)]"
      ]
     },
     "execution_count": 3,
     "metadata": {},
     "output_type": "execute_result"
    }
   ],
   "source": [
    "# initialize the counter of MARC codes\n",
    "marc_code_counter = Counter()\n",
    "\n",
    "# flatten nested parsed results\n",
    "flatten_results = []\n",
    "structural_results = []\n",
    "for result in results:\n",
    "    structural_result = result[\"leader\"][0]\n",
    "    flatten_result = result[\"leader\"][0]\n",
    "    structural_result[\"controlfield\"] = {}\n",
    "    structural_result[\"datafield\"] = []\n",
    "    for cf in result[\"controlfield\"]:\n",
    "        structural_result[\"controlfield\"][cf.get(\"tag\")] = cf.get(\"controlfield\")\n",
    "        marc_code_counter.update([cf.get(\"tag\")])\n",
    "    for datafield in result[\"datafield\"]:\n",
    "        for subfield in datafield[\"subfield\"]:\n",
    "            marc_code = f\"{datafield['tag']}-{datafield['ind1'] if datafield['ind1'].strip() else '#'}-{datafield['ind2'] if datafield['ind2'].strip() else '#'}_${subfield['code']}\"\n",
    "            structural_result[\"datafield\"].append((marc_code, subfield[\"subfield\"]))\n",
    "            marc_code_counter.update([marc_code])\n",
    "    flatten_result.update(structural_result[\"controlfield\"])\n",
    "    flatten_result.update(structural_result[\"datafield\"])\n",
    "    flatten_results.append(flatten_result)\n",
    "    structural_results.append(structural_result)\n",
    "\n",
    "marc_code_counter.most_common()"
   ]
  },
  {
   "cell_type": "markdown",
   "id": "5ac241a5-44ce-4831-8424-0059009e004a",
   "metadata": {},
   "source": [
    "## 2 Project Selected Attributes to ACDE"
   ]
  },
  {
   "cell_type": "code",
   "execution_count": 4,
   "id": "c0237448-d2cc-44bf-8b07-2f9fbb2e2fd3",
   "metadata": {
    "execution": {
     "iopub.execute_input": "2023-04-27T05:59:51.414010Z",
     "iopub.status.busy": "2023-04-27T05:59:51.414010Z",
     "iopub.status.idle": "2023-04-27T05:59:51.444220Z",
     "shell.execute_reply": "2023-04-27T05:59:51.443220Z",
     "shell.execute_reply.started": "2023-04-27T05:59:51.414010Z"
    },
    "tags": []
   },
   "outputs": [],
   "source": [
    "marc_definition = [\n",
    "    (\"leader\", \"\"),\n",
    "    (\"035-#-#_$a\", \"System control number (NR)\", \"identifier_info.sys_control_number\"),\n",
    "    (\"852-#-#_$g\", \"Non-coded location qualifier (R)\"),\n",
    "    (\"852-#-#_$3\", \"Materials specified (NR)\", \"acquisition_info.material\"),\n",
    "    (\"852-#-#_$c\", \"Shelving location (R)\", \"acquisition_info.shelving_loc\"),\n",
    "    (\"852-#-#_$z\", \"Public note (R)\", \"acquisition_info.availability\"),\n",
    "    (\"852-#-#_$q\", \"Piece physical condition (NR)\", \"acquisition_info.condition\"),\n",
    "    (\n",
    "        \"942-#-#_$a\",\n",
    "        \"Source of classification or shelving scheme\",\n",
    "        \"acquisition_info.shelving_schm\",\n",
    "    ),\n",
    "    (\n",
    "        \"900-#-#_$t\",\n",
    "        \"Curtin University Library/John Curtin Prime Ministerial Library Identifier\",\n",
    "        \"identifier_info.local_lib_ident\",\n",
    "    ),\n",
    "    (\"900-#-#_$b\", \"Title of Collection.\", \"title_collection\"),\n",
    "    (\"008\", \"General Information\"),\n",
    "    (\"005\", \"Date and time of latest transaction\"),\n",
    "    (\"001\", 241),\n",
    "    (\"FMT\", 240),\n",
    "    (\"910-#-#_$t\", 'Creator - \"Records of First name Surname\".'),\n",
    "    (\n",
    "        \"700-1-#_$a\",\n",
    "        'Creator Person - \"Surname, First name\"',\n",
    "        \"authoring_info.authors.name\",\n",
    "    ),\n",
    "    (\"506-#-#_$a\", \"Restrict. Note\", \"acquisition_info.restriction\"),\n",
    "    (\"300-#-#_$a\", \"Physical Description\", \"physical_description\"),\n",
    "    (\"245-0-0_$a\", \"Title_00\", \"title\"),\n",
    "    (\"920-#-#_$t\", \"File - Same as Series title.\", \"title_series\"),\n",
    "    (\n",
    "        \"541-#-#_$a\",\n",
    "        \"Acquired source - 'Surname, Initial'.\",\n",
    "        \"source_info.publisher.name\",\n",
    "    ),\n",
    "    (\"599-#-#_$a\", \"Category\", \"types.primary_type\"),\n",
    "    (\"787-#-#_$o\", \"Other item identifier\", \"identifier_info.other_item_ident\"),\n",
    "    (\"260-#-#_$c\", \"Date of publication, distribution\"),\n",
    "    (\"092-4-#_$a\", \"Item accession number\", \"identifier_info.item_accession_ident\"),\n",
    "    (\"930-#-#_$t\", \"File - Same as File title.\", \"title_file\"),\n",
    "    (\"500-#-#_$a\", \"General note\", \"note\"),\n",
    "    (\"092-3-#_$a\", \"File Accession identifier\", \"identifier_info.file_accession_ident\"),\n",
    "    (\"595-#-#_$a\", \"Has items\", \"acquisition_info.has_items\"),\n",
    "    (\"520-2-#_$a\", \"Scope and content - Summary\"),\n",
    "    (\"260-#-#_$a\", \"Place of publication, distribution\"),\n",
    "    (\"856-#-#_$u\", \"Uniform Resource Identifier (R)\"),\n",
    "    (\"092-2-#_$a\", \"Series accession number\", \"identifier_info.series_accession_ident\"),\n",
    "    (\"245-0-2_$a\", \"Title_02\", \"title\"),\n",
    "    (\"590-#-#_$a\", \"Internal note\", \"note_internal\"),\n",
    "    (\n",
    "        \"092-1-#_$a\",\n",
    "        \"Creator accession number\",\n",
    "        \"identifier_info.creator_accession_ident\",\n",
    "    ),\n",
    "    (\"245-1-0_$a\", \"Title_10\", \"title\"),\n",
    "    (\"545-0-#_$a\", \"Bio/History note\", \"note_history\"),\n",
    "    (\"245-0-3_$a\", \"Title_03\", \"title\"),\n",
    "    (\"245-0-#_$a\", \"Title_0#\", \"title\"),\n",
    "    (\n",
    "        \"710-2-#_$a\",\n",
    "        \"Name in direct order - Corporate name or jurisdiction name as entry element (NR)\",\n",
    "    ),\n",
    "    (\"100-1-#_$a\", 'Creator-Person - \"Surname, First name.\"'),\n",
    "    (\"245-0-4_$a\", \"Title_04\", \"title\"),\n",
    "]\n",
    "\n",
    "marc_projection = {}\n",
    "for attr_info in marc_definition:\n",
    "    if len(attr_info) == 3:\n",
    "        marc_projection[attr_info[0]] = attr_info[2]"
   ]
  },
  {
   "cell_type": "code",
   "execution_count": 5,
   "id": "73c8f62f-f85c-49c6-8232-f18e928ff5fb",
   "metadata": {
    "execution": {
     "iopub.execute_input": "2023-04-27T05:59:51.445250Z",
     "iopub.status.busy": "2023-04-27T05:59:51.445250Z",
     "iopub.status.idle": "2023-04-27T05:59:51.744424Z",
     "shell.execute_reply": "2023-04-27T05:59:51.743427Z",
     "shell.execute_reply.started": "2023-04-27T05:59:51.445250Z"
    },
    "tags": []
   },
   "outputs": [
    {
     "name": "stderr",
     "output_type": "stream",
     "text": [
      "Loading SFC resource data to ACDE database...: 100%|███████████████████████████████| 241/241 [00:00<00:00, 1695.04it/s]\n"
     ]
    }
   ],
   "source": [
    "curr_lvl = \"resource\"\n",
    "acde_db[curr_lvl].delete_many({\"data_source\": \"SFC\"})\n",
    "\n",
    "with tqdm(\n",
    "    total=len(flatten_results), desc=\"Loading SFC resource data to ACDE database...\"\n",
    ") as pbar:\n",
    "    for flatten_result in flatten_results:\n",
    "        proj_result = defaultdict(dict)\n",
    "        for ori_attr_n, acde_attr_k in marc_projection.items():\n",
    "            acde_attr_v = flatten_result.get(ori_attr_n)\n",
    "            if acde_attr_v:\n",
    "                keys = acde_attr_k.split(\".\")\n",
    "                part_num = len(keys)\n",
    "                if part_num == 1:\n",
    "                    proj_result[acde_attr_k] = acde_attr_v\n",
    "                elif part_num == 2:\n",
    "                    proj_result[keys[0]][keys[1]] = acde_attr_v\n",
    "                    if keys[1] == \"item_accession_ident\":\n",
    "                        proj_result[\"_class_ori\"] = \"item\"\n",
    "                    elif keys[1] == \"file_accession_ident\":\n",
    "                        proj_result[\"_class_ori\"] = \"file\"\n",
    "                    elif keys[1] == \"series_accession_ident\":\n",
    "                        proj_result[\"_class_ori\"] = \"series\"\n",
    "                    elif keys[1] == \"creator_accession_ident\":\n",
    "                        proj_result[\"_class_ori\"] = \"creator\"\n",
    "                    if keys[0] == \"types\":\n",
    "                        proj_result[keys[0]] = {keys[1]: acde_attr_v}\n",
    "                elif part_num == 3:\n",
    "                    proj_result[keys[0]][keys[1]] = {}\n",
    "                    proj_result[keys[0]][keys[1]][keys[2]] = acde_attr_v\n",
    "        proj_result.update({\"data_source\": \"SFC\", \"_class\": \"resource\"})\n",
    "        if proj_result.get(\"_class_ori\") is None:\n",
    "            proj_result.update({\"_class_ori\": \"collection\"})\n",
    "        try:\n",
    "            # insert new record\n",
    "            acde_db[curr_lvl].insert_one(proj_result)\n",
    "        except Exception as e:\n",
    "            print(e)\n",
    "            print(flatten_result)\n",
    "        pbar.update(1)"
   ]
  }
 ],
 "metadata": {
  "kernelspec": {
   "display_name": "ACD_Engine",
   "language": "python",
   "name": "acd_engine"
  },
  "language_info": {
   "codemirror_mode": {
    "name": "ipython",
    "version": 3
   },
   "file_extension": ".py",
   "mimetype": "text/x-python",
   "name": "python",
   "nbconvert_exporter": "python",
   "pygments_lexer": "ipython3",
   "version": "3.9.13"
  }
 },
 "nbformat": 4,
 "nbformat_minor": 5
}
