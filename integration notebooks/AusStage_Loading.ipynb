{
 "cells": [
  {
   "cell_type": "markdown",
   "id": "e072d29c-efdc-4d35-9659-61e622ead1fe",
   "metadata": {},
   "source": [
    "## 1 Setting"
   ]
  },
  {
   "cell_type": "code",
   "execution_count": 1,
   "id": "f2dbb496-25c5-46e0-ab95-7c73a397a67e",
   "metadata": {
    "execution": {
     "iopub.execute_input": "2023-05-07T20:53:16.648286Z",
     "iopub.status.busy": "2023-05-07T20:53:16.647295Z",
     "iopub.status.idle": "2023-05-07T20:53:17.828840Z",
     "shell.execute_reply": "2023-05-07T20:53:17.827840Z",
     "shell.execute_reply.started": "2023-05-07T20:53:16.648286Z"
    },
    "jupyter": {
     "source_hidden": true
    },
    "tags": []
   },
   "outputs": [],
   "source": [
    "import ast\n",
    "import os\n",
    "from collections import Counter, defaultdict\n",
    "from datetime import date, datetime\n",
    "\n",
    "import pandas as pd\n",
    "from bson import DBRef\n",
    "from tqdm import tqdm"
   ]
  },
  {
   "cell_type": "code",
   "execution_count": 2,
   "id": "a71dfada-3434-4e0c-a637-ffc96972995a",
   "metadata": {
    "execution": {
     "iopub.execute_input": "2023-05-07T20:53:17.831836Z",
     "iopub.status.busy": "2023-05-07T20:53:17.830837Z",
     "iopub.status.idle": "2023-05-07T20:53:19.369063Z",
     "shell.execute_reply": "2023-05-07T20:53:19.368064Z",
     "shell.execute_reply.started": "2023-05-07T20:53:17.831836Z"
    },
    "jupyter": {
     "source_hidden": true
    },
    "tags": []
   },
   "outputs": [],
   "source": [
    "import sys\n",
    "\n",
    "codefolder = \"C:\\ProjectCollections\\Programs\\Australia_Cultural_Data_Engine\\codes\"\n",
    "sys.path.append(codefolder)\n",
    "\n",
    "from acde import MongoDBManipulation as acde_manip\n",
    "from ausstage import DBExtraction as adb_manip\n",
    "from general import GeneralFunctions as gen_gf\n",
    "from general import JsonProcessing as jp\n",
    "from general import MongoDBManipulation as gen_manip"
   ]
  },
  {
   "cell_type": "markdown",
   "id": "5f705ef6-6286-4d6a-94df-04745d772eb4",
   "metadata": {},
   "source": [
    "## 2 Database Connection"
   ]
  },
  {
   "cell_type": "code",
   "execution_count": 3,
   "id": "e640d9ff-11a5-4b62-8507-edc2d5ca364f",
   "metadata": {
    "execution": {
     "iopub.execute_input": "2023-05-07T20:53:19.372056Z",
     "iopub.status.busy": "2023-05-07T20:53:19.371058Z",
     "iopub.status.idle": "2023-05-07T20:53:19.417933Z",
     "shell.execute_reply": "2023-05-07T20:53:19.415940Z",
     "shell.execute_reply.started": "2023-05-07T20:53:19.372056Z"
    },
    "jupyter": {
     "source_hidden": true
    },
    "tags": []
   },
   "outputs": [],
   "source": [
    "ausstage_engine = adb_manip.CreateMySQLEngine()\n",
    "acde_opr = acde_manip.ACDE_Manipulation()\n",
    "acde_db = acde_opr.acde_db"
   ]
  },
  {
   "cell_type": "markdown",
   "id": "558d7262-caa4-4eef-8f78-dbc6a3237cb5",
   "metadata": {
    "execution": {
     "iopub.execute_input": "2022-01-24T22:54:23.000148Z",
     "iopub.status.busy": "2022-01-24T22:54:22.999144Z",
     "iopub.status.idle": "2022-01-24T22:54:23.007147Z",
     "shell.execute_reply": "2022-01-24T22:54:23.006151Z",
     "shell.execute_reply.started": "2022-01-24T22:54:23.000148Z"
    }
   },
   "source": [
    "## 3 Data Extraction\n",
    "\n",
    "Brief Introduction"
   ]
  },
  {
   "cell_type": "markdown",
   "id": "1061b7c1-120c-4e50-a826-add07972c95a",
   "metadata": {
    "tags": []
   },
   "source": [
    "### 3.1 Place (venue)"
   ]
  },
  {
   "cell_type": "code",
   "execution_count": 4,
   "id": "71cc8296-ff7a-41f3-bbc5-56d9bac7899c",
   "metadata": {
    "execution": {
     "iopub.execute_input": "2023-05-07T20:53:19.420923Z",
     "iopub.status.busy": "2023-05-07T20:53:19.419927Z",
     "iopub.status.idle": "2023-05-07T20:53:20.444111Z",
     "shell.execute_reply": "2023-05-07T20:53:20.443070Z",
     "shell.execute_reply.started": "2023-05-07T20:53:19.420923Z"
    },
    "jupyter": {
     "source_hidden": true
    },
    "tags": []
   },
   "outputs": [],
   "source": [
    "place_df = pd.read_sql(\"select * from ausstage.acde_venue\", ausstage_engine)"
   ]
  },
  {
   "cell_type": "code",
   "execution_count": 5,
   "id": "db97cfaa-6a72-4cd0-beb3-464c681623b2",
   "metadata": {
    "execution": {
     "iopub.execute_input": "2023-05-07T20:53:20.445066Z",
     "iopub.status.busy": "2023-05-07T20:53:20.445066Z",
     "iopub.status.idle": "2023-05-07T20:53:20.539815Z",
     "shell.execute_reply": "2023-05-07T20:53:20.538815Z",
     "shell.execute_reply.started": "2023-05-07T20:53:20.445066Z"
    },
    "jupyter": {
     "source_hidden": true
    },
    "scrolled": true,
    "tags": []
   },
   "outputs": [
    {
     "name": "stdout",
     "output_type": "stream",
     "text": [
      "<class 'pandas.core.frame.DataFrame'>\n",
      "RangeIndex: 11864 entries, 0 to 11863\n",
      "Data columns (total 36 columns):\n",
      " #   Column                 Non-Null Count  Dtype  \n",
      "---  ------                 --------------  -----  \n",
      " 0   ori_id                 11864 non-null  int64  \n",
      " 1   ori_dbid               11864 non-null  int64  \n",
      " 2   ori_dbid_unf           11864 non-null  int64  \n",
      " 3   display_name           11864 non-null  object \n",
      " 4   alternative_names      11864 non-null  object \n",
      " 5   postcode               11463 non-null  object \n",
      " 6   street                 11034 non-null  object \n",
      " 7   suburb                 11837 non-null  object \n",
      " 8   state                  11864 non-null  object \n",
      " 9   country                11864 non-null  object \n",
      " 10  longitude              10517 non-null  object \n",
      " 11  latitude               10520 non-null  object \n",
      " 12  capacity               2137 non-null   float64\n",
      " 13  contact                7917 non-null   object \n",
      " 14  phone                  8224 non-null   object \n",
      " 15  fax                    7935 non-null   object \n",
      " 16  email                  7987 non-null   object \n",
      " 17  web_links              8157 non-null   object \n",
      " 18  note                   8624 non-null   object \n",
      " 19  regional_or_metro      6214 non-null   object \n",
      " 20  radius                 907 non-null    float64\n",
      " 21  elevation              2 non-null      float64\n",
      " 22  yyyyfirst_date         7830 non-null   object \n",
      " 23  mmfirst_date           7830 non-null   object \n",
      " 24  ddfirst_date           7830 non-null   object \n",
      " 25  yyyylast_date          7830 non-null   object \n",
      " 26  mmlast_date            7830 non-null   object \n",
      " 27  ddlast_date            7830 non-null   object \n",
      " 28  date_modified          4518 non-null   object \n",
      " 29  date_created           5380 non-null   object \n",
      " 30  contributors_created   5380 non-null   object \n",
      " 31  contributors_modified  4518 non-null   object \n",
      " 32  ori_url                11864 non-null  object \n",
      " 33  data_source            11864 non-null  object \n",
      " 34  _class                 11864 non-null  object \n",
      " 35  _class_ori             11864 non-null  object \n",
      "dtypes: float64(3), int64(3), object(30)\n",
      "memory usage: 3.3+ MB\n"
     ]
    }
   ],
   "source": [
    "place_df.info()"
   ]
  },
  {
   "cell_type": "code",
   "execution_count": 6,
   "id": "8a3b3389-ed41-4e5e-82bb-6808b6ea29d8",
   "metadata": {
    "execution": {
     "iopub.execute_input": "2023-05-07T20:53:20.541809Z",
     "iopub.status.busy": "2023-05-07T20:53:20.540810Z",
     "iopub.status.idle": "2023-05-07T20:53:30.517659Z",
     "shell.execute_reply": "2023-05-07T20:53:30.516682Z",
     "shell.execute_reply.started": "2023-05-07T20:53:20.541809Z"
    },
    "jupyter": {
     "source_hidden": true
    },
    "scrolled": true,
    "tags": []
   },
   "outputs": [
    {
     "name": "stderr",
     "output_type": "stream",
     "text": [
      "Loading place level: 100%|█████████████████████████████████████████████████████| 11864/11864 [00:09<00:00, 1296.29it/s]\n"
     ]
    }
   ],
   "source": [
    "removeFields_place = [\n",
    "    \"country\",\n",
    "    \"state\",\n",
    "    \"suburb\",\n",
    "    \"street\",\n",
    "    \"postcode\",\n",
    "    \"longitude\",\n",
    "    \"latitude\",\n",
    "    \"contributors_modified\",\n",
    "    \"contributors_created\",\n",
    "    \"yyyyfirst_date\",\n",
    "    \"mmfirst_date\",\n",
    "    \"ddfirst_date\",\n",
    "    \"yyyylast_date\",\n",
    "    \"mmlast_date\",\n",
    "    \"ddlast_date\",\n",
    "]\n",
    "\n",
    "collection_places = {}\n",
    "curr_lvl = \"place\"\n",
    "acde_db[curr_lvl].delete_many({\"data_source\": \"AusStage\"})\n",
    "\n",
    "#####\n",
    "# Construct fields and load to acde.place\n",
    "#####\n",
    "with tqdm(total=place_df.shape[0], desc=f\"Loading {curr_lvl} level\") as pbar:\n",
    "    for record in place_df.to_dict(\"records\"):\n",
    "        if record.get(\"alternative_names\"):\n",
    "            record[\"alternative_names\"] = record[\"alternative_names\"].split(\"; \")\n",
    "        record[\"address\"] = {\n",
    "            \"country\": record.get(\"country\"),\n",
    "            \"state\": record.get(\"state\"),\n",
    "            \"suburb\": record.get(\"suburb\"),\n",
    "            \"street\": record.get(\"street\"),\n",
    "            \"postcode\": record.get(\"postcode\"),\n",
    "        }\n",
    "        record[\"geo_coord\"] = {\n",
    "            \"longitude\": float(record.get(\"longitude\"))\n",
    "            if isinstance(record.get(\"longitude\"), float)\n",
    "            else None,\n",
    "            \"latitude\": float(record.get(\"latitude\"))\n",
    "            if isinstance(record.get(\"latitude\"), float)\n",
    "            else None,\n",
    "        }\n",
    "        record[\"date_range\"] = {\n",
    "            \"date_start\": {\n",
    "                \"year\": record.get(\"yyyyfirst_date\"),\n",
    "                \"month\": record.get(\"mmfirst_date\").lstrip(\"0\")\n",
    "                if record.get(\"mmfirst_date\")\n",
    "                else None,\n",
    "                \"day\": record.get(\"ddfirst_date\").lstrip(\"0\")\n",
    "                if record.get(\"ddfirst_date\")\n",
    "                else None,\n",
    "            },\n",
    "            \"date_end\": {\n",
    "                \"year\": record.get(\"yyyylast_date\"),\n",
    "                \"month\": record.get(\"mmlast_date\").lstrip(\"0\")\n",
    "                if record.get(\"mmlast_date\")\n",
    "                else None,\n",
    "                \"day\": record.get(\"ddlast_date\").lstrip(\"0\")\n",
    "                if record.get(\"ddlast_date\")\n",
    "                else None,\n",
    "            },\n",
    "        }\n",
    "        for date_field in [\"date_modified\", \"date_created\"]:\n",
    "            record[date_field] = {\n",
    "                \"year\": str(record.get(date_field).year)\n",
    "                if record.get(date_field)\n",
    "                else None,\n",
    "                \"month\": str(record.get(date_field).month)\n",
    "                if record.get(date_field)\n",
    "                else None,\n",
    "                \"day\": str(record.get(date_field).day)\n",
    "                if record.get(date_field)\n",
    "                else None,\n",
    "            }\n",
    "        record[\"contributors\"] = list(\n",
    "            set([record[\"contributors_modified\"], record[\"contributors_created\"]])\n",
    "            - set([None, \"\"])\n",
    "        )\n",
    "        for f in removeFields_place:\n",
    "            record.pop(f)\n",
    "        record = jp.clean_empty_values(record)\n",
    "        collection_places[record.get(\"ori_dbid\")] = record\n",
    "        try:\n",
    "            # insert new record\n",
    "            acde_db[curr_lvl].insert_one(record)\n",
    "        except Exception as e:\n",
    "            print(e)\n",
    "            print(record.get(\"ori_dbid\"))\n",
    "        pbar.update(1)\n",
    "\n",
    "del place_df"
   ]
  },
  {
   "cell_type": "markdown",
   "id": "77ba78e0-47d0-4b2a-9744-4c3a64fcdf26",
   "metadata": {
    "tags": []
   },
   "source": [
    "### 3.2 Resource (Item & datasource)"
   ]
  },
  {
   "cell_type": "markdown",
   "id": "1875c41c-0637-4b51-913e-dae35c6fd08e",
   "metadata": {},
   "source": [
    "#### item"
   ]
  },
  {
   "cell_type": "code",
   "execution_count": 7,
   "id": "778b8401-16d3-45e7-9f37-b6e7ef3c0795",
   "metadata": {
    "execution": {
     "iopub.execute_input": "2023-05-07T20:53:30.519647Z",
     "iopub.status.busy": "2023-05-07T20:53:30.518647Z",
     "iopub.status.idle": "2023-05-07T20:53:38.315744Z",
     "shell.execute_reply": "2023-05-07T20:53:38.313749Z",
     "shell.execute_reply.started": "2023-05-07T20:53:30.519647Z"
    },
    "jupyter": {
     "source_hidden": true
    },
    "tags": []
   },
   "outputs": [],
   "source": [
    "item_df = pd.read_sql(\"select * from ausstage.acde_item;\", ausstage_engine)\n",
    "\n",
    "item_df[\"sourceid\"] = item_df[\"sourceid\"].fillna(\"\").apply(lambda x: int(x) if x else x)\n",
    "item_df[\"secondary_genres\"] = item_df.secondary_genres.apply(\n",
    "    lambda x: [] if x is None else ast.literal_eval(x)\n",
    ")\n",
    "item_df[\"content_indicators\"] = item_df.content_indicators.apply(\n",
    "    lambda x: [] if x is None else ast.literal_eval(x)\n",
    ")"
   ]
  },
  {
   "cell_type": "code",
   "execution_count": 8,
   "id": "8e696f59-a05d-43e1-bae0-3e5f1235a658",
   "metadata": {
    "execution": {
     "iopub.execute_input": "2023-05-07T20:53:38.316741Z",
     "iopub.status.busy": "2023-05-07T20:53:38.316741Z",
     "iopub.status.idle": "2023-05-07T20:53:38.844329Z",
     "shell.execute_reply": "2023-05-07T20:53:38.842335Z",
     "shell.execute_reply.started": "2023-05-07T20:53:38.316741Z"
    },
    "jupyter": {
     "source_hidden": true
    },
    "scrolled": true,
    "tags": []
   },
   "outputs": [
    {
     "name": "stdout",
     "output_type": "stream",
     "text": [
      "<class 'pandas.core.frame.DataFrame'>\n",
      "RangeIndex: 73344 entries, 0 to 73343\n",
      "Data columns (total 54 columns):\n",
      " #   Column                 Non-Null Count  Dtype \n",
      "---  ------                 --------------  ----- \n",
      " 0   ori_id                 73344 non-null  int64 \n",
      " 1   ori_dbid               73344 non-null  int64 \n",
      " 2   catalogue              32458 non-null  object\n",
      " 3   institution            19243 non-null  object\n",
      " 4   description            27829 non-null  object\n",
      " 5   description_abstract   30035 non-null  object\n",
      " 6   item_condition         8147 non-null   object\n",
      " 7   detail_comments        27520 non-null  object\n",
      " 8   donated_purchased      26195 non-null  object\n",
      " 9   aquired_from           27729 non-null  object\n",
      " 10  storage                27536 non-null  object\n",
      " 11  provenance             27191 non-null  object\n",
      " 12  significance           26729 non-null  object\n",
      " 13  comments               27439 non-null  object\n",
      " 14  item_url               29605 non-null  object\n",
      " 15  format_extent          27182 non-null  object\n",
      " 16  format_medium          27350 non-null  object\n",
      " 17  format_mimetype        26732 non-null  object\n",
      " 18  format                 27767 non-null  object\n",
      " 19  ident_isbn             26957 non-null  object\n",
      " 20  ident_ismn             26728 non-null  object\n",
      " 21  ident_issn             26914 non-null  object\n",
      " 22  ident_sici             26729 non-null  object\n",
      " 23  rights_access_rights   28988 non-null  object\n",
      " 24  rights                 27372 non-null  object\n",
      " 25  rights_holder          27213 non-null  object\n",
      " 26  title                  41339 non-null  object\n",
      " 27  alternative_titles     27100 non-null  object\n",
      " 28  citation               73344 non-null  object\n",
      " 29  date_notes             27022 non-null  object\n",
      " 30  publisher              27696 non-null  object\n",
      " 31  publisher_location     27866 non-null  object\n",
      " 32  volume                 27158 non-null  object\n",
      " 33  issue                  27509 non-null  object\n",
      " 34  page                   43295 non-null  object\n",
      " 35  sourceid               73344 non-null  object\n",
      " 36  primary_type           73344 non-null  object\n",
      " 37  secondary_type         73344 non-null  object\n",
      " 38  language               38623 non-null  object\n",
      " 39  created_date           5277 non-null   object\n",
      " 40  copyright_date         110 non-null    object\n",
      " 41  issued_date            61931 non-null  object\n",
      " 42  accessioned_date       322 non-null    object\n",
      " 43  terminated_date        544 non-null    object\n",
      " 44  content_indicators     73344 non-null  object\n",
      " 45  secondary_genres       73344 non-null  object\n",
      " 46  contributors_created   73344 non-null  object\n",
      " 47  date_created           38097 non-null  object\n",
      " 48  contributors_modified  22949 non-null  object\n",
      " 49  date_modified          22949 non-null  object\n",
      " 50  ori_url                73344 non-null  object\n",
      " 51  data_source            73344 non-null  object\n",
      " 52  _class                 73344 non-null  object\n",
      " 53  _class_ori             73344 non-null  object\n",
      "dtypes: int64(2), object(52)\n",
      "memory usage: 30.2+ MB\n"
     ]
    }
   ],
   "source": [
    "item_df.info()"
   ]
  },
  {
   "cell_type": "code",
   "execution_count": 9,
   "id": "12e8b9d1-6dce-42ff-9691-f11132e84ab1",
   "metadata": {
    "execution": {
     "iopub.execute_input": "2023-05-07T20:53:38.848319Z",
     "iopub.status.busy": "2023-05-07T20:53:38.847322Z",
     "iopub.status.idle": "2023-05-07T20:54:46.861001Z",
     "shell.execute_reply": "2023-05-07T20:54:46.860004Z",
     "shell.execute_reply.started": "2023-05-07T20:53:38.848319Z"
    },
    "jupyter": {
     "source_hidden": true
    },
    "scrolled": true,
    "tags": []
   },
   "outputs": [
    {
     "name": "stderr",
     "output_type": "stream",
     "text": [
      "Loading resource level: 100%|██████████████████████████████████████████████████| 73344/73344 [00:50<00:00, 1458.45it/s]\n"
     ]
    }
   ],
   "source": [
    "#####\n",
    "# Construct fields and load to acde.resource\n",
    "#####\n",
    "\n",
    "removeFields_item = [\n",
    "    \"catalogue\",\n",
    "    \"institution\",\n",
    "    \"donated_purchased\",\n",
    "    \"storage\",\n",
    "    \"aquired_from\",\n",
    "    \"provenance\",\n",
    "    \"significance\",\n",
    "    \"item_condition\",\n",
    "    \"comments\",\n",
    "    \"detail_comments\",\n",
    "    \"language\",\n",
    "    \"format_extent\",\n",
    "    \"format_medium\",\n",
    "    \"format_mimetype\",\n",
    "    \"format\",\n",
    "    \"ident_isbn\",\n",
    "    \"ident_ismn\",\n",
    "    \"ident_issn\",\n",
    "    \"ident_sici\",\n",
    "    \"volume\",\n",
    "    \"issue\",\n",
    "    \"page\",\n",
    "    \"citation\",\n",
    "    \"publisher\",\n",
    "    \"publisher_location\",\n",
    "    \"item_url\",\n",
    "    \"created_date\",\n",
    "    \"copyright_date\",\n",
    "    \"issued_date\",\n",
    "    \"accessioned_date\",\n",
    "    \"terminated_date\",\n",
    "    \"date_notes\",\n",
    "    \"rights_access_rights\",\n",
    "    \"rights\",\n",
    "    \"rights_holder\",\n",
    "    \"primary_type\",\n",
    "    \"secondary_type\",\n",
    "    \"contributors_created\",\n",
    "    \"contributors_modified\",\n",
    "]\n",
    "\n",
    "collection_items = {}\n",
    "\n",
    "for record in item_df.fillna(\"\").to_dict(\"records\"):\n",
    "    record[\"types\"] = [\n",
    "        {\n",
    "            \"primary_type\": record.get(\"primary_type\"),\n",
    "            \"secondary_type\": record.get(\"secondary_type\"),\n",
    "        }\n",
    "    ]\n",
    "    record[\"acquisition_info\"] = {\n",
    "        \"catalogue\": record.get(\"catalogue\"),\n",
    "        \"institution\": record.get(\"institution\"),\n",
    "        \"donated_purchased\": record.get(\"donated_purchased\"),\n",
    "        \"storage\": record.get(\"storgae\"),\n",
    "        \"from\": record.get(\"aquired_from\"),\n",
    "        \"provenance\": record.get(\"provenance\"),\n",
    "        \"significance \": record.get(\"significance\"),\n",
    "        \"condition\": record.get(\"item_condition\"),\n",
    "        \"comments\": record.get(\"comments \"),\n",
    "        \"detail_comments\": record.get(\"detail_comments\"),\n",
    "    }\n",
    "    record[\"format_info\"] = {\n",
    "        \"language\": record.get(\"language\"),\n",
    "        \"medium\": record.get(\"format_medium\"),\n",
    "        \"extent\": record.get(\"format_extent\"),\n",
    "        \"mimetype\": record.get(\"format_mimetype\"),\n",
    "        \"format\": record.get(\"format\"),\n",
    "    }\n",
    "    record[\"identifier_info\"] = {\n",
    "        \"isbn\": record.get(\"ident_isbn\"),\n",
    "        \"ismn\": record.get(\"ident_ismn\"),\n",
    "        \"issn\": record.get(\"ident_issn\"),\n",
    "        \"sici\": record.get(\"ident_sici\"),\n",
    "    }\n",
    "    record[\"date_info\"] = {\n",
    "        \"note\": record.get(\"date_notes\"),\n",
    "    }\n",
    "    for date_field in [\n",
    "        \"created_date\",\n",
    "        \"copyright_date\",\n",
    "        \"issued_date\",\n",
    "        \"accessioned_date\",\n",
    "        \"terminated_date\",\n",
    "    ]:\n",
    "        record[\"date_info\"][date_field] = {\n",
    "            \"year\": str(record.get(date_field).year)\n",
    "            if record.get(date_field)\n",
    "            else None,\n",
    "            \"month\": str(record.get(date_field).month)\n",
    "            if record.get(date_field)\n",
    "            else None,\n",
    "            \"day\": str(record.get(date_field).day) if record.get(date_field) else None,\n",
    "        }\n",
    "    record[\"source_info\"] = {\n",
    "        \"publisher\": {\n",
    "            \"name\": record.get(\"publisher\"),\n",
    "            \"place\": {\"display_name\": record.get(\"publisher_location\")},\n",
    "        },\n",
    "        \"volume\": record.get(\"volume\"),\n",
    "        \"issue\": record.get(\"issue\"),\n",
    "        \"page\": record.get(\"page\"),\n",
    "        \"citation\": record.get(\"citation\"),\n",
    "        \"url\": record.get(\"item_url\"),\n",
    "    }\n",
    "    record[\"right_info\"] = {\n",
    "        \"description\": record.get(\"rights\"),\n",
    "        \"owner\": record.get(\"rights_holder\"),\n",
    "        \"access_rights\": record.get(\"rights_access_rights\"),\n",
    "    }\n",
    "    for date_field in [\"date_modified\", \"date_created\"]:\n",
    "        record[date_field] = {\n",
    "            \"year\": str(record.get(date_field).year)\n",
    "            if record.get(date_field)\n",
    "            else None,\n",
    "            \"month\": str(record.get(date_field).month)\n",
    "            if record.get(date_field)\n",
    "            else None,\n",
    "            \"day\": str(record.get(date_field).day) if record.get(date_field) else None,\n",
    "        }\n",
    "    if record.get(\"alternative_titles\"):\n",
    "        record[\"alternative_titles\"] = record[\"alternative_titles\"].split(\"; \")\n",
    "    record[\"contributors\"] = list(\n",
    "        set([record[\"contributors_modified\"], record[\"contributors_created\"]])\n",
    "        - set([None, \"\"])\n",
    "    )\n",
    "    for f in removeFields_item:\n",
    "        record.pop(f)\n",
    "    record = jp.clean_empty_values(record)\n",
    "    collection_items[record.get(\"ori_dbid\")] = record\n",
    "\n",
    "\n",
    "# Add Source, only take title, alternative_titles, types, description\n",
    "for ori_dbid, record in collection_items.items():\n",
    "    if record.get(\"sourceid\"):\n",
    "        source_record = collection_items[record.get(\"sourceid\")]\n",
    "        source_record_brief = jp.clean_empty_values(\n",
    "            {\n",
    "                \"ori_dbid\": record.get(\"ori_dbid\"),\n",
    "                \"title\": record.get(\"title\"),\n",
    "                \"alternative_titles\": record.get(\"alternative_titles\"),\n",
    "                \"description\": record.get(\"description\"),\n",
    "                \"types\": record.get(\"types\"),\n",
    "                \"content_indicators\": record.get(\"content_indicators\"),\n",
    "                \"secondary_genres\": record.get(\"secondary_genres\"),\n",
    "            }\n",
    "        )\n",
    "        record[\"source\"] = source_record_brief\n",
    "        record.pop(\"sourceid\")\n",
    "\n",
    "collection_items = list(collection_items.values())\n",
    "\n",
    "curr_lvl = \"resource\"\n",
    "acde_db[curr_lvl].delete_many({\"data_source\": \"AusStage\", \"_class_ori\": \"item\"})\n",
    "\n",
    "#####\n",
    "# Load item (resource)\n",
    "#####\n",
    "with tqdm(total=len(collection_items), desc=f\"Loading {curr_lvl} level\") as pbar:\n",
    "    for record in collection_items:\n",
    "        try:\n",
    "            # insert new record\n",
    "            acde_db[curr_lvl].insert_one(record)\n",
    "        except Exception as e:\n",
    "            print(e)\n",
    "            print(record.get(\"ori_dbid\"))\n",
    "        pbar.update(1)\n",
    "\n",
    "del item_df"
   ]
  },
  {
   "cell_type": "markdown",
   "id": "3767d34b-63a7-4e1a-8080-74c7e41abe1d",
   "metadata": {},
   "source": [
    "#### datasource"
   ]
  },
  {
   "cell_type": "code",
   "execution_count": 10,
   "id": "c426c011-67fe-4d95-b915-44bbc0d86881",
   "metadata": {
    "execution": {
     "iopub.execute_input": "2023-05-07T20:54:46.863993Z",
     "iopub.status.busy": "2023-05-07T20:54:46.862995Z",
     "iopub.status.idle": "2023-05-07T20:54:52.761095Z",
     "shell.execute_reply": "2023-05-07T20:54:52.760069Z",
     "shell.execute_reply.started": "2023-05-07T20:54:46.863993Z"
    },
    "jupyter": {
     "source_hidden": true
    },
    "tags": []
   },
   "outputs": [],
   "source": [
    "#####\n",
    "# For Data Source\n",
    "#####\n",
    "\n",
    "datasrc_df = pd.read_sql(\"select * from ausstage.acde_datasrc;\", ausstage_engine)\n",
    "# actually, DATASOURCE is a kind of type...\n",
    "# DATASOURCE >> type/title/categorization\n",
    "# DATASOURCEDESCRIPTION >> title/url/date\n",
    "datasrc_df = datasrc_df.drop(\n",
    "    [\"EVENTID\", \"DATASOURCEEVLINKID\"], axis=1\n",
    ").drop_duplicates()"
   ]
  },
  {
   "cell_type": "code",
   "execution_count": 11,
   "id": "5fa88e6d-1ab7-4dd3-9e63-9dc9948e147d",
   "metadata": {
    "execution": {
     "iopub.execute_input": "2023-05-07T20:54:52.762064Z",
     "iopub.status.busy": "2023-05-07T20:54:52.762064Z",
     "iopub.status.idle": "2023-05-07T20:54:52.836863Z",
     "shell.execute_reply": "2023-05-07T20:54:52.835864Z",
     "shell.execute_reply.started": "2023-05-07T20:54:52.762064Z"
    },
    "jupyter": {
     "source_hidden": true
    },
    "scrolled": true,
    "tags": []
   },
   "outputs": [
    {
     "name": "stdout",
     "output_type": "stream",
     "text": [
      "<class 'pandas.core.frame.DataFrame'>\n",
      "Int64Index: 21890 entries, 0 to 149820\n",
      "Data columns (total 8 columns):\n",
      " #   Column         Non-Null Count  Dtype \n",
      "---  ------         --------------  ----- \n",
      " 0   ori_id         21890 non-null  int64 \n",
      " 1   ori_dbid       21890 non-null  int64 \n",
      " 2   title          21841 non-null  object\n",
      " 3   is_collection  21890 non-null  object\n",
      " 4   description    612 non-null    object\n",
      " 5   _class         21890 non-null  object\n",
      " 6   _class_ori     21890 non-null  object\n",
      " 7   data_source    21890 non-null  object\n",
      "dtypes: int64(2), object(6)\n",
      "memory usage: 1.5+ MB\n"
     ]
    }
   ],
   "source": [
    "datasrc_df.info()"
   ]
  },
  {
   "cell_type": "code",
   "execution_count": 12,
   "id": "d0854e37-f499-480e-a355-65973c9b7e85",
   "metadata": {
    "execution": {
     "iopub.execute_input": "2023-05-07T20:54:52.848830Z",
     "iopub.status.busy": "2023-05-07T20:54:52.847833Z",
     "iopub.status.idle": "2023-05-07T20:55:07.099870Z",
     "shell.execute_reply": "2023-05-07T20:55:07.098871Z",
     "shell.execute_reply.started": "2023-05-07T20:54:52.848830Z"
    },
    "jupyter": {
     "source_hidden": true
    },
    "tags": []
   },
   "outputs": [
    {
     "name": "stderr",
     "output_type": "stream",
     "text": [
      "Loading resource level: 100%|██████████████████████████████████████████████████| 21890/21890 [00:13<00:00, 1629.96it/s]\n"
     ]
    }
   ],
   "source": [
    "curr_lvl = \"resource\"\n",
    "acde_db[curr_lvl].delete_many({\"data_source\": \"AusStage\", \"_class_ori\": \"datasource\"})\n",
    "\n",
    "#####\n",
    "# Load to acde.resource\n",
    "#####\n",
    "with tqdm(total=datasrc_df.shape[0], desc=f\"Loading {curr_lvl} level\") as pbar:\n",
    "    for record in datasrc_df.to_dict(\"records\"):\n",
    "        try:\n",
    "            # insert new record\n",
    "            acde_db[curr_lvl].insert_one(record)\n",
    "        except Exception as e:\n",
    "            print(e)\n",
    "            print(record.get(\"ori_dbid\"))\n",
    "        pbar.update(1)\n",
    "\n",
    "del datasrc_df"
   ]
  },
  {
   "cell_type": "markdown",
   "id": "c27ec8ff-ae91-49b5-9160-535756ceeb28",
   "metadata": {
    "tags": []
   },
   "source": [
    "### 3.3 Work"
   ]
  },
  {
   "cell_type": "code",
   "execution_count": 13,
   "id": "0dbc8515-d60f-40a9-8d05-f3a634f9d984",
   "metadata": {
    "execution": {
     "iopub.execute_input": "2023-05-07T20:55:07.101865Z",
     "iopub.status.busy": "2023-05-07T20:55:07.101865Z",
     "iopub.status.idle": "2023-05-07T20:55:07.983377Z",
     "shell.execute_reply": "2023-05-07T20:55:07.982380Z",
     "shell.execute_reply.started": "2023-05-07T20:55:07.101865Z"
    },
    "jupyter": {
     "source_hidden": true
    },
    "tags": []
   },
   "outputs": [],
   "source": [
    "work_df = pd.read_sql(\"select * from ausstage.acde_work;\", ausstage_engine)"
   ]
  },
  {
   "cell_type": "code",
   "execution_count": 14,
   "id": "c5076ac5-c77f-4f89-94ce-c36a4c35a3db",
   "metadata": {
    "execution": {
     "iopub.execute_input": "2023-05-07T20:55:07.984375Z",
     "iopub.status.busy": "2023-05-07T20:55:07.984375Z",
     "iopub.status.idle": "2023-05-07T20:55:08.060943Z",
     "shell.execute_reply": "2023-05-07T20:55:08.059975Z",
     "shell.execute_reply.started": "2023-05-07T20:55:07.984375Z"
    },
    "jupyter": {
     "source_hidden": true
    },
    "tags": []
   },
   "outputs": [
    {
     "name": "stdout",
     "output_type": "stream",
     "text": [
      "<class 'pandas.core.frame.DataFrame'>\n",
      "RangeIndex: 19972 entries, 0 to 19971\n",
      "Data columns (total 16 columns):\n",
      " #   Column                 Non-Null Count  Dtype \n",
      "---  ------                 --------------  ----- \n",
      " 0   ori_id                 19972 non-null  int64 \n",
      " 1   ori_dbid               19972 non-null  int64 \n",
      " 2   title                  19972 non-null  object\n",
      " 3   alternative_titles     13390 non-null  object\n",
      " 4   country                13882 non-null  object\n",
      " 5   yyyydate_first_known   6884 non-null   object\n",
      " 6   mmdate_first_known     6752 non-null   object\n",
      " 7   dddate_first_known     6740 non-null   object\n",
      " 8   date_created           19972 non-null  object\n",
      " 9   contributors_created   19972 non-null  object\n",
      " 10  date_modified          4448 non-null   object\n",
      " 11  contributors_modified  4448 non-null   object\n",
      " 12  ori_url                19972 non-null  object\n",
      " 13  data_source            19972 non-null  object\n",
      " 14  _class                 19972 non-null  object\n",
      " 15  _class_ori             19972 non-null  object\n",
      "dtypes: int64(2), object(14)\n",
      "memory usage: 2.4+ MB\n"
     ]
    }
   ],
   "source": [
    "work_df.info()"
   ]
  },
  {
   "cell_type": "code",
   "execution_count": 15,
   "id": "92d225b0-49db-4513-8f43-4f0637b18f91",
   "metadata": {
    "execution": {
     "iopub.execute_input": "2023-05-07T20:55:08.062968Z",
     "iopub.status.busy": "2023-05-07T20:55:08.061970Z",
     "iopub.status.idle": "2023-05-07T20:55:24.130307Z",
     "shell.execute_reply": "2023-05-07T20:55:24.129308Z",
     "shell.execute_reply.started": "2023-05-07T20:55:08.062968Z"
    },
    "jupyter": {
     "source_hidden": true
    },
    "tags": []
   },
   "outputs": [
    {
     "name": "stderr",
     "output_type": "stream",
     "text": [
      "Loading work level: 100%|██████████████████████████████████████████████████████| 19972/19972 [00:15<00:00, 1317.22it/s]\n"
     ]
    }
   ],
   "source": [
    "removeFields_work = [\n",
    "    \"country\",\n",
    "    \"contributors_modified\",\n",
    "    \"contributors_created\",\n",
    "    \"yyyydate_first_known\",\n",
    "    \"mmdate_first_known\",\n",
    "    \"dddate_first_known\",\n",
    "]\n",
    "\n",
    "collection_works = []\n",
    "\n",
    "curr_lvl = \"work\"\n",
    "acde_db[curr_lvl].delete_many({\"data_source\": \"AusStage\"})\n",
    "\n",
    "#####\n",
    "# Construct fields and load to acde.work level\n",
    "#####\n",
    "with tqdm(total=work_df.shape[0], desc=f\"Loading {curr_lvl} level\") as pbar:\n",
    "    for record in work_df.to_dict(\"records\"):\n",
    "        if record.get(\"alternative_titles\"):\n",
    "            record[\"alternative_titles\"] = record[\"alternative_titles\"].split(\"; \")\n",
    "        record[\"coverage_range\"] = {\n",
    "            \"place\": {\"address\": {\"country\": record.get(\"country\")}},\n",
    "            \"date_range\": {\n",
    "                \"date_start\": {\n",
    "                    \"year\": record.get(\"yyyydate_first_known\"),\n",
    "                    \"month\": record.get(\"mmdate_first_known\").lstrip(\"0\")\n",
    "                    if record.get(\"mmdate_first_known\")\n",
    "                    else None,\n",
    "                    \"day\": record.get(\"dddate_first_known\").lstrip(\"0\")\n",
    "                    if record.get(\"dddate_first_known\")\n",
    "                    else None,\n",
    "                }\n",
    "            },\n",
    "        }\n",
    "        for date_field in [\"date_modified\", \"date_created\"]:\n",
    "            record[date_field] = {\n",
    "                \"year\": str(record.get(date_field).year)\n",
    "                if record.get(date_field)\n",
    "                else None,\n",
    "                \"month\": str(record.get(date_field).month)\n",
    "                if record.get(date_field)\n",
    "                else None,\n",
    "                \"day\": str(record.get(date_field).day)\n",
    "                if record.get(date_field)\n",
    "                else None,\n",
    "            }\n",
    "        record[\"contributors\"] = list(\n",
    "            set([record[\"contributors_modified\"], record[\"contributors_created\"]])\n",
    "            - set([None, \"\"])\n",
    "        )\n",
    "        for f in removeFields_work:\n",
    "            record.pop(f)\n",
    "        record = jp.clean_empty_values(record)\n",
    "        # collection_works.append(record)\n",
    "        try:\n",
    "            # insert new record\n",
    "            acde_db[curr_lvl].insert_one(record)\n",
    "        except Exception as e:\n",
    "            print(e)\n",
    "            print(record.get(\"ori_dbid\"))\n",
    "        pbar.update(1)\n",
    "\n",
    "del work_df"
   ]
  },
  {
   "cell_type": "markdown",
   "id": "1a8b13a8-2564-4e7a-b3fc-bd7e802c0dd7",
   "metadata": {
    "tags": []
   },
   "source": [
    "### 3.4 Event"
   ]
  },
  {
   "cell_type": "code",
   "execution_count": 16,
   "id": "bdc1980d-b9a2-4f49-b6f8-139e901219ad",
   "metadata": {
    "execution": {
     "iopub.execute_input": "2023-05-07T20:55:24.132301Z",
     "iopub.status.busy": "2023-05-07T20:55:24.132301Z",
     "iopub.status.idle": "2023-05-07T20:55:42.015583Z",
     "shell.execute_reply": "2023-05-07T20:55:42.013587Z",
     "shell.execute_reply.started": "2023-05-07T20:55:24.132301Z"
    },
    "jupyter": {
     "source_hidden": true
    },
    "tags": []
   },
   "outputs": [],
   "source": [
    "event_df = pd.read_sql(\"select * from ausstage.acde_event;\", ausstage_engine).drop(\n",
    "    [\"event_start_year\", \"event_end_year\"], axis=1\n",
    ")\n",
    "event_df[\"production_nationality\"] = event_df.production_nationality.apply(\n",
    "    lambda x: [] if x is None else ast.literal_eval(x)\n",
    ")\n",
    "event_df[\"text_nationality\"] = event_df.text_nationality.apply(\n",
    "    lambda x: [] if x is None else ast.literal_eval(x)\n",
    ")\n",
    "event_df[\"content_indicators\"] = event_df.content_indicators.apply(\n",
    "    lambda x: [] if x is None else ast.literal_eval(x)\n",
    ")"
   ]
  },
  {
   "cell_type": "code",
   "execution_count": 17,
   "id": "fa2fd314-b9ec-4ab1-8350-e2f54c4371f8",
   "metadata": {
    "execution": {
     "iopub.execute_input": "2023-05-07T20:55:42.017581Z",
     "iopub.status.busy": "2023-05-07T20:55:42.016582Z",
     "iopub.status.idle": "2023-05-07T20:56:46.103925Z",
     "shell.execute_reply": "2023-05-07T20:56:46.102933Z",
     "shell.execute_reply.started": "2023-05-07T20:55:42.017581Z"
    },
    "jupyter": {
     "source_hidden": true
    },
    "scrolled": true,
    "tags": []
   },
   "outputs": [],
   "source": [
    "#####\n",
    "# For genres in event\n",
    "#####\n",
    "\n",
    "event_genres_df = pd.read_sql(\n",
    "    \"select * from ausstage.acde_event_genres;\", ausstage_engine\n",
    ")\n",
    "event_genres_df[\"types\"] = event_genres_df.apply(\n",
    "    lambda x: (x[\"primary_type\"], x[\"secondary_type\"]), axis=1\n",
    ")\n",
    "event_genres = (\n",
    "    event_genres_df.groupby(\"EVENTID\")[\"types\"]\n",
    "    .apply(lambda x: list(set(x)))\n",
    "    .apply(\n",
    "        lambda x: [{\"primary_type\": pair[0], \"secondary_type\": pair[1]} for pair in x]\n",
    "    )\n",
    "    .fillna(\"\")\n",
    ")\n",
    "\n",
    "#####\n",
    "# For contributor functions in event\n",
    "#####\n",
    "\n",
    "event_contfunc_df = pd.read_sql(\n",
    "    \"select * from ausstage.acde_event_contfunc;\", ausstage_engine\n",
    ")\n",
    "\n",
    "event_contfunc_df = (\n",
    "    event_contfunc_df.groupby(\"EVENTID\")[\"contr_functions\"]\n",
    "    .agg(lambda x: dict(Counter(x)))\n",
    "    # .apply(lambda x: {k: v for k, v in x.items() if k is not None})\n",
    "    .apply(\n",
    "        lambda x: [\n",
    "            {\"function_name\": k, \"function_num\": v}\n",
    "            for k, v in x.items()\n",
    "            if k is not None\n",
    "        ]\n",
    "    )\n",
    "    .to_frame(\"function_names\")\n",
    "    .merge(\n",
    "        event_contfunc_df.query(\"PRIMARY_CREATOR == 'yes'\")\n",
    "        .groupby(\"EVENTID\")[\"contr_functions\"]\n",
    "        .agg(lambda x: list(x))\n",
    "        .apply(lambda x: sorted([i for i in x if i is not None]))\n",
    "        .to_frame(\"primary_creators\"),\n",
    "        how=\"left\",\n",
    "        left_index=True,\n",
    "        right_index=True,\n",
    "    )\n",
    ")\n",
    "event_contfunc_df = event_contfunc_df.fillna(\"\")\n",
    "\n",
    "#####\n",
    "# For organisation functions in event\n",
    "#####\n",
    "event_orgfunc_df = pd.read_sql(\n",
    "    \"select ORGANISATIONID, eventid, function_title, function_type from ausstage.acde_org_evfunc;\",\n",
    "    ausstage_engine,\n",
    ").drop_duplicates()\n",
    "\n",
    "eof_prod_df = (\n",
    "    event_orgfunc_df.query('function_type == \"production\"')\n",
    "    .groupby(\"eventid\")[\"function_title\"]\n",
    "    .agg(lambda x: dict(Counter(x)))\n",
    "    .apply(\n",
    "        lambda x: [\n",
    "            {\"function_name\": k, \"function_num\": v}\n",
    "            for k, v in x.items()\n",
    "            if k is not None\n",
    "        ]\n",
    "    )\n",
    "    .to_frame(\"production_functions\")\n",
    "    .copy()\n",
    ")\n",
    "eof_art_df = (\n",
    "    event_orgfunc_df.query('function_type == \"artistic\"')\n",
    "    .groupby(\"eventid\")[\"function_title\"]\n",
    "    .agg(lambda x: dict(Counter(x)))\n",
    "    .apply(\n",
    "        lambda x: [\n",
    "            {\"function_name\": k, \"function_num\": v}\n",
    "            for k, v in x.items()\n",
    "            if k is not None\n",
    "        ]\n",
    "    )\n",
    "    .to_frame(\"artistic_functions\")\n",
    "    .copy()\n",
    ")\n",
    "event_orgfunc_df = (\n",
    "    eof_prod_df.merge(eof_art_df, left_index=True, right_index=True, how=\"left\")\n",
    "    .apply(\n",
    "        lambda x: {\n",
    "            \"production_functions\": x[\"production_functions\"]\n",
    "            if x[\"production_functions\"]\n",
    "            else {},\n",
    "            \"artistic_functions\": x[\"artistic_functions\"]\n",
    "            if x[\"artistic_functions\"]\n",
    "            else {},\n",
    "        },\n",
    "        axis=1,\n",
    "    )\n",
    "    .to_frame(\"all_functions_org\")\n",
    ")\n",
    "\n",
    "#####\n",
    "# Merging functions and genres(types) to event\n",
    "#####\n",
    "event_df = event_df.merge(\n",
    "    event_genres, left_on=\"ori_dbid\", right_index=True, how=\"left\"\n",
    ")\n",
    "event_df = event_df.merge(\n",
    "    event_contfunc_df, left_on=\"ori_dbid\", right_index=True, how=\"left\"\n",
    ")\n",
    "event_df = event_df.merge(\n",
    "    event_orgfunc_df, left_on=\"ori_dbid\", right_index=True, how=\"left\"\n",
    ")"
   ]
  },
  {
   "cell_type": "code",
   "execution_count": 18,
   "id": "72b10a93-b794-4b82-8b74-212c0d022c08",
   "metadata": {
    "execution": {
     "iopub.execute_input": "2023-05-07T20:56:46.105919Z",
     "iopub.status.busy": "2023-05-07T20:56:46.105919Z",
     "iopub.status.idle": "2023-05-07T20:56:47.054900Z",
     "shell.execute_reply": "2023-05-07T20:56:47.053904Z",
     "shell.execute_reply.started": "2023-05-07T20:56:46.105919Z"
    },
    "jupyter": {
     "source_hidden": true
    },
    "scrolled": true,
    "tags": []
   },
   "outputs": [
    {
     "name": "stdout",
     "output_type": "stream",
     "text": [
      "<class 'pandas.core.frame.DataFrame'>\n",
      "RangeIndex: 124916 entries, 0 to 124915\n",
      "Data columns (total 43 columns):\n",
      " #   Column                  Non-Null Count   Dtype \n",
      "---  ------                  --------------   ----- \n",
      " 0   ori_id                  124916 non-null  int64 \n",
      " 1   ori_dbid                124916 non-null  int64 \n",
      " 2   ori_dbid_unf            124916 non-null  int64 \n",
      " 3   same_name_as_org        124916 non-null  object\n",
      " 4   title                   124916 non-null  object\n",
      " 5   umbrella                92731 non-null   object\n",
      " 6   description             110986 non-null  object\n",
      " 7   description_source      65243 non-null   object\n",
      " 8   part_of_a_tour          124916 non-null  object\n",
      " 9   world_premier           124916 non-null  object\n",
      " 10  YYYYFIRST_DATE          124916 non-null  object\n",
      " 11  MMFIRST_DATE            122783 non-null  object\n",
      " 12  DDFIRST_DATE            121092 non-null  object\n",
      " 13  YYYYLAST_DATE           115823 non-null  object\n",
      " 14  MMLAST_DATE             114681 non-null  object\n",
      " 15  DDLAST_DATE             113949 non-null  object\n",
      " 16  status                  124825 non-null  object\n",
      " 17  venueid                 124916 non-null  int64 \n",
      " 18  text_nationality        124916 non-null  object\n",
      " 19  production_nationality  124916 non-null  object\n",
      " 20  content_indicators      124916 non-null  object\n",
      " 21  YYYYOPENING_NIGHT       107766 non-null  object\n",
      " 22  MMOPENING_NIGHT         106735 non-null  object\n",
      " 23  DDOPENING_NIGHT         105910 non-null  object\n",
      " 24  estimated_dates         124916 non-null  object\n",
      " 25  further_information     90486 non-null   object\n",
      " 26  review                  81464 non-null   object\n",
      " 27  YYYYDATE_ENTERED        24647 non-null   object\n",
      " 28  MMDATE_ENTERED          24647 non-null   object\n",
      " 29  DDDATE_ENTERED          24646 non-null   object\n",
      " 30  YYYYDATE_UPDATED        12195 non-null   object\n",
      " 31  MMDATE_UPDATED          12194 non-null   object\n",
      " 32  DDDATE_UPDATED          12194 non-null   object\n",
      " 33  contributors_created    124908 non-null  object\n",
      " 34  contributors_modified   67505 non-null   object\n",
      " 35  ori_url                 124916 non-null  object\n",
      " 36  data_source             124916 non-null  object\n",
      " 37  _class                  124916 non-null  object\n",
      " 38  _class_ori              124916 non-null  object\n",
      " 39  types                   124912 non-null  object\n",
      " 40  function_names          106576 non-null  object\n",
      " 41  primary_creators        106576 non-null  object\n",
      " 42  all_functions_org       107086 non-null  object\n",
      "dtypes: int64(4), object(39)\n",
      "memory usage: 41.0+ MB\n"
     ]
    }
   ],
   "source": [
    "event_df.info()"
   ]
  },
  {
   "cell_type": "code",
   "execution_count": 19,
   "id": "36877334-1e79-4223-8ceb-dd20dd00a328",
   "metadata": {
    "execution": {
     "iopub.execute_input": "2023-05-07T20:56:47.057892Z",
     "iopub.status.busy": "2023-05-07T20:56:47.056896Z",
     "iopub.status.idle": "2023-05-07T20:58:55.558827Z",
     "shell.execute_reply": "2023-05-07T20:58:55.556833Z",
     "shell.execute_reply.started": "2023-05-07T20:56:47.056896Z"
    },
    "scrolled": true,
    "tags": []
   },
   "outputs": [
    {
     "name": "stderr",
     "output_type": "stream",
     "text": [
      "Loading event level: 100%|███████████████████████████████████████████████████| 124916/124916 [02:01<00:00, 1024.54it/s]\n"
     ]
    }
   ],
   "source": [
    "removeFields_event = [\n",
    "    \"YYYYFIRST_DATE\",\n",
    "    \"MMFIRST_DATE\",\n",
    "    \"DDFIRST_DATE\",\n",
    "    \"YYYYLAST_DATE\",\n",
    "    \"MMLAST_DATE\",\n",
    "    \"DDLAST_DATE\",\n",
    "    \"YYYYOPENING_NIGHT\",\n",
    "    \"MMOPENING_NIGHT\",\n",
    "    \"DDOPENING_NIGHT\",\n",
    "    \"YYYYDATE_ENTERED\",\n",
    "    \"MMDATE_ENTERED\",\n",
    "    \"DDDATE_ENTERED\",\n",
    "    \"YYYYDATE_UPDATED\",\n",
    "    \"MMDATE_UPDATED\",\n",
    "    \"DDDATE_UPDATED\",\n",
    "    \"function_names\",\n",
    "    \"primary_creators\",\n",
    "    \"venueid\",\n",
    "    \"contributors_created\",\n",
    "    \"contributors_modified\",\n",
    "    \"all_functions_org\",\n",
    "]\n",
    "\n",
    "collection_events = []\n",
    "\n",
    "curr_lvl = \"event\"\n",
    "acde_db[curr_lvl].delete_many({\"data_source\": \"AusStage\"})\n",
    "\n",
    "#####\n",
    "# Construct fields and load to acde.event level\n",
    "#####\n",
    "with tqdm(total=event_df.shape[0], desc=f\"Loading {curr_lvl} level\") as pbar:\n",
    "\n",
    "    for record in event_df.to_dict(\"records\"):\n",
    "        event_venue = adb_manip.lookup_place(\"venueid\", record, collection_places)\n",
    "        record[\"coverage_ranges\"] = [\n",
    "            {\n",
    "                \"date_range\": {\n",
    "                    \"date_start\": {\n",
    "                        \"year\": record.get(\"YYYYFIRST_DATE\"),\n",
    "                        \"month\": record.get(\"MMFIRST_DATE\").lstrip(\"0\")\n",
    "                        if record.get(\"MMFIRST_DATE\")\n",
    "                        else None,\n",
    "                        \"day\": record.get(\"DDFIRST_DATE\").lstrip(\"0\")\n",
    "                        if record.get(\"DDFIRST_DATE\")\n",
    "                        else None,\n",
    "                    },\n",
    "                    \"date_end\": {\n",
    "                        \"year\": record.get(\"YYYYLAST_DATE\"),\n",
    "                        \"month\": record.get(\"MMLAST_DATE\").lstrip(\"0\")\n",
    "                        if record.get(\"MMLAST_DATE\")\n",
    "                        else None,\n",
    "                        \"day\": record.get(\"DDLAST_DATE\").lstrip(\"0\")\n",
    "                        if record.get(\"DDLAST_DATE\")\n",
    "                        else None,\n",
    "                    },\n",
    "                },\n",
    "                \"place\": event_venue,\n",
    "            }\n",
    "        ]\n",
    "        record[\"opening_night\"] = {\n",
    "            \"year\": record.get(\"YYYYOPENING_NIGHT\"),\n",
    "            \"month\": record.get(\"MMOPENING_NIGHT\").lstrip(\"0\")\n",
    "            if record.get(\"MMOPENING_NIGHT\")\n",
    "            else None,\n",
    "            \"day\": record.get(\"DDOPENING_NIGHT\").lstrip(\"0\")\n",
    "            if record.get(\"DDOPENING_NIGHT\")\n",
    "            else None,\n",
    "        }\n",
    "        record[\"functions\"] = {\n",
    "            \"staff_functions\": {\n",
    "                \"functions\": record.get(\"function_names\"),\n",
    "                \"primary_creators\": record.get(\"primary_creators\"),\n",
    "            },\n",
    "            \"organization_functions\": {\"functions\": record.get(\"all_functions_org\")},\n",
    "        }\n",
    "        if record.get(\"altertative_titles\"):\n",
    "            record[\"altertative_titles\"] = record[\"altertative_titles\"].split(\"; \")\n",
    "        record[\"date_created\"] = {\n",
    "            \"year\": record.get(\"YYYYDATE_ENTERED\"),\n",
    "            \"month\": record.get(\"MMDATE_ENTERED\").lstrip(\"0\")\n",
    "            if record.get(\"MMDATE_ENTERED\")\n",
    "            else None,\n",
    "            \"day\": record.get(\"DDDATE_ENTERED\").lstrip(\"0\")\n",
    "            if record.get(\"DDDATE_ENTERED\")\n",
    "            else None,\n",
    "        }\n",
    "        record[\"date_modified\"] = {\n",
    "            \"year\": record.get(\"YYYYDATE_UPDATED\"),\n",
    "            \"month\": record.get(\"MMDATE_UPDATED\").lstrip(\"0\")\n",
    "            if record.get(\"MMDATE_UPDATED\")\n",
    "            else None,\n",
    "            \"day\": record.get(\"DDDATE_UPDATED\").lstrip(\"0\")\n",
    "            if record.get(\"DDDATE_UPDATED\")\n",
    "            else None,\n",
    "        }\n",
    "        record[\"contributors\"] = list(\n",
    "            set([record[\"contributors_modified\"], record[\"contributors_created\"]])\n",
    "            - set([None, \"\"])\n",
    "        )\n",
    "        for f in removeFields_event:\n",
    "            record.pop(f)\n",
    "        record = jp.clean_empty_values(record)\n",
    "        # collection_events.append(record)\n",
    "        try:\n",
    "            # insert new record\n",
    "            acde_db[curr_lvl].insert_one(record)\n",
    "        except Exception as e:\n",
    "            print(e)\n",
    "            print(record.get(\"ori_dbid\"))\n",
    "            break\n",
    "        pbar.update(1)\n",
    "\n",
    "del event_df, event_orgfunc_df, event_genres, event_contfunc_df"
   ]
  },
  {
   "cell_type": "markdown",
   "id": "158a9e8c-e67f-44da-983c-3050fe6abb16",
   "metadata": {
    "tags": []
   },
   "source": [
    "### 3.5 Person (contributor)"
   ]
  },
  {
   "cell_type": "code",
   "execution_count": 20,
   "id": "11da6586-5d95-48f8-8c9d-d1912705dfb9",
   "metadata": {
    "execution": {
     "iopub.execute_input": "2023-05-07T20:58:55.562816Z",
     "iopub.status.busy": "2023-05-07T20:58:55.561819Z",
     "iopub.status.idle": "2023-05-07T20:59:48.902389Z",
     "shell.execute_reply": "2023-05-07T20:59:48.901391Z",
     "shell.execute_reply.started": "2023-05-07T20:58:55.562816Z"
    },
    "jupyter": {
     "source_hidden": true
    },
    "tags": []
   },
   "outputs": [],
   "source": [
    "person_df = pd.read_sql(\"select * from ausstage.acde_cont;\", ausstage_engine)\n",
    "\n",
    "career_df = pd.read_sql(\"select * from ausstage.acde_cont_evfunc;\", ausstage_engine)"
   ]
  },
  {
   "cell_type": "code",
   "execution_count": 21,
   "id": "f3be96c0-703b-4251-a6ef-7a68fcacd0f4",
   "metadata": {
    "execution": {
     "iopub.execute_input": "2023-05-07T20:59:48.905379Z",
     "iopub.status.busy": "2023-05-07T20:59:48.905379Z",
     "iopub.status.idle": "2023-05-07T20:59:49.780038Z",
     "shell.execute_reply": "2023-05-07T20:59:49.779073Z",
     "shell.execute_reply.started": "2023-05-07T20:59:48.905379Z"
    },
    "jupyter": {
     "source_hidden": true
    },
    "scrolled": true,
    "tags": []
   },
   "outputs": [
    {
     "name": "stdout",
     "output_type": "stream",
     "text": [
      "<class 'pandas.core.frame.DataFrame'>\n",
      "RangeIndex: 184586 entries, 0 to 184585\n",
      "Data columns (total 37 columns):\n",
      " #   Column                 Non-Null Count   Dtype  \n",
      "---  ------                 --------------   -----  \n",
      " 0   ori_id                 184586 non-null  int64  \n",
      " 1   ori_dbid               184586 non-null  int64  \n",
      " 2   ori_dbid_unf           184586 non-null  int64  \n",
      " 3   display_name           184586 non-null  object \n",
      " 4   family_name            184586 non-null  object \n",
      " 5   middle_name            150934 non-null  object \n",
      " 6   first_name             184549 non-null  object \n",
      " 7   given_names            184168 non-null  object \n",
      " 8   prefix                 150934 non-null  object \n",
      " 9   suffix                 150934 non-null  object \n",
      " 10  gender                 183595 non-null  object \n",
      " 11  nationality            160020 non-null  object \n",
      " 12  alternative_names      151276 non-null  object \n",
      " 13  ori_address            150975 non-null  object \n",
      " 14  country                172068 non-null  object \n",
      " 15  state                  184586 non-null  object \n",
      " 16  suburb                 156449 non-null  object \n",
      " 17  postcode               228 non-null     float64\n",
      " 18  email                  150936 non-null  object \n",
      " 19  note                   152790 non-null  object \n",
      " 20  YYYYDATE_OF_BIRTH      151249 non-null  object \n",
      " 21  MMDATE_OF_BIRTH        151138 non-null  object \n",
      " 22  DDDATE_OF_BIRTH        151138 non-null  object \n",
      " 23  YYYYDATE_OF_DEATH      151124 non-null  object \n",
      " 24  MMDATE_OF_DEATH        151072 non-null  object \n",
      " 25  DDDATE_OF_DEATH        151071 non-null  object \n",
      " 26  place_of_birth_id      697 non-null     float64\n",
      " 27  place_of_death_id      370 non-null     float64\n",
      " 28  nla                    150934 non-null  object \n",
      " 29  date_created           87047 non-null   object \n",
      " 30  contributors_created   87047 non-null   object \n",
      " 31  date_modified          25820 non-null   object \n",
      " 32  contributors_modified  25820 non-null   object \n",
      " 33  ori_url                184586 non-null  object \n",
      " 34  data_source            184586 non-null  object \n",
      " 35  _class                 184586 non-null  object \n",
      " 36  _class_ori             184586 non-null  object \n",
      "dtypes: float64(3), int64(3), object(31)\n",
      "memory usage: 52.1+ MB\n"
     ]
    }
   ],
   "source": [
    "person_df.info()"
   ]
  },
  {
   "cell_type": "code",
   "execution_count": 22,
   "id": "b3ac9183-e460-435f-831f-1bbf4e9bc817",
   "metadata": {
    "execution": {
     "iopub.execute_input": "2023-05-07T20:59:49.781036Z",
     "iopub.status.busy": "2023-05-07T20:59:49.781036Z",
     "iopub.status.idle": "2023-05-07T20:59:51.416594Z",
     "shell.execute_reply": "2023-05-07T20:59:51.415597Z",
     "shell.execute_reply.started": "2023-05-07T20:59:49.781036Z"
    },
    "jupyter": {
     "source_hidden": true
    },
    "tags": []
   },
   "outputs": [
    {
     "name": "stdout",
     "output_type": "stream",
     "text": [
      "<class 'pandas.core.frame.DataFrame'>\n",
      "RangeIndex: 1016553 entries, 0 to 1016552\n",
      "Data columns (total 14 columns):\n",
      " #   Column              Non-Null Count    Dtype \n",
      "---  ------              --------------    ----- \n",
      " 0   CONTRIBUTORID       1016553 non-null  int64 \n",
      " 1   eventid             1016553 non-null  int64 \n",
      " 2   event_title         1016553 non-null  object\n",
      " 3   productionid        1016553 non-null  int64 \n",
      " 4   is_primary_creator  40860 non-null    object\n",
      " 5   note                750375 non-null   object\n",
      " 6   title               1010749 non-null  object\n",
      " 7   YYYYFIRST_DATE      1016553 non-null  object\n",
      " 8   MMFIRST_DATE        1006463 non-null  object\n",
      " 9   DDFIRST_DATE        997353 non-null   object\n",
      " 10  YYYYLAST_DATE       971638 non-null   object\n",
      " 11  MMLAST_DATE         963391 non-null   object\n",
      " 12  DDLAST_DATE         958101 non-null   object\n",
      " 13  venueid             1016553 non-null  int64 \n",
      "dtypes: int64(4), object(10)\n",
      "memory usage: 108.6+ MB\n"
     ]
    }
   ],
   "source": [
    "career_df.info()"
   ]
  },
  {
   "cell_type": "code",
   "execution_count": 23,
   "id": "62021e26-bea8-4423-a3da-80691f9fe449",
   "metadata": {
    "execution": {
     "iopub.execute_input": "2023-05-07T20:59:51.417592Z",
     "iopub.status.busy": "2023-05-07T20:59:51.417592Z",
     "iopub.status.idle": "2023-05-07T21:01:46.211640Z",
     "shell.execute_reply": "2023-05-07T21:01:46.211640Z",
     "shell.execute_reply.started": "2023-05-07T20:59:51.417592Z"
    },
    "jupyter": {
     "source_hidden": true
    },
    "tags": []
   },
   "outputs": [],
   "source": [
    "#####\n",
    "# Construct career periods\n",
    "#####\n",
    "career_df = (\n",
    "    career_df.set_index([\"CONTRIBUTORID\"])\n",
    "    .apply(\n",
    "        lambda x: {\n",
    "            \"occupation\": {\"title\": x[\"title\"]},\n",
    "            \"coverage_range\": {\n",
    "                \"place\": adb_manip.lookup_place(\"venueid\", x, collection_places),\n",
    "                \"date_range\": {\n",
    "                    \"date_start\": {\n",
    "                        \"year\": x[\"YYYYFIRST_DATE\"],\n",
    "                        \"month\": x[\"MMFIRST_DATE\"].lstrip(\"0\")\n",
    "                        if x[\"MMFIRST_DATE\"]\n",
    "                        else None,\n",
    "                        \"day\": x[\"DDFIRST_DATE\"].lstrip(\"0\")\n",
    "                        if x[\"DDFIRST_DATE\"]\n",
    "                        else None,\n",
    "                    },\n",
    "                    \"date_end\": {\n",
    "                        \"year\": x[\"YYYYLAST_DATE\"],\n",
    "                        \"month\": x[\"MMLAST_DATE\"].lstrip(\"0\")\n",
    "                        if x[\"MMLAST_DATE\"]\n",
    "                        else None,\n",
    "                        \"day\": x[\"DDLAST_DATE\"].lstrip(\"0\")\n",
    "                        if x[\"DDLAST_DATE\"]\n",
    "                        else None,\n",
    "                    },\n",
    "                },\n",
    "            },\n",
    "            \"event_contributed\": {\n",
    "                \"ori_dbid\": x[\"eventid\"],\n",
    "                \"ori_dbid_unf\": x[\"productionid\"],\n",
    "                \"title\": x[\"event_title\"],\n",
    "            },\n",
    "            \"is_primary_creator\": x[\"is_primary_creator\"],\n",
    "            \"note\": x[\"note\"],\n",
    "        },\n",
    "        axis=1,\n",
    "    )\n",
    "    .to_frame(\"career_periods\")\n",
    "    .groupby(\"CONTRIBUTORID\")[\"career_periods\"]\n",
    "    .agg(list)\n",
    ")\n",
    "\n",
    "person_df = person_df.merge(career_df, left_on=\"ori_dbid\", right_index=True, how=\"left\")\n",
    "person_df = person_df.fillna(\"\")"
   ]
  },
  {
   "cell_type": "code",
   "execution_count": 24,
   "id": "2daff712-1061-4792-bc93-ec88e17a926f",
   "metadata": {
    "execution": {
     "iopub.execute_input": "2023-05-07T21:01:46.214633Z",
     "iopub.status.busy": "2023-05-07T21:01:46.213635Z",
     "iopub.status.idle": "2023-05-07T21:05:50.884798Z",
     "shell.execute_reply": "2023-05-07T21:05:50.881804Z",
     "shell.execute_reply.started": "2023-05-07T21:01:46.214633Z"
    },
    "jupyter": {
     "source_hidden": true
    },
    "tags": []
   },
   "outputs": [
    {
     "name": "stderr",
     "output_type": "stream",
     "text": [
      "Loading person level: 100%|███████████████████████████████████████████████████| 184586/184586 [03:54<00:00, 788.35it/s]\n"
     ]
    }
   ],
   "source": [
    "#####\n",
    "# Construct fields and load to acde.person\n",
    "#####\n",
    "\n",
    "removeFields_person = [\n",
    "    \"first_name\",\n",
    "    \"middle_name\",\n",
    "    \"given_names\",\n",
    "    \"family_name\",\n",
    "    \"suffix\",\n",
    "    \"prefix\",\n",
    "    \"country\",\n",
    "    \"state\",\n",
    "    \"ori_address\",\n",
    "    \"suburb\",\n",
    "    \"postcode\",\n",
    "    \"place_of_birth_id\",\n",
    "    \"place_of_death_id\",\n",
    "    \"YYYYDATE_OF_BIRTH\",\n",
    "    \"MMDATE_OF_BIRTH\",\n",
    "    \"DDDATE_OF_BIRTH\",\n",
    "    \"YYYYDATE_OF_DEATH\",\n",
    "    \"MMDATE_OF_DEATH\",\n",
    "    \"DDDATE_OF_DEATH\",\n",
    "    \"career_periods\",\n",
    "    \"contributors_modified\",\n",
    "    \"contributors_created\",\n",
    "]\n",
    "\n",
    "collection_persons = {}\n",
    "curr_lvl = \"person\"\n",
    "acde_db[curr_lvl].delete_many({\"data_source\": \"AusStage\"})\n",
    "\n",
    "#####\n",
    "# Construct and load event level\n",
    "#####\n",
    "with tqdm(total=person_df.shape[0], desc=f\"Loading {curr_lvl} level\") as pbar:\n",
    "    for record in person_df.to_dict(\"records\"):\n",
    "        if record.get(\"alternative_names\"):\n",
    "            record[\"alternative_names\"] = record[\"alternative_names\"].split(\"; \")\n",
    "        record[\"primary_name\"] = {\n",
    "            \"first_name\": record.get(\"first_name\"),\n",
    "            \"middle_name\": record.get(\"middle_name\"),\n",
    "            \"given_names\": record.get(\"given_names\"),\n",
    "            \"family_name\": record.get(\"family_name\"),\n",
    "            \"suffix\": record.get(\"suffix\"),\n",
    "            \"prefix\": record.get(\"prefix\"),\n",
    "        }\n",
    "        record[\"residences\"] = [\n",
    "            {\n",
    "                \"coverage_range\": {\n",
    "                    \"place\": {\n",
    "                        \"address\": {\n",
    "                            \"country\": record.get(\"country\"),\n",
    "                            \"state\": record.get(\"state\"),\n",
    "                            \"suburb\": record.get(\"suburb\"),\n",
    "                            \"postcode\": record.get(\"postcode\"),\n",
    "                            \"ori_address\": record.get(\"ori_address\"),\n",
    "                        }\n",
    "                    },\n",
    "                }\n",
    "            },\n",
    "        ]\n",
    "        record[\"career\"] = {\"career_periods\": record.get(\"career_periods\")}\n",
    "        for attr in [\"death\", \"birth\"]:\n",
    "            place_record = adb_manip.lookup_place(\n",
    "                f\"place_of_{attr}_id\", record, collection_places\n",
    "            )\n",
    "            record[attr] = {\n",
    "                \"coverage\": {\n",
    "                    \"place\": place_record,\n",
    "                    \"date\": {\n",
    "                        \"year\": record.get(f\"YYYYDATE_OF_{attr.upper()}\"),\n",
    "                        \"month\": record.get(f\"MMDATE_OF_{attr.upper()}\").lstrip(\"0\")\n",
    "                        if record.get(f\"MMDATE_OF_{attr.upper()}\")\n",
    "                        else None,\n",
    "                        \"day\": record.get(f\"DDDATE_OF_{attr.upper()}\").lstrip(\"0\")\n",
    "                        if record.get(f\"DDDATE_OF_{attr.upper()}\")\n",
    "                        else None,\n",
    "                    },\n",
    "                }\n",
    "            }\n",
    "        for date_field in [\"date_modified\", \"date_created\"]:\n",
    "            record[date_field] = {\n",
    "                \"year\": str(record.get(date_field).year)\n",
    "                if record.get(date_field)\n",
    "                else None,\n",
    "                \"month\": str(record.get(date_field).month)\n",
    "                if record.get(date_field)\n",
    "                else None,\n",
    "                \"day\": str(record.get(date_field).day)\n",
    "                if record.get(date_field)\n",
    "                else None,\n",
    "            }\n",
    "        record[\"contributors\"] = list(\n",
    "            set([record[\"contributors_modified\"], record[\"contributors_created\"]])\n",
    "            - set([None, \"\"])\n",
    "        )\n",
    "        for f in removeFields_person:\n",
    "            record.pop(f)\n",
    "        record = jp.clean_empty_values(record)\n",
    "        # collection_persons[record.get(\"ori_dbid\")] = record\n",
    "        try:\n",
    "            # insert new record\n",
    "            acde_db[curr_lvl].insert_one(record)\n",
    "        except Exception as e:\n",
    "            print(e)\n",
    "            print(record.get(\"ori_dbid\"))\n",
    "        pbar.update(1)\n",
    "\n",
    "del person_df, career_df"
   ]
  },
  {
   "cell_type": "markdown",
   "id": "50b039c8-7453-4b93-8b57-8d7670f91ed3",
   "metadata": {
    "tags": []
   },
   "source": [
    "### 3.6 Organization (organisation)"
   ]
  },
  {
   "cell_type": "code",
   "execution_count": 25,
   "id": "67fa98cd-21ff-48bd-9179-0f6124cd24fe",
   "metadata": {
    "execution": {
     "iopub.execute_input": "2023-05-07T21:05:50.886791Z",
     "iopub.status.busy": "2023-05-07T21:05:50.886791Z",
     "iopub.status.idle": "2023-05-07T21:06:13.085492Z",
     "shell.execute_reply": "2023-05-07T21:06:13.084492Z",
     "shell.execute_reply.started": "2023-05-07T21:05:50.886791Z"
    },
    "jupyter": {
     "source_hidden": true
    },
    "tags": []
   },
   "outputs": [],
   "source": [
    "#####\n",
    "# Data Extraction\n",
    "#####\n",
    "\n",
    "org_df = pd.read_sql(\"select * from ausstage.acde_org;\", ausstage_engine)\n",
    "\n",
    "org_func_df = pd.read_sql(\"select * from ausstage.acde_org_evfunc;\", ausstage_engine)"
   ]
  },
  {
   "cell_type": "code",
   "execution_count": 26,
   "id": "4a4a244f-c290-4569-8cb4-53ff9aea2a43",
   "metadata": {
    "execution": {
     "iopub.execute_input": "2023-05-07T21:06:13.086487Z",
     "iopub.status.busy": "2023-05-07T21:06:13.086487Z",
     "iopub.status.idle": "2023-05-07T21:06:13.196702Z",
     "shell.execute_reply": "2023-05-07T21:06:13.195704Z",
     "shell.execute_reply.started": "2023-05-07T21:06:13.086487Z"
    },
    "jupyter": {
     "source_hidden": true
    },
    "scrolled": true,
    "tags": []
   },
   "outputs": [
    {
     "name": "stdout",
     "output_type": "stream",
     "text": [
      "<class 'pandas.core.frame.DataFrame'>\n",
      "RangeIndex: 19890 entries, 0 to 19889\n",
      "Data columns (total 34 columns):\n",
      " #   Column                 Non-Null Count  Dtype  \n",
      "---  ------                 --------------  -----  \n",
      " 0   ori_id                 19890 non-null  int64  \n",
      " 1   ori_dbid               19890 non-null  int64  \n",
      " 2   ori_dbid_unf           19890 non-null  int64  \n",
      " 3   primary_name           19890 non-null  object \n",
      " 4   alternative_names      19890 non-null  object \n",
      " 5   ori_address            15646 non-null  object \n",
      " 6   country                19324 non-null  object \n",
      " 7   state                  19890 non-null  object \n",
      " 8   suburb                 16894 non-null  object \n",
      " 9   postcode               14437 non-null  object \n",
      " 10  contact                15495 non-null  object \n",
      " 11  phones                 19890 non-null  object \n",
      " 12  fax                    15380 non-null  object \n",
      " 13  email                  15408 non-null  object \n",
      " 14  web_links              15569 non-null  object \n",
      " 15  note                   16093 non-null  object \n",
      " 16  organisation_type      19890 non-null  object \n",
      " 17  yyyyfirst_date         15358 non-null  object \n",
      " 18  mmfirst_date           15358 non-null  object \n",
      " 19  ddfirst_date           15358 non-null  object \n",
      " 20  yyyylast_date          15358 non-null  object \n",
      " 21  mmlast_date            15358 non-null  object \n",
      " 22  ddlast_date            15358 non-null  object \n",
      " 23  place_of_origin        880 non-null    float64\n",
      " 24  place_of_demise        57 non-null     float64\n",
      " 25  nla                    15358 non-null  object \n",
      " 26  contributors_modified  3615 non-null   object \n",
      " 27  contributors_created   9158 non-null   object \n",
      " 28  date_created           9158 non-null   object \n",
      " 29  date_modified          3615 non-null   object \n",
      " 30  ori_url                19890 non-null  object \n",
      " 31  data_source            19890 non-null  object \n",
      " 32  _class                 19890 non-null  object \n",
      " 33  _class_ori             19890 non-null  object \n",
      "dtypes: float64(2), int64(3), object(29)\n",
      "memory usage: 5.2+ MB\n"
     ]
    }
   ],
   "source": [
    "org_df.info()"
   ]
  },
  {
   "cell_type": "code",
   "execution_count": 27,
   "id": "772d60a8-2283-4dac-81a1-8e237dddfe3d",
   "metadata": {
    "execution": {
     "iopub.execute_input": "2023-05-07T21:06:13.197729Z",
     "iopub.status.busy": "2023-05-07T21:06:13.197729Z",
     "iopub.status.idle": "2023-05-07T21:06:13.619572Z",
     "shell.execute_reply": "2023-05-07T21:06:13.618597Z",
     "shell.execute_reply.started": "2023-05-07T21:06:13.197729Z"
    },
    "jupyter": {
     "source_hidden": true
    },
    "tags": []
   },
   "outputs": [
    {
     "name": "stdout",
     "output_type": "stream",
     "text": [
      "<class 'pandas.core.frame.DataFrame'>\n",
      "RangeIndex: 226592 entries, 0 to 226591\n",
      "Data columns (total 13 columns):\n",
      " #   Column          Non-Null Count   Dtype \n",
      "---  ------          --------------   ----- \n",
      " 0   ORGANISATIONID  226592 non-null  int64 \n",
      " 1   eventid         226592 non-null  int64 \n",
      " 2   event_title     226592 non-null  object\n",
      " 3   productionid    226592 non-null  int64 \n",
      " 4   YYYYFIRST_DATE  226592 non-null  object\n",
      " 5   MMFIRST_DATE    223721 non-null  object\n",
      " 6   DDFIRST_DATE    221705 non-null  object\n",
      " 7   YYYYLAST_DATE   215057 non-null  object\n",
      " 8   MMLAST_DATE     213282 non-null  object\n",
      " 9   DDLAST_DATE     212276 non-null  object\n",
      " 10  function_title  226592 non-null  object\n",
      " 11  function_type   226592 non-null  object\n",
      " 12  venueid         226592 non-null  int64 \n",
      "dtypes: int64(4), object(9)\n",
      "memory usage: 22.5+ MB\n"
     ]
    }
   ],
   "source": [
    "org_func_df.info()"
   ]
  },
  {
   "cell_type": "code",
   "execution_count": 28,
   "id": "fccf3bf6-a989-4051-8e91-51bed3da35cd",
   "metadata": {
    "execution": {
     "iopub.execute_input": "2023-05-07T21:06:13.621568Z",
     "iopub.status.busy": "2023-05-07T21:06:13.620568Z",
     "iopub.status.idle": "2023-05-07T21:06:37.537632Z",
     "shell.execute_reply": "2023-05-07T21:06:37.535635Z",
     "shell.execute_reply.started": "2023-05-07T21:06:13.621568Z"
    },
    "jupyter": {
     "source_hidden": true
    },
    "tags": []
   },
   "outputs": [],
   "source": [
    "#####\n",
    "# Construct operation_periods\n",
    "#####\n",
    "\n",
    "org_func_df = (\n",
    "    org_func_df.set_index([\"ORGANISATIONID\"])\n",
    "    .apply(\n",
    "        lambda x: {\n",
    "            \"function\": {\"title\": x[\"function_title\"], \"type\": x[\"function_type\"]},\n",
    "            \"coverage_range\": {\n",
    "                \"place\": adb_manip.lookup_place(\"venueid\", x, collection_places),\n",
    "                \"date_range\": {\n",
    "                    \"date_start\": {\n",
    "                        \"year\": x[\"YYYYFIRST_DATE\"],\n",
    "                        \"month\": x[\"MMFIRST_DATE\"].lstrip(\"0\")\n",
    "                        if x[\"MMFIRST_DATE\"]\n",
    "                        else None,\n",
    "                        \"day\": x[\"DDFIRST_DATE\"].lstrip(\"0\")\n",
    "                        if x[\"DDFIRST_DATE\"]\n",
    "                        else None,\n",
    "                    },\n",
    "                    \"date_end\": {\n",
    "                        \"year\": x[\"YYYYLAST_DATE\"],\n",
    "                        \"month\": x[\"MMLAST_DATE\"].lstrip(\"0\")\n",
    "                        if x[\"MMLAST_DATE\"]\n",
    "                        else None,\n",
    "                        \"day\": x[\"DDLAST_DATE\"].lstrip(\"0\")\n",
    "                        if x[\"DDLAST_DATE\"]\n",
    "                        else None,\n",
    "                    },\n",
    "                },\n",
    "            },\n",
    "            \"event_contributed\": {\n",
    "                \"ori_dbid\": x[\"eventid\"],\n",
    "                \"ori_dbid_unf\": x[\"productionid\"],\n",
    "                \"title\": x[\"event_title\"],\n",
    "            },\n",
    "        },\n",
    "        axis=1,\n",
    "    )\n",
    "    .to_frame(\"operation_periods\")\n",
    "    .groupby(\"ORGANISATIONID\")[\"operation_periods\"]\n",
    "    .agg(list)\n",
    ")\n",
    "\n",
    "org_df = org_df.merge(org_func_df, left_on=\"ori_dbid\", right_index=True, how=\"left\")\n",
    "org_df = org_df.fillna(\"\")"
   ]
  },
  {
   "cell_type": "code",
   "execution_count": 29,
   "id": "4ef9df16-487e-4129-9e76-0a0517e70169",
   "metadata": {
    "execution": {
     "iopub.execute_input": "2023-05-07T21:06:37.540621Z",
     "iopub.status.busy": "2023-05-07T21:06:37.539624Z",
     "iopub.status.idle": "2023-05-07T21:07:10.251855Z",
     "shell.execute_reply": "2023-05-07T21:07:10.250856Z",
     "shell.execute_reply.started": "2023-05-07T21:06:37.540621Z"
    },
    "scrolled": true,
    "tags": []
   },
   "outputs": [
    {
     "name": "stderr",
     "output_type": "stream",
     "text": [
      "Loading organization level: 100%|███████████████████████████████████████████████| 19890/19890 [00:31<00:00, 636.49it/s]\n"
     ]
    }
   ],
   "source": [
    "#####\n",
    "# Construct fields and load to acde.organization\n",
    "#####\n",
    "removeFields_org = [\n",
    "    \"country\",\n",
    "    \"state\",\n",
    "    \"ori_address\",\n",
    "    \"suburb\",\n",
    "    \"postcode\",\n",
    "    \"organisation_type\",\n",
    "    # \"place_of_demise\",\n",
    "    # 'place_of_origin',\n",
    "    \"yyyyfirst_date\",\n",
    "    \"mmfirst_date\",\n",
    "    \"ddfirst_date\",\n",
    "    \"yyyylast_date\",\n",
    "    \"mmlast_date\",\n",
    "    \"ddlast_date\",\n",
    "    \"operation_periods\",\n",
    "    \"contributors_modified\",\n",
    "    \"contributors_created\",\n",
    "]\n",
    "\n",
    "collection_orgs = {}\n",
    "curr_lvl = \"organization\"\n",
    "acde_db[curr_lvl].delete_many({\"data_source\": \"AusStage\"})\n",
    "\n",
    "#####\n",
    "# Construct and load event level\n",
    "#####\n",
    "with tqdm(total=org_df.shape[0], desc=f\"Loading {curr_lvl} level\") as pbar:\n",
    "    for record in org_df.to_dict(\"records\"):\n",
    "        record[\"locations\"] = [\n",
    "            {\n",
    "                \"coverage_range\": {\n",
    "                    \"place\": {\n",
    "                        \"address\": {\n",
    "                            \"country\": record.get(\"country\"),\n",
    "                            \"state\": record.get(\"state\"),\n",
    "                            \"suburb\": record.get(\"suburb\"),\n",
    "                            \"postcode\": record.get(\"postcode\"),\n",
    "                            \"ori_address\": record.get(\"ori_address\"),\n",
    "                        }\n",
    "                    },\n",
    "                    \"date_range\": {\n",
    "                        \"date_start\": {\n",
    "                            \"year\": record.get(\"yyyyfirst_date\"),\n",
    "                            \"month\": record.get(\"mmfirst_date\").lstrip(\"0\")\n",
    "                            if record.get(\"mmfirst_date\")\n",
    "                            else None,\n",
    "                            \"day\": record.get(\"ddfirst_date\").lstrip(\"0\")\n",
    "                            if record.get(\"ddfirst_date\")\n",
    "                            else None,\n",
    "                        },\n",
    "                        \"date_end\": {\n",
    "                            \"year\": record.get(\"yyyylast_date\"),\n",
    "                            \"month\": record.get(\"mmlast_date\").lstrip(\"0\")\n",
    "                            if record.get(\"mmlast_date\")\n",
    "                            else None,\n",
    "                            \"day\": record.get(\"ddlast_date\").lstrip(\"0\")\n",
    "                            if record.get(\"ddlast_date\")\n",
    "                            else None,\n",
    "                        },\n",
    "                    },\n",
    "                },\n",
    "            },\n",
    "            {\n",
    "                \"coverage_range\": {\n",
    "                    \"place\": {\"display_name\": record.get(\"place_of_demise\"),},\n",
    "                    \"date_range\": {\n",
    "                        \"date_end\": {\n",
    "                            \"year\": record.get(\"yyyylast_date\"),\n",
    "                            \"month\": record.get(\"mmlast_date\").lstrip(\"0\")\n",
    "                            if record.get(\"mmlast_date\")\n",
    "                            else None,\n",
    "                            \"day\": record.get(\"ddlast_date\").lstrip(\"0\")\n",
    "                            if record.get(\"ddlast_date\")\n",
    "                            else None,\n",
    "                        },\n",
    "                    },\n",
    "                },\n",
    "            },\n",
    "            {\n",
    "                \"coverage_range\": {\n",
    "                    \"place\": {\"display_name\": record.get(\"place_of_origin\"),},\n",
    "                    \"date_range\": {\n",
    "                        \"date_start\": {\n",
    "                            \"year\": record.get(\"yyyyfirst_date\"),\n",
    "                            \"month\": record.get(\"mmfirst_date\").lstrip(\"0\")\n",
    "                            if record.get(\"mmfirst_date\")\n",
    "                            else None,\n",
    "                            \"day\": record.get(\"ddfirst_date\").lstrip(\"0\")\n",
    "                            if record.get(\"ddfirst_date\")\n",
    "                            else None,\n",
    "                        },\n",
    "                    },\n",
    "                },\n",
    "            },\n",
    "        ]\n",
    "        record[\"operation\"] = {\"operation_periods\": record.get(\"operation_periods\")}\n",
    "        record[\"types\"] = [record.get(\"organisation_type\")]\n",
    "        if record.get(\"alternative_names\"):\n",
    "            record[\"alternative_names\"] = record[\"alternative_names\"].split(\"; \")\n",
    "        for date_field in [\"date_modified\", \"date_created\"]:\n",
    "            record[date_field] = {\n",
    "                \"year\": str(record.get(date_field).year)\n",
    "                if record.get(date_field)\n",
    "                else None,\n",
    "                \"month\": str(record.get(date_field).month)\n",
    "                if record.get(date_field)\n",
    "                else None,\n",
    "                \"day\": str(record.get(date_field).day)\n",
    "                if record.get(date_field)\n",
    "                else None,\n",
    "            }\n",
    "        record[\"contributors\"] = list(\n",
    "            set([record[\"contributors_modified\"], record[\"contributors_created\"]])\n",
    "            - set([None, \"\"])\n",
    "        )\n",
    "        for f in removeFields_org:\n",
    "            record.pop(f)\n",
    "        record = jp.clean_empty_values(record)\n",
    "        # collection_orgs[record.get(\"ori_dbid\")] = record\n",
    "        try:\n",
    "            # insert new record\n",
    "            acde_db[curr_lvl].insert_one(record)\n",
    "        except Exception as e:\n",
    "            print(e)\n",
    "            print(record.get(\"ori_dbid\"))\n",
    "            break\n",
    "        pbar.update(1)\n",
    "\n",
    "del org_df, org_func_df"
   ]
  },
  {
   "cell_type": "markdown",
   "id": "71a4227d-970b-4a5d-880a-6b5d6524a2a8",
   "metadata": {
    "tags": []
   },
   "source": [
    "### 3.7 Relationship\n",
    "\n",
    "* venue - venue venuevenuelink\n",
    "\n",
    "* *resource - resource acde_item.sourceid*\n",
    "\n",
    "* resource - work itemworklink\n",
    "\n",
    "* resource - place itemvenuelink\n",
    "\n",
    "* resource - event datasourceevlink\n",
    "\n",
    "* resource - person itemconlink\n",
    "\n",
    "* resource - oraganization item.institutionid\n",
    "\n",
    "* work - contributor workconlink\n",
    "\n",
    "* work - oraganization workorglink\n",
    "\n",
    "* work - work workworklink\n",
    "\n",
    "* *event - venue acde_event.venueid*\n",
    "\n",
    "* *event - contributor - function acde_event_contfunc*\n",
    "\n",
    "* event - work eventworklink\n",
    "\n",
    "* event - event eventeventlink\n",
    "\n",
    "* *person - event - occupation(function)*\n",
    "\n",
    "* person - organization conorglink\n",
    "\n",
    "* person - person contribcontriblink\n",
    "\n",
    "* organisation - event orgevlink\n",
    "\n",
    "* organisation - organisation orgorglink"
   ]
  },
  {
   "cell_type": "markdown",
   "id": "5351d397-d60c-434f-b8cf-d01c9e23bf91",
   "metadata": {},
   "source": [
    "##### 3.7.1 Load AusStage Relationships into ACDE Database"
   ]
  },
  {
   "cell_type": "code",
   "execution_count": 30,
   "id": "6dbee106-ad16-466b-b5cd-69a8aa67de39",
   "metadata": {
    "execution": {
     "iopub.execute_input": "2023-05-07T21:07:10.253849Z",
     "iopub.status.busy": "2023-05-07T21:07:10.252852Z",
     "iopub.status.idle": "2023-05-07T21:07:16.230601Z",
     "shell.execute_reply": "2023-05-07T21:07:16.230601Z",
     "shell.execute_reply.started": "2023-05-07T21:07:10.253849Z"
    },
    "jupyter": {
     "source_hidden": true
    },
    "scrolled": true,
    "tags": []
   },
   "outputs": [
    {
     "name": "stderr",
     "output_type": "stream",
     "text": [
      "person_fetching: 100%|█████████████████████████████████████████████████████| 184586/184586 [00:01<00:00, 105648.93it/s]\n",
      "organization_fetching: 100%|██████████████████████████████████████████████████| 19890/19890 [00:00<00:00, 99716.13it/s]\n",
      "work_fetching: 100%|██████████████████████████████████████████████████████████| 19972/19972 [00:00<00:00, 30857.83it/s]\n",
      "event_fetching: 100%|███████████████████████████████████████████████████████| 124916/124916 [00:01<00:00, 84000.15it/s]\n",
      "resource_fetching: 100%|█████████████████████████████████████████████████████| 95234/95234 [00:00<00:00, 142526.96it/s]\n",
      "place_fetching: 100%|█████████████████████████████████████████████████████████| 11864/11864 [00:00<00:00, 84969.25it/s]\n"
     ]
    }
   ],
   "source": [
    "loading_objs = [\n",
    "    obj for obj in acde_opr.Class_RelatedFN_mapping.keys() if obj != \"recognition\"\n",
    "]\n",
    "\n",
    "curr_dbid_mapping = acde_opr.acde_extRcd2dict(\n",
    "    db=acde_db,\n",
    "    data_source=\"AusStage\",\n",
    "    loading_objs=loading_objs,\n",
    "    selected_fields=[\"_class_ori\", \"ori_dbid\"],\n",
    ")"
   ]
  },
  {
   "cell_type": "code",
   "execution_count": 31,
   "id": "66a27109-d097-4ad3-8378-6566d563525e",
   "metadata": {
    "execution": {
     "iopub.execute_input": "2023-05-07T21:07:16.232595Z",
     "iopub.status.busy": "2023-05-07T21:07:16.232595Z",
     "iopub.status.idle": "2023-05-07T21:30:22.902535Z",
     "shell.execute_reply": "2023-05-07T21:30:22.901566Z",
     "shell.execute_reply.started": "2023-05-07T21:07:16.232595Z"
    },
    "jupyter": {
     "source_hidden": true
    },
    "scrolled": true,
    "tags": []
   },
   "outputs": [
    {
     "name": "stderr",
     "output_type": "stream",
     "text": [
      "venue_venue: 100%|███████████████████████████████████████████████████████████████| 1609/1609 [00:01<00:00, 1398.91it/s]\n",
      "event_event: 100%|███████████████████████████████████████████████████████████████| 7406/7406 [00:05<00:00, 1428.71it/s]\n",
      "contributor_event: 100%|███████████████████████████████████████████████████| 1010748/1010748 [12:13<00:00, 1378.34it/s]\n",
      "contributor_organisation: 100%|██████████████████████████████████████████████████| 4617/4617 [00:02<00:00, 1578.70it/s]\n",
      "contributor_contributor: 100%|███████████████████████████████████████████████████| 2514/2514 [00:01<00:00, 1576.45it/s]\n",
      "contributor_venue: 100%|███████████████████████████████████████████████████████████| 694/694 [00:00<00:00, 1353.89it/s]\n",
      "contributor_venue: 100%|███████████████████████████████████████████████████████████| 368/368 [00:00<00:00, 1294.68it/s]\n",
      "organisation_organisation: 100%|███████████████████████████████████████████████████| 557/557 [00:00<00:00, 1473.71it/s]\n",
      "organisation_event: 100%|████████████████████████████████████████████████████| 213840/213840 [02:21<00:00, 1515.07it/s]\n",
      "organisation_event: 100%|██████████████████████████████████████████████████████████| 344/344 [00:00<00:00, 1428.27it/s]\n",
      "event_venue: 100%|███████████████████████████████████████████████████████████| 124916/124916 [01:19<00:00, 1565.10it/s]\n",
      "event_work: 100%|██████████████████████████████████████████████████████████████| 72702/72702 [00:46<00:00, 1553.20it/s]\n",
      "work_contributor: 100%|████████████████████████████████████████████████████████| 22235/22235 [00:13<00:00, 1638.01it/s]\n",
      "work_organisation: 100%|█████████████████████████████████████████████████████████| 1185/1185 [00:00<00:00, 1594.86it/s]\n",
      "work_work: 100%|███████████████████████████████████████████████████████████████████| 240/240 [00:00<00:00, 1344.36it/s]\n",
      "item_item: 100%|███████████████████████████████████████████████████████████████| 53013/53013 [00:31<00:00, 1658.84it/s]\n",
      "item_work: 100%|█████████████████████████████████████████████████████████████████| 2703/2703 [00:01<00:00, 1619.01it/s]\n",
      "item_venue: 100%|████████████████████████████████████████████████████████████████| 4015/4015 [00:02<00:00, 1651.24it/s]\n",
      "item_contributor: 100%|████████████████████████████████████████████████████████| 56380/56380 [00:34<00:00, 1649.15it/s]\n",
      "datasource_event: 100%|██████████████████████████████████████████████████████| 150028/150028 [01:36<00:00, 1560.18it/s]\n",
      "item_organisation: 100%|███████████████████████████████████████████████████████| 19243/19243 [00:11<00:00, 1658.31it/s]\n"
     ]
    }
   ],
   "source": [
    "#####\n",
    "# Extract all relevant relationships\n",
    "# reconstruct the field structures\n",
    "# and load them into acde.relationship.\n",
    "# `curr_dbid` will be added into `subject` and `object`\n",
    "#####\n",
    "\n",
    "# Load relationship extraction SQL script\n",
    "with open(\n",
    "    os.path.join(codefolder, \"ausstage\", \"Extract_Relations.sql\"), mode=\"r\"\n",
    ") as sql_script:\n",
    "    extract_scripts = sql_script.read()\n",
    "\n",
    "\n",
    "curr_lvl = \"relationship\"\n",
    "acde_db[curr_lvl].delete_many({\"data_source\": \"AusStage\"})\n",
    "\n",
    "for script in extract_scripts.split(\";\"):\n",
    "    if script:\n",
    "        pass\n",
    "    else:\n",
    "        break\n",
    "    curr_relation = pd.read_sql(f\"\"\"{script}\"\"\", ausstage_engine)\n",
    "    subj_oritype = list(curr_relation.subject__class_ori.unique())[0]\n",
    "    obj_oritype = list(curr_relation.object__class_ori.unique())[0]\n",
    "    with tqdm(\n",
    "        total=curr_relation.shape[0], desc=f\"{subj_oritype}_{obj_oritype}\",\n",
    "    ) as pbar:\n",
    "        for record in curr_relation.to_dict(\"records\"):\n",
    "            new_record = defaultdict(dict)\n",
    "            # reconstruct the format into regular\n",
    "            # ACD-E relationship structure\n",
    "            for k, v in record.items():\n",
    "                k_parts = k.split(\"_\", 1)\n",
    "                k_preffix = k_parts[0]\n",
    "                k_suffix = k_parts[-1]\n",
    "                if k_preffix in [\"subject\", \"object\", \"predicate\", \"time\"]:\n",
    "                    if k_suffix.startswith(\"date\"):\n",
    "                        k_parts = k_suffix.rsplit(\"_\", 1)\n",
    "                        k_mid = k_parts[0]  # date_start / date_end\n",
    "                        k_end = k_parts[-1]  # year / month / day\n",
    "                        if new_record[k_preffix].get(k_mid):\n",
    "                            new_record[k_preffix][k_mid].update({k_end: v})\n",
    "                        else:\n",
    "                            new_record[k_preffix] = {k_mid: {k_end: v}}\n",
    "                    else:\n",
    "                        new_record[k_preffix][k_suffix] = v\n",
    "                else:\n",
    "                    new_record[k] = v\n",
    "            is_exist = True\n",
    "            for curr_type in [\"subject\", \"object\"]:\n",
    "                curr_dbid = curr_dbid_mapping[record[f\"{curr_type}__class\"]].get(\n",
    "                    (\n",
    "                        record[f\"{curr_type}__class_ori\"],\n",
    "                        record[f\"{curr_type}_ori_dbid\"],\n",
    "                    )\n",
    "                )\n",
    "                if curr_dbid:\n",
    "                    new_record[curr_type][\"curr_dbid\"] = curr_dbid\n",
    "                else:\n",
    "                    is_exist = False\n",
    "                    break\n",
    "            if is_exist:\n",
    "                # insert relation to database\n",
    "                acde_db[curr_lvl].insert_one(new_record)\n",
    "                # # collect related objects\n",
    "                # related_objs_collection[new_record[curr_type][\"_class\"]][\n",
    "                #     new_record[curr_type][\"curr_dbid\"]\n",
    "                # ][f'related_{new_record[other_type][\"_class\"]}s'].append(\n",
    "                #     DBRef(new_record[other_type][\"_class\"], relatsh_id.id)\n",
    "                # )\n",
    "                pbar.update(1)\n",
    "    del curr_relation"
   ]
  },
  {
   "cell_type": "markdown",
   "id": "ff742fe4-e48c-4f03-8b0d-ec413a99f061",
   "metadata": {},
   "source": [
    "##### 3.7.2 Add All Related Objects to Root Objects"
   ]
  },
  {
   "cell_type": "code",
   "execution_count": 32,
   "id": "71248bce-e6f6-4500-9c8e-b9d3ee5879d7",
   "metadata": {
    "execution": {
     "iopub.execute_input": "2023-05-07T21:30:22.904530Z",
     "iopub.status.busy": "2023-05-07T21:30:22.904530Z",
     "iopub.status.idle": "2023-05-07T21:37:43.806898Z",
     "shell.execute_reply": "2023-05-07T21:37:43.804933Z",
     "shell.execute_reply.started": "2023-05-07T21:30:22.904530Z"
    },
    "jupyter": {
     "source_hidden": true
    },
    "scrolled": true,
    "tags": []
   },
   "outputs": [
    {
     "name": "stderr",
     "output_type": "stream",
     "text": [
      "Extracting related objects from relationship collection: 100%|████████████| 1749357/1749357 [01:02<00:00, 28080.32it/s]\n",
      "place_related_objects_update: 100%|████████████████████████████████████████████| 11492/11492 [00:10<00:00, 1076.99it/s]\n",
      "event_related_objects_update: 100%|██████████████████████████████████████████| 124745/124745 [01:53<00:00, 1102.30it/s]\n",
      "person_related_objects_update: 100%|█████████████████████████████████████████| 182121/182121 [02:32<00:00, 1197.68it/s]\n",
      "organization_related_objects_update: 100%|██████████████████████████████████████| 15899/15899 [00:16<00:00, 975.83it/s]\n",
      "work_related_objects_update: 100%|█████████████████████████████████████████████| 19832/19832 [00:14<00:00, 1370.09it/s]\n",
      "resource_related_objects_update: 100%|█████████████████████████████████████████| 72740/72740 [00:52<00:00, 1394.72it/s]\n"
     ]
    },
    {
     "name": "stdout",
     "output_type": "stream",
     "text": [
      "The DBrefs of the relationships have been successfully updated to `related_XXX` fields!\n"
     ]
    }
   ],
   "source": [
    "#####\n",
    "# Clean the existing related_XXXX fields from 'AusStage'\n",
    "#####\n",
    "\n",
    "gen_manip.mdb_remove_fields(\n",
    "    acde_db,\n",
    "    \"relationship\",\n",
    "    {\"data_source\": \"AusStage\",},\n",
    "    remove_fields=list(acde_opr.Class_RelatedFN_mapping.values()),\n",
    ")\n",
    "\n",
    "#####\n",
    "# Update the original records with references\n",
    "# to the relationships of their related records using DBRefs.\n",
    "#####\n",
    "\n",
    "acde_opr.acde_update_related_DBRef(data_source=\"AusStage\", db=acde_db)"
   ]
  },
  {
   "cell_type": "code",
   "execution_count": 33,
   "id": "9b0e12f2-b765-4b06-b0f7-355dc38280ce",
   "metadata": {
    "execution": {
     "iopub.execute_input": "2023-05-07T21:37:43.809891Z",
     "iopub.status.busy": "2023-05-07T21:37:43.808893Z",
     "iopub.status.idle": "2023-05-07T22:06:36.634606Z",
     "shell.execute_reply": "2023-05-07T22:06:36.633627Z",
     "shell.execute_reply.started": "2023-05-07T21:37:43.809891Z"
    },
    "jupyter": {
     "source_hidden": true
    },
    "scrolled": true,
    "tags": []
   },
   "outputs": [
    {
     "name": "stderr",
     "output_type": "stream",
     "text": [
      "person_related_people: 100%|█████████████████████████████████████████████████████| 1876/1876 [00:01<00:00, 1197.99it/s]\n",
      "person_related_organizations: 100%|██████████████████████████████████████████████| 4345/4345 [00:03<00:00, 1411.78it/s]\n",
      "person_related_places: 100%|███████████████████████████████████████████████████████| 818/818 [00:00<00:00, 1125.11it/s]\n",
      "person_related_resources: 100%|████████████████████████████████████████████████| 10723/10723 [00:10<00:00, 1033.75it/s]\n",
      "person_related_works: 100%|██████████████████████████████████████████████████████| 8475/8475 [00:08<00:00, 1004.55it/s]\n",
      "person_related_events: 100%|██████████████████████████████████████████████████| 178206/178206 [03:04<00:00, 964.26it/s]\n",
      "organization_related_people: 100%|████████████████████████████████████████████████████| 63/63 [00:00<00:00, 150.39it/s]\n",
      "organization_related_organizations: 100%|███████████████████████████████████████████| 718/718 [00:00<00:00, 970.28it/s]\n"
     ]
    },
    {
     "name": "stdout",
     "output_type": "stream",
     "text": [
      "organization_related_places doesn't have any records.\n"
     ]
    },
    {
     "name": "stderr",
     "output_type": "stream",
     "text": [
      "organization_related_resources: 100%|███████████████████████████████████████████████| 141/141 [00:00<00:00, 190.07it/s]\n",
      "organization_related_works: 100%|██████████████████████████████████████████████████| 602/602 [00:00<00:00, 1012.90it/s]\n",
      "organization_related_events: 100%|██████████████████████████████████████████████| 15738/15738 [00:23<00:00, 661.89it/s]\n",
      "place_related_people: 100%|████████████████████████████████████████████████████████| 150/150 [00:00<00:00, 1114.33it/s]\n"
     ]
    },
    {
     "name": "stdout",
     "output_type": "stream",
     "text": [
      "place_related_organizations doesn't have any records.\n"
     ]
    },
    {
     "name": "stderr",
     "output_type": "stream",
     "text": [
      "place_related_places: 100%|██████████████████████████████████████████████████████| 1876/1876 [00:01<00:00, 1373.96it/s]\n",
      "place_related_resources: 100%|███████████████████████████████████████████████████| 1124/1124 [00:00<00:00, 1221.03it/s]\n"
     ]
    },
    {
     "name": "stdout",
     "output_type": "stream",
     "text": [
      "place_related_works doesn't have any records.\n"
     ]
    },
    {
     "name": "stderr",
     "output_type": "stream",
     "text": [
      "place_related_events: 100%|█████████████████████████████████████████████████████| 11223/11223 [00:13<00:00, 803.73it/s]\n",
      "resource_related_people: 100%|█████████████████████████████████████████████████| 47516/47516 [00:32<00:00, 1478.59it/s]\n",
      "resource_related_organizations: 100%|██████████████████████████████████████████| 19243/19243 [00:12<00:00, 1529.25it/s]\n",
      "resource_related_places: 100%|███████████████████████████████████████████████████| 3210/3210 [00:02<00:00, 1526.13it/s]\n",
      "resource_related_resources: 100%|██████████████████████████████████████████████| 54292/54292 [00:39<00:00, 1373.90it/s]\n",
      "resource_related_works: 100%|████████████████████████████████████████████████████| 1938/1938 [00:01<00:00, 1431.98it/s]\n",
      "resource_related_events: 100%|█████████████████████████████████████████████████████████| 61/61 [00:07<00:00,  8.38it/s]\n",
      "work_related_people: 100%|█████████████████████████████████████████████████████| 18441/18441 [00:12<00:00, 1453.99it/s]\n",
      "work_related_organizations: 100%|████████████████████████████████████████████████| 1108/1108 [00:00<00:00, 1503.40it/s]\n"
     ]
    },
    {
     "name": "stdout",
     "output_type": "stream",
     "text": [
      "work_related_places doesn't have any records.\n"
     ]
    },
    {
     "name": "stderr",
     "output_type": "stream",
     "text": [
      "work_related_resources: 100%|████████████████████████████████████████████████████| 1667/1667 [00:01<00:00, 1390.57it/s]\n",
      "work_related_works: 100%|██████████████████████████████████████████████████████████| 158/158 [00:00<00:00, 1287.95it/s]\n",
      "work_related_events: 100%|█████████████████████████████████████████████████████| 19369/19369 [00:15<00:00, 1248.45it/s]\n",
      "event_related_people: 100%|███████████████████████████████████████████████████| 105964/105964 [02:07<00:00, 828.75it/s]\n",
      "event_related_organizations: 100%|███████████████████████████████████████████| 107002/107002 [01:23<00:00, 1280.06it/s]\n",
      "event_related_places: 100%|██████████████████████████████████████████████████| 124745/124745 [01:28<00:00, 1413.19it/s]\n",
      "event_related_resources: 100%|███████████████████████████████████████████████| 114146/114146 [01:24<00:00, 1349.42it/s]\n",
      "event_related_works: 100%|█████████████████████████████████████████████████████| 57591/57591 [00:44<00:00, 1308.04it/s]\n",
      "event_related_events: 100%|██████████████████████████████████████████████████████| 7145/7145 [00:06<00:00, 1156.89it/s]"
     ]
    },
    {
     "name": "stdout",
     "output_type": "stream",
     "text": [
      "The lookup documents of DBRefs have been successfully updated to `related_XXX` fields!\n"
     ]
    },
    {
     "name": "stderr",
     "output_type": "stream",
     "text": [
      "\n"
     ]
    }
   ],
   "source": [
    "loading_colls = set(\n",
    "    coll for coll in acde_opr.Class_RelatedFN_mapping.keys() if coll != \"recognition\"\n",
    ")\n",
    "proj_cond = {\n",
    "    \"predicate\": 1,\n",
    "    \"subject\": 1,\n",
    "    \"object\": 1,\n",
    "    \"_id\": 0,\n",
    "    \"relationship_dbid\": \"$_id\",\n",
    "    \"relation_class\": 1,\n",
    "    \"data_source\": 1,\n",
    "}\n",
    "\n",
    "data_source = \"AusStage\"\n",
    "\n",
    "#####\n",
    "# Update the original records having relationship DBRefs with lookup documents.\n",
    "#####\n",
    "\n",
    "# # Method 1\n",
    "# mdb_manip.acde_add_related_objects(\n",
    "#     acde_db, data_source=\"AusStage\", loading_objs=list(loading_objs)\n",
    "# )\n",
    "\n",
    "# # Method 2\n",
    "acde_opr.acde_update_related_fields(\n",
    "    data_source=data_source,\n",
    "    proj_cond=proj_cond,\n",
    "    loading_colls=loading_colls,\n",
    "    db=acde_db,\n",
    ")"
   ]
  },
  {
   "cell_type": "markdown",
   "id": "3d0a9aa1-0295-4fd5-8dce-e78ec4e7729d",
   "metadata": {
    "execution": {
     "iopub.execute_input": "2022-03-21T13:44:15.997089Z",
     "iopub.status.busy": "2022-03-21T13:44:15.997089Z",
     "iopub.status.idle": "2022-03-21T13:44:16.027009Z",
     "shell.execute_reply": "2022-03-21T13:44:16.026012Z",
     "shell.execute_reply.started": "2022-03-21T13:44:15.997089Z"
    },
    "tags": []
   },
   "source": [
    "## Learning Notes"
   ]
  },
  {
   "cell_type": "markdown",
   "id": "6135f71f-3682-49e3-a14b-1ea2443a6aae",
   "metadata": {},
   "source": [
    "https://stackoverflow.com/questions/2952366/dump-csv-from-sqlalchemy\n",
    "\n",
    "https://stackoverflow.com/questions/7389759/memory-efficient-built-in-sqlalchemy-iterator-generator\n",
    "\n",
    "https://stackoverflow.com/questions/53480458/sqlalchemy-view-handling"
   ]
  }
 ],
 "metadata": {
  "kernelspec": {
   "display_name": "ACD_Engine",
   "language": "python",
   "name": "acd_engine"
  },
  "language_info": {
   "codemirror_mode": {
    "name": "ipython",
    "version": 3
   },
   "file_extension": ".py",
   "mimetype": "text/x-python",
   "name": "python",
   "nbconvert_exporter": "python",
   "pygments_lexer": "ipython3",
   "version": "3.9.13"
  }
 },
 "nbformat": 4,
 "nbformat_minor": 5
}
